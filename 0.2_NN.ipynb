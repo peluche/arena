{
 "cells": [
  {
   "cell_type": "markdown",
   "metadata": {},
   "source": [
    "dasdasdas"
   ]
  },
  {
   "cell_type": "code",
   "execution_count": null,
   "metadata": {},
   "outputs": [],
   "source": []
  },
  {
   "cell_type": "code",
   "execution_count": 1,
   "metadata": {},
   "outputs": [],
   "source": [
    "# %%\n",
    "import torch as t\n",
    "\n",
    "# Some nice preliminary functions for testing.\n",
    "\n",
    "def assert_with_expect(expected, actual):\n",
    "    assert expected == actual, f\"Expected: {expected} Actual: {actual}\"\n",
    "\n",
    "\n",
    "def assert_list_of_floats_within_epsilon(\n",
    "    expected: list[float], \n",
    "    actual: list[float],\n",
    "    eps=0.0001,\n",
    "):\n",
    "    if len(expected) != len(actual):\n",
    "        raise AssertionError(f\"Expected: {expected} Actual: {actual}\")\n",
    "    is_within_eps = True\n",
    "    for e, a in zip(expected, actual):\n",
    "        is_within_eps = is_within_eps and abs(e - a) < eps\n",
    "    if not is_within_eps:\n",
    "        raise AssertionError(f\"Expected: {expected} Actual: {actual}\")\n",
    "\n",
    "\n",
    "def assert_tensors_within_epsilon(\n",
    "    expected: t.Tensor,\n",
    "    actual: t.Tensor,\n",
    "    eps=0.001,\n",
    "):\n",
    "    if expected.shape != actual.shape:\n",
    "        raise AssertionError(f\"Shapes of tensors do not match! Expected: {expected.shape} Acutal: {actual.shape}\")\n",
    "    differences_within_epsilon = abs(expected - actual) < eps\n",
    "    if not differences_within_epsilon.all():\n",
    "        raise AssertionError(f\"Values of tensors do not match! Expected: {expected} Actual: {actual}\")\n",
    "\n",
    "\n",
    "# %%\n"
   ]
  },
  {
   "cell_type": "code",
   "execution_count": 2,
   "metadata": {},
   "outputs": [],
   "source": [
    "\n",
    "# We're going to begin by defining neural networks in a way that emphasizing\n",
    "# each individual neuron. This is very inefficient and impractical for any real\n",
    "# neural network (at least in Python). Also by thinking at the individual neuron\n",
    "# level, this obscures a lot of larger structures in a neural net that can\n",
    "# actually make it more difficult to understand what's going on at a high-level.\n",
    "#\n",
    "# Nonetheless, it's a reasonable starting point for understanding why we call a\n",
    "# neural net \"neural.\" We'll redo our neural net using matrices later in this\n",
    "# section to demonstrate how they're actually written \"in the wild.\"\n",
    "#\n",
    "# Let's begin by defining one of the simplest non-linear activation functions\n",
    "# out there. We'll need this as the last step of computation when defining what\n",
    "# a single neuron does.\n",
    "\n",
    "def relu(x: float) -> float:\n",
    "    \"\"\"\n",
    "    ReLU (rectified linear unit), one of the simplest non-linear activation\n",
    "    functions out there.\n",
    "    \"\"\"\n",
    "    return max(0, x)\n",
    "\n",
    "assert relu(5.0)\n"
   ]
  },
  {
   "cell_type": "code",
   "execution_count": 3,
   "metadata": {},
   "outputs": [],
   "source": [
    "\n",
    "# %%\n",
    "from dataclasses import dataclass\n",
    "\n",
    "# Now let's define a single neuron. If you want a reminder of how a single\n",
    "# neuron is structured, look at\n",
    "# https://github.com/changlinli/intro-to-technical-ai-safety-slides/blob/master/neural_nets/slides.md#a-single-neuron-also-called-node\n",
    "# (note that the diagram is a bit misleading w.r.t. bias, bias isn't always +1,\n",
    "# it can be + some other constant!).\n",
    "#\n",
    "# For now don't worry about using tensors to carry this out, normal Python\n",
    "# iteration is perfectly fine.\n",
    "\n",
    "@dataclass\n",
    "class Neuron:\n",
    "    \"\"\"\n",
    "\n",
    "    \"\"\"\n",
    "    weights: list[float]\n",
    "    bias: float\n",
    "\n",
    "    def compute_output(self, inputs: list[float]) -> float:\n",
    "        \"\"\"\n",
    "        Compute what the output of a single neuron should look like.\n",
    "        \"\"\"\n",
    "        assert len(inputs) == len(self.weights)\n",
    "        result = 0\n",
    "        for i, w in zip(inputs, self.weights):\n",
    "            result += i * w\n",
    "        return relu(result + self.bias)\n",
    "\n",
    "test_neuron = Neuron(weights=[1, 2], bias=0.5)\n",
    "assert_with_expect(actual=test_neuron.compute_output([2, 3]), expected=8.5)\n",
    "assert_with_expect(actual=test_neuron.compute_output([2, -2]), expected=0)\n"
   ]
  },
  {
   "cell_type": "code",
   "execution_count": 4,
   "metadata": {},
   "outputs": [],
   "source": [
    "# Now let's define a forward pass for a single layer of neurons. Note that every\n",
    "# neuron must have the same number of inputs (as determined by the number of\n",
    "# weights) and it must match the number of inputs coming into the layer.\n",
    "\n",
    "def forward_pass_single_layer(input: list[float], layer: list[Neuron]) -> list[float]:\n",
    "    for neuron in layer:\n",
    "        assert len(neuron.weights) == len(input)\n",
    "\n",
    "    return [neuron.compute_output(input) for neuron in layer]\n",
    "\n",
    "test_layer = [\n",
    "    Neuron(weights=[0.1, 0.2], bias=0.3),\n",
    "    Neuron(weights=[-0.15, 0.1], bias=-0.1),\n",
    "    Neuron(weights=[0.2, 0.1], bias=0.1),\n",
    "]\n",
    "assert_list_of_floats_within_epsilon(\n",
    "    actual=forward_pass_single_layer(input=[5.5, 1.2], layer=test_layer),\n",
    "    expected=[1.09, 0.0, 1.32],\n",
    ")\n"
   ]
  },
  {
   "cell_type": "code",
   "execution_count": 5,
   "metadata": {},
   "outputs": [],
   "source": [
    "# Now let's take `forward_pass_single_layer` and use it to perform a single\n",
    "# forward pass over an entire network with multiple layers.\n",
    "\n",
    "def forward_pass_network(initial_inputs: list[float], layers: list[list[Neuron]]) -> list[float]:\n",
    "    last_output = initial_inputs\n",
    "    for layer in layers:\n",
    "        last_output = forward_pass_single_layer(last_output, layer)\n",
    "    return last_output\n",
    "\n",
    "\n",
    "# The following is an example of a neural net that takes in three inputs and has\n",
    "# two outputs, and has three layers: 3 neurons, 2 neurons, and 2 neurons\n",
    "# Notice that:\n",
    "#   1. Because we take in two inputs, the first layer of neurons all have two weights\n",
    "#   2. Because there are three neurons that feed into the second layer, all the neurons of the second layer have three\n",
    "#      weights\n",
    "#   3. Because there are two neurons in the second layer, all the neurons of the third layer have two weights\n",
    "#   4. We have three inputs and two outputs because the first layer has three neurons and the last layer has two neurons\n",
    "demo_network: list[list[Neuron]] = \\\n",
    "    [\n",
    "        [\n",
    "            Neuron(weights=[0.1, 0.2], bias=0.3),\n",
    "            Neuron(weights=[-0.15, 0.1], bias=-0.1),\n",
    "            Neuron(weights=[0.2, 0.1], bias=0.1),\n",
    "        ],\n",
    "        [\n",
    "            Neuron(weights=[0.1, 0.2, 0.3], bias=0.3),\n",
    "            Neuron(weights=[-0.15, 0.1, 0.9], bias=-0.1),\n",
    "        ],\n",
    "        [\n",
    "            Neuron(weights=[0.1, 0.2], bias=0.3),\n",
    "            Neuron(weights=[-0.15, 0.1], bias=-0.1),\n",
    "        ],\n",
    "    ]\n",
    "\n",
    "\n",
    "assert_list_of_floats_within_epsilon(\n",
    "    expected=[0.342, 0.0],\n",
    "    actual=forward_pass_network([0.0, 1.0], demo_network),\n",
    ")"
   ]
  },
  {
   "cell_type": "code",
   "execution_count": 6,
   "metadata": {},
   "outputs": [],
   "source": [
    "# We could do backpropagation manually by writing out the chain rule by hand to\n",
    "# calculate each derivative. This is extremely tedious and no one does this. It\n",
    "# makes it extremely difficult to experiment with different neural nets because\n",
    "# we have to manually rederive all our derivatives each time.\n",
    "#\n",
    "# Instead ML practitioners always use some library that provides\n",
    "# autodifferentiation (also sometimes called autograd). In our case, that will\n",
    "# be PyTorch. Hence in the interests of time we'll skip writing out\n",
    "# backpropagation for our network here.\n",
    "#\n",
    "# You'll dive more into the internals of how backpropagation works when we\n",
    "# reimplement PyTorch's autodifferentiation feature.\n",
    "\n",
    "def backpropagation(network: list[list[Neuron]]):\n",
    "    raise NotImplementedError(\"This is too tedious to implement.\")\n"
   ]
  },
  {
   "cell_type": "code",
   "execution_count": 7,
   "metadata": {},
   "outputs": [],
   "source": [
    "import torch as t\n",
    "from jaxtyping import Float"
   ]
  },
  {
   "cell_type": "code",
   "execution_count": 8,
   "metadata": {},
   "outputs": [
    {
     "name": "stdout",
     "output_type": "stream",
     "text": [
      "x.grad=tensor([11.])\n"
     ]
    }
   ],
   "source": [
    "# Here's an example of using PyTorch to automatically calculate a derivative for\n",
    "# you. When we are manually creating tensors, we have to explicitly tell PyTorch\n",
    "# to remember we want to calculate the gradient for this tensor, so we should\n",
    "# pass in requires_grad=True. As we use PyTorch more and more, we'll see a lot\n",
    "# of library calls that will automatically take care of this for us.\n",
    "#\n",
    "# All of PyTorch's functions that work on tensors keep track of which operations\n",
    "# have performed on which tensors in what PyTorch calls a \"computational graph.\"\n",
    "# It is this computational graph that allows PyTorch to automatically calculate\n",
    "# derivatives for us.\n",
    "x = t.tensor([5.0], requires_grad=True)\n",
    "\n",
    "# Derivative here is 2x + 1, so that should be a derivative of 11 for x = 5\n",
    "y = x ** 2 + x\n",
    "\n",
    "# PyTorch's auto-differentiation facilities are based entirely around mutability\n",
    "# Make sure that you call `.backward()` before you look at the gradients!\n",
    "# Otherwise the gradients will not be set.\n",
    "#\n",
    "# Note that you call the `.backward()` method on your final derived value to get\n",
    "# the gradient/derivative of one of your input variables. That is, in order to\n",
    "# get the value of dy/dx for any y and x, you must call `.backward()` on `y` to\n",
    "# first calculate all the derivatives through the computational graph and then\n",
    "# `.grad` on `x`.\n",
    "y.backward()\n",
    "\n",
    "# x.grad is the numeral calculation of dy/dx at x = 5\n",
    "#\n",
    "# We see that the derivative is indeed 11 as we calculated by hand.\n",
    "print(f\"{x.grad=}\")"
   ]
  },
  {
   "cell_type": "code",
   "execution_count": 9,
   "metadata": {},
   "outputs": [],
   "source": [
    "a = t.tensor([5.0], requires_grad=True)\n",
    "\n",
    "b = t.tensor([3.0], requires_grad=True)\n",
    "\n",
    "c = a ** 2 + b ** 2"
   ]
  },
  {
   "cell_type": "code",
   "execution_count": 10,
   "metadata": {},
   "outputs": [],
   "source": [
    "# Let's move on to a multivariate case.  Use PyTorch to calculate what dc/da is\n",
    "# and what dc/db are.\n",
    "\n",
    "# Remember to first populate the gradients before calling .grad!\n",
    "c.backward()\n",
    "dc_da = a.grad\n",
    "\n",
    "assert_with_expect(expected=t.tensor(10.0), actual=dc_da)\n",
    "\n",
    "dc_db = b.grad\n",
    "\n",
    "assert_with_expect(expected=t.tensor(6.0), actual=dc_db)"
   ]
  },
  {
   "cell_type": "code",
   "execution_count": 11,
   "metadata": {},
   "outputs": [],
   "source": [
    "# Like almost everything else in PyTorch, autodifferentiation works with\n",
    "# multidimensional tensors as well, not just scalar values! Here's a way we\n",
    "# could calculate a and b \"at once\" in a single tensor.\n",
    "\n",
    "a_and_b = t.tensor([5.0, 3.0], requires_grad=True)\n",
    "\n",
    "c = (a_and_b ** 2).sum()"
   ]
  },
  {
   "cell_type": "code",
   "execution_count": 12,
   "metadata": {},
   "outputs": [],
   "source": [
    "# Use PyTorch to calculate again what dc/da and what dc/db are\n",
    "\n",
    "# TODO: Fill in the Nones!\n",
    "# Remember to first populate the gradients before calling .grad!\n",
    "c.backward()\n",
    "dc_da = a.grad\n",
    "\n",
    "dc_db = b.grad"
   ]
  },
  {
   "cell_type": "code",
   "execution_count": 13,
   "metadata": {},
   "outputs": [
    {
     "name": "stdout",
     "output_type": "stream",
     "text": [
      "some_input.grad=tensor([10.])\n"
     ]
    }
   ],
   "source": [
    "# If you construct different computational graphs that involve the same set of\n",
    "# input tensors and `.backward()` is called each time (so that each input tensor\n",
    "# has had the result of `.backward()` flow through multiple times), gradients\n",
    "# will \"accumulate.\" For our purposes this is usually undesirable.\n",
    "#\n",
    "# Let's go over what that means and how to avoid this.  First let's create\n",
    "# tensors as usual.\n",
    "\n",
    "some_input = t.tensor([1.0], requires_grad=True)\n",
    "\n",
    "some_output = 10 * some_input\n",
    "\n",
    "some_output.backward()\n",
    "\n",
    "# Normally because this is just y = 10 * x, we would expect the x's gradient to\n",
    "# be 10 at this point. And indeed it is.\n",
    "\n",
    "print(f\"{some_input.grad=}\")"
   ]
  },
  {
   "cell_type": "code",
   "execution_count": 14,
   "metadata": {},
   "outputs": [
    {
     "name": "stdout",
     "output_type": "stream",
     "text": [
      "PyTorch was smart enough to blow up and prevent us from going backward again with the following message:\n",
      "Trying to backward through the graph a second time (or directly access saved tensors after they have already been freed). Saved intermediate values of the graph are freed when you call .backward() or autograd.grad(). Specify retain_graph=True if you need to backward through the graph a second time or if you need to access saved tensors after calling backward.\n"
     ]
    }
   ],
   "source": [
    "# PyTorch is smart enough to warn us if we try to use backward again\n",
    "\n",
    "try:\n",
    "    some_output.backward()\n",
    "except RuntimeError as e:\n",
    "    print(f\"PyTorch was smart enough to blow up and prevent us from going backward again with the following message:\\n{str(e)}\")"
   ]
  },
  {
   "cell_type": "code",
   "execution_count": 15,
   "metadata": {},
   "outputs": [
    {
     "name": "stdout",
     "output_type": "stream",
     "text": [
      "some_input.grad=tensor([15.])\n"
     ]
    }
   ],
   "source": [
    "# But PyTorch doesn't warn us if we create a new output that reuses `some_input`\n",
    "# and instead will just keep adding more gradients to the pre-existing gradient.\n",
    "# This is known as \"accumulating gradients,\" and there are reasons you might\n",
    "# want to do this, but for our purposes, this is undesirable, as it will give us\n",
    "# the wrong derivatives/gradients.\n",
    "\n",
    "another_output = 5 * some_input\n",
    "\n",
    "another_output.backward()\n",
    "\n",
    "# Note that we've added two derivatives together, 10 + 5, which is not the\n",
    "# correct derivative for y = 10 * x or y = 5 * x!\n",
    "assert some_input.grad == 15\n",
    "\n",
    "print(f\"{some_input.grad=}\")"
   ]
  },
  {
   "cell_type": "code",
   "execution_count": 16,
   "metadata": {},
   "outputs": [],
   "source": [
    "# Because PyTorch will either throw an error on a given backwards call, or it'll\n",
    "# accumulate gradients when you potentially don't want that to happen, we\n",
    "# generally will want to reset gradients between calls to backward(). The\n",
    "# easiest way to do this is to set `.grad = None`. We'll see later how to do\n",
    "# this in a less manual fashion.\n",
    "\n",
    "some_input.grad = None\n",
    "\n",
    "yet_another_output = 5 * some_input\n",
    "\n",
    "yet_another_output.backward()\n",
    "\n",
    "# This time we get the correct gradient!\n",
    "assert some_input.grad == 5"
   ]
  },
  {
   "cell_type": "code",
   "execution_count": 17,
   "metadata": {},
   "outputs": [
    {
     "name": "stdout",
     "output_type": "stream",
     "text": [
      "Yep we still get the following error message:\n",
      "Trying to backward through the graph a second time (or directly access saved tensors after they have already been freed). Saved intermediate values of the graph are freed when you call .backward() or autograd.grad(). Specify retain_graph=True if you need to backward through the graph a second time or if you need to access saved tensors after calling backward.\n"
     ]
    }
   ],
   "source": [
    "# Note that even after resetting a gradient, we still can't call backward again\n",
    "# on the same output. This has to do with the details of how PyTorch\n",
    "# automatically calculates derivatives. The exact details of why this is the\n",
    "# case are irrelevant at the moment (although they may become more apparent when\n",
    "# we implement backpropagation ourselves), but feel free to ask if you're\n",
    "# curious.\n",
    "\n",
    "some_input.grad = None\n",
    "\n",
    "try:\n",
    "    yet_another_output.backward()\n",
    "except RuntimeError as e:\n",
    "    print(f\"Yep we still get the following error message:\\n{str(e)}\")"
   ]
  },
  {
   "cell_type": "markdown",
   "metadata": {},
   "source": [
    "$f(x_i, y_i) = \\sum_{0 <= i < 1000} x_i^2 + y_i^2$"
   ]
  },
  {
   "cell_type": "code",
   "execution_count": 18,
   "metadata": {},
   "outputs": [
    {
     "name": "stdout",
     "output_type": "stream",
     "text": [
      "x_squared_plus_y_squared_plus_5_thousand_times()=(array([[0.8133402 , 0.22301692],\n",
      "       [0.8475523 , 0.20381773],\n",
      "       [0.24807501, 0.44264805],\n",
      "       ...,\n",
      "       [0.72813517, 0.64940244],\n",
      "       [0.95433706, 0.32165545],\n",
      "       [0.8630367 , 0.20503366]], dtype=float32), array([[1.6266804 , 0.44603384],\n",
      "       [1.6951046 , 0.40763545],\n",
      "       [0.49615002, 0.8852961 ],\n",
      "       ...,\n",
      "       [1.4562703 , 1.2988049 ],\n",
      "       [1.9086741 , 0.6433109 ],\n",
      "       [1.7260734 , 0.41006732]], dtype=float32))\n"
     ]
    }
   ],
   "source": [
    "# Let's drive home the notion that PyTorch's autodifferentiation handles\n",
    "# multidimensional tensors just fine, since this will often show up. We'll have\n",
    "# PyTorch calculate 2000 derivatives at once (i.e. calculate a single gradient\n",
    "# consisting of 2000 components)!\n",
    "\n",
    "import numpy as np\n",
    "\n",
    "def generate_one_thousand_points() -> Float[t.Tensor, \"1000 2\"]:\n",
    "    return t.rand(1000, 2, requires_grad=True)\n",
    "\n",
    "\n",
    "assert generate_one_thousand_points().requires_grad\n",
    "\n",
    "# Using `generate_one_thousand_points`, call $f(x_i, y_i) = \\sum_{0 <= i < 1000} x_i^2 + y_i^2$, (notice that\n",
    "# the thousand points are all (x, y) pairs because the second dimension is 2).\n",
    "\n",
    "def x_squared_plus_y_squared_plus_5_thousand_times() -> tuple[np.ndarray, np.ndarray]:\n",
    "    \"\"\"\n",
    "    Usually a Tensor will contain both its value and its gradient, here we want\n",
    "    you to manually separate the two and return them as NumPy arrays (which do\n",
    "    not have gradients built int).\n",
    "\n",
    "    We will calculate this for the function $f(x_i, y_i) = \\sum_{0 <= i < 1000} x_i^2 + y_i^2$\n",
    "\n",
    "    So the first element of this tuple should be a 1000x2 NumPy array containing\n",
    "    just the original points created from `generate_one_thousand_points()` and\n",
    "    the second element should be a 1000x2 NumPy array containing the associated\n",
    "    gradient.\n",
    "\n",
    "    Note to turn a PyTorch tensor into a NumPy array, call the .detach().numpy() method\n",
    "    on a tensor.\n",
    "    \"\"\"\n",
    "    points = generate_one_thousand_points()\n",
    "    x = points.pow(2).sum()\n",
    "    x.backward()\n",
    "    return points.detach().numpy(), points.grad.detach().numpy()\n",
    "\n",
    "print(f\"{x_squared_plus_y_squared_plus_5_thousand_times()=}\")"
   ]
  },
  {
   "cell_type": "code",
   "execution_count": 19,
   "metadata": {},
   "outputs": [],
   "source": [
    "import einops\n",
    "\n",
    "# Recall that a higher-level way of thinking about a neural layer net is that it\n",
    "# is a general linear function with an added constant, followed by a non-linear\n",
    "# function. Let's begin by implementing application of a linear function.\n",
    "# Remember that a function from a vector space of dimension n to a vector space\n",
    "# of dimension m can be implemented as an m x n matrix.\n",
    "#\n",
    "# There is a major benefit in implementing a neural net layer this way: an\n",
    "# entire batch of inputs can be processed simultaneously! Instead of passing in\n",
    "# a single vector of size d_input, we're going to pass in a whole block of them\n",
    "# at once, in the form of a batch x d_input tensor.\n",
    "#\n",
    "# You should be able to write in this one or two lines without any iteration.\n",
    "# You can either use einops.einsum or you can use built-in PyTorch methods.\n",
    "\n",
    "def apply_linear_function_to_input(\n",
    "    linear_function: Float[t.Tensor, \"d_output d_input\"],\n",
    "    input_to_function: Float[t.Tensor, \"batch d_input\"],\n",
    ") -> Float[t.Tensor, \"batch d_output\"]:\n",
    "\n",
    "\n",
    "    # return input_to_function @ linear_function.T\n",
    "    # return torch.matmul(input_to_function, linear_function.T)\n",
    "    return einops.einsum(linear_function, input_to_function, \"d_output d_input, batch d_input -> batch d_output\")\n",
    "\n",
    "# 3x2 matrix, i.e. f: R^2 -> R^3\n",
    "test_linear_function = t.tensor(\n",
    "    [\n",
    "        [1.0, 2.0],\n",
    "        [3.0, 4.0],\n",
    "        [5.0, 6.0],\n",
    "    ]\n",
    ")\n",
    "# A batch size of 4 vectors all combined together\n",
    "test_input = t.tensor(\n",
    "    [\n",
    "        [0.5, 0.6],\n",
    "        [0.3, 0.4],\n",
    "        [-2.0, -9.0],\n",
    "        [-8.0, 1.0],\n",
    "    ]\n",
    ")\n",
    "test_output = apply_linear_function_to_input(linear_function=test_linear_function, input_to_function=test_input)\n",
    "expected_output = t.tensor(\n",
    "    [\n",
    "        [1.7, 3.9, 6.1],\n",
    "        [1.1, 2.5, 3.9],\n",
    "        [-20, -42, -64],\n",
    "        [-6, -20, -34]\n",
    "    ]\n",
    ")\n",
    "\n",
    "assert_tensors_within_epsilon(\n",
    "    expected=expected_output,\n",
    "    actual=test_output,\n",
    ")"
   ]
  },
  {
   "cell_type": "code",
   "execution_count": 20,
   "metadata": {},
   "outputs": [
    {
     "name": "stdout",
     "output_type": "stream",
     "text": [
      "example_input.grad=tensor([[24.0254, 24.0062]])\n"
     ]
    }
   ],
   "source": [
    "# And as we expect, gradients flow through automatically.\n",
    "example_input = t.rand((1, 2), requires_grad=True)\n",
    "example_result = apply_linear_function_to_input(example_input, t.rand((50, 2))).sum()\n",
    "example_result.backward()\n",
    "print(f\"{example_input.grad=}\")"
   ]
  },
  {
   "cell_type": "code",
   "execution_count": 21,
   "metadata": {},
   "outputs": [],
   "source": [
    "# Putting this together, we can create a three layer neural net consisting of\n",
    "# six tensors, instead of needing to create each neuron individually.\n",
    "\n",
    "@dataclass\n",
    "class ThreeLayerNeuralNet:\n",
    "    layer_0: Float[t.Tensor, \"d_output_0 d_input\"]\n",
    "    layer_0_bias: Float[t.Tensor, \"d_output_0\"]\n",
    "    layer_1: Float[t.Tensor, \"d_output_1 d_output_0\"]\n",
    "    layer_1_bias: Float[t.Tensor, \"d_output_1\"]\n",
    "    layer_2: Float[t.Tensor, \"d_output_2 d_output_1\"]\n",
    "    layer_2_bias: Float[t.Tensor, \"d_output_2\"]\n",
    "\n",
    "# Now that we have the class structure, let's create a way of actually\n",
    "# initializing the neural net.\n",
    "#\n",
    "# Ultimately we're going to be creating a neural net to recognize handwritten\n",
    "# digits, so it'll have an output of 10 digits.\n",
    "#\n",
    "# In our case we're going to create a very specific neural net. It's going to be\n",
    "# a series of layers going from an input of dimension 784 to 2000 to 400 and\n",
    "# finally to 10. That is:\n",
    "#\n",
    "# + d_input = 784\n",
    "# + d_output_0 = 2000\n",
    "# + d_output_1 = 400\n",
    "# + d_output_2 = 10\n",
    "#\n",
    "# 784 is because our images are of size 28x28. The intermediate dimensions of\n",
    "# 2000 and 400 in our hidden layers are chosen more or less arbitrarily. We'll\n",
    "# see some rules of thumb for sizing these layers later.\n",
    "#\n",
    "# Let's go ahead and implement that! We've provided the first\n",
    "# few lines of this, fill in the rest (making sure to call\n",
    "# ``.uniform_(-initial_bound, initial_bound`)).\n",
    "def initialize_new_three_layer_net() -> ThreeLayerNeuralNet:\n",
    "    \"\"\"\n",
    "    Initialize our \n",
    "    \"\"\"\n",
    "    # Since we have ReLU that clamps values to 0, having an initial set of\n",
    "    # weights that are all 0 can sometimes cause gradients to be stuck at 0 and\n",
    "    # never move. So we generally want to inject a little bit of randomness when\n",
    "    # initializing and move weights just a little bit away from 0.\n",
    "    #\n",
    "    # We also can't have these bounds be too big! Otherwise again ReLU may bite\n",
    "    # us and clamp us down to 0 if there's a sign change somewhere.\n",
    "    #\n",
    "    # This particular bound was chosen semi-randomly (I kind of pulled it out of\n",
    "    # a hat and verified that it worked). You'll see later a slightly more\n",
    "    # principled/standard way of choosing this bound.\n",
    "    initial_bound = 1 / 20\n",
    "    with t.no_grad():\n",
    "        neural_net = ThreeLayerNeuralNet(\n",
    "            # We're going to use usual matrix order of dimensions here That is\n",
    "            # for a matrix mxn, that means we have n-dimensional input and\n",
    "            # m-dimensional output, so likewise here (300, 784) means\n",
    "            # 784-dimensional input and 300-dimensional output\n",
    "            layer_0 = t.zeros((2000, 784), requires_grad=True).uniform_(-initial_bound, initial_bound),\n",
    "            layer_0_bias = t.zeros(2000, requires_grad=True).uniform_(-initial_bound, initial_bound),\n",
    "            # TODO: Finish implementing \n",
    "            layer_1 = t.zeros((400, 2000), requires_grad=True).uniform_(-initial_bound, initial_bound),\n",
    "            layer_1_bias = t.zeros(400, requires_grad=True).uniform_(-initial_bound, initial_bound),\n",
    "            layer_2 = t.zeros((10, 400), requires_grad=True).uniform_(-initial_bound, initial_bound),\n",
    "            layer_2_bias = t.zeros(10, requires_grad=True).uniform_(-initial_bound, initial_bound),\n",
    "        )\n",
    "        return neural_net\n",
    "\n",
    "\n",
    "new_neural_net = initialize_new_three_layer_net()\n",
    "\n",
    "assert_with_expect(\n",
    "    expected=(400, 2000),\n",
    "    actual=new_neural_net.layer_1.shape,\n",
    ")\n",
    "assert_with_expect(\n",
    "    expected=(10, 400),\n",
    "    actual=new_neural_net.layer_2.shape,\n",
    ")"
   ]
  },
  {
   "cell_type": "code",
   "execution_count": 22,
   "metadata": {},
   "outputs": [],
   "source": [
    "# We'll need a version of ReLU that works with tensors of arbitrary size. Let's implement that:\n",
    "\n",
    "def tensor_relu(input_tensor: t.Tensor) -> t.Tensor:\n",
    "    return t.max(t.zeros_like(input_tensor), input_tensor)\n",
    "\n",
    "test_input = t.tensor([\n",
    "    [1.0, 2.0, -3.0],\n",
    "    [4.0, -5.0, 6.0],\n",
    "])\n",
    "assert_tensors_within_epsilon(\n",
    "    expected=t.tensor([\n",
    "        [1.0, 2.0, 0.0],\n",
    "        [4.0, 0.0, 6.0],\n",
    "    ]),\n",
    "    actual=tensor_relu(test_input)\n",
    ")"
   ]
  },
  {
   "cell_type": "code",
   "execution_count": 23,
   "metadata": {},
   "outputs": [],
   "source": [
    "# Now let's define a version of `forward` that works with tensors. Again, our\n",
    "# input tensor is a whole batch of inputs, not just a single input!\n",
    "#\n",
    "# Our last layer will use a softmax, which is a function that normalizes a\n",
    "# vector to be between 0 and 1 and to sum to 1. This helps with stability in\n",
    "# training and lets us interpret each of the 10 components in our output as a\n",
    "# probability. You can read\n",
    "# https://pytorch.org/docs/stable/generated/torch.nn.functional.softmax.html for\n",
    "# more details.\n",
    "\n",
    "def forward(x: Float[t.Tensor, \"batch d_input\"], neural_net: ThreeLayerNeuralNet) -> Float[t.Tensor, \"batch d_output\"]:\n",
    "    # TODO: Fill in the first two layers of this!\n",
    "    after_layer_0 = tensor_relu(apply_linear_function_to_input(neural_net.layer_0, x) + neural_net.layer_0_bias)\n",
    "    after_layer_1 = tensor_relu(apply_linear_function_to_input(neural_net.layer_1, after_layer_0) + neural_net.layer_1_bias)\n",
    "    # Instead of doing a ReLU at the very end, we're going to use softmax\n",
    "    after_layer_2 = t.nn.functional.softmax(apply_linear_function_to_input(neural_net.layer_2, after_layer_1) + neural_net.layer_2_bias, dim=-1)\n",
    "    return after_layer_2"
   ]
  },
  {
   "cell_type": "code",
   "execution_count": 24,
   "metadata": {},
   "outputs": [
    {
     "name": "stdout",
     "output_type": "stream",
     "text": [
      "example_output=tensor([[0.0599, 0.1268, 0.1218, 0.0942, 0.0766, 0.1146, 0.0906, 0.0907, 0.0942,\n",
      "         0.1306],\n",
      "        [0.0599, 0.1268, 0.1218, 0.0942, 0.0766, 0.1146, 0.0906, 0.0907, 0.0942,\n",
      "         0.1306],\n",
      "        [0.0599, 0.1268, 0.1218, 0.0942, 0.0766, 0.1146, 0.0906, 0.0907, 0.0942,\n",
      "         0.1306],\n",
      "        [0.0599, 0.1268, 0.1218, 0.0942, 0.0766, 0.1146, 0.0906, 0.0907, 0.0942,\n",
      "         0.1306],\n",
      "        [0.0599, 0.1268, 0.1218, 0.0942, 0.0766, 0.1146, 0.0906, 0.0907, 0.0942,\n",
      "         0.1306],\n",
      "        [0.0599, 0.1268, 0.1218, 0.0942, 0.0766, 0.1146, 0.0906, 0.0907, 0.0942,\n",
      "         0.1306],\n",
      "        [0.0599, 0.1268, 0.1218, 0.0942, 0.0766, 0.1146, 0.0906, 0.0907, 0.0942,\n",
      "         0.1306],\n",
      "        [0.0599, 0.1268, 0.1218, 0.0942, 0.0766, 0.1146, 0.0906, 0.0907, 0.0942,\n",
      "         0.1306],\n",
      "        [0.0599, 0.1268, 0.1218, 0.0942, 0.0766, 0.1146, 0.0906, 0.0907, 0.0942,\n",
      "         0.1306],\n",
      "        [0.0599, 0.1268, 0.1218, 0.0942, 0.0766, 0.1146, 0.0906, 0.0907, 0.0942,\n",
      "         0.1306]], grad_fn=<SoftmaxBackward0>)\n"
     ]
    }
   ],
   "source": [
    "example_output = forward(neural_net=new_neural_net, x=t.ones((10, 784)))\n",
    "\n",
    "print(f\"{example_output=}\")"
   ]
  },
  {
   "cell_type": "code",
   "execution_count": 25,
   "metadata": {},
   "outputs": [
    {
     "name": "stdout",
     "output_type": "stream",
     "text": [
      "Weren't able to calculate a gradient because of:\n",
      "grad can be implicitly created only for scalar outputs\n"
     ]
    }
   ],
   "source": [
    "# Note that generally speaking we'll mainly be using scalar (i.e. 0-dimensional\n",
    "# tensor) outputs that we call .backward() on. This is not too much of a\n",
    "# limitation because almost always a loss function will output a scalar. There\n",
    "# are ways to deal with non-scalar outputs, but it's irrelevant to us at the\n",
    "# moment and for now we'll just point out that trying to do so will cause an\n",
    "# error.\n",
    "try:\n",
    "    # example_output is not a scalar!\n",
    "    example_output.backward()\n",
    "except RuntimeError as e:\n",
    "    print(f\"Weren't able to calculate a gradient because of:\\n{str(e)}\")"
   ]
  },
  {
   "cell_type": "code",
   "execution_count": 26,
   "metadata": {},
   "outputs": [],
   "source": [
    "# Notice now that we've turned example_output into a scalar, our call to\n",
    "# .backward() proceeds with no problem!\n",
    "example_scalar = example_output.sum()\n",
    "\n",
    "example_scalar.backward()"
   ]
  },
  {
   "cell_type": "code",
   "execution_count": 27,
   "metadata": {},
   "outputs": [
    {
     "name": "stdout",
     "output_type": "stream",
     "text": [
      "new_neural_net.layer_0=tensor([[-3.4195e-02, -2.0955e-03, -1.9669e-02,  ..., -4.5090e-02,\n",
      "         -4.3286e-03, -2.2835e-03],\n",
      "        [ 4.5731e-02,  3.2048e-02, -2.1975e-02,  ...,  1.3081e-02,\n",
      "          8.6193e-03, -4.7883e-02],\n",
      "        [ 3.4757e-02, -1.4385e-02, -1.7771e-02,  ..., -2.6624e-02,\n",
      "         -1.9181e-02, -5.1625e-05],\n",
      "        ...,\n",
      "        [ 4.6987e-02, -4.7506e-02, -2.8206e-02,  ...,  2.4894e-02,\n",
      "          4.3059e-02, -4.2805e-02],\n",
      "        [ 4.0471e-02, -1.6918e-03, -2.9829e-02,  ..., -3.0382e-02,\n",
      "         -2.8120e-02, -1.4687e-02],\n",
      "        [ 1.5866e-02,  3.1123e-02,  3.2594e-02,  ..., -1.3902e-02,\n",
      "         -5.6422e-03, -1.5430e-02]], requires_grad=True)\n",
      "new_neural_net.layer_0.grad=tensor([[ 3.5596e-11,  3.5596e-11,  3.5596e-11,  ...,  3.5596e-11,\n",
      "          3.5596e-11,  3.5596e-11],\n",
      "        [-1.9340e-10, -1.9340e-10, -1.9340e-10,  ..., -1.9340e-10,\n",
      "         -1.9340e-10, -1.9340e-10],\n",
      "        [ 6.4889e-10,  6.4889e-10,  6.4889e-10,  ...,  6.4889e-10,\n",
      "          6.4889e-10,  6.4889e-10],\n",
      "        ...,\n",
      "        [-3.0170e-11, -3.0170e-11, -3.0170e-11,  ..., -3.0170e-11,\n",
      "         -3.0170e-11, -3.0170e-11],\n",
      "        [-3.2864e-09, -3.2864e-09, -3.2864e-09,  ..., -3.2864e-09,\n",
      "         -3.2864e-09, -3.2864e-09],\n",
      "        [ 0.0000e+00,  0.0000e+00,  0.0000e+00,  ...,  0.0000e+00,\n",
      "          0.0000e+00,  0.0000e+00]])\n"
     ]
    }
   ],
   "source": [
    "# And we can calculate the gradient of one of our neural net layers relative to\n",
    "# this scalar!\n",
    "\n",
    "print(f\"{new_neural_net.layer_0=}\")\n",
    "print(f\"{new_neural_net.layer_0.grad=}\")"
   ]
  },
  {
   "cell_type": "code",
   "execution_count": 28,
   "metadata": {},
   "outputs": [],
   "source": [
    "# We'll need a few more pieces to actually be able to train our neural net.\n",
    "# \n",
    "# Remember how we mentioned that we need to make sure we reset gradients to\n",
    "# prevent gradient accumulation? Let's do that now.\n",
    "\n",
    "def zero_all_gradients(neural_net: ThreeLayerNeuralNet) -> None:\n",
    "    neural_net.layer_0.grad = None\n",
    "    neural_net.layer_0_bias.grad = None\n",
    "    # TODO: Finish implementing this for all the other layers in our neural net\n",
    "    neural_net.layer_1.grad = None\n",
    "    neural_net.layer_1_bias.grad = None\n",
    "    neural_net.layer_2.grad = None\n",
    "    neural_net.layer_2_bias.grad = None\n",
    "\n",
    "# Now let's implement the simplest loss function out there, the mean squared\n",
    "# error: https://en.wikipedia.org/wiki/Mean_squared_error. This consists of\n",
    "# squaring the difference between every component of the two tensors and taking\n",
    "# their mean.\n",
    "\n",
    "def loss_function(\n",
    "    expected_outputs: Float[t.Tensor, \"batch d_output\"],\n",
    "    actual_outputs: Float[t.Tensor, \"batch d_output\"],\n",
    ") -> Float[t.Tensor, \"\"]:\n",
    "    return (expected_outputs - actual_outputs).pow(2).mean()\n",
    "\n",
    "\n",
    "# Now we can use derivatives/gradients to iteratively nudge an input tensor\n",
    "# towards a minimum with respect to a loss!\n",
    "\n",
    "def nudge_tensor_towards_minimum(x: t.Tensor, learning_rate: float) -> None:\n",
    "    # We need to do t.no_grad() here because we will be directly modifying x\n",
    "    # using x's gradients and we don't want to recompute x's gradients, since\n",
    "    # the only thing that should affect x's gradients is the loss function, not\n",
    "    # our adjustment to x.\n",
    "    with t.no_grad():\n",
    "        # TODO: Implement this\n",
    "        # TODO TO FIX\n",
    "        # x.values = x - x.grad * learning_rate\n",
    "        x -= x.grad * learning_rate\n",
    "\n",
    "# Finally we put all this together in a function that performs one iteration of\n",
    "# tuning the weights of neural nets in training.\n",
    "#\n",
    "# This function will do the following steps:\n",
    "#\n",
    "# 1. Zero all our gradients (using `zero_all_gradients``)\n",
    "# 2. Calculate the outputs our neural net produces (using `forward`)\n",
    "# 3. Compare those outputs against `expected_outputs` to calculate our loss\n",
    "#    using `loss_function`\n",
    "# 4. Adjust our neural net weights\n",
    "#\n",
    "# Reminder: remember to call `.backward()` on the appropriate function!\n",
    "#\n",
    "# This function is hard to write good test cases for, so before you proceed,\n",
    "# take a look at the solutions and make sure that your implementation is\n",
    "# equivalent (as well as the implementations of `forward`, `loss_function` and\n",
    "# `nudge_tensor_towards_minimum`!\n",
    "\n",
    "def tune_weights_once(\n",
    "    neural_net: ThreeLayerNeuralNet,\n",
    "    inputs: Float[t.Tensor, \"batch d_input\"],\n",
    "    expected_outputs: Float[t.Tensor, \"batch d_output\"], \n",
    "    learning_rate: float,\n",
    ") -> None:\n",
    "    zero_all_gradients(neural_net)\n",
    "    # TODO: Fill in the rest\n",
    "    output = forward(neural_net=neural_net, x=inputs)\n",
    "    loss = loss_function(expected_outputs, output)\n",
    "    loss.backward()\n",
    "    nudge_tensor_towards_minimum(neural_net.layer_0, learning_rate)\n",
    "    nudge_tensor_towards_minimum(neural_net.layer_0_bias, learning_rate)\n",
    "    nudge_tensor_towards_minimum(neural_net.layer_1, learning_rate)\n",
    "    nudge_tensor_towards_minimum(neural_net.layer_1_bias, learning_rate)\n",
    "    nudge_tensor_towards_minimum(neural_net.layer_2, learning_rate)\n",
    "    nudge_tensor_towards_minimum(neural_net.layer_2_bias, learning_rate)"
   ]
  },
  {
   "cell_type": "code",
   "execution_count": 29,
   "metadata": {},
   "outputs": [],
   "source": [
    "# Now we can actually train our neural net!\n",
    "\n",
    "from tqdm import tqdm\n",
    "\n",
    "def train(\n",
    "    neural_net: ThreeLayerNeuralNet,\n",
    "    inputs: t.Tensor,\n",
    "    expected_outputs: t.Tensor,\n",
    "    learning_rate: float,\n",
    "    number_of_iterations: int,\n",
    ") -> None:\n",
    "    print(f\"Initial loss was {loss_function(expected_outputs=expected_outputs, actual_outputs=forward(x=inputs, neural_net=neural_net))}\")\n",
    "    for _ in tqdm(range(number_of_iterations)):\n",
    "        tune_weights_once(neural_net, inputs, expected_outputs, learning_rate)\n",
    "    print(f\"Final loss was {loss_function(expected_outputs=expected_outputs, actual_outputs=forward(x=inputs, neural_net=neural_net))}\")"
   ]
  },
  {
   "cell_type": "code",
   "execution_count": 30,
   "metadata": {},
   "outputs": [],
   "source": [
    "import matplotlib.pyplot as plt\n",
    "from torchvision.datasets import MNIST\n",
    "from torchvision.transforms import ToTensor"
   ]
  },
  {
   "cell_type": "code",
   "execution_count": 31,
   "metadata": {},
   "outputs": [],
   "source": [
    "dataset = MNIST(root=\"data\", download=True, transform=ToTensor())"
   ]
  },
  {
   "cell_type": "code",
   "execution_count": 32,
   "metadata": {},
   "outputs": [
    {
     "name": "stdout",
     "output_type": "stream",
     "text": [
      "This image is meant to express this numeral: 5\n"
     ]
    },
    {
     "data": {
      "text/plain": [
       "<matplotlib.image.AxesImage at 0x15b4a8b0550>"
      ]
     },
     "execution_count": 32,
     "metadata": {},
     "output_type": "execute_result"
    },
    {
     "data": {
      "image/png": "[encoded data removed]",
      "text/plain": [
       "<Figure size 640x480 with 1 Axes>"
      ]
     },
     "metadata": {},
     "output_type": "display_data"
    }
   ],
   "source": [
    "img, label = dataset[0]\n",
    "\n",
    "print(f\"This image is meant to express this numeral: {label}\")\n",
    "plt.imshow(img.squeeze())"
   ]
  },
  {
   "cell_type": "code",
   "execution_count": 33,
   "metadata": {},
   "outputs": [],
   "source": [
    "# Before we can run training, there's one last thing we have to do: our images\n",
    "# come labeled with what digit they're supposed to represent, but that's a\n",
    "# single number, whereas our neural net outputs 10 components.\n",
    "#\n",
    "# That means we have to translate a number into a 10-component vector. E.g. if 2\n",
    "# is the correct answer, the ideal answer from our neural net would be [0, 0, 1,\n",
    "# 0, 0, 0, 0, 0, 0, 0].\n",
    "#\n",
    "# Doing this translation is called a \"one-hot encoding.\" Let's implement it!\n",
    "\n",
    "def one_hot_encoding(i: int, num_classes: int) -> t.Tensor:\n",
    "    label = t.zeros([num_classes])\n",
    "    label[i] = 1\n",
    "    # F.one_hot(i, num_classes)\n",
    "    return label\n",
    "\n",
    "assert_tensors_within_epsilon(\n",
    "    expected=t.tensor([0, 0, 1, 0, 0, 0, 0, 0, 0, 0]),\n",
    "    actual=one_hot_encoding(2, 10),\n",
    ")"
   ]
  },
  {
   "cell_type": "code",
   "execution_count": 34,
   "metadata": {},
   "outputs": [],
   "source": [
    "# We also need to flatten an image down to a flat vector to make it suitable for\n",
    "# our neural net to ingest.\n",
    "\n",
    "def make_img_1d(imgs: t.Tensor) -> t.Tensor:\n",
    "    return einops.rearrange(imgs, '... h w -> ... (h w)')"
   ]
  },
  {
   "cell_type": "code",
   "execution_count": 35,
   "metadata": {},
   "outputs": [],
   "source": [
    "# This is an inefficient way of getting data from a dataset. We'll see later how\n",
    "# to do this more efficiently, but for now this suffices to demonstrate the\n",
    "# logic of how we're using our one-hot encoding and 1d flattening.\n",
    "\n",
    "training_imgs = []\n",
    "expected_outputs_in_training = []\n",
    "non_training_imgs = []\n",
    "expected_outputs_in_non_training = []\n",
    "counter = 0\n",
    "total_imgs = 2000\n",
    "num_of_training_imgs = 1000\n",
    "for img, label in dataset:\n",
    "    if counter >= total_imgs:\n",
    "        break\n",
    "    if counter < num_of_training_imgs:\n",
    "        training_imgs.append(make_img_1d(img).squeeze())\n",
    "        expected_outputs_in_training.append(one_hot_encoding(label, num_classes=10))\n",
    "    else:\n",
    "        non_training_imgs.append(make_img_1d(img).squeeze())\n",
    "        expected_outputs_in_non_training.append(one_hot_encoding(label, num_classes=10))\n",
    "    counter += 1\n",
    "\n",
    "training_imgs = t.stack(training_imgs)\n",
    "expected_outputs_in_training = t.stack(expected_outputs_in_training)"
   ]
  },
  {
   "cell_type": "code",
   "execution_count": 36,
   "metadata": {},
   "outputs": [
    {
     "name": "stdout",
     "output_type": "stream",
     "text": [
      "training_imgs.shape=torch.Size([1000, 784])\n"
     ]
    }
   ],
   "source": [
    "print(f\"{training_imgs.shape=}\")"
   ]
  },
  {
   "cell_type": "code",
   "execution_count": 37,
   "metadata": {},
   "outputs": [
    {
     "name": "stdout",
     "output_type": "stream",
     "text": [
      "Expected label: 0\n",
      "Model guessed this was: 9\n"
     ]
    },
    {
     "data": {
      "image/png": "[encoded data removed]",
      "text/plain": [
       "<Figure size 640x480 with 1 Axes>"
      ]
     },
     "metadata": {},
     "output_type": "display_data"
    }
   ],
   "source": [
    "# Our neural net starts out with garbage predictions.\n",
    "\n",
    "non_training_img_idx = 0\n",
    "img_outside_of_training_dataset = non_training_imgs[non_training_img_idx]\n",
    "label = expected_outputs_in_non_training[non_training_img_idx].argmax()\n",
    "\n",
    "print(f\"Expected label: {label}\")\n",
    "plt.imshow(einops.rearrange(img_outside_of_training_dataset, '(h w) -> h w', h=28))\n",
    "\n",
    "model_all_guesses = forward(neural_net=new_neural_net, x=img_outside_of_training_dataset.unsqueeze(dim=0))\n",
    "model_guess_highest_prob = forward(neural_net=new_neural_net, x=img_outside_of_training_dataset.unsqueeze(dim=0)).argmax()\n",
    "\n",
    "print(f\"Model guessed this was: {model_guess_highest_prob}\")"
   ]
  },
  {
   "cell_type": "code",
   "execution_count": 38,
   "metadata": {},
   "outputs": [
    {
     "name": "stdout",
     "output_type": "stream",
     "text": [
      "expected_outputs_in_training.shape=torch.Size([1000, 10])\n",
      "Initial loss was 0.09034556895494461\n"
     ]
    },
    {
     "name": "stderr",
     "output_type": "stream",
     "text": [
      " 99%|█████████▉| 99/100 [00:10<00:00,  8.60it/s]"
     ]
    },
    {
     "name": "stderr",
     "output_type": "stream",
     "text": [
      "100%|██████████| 100/100 [00:10<00:00,  9.39it/s]"
     ]
    },
    {
     "name": "stdout",
     "output_type": "stream",
     "text": [
      "Final loss was 0.0030378273222595453\n"
     ]
    },
    {
     "name": "stderr",
     "output_type": "stream",
     "text": [
      "\n"
     ]
    }
   ],
   "source": [
    "# Now let's train our neural net!\n",
    "print(f'{expected_outputs_in_training.shape=}')\n",
    "train(\n",
    "    neural_net=new_neural_net,\n",
    "    inputs=training_imgs,\n",
    "    expected_outputs=expected_outputs_in_training,\n",
    "    # A learning rate of 2 is usually much too high, but we've made some sub-optimal choices in designing our \n",
    "    learning_rate=10,\n",
    "    number_of_iterations=100,\n",
    ")"
   ]
  },
  {
   "cell_type": "code",
   "execution_count": 39,
   "metadata": {},
   "outputs": [
    {
     "name": "stdout",
     "output_type": "stream",
     "text": [
      "Expected label: 0\n",
      "Model guessed this was: 0\n"
     ]
    },
    {
     "data": {
      "image/png": "[encoded data removed]",
      "text/plain": [
       "<Figure size 640x480 with 1 Axes>"
      ]
     },
     "metadata": {},
     "output_type": "display_data"
    }
   ],
   "source": [
    "# And let's try again\n",
    "\n",
    "print(f\"Expected label: {label}\")\n",
    "plt.imshow(einops.rearrange(img_outside_of_training_dataset, '(h w) -> h w', h=28))\n",
    "\n",
    "model_all_guesses = forward(neural_net=new_neural_net, x=img_outside_of_training_dataset.unsqueeze(dim=0))\n",
    "model_guess_highest_prob = forward(neural_net=new_neural_net, x=img_outside_of_training_dataset.unsqueeze(dim=0)).argmax()\n",
    "\n",
    "print(f\"Model guessed this was: {model_guess_highest_prob}\")"
   ]
  },
  {
   "cell_type": "code",
   "execution_count": 40,
   "metadata": {},
   "outputs": [
    {
     "name": "stderr",
     "output_type": "stream",
     "text": [
      "  1%|          | 1/100 [00:00<00:14,  6.74it/s]"
     ]
    },
    {
     "name": "stdout",
     "output_type": "stream",
     "text": [
      "Initial loss: loss=tensor(0.0900, grad_fn=<MseLossBackward0>)\n"
     ]
    },
    {
     "name": "stderr",
     "output_type": "stream",
     "text": [
      "100%|██████████| 100/100 [00:10<00:00,  9.90it/s]"
     ]
    },
    {
     "name": "stdout",
     "output_type": "stream",
     "text": [
      "Final loss: loss=tensor(0.0059, grad_fn=<MseLossBackward0>)\n",
      "Expected label: 0\n",
      "Model guessed this was: 0\n"
     ]
    },
    {
     "name": "stderr",
     "output_type": "stream",
     "text": [
      "\n"
     ]
    },
    {
     "data": {
      "image/png": "[encoded data removed]",
      "text/plain": [
       "<Figure size 640x480 with 1 Axes>"
      ]
     },
     "metadata": {},
     "output_type": "display_data"
    }
   ],
   "source": [
    "# Here's a demonstration of how we could write this using PyTorch entirely. In\n",
    "# two days you will have implemented every PyTorch function and class here from\n",
    "# scratch!\n",
    "\n",
    "class SimpleNeuralNet(t.nn.Module):\n",
    "    def __init__(self, *args, **kwargs) -> None:\n",
    "        super().__init__(*args, **kwargs)\n",
    "        self.implementation = t.nn.Sequential(\n",
    "            t.nn.Linear(in_features=784, out_features=2000),\n",
    "            t.nn.ReLU(),\n",
    "            t.nn.Linear(in_features=2000, out_features=400),\n",
    "            t.nn.ReLU(),\n",
    "            t.nn.Linear(in_features=400, out_features=10),\n",
    "            t.nn.Softmax(dim=-1),\n",
    "        )\n",
    "\n",
    "    def forward(self, t: t.Tensor):\n",
    "        return self.implementation(t)\n",
    "\n",
    "\n",
    "def train(model: SimpleNeuralNet, epochs: int, lr: int):\n",
    "    optimizer = t.optim.SGD(model.parameters(), lr=lr)\n",
    "    for epoch in tqdm(range(epochs)):\n",
    "        output = model(training_imgs)\n",
    "        # For those who are confused why we use MSE loss here for a\n",
    "        # classification task, see https://arxiv.org/abs/2006.07322\n",
    "        loss = t.nn.functional.mse_loss(output, expected_outputs_in_training)\n",
    "        optimizer.zero_grad()\n",
    "        loss.backward()\n",
    "        optimizer.step()\n",
    "        if epoch == 0:\n",
    "            print(f\"Initial loss: {loss=}\")\n",
    "        elif epoch == epochs - 1:\n",
    "            print(f\"Final loss: {loss=}\")\n",
    "\n",
    "model = SimpleNeuralNet()"
   ]
  },
  {
   "cell_type": "code",
   "execution_count": 41,
   "metadata": {},
   "outputs": [
    {
     "name": "stderr",
     "output_type": "stream",
     "text": [
      "  2%|▏         | 2/100 [00:00<00:09, 10.49it/s]"
     ]
    },
    {
     "name": "stdout",
     "output_type": "stream",
     "text": [
      "Initial loss: loss=tensor(0.0049, grad_fn=<MseLossBackward0>)\n"
     ]
    },
    {
     "name": "stderr",
     "output_type": "stream",
     "text": [
      "100%|██████████| 100/100 [00:09<00:00, 10.03it/s]"
     ]
    },
    {
     "name": "stdout",
     "output_type": "stream",
     "text": [
      "Final loss: loss=tensor(0.0014, grad_fn=<MseLossBackward0>)\n"
     ]
    },
    {
     "name": "stderr",
     "output_type": "stream",
     "text": [
      "\n"
     ]
    }
   ],
   "source": [
    "train(model, epochs=100, lr=10)"
   ]
  },
  {
   "cell_type": "code",
   "execution_count": 46,
   "metadata": {},
   "outputs": [
    {
     "name": "stdout",
     "output_type": "stream",
     "text": [
      "Expected label: 4\n",
      "Model guessed this was: 4\n"
     ]
    },
    {
     "data": {
      "image/png": "[encoded data removed]",
      "text/plain": [
       "<Figure size 640x480 with 1 Axes>"
      ]
     },
     "metadata": {},
     "output_type": "display_data"
    }
   ],
   "source": [
    "# Let's look at an image that wasn't part of the training data\n",
    "\n",
    "non_training_img_idx = 4\n",
    "img_outside_of_training_dataset = non_training_imgs[non_training_img_idx]\n",
    "label = expected_outputs_in_non_training[non_training_img_idx].argmax()\n",
    "\n",
    "print(f\"Expected label: {label}\")\n",
    "plt.imshow(einops.rearrange(img_outside_of_training_dataset, '(h w) -> h w', h=28))\n",
    "\n",
    "model_all_guesses = model(img_outside_of_training_dataset)\n",
    "model_guess_highest_prob = model(img_outside_of_training_dataset).argmax()\n",
    "\n",
    "print(f\"Model guessed this was: {model_guess_highest_prob}\")"
   ]
  }
 ],
 "metadata": {
  "kernelspec": {
   "display_name": "venv_hf_nlp",
   "language": "python",
   "name": "venv_hf_nlp"
  },
  "language_info": {
   "codemirror_mode": {
    "name": "ipython",
    "version": 3
   },
   "file_extension": ".py",
   "mimetype": "text/x-python",
   "name": "python",
   "nbconvert_exporter": "python",
   "pygments_lexer": "ipython3",
   "version": "3.11.2"
  }
 },
 "nbformat": 4,
 "nbformat_minor": 2
}
