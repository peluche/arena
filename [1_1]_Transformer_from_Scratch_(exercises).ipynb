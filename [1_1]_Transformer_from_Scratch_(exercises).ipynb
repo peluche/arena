{
  "cells": [
    {
      "cell_type": "markdown",
      "source": [
        "# [1.1] - Transformers from scratch\n"
      ],
      "metadata": {
        "id": "sRrD2AbyMwmP"
      }
    },
    {
      "cell_type": "markdown",
      "metadata": {
        "id": "usCBu-Op2CeU"
      },
      "source": [
        "Colab: [exercises](https://colab.research.google.com/drive/1lDwKASSYGE4y_7DuGSqlo3DN41NHrXEw?usp=sharing) | [solutions](https://colab.research.google.com/drive/1bZkkJd8pAVnSN23svyszZ3f4WrnYKN_3?usp=sharing)\n",
        "\n",
        "[Streamlit page](https://arena3-chapter1-transformer-interp.streamlit.app/[1.1]_Transformer_from_Scratch)\n",
        "\n",
        "Please send any problems / bugs on the `#errata` channel in the [Slack group](https://join.slack.com/t/arena-uk/shared_invite/zt-28h0xs49u-ZN9ZDbGXl~oCorjbBsSQag), and ask any questions on the dedicated channels for this chapter of material."
      ]
    },
    {
      "cell_type": "markdown",
      "metadata": {
        "id": "9XdSGDOH2qtL"
      },
      "source": [
        "<img src=\"https://raw.githubusercontent.com/callummcdougall/TransformerLens-intro/main/images/page_images/transformer-building.png\" width=\"350\">\n"
      ]
    },
    {
      "cell_type": "markdown",
      "metadata": {
        "id": "Ny4PdCRf3YPu"
      },
      "source": [
        "# Introduction"
      ]
    },
    {
      "cell_type": "markdown",
      "metadata": {
        "id": "IGQQ6Sm7fHNm"
      },
      "source": [
        "This is a clean, first principles implementation of GPT-2 in PyTorch. The architectural choices closely follow those used by the TransformerLens library (which you'll be using a lot more in later exercises).\n",
        "\n",
        "The exercises are written to accompany Neel Nanda's [TransformerLens library](https://github.com/neelnanda-io/TransformerLens) for doing mechanistic interpretability research on GPT-2 style language models. We'll be working with this library extensively in this chapter of the course.\n",
        "\n",
        "Each exercise will have a difficulty and importance rating out of 5, as well as an estimated maximum time you should spend on these exercises and sometimes a short annotation. You should interpret the ratings & time estimates relatively (e.g. if you find yourself spending about 50% longer on the exercises than the time estimates, adjust accordingly). Please do skip exercises / look at solutions if you don't feel like they're important enough to be worth doing, and you'd rather get to the good stuff!\n"
      ]
    },
    {
      "cell_type": "markdown",
      "metadata": {
        "id": "ugWVaR9Gm4Rw"
      },
      "source": [
        "## Content & Learning Objectives\n"
      ]
    },
    {
      "cell_type": "markdown",
      "metadata": {
        "id": "jzS18i5wfHNm"
      },
      "source": [
        "#### 1️⃣ Understanding Inputs & Outputs of a Transformer\n",
        "\n",
        "In this section, we'll take a first look at transformers - what their function is, how information moves inside a transformer, and what inputs & outputs they take.\n",
        "\n",
        "> ##### Learning objectives\n",
        ">\n",
        "> - Understand what a transformer is used for\n",
        "> - Understand causal attention, and what a transformer's output representsalgebra operations on tensors\n",
        "> - Learn what tokenization is, and how models do it\n",
        "> - Understand what logits are, and how to use them to derive a probability distribution over the vocabulary\n",
        "\n",
        "#### 2️⃣ Clean Transformer Implementation\n",
        "\n",
        "Here, we'll implement a transformer from scratch, using only PyTorch's tensor operations. This will give us a good understanding of how transformers work, and how to use them. We do this by going module-by-module, in an experience which should feel somewhat similar to last week's ResNet exercises. Much like with ResNets, you'll conclude by loading in pretrained weights and verifying that your model works as expected.\n",
        "\n",
        "> ##### Learning objectives\n",
        ">\n",
        "> * Understand that a transformer is composed of attention heads and MLPs, with each one performing operations on the residual stream\n",
        "> * Understand that the attention heads in a single layer operate independently, and that they have the role of calculating attention patterns (which determine where information is moved to & from in the residual stream)\n",
        "> * Learn about & implement the following transformer modules:\n",
        ">     * LayerNorm (transforming the input to have zero mean and unit variance)\n",
        ">     * Positional embedding (a lookup table from position indices to residual stream vectors)\n",
        ">     * Attention (the method of computing attention patterns for residual stream vectors)\n",
        ">     * MLP (the collection of linear and nonlinear transformations which operate on each residual stream vector in the same way)\n",
        ">     * Embedding (a lookup table from tokens to residual stream vectors)\n",
        ">     * Unembedding (a matrix for converting residual stream vectors into a distribution over tokens)\n",
        "\n",
        "#### 3️⃣ Training a Transformer\n",
        "\n",
        "Next, you'll learn how to train your transformer from scratch. This will be quite similar to the training loops you wrote for ResNet in your first week.\n",
        "\n",
        "> ##### Learning objectives\n",
        ">\n",
        "> * Understand how to train a transformer from scratch\n",
        "> * Write a basic transformer training loop\n",
        "> * Interpret the transformer's falling cross entropy loss with reference to features of the training data (e.g. bigram frequencies)\n",
        "\n",
        "#### 4️⃣ Sampling from a Transformer\n",
        "\n",
        "Lastly, you'll learn how to sample from a transformer. This will involve implementing a few different sampling methods, and writing a caching system which can reuse computations from previous forward passes to improve your model's text generation speed.\n",
        "\n",
        "*The second half of this section is less important, and you can skip it if you want.*\n",
        "\n",
        "> ##### Learning objectives\n",
        ">\n",
        "> * Learn how to sample from a transformer\n",
        ">     * This includes basic methods like greedy search or top-k, and more advanced methods like beam search\n",
        "> * Learn how to cache the output of a transformer, so that it can be used to generate text more efficiently\n",
        ">     * Optionally, rewrite your sampling functions to make use of your caching methods\n"
      ]
    },
    {
      "cell_type": "markdown",
      "metadata": {
        "id": "3mItbKVVm4Rx"
      },
      "source": [
        "## Setup (don't read, just run!)\n"
      ]
    },
    {
      "cell_type": "code",
      "execution_count": 1,
      "metadata": {
        "id": "P_ngQtCbm4Rx",
        "colab": {
          "base_uri": "https://localhost:8080/"
        },
        "outputId": "bb5b4ce2-44c3-4e11-fe28-02c66e0f1ad6"
      },
      "outputs": [
        {
          "output_type": "stream",
          "name": "stdout",
          "text": [
            "Requirement already satisfied: transformer_lens in /usr/local/lib/python3.10/dist-packages (1.14.0)\n",
            "Requirement already satisfied: accelerate>=0.23.0 in /usr/local/lib/python3.10/dist-packages (from transformer_lens) (0.27.2)\n",
            "Requirement already satisfied: beartype<0.15.0,>=0.14.1 in /usr/local/lib/python3.10/dist-packages (from transformer_lens) (0.14.1)\n",
            "Requirement already satisfied: better-abc<0.0.4,>=0.0.3 in /usr/local/lib/python3.10/dist-packages (from transformer_lens) (0.0.3)\n",
            "Requirement already satisfied: datasets>=2.7.1 in /usr/local/lib/python3.10/dist-packages (from transformer_lens) (2.17.1)\n",
            "Requirement already satisfied: einops>=0.6.0 in /usr/local/lib/python3.10/dist-packages (from transformer_lens) (0.7.0)\n",
            "Requirement already satisfied: fancy-einsum>=0.0.3 in /usr/local/lib/python3.10/dist-packages (from transformer_lens) (0.0.3)\n",
            "Requirement already satisfied: jaxtyping>=0.2.11 in /usr/local/lib/python3.10/dist-packages (from transformer_lens) (0.2.25)\n",
            "Requirement already satisfied: numpy>=1.24 in /usr/local/lib/python3.10/dist-packages (from transformer_lens) (1.25.2)\n",
            "Requirement already satisfied: pandas>=1.1.5 in /usr/local/lib/python3.10/dist-packages (from transformer_lens) (1.5.3)\n",
            "Requirement already satisfied: rich>=12.6.0 in /usr/local/lib/python3.10/dist-packages (from transformer_lens) (13.7.0)\n",
            "Requirement already satisfied: torch!=2.0,!=2.1.0,>=1.10 in /usr/local/lib/python3.10/dist-packages (from transformer_lens) (2.2.1)\n",
            "Requirement already satisfied: tqdm>=4.64.1 in /usr/local/lib/python3.10/dist-packages (from transformer_lens) (4.66.2)\n",
            "Requirement already satisfied: transformers>=4.34 in /usr/local/lib/python3.10/dist-packages (from transformer_lens) (4.38.1)\n",
            "Requirement already satisfied: typing-extensions in /usr/local/lib/python3.10/dist-packages (from transformer_lens) (4.10.0)\n",
            "Requirement already satisfied: wandb>=0.13.5 in /usr/local/lib/python3.10/dist-packages (from transformer_lens) (0.16.3)\n",
            "Requirement already satisfied: packaging>=20.0 in /usr/local/lib/python3.10/dist-packages (from accelerate>=0.23.0->transformer_lens) (23.2)\n",
            "Requirement already satisfied: psutil in /usr/local/lib/python3.10/dist-packages (from accelerate>=0.23.0->transformer_lens) (5.9.5)\n",
            "Requirement already satisfied: pyyaml in /usr/local/lib/python3.10/dist-packages (from accelerate>=0.23.0->transformer_lens) (6.0.1)\n",
            "Requirement already satisfied: huggingface-hub in /usr/local/lib/python3.10/dist-packages (from accelerate>=0.23.0->transformer_lens) (0.20.3)\n",
            "Requirement already satisfied: safetensors>=0.3.1 in /usr/local/lib/python3.10/dist-packages (from accelerate>=0.23.0->transformer_lens) (0.4.2)\n",
            "Requirement already satisfied: filelock in /usr/local/lib/python3.10/dist-packages (from datasets>=2.7.1->transformer_lens) (3.13.1)\n",
            "Requirement already satisfied: pyarrow>=12.0.0 in /usr/local/lib/python3.10/dist-packages (from datasets>=2.7.1->transformer_lens) (14.0.2)\n",
            "Requirement already satisfied: pyarrow-hotfix in /usr/local/lib/python3.10/dist-packages (from datasets>=2.7.1->transformer_lens) (0.6)\n",
            "Requirement already satisfied: dill<0.3.9,>=0.3.0 in /usr/local/lib/python3.10/dist-packages (from datasets>=2.7.1->transformer_lens) (0.3.8)\n",
            "Requirement already satisfied: requests>=2.19.0 in /usr/local/lib/python3.10/dist-packages (from datasets>=2.7.1->transformer_lens) (2.31.0)\n",
            "Requirement already satisfied: xxhash in /usr/local/lib/python3.10/dist-packages (from datasets>=2.7.1->transformer_lens) (3.4.1)\n",
            "Requirement already satisfied: multiprocess in /usr/local/lib/python3.10/dist-packages (from datasets>=2.7.1->transformer_lens) (0.70.16)\n",
            "Requirement already satisfied: fsspec[http]<=2023.10.0,>=2023.1.0 in /usr/local/lib/python3.10/dist-packages (from datasets>=2.7.1->transformer_lens) (2023.6.0)\n",
            "Requirement already satisfied: aiohttp in /usr/local/lib/python3.10/dist-packages (from datasets>=2.7.1->transformer_lens) (3.9.3)\n",
            "Requirement already satisfied: typeguard<3,>=2.13.3 in /usr/local/lib/python3.10/dist-packages (from jaxtyping>=0.2.11->transformer_lens) (2.13.3)\n",
            "Requirement already satisfied: python-dateutil>=2.8.1 in /usr/local/lib/python3.10/dist-packages (from pandas>=1.1.5->transformer_lens) (2.8.2)\n",
            "Requirement already satisfied: pytz>=2020.1 in /usr/local/lib/python3.10/dist-packages (from pandas>=1.1.5->transformer_lens) (2023.4)\n",
            "Requirement already satisfied: markdown-it-py>=2.2.0 in /usr/local/lib/python3.10/dist-packages (from rich>=12.6.0->transformer_lens) (3.0.0)\n",
            "Requirement already satisfied: pygments<3.0.0,>=2.13.0 in /usr/local/lib/python3.10/dist-packages (from rich>=12.6.0->transformer_lens) (2.16.1)\n",
            "Requirement already satisfied: sympy in /usr/local/lib/python3.10/dist-packages (from torch!=2.0,!=2.1.0,>=1.10->transformer_lens) (1.12)\n",
            "Requirement already satisfied: networkx in /usr/local/lib/python3.10/dist-packages (from torch!=2.0,!=2.1.0,>=1.10->transformer_lens) (3.2.1)\n",
            "Requirement already satisfied: jinja2 in /usr/local/lib/python3.10/dist-packages (from torch!=2.0,!=2.1.0,>=1.10->transformer_lens) (3.1.3)\n",
            "Requirement already satisfied: nvidia-cuda-nvrtc-cu12==12.1.105 in /usr/local/lib/python3.10/dist-packages (from torch!=2.0,!=2.1.0,>=1.10->transformer_lens) (12.1.105)\n",
            "Requirement already satisfied: nvidia-cuda-runtime-cu12==12.1.105 in /usr/local/lib/python3.10/dist-packages (from torch!=2.0,!=2.1.0,>=1.10->transformer_lens) (12.1.105)\n",
            "Requirement already satisfied: nvidia-cuda-cupti-cu12==12.1.105 in /usr/local/lib/python3.10/dist-packages (from torch!=2.0,!=2.1.0,>=1.10->transformer_lens) (12.1.105)\n",
            "Requirement already satisfied: nvidia-cudnn-cu12==8.9.2.26 in /usr/local/lib/python3.10/dist-packages (from torch!=2.0,!=2.1.0,>=1.10->transformer_lens) (8.9.2.26)\n",
            "Requirement already satisfied: nvidia-cublas-cu12==12.1.3.1 in /usr/local/lib/python3.10/dist-packages (from torch!=2.0,!=2.1.0,>=1.10->transformer_lens) (12.1.3.1)\n",
            "Requirement already satisfied: nvidia-cufft-cu12==11.0.2.54 in /usr/local/lib/python3.10/dist-packages (from torch!=2.0,!=2.1.0,>=1.10->transformer_lens) (11.0.2.54)\n",
            "Requirement already satisfied: nvidia-curand-cu12==10.3.2.106 in /usr/local/lib/python3.10/dist-packages (from torch!=2.0,!=2.1.0,>=1.10->transformer_lens) (10.3.2.106)\n",
            "Requirement already satisfied: nvidia-cusolver-cu12==11.4.5.107 in /usr/local/lib/python3.10/dist-packages (from torch!=2.0,!=2.1.0,>=1.10->transformer_lens) (11.4.5.107)\n",
            "Requirement already satisfied: nvidia-cusparse-cu12==12.1.0.106 in /usr/local/lib/python3.10/dist-packages (from torch!=2.0,!=2.1.0,>=1.10->transformer_lens) (12.1.0.106)\n",
            "Requirement already satisfied: nvidia-nccl-cu12==2.19.3 in /usr/local/lib/python3.10/dist-packages (from torch!=2.0,!=2.1.0,>=1.10->transformer_lens) (2.19.3)\n",
            "Requirement already satisfied: nvidia-nvtx-cu12==12.1.105 in /usr/local/lib/python3.10/dist-packages (from torch!=2.0,!=2.1.0,>=1.10->transformer_lens) (12.1.105)\n",
            "Requirement already satisfied: triton==2.2.0 in /usr/local/lib/python3.10/dist-packages (from torch!=2.0,!=2.1.0,>=1.10->transformer_lens) (2.2.0)\n",
            "Requirement already satisfied: nvidia-nvjitlink-cu12 in /usr/local/lib/python3.10/dist-packages (from nvidia-cusolver-cu12==11.4.5.107->torch!=2.0,!=2.1.0,>=1.10->transformer_lens) (12.3.101)\n",
            "Requirement already satisfied: regex!=2019.12.17 in /usr/local/lib/python3.10/dist-packages (from transformers>=4.34->transformer_lens) (2023.12.25)\n",
            "Requirement already satisfied: tokenizers<0.19,>=0.14 in /usr/local/lib/python3.10/dist-packages (from transformers>=4.34->transformer_lens) (0.15.2)\n",
            "Requirement already satisfied: Click!=8.0.0,>=7.1 in /usr/local/lib/python3.10/dist-packages (from wandb>=0.13.5->transformer_lens) (8.1.7)\n",
            "Requirement already satisfied: GitPython!=3.1.29,>=1.0.0 in /usr/local/lib/python3.10/dist-packages (from wandb>=0.13.5->transformer_lens) (3.1.42)\n",
            "Requirement already satisfied: sentry-sdk>=1.0.0 in /usr/local/lib/python3.10/dist-packages (from wandb>=0.13.5->transformer_lens) (1.40.6)\n",
            "Requirement already satisfied: docker-pycreds>=0.4.0 in /usr/local/lib/python3.10/dist-packages (from wandb>=0.13.5->transformer_lens) (0.4.0)\n",
            "Requirement already satisfied: setproctitle in /usr/local/lib/python3.10/dist-packages (from wandb>=0.13.5->transformer_lens) (1.3.3)\n",
            "Requirement already satisfied: setuptools in /usr/local/lib/python3.10/dist-packages (from wandb>=0.13.5->transformer_lens) (67.7.2)\n",
            "Requirement already satisfied: appdirs>=1.4.3 in /usr/local/lib/python3.10/dist-packages (from wandb>=0.13.5->transformer_lens) (1.4.4)\n",
            "Requirement already satisfied: protobuf!=4.21.0,<5,>=3.19.0 in /usr/local/lib/python3.10/dist-packages (from wandb>=0.13.5->transformer_lens) (3.20.3)\n",
            "Requirement already satisfied: six>=1.4.0 in /usr/local/lib/python3.10/dist-packages (from docker-pycreds>=0.4.0->wandb>=0.13.5->transformer_lens) (1.16.0)\n",
            "Requirement already satisfied: aiosignal>=1.1.2 in /usr/local/lib/python3.10/dist-packages (from aiohttp->datasets>=2.7.1->transformer_lens) (1.3.1)\n",
            "Requirement already satisfied: attrs>=17.3.0 in /usr/local/lib/python3.10/dist-packages (from aiohttp->datasets>=2.7.1->transformer_lens) (23.2.0)\n",
            "Requirement already satisfied: frozenlist>=1.1.1 in /usr/local/lib/python3.10/dist-packages (from aiohttp->datasets>=2.7.1->transformer_lens) (1.4.1)\n",
            "Requirement already satisfied: multidict<7.0,>=4.5 in /usr/local/lib/python3.10/dist-packages (from aiohttp->datasets>=2.7.1->transformer_lens) (6.0.5)\n",
            "Requirement already satisfied: yarl<2.0,>=1.0 in /usr/local/lib/python3.10/dist-packages (from aiohttp->datasets>=2.7.1->transformer_lens) (1.9.4)\n",
            "Requirement already satisfied: async-timeout<5.0,>=4.0 in /usr/local/lib/python3.10/dist-packages (from aiohttp->datasets>=2.7.1->transformer_lens) (4.0.3)\n",
            "Requirement already satisfied: gitdb<5,>=4.0.1 in /usr/local/lib/python3.10/dist-packages (from GitPython!=3.1.29,>=1.0.0->wandb>=0.13.5->transformer_lens) (4.0.11)\n",
            "Requirement already satisfied: mdurl~=0.1 in /usr/local/lib/python3.10/dist-packages (from markdown-it-py>=2.2.0->rich>=12.6.0->transformer_lens) (0.1.2)\n",
            "Requirement already satisfied: charset-normalizer<4,>=2 in /usr/local/lib/python3.10/dist-packages (from requests>=2.19.0->datasets>=2.7.1->transformer_lens) (3.3.2)\n",
            "Requirement already satisfied: idna<4,>=2.5 in /usr/local/lib/python3.10/dist-packages (from requests>=2.19.0->datasets>=2.7.1->transformer_lens) (3.6)\n",
            "Requirement already satisfied: urllib3<3,>=1.21.1 in /usr/local/lib/python3.10/dist-packages (from requests>=2.19.0->datasets>=2.7.1->transformer_lens) (2.0.7)\n",
            "Requirement already satisfied: certifi>=2017.4.17 in /usr/local/lib/python3.10/dist-packages (from requests>=2.19.0->datasets>=2.7.1->transformer_lens) (2024.2.2)\n",
            "Requirement already satisfied: MarkupSafe>=2.0 in /usr/local/lib/python3.10/dist-packages (from jinja2->torch!=2.0,!=2.1.0,>=1.10->transformer_lens) (2.1.5)\n",
            "Requirement already satisfied: mpmath>=0.19 in /usr/local/lib/python3.10/dist-packages (from sympy->torch!=2.0,!=2.1.0,>=1.10->transformer_lens) (1.3.0)\n",
            "Requirement already satisfied: smmap<6,>=3.0.1 in /usr/local/lib/python3.10/dist-packages (from gitdb<5,>=4.0.1->GitPython!=3.1.29,>=1.0.0->wandb>=0.13.5->transformer_lens) (5.0.1)\n",
            "Requirement already satisfied: einops in /usr/local/lib/python3.10/dist-packages (0.7.0)\n",
            "Requirement already satisfied: jaxtyping in /usr/local/lib/python3.10/dist-packages (0.2.25)\n",
            "Requirement already satisfied: numpy>=1.20.0 in /usr/local/lib/python3.10/dist-packages (from jaxtyping) (1.25.2)\n",
            "Requirement already satisfied: typeguard<3,>=2.13.3 in /usr/local/lib/python3.10/dist-packages (from jaxtyping) (2.13.3)\n",
            "Requirement already satisfied: typing-extensions>=3.7.4.1 in /usr/local/lib/python3.10/dist-packages (from jaxtyping) (4.10.0)\n",
            "Collecting git+https://github.com/callummcdougall/CircuitsVis.git#subdirectory=python\n",
            "  Cloning https://github.com/callummcdougall/CircuitsVis.git to /tmp/pip-req-build-o5qiqgk8\n",
            "  Running command git clone --filter=blob:none --quiet https://github.com/callummcdougall/CircuitsVis.git /tmp/pip-req-build-o5qiqgk8\n",
            "  Resolved https://github.com/callummcdougall/CircuitsVis.git to commit 1e6129d08cae7af9242d9ab5d3ed322dd44b4dd3\n",
            "  Installing build dependencies ... \u001b[?25l\u001b[?25hdone\n",
            "  Getting requirements to build wheel ... \u001b[?25l\u001b[?25hdone\n",
            "  Preparing metadata (pyproject.toml) ... \u001b[?25l\u001b[?25hdone\n",
            "Requirement already satisfied: importlib-metadata<6.0.0,>=5.1.0 in /usr/local/lib/python3.10/dist-packages (from circuitsvis==0.0.0) (5.2.0)\n",
            "Requirement already satisfied: numpy<2.0,>=1.23 in /usr/local/lib/python3.10/dist-packages (from circuitsvis==0.0.0) (1.25.2)\n",
            "Requirement already satisfied: torch<3.0,>=2.0 in /usr/local/lib/python3.10/dist-packages (from circuitsvis==0.0.0) (2.2.1)\n",
            "Requirement already satisfied: zipp>=0.5 in /usr/local/lib/python3.10/dist-packages (from importlib-metadata<6.0.0,>=5.1.0->circuitsvis==0.0.0) (3.17.0)\n",
            "Requirement already satisfied: filelock in /usr/local/lib/python3.10/dist-packages (from torch<3.0,>=2.0->circuitsvis==0.0.0) (3.13.1)\n",
            "Requirement already satisfied: typing-extensions>=4.8.0 in /usr/local/lib/python3.10/dist-packages (from torch<3.0,>=2.0->circuitsvis==0.0.0) (4.10.0)\n",
            "Requirement already satisfied: sympy in /usr/local/lib/python3.10/dist-packages (from torch<3.0,>=2.0->circuitsvis==0.0.0) (1.12)\n",
            "Requirement already satisfied: networkx in /usr/local/lib/python3.10/dist-packages (from torch<3.0,>=2.0->circuitsvis==0.0.0) (3.2.1)\n",
            "Requirement already satisfied: jinja2 in /usr/local/lib/python3.10/dist-packages (from torch<3.0,>=2.0->circuitsvis==0.0.0) (3.1.3)\n",
            "Requirement already satisfied: fsspec in /usr/local/lib/python3.10/dist-packages (from torch<3.0,>=2.0->circuitsvis==0.0.0) (2023.6.0)\n",
            "Requirement already satisfied: nvidia-cuda-nvrtc-cu12==12.1.105 in /usr/local/lib/python3.10/dist-packages (from torch<3.0,>=2.0->circuitsvis==0.0.0) (12.1.105)\n",
            "Requirement already satisfied: nvidia-cuda-runtime-cu12==12.1.105 in /usr/local/lib/python3.10/dist-packages (from torch<3.0,>=2.0->circuitsvis==0.0.0) (12.1.105)\n",
            "Requirement already satisfied: nvidia-cuda-cupti-cu12==12.1.105 in /usr/local/lib/python3.10/dist-packages (from torch<3.0,>=2.0->circuitsvis==0.0.0) (12.1.105)\n",
            "Requirement already satisfied: nvidia-cudnn-cu12==8.9.2.26 in /usr/local/lib/python3.10/dist-packages (from torch<3.0,>=2.0->circuitsvis==0.0.0) (8.9.2.26)\n",
            "Requirement already satisfied: nvidia-cublas-cu12==12.1.3.1 in /usr/local/lib/python3.10/dist-packages (from torch<3.0,>=2.0->circuitsvis==0.0.0) (12.1.3.1)\n",
            "Requirement already satisfied: nvidia-cufft-cu12==11.0.2.54 in /usr/local/lib/python3.10/dist-packages (from torch<3.0,>=2.0->circuitsvis==0.0.0) (11.0.2.54)\n",
            "Requirement already satisfied: nvidia-curand-cu12==10.3.2.106 in /usr/local/lib/python3.10/dist-packages (from torch<3.0,>=2.0->circuitsvis==0.0.0) (10.3.2.106)\n",
            "Requirement already satisfied: nvidia-cusolver-cu12==11.4.5.107 in /usr/local/lib/python3.10/dist-packages (from torch<3.0,>=2.0->circuitsvis==0.0.0) (11.4.5.107)\n",
            "Requirement already satisfied: nvidia-cusparse-cu12==12.1.0.106 in /usr/local/lib/python3.10/dist-packages (from torch<3.0,>=2.0->circuitsvis==0.0.0) (12.1.0.106)\n",
            "Requirement already satisfied: nvidia-nccl-cu12==2.19.3 in /usr/local/lib/python3.10/dist-packages (from torch<3.0,>=2.0->circuitsvis==0.0.0) (2.19.3)\n",
            "Requirement already satisfied: nvidia-nvtx-cu12==12.1.105 in /usr/local/lib/python3.10/dist-packages (from torch<3.0,>=2.0->circuitsvis==0.0.0) (12.1.105)\n",
            "Requirement already satisfied: triton==2.2.0 in /usr/local/lib/python3.10/dist-packages (from torch<3.0,>=2.0->circuitsvis==0.0.0) (2.2.0)\n",
            "Requirement already satisfied: nvidia-nvjitlink-cu12 in /usr/local/lib/python3.10/dist-packages (from nvidia-cusolver-cu12==11.4.5.107->torch<3.0,>=2.0->circuitsvis==0.0.0) (12.3.101)\n",
            "Requirement already satisfied: MarkupSafe>=2.0 in /usr/local/lib/python3.10/dist-packages (from jinja2->torch<3.0,>=2.0->circuitsvis==0.0.0) (2.1.5)\n",
            "Requirement already satisfied: mpmath>=0.19 in /usr/local/lib/python3.10/dist-packages (from sympy->torch<3.0,>=2.0->circuitsvis==0.0.0) (1.3.0)\n"
          ]
        }
      ],
      "source": [
        "try:\n",
        "    import google.colab # type: ignore\n",
        "    IN_COLAB = True\n",
        "except:\n",
        "    IN_COLAB = False\n",
        "\n",
        "import os, sys\n",
        "chapter = \"chapter1_transformer_interp\"\n",
        "repo = \"ARENA_3.0\"\n",
        "\n",
        "if IN_COLAB:\n",
        "    # Install packages\n",
        "    %pip install transformer_lens\n",
        "    %pip install einops\n",
        "    %pip install jaxtyping\n",
        "    %pip install git+https://github.com/callummcdougall/CircuitsVis.git#subdirectory=python\n",
        "\n",
        "    # Code to download the necessary files (e.g. solutions, test funcs)\n",
        "    if not os.path.exists(f\"/content/{chapter}\"):\n",
        "        !wget https://github.com/callummcdougall/ARENA_3.0/archive/refs/heads/main.zip\n",
        "        !unzip /content/main.zip 'ARENA_3.0-main/chapter1_transformer_interp/exercises/*'\n",
        "        sys.path.append(f\"/content/{repo}-main/{chapter}/exercises\")\n",
        "        os.remove(\"/content/main.zip\")\n",
        "        os.rename(f\"{repo}-main/{chapter}\", chapter)\n",
        "        os.rmdir(f\"{repo}-main\")\n",
        "        os.chdir(f\"{chapter}/exercises\")\n",
        "else:\n",
        "    chapter_dir = r\"./\" if chapter in os.listdir() else os.getcwd().split(chapter)[0]\n",
        "    sys.path.append(chapter_dir + f\"{chapter}/exercises\")"
      ]
    },
    {
      "cell_type": "code",
      "execution_count": 2,
      "metadata": {
        "id": "tfWhhdEBm4Ry",
        "colab": {
          "base_uri": "https://localhost:8080/"
        },
        "outputId": "1f9a0b4f-59c0-4819-ba8b-ad696b858bf5"
      },
      "outputs": [
        {
          "output_type": "stream",
          "name": "stderr",
          "text": [
            "/usr/local/lib/python3.10/dist-packages/accelerate/utils/imports.py:214: UserWarning: `ACCELERATE_DISABLE_RICH` is deprecated and will be removed in v0.22.0 and deactivated by default. Please use `ACCELERATE_ENABLE_RICH` if you wish to use `rich`.\n",
            "  warnings.warn(\n",
            "/usr/local/lib/python3.10/dist-packages/huggingface_hub/utils/_token.py:88: UserWarning: \n",
            "The secret `HF_TOKEN` does not exist in your Colab secrets.\n",
            "To authenticate with the Hugging Face Hub, create a token in your settings tab (https://huggingface.co/settings/tokens), set it as secret in your Google Colab and restart your session.\n",
            "You will be able to reuse this secret in all of your notebooks.\n",
            "Please note that authentication is recommended but still optional to access public models or datasets.\n",
            "  warnings.warn(\n"
          ]
        },
        {
          "output_type": "stream",
          "name": "stdout",
          "text": [
            "Loaded pretrained model gpt2-small into HookedTransformer\n"
          ]
        }
      ],
      "source": [
        "import os; os.environ['ACCELERATE_DISABLE_RICH'] = \"1\"\n",
        "import sys\n",
        "import einops\n",
        "from dataclasses import dataclass\n",
        "from transformer_lens import HookedTransformer\n",
        "from transformer_lens.utils import gelu_new, tokenize_and_concatenate\n",
        "import torch as t\n",
        "from torch import Tensor\n",
        "import torch.nn as nn\n",
        "import numpy as np\n",
        "import math\n",
        "from tqdm.notebook import tqdm\n",
        "from typing import Tuple, List, Optional, Dict, Callable\n",
        "from jaxtyping import Float, Int\n",
        "from transformers.models.gpt2.tokenization_gpt2_fast import GPT2TokenizerFast\n",
        "from collections import defaultdict\n",
        "from rich.table import Table\n",
        "from rich import print as rprint\n",
        "import datasets\n",
        "from torch.utils.data import DataLoader\n",
        "import wandb\n",
        "from pathlib import Path\n",
        "import webbrowser\n",
        "\n",
        "# Make sure exercises are in the path\n",
        "exercises_dir = Path(f\"{os.getcwd().split(chapter)[0]}/{chapter}/exercises\").resolve()\n",
        "section_dir = (exercises_dir / \"part1_transformer_from_scratch\").resolve()\n",
        "if str(exercises_dir) not in sys.path: sys.path.append(str(exercises_dir))\n",
        "\n",
        "from plotly_utils import imshow\n",
        "import part1_transformer_from_scratch.solutions as solutions\n",
        "\n",
        "device = t.device(\"cuda\" if t.cuda.is_available() else \"cpu\")\n",
        "\n",
        "MAIN = __name__ == '__main__'\n",
        "\n",
        "reference_gpt2 = HookedTransformer.from_pretrained(\"gpt2-small\", fold_ln=False, center_unembed=False, center_writing_weights=False)"
      ]
    },
    {
      "cell_type": "markdown",
      "metadata": {
        "id": "w1x_mWI6m4Rz"
      },
      "source": [
        "# 1️⃣ Understanding Inputs & Outputs of a Transformer\n"
      ]
    },
    {
      "cell_type": "markdown",
      "metadata": {
        "id": "B_FUMfnwA6Oq"
      },
      "source": [
        "> ### Learning Objectives\n",
        ">\n",
        "> * Understand what a transformer is used for\n",
        "> * Understand causal attention, and what a transformer's output represents\n",
        "> * Learn what tokenization is, and how models do it\n",
        "> * Understand what logits are, and how to use them to derive a probability distribution over the vocabulary\n"
      ]
    },
    {
      "cell_type": "markdown",
      "metadata": {
        "id": "d--zV4Crm4Rz"
      },
      "source": [
        "## What is the point of a transformer?\n"
      ]
    },
    {
      "cell_type": "markdown",
      "metadata": {
        "id": "MaMw4jYgm4Rz"
      },
      "source": [
        "**Transformers exist to model text!**\n",
        "\n",
        "We're going to focus GPT-2 style transformers. Key feature: They generate text! You feed in language, and the model generates a probability distribution over tokens. And you can repeatedly sample from this to generate text!\n",
        "\n",
        "(To explain this in more detail - you feed in a sequence of length $N$, then sample from the probability distribution over the $N+1$-th word, use this to construct a new sequence of length $N+1$, then feed this new sequence into the model to get a probability distribution over the $N+2$-th word, and so on.)\n",
        "\n",
        "### How is the model trained?\n",
        "\n",
        "You give it a bunch of text, and train it to predict the next token.\n",
        "\n",
        "Importantly, if you give a model 100 tokens in a sequence, it predicts the next token for *each* prefix, i.e. it produces 100 logit vectors (= probability distributions) over the set of all words in our vocabulary, with the `i`-th logit vector representing the probability distribution over the token *following* the `i`-th token in the sequence.\n",
        "\n",
        "<details>\n",
        "<summary>Aside - logits</summary>\n",
        "\n",
        "If you haven't encountered the term \"logits\" before, here's a quick refresher.\n",
        "\n",
        "Given an arbitrary vector $x$, we can turn it into a probability distribution via the **softmax** function: $x_i \\to \\frac{e^{x_i}}{\\sum e^{x_j}}$. The exponential makes everything positive; the normalization makes it add to one.\n",
        "\n",
        "The model's output is the vector $x$ (one for each prediction it makes). We call this vector a logit because it represents a probability distribution, and it is related to the actual probabilities via the softmax function.\n",
        "</details>\n",
        "\n",
        "How do we stop the transformer by \"cheating\" by just looking at the tokens it's trying to predict? Answer - we make the transformer have *causal attention* (as opposed to *bidirectional attention*). Causal attention only allows information to move forwards in the sequence, never backwards. The prediction of what comes after token 50 is only a function of the first 50 tokens, *not* of token 51. We say the transformer is **autoregressive**, because it only predicts future words based on past data.\n"
      ]
    },
    {
      "cell_type": "markdown",
      "metadata": {
        "id": "AHzR45fBfHNq"
      },
      "source": [
        "<img src=\"https://raw.githubusercontent.com/callummcdougall/computational-thread-art/master/example_images/misc/transformer-overview-new.png\" width=\"900\">\n"
      ]
    },
    {
      "cell_type": "markdown",
      "metadata": {
        "id": "z8ZVvPhDm4R0"
      },
      "source": [
        "## Tokens - Transformer Inputs\n"
      ]
    },
    {
      "cell_type": "markdown",
      "metadata": {
        "id": "UkBYr2qym4R0"
      },
      "source": [
        "Our tranformer's input is natural language (i.e. a sequence of characters, strings, etc). But ML models generally take vectors as input, not language. How do we convert language to vectors?\n",
        "\n",
        "We can factor this into 2 questions:\n",
        "\n",
        "1. How do we split up language into small sub-units?\n",
        "2. How do we convert these sub-units into vectors?\n",
        "\n",
        "Let's start with the second of these questions.\n"
      ]
    },
    {
      "cell_type": "markdown",
      "metadata": {
        "id": "MRP795JofHNq"
      },
      "source": [
        "### Converting sub-units to vectors\n",
        "\n",
        "We basically make a massive lookup table, which is called an **embedding**. It has one vector for each possible sub-unit of language we might get (we call this set of all sub-units our **vocabulary**). We label every element in our vocabulary with an integer (this labelling never changes), and we use this integer to index into the embedding.\n",
        "\n",
        "A key intuition is that one-hot encodings let you think about each integer independently. We don't bake in any relation between words when we perform our embedding, because every word has a completely separate embedding vector.\n",
        "\n",
        "<details>\n",
        "<summary>Aside - one-hot encodings</summary>\n",
        "\n",
        "We sometimes think about **one-hot encodings** of words. These are vectors with zeros everywhere, except for a single one in the position corresponding to the word's index in the vocabulary. This means that indexing into the embedding is equivalent to multiplying the **embedding matrix** by the one-hot encoding (where the embedding matrix is the matrix we get by stacking all the embedding vectors on top of each other).\n",
        "\n",
        "$$\n",
        "\\begin{aligned}\n",
        "W_E &= \\begin{bmatrix}\n",
        "\\leftarrow v_0 \\rightarrow \\\\\n",
        "\\leftarrow v_1 \\rightarrow \\\\\n",
        "\\vdots \\\\\n",
        "\\leftarrow v_{d_{vocab}-1} \\rightarrow \\\\\n",
        "\\end{bmatrix} \\quad \\text{is the embedding matrix (size }d_{vocab} \\times d_{embed}\\text{),} \\\\\n",
        "\\\\\n",
        "t_i &= (0, \\dots, 0, 1, 0, \\dots, 0) \\quad \\text{is the one-hot encoding for the }i\\text{th word (length }d_{vocab}\\text{)} \\\\\n",
        "\\\\\n",
        "v_i &= t_i W_E \\quad \\text{is the embedding vector for the }i\\text{th word (length }d_{embed}\\text{).} \\\\\n",
        "\\end{aligned}\n",
        "$$\n",
        "\n",
        "</details>\n",
        "\n",
        "Now, let's answer the first question - how do we split language into sub-units?\n"
      ]
    },
    {
      "cell_type": "markdown",
      "metadata": {
        "id": "Y7t_YsDxm4R0"
      },
      "source": [
        "### Splitting language into sub-units\n",
        "\n",
        "We need to define a standard way of splitting up language into a series of substrings, where each substring is a member of our **vocabulary** set.\n",
        "\n",
        "Could we use a dictionary, and have our vocabulary be the set of all words in the dictionary? No, because this couldn't handle arbitrary text (e.g. URLs, punctuation, etc). We need a more general way of splitting up language.\n",
        "\n",
        "Could we just use the 256 ASCII characters? This fixes the previous problem, but it loses structure of language - some sequences of characters are more meaningful than others. For example, \"language\" is a lot more meaningful than \"hjksdfiu\". We want \"language\" to be a single token, but not \"hjksdfiu\" - this is a more efficient use of our vocab.\n",
        "\n",
        "What actually happens? The most common strategy is called **Byte-Pair encodings**.\n",
        "\n",
        "We begin with the 256 ASCII characters as our tokens, and then find the most common pair of tokens, and merge that into a new token. Note that we do have a space character as one of our 256 tokens, and merges using space are very common. For instance, here are the five first merges for the tokenizer used by GPT-2 (you'll be able to verify this below).\n",
        "\n",
        "```\n",
        "\" t\"\n",
        "\" a\"\n",
        "\"he\"\n",
        "\"in\"\n",
        "\"re\"\n",
        "```\n",
        "\n",
        "Note - you might see the character `Ġ` in front of some tokens. This is a special token that indicates that the token begins with a space. Tokens with a leading space vs not are different.\n",
        "\n",
        "You can run the code below to see some more of GPT-2's tokenizer's vocabulary:\n"
      ]
    },
    {
      "cell_type": "code",
      "execution_count": 3,
      "metadata": {
        "id": "sHq2U0hKnXMm",
        "colab": {
          "base_uri": "https://localhost:8080/"
        },
        "outputId": "1597f42a-150a-413d-cb19-354c61a0d507"
      },
      "outputs": [
        {
          "output_type": "stream",
          "name": "stdout",
          "text": [
            "[('!', 0), ('\"', 1), ('#', 2), ('$', 3), ('%', 4), ('&', 5), (\"'\", 6), ('(', 7), (')', 8), ('*', 9), ('+', 10), (',', 11), ('-', 12), ('.', 13), ('/', 14), ('0', 15), ('1', 16), ('2', 17), ('3', 18), ('4', 19)]\n",
            "\n",
            "[('ľ', 250), ('Ŀ', 251), ('ŀ', 252), ('Ł', 253), ('ł', 254), ('Ń', 255), ('Ġt', 256), ('Ġa', 257), ('he', 258), ('in', 259), ('re', 260), ('on', 261), ('Ġthe', 262), ('er', 263), ('Ġs', 264), ('at', 265), ('Ġw', 266), ('Ġo', 267), ('en', 268), ('Ġc', 269)]\n",
            "\n",
            "[('Ġprodu', 990), ('Ġstill', 991), ('led', 992), ('ah', 993), ('Ġhere', 994), ('Ġworld', 995), ('Ġthough', 996), ('Ġnum', 997), ('arch', 998), ('imes', 999), ('ale', 1000), ('ĠSe', 1001), ('ĠIf', 1002), ('//', 1003), ('ĠLe', 1004), ('Ġret', 1005), ('Ġref', 1006), ('Ġtrans', 1007), ('ner', 1008), ('ution', 1009)]\n",
            "\n"
          ]
        }
      ],
      "source": [
        "sorted_vocab = sorted(list(reference_gpt2.tokenizer.vocab.items()), key=lambda n: n[1])\n",
        "print(sorted_vocab[:20])\n",
        "print()\n",
        "print(sorted_vocab[250:270])\n",
        "print()\n",
        "print(sorted_vocab[990:1010])\n",
        "print()"
      ]
    },
    {
      "cell_type": "markdown",
      "metadata": {
        "id": "ddGjdpeinaI8"
      },
      "source": [
        "As you get to the end of the vocabulary, you'll be producing some pretty weird-looking esoteric tokens (because you'll already have exhausted all of the short frequently-occurring ones):\n"
      ]
    },
    {
      "cell_type": "code",
      "execution_count": 4,
      "metadata": {
        "id": "Rl40Jlw0m4R0",
        "colab": {
          "base_uri": "https://localhost:8080/"
        },
        "outputId": "d8f6e57a-87da-4ee1-e9fc-13d20205a298"
      },
      "outputs": [
        {
          "output_type": "stream",
          "name": "stdout",
          "text": [
            "[('Revolution', 50237), ('Ġsnipers', 50238), ('Ġreverted', 50239), ('Ġconglomerate', 50240), ('Terry', 50241), ('794', 50242), ('Ġharsher', 50243), ('Ġdesolate', 50244), ('ĠHitman', 50245), ('Commission', 50246), ('Ġ(/', 50247), ('âĢ¦.\"', 50248), ('Compar', 50249), ('Ġamplification', 50250), ('ominated', 50251), ('Ġregress', 50252), ('ĠCollider', 50253), ('Ġinformants', 50254), ('Ġgazed', 50255), ('<|endoftext|>', 50256)]\n"
          ]
        }
      ],
      "source": [
        "print(sorted_vocab[-20:])"
      ]
    },
    {
      "cell_type": "markdown",
      "source": [
        "\n",
        "<details>\n",
        "<summary>Fun (totally optional) exercise - can you guess what the first-formed 3/4/5/6/7-letter encodings in GPT-2's vocabulary are?</summary>\n",
        "Run this code to find out:\n",
        "\n",
        "```python\n",
        "lengths = dict.fromkeys(range(3, 8), \"\")\n",
        "for tok, idx in sorted_vocab:\n",
        "    if not lengths.get(len(tok), True):\n",
        "        lengths[len(tok)] = tok\n",
        "\n",
        "for length, tok in lengths.items():\n",
        "    print(f\"{length}: {tok}\")\n",
        "```\n",
        "</details>\n"
      ],
      "metadata": {
        "id": "QcOKIhU-1IOS"
      }
    },
    {
      "cell_type": "markdown",
      "metadata": {
        "id": "S5OKWOqHnmBg"
      },
      "source": [
        "Transformers in the `transformer_lens` library have a `to_tokens` method that converts text to numbers. It also prepends them with a special token called BOS (beginning of sequence) to indicate the start of a sequence. You can disable this with the `prepend_bos=False` argument.\n",
        "\n",
        "<details>\n",
        "<summary>Aside - BOS token</summary>\n",
        "\n",
        "The beginning of sequence (BOS) token is a special token used to mark the beginning of the sequence. Confusingly, in GPT-2, the End of Sequence (EOS), Beginning of Sequence (BOS) and Padding (PAD) tokens are all the same, `<|endoftext|>` with index `50256`.\n",
        "\n",
        "Why is this token added? Some basic intuitions are:\n",
        "\n",
        "* It provides context that this is the start of a sequence, which can help the model generate more appropriate text.\n",
        "* It can act as a \"rest position\" for attention heads (more on this later, when we discuss attention).\n",
        "\n",
        "TransformerLens adds this token automatically (including in forward passes of transformer models, e.g. it's implicitly added when you call `model(\"Hello World\")`). You can disable this behaviour by setting the flag `prepend_bos=False` in `to_tokens`, `to_str_tokens`, `model.forward` and any other function that converts strings to multi-token tensors.\n",
        "\n",
        "**Key Point: *If you get weird off-by-one errors, check whether there's an unexpected `prepend_bos`!***\n",
        "\n",
        "Why are the BOS, EOS and PAD tokens the same? This is because GPT-2 is an autoregressive model, and uses these kinds of tokens in a slightly different way to other transformer families (e.g. BERT). For instance, GPT has no need to distinguish between BOS and EOS tokens, because it only processes text from left to right.\n",
        "\n",
        "</details>\n",
        "\n",
        "### Some tokenization annoyances\n",
        "\n",
        "There are a few funky and frustrating things about tokenization, which causes it to behave differently than you might expect. For instance:\n",
        "\n",
        "#### Whether a word begins with a capital or space matters!\n"
      ]
    },
    {
      "cell_type": "code",
      "execution_count": 5,
      "metadata": {
        "id": "0vlZ-pRAnoEw",
        "colab": {
          "base_uri": "https://localhost:8080/"
        },
        "outputId": "d6507ade-b6b3-4cbc-905e-e0e2b9c8cd6a"
      },
      "outputs": [
        {
          "output_type": "stream",
          "name": "stdout",
          "text": [
            "['<|endoftext|>', 'R', 'alph']\n",
            "['<|endoftext|>', ' Ralph']\n",
            "['<|endoftext|>', ' r', 'alph']\n",
            "['<|endoftext|>', 'ral', 'ph']\n"
          ]
        }
      ],
      "source": [
        "print(reference_gpt2.to_str_tokens(\"Ralph\"))\n",
        "print(reference_gpt2.to_str_tokens(\" Ralph\"))\n",
        "print(reference_gpt2.to_str_tokens(\" ralph\"))\n",
        "print(reference_gpt2.to_str_tokens(\"ralph\"))"
      ]
    },
    {
      "cell_type": "markdown",
      "metadata": {
        "id": "joPO920PntIw"
      },
      "source": [
        "#### Arithmetic is a mess.\n",
        "\n",
        "Length is inconsistent, common numbers bundle together.\n"
      ]
    },
    {
      "cell_type": "code",
      "execution_count": 6,
      "metadata": {
        "id": "rzbf4t-Zm4R1",
        "colab": {
          "base_uri": "https://localhost:8080/"
        },
        "outputId": "7862cf68-6924-488e-8083-fc78a8b48026"
      },
      "outputs": [
        {
          "output_type": "stream",
          "name": "stdout",
          "text": [
            "['<|endoftext|>', '568', '73', '+', '318', '46', '23', '=', '123', '45', '67', '89', '-', '1', '000000', '000']\n"
          ]
        }
      ],
      "source": [
        "print(reference_gpt2.to_str_tokens(\"56873+3184623=123456789-1000000000\"))"
      ]
    },
    {
      "cell_type": "markdown",
      "metadata": {
        "id": "GgtPkQE-m4R2"
      },
      "source": [
        "> ### Key Takeaways\n",
        ">\n",
        "> * We learn a dictionary of vocab of tokens (sub-words).\n",
        "> * We (approx) losslessly convert language to integers via tokenizing it.\n",
        "> * We convert integers to vectors via a lookup table.\n",
        "> * Note: input to the transformer is a sequence of *tokens* (ie integers), not vectors\n"
      ]
    },
    {
      "cell_type": "markdown",
      "metadata": {
        "id": "rCSs3uXgn9Kb"
      },
      "source": [
        "## Text generation\n",
        "\n",
        "Now that we understand the basic ideas here, let's go through the entire process of text generation, from our original string to a new token which we can append to our string and plug back into the model.\n",
        "\n",
        "#### **Step 1:** Convert text to tokens\n",
        "\n",
        "The sequence gets tokenized, so it has shape `[batch, seq_len]`. Here, the batch dimension is just one (because we only have one sequence).\n"
      ]
    },
    {
      "cell_type": "code",
      "execution_count": 7,
      "metadata": {
        "id": "mommexyJm4R3",
        "colab": {
          "base_uri": "https://localhost:8080/"
        },
        "outputId": "9fe0f501-7cfa-4e35-ff20-3342f15ecdc0"
      },
      "outputs": [
        {
          "output_type": "stream",
          "name": "stdout",
          "text": [
            "tensor([[50256,    40,   716,   281,  4998,  1960,   382, 19741,    11,   875,\n",
            "         12342,    12,  8807,    11,   402, 11571,    12,    17,  3918, 47385,\n",
            "            13,  1881,  1110,   314,   481,  7074,  1692,  1241,  4430,   290,\n",
            "          1011,   625,   262,   995,     0]], device='cuda:0')\n",
            "torch.Size([1, 35])\n",
            "['<|endoftext|>', 'I', ' am', ' an', ' amazing', ' aut', 'ore', 'gressive', ',', ' dec', 'oder', '-', 'only', ',', ' G', 'PT', '-', '2', ' style', ' transformer', '.', ' One', ' day', ' I', ' will', ' exceed', ' human', ' level', ' intelligence', ' and', ' take', ' over', ' the', ' world', '!']\n"
          ]
        }
      ],
      "source": [
        "reference_text = \"I am an amazing autoregressive, decoder-only, GPT-2 style transformer. One day I will exceed human level intelligence and take over the world!\"\n",
        "tokens = reference_gpt2.to_tokens(reference_text).to(device)\n",
        "print(tokens)\n",
        "print(tokens.shape)\n",
        "print(reference_gpt2.to_str_tokens(tokens))"
      ]
    },
    {
      "cell_type": "markdown",
      "metadata": {
        "id": "Ovci8XHNm4R3"
      },
      "source": [
        "#### **Step 2:** Map tokens to logits\n",
        "\n",
        "\n",
        "From our input of shape `[batch, seq_len]`, we get output of shape `[batch, seq_len, vocab_size]`. The `[i, j, :]`-th element of our output is a vector of logits representing our prediction for the `j+1`-th token in the `i`-th sequence.\n"
      ]
    },
    {
      "cell_type": "code",
      "execution_count": 8,
      "metadata": {
        "id": "5iK_hEUzm4R3",
        "colab": {
          "base_uri": "https://localhost:8080/"
        },
        "outputId": "cfd44165-8258-4c21-b297-00e7841d2ad3"
      },
      "outputs": [
        {
          "output_type": "stream",
          "name": "stdout",
          "text": [
            "torch.Size([1, 35, 50257])\n"
          ]
        }
      ],
      "source": [
        "logits, cache = reference_gpt2.run_with_cache(tokens)\n",
        "print(logits.shape)"
      ]
    },
    {
      "cell_type": "markdown",
      "metadata": {
        "id": "39kXnrmrgeIw"
      },
      "source": [
        "(`run_with_cache` tells the model to cache all intermediate activations. This isn't important right now; we'll look at it in more detail later.)\n"
      ]
    },
    {
      "cell_type": "markdown",
      "metadata": {
        "id": "SDv_ftwFm4R4"
      },
      "source": [
        "#### **Step 3:** Convert the logits to a distribution with a softmax\n",
        "\n",
        "This doesn't change the shape, it is still `[batch, seq_len, vocab_size]`.\n"
      ]
    },
    {
      "cell_type": "code",
      "execution_count": 9,
      "metadata": {
        "id": "csYLLcvcm4R4",
        "colab": {
          "base_uri": "https://localhost:8080/"
        },
        "outputId": "a3e3eb60-b9f6-4763-f967-03e5791242be"
      },
      "outputs": [
        {
          "output_type": "stream",
          "name": "stdout",
          "text": [
            "torch.Size([1, 35, 50257])\n"
          ]
        }
      ],
      "source": [
        "probs = logits.softmax(dim=-1)\n",
        "print(probs.shape)"
      ]
    },
    {
      "cell_type": "markdown",
      "metadata": {
        "id": "BkOqYy8qm4R4"
      },
      "source": [
        "#### **Bonus step:** What is the most likely next token at each position?\n"
      ]
    },
    {
      "cell_type": "code",
      "execution_count": 10,
      "metadata": {
        "id": "9tKcEGLXm4R4",
        "colab": {
          "base_uri": "https://localhost:8080/"
        },
        "outputId": "61635de8-b1cc-46b7-c784-b257f1e0e1b8"
      },
      "outputs": [
        {
          "output_type": "stream",
          "name": "stdout",
          "text": [
            "[('<|endoftext|>', '\\n'), ('I', \"'m\"), (' am', ' a'), (' an', ' avid'), (' amazing', ' person'), (' aut', 'od'), ('ore', 'sp'), ('gressive', '.'), (',', ' and'), (' dec', 'ently'), ('oder', ','), ('-', 'driven'), ('only', ' programmer'), (',', ' and'), (' G', 'IM'), ('PT', '-'), ('-', 'only'), ('2', '.'), (' style', ','), (' transformer', '.'), ('.', ' I'), (' One', ' of'), (' day', ' I'), (' I', ' will'), (' will', ' be'), (' exceed', ' my'), (' human', 'ly'), (' level', ' of'), (' intelligence', ' and'), (' and', ' I'), (' take', ' over'), (' over', ' the'), (' the', ' world'), (' world', '.'), ('!', ' I')]\n"
          ]
        }
      ],
      "source": [
        "most_likely_next_tokens = reference_gpt2.tokenizer.batch_decode(logits.argmax(dim=-1)[0])\n",
        "\n",
        "print(list(zip(reference_gpt2.to_str_tokens(tokens), most_likely_next_tokens)))"
      ]
    },
    {
      "cell_type": "markdown",
      "metadata": {
        "id": "yESVZd2igyPd"
      },
      "source": [
        "We can see that, in a few cases (particularly near the end of the sequence), the model accurately predicts the next token in the sequence. We might guess that `\"take over the world\"` is a common phrase that the model has seen in training, which is why the model can predict it.\n"
      ]
    },
    {
      "cell_type": "markdown",
      "metadata": {
        "id": "DrZCnki1m4R4"
      },
      "source": [
        "#### **Step 4:** Map distribution to a token\n"
      ]
    },
    {
      "cell_type": "code",
      "execution_count": 11,
      "metadata": {
        "id": "Pp9PB99Mm4R4",
        "colab": {
          "base_uri": "https://localhost:8080/"
        },
        "outputId": "c9354eac-80d6-4803-8c22-d0efd6f8a1fc"
      },
      "outputs": [
        {
          "output_type": "stream",
          "name": "stdout",
          "text": [
            "' I'\n"
          ]
        }
      ],
      "source": [
        "next_token = logits[0, -1].argmax(dim=-1)\n",
        "next_char = reference_gpt2.to_string(next_token)\n",
        "print(repr(next_char))"
      ]
    },
    {
      "cell_type": "markdown",
      "metadata": {
        "id": "I4uXGn1mhSnf"
      },
      "source": [
        "Note that we're indexing `logits[0, -1]`. This is because logits have shape `[1, sequence_length, vocab_size]`, so this indexing returns the vector of length `vocab_size` representing the model's prediction for what token follows the **last** token in the input sequence.\n",
        "\n",
        "In this case, we can see that the model predicts the token `' I'`.\n"
      ]
    },
    {
      "cell_type": "markdown",
      "metadata": {
        "id": "8XmSN1YFm4R5"
      },
      "source": [
        "### **Step 5:** Add this to the end of the input, re-run\n",
        "\n",
        "There are more efficient ways to do this (e.g. where we cache some of the values each time we run our input, so we don't have to do as much calculation each time we generate a new value), but this doesn't matter conceptually right now.\n"
      ]
    },
    {
      "cell_type": "code",
      "execution_count": 12,
      "metadata": {
        "id": "dpgN-auXm4R6",
        "colab": {
          "base_uri": "https://localhost:8080/"
        },
        "outputId": "691b086f-e2a0-4b57-8d1c-3983ced9df09"
      },
      "outputs": [
        {
          "output_type": "stream",
          "name": "stdout",
          "text": [
            "Sequence so far: '<|endoftext|>I am an amazing autoregressive, decoder-only, GPT-2 style transformer. One day I will exceed human level intelligence and take over the world!'\n",
            "36th char = ' I'\n",
            "37th char = ' am'\n",
            "38th char = ' a'\n",
            "39th char = ' very'\n",
            "40th char = ' talented'\n",
            "41th char = ' and'\n",
            "42th char = ' talented'\n",
            "43th char = ' person'\n",
            "44th char = ','\n",
            "45th char = ' and'\n"
          ]
        }
      ],
      "source": [
        "print(f\"Sequence so far: {reference_gpt2.to_string(tokens)[0]!r}\")\n",
        "\n",
        "for i in range(10):\n",
        "    print(f\"{tokens.shape[-1]+1}th char = {next_char!r}\")\n",
        "    # Define new input sequence, by appending the previously generated token\n",
        "    tokens = t.cat([tokens, next_token[None, None]], dim=-1)\n",
        "    # Pass our new sequence through the model, to get new output\n",
        "    logits = reference_gpt2(tokens)\n",
        "    # Get the predicted token at the end of our sequence\n",
        "    next_token = logits[0, -1].argmax(dim=-1)\n",
        "    # Decode and print the result\n",
        "    next_char = reference_gpt2.to_string(next_token)"
      ]
    },
    {
      "cell_type": "markdown",
      "metadata": {
        "id": "PVd8J0QLm4R6"
      },
      "source": [
        "## Key takeaways\n",
        "\n",
        "* Transformer takes in language, predicts next token (for *each* token in a causal way)\n",
        "* We convert language to a sequence of integers with a tokenizer.\n",
        "* We convert integers to vectors with a lookup table.\n",
        "* Output is a vector of logits (one for each input token), we convert to a probability distn with a softmax, and can then convert this to a token (eg taking the largest logit, or sampling).\n",
        "* We append this to the input + run again to generate more text (Jargon: *autoregressive*)\n",
        "* Meta level point: Transformers are sequence operation models, they take in a sequence, do processing in parallel at each position, and use attention to move information between positions!\n"
      ]
    },
    {
      "cell_type": "markdown",
      "metadata": {
        "id": "BaSOTaLdm4R6"
      },
      "source": [
        "# 2️⃣ Clean Transformer Implementation\n"
      ]
    },
    {
      "cell_type": "markdown",
      "metadata": {
        "id": "-3YLmU9boWEv"
      },
      "source": [
        "> ##### Learning objectives\n",
        ">\n",
        "> * Understand that a transformer is composed of attention heads and MLPs, with each one performing operations on the residual stream\n",
        "> * Understand that the attention heads in a single layer operate independently, and that they have the role of calculating attention patterns (which determine where information is moved to & from in the residual stream)\n",
        "> * Learn about & implement the following transformer modules:\n",
        ">     * LayerNorm (transforming the input to have zero mean and unit variance)\n",
        ">     * Positional embedding (a lookup table from position indices to residual stream vectors)\n",
        ">     * Attention (the method of computing attention patterns for residual stream vectors)\n",
        ">     * MLP (the collection of linear and nonlinear transformations which operate on each residual stream vector in the same way)\n",
        ">     * Embedding (a lookup table from tokens to residual stream vectors)\n",
        ">     * Unembedding (a matrix for converting residual stream vectors into a distribution over tokens)\n"
      ]
    },
    {
      "cell_type": "markdown",
      "metadata": {
        "id": "v2LTUZkXm4R7"
      },
      "source": [
        "## High-Level architecture\n",
        "\n",
        "Go watch Neel's [Transformer Circuits walkthrough](https://www.youtube.com/watch?v=KV5gbOmHbjU) if you want more intuitions!\n",
        "\n",
        "(Diagram is bottom to top.)\n"
      ]
    },
    {
      "cell_type": "markdown",
      "metadata": {
        "id": "9XtGO8lYm4R6"
      },
      "source": [
        "<img src=\"https://raw.githubusercontent.com/callummcdougall/computational-thread-art/master/example_images/misc/transformer-new.png\" width=\"850\">\n"
      ]
    },
    {
      "cell_type": "markdown",
      "metadata": {
        "id": "347we6hfo6oP"
      },
      "source": [
        "### Tokenization & Embedding\n",
        "\n",
        "The input tokens $t$ are integers. We get them from taking a sequence, and tokenizing it (like we saw in the previous section).\n",
        "\n",
        "The token embedding is a lookup table mapping tokens to vectors, which is implemented as a matrix $W_E$. The matrix consists of a stack of token embedding vectors (one for each token).\n"
      ]
    },
    {
      "cell_type": "markdown",
      "metadata": {
        "id": "7SVWlk-qo9Bg"
      },
      "source": [
        "### Residual stream\n",
        "\n",
        "The residual stream is the sum of all previous outputs of layers of the model, is the input to each new layer. It has shape `[batch, seq_len, d_model]` (where `d_model` is the length of a single embedding vector).\n",
        "\n",
        "The initial value of the residual stream is denoted $x_0$ in the diagram, and $x_i$ are later values of the residual stream (after more attention and MLP layers have been applied to the residual stream).\n",
        "\n",
        "The residual stream is *really* fundamental. It's the central object of the transformer. It's how model remembers things, moves information between layers for composition, and it's the medium used to store the information that attention moves between positions.\n",
        "\n",
        "<details>\n",
        "<summary>Aside - <b>logit lens</b></summary>\n",
        "\n",
        "A key idea of transformers is the [residual stream as output accumulation](https://www.lesswrong.com/posts/X26ksz4p3wSyycKNB/gears-level-mental-models-of-transformer-interpretability#Residual_Stream_as_Output_Accumulation:~:text=The%20Models-,Residual%20Stream%20as%20Output%20Accumulation,-The%20residual%20stream). As we move through the layers of the model, shifting information around and processing it, the values in the residual stream represent the accumulation of all the inferences made by the transformer up to that point.\n",
        "\n",
        "This is neatly illustrated by the **logit lens**. Rather than getting predictions from the residual stream at the very end of the model, we can take the value of the residual stream midway through the model and convert it to a distribution over tokens. When we do this, we find surprisingly coherent predictions, especially in the last few layers before the end.\n",
        "</details>\n"
      ]
    },
    {
      "cell_type": "markdown",
      "metadata": {
        "id": "MTQ0R_FIo_Er"
      },
      "source": [
        "### Transformer blocks\n",
        "\n",
        "Then we have a series of `n_layers` **transformer blocks** (also sometimes called **residual blocks**).\n",
        "\n",
        "Note - a block contains an attention layer *and* an MLP layer, but we say a transformer has $k$ layers if it has $k$ blocks (i.e. $2k$ total layers).\n"
      ]
    },
    {
      "cell_type": "markdown",
      "metadata": {
        "id": "bN8L6lEgpBNB"
      },
      "source": [
        "#### Attention\n",
        "\n",
        "First we have attention. This moves information from prior positions in the sequence to the current token.\n",
        "\n",
        "We do this for *every* token in parallel using the same parameters. The only difference is that we look backwards only (to avoid \"cheating\"). This means later tokens have more of the sequence that they can look at.\n",
        "\n",
        "Attention layers are the only bit of a transformer that moves information between positions (i.e. between vectors at different sequence positions in the residual stream).\n",
        "\n",
        "Attention layers are made up of `n_heads` heads - each with their own parameters, own attention pattern, and own information how to copy things from source to destination. The heads act independently and additively, we just add their outputs together, and back to the stream.\n",
        "\n",
        "Each head does the following:\n",
        "* Produces an **attention pattern** for each destination token, a probability distribution of prior source tokens (including the current one) weighting how much information to copy.\n",
        "* Moves information (via a linear map) in the same way from each source token to each destination token.\n",
        "\n",
        "A few key points:\n",
        "\n",
        "* What information we copy depends on the source token's *residual stream*, but this doesn't mean it only depends on the value of that token, because the residual stream can store more information than just the token identity (the purpose of the attention heads is to move information between vectors at different positions in the residual stream!)\n",
        "* We can think of each attention head as consisting of two different **circuits**:\n",
        "    * One circuit determines **where to move information to and from** (this is a function of the residual stream for the source and destination tokens)\n",
        "    * The other circuit determines **what information to move** (this is a function of only the source token's residual stream)\n",
        "    * For reasons which will become clear later, we refer to the first circuit as the **QK circuit**, and the second circuit as the **OV circuit**\n",
        "\n",
        "<details>\n",
        "<summary>Key intuition - attention as generalized convolution</summary>\n",
        "\n",
        "We can think of attention as a kind of generalized convolution. Standard convolution layers work by imposing a \"prior of locality\", i.e. the assumption that pixels which are close together are more likely to share information. Although language has some locality (two words next to each other are more likely to share information than two words 100 tokens apart), the picture is a lot more nuanced, because which tokens are relevant to which others depends on the context of the sentence. For instance, in the sentence `\"When Mary and John went to the store, John gave a drink to Mary\"`, the names in this sentence are the most important tokens for predicting that the final token will be `\"Mary\"`, and this is because of the particular context of this sentence rather than the tokens' position.\n",
        "\n",
        "Attention layers are effectively our way of saying to the transformer, \"don't impose a prior of locality, but instead develop your own algorithm to figure out which tokens are important to which other tokens in any given sequence.\"\n",
        "</details>\n",
        "\n",
        "Below is a schematic diagram of the attention layers. Don't worry if you don't follow this right now, we'll go into more detail during implementation.\n"
      ]
    },
    {
      "cell_type": "markdown",
      "metadata": {
        "id": "9oU4oR-_omed"
      },
      "source": [
        "<img src=\"https://raw.githubusercontent.com/callummcdougall/computational-thread-art/master/example_images/misc/transformer-attn-new.png\" width=\"1100\">\n"
      ]
    },
    {
      "cell_type": "markdown",
      "metadata": {
        "id": "fGmfTAbCm4R7"
      },
      "source": [
        "### MLP\n",
        "\n",
        "The MLP layers are just a standard neural network, with a singular hidden layer and a nonlinear activation function. The exact activation isn't conceptually important ([GELU](https://paperswithcode.com/method/gelu) seems to perform best).\n",
        "\n",
        "Our hidden dimension is normally `d_mlp = 4 * d_model`. Exactly why the ratios are what they are isn't super important (people basically cargo-cult what GPT did back in the day!).\n",
        "\n",
        "Importantly, **the MLP operates on positions in the residual stream independently, and in exactly the same way**. It doesn't move information between positions.\n",
        "\n",
        "Intuition - once attention has moved relevant information to a single position in the residual stream, MLPs can actually do computation, reasoning, lookup information, etc. *What the hell is going on inside MLPs* is a pretty big open problem in transformer mechanistic interpretability - see the [Toy Model of Superposition Paper](https://transformer-circuits.pub/2022/toy_model/index.html) for more on why this is hard.\n",
        "\n",
        "<details>\n",
        "<summary>Key intuition - MLPs as key-value pairs</summary>\n",
        "\n",
        "We can write the MLP's output as $f(x^T W^{in})W^{out}$, where $W^{in}$ and $W^{out}$ are the different weights of the MLP (ignoring biases), $f$ is the activation function, and $x$ is a vector in the residual stream. This can be rewritten as:\n",
        "\n",
        "$$\n",
        "f(x^T W^{in}) W^{out} = \\sum_{i=1}^{d_{mlp}} f(x^T W^{in}_{[:, i]}) W^{out}_{[i, :]}\n",
        "$$\n",
        "\n",
        "We can view the vectors $W^{in}_{[:, i]}$ as the **input directions**, and $W^{out}_{[i, :]}$ as the **output directions**. We say the input directions are **activated** by certain textual features, and when they are activated, vectors are written in the corresponding output direction. This is very similar to the concept of keys and values in attention layers, which is why these vectors are also sometimes called keys and values (e.g. see the paper [Transformer Feed-Forward Layers Are Key-Value Memories](https://arxiv.org/pdf/2012.14913.pdf)).\n",
        "\n",
        "Terminology note - sometimes we refer to each of these $d_{mlp}$ input-output pairs as **neurons**.\n",
        "\n",
        "<img src=\"https://raw.githubusercontent.com/callummcdougall/computational-thread-art/master/example_images/misc/mlp-neurons-2.png\" width=\"900\">\n",
        "\n",
        "---\n",
        "\n",
        "Here's a step-by-step breakdown of the linear algebra, if it was too fast above. We have:\n",
        "\n",
        "$$\n",
        "\\begin{aligned}\n",
        "x^T W^{in} &= x^T [W^{in}_{[:, 1]}\\,, ...\\;, W^{in}_{[:, n]}] \\\\\n",
        "&= (x^T W^{in}_{[:, 1]}\\,, \\; ...\\;, \\; x^T W^{in}_{[:, n]})\n",
        "\\end{aligned}\n",
        "$$\n",
        "\n",
        "where $W^{in}_{[:, i]}$ are the columns of $W^{in}$. In other words, these values (the pre-GELU activations) are projections of $x$ along the input directions of the neurons.\n",
        "\n",
        "If we add our activation function and the second matrix, then we get:\n",
        "\n",
        "$$\n",
        "\\begin{aligned}\n",
        "f(x^T W^{in})W^{out} &= (f(x^T W^{in}_{[:, 1]})\\,, \\; ...\\;,\\; f(x^T W^{in}_{[:, n]})) \\begin{bmatrix} \\leftarrow W^{out}_{[1, :]} \\rightarrow \\\\ \\vdots \\\\ \\leftarrow W^{out}_{[n, :]} \\rightarrow \\end{bmatrix} \\\\\n",
        "&= f(x^T W^{in}_{[:, 1]}) W^{out}_{[1, :]} + \\;...\\; + f(x^T W^{in}_{[:, n]}) W^{out}_{[n, :]} \\\\\n",
        "&= \\sum_{i=1}^n f(x^T W^{in}_{[:, i]}) W^{out}_{[i, :]}\n",
        "\\end{aligned}\n",
        "$$\n",
        "\n",
        "where $W^{out}_{[i, :]}$ are the rows of $W^{out}$. In other words, our output is a linear combination of the rows of $W^{out}$, with the coefficients of that linear combination given by the projections of $x$ along the columns of $W^{in}$.\n",
        "\n",
        "</details>\n",
        "\n",
        "<details>\n",
        "<summary>Key intuition - MLPs as knowledge storage</summary>\n",
        "\n",
        "We can think of MLPs as where knowledge gets stored in our transformer. The attention mechanism is what moves information around between sequence positions, but the MLPs is where this information is processed, and new information is written into the residual stream which is a function of the old information.\n",
        "\n",
        "This is deeply connected to the key-value pairs model, since you can treat key-value pairs as a kind of associative memory system (where the key serves as a unique identifier, and the value holds the related information).\n",
        "\n",
        "Another related intuition (for which there is some evidence) is **MLPs as memory management**. In an idealized case, we might find that the $i$-th neuron satisfies $W^{in}_{[:, i]} \\approx - W^{out}_{[i, :]} \\approx \\vec v$ for some unit vector $\\vec v$, meaning it may be responsible for erasing the positive component of vector $\\vec x$ in the direction $\\vec v$ (exercise - can you show why this is the case?). This can free up space in the residual stream for other components to write to.\n",
        "</details>\n"
      ]
    },
    {
      "cell_type": "markdown",
      "metadata": {
        "id": "JxqWjPd2pI2p"
      },
      "source": [
        "<img src=\"https://raw.githubusercontent.com/callummcdougall/computational-thread-art/master/example_images/misc/transformer-mlp-new-2.png\" width=\"650\">\n"
      ]
    },
    {
      "cell_type": "markdown",
      "metadata": {
        "id": "Fvfe6yEtpYMd"
      },
      "source": [
        "### Unembedding\n",
        "\n",
        "Finally, we unembed!\n",
        "\n",
        "This just consists of applying a linear map $W_U$, going from final residual stream to a vector of logits - this is the output.\n",
        "\n",
        "<details>\n",
        "<summary>Aside - tied embeddings</summary>\n",
        "\n",
        "Note - sometimes we use something called a **tied embedding** - this is where we use the same weights for our $W_E$ and $W_U$ matrices. In other words, to get the logit score for a particular token at some sequence position, we just take the vector in the residual stream at that sequence position and take the inner product with the corresponding token embedding vector. This is more training-efficient (because there are fewer parameters in our model), and it might seem pricipled at first. After all, if two words have very similar meanings, shouldn't they have similar embedding vectors because the model will treat them the same, and similar unembedding vectors because they could both be substituted for each other in most output?\n",
        "\n",
        "However, this is actually not very principled, for the following main reason: **the direct path involving the embedding and unembedding should approximate bigram frequencies**.\n",
        "\n",
        "Let's break down this claim. **Bigram frequencies** refers to the frequencies of pairs of words in the english language (e.g. the bigram frequency of \"Barack Obama\" is much higher than the product of the individual frequencies of the words \"Barack\" and \"Obama\"). If our model had no attention heads or MLP layers, then all we have is a linear map from our one-hot encoded token `T` to a probability distribution over the token following `T`. This map is represented by the linear transformation $t \\to t^T W_E W_U$ (where $t$ is our one-hot encoded token vector). Since the output of this transformation can only be a function of the token `T` (and no earlier tokens), the best we can do is have this map approximate the true frequency of bigrams starting with `T`, which appear in the training data. Importantly, **this is not a symmetric map**. We want `T = \"Barack\"` to result in a high probability of the next token being `\"Obama\"`, but not the other way around!\n",
        "\n",
        "Even in multi-layer models, a similar principle applies. There will be more paths through the model than just the \"direct path\" $W_E W_U$, but because of the residual connections there will always exist a direct path, so there will always be some incentive for $W_E W_U$ to approximate bigram frequencies.\n",
        "\n",
        "</details>\n"
      ]
    },
    {
      "cell_type": "markdown",
      "metadata": {
        "id": "g5isIxIEpnO6"
      },
      "source": [
        "### Bonus things - less conceptually important but key technical details\n",
        "\n",
        "#### LayerNorm\n",
        "\n",
        "* Simple normalization function applied at the start of each layer (i.e. before each MLP, attention layer, and before the unembedding)\n",
        "* Converts each input vector (independently in parallel for each batch x position residual stream vector) to have mean zero and variance 1.\n",
        "* Then applies an elementwise scaling and translation\n",
        "* Cool maths tangent: The scale & translate is just a linear map. LayerNorm is only applied immediately before another linear map. Linear compose linear = linear, so we can just fold this into a single effective linear layer and ignore it.\n",
        "    * `fold_ln=True` flag in `from_pretrained` does this for you.\n",
        "* LayerNorm is annoying for interpertability - the scale part is not linear, so you can't think about different bits of the input independently. But it's *almost* linear - if you're changing a small part of the input it's linear, but if you're changing enough to alter the norm substantially it's not linear.\n",
        "</details>\n",
        "\n",
        "\n",
        "#### Positional embeddings\n",
        "\n",
        "* **Problem:** Attention operates over all pairs of positions. This means it's symmetric with regards to position - the attention calculation from token 5 to token 1 and token 5 to token 2 are the same by default\n",
        "    * This is dumb because nearby tokens are more relevant.\n",
        "* There's a lot of dumb hacks for this.\n",
        "* We'll focus on **learned, absolute positional embeddings**. This means we learn a lookup table mapping the index of the position of each token to a residual stream vector, and add this to the embed.\n",
        "    * Note that we *add* rather than concatenate. This is because the residual stream is shared memory, and likely under significant superposition (the model compresses more features in there than the model has dimensions)\n",
        "    * We basically never concatenate inside a transformer, unless doing weird shit like generating text efficiently.\n",
        "* This connects to **attention as generalized convolution**\n",
        "    * We argued that language does still have locality, and so it's helpful for transformers to have access to the positional information so they \"know\" two tokens are next to each other (and hence probably relevant to each other).\n"
      ]
    },
    {
      "cell_type": "markdown",
      "metadata": {
        "id": "pb3wtM2bm4R7"
      },
      "source": [
        "## Actual Code!\n",
        "\n",
        "Key (for the results you get when running the code immediately below)\n",
        "\n",
        "```\n",
        "batch = 1\n",
        "position = 35\n",
        "d_model = 768\n",
        "n_heads = 12\n",
        "n_layers = 12\n",
        "d_mlp = 3072 (= 4 * d_model)\n",
        "d_head = 64 (= d_model / n_heads)\n",
        "```\n"
      ]
    },
    {
      "cell_type": "markdown",
      "metadata": {
        "id": "WC9PaopAm4R7"
      },
      "source": [
        "### Parameters and Activations\n",
        "\n",
        "It's important to distinguish between parameters and activations in the model.\n",
        "\n",
        "* **Parameters** are the weights and biases that are learned during training.\n",
        "    * These don't change when the model input changes.\n",
        "* **Activations** are temporary numbers calculated during a forward pass, that are functions of the input.\n",
        "    * We can think of these values as only existing for the duration of a single forward pass, and disappearing afterwards.\n",
        "    * We can use hooks to access these values during a forward pass (more on hooks later), but it doesn't make sense to talk about a model's activations outside the context of some particular input.\n",
        "    * Attention scores and patterns are activations (this is slightly non-intuitve because they're used in a matrix multiplication with another activation).\n",
        "\n",
        "#### Print All Activation Shapes of Reference Model\n",
        "\n",
        "Run the following code to print all the activation shapes of the reference model:\n"
      ]
    },
    {
      "cell_type": "code",
      "execution_count": 13,
      "metadata": {
        "id": "m6lM8CJmpwDJ",
        "colab": {
          "base_uri": "https://localhost:8080/"
        },
        "outputId": "737c73e0-5af6-4ba6-e4b6-0cdff36cef99"
      },
      "outputs": [
        {
          "output_type": "stream",
          "name": "stdout",
          "text": [
            "hook_embed                     (1, 35, 768)\n",
            "hook_pos_embed                 (1, 35, 768)\n",
            "blocks.0.hook_resid_pre        (1, 35, 768)\n",
            "blocks.0.ln1.hook_scale        (1, 35, 1)\n",
            "blocks.0.ln1.hook_normalized   (1, 35, 768)\n",
            "blocks.0.attn.hook_q           (1, 35, 12, 64)\n",
            "blocks.0.attn.hook_k           (1, 35, 12, 64)\n",
            "blocks.0.attn.hook_v           (1, 35, 12, 64)\n",
            "blocks.0.attn.hook_attn_scores (1, 12, 35, 35)\n",
            "blocks.0.attn.hook_pattern     (1, 12, 35, 35)\n",
            "blocks.0.attn.hook_z           (1, 35, 12, 64)\n",
            "blocks.0.hook_attn_out         (1, 35, 768)\n",
            "blocks.0.hook_resid_mid        (1, 35, 768)\n",
            "blocks.0.ln2.hook_scale        (1, 35, 1)\n",
            "blocks.0.ln2.hook_normalized   (1, 35, 768)\n",
            "blocks.0.mlp.hook_pre          (1, 35, 3072)\n",
            "blocks.0.mlp.hook_post         (1, 35, 3072)\n",
            "blocks.0.hook_mlp_out          (1, 35, 768)\n",
            "blocks.0.hook_resid_post       (1, 35, 768)\n",
            "ln_final.hook_scale            (1, 35, 1)\n",
            "ln_final.hook_normalized       (1, 35, 768)\n"
          ]
        }
      ],
      "source": [
        "for activation_name, activation in cache.items():\n",
        "    # Only print for first layer\n",
        "    if \".0.\" in activation_name or \"blocks\" not in activation_name:\n",
        "        print(f\"{activation_name:30} {tuple(activation.shape)}\")"
      ]
    },
    {
      "cell_type": "markdown",
      "metadata": {
        "id": "RTSyQI7wm4R7"
      },
      "source": [
        "#### Print All Parameters Shapes of Reference Model\n"
      ]
    },
    {
      "cell_type": "code",
      "execution_count": 14,
      "metadata": {
        "id": "HiiiIUbdm4R7",
        "colab": {
          "base_uri": "https://localhost:8080/"
        },
        "outputId": "93742617-19f9-49c3-a9e5-5233971e13ae"
      },
      "outputs": [
        {
          "output_type": "stream",
          "name": "stdout",
          "text": [
            "embed.W_E          (50257, 768)\n",
            "pos_embed.W_pos    (1024, 768)\n",
            "blocks.0.ln1.w     (768,)\n",
            "blocks.0.ln1.b     (768,)\n",
            "blocks.0.ln2.w     (768,)\n",
            "blocks.0.ln2.b     (768,)\n",
            "blocks.0.attn.W_Q  (12, 768, 64)\n",
            "blocks.0.attn.W_O  (12, 64, 768)\n",
            "blocks.0.attn.b_Q  (12, 64)\n",
            "blocks.0.attn.b_O  (768,)\n",
            "blocks.0.attn.W_K  (12, 768, 64)\n",
            "blocks.0.attn.W_V  (12, 768, 64)\n",
            "blocks.0.attn.b_K  (12, 64)\n",
            "blocks.0.attn.b_V  (12, 64)\n",
            "blocks.0.mlp.W_in  (768, 3072)\n",
            "blocks.0.mlp.b_in  (3072,)\n",
            "blocks.0.mlp.W_out (3072, 768)\n",
            "blocks.0.mlp.b_out (768,)\n",
            "ln_final.w         (768,)\n",
            "ln_final.b         (768,)\n",
            "unembed.W_U        (768, 50257)\n",
            "unembed.b_U        (50257,)\n"
          ]
        }
      ],
      "source": [
        "for name, param in reference_gpt2.named_parameters():\n",
        "    # Only print for first layer\n",
        "    if \".0.\" in name or \"blocks\" not in name:\n",
        "        print(f\"{name:18} {tuple(param.shape)}\")"
      ]
    },
    {
      "cell_type": "markdown",
      "metadata": {
        "id": "s7tXtTowp0Fy"
      },
      "source": [
        "[This diagram](https://raw.githubusercontent.com/callummcdougall/computational-thread-art/master/example_images/misc/full-merm.svg) shows the name of all activations and parameters in a fully general transformer model from transformerlens (except for a few at the start and end, like the embedding and unembedding). Lots of this won't make sense at first, but you can return to this diagram later and check that you understand most/all parts of it.\n",
        "\n",
        "There's also an annotated version [here](https://raw.githubusercontent.com/callummcdougall/computational-thread-art/master/example_images/misc/transformer-full-updated.png).\n"
      ]
    },
    {
      "cell_type": "markdown",
      "metadata": {
        "id": "TTbG6T8Bm4R8"
      },
      "source": [
        "### Config\n",
        "\n",
        "The config object contains all the hyperparameters of the model. We can print the config of the reference model to see what it contains:\n"
      ]
    },
    {
      "cell_type": "code",
      "execution_count": 15,
      "metadata": {
        "id": "WPzJd3z-m4R8",
        "colab": {
          "base_uri": "https://localhost:8080/"
        },
        "outputId": "d4900a64-cddd-4dd5-d8eb-5cdfc00758e4"
      },
      "outputs": [
        {
          "output_type": "stream",
          "name": "stdout",
          "text": [
            "HookedTransformerConfig:\n",
            "{'act_fn': 'gelu_new',\n",
            " 'attention_dir': 'causal',\n",
            " 'attn_only': False,\n",
            " 'attn_types': None,\n",
            " 'checkpoint_index': None,\n",
            " 'checkpoint_label_type': None,\n",
            " 'checkpoint_value': None,\n",
            " 'd_head': 64,\n",
            " 'd_mlp': 3072,\n",
            " 'd_model': 768,\n",
            " 'd_vocab': 50257,\n",
            " 'd_vocab_out': 50257,\n",
            " 'default_prepend_bos': True,\n",
            " 'device': device(type='cuda'),\n",
            " 'dtype': torch.float32,\n",
            " 'eps': 1e-05,\n",
            " 'final_rms': False,\n",
            " 'from_checkpoint': False,\n",
            " 'gated_mlp': False,\n",
            " 'init_mode': 'gpt2',\n",
            " 'init_weights': False,\n",
            " 'initializer_range': 0.02886751345948129,\n",
            " 'model_name': 'gpt2',\n",
            " 'n_ctx': 1024,\n",
            " 'n_devices': 1,\n",
            " 'n_heads': 12,\n",
            " 'n_key_value_heads': None,\n",
            " 'n_layers': 12,\n",
            " 'n_params': 84934656,\n",
            " 'normalization_type': 'LN',\n",
            " 'original_architecture': 'GPT2LMHeadModel',\n",
            " 'parallel_attn_mlp': False,\n",
            " 'positional_embedding_type': 'standard',\n",
            " 'post_embedding_ln': False,\n",
            " 'rotary_adjacent_pairs': False,\n",
            " 'rotary_base': 10000,\n",
            " 'rotary_dim': None,\n",
            " 'scale_attn_by_inverse_layer_idx': False,\n",
            " 'seed': None,\n",
            " 'tokenizer_name': 'gpt2',\n",
            " 'tokenizer_prepends_bos': False,\n",
            " 'trust_remote_code': False,\n",
            " 'use_attn_in': False,\n",
            " 'use_attn_result': False,\n",
            " 'use_attn_scale': True,\n",
            " 'use_hook_mlp_in': False,\n",
            " 'use_hook_tokens': False,\n",
            " 'use_local_attn': False,\n",
            " 'use_split_qkv_input': False,\n",
            " 'window_size': None}\n"
          ]
        }
      ],
      "source": [
        "# As a reference - note there's a lot of stuff we don't care about in here, to do with library internals or other architectures\n",
        "print(reference_gpt2.cfg)"
      ]
    },
    {
      "cell_type": "markdown",
      "metadata": {
        "id": "dCXCsrSSm4R8"
      },
      "source": [
        "We define a stripped down config for our model:\n"
      ]
    },
    {
      "cell_type": "code",
      "execution_count": 16,
      "metadata": {
        "id": "VzsnAKw7m4R8",
        "colab": {
          "base_uri": "https://localhost:8080/"
        },
        "outputId": "b22bd037-e268-46d4-f3d0-acf7d21412b9"
      },
      "outputs": [
        {
          "output_type": "stream",
          "name": "stdout",
          "text": [
            "Config(d_model=768, debug=True, layer_norm_eps=1e-05, d_vocab=50257, init_range=0.02, n_ctx=1024, d_head=64, d_mlp=3072, n_heads=12, n_layers=12)\n"
          ]
        }
      ],
      "source": [
        "@dataclass\n",
        "class Config:\n",
        "    d_model: int = 768\n",
        "    debug: bool = True\n",
        "    layer_norm_eps: float = 1e-5\n",
        "    d_vocab: int = 50257\n",
        "    init_range: float = 0.02\n",
        "    n_ctx: int = 1024\n",
        "    d_head: int = 64\n",
        "    d_mlp: int = 3072\n",
        "    n_heads: int = 12\n",
        "    n_layers: int = 12\n",
        "\n",
        "cfg = Config()\n",
        "print(cfg)"
      ]
    },
    {
      "cell_type": "markdown",
      "metadata": {
        "id": "RZlXjTMWm4R8"
      },
      "source": [
        "## Tests\n"
      ]
    },
    {
      "cell_type": "markdown",
      "metadata": {
        "id": "DJ8aqDkYm4R8"
      },
      "source": [
        "Tests are great, write lightweight ones to use as you go!\n",
        "\n",
        "**Naive test:** Generate random inputs of the right shape, input to your model, check whether there's an error and print the correct output.\n"
      ]
    },
    {
      "cell_type": "code",
      "execution_count": 17,
      "metadata": {
        "id": "iqUK4acom4R8"
      },
      "outputs": [],
      "source": [
        "def rand_float_test(cls, shape):\n",
        "    cfg = Config(debug=True)\n",
        "    layer = cls(cfg).to(device)\n",
        "    random_input = t.randn(shape).to(device)\n",
        "    print(\"Input shape:\", random_input.shape)\n",
        "    output = layer(random_input)\n",
        "    if isinstance(output, tuple): output = output[0]\n",
        "    print(\"Output shape:\", output.shape, \"\\n\")\n",
        "\n",
        "def rand_int_test(cls, shape):\n",
        "    cfg = Config(debug=True)\n",
        "    layer = cls(cfg).to(device)\n",
        "    random_input = t.randint(100, 1000, shape).to(device)\n",
        "    print(\"Input shape:\", random_input.shape)\n",
        "    output = layer(random_input)\n",
        "    if isinstance(output, tuple): output = output[0]\n",
        "    print(\"Output shape:\", output.shape, \"\\n\")\n",
        "\n",
        "def load_gpt2_test(cls, gpt2_layer, input):\n",
        "    cfg = Config(debug=True)\n",
        "    layer = cls(cfg).to(device)\n",
        "    layer.load_state_dict(gpt2_layer.state_dict(), strict=False)\n",
        "    print(\"Input shape:\", input.shape)\n",
        "    output = layer(input)\n",
        "    if isinstance(output, tuple): output = output[0]\n",
        "    print(\"Output shape:\", output.shape)\n",
        "    try: reference_output = gpt2_layer(input)\n",
        "    except: reference_output = gpt2_layer(input, input, input)\n",
        "    print(\"Reference output shape:\", reference_output.shape, \"\\n\")\n",
        "    comparison = t.isclose(output, reference_output, atol=1e-4, rtol=1e-3)\n",
        "    print(f\"{comparison.sum()/comparison.numel():.2%} of the values are correct\\n\")"
      ]
    },
    {
      "cell_type": "markdown",
      "metadata": {
        "id": "Vo4pVDvim4R8"
      },
      "source": [
        "## LayerNorm\n",
        "\n",
        "```c\n",
        "Difficulty: 🔴🔴🔴⚪⚪\n",
        "Importance: 🔵🔵🔵⚪⚪\n",
        "\n",
        "You should spend up to 10-15 minutes on this exercise.\n",
        "```\n",
        "\n",
        "You should fill in the code below, and then run the tests to verify that your layer is working correctly.\n",
        "\n",
        "Your LayerNorm should do the following:\n",
        "\n",
        "* Make mean 0\n",
        "* Normalize to have variance 1\n",
        "* Scale with learned weights\n",
        "* Translate with learned bias\n",
        "\n",
        "You can use the PyTorch [LayerNorm documentation](https://pytorch.org/docs/stable/generated/torch.nn.LayerNorm.html) as a reference. A few more notes:\n",
        "\n",
        "* Your layernorm implementation always has `affine=True`, i.e. you do learn parameters `w` and `b` (which are represented as $\\gamma$ and $\\beta$ respectively in the PyTorch documentation).\n",
        "* Remember that, after the centering and normalization, each vector of length `d_model` in your input should have mean 0 and variance 1.\n",
        "* As the PyTorch documentation page says, your variance should be computed using `unbiased=False`.\n",
        "* The `layer_norm_eps` argument in your config object corresponds to the $\\epsilon$ term in the PyTorch documentation (it is included to avoid division-by-zero errors).\n",
        "* We've given you a `debug` argument in your config. If `debug=True`, then you can print output like the shape of objects in your `forward` function to help you debug (this is a very useful trick to improve your coding speed).\n",
        "\n",
        "Fill in the function, where it says `pass` (this will be the basic pattern for most other exercises in this section).\n"
      ]
    },
    {
      "cell_type": "code",
      "execution_count": 18,
      "metadata": {
        "id": "OlU317NRm4R9",
        "colab": {
          "base_uri": "https://localhost:8080/"
        },
        "outputId": "15f7a281-dd29-4116-e75d-4d88761f6919"
      },
      "outputs": [
        {
          "output_type": "stream",
          "name": "stdout",
          "text": [
            "Input shape: torch.Size([2, 4, 768])\n",
            "Output shape: torch.Size([2, 4, 768]) \n",
            "\n",
            "Input shape: torch.Size([1, 35, 768])\n",
            "Output shape: torch.Size([1, 35, 768])\n",
            "Reference output shape: torch.Size([1, 35, 768]) \n",
            "\n",
            "100.00% of the values are correct\n",
            "\n"
          ]
        }
      ],
      "source": [
        "class LayerNorm(nn.Module):\n",
        "    def __init__(self, cfg: Config):\n",
        "        super().__init__()\n",
        "        self.cfg = cfg\n",
        "        self.w = nn.Parameter(t.ones(cfg.d_model))\n",
        "        self.b = nn.Parameter(t.zeros(cfg.d_model))\n",
        "\n",
        "    def forward(self, residual: Float[Tensor, \"batch posn d_model\"]) -> Float[Tensor, \"batch posn d_model\"]:\n",
        "        # make mean 0\n",
        "        res_mean = einops.reduce(residual, 'batch posn d_model -> batch posn ()', 'mean')\n",
        "        residual = residual-res_mean\n",
        "        # normalize to  have variance 1\n",
        "        res_variance = t.var(residual, -1, keepdim=True, correction= 0)\n",
        "        residual = residual / t.sqrt(res_variance + self.cfg.layer_norm_eps)\n",
        "        # scale with learned weights\n",
        "        residual = residual * self.w\n",
        "        # translate with learned bias\n",
        "        residual = residual + self.b\n",
        "        return residual\n",
        "\n",
        "rand_float_test(LayerNorm, [2, 4, 768])\n",
        "load_gpt2_test(LayerNorm, reference_gpt2.ln_final, cache[\"resid_post\", 11])"
      ]
    },
    {
      "cell_type": "markdown",
      "metadata": {
        "id": "u9GJDIsAm4R9"
      },
      "source": [
        "## Embedding\n",
        "\n",
        "```c\n",
        "Difficulty: 🔴🔴⚪⚪⚪\n",
        "Importance: 🔵🔵🔵⚪⚪\n",
        "\n",
        "You should spend up to 5-10 minutes on this exercise.\n",
        "```\n",
        "\n",
        "This is basically a lookup table from tokens to residual stream vectors.\n",
        "\n",
        "(Hint - you can implement this in just one line, without any complicated functions.)\n"
      ]
    },
    {
      "cell_type": "code",
      "execution_count": 19,
      "metadata": {
        "id": "oc6WFuDAm4R9",
        "colab": {
          "base_uri": "https://localhost:8080/"
        },
        "outputId": "50a6aa55-b577-4c50-e0b5-67b43912ca49"
      },
      "outputs": [
        {
          "output_type": "stream",
          "name": "stdout",
          "text": [
            "Input shape: torch.Size([2, 4])\n",
            "Output shape: torch.Size([2, 4, 768]) \n",
            "\n",
            "Input shape: torch.Size([1, 45])\n",
            "Output shape: torch.Size([1, 45, 768])\n",
            "Reference output shape: torch.Size([1, 45, 768]) \n",
            "\n",
            "100.00% of the values are correct\n",
            "\n"
          ]
        }
      ],
      "source": [
        "class Embed(nn.Module):\n",
        "    def __init__(self, cfg: Config):\n",
        "        super().__init__()\n",
        "        self.cfg = cfg\n",
        "        self.W_E = nn.Parameter(t.empty((cfg.d_vocab, cfg.d_model)))\n",
        "        nn.init.normal_(self.W_E, std=self.cfg.init_range)\n",
        "\n",
        "    def forward(self, tokens: Int[Tensor, \"batch position\"]) -> Float[Tensor, \"batch position d_model\"]:\n",
        "        return self.W_E[tokens]\n",
        "\n",
        "rand_int_test(Embed, [2, 4])\n",
        "load_gpt2_test(Embed, reference_gpt2.embed, tokens)"
      ]
    },
    {
      "cell_type": "markdown",
      "metadata": {
        "id": "fStv2M35fHN0"
      },
      "source": [
        "<details>\n",
        "<summary>Help - I keep getting <code>RuntimeError: CUDA error: device-side assert triggered</code>.</summary>\n",
        "\n",
        "This is a uniquely frustrating type of error message, because it (1) forces you to restart the kernel, and (2) often won't tell you where the error message actually originated from!\n",
        "\n",
        "You can fix the second problem by adding the line `os.environ['CUDA_LAUNCH_BLOCKING'] = \"1\"` to the very top of your file (after importing `os`). This won't fix your bug, but it makes sure the correct origin point is identified.\n",
        "\n",
        "As for actually fixing the bug, this error usually ends up being the result of bad indexing, e.g. you're trying to apply an embedding layer to tokens which are larger than your maximum embedding.\n",
        "</details>\n"
      ]
    },
    {
      "cell_type": "markdown",
      "metadata": {
        "id": "YhHFmPZ6m4R9"
      },
      "source": [
        "## Positional Embedding\n",
        "\n",
        "```c\n",
        "Difficulty: 🔴🔴⚪⚪⚪\n",
        "Importance: 🔵🔵🔵⚪⚪\n",
        "\n",
        "You should spend up to 10-15 minutes on this exercise.\n",
        "```\n",
        "\n",
        "Positional embedding can also be thought of as a lookup table, but rather than the indices being our token IDs, the indices are just the numbers `0`, `1`, `2`, ..., `seq_len-1` (i.e. the position indices of the tokens in the sequence).\n"
      ]
    },
    {
      "cell_type": "code",
      "execution_count": 20,
      "metadata": {
        "id": "fNAkYB8dm4R9",
        "colab": {
          "base_uri": "https://localhost:8080/"
        },
        "outputId": "4a569db6-8a7e-4f56-e271-1466c94d2fa3"
      },
      "outputs": [
        {
          "output_type": "stream",
          "name": "stdout",
          "text": [
            "Input shape: torch.Size([2, 4])\n",
            "Output shape: torch.Size([4, 768]) \n",
            "\n",
            "Input shape: torch.Size([1, 45])\n",
            "Output shape: torch.Size([45, 768])\n",
            "Reference output shape: torch.Size([1, 45, 768]) \n",
            "\n",
            "100.00% of the values are correct\n",
            "\n"
          ]
        }
      ],
      "source": [
        "class PosEmbed(nn.Module):\n",
        "    def __init__(self, cfg: Config):\n",
        "        super().__init__()\n",
        "        self.cfg = cfg\n",
        "        self.W_pos = nn.Parameter(t.empty((cfg.n_ctx, cfg.d_model)))\n",
        "        nn.init.normal_(self.W_pos, std=self.cfg.init_range)\n",
        "\n",
        "    def forward(self, tokens: Int[Tensor, \"batch position\"]) -> Float[Tensor, \"batch position d_model\"]:\n",
        "        return(self.W_pos[:tokens.shape[1]])\n",
        "\n",
        "rand_int_test(PosEmbed, [2, 4])\n",
        "load_gpt2_test(PosEmbed, reference_gpt2.pos_embed, tokens)"
      ]
    },
    {
      "cell_type": "markdown",
      "metadata": {
        "id": "o_WZWukYm4R-"
      },
      "source": [
        "## Attention\n",
        "\n",
        "```c\n",
        "Difficulty: 🔴🔴🔴🔴⚪\n",
        "Importance: 🔵🔵🔵🔵🔵\n",
        "\n",
        "You should spend up to 30-45 minutes on this exercise.\n",
        "```\n",
        "\n",
        "* **Step 1:** Produce an attention pattern - for each destination token, probability distribution over previous tokens (including current token)\n",
        "    * Linear map from input -> query, key shape `[batch, seq_posn, head_index, d_head]`\n",
        "    * Dot product every *pair* of queries and keys to get attn_scores `[batch, head_index, query_pos, key_pos]` (query = dest, key = source)\n",
        "    * **Scale** and mask `attn_scores` to make it lower triangular, i.e. causal\n",
        "    * Softmax along the `key_pos` dimension, to get a probability distribution for each query (destination) token - this is our attention pattern!\n",
        "* **Step 2:** Move information from source tokens to destination token using attention pattern (move = apply linear map)\n",
        "    * Linear map from input -> value `[batch, key_pos, head_index, d_head]`\n",
        "    * Mix along the `key_pos` with attn pattern to get `z`, which is a weighted average of the value vectors `[batch, query_pos, head_index, d_head]`\n",
        "    * Map to output, `[batch, position, d_model]` (position = query_pos, we've summed over all heads)\n",
        "\n",
        "Note - when we say **scale**, we mean dividing by `sqrt(d_head)`. The purpose of this is to avoid vanishing gradients (which is a big problem when we're dealing with a function like softmax - if one of the values is much larger than all the others, the probabilities will be close to 0 or 1, and the gradients will be close to 0).\n",
        "\n",
        "Below is a much larger, more detailed version of the attention head diagram from earlier. This should give you an idea of the actual tensor operations involved. A few clarifications on this diagram:\n",
        "\n",
        "* Whenever there is a third dimension shown in the pictures, this refers to the `head_index` dimension. We can see that all operations within the attention layer are done independently for each head.\n",
        "* The objects in the box are activations; they have a batch dimension (for simplicity, we assume the batch dimension is 1 in the diagram). The objects to the right of the box are our parameters (weights and biases); they have no batch dimension.\n",
        "* We arrange the keys, queries and values as `(batch, seq_pos, head_idx, d_head)`, because the biases have shape `(head_idx, d_head)`, so this makes it convenient to add the biases (recall the rules of array broadcasting!).\n"
      ]
    },
    {
      "cell_type": "markdown",
      "metadata": {
        "id": "FuZvGlnhsIcr"
      },
      "source": [
        "<img src=\"https://raw.githubusercontent.com/callummcdougall/computational-thread-art/master/example_images/misc/transformer-attn-21.png\" width=\"1400\">\n"
      ]
    },
    {
      "cell_type": "markdown",
      "metadata": {
        "id": "PCODWJmAsr8x"
      },
      "source": [
        "<details>\n",
        "<summary><b>A few extra notes on attention (optional)</b></summary>\n",
        "\n",
        "Usually we have the relation `e = n * h` (i.e. `d_model = num_heads * d_head`). There are some computational justifications for this, but mostly this is just done out of convention (just like how we usually have `d_mlp = 4 * d_model`!).\n",
        "\n",
        "---\n",
        "\n",
        "The names **keys**, **queries** and **values** come from their analogy to retrieval systems. Broadly speaking:\n",
        "\n",
        "* The **queries** represent some information that a token is **\"looking for\"**\n",
        "* The **keys** represent the information that a token **\"contains\"**\n",
        "    * So the attention score being high basically means that the source (key) token contains the information which the destination (query) token **is looking for**\n",
        "* The **values** represent the information that is actually taken from the source token, to be moved to the destination token\n",
        "\n",
        "---\n",
        "\n",
        "This diagram can better help us understand the difference between the **QK** and **OV** circuit. We'll discuss this just briefly here, and will go into much more detail later on.\n",
        "\n",
        "The **QK** circuit consists of the operation of the $W_Q$ and $W_K$ matrices. In other words, it determines the attention pattern, i.e. where information is moved to and from in the residual stream. The functional form of the attention pattern $A$ is:\n",
        "\n",
        "$$\n",
        "A = \\text{softmax}\\left(\\frac{x^T W_Q W_K^T x}{\\sqrt{d_{head}}}\\right)\n",
        "$$\n",
        "\n",
        "where $x$ is the residual stream (shape `[seq_len, d_model]`), and $W_Q$, $W_K$ are the weight matrices for a single head (i.e. shape `[d_model, d_head]`).\n",
        "\n",
        "The **OV** circuit consists of the operation of the $W_V$ and $W_O$ matrices. Once attention patterns are fixed, these matrices operate on the residual stream at the source position, and their output is the thing which gets moved from source to destination position.\n",
        "\n",
        "The functional form of an entire attention head is:\n",
        "\n",
        "$$\n",
        "\\begin{aligned}\n",
        "\\text{output} &= \\text{softmax}\\left(\\frac{x W_Q W_K^T x^T}{\\sqrt{d_{head}}}\\right) (x W_V W_O) \\\\\n",
        "    &= Ax W_V W_O\n",
        "\\end{aligned}\n",
        "$$\n",
        "\n",
        "where $W_V$ has shape `[d_model, d_head]`, and $W_O$ has shape `[d_head, d_model]`.\n",
        "\n",
        "Here, we can clearly see that the **QK circuit** and **OV circuit** are doing conceptually different things, and should be thought of as two distinct parts of the attention head.\n",
        "\n",
        "Again, don't worry if you don't follow all of this right now - we'll go into **much** more detail on all of this in subsequent exercises. The purpose of the discussion here is just to give you a flavour of what's to come!\n",
        "\n",
        "</details>\n"
      ]
    },
    {
      "cell_type": "markdown",
      "metadata": {
        "id": "oA2JcOaHm4R-"
      },
      "source": [
        "First, it's useful to visualize and play around with attention patterns - what exactly are we looking at here? (Click on a head to lock onto just showing that head's pattern, it'll make it easier to interpret)\n"
      ]
    },
    {
      "cell_type": "code",
      "execution_count": 21,
      "metadata": {
        "id": "T38f-qpJtBTD",
        "colab": {
          "base_uri": "https://localhost:8080/",
          "height": 357
        },
        "outputId": "74fa2c4f-10bc-439e-c296-b563a31c5908"
      },
      "outputs": [
        {
          "output_type": "display_data",
          "data": {
            "text/plain": [
              "<circuitsvis.utils.render.RenderedHTML at 0x797f8fbb05b0>"
            ],
            "text/html": [
              "<div id=\"circuits-vis-de105c3b-f672\" style=\"margin: 15px 0;\"/>\n",
              "    <script crossorigin type=\"module\">\n",
              "    import { render, AttentionPatterns } from \"https://unpkg.com/circuitsvis@1.41.0/dist/cdn/esm.js\";\n",
              "    render(\n",
              "      \"circuits-vis-de105c3b-f672\",\n",
              "      AttentionPatterns,\n",
              "      {\"tokens\": [\"<|endoftext|>\", \"I\", \" am\", \" an\", \" amazing\", \" aut\", \"ore\", \"gressive\", \",\", \" dec\", \"oder\", \"-\", \"only\", \",\", \" G\", \"PT\", \"-\", \"2\", \" style\", \" transformer\", \".\", \" One\", \" day\", \" I\", \" will\", \" exceed\", \" human\", \" level\", \" intelligence\", \" and\", \" take\", \" over\", \" the\", \" world\", \"!\"], \"attention\": [[[1.0, 0.0, 0.0, 0.0, 0.0, 0.0, 0.0, 0.0, 0.0, 0.0, 0.0, 0.0, 0.0, 0.0, 0.0, 0.0, 0.0, 0.0, 0.0, 0.0, 0.0, 0.0, 0.0, 0.0, 0.0, 0.0, 0.0, 0.0, 0.0, 0.0, 0.0, 0.0, 0.0, 0.0, 0.0], [0.9679255485534668, 0.0320744626224041, 0.0, 0.0, 0.0, 0.0, 0.0, 0.0, 0.0, 0.0, 0.0, 0.0, 0.0, 0.0, 0.0, 0.0, 0.0, 0.0, 0.0, 0.0, 0.0, 0.0, 0.0, 0.0, 0.0, 0.0, 0.0, 0.0, 0.0, 0.0, 0.0, 0.0, 0.0, 0.0, 0.0], [0.8024235963821411, 0.16839200258255005, 0.029184354469180107, 0.0, 0.0, 0.0, 0.0, 0.0, 0.0, 0.0, 0.0, 0.0, 0.0, 0.0, 0.0, 0.0, 0.0, 0.0, 0.0, 0.0, 0.0, 0.0, 0.0, 0.0, 0.0, 0.0, 0.0, 0.0, 0.0, 0.0, 0.0, 0.0, 0.0, 0.0, 0.0], [0.6959055066108704, 0.12269632518291473, 0.1458849161863327, 0.035513244569301605, 0.0, 0.0, 0.0, 0.0, 0.0, 0.0, 0.0, 0.0, 0.0, 0.0, 0.0, 0.0, 0.0, 0.0, 0.0, 0.0, 0.0, 0.0, 0.0, 0.0, 0.0, 0.0, 0.0, 0.0, 0.0, 0.0, 0.0, 0.0, 0.0, 0.0, 0.0], [0.5661024451255798, 0.14705193042755127, 0.08665256202220917, 0.11258415132761002, 0.08760891854763031, 0.0, 0.0, 0.0, 0.0, 0.0, 0.0, 0.0, 0.0, 0.0, 0.0, 0.0, 0.0, 0.0, 0.0, 0.0, 0.0, 0.0, 0.0, 0.0, 0.0, 0.0, 0.0, 0.0, 0.0, 0.0, 0.0, 0.0, 0.0, 0.0, 0.0], [0.4621872901916504, 0.13512831926345825, 0.09698347002267838, 0.17473755776882172, 0.0462459996342659, 0.08471734821796417, 0.0, 0.0, 0.0, 0.0, 0.0, 0.0, 0.0, 0.0, 0.0, 0.0, 0.0, 0.0, 0.0, 0.0, 0.0, 0.0, 0.0, 0.0, 0.0, 0.0, 0.0, 0.0, 0.0, 0.0, 0.0, 0.0, 0.0, 0.0, 0.0], [0.4325161278247833, 0.1038287952542305, 0.0833013728260994, 0.06995749473571777, 0.0747937485575676, 0.2156865894794464, 0.019915921613574028, 0.0, 0.0, 0.0, 0.0, 0.0, 0.0, 0.0, 0.0, 0.0, 0.0, 0.0, 0.0, 0.0, 0.0, 0.0, 0.0, 0.0, 0.0, 0.0, 0.0, 0.0, 0.0, 0.0, 0.0, 0.0, 0.0, 0.0, 0.0], [0.22236743569374084, 0.09167700260877609, 0.08796325325965881, 0.25168728828430176, 0.08263690024614334, 0.10428163409233093, 0.06469016522169113, 0.09469635784626007, 0.0, 0.0, 0.0, 0.0, 0.0, 0.0, 0.0, 0.0, 0.0, 0.0, 0.0, 0.0, 0.0, 0.0, 0.0, 0.0, 0.0, 0.0, 0.0, 0.0, 0.0, 0.0, 0.0, 0.0, 0.0, 0.0, 0.0], [0.4049955904483795, 0.09078017622232437, 0.05237355828285217, 0.02620188146829605, 0.11047191172838211, 0.03667406365275383, 0.025538939982652664, 0.24528270959854126, 0.007681120187044144, 0.0, 0.0, 0.0, 0.0, 0.0, 0.0, 0.0, 0.0, 0.0, 0.0, 0.0, 0.0, 0.0, 0.0, 0.0, 0.0, 0.0, 0.0, 0.0, 0.0, 0.0, 0.0, 0.0, 0.0, 0.0, 0.0], [0.39985963702201843, 0.043613165616989136, 0.06183883547782898, 0.0729835033416748, 0.03661304712295532, 0.09147471934556961, 0.07241708785295486, 0.07013334333896637, 0.06429054588079453, 0.08677610009908676, 0.0, 0.0, 0.0, 0.0, 0.0, 0.0, 0.0, 0.0, 0.0, 0.0, 0.0, 0.0, 0.0, 0.0, 0.0, 0.0, 0.0, 0.0, 0.0, 0.0, 0.0, 0.0, 0.0, 0.0, 0.0], [0.09702544659376144, 0.035527583211660385, 0.023214804008603096, 0.03676703944802284, 0.02515839971601963, 0.2775617241859436, 0.07676514238119125, 0.1950118988752365, 0.055800992995500565, 0.14529389142990112, 0.031873054802417755, 0.0, 0.0, 0.0, 0.0, 0.0, 0.0, 0.0, 0.0, 0.0, 0.0, 0.0, 0.0, 0.0, 0.0, 0.0, 0.0, 0.0, 0.0, 0.0, 0.0, 0.0, 0.0, 0.0, 0.0], [0.24143841862678528, 0.03971058875322342, 0.07687381654977798, 0.028042690828442574, 0.12435989826917648, 0.05601578950881958, 0.060636721551418304, 0.1284010261297226, 0.015699442476034164, 0.09114037454128265, 0.13185444474220276, 0.005826775450259447, 0.0, 0.0, 0.0, 0.0, 0.0, 0.0, 0.0, 0.0, 0.0, 0.0, 0.0, 0.0, 0.0, 0.0, 0.0, 0.0, 0.0, 0.0, 0.0, 0.0, 0.0, 0.0, 0.0], [0.1436309963464737, 0.05110502243041992, 0.05505892261862755, 0.07798513025045395, 0.0785428062081337, 0.03501971438527107, 0.1349860578775406, 0.2263406664133072, 0.041628528386354446, 0.035131413489580154, 0.02023601531982422, 0.04114446043968201, 0.05919027701020241, 0.0, 0.0, 0.0, 0.0, 0.0, 0.0, 0.0, 0.0, 0.0, 0.0, 0.0, 0.0, 0.0, 0.0, 0.0, 0.0, 0.0, 0.0, 0.0, 0.0, 0.0, 0.0], [0.3156284689903259, 0.06791997700929642, 0.03787236288189888, 0.01787460409104824, 0.08683168143033981, 0.02922782674431801, 0.017664169892668724, 0.18301641941070557, 0.004987796768546104, 0.04322868213057518, 0.05172262713313103, 0.008913456462323666, 0.12899242341518402, 0.0061195106245577335, 0.0, 0.0, 0.0, 0.0, 0.0, 0.0, 0.0, 0.0, 0.0, 0.0, 0.0, 0.0, 0.0, 0.0, 0.0, 0.0, 0.0, 0.0, 0.0, 0.0, 0.0], [0.28410205245018005, 0.053453970700502396, 0.023969214409589767, 0.02256225422024727, 0.046198245137929916, 0.06391074508428574, 0.04539215937256813, 0.07758504152297974, 0.027644295245409012, 0.058041177690029144, 0.17727358639240265, 0.03400601074099541, 0.03052729368209839, 0.032130785286426544, 0.023203173652291298, 0.0, 0.0, 0.0, 0.0, 0.0, 0.0, 0.0, 0.0, 0.0, 0.0, 0.0, 0.0, 0.0, 0.0, 0.0, 0.0, 0.0, 0.0, 0.0, 0.0], [0.1410391628742218, 0.028577815741300583, 0.03760397806763649, 0.031378280371427536, 0.03697335347533226, 0.07347068935632706, 0.07151782512664795, 0.09211235493421555, 0.03358153626322746, 0.03639131411910057, 0.18937668204307556, 0.03244519233703613, 0.060210395604372025, 0.039169251918792725, 0.04040953144431114, 0.05574264004826546, 0.0, 0.0, 0.0, 0.0, 0.0, 0.0, 0.0, 0.0, 0.0, 0.0, 0.0, 0.0, 0.0, 0.0, 0.0, 0.0, 0.0, 0.0, 0.0], [0.2026529312133789, 0.030252795666456223, 0.06003408506512642, 0.021786155179142952, 0.10314233601093292, 0.04516839608550072, 0.04681028425693512, 0.10542113333940506, 0.011398820206522942, 0.07159951329231262, 0.10570329427719116, 0.004199372138828039, 0.1107979416847229, 0.013912511058151722, 0.028923509642481804, 0.03286947309970856, 0.005327517632395029, 0.0, 0.0, 0.0, 0.0, 0.0, 0.0, 0.0, 0.0, 0.0, 0.0, 0.0, 0.0, 0.0, 0.0, 0.0, 0.0, 0.0, 0.0], [0.204983651638031, 0.040072280913591385, 0.04229810833930969, 0.024939006194472313, 0.04992291331291199, 0.029371699318289757, 0.03076968900859356, 0.10315563529729843, 0.02549019828438759, 0.07886798679828644, 0.10560180991888046, 0.01735270954668522, 0.0808369591832161, 0.03128696233034134, 0.054510559886693954, 0.052883174270391464, 0.021742794662714005, 0.005913801025599241, 0.0, 0.0, 0.0, 0.0, 0.0, 0.0, 0.0, 0.0, 0.0, 0.0, 0.0, 0.0, 0.0, 0.0, 0.0, 0.0, 0.0], [0.24350903928279877, 0.03636488318443298, 0.04196161404252052, 0.026215726509690285, 0.040445711463689804, 0.09965367615222931, 0.025752250105142593, 0.03249461576342583, 0.024459941312670708, 0.03520265221595764, 0.03383537009358406, 0.03347690775990486, 0.04664861410856247, 0.02796792984008789, 0.0186407882720232, 0.1176425889134407, 0.03875286877155304, 0.022786688059568405, 0.05418814346194267, 0.0, 0.0, 0.0, 0.0, 0.0, 0.0, 0.0, 0.0, 0.0, 0.0, 0.0, 0.0, 0.0, 0.0, 0.0, 0.0], [0.14194567501544952, 0.034064047038555145, 0.033009886741638184, 0.02023870311677456, 0.03927317261695862, 0.026005549356341362, 0.006318641826510429, 0.040797874331474304, 0.03638002648949623, 0.14631055295467377, 0.01638616807758808, 0.023598458617925644, 0.015842774882912636, 0.04227606952190399, 0.02245824784040451, 0.0686739981174469, 0.02787845768034458, 0.037222396582365036, 0.08677612990140915, 0.13454319536685944, 0.0, 0.0, 0.0, 0.0, 0.0, 0.0, 0.0, 0.0, 0.0, 0.0, 0.0, 0.0, 0.0, 0.0, 0.0], [0.2177814245223999, 0.02690366841852665, 0.023647204041481018, 0.007102563511580229, 0.03517002612352371, 0.013998538255691528, 0.010392271913588047, 0.09431248158216476, 0.0029622865840792656, 0.03783804178237915, 0.037923309952020645, 0.003733975812792778, 0.06506101787090302, 0.003636461216956377, 0.014758048579096794, 0.1202862486243248, 0.004900881089270115, 0.00810736883431673, 0.01744985021650791, 0.24998730421066284, 0.004047101363539696, 0.0, 0.0, 0.0, 0.0, 0.0, 0.0, 0.0, 0.0, 0.0, 0.0, 0.0, 0.0, 0.0, 0.0], [0.12187221646308899, 0.07663217186927795, 0.03023197315633297, 0.016371840611100197, 0.05268789455294609, 0.021402152255177498, 0.02340388298034668, 0.1064968928694725, 0.018582478165626526, 0.03509166091680527, 0.0839414894580841, 0.017393292859196663, 0.04183054342865944, 0.021453874185681343, 0.033330995589494705, 0.050274282693862915, 0.020740866661071777, 0.04090357571840286, 0.030540958046913147, 0.09200658649206161, 0.028245707973837852, 0.036564700305461884, 0.0, 0.0, 0.0, 0.0, 0.0, 0.0, 0.0, 0.0, 0.0, 0.0, 0.0, 0.0, 0.0], [0.21260198950767517, 0.020284099504351616, 0.05000368133187294, 0.015904175117611885, 0.0572250559926033, 0.02285732515156269, 0.046045880764722824, 0.03530844300985336, 0.011784468777477741, 0.04140481725335121, 0.016803603619337082, 0.015782048925757408, 0.020208420231938362, 0.013090189546346664, 0.020854247733950615, 0.06297553330659866, 0.018039444461464882, 0.0180529598146677, 0.024445287883281708, 0.1705915331840515, 0.01593976654112339, 0.04152186959981918, 0.048275142908096313, 0.0, 0.0, 0.0, 0.0, 0.0, 0.0, 0.0, 0.0, 0.0, 0.0, 0.0, 0.0], [0.2671400308609009, 0.03564619645476341, 0.02042287588119507, 0.006622720509767532, 0.04034104198217392, 0.01911034621298313, 0.014575287699699402, 0.05641636252403259, 0.008403629995882511, 0.015526887029409409, 0.044146716594696045, 0.011055913753807545, 0.040019962936639786, 0.00935308076441288, 0.019351867958903313, 0.07054154574871063, 0.012798828072845936, 0.012832630425691605, 0.014165608212351799, 0.1173698753118515, 0.007312779780477285, 0.09727413952350616, 0.02075115032494068, 0.038820505142211914, 0.0, 0.0, 0.0, 0.0, 0.0, 0.0, 0.0, 0.0, 0.0, 0.0, 0.0], [0.145912304520607, 0.03319377824664116, 0.03138770908117294, 0.0099279023706913, 0.05209653824567795, 0.019840892404317856, 0.01940172351896763, 0.0758240669965744, 0.012863253243267536, 0.03345128521323204, 0.01656840555369854, 0.014797179028391838, 0.059083882719278336, 0.0155973881483078, 0.01136922650039196, 0.02185947820544243, 0.01947387307882309, 0.01479370892047882, 0.05341864749789238, 0.0952148288488388, 0.01620456762611866, 0.062109168618917465, 0.06182849779725075, 0.06657971441745758, 0.037201929837465286, 0.0, 0.0, 0.0, 0.0, 0.0, 0.0, 0.0, 0.0, 0.0, 0.0], [0.06265700608491898, 0.014285169541835785, 0.025387220084667206, 0.030092516914010048, 0.021246913820505142, 0.029529904946684837, 0.026446685194969177, 0.014830504544079304, 0.015861939638853073, 0.04331433027982712, 0.02196396514773369, 0.019970126450061798, 0.04342855140566826, 0.018692897632718086, 0.009475364349782467, 0.02419748716056347, 0.02385362982749939, 0.02690875716507435, 0.014060706831514835, 0.1752849668264389, 0.03583676740527153, 0.04792255163192749, 0.03575059771537781, 0.012070518918335438, 0.059274278581142426, 0.14765658974647522, 0.0, 0.0, 0.0, 0.0, 0.0, 0.0, 0.0, 0.0, 0.0], [0.09766797721385956, 0.03152173012495041, 0.0266864150762558, 0.03645576909184456, 0.03492369502782822, 0.08635792881250381, 0.013895388692617416, 0.03018672578036785, 0.019402572885155678, 0.03514167293906212, 0.04878155514597893, 0.012551565654575825, 0.04099079594016075, 0.020208820700645447, 0.012653261423110962, 0.007451049517840147, 0.013522977009415627, 0.02407808229327202, 0.04302707314491272, 0.1506679654121399, 0.029252581298351288, 0.018810175359249115, 0.01610449142754078, 0.028549881651997566, 0.02987591177225113, 0.051215607672929764, 0.04001830518245697, 0.0, 0.0, 0.0, 0.0, 0.0, 0.0, 0.0, 0.0], [0.09151812642812729, 0.01142111700028181, 0.0397990457713604, 0.011658585630357265, 0.03344332426786423, 0.04107607528567314, 0.009538295678794384, 0.04061254858970642, 0.009114392101764679, 0.046904027462005615, 0.02731761336326599, 0.010844959877431393, 0.024547511711716652, 0.010004600510001183, 0.008095643483102322, 0.008396819233894348, 0.011855488643050194, 0.008184153586626053, 0.04104062542319298, 0.3625809848308563, 0.0075373868457973, 0.009961561299860477, 0.021045755594968796, 0.011855046264827251, 0.03005831688642502, 0.03281193599104881, 0.028863215819001198, 0.009912798181176186, 0.0, 0.0, 0.0, 0.0, 0.0, 0.0, 0.0], [0.1094629317522049, 0.025872742757201195, 0.023928705602884293, 0.020045248791575432, 0.035904448479413986, 0.03167986497282982, 0.02914527803659439, 0.11399827897548676, 0.013954714871942997, 0.034807153046131134, 0.018105631694197655, 0.017622249200940132, 0.01900731585919857, 0.015307603403925896, 0.0097030159085989, 0.012407951056957245, 0.020091678947210312, 0.027262572199106216, 0.06564595550298691, 0.02715541049838066, 0.026226604357361794, 0.01894299127161503, 0.040771421045064926, 0.019073298200964928, 0.021573428064584732, 0.030219418928027153, 0.07011834532022476, 0.06031467393040657, 0.04165106639266014, 0.0, 0.0, 0.0, 0.0, 0.0, 0.0], [0.11406350880861282, 0.02655624970793724, 0.019958442077040672, 0.00893146451562643, 0.03494320064783096, 0.01683432050049305, 0.00937775056809187, 0.0445132851600647, 0.00377222103998065, 0.02876032516360283, 0.02074115350842476, 0.005650992039591074, 0.06007762625813484, 0.004424977116286755, 0.010821842588484287, 0.04112928733229637, 0.007085718214511871, 0.010434001684188843, 0.026548532769083977, 0.11019264906644821, 0.0071900165639817715, 0.05651939660310745, 0.028027089312672615, 0.06370096653699875, 0.03407690301537514, 0.07150981575250626, 0.040933214128017426, 0.014252988621592522, 0.06984366476535797, 0.009128457866609097, 0.0, 0.0, 0.0, 0.0, 0.0], [0.14399927854537964, 0.02045460045337677, 0.0426238514482975, 0.011592096649110317, 0.02778943069279194, 0.01434291247278452, 0.029106197878718376, 0.042158231139183044, 0.013669709675014019, 0.02058149315416813, 0.008641066960990429, 0.01240221131592989, 0.019577063620090485, 0.014879736118018627, 0.02331904135644436, 0.02236717939376831, 0.014413883909583092, 0.006065312307327986, 0.0069853030145168304, 0.08859114348888397, 0.014219224452972412, 0.027541201561689377, 0.05707307532429695, 0.024985723197460175, 0.05733300372958183, 0.04808970168232918, 0.01826871745288372, 0.07940170168876648, 0.043771758675575256, 0.02484910562634468, 0.020907007157802582, 0.0, 0.0, 0.0, 0.0], [0.0778680220246315, 0.01973286084830761, 0.019906364381313324, 0.01517957542091608, 0.02926989458501339, 0.008963340893387794, 0.011427867226302624, 0.03169627487659454, 0.006965262349694967, 0.040641698986291885, 0.019985221326351166, 0.00878906063735485, 0.035749904811382294, 0.007953663356602192, 0.009612181223928928, 0.014965920709073544, 0.010367294773459435, 0.013545000925660133, 0.013747338205575943, 0.0681854784488678, 0.011837064288556576, 0.01935550384223461, 0.01676122657954693, 0.016301225870847702, 0.0612502358853817, 0.12023527920246124, 0.04739145562052727, 0.023822054266929626, 0.1494300216436386, 0.014121497049927711, 0.04741879925131798, 0.007523444481194019, 0.0, 0.0, 0.0], [0.14836613833904266, 0.036274224519729614, 0.023768780753016472, 0.005308398045599461, 0.03226037323474884, 0.017439454793930054, 0.015090293250977993, 0.04443071410059929, 0.0049357907846570015, 0.021151499822735786, 0.023849105462431908, 0.006127793807536364, 0.04430977627635002, 0.005717848893254995, 0.006861451547592878, 0.016362614929676056, 0.00770712923258543, 0.009109633974730968, 0.0284276083111763, 0.14491389691829681, 0.006351605523377657, 0.03453824669122696, 0.023273015394806862, 0.04803792014718056, 0.03441665321588516, 0.06975369900465012, 0.02756189927458763, 0.012016547843813896, 0.03535730764269829, 0.008575203828513622, 0.039163023233413696, 0.009715797379612923, 0.008826580829918385, 0.0, 0.0], [0.11389316618442535, 0.0219314806163311, 0.026447590440511703, 0.007602883502840996, 0.020530682057142258, 0.029713165014982224, 0.036949627101421356, 0.028757937252521515, 0.00798130501061678, 0.029359174892306328, 0.015349611639976501, 0.018420176580548286, 0.020850984379649162, 0.008514758199453354, 0.01093092281371355, 0.009227697737514973, 0.02127929963171482, 0.009222990833222866, 0.027651097625494003, 0.12458862364292145, 0.010509627871215343, 0.06096193939447403, 0.022033248096704483, 0.030366932973265648, 0.027411198243498802, 0.03459945693612099, 0.03202730417251587, 0.0395297147333622, 0.053537942469120026, 0.017732905223965645, 0.017497550696134567, 0.017771484330296516, 0.012080211192369461, 0.03473734110593796, 0.0], [0.13933587074279785, 0.02137126587331295, 0.01454137172549963, 0.00512328976765275, 0.0316350981593132, 0.010921807028353214, 0.012541351839900017, 0.02249285578727722, 0.004774265922605991, 0.02490142732858658, 0.010858358815312386, 0.010577709414064884, 0.02590607851743698, 0.005286507774144411, 0.016752300783991814, 0.04520440846681595, 0.012112236581742764, 0.014714713208377361, 0.01462918147444725, 0.08781160414218903, 0.007287844084203243, 0.07496532797813416, 0.015995563939213753, 0.043923456221818924, 0.0410241037607193, 0.0758780911564827, 0.027924569323658943, 0.015250173397362232, 0.013413437642157078, 0.014532784931361675, 0.02721545100212097, 0.03453553840517998, 0.018207404762506485, 0.0350533053278923, 0.02330126240849495]], [[1.0, 0.0, 0.0, 0.0, 0.0, 0.0, 0.0, 0.0, 0.0, 0.0, 0.0, 0.0, 0.0, 0.0, 0.0, 0.0, 0.0, 0.0, 0.0, 0.0, 0.0, 0.0, 0.0, 0.0, 0.0, 0.0, 0.0, 0.0, 0.0, 0.0, 0.0, 0.0, 0.0, 0.0, 0.0], [0.00041899774805642664, 0.9995810389518738, 0.0, 0.0, 0.0, 0.0, 0.0, 0.0, 0.0, 0.0, 0.0, 0.0, 0.0, 0.0, 0.0, 0.0, 0.0, 0.0, 0.0, 0.0, 0.0, 0.0, 0.0, 0.0, 0.0, 0.0, 0.0, 0.0, 0.0, 0.0, 0.0, 0.0, 0.0, 0.0, 0.0], [0.00013394774578046054, 0.009511847048997879, 0.9903541803359985, 0.0, 0.0, 0.0, 0.0, 0.0, 0.0, 0.0, 0.0, 0.0, 0.0, 0.0, 0.0, 0.0, 0.0, 0.0, 0.0, 0.0, 0.0, 0.0, 0.0, 0.0, 0.0, 0.0, 0.0, 0.0, 0.0, 0.0, 0.0, 0.0, 0.0, 0.0, 0.0], [0.0008606771007180214, 0.0026100408285856247, 0.015066802501678467, 0.9814624786376953, 0.0, 0.0, 0.0, 0.0, 0.0, 0.0, 0.0, 0.0, 0.0, 0.0, 0.0, 0.0, 0.0, 0.0, 0.0, 0.0, 0.0, 0.0, 0.0, 0.0, 0.0, 0.0, 0.0, 0.0, 0.0, 0.0, 0.0, 0.0, 0.0, 0.0, 0.0], [3.7170477298786864e-05, 0.0006769575993530452, 0.0012692962773144245, 0.0002140784781659022, 0.9978025555610657, 0.0, 0.0, 0.0, 0.0, 0.0, 0.0, 0.0, 0.0, 0.0, 0.0, 0.0, 0.0, 0.0, 0.0, 0.0, 0.0, 0.0, 0.0, 0.0, 0.0, 0.0, 0.0, 0.0, 0.0, 0.0, 0.0, 0.0, 0.0, 0.0, 0.0], [8.425424312008545e-05, 0.0007904728408902884, 0.003215286647900939, 0.0027085705660283566, 0.0013058262411504984, 0.9918956160545349, 0.0, 0.0, 0.0, 0.0, 0.0, 0.0, 0.0, 0.0, 0.0, 0.0, 0.0, 0.0, 0.0, 0.0, 0.0, 0.0, 0.0, 0.0, 0.0, 0.0, 0.0, 0.0, 0.0, 0.0, 0.0, 0.0, 0.0, 0.0, 0.0], [0.00014960527187213302, 0.0018361882539466023, 0.0016375049017369747, 0.001013060798868537, 0.004209812264889479, 8.004395931493491e-05, 0.9910737872123718, 0.0, 0.0, 0.0, 0.0, 0.0, 0.0, 0.0, 0.0, 0.0, 0.0, 0.0, 0.0, 0.0, 0.0, 0.0, 0.0, 0.0, 0.0, 0.0, 0.0, 0.0, 0.0, 0.0, 0.0, 0.0, 0.0, 0.0, 0.0], [0.0002685565559659153, 0.0009259631624445319, 0.0008250501123256981, 0.0006819652626290917, 0.007268866058439016, 0.001351707149296999, 0.00034691678592935205, 0.9883310198783875, 0.0, 0.0, 0.0, 0.0, 0.0, 0.0, 0.0, 0.0, 0.0, 0.0, 0.0, 0.0, 0.0, 0.0, 0.0, 0.0, 0.0, 0.0, 0.0, 0.0, 0.0, 0.0, 0.0, 0.0, 0.0, 0.0, 0.0], [0.007326364051550627, 0.007828550413250923, 0.003931872081011534, 0.0001837400923250243, 6.433094677049667e-05, 0.0001008316467050463, 6.769890751456842e-05, 7.164074486354366e-05, 0.9804249405860901, 0.0, 0.0, 0.0, 0.0, 0.0, 0.0, 0.0, 0.0, 0.0, 0.0, 0.0, 0.0, 0.0, 0.0, 0.0, 0.0, 0.0, 0.0, 0.0, 0.0, 0.0, 0.0, 0.0, 0.0, 0.0, 0.0], [3.9175745769171044e-05, 9.137423330685124e-05, 0.00033399122185073793, 6.816777749918401e-05, 7.812328840373084e-05, 0.0009843034204095602, 0.00016941336798481643, 0.002541461493819952, 4.413313217810355e-05, 0.9956498742103577, 0.0, 0.0, 0.0, 0.0, 0.0, 0.0, 0.0, 0.0, 0.0, 0.0, 0.0, 0.0, 0.0, 0.0, 0.0, 0.0, 0.0, 0.0, 0.0, 0.0, 0.0, 0.0, 0.0, 0.0, 0.0], [5.520316790352808e-06, 2.3466503989766352e-05, 9.186474198941141e-05, 8.01343412604183e-05, 3.939213274861686e-05, 8.521587733412161e-05, 2.5735924282344058e-05, 7.120826921891421e-05, 4.276964318705723e-06, 0.00015049752255436033, 0.9994226694107056, 0.0, 0.0, 0.0, 0.0, 0.0, 0.0, 0.0, 0.0, 0.0, 0.0, 0.0, 0.0, 0.0, 0.0, 0.0, 0.0, 0.0, 0.0, 0.0, 0.0, 0.0, 0.0, 0.0, 0.0], [0.0010400298051536083, 0.002299361629411578, 0.0023920664098113775, 0.0003133231948595494, 0.00013362908794078976, 0.0005168461939319968, 0.001197108649648726, 6.827443576185033e-05, 0.0054443227127194405, 0.0002821741800289601, 4.30573127232492e-05, 0.9862697720527649, 0.0, 0.0, 0.0, 0.0, 0.0, 0.0, 0.0, 0.0, 0.0, 0.0, 0.0, 0.0, 0.0, 0.0, 0.0, 0.0, 0.0, 0.0, 0.0, 0.0, 0.0, 0.0, 0.0], [4.6304139686981216e-05, 0.0003248231369070709, 0.0002445945283398032, 0.0015311673050746322, 0.0008613719255663455, 0.0012943889014422894, 6.198465416673571e-05, 2.6642746888683178e-05, 4.8408732254756615e-05, 0.0019855673890560865, 0.0001397189626004547, 0.00011434302723500878, 0.9933207035064697, 0.0, 0.0, 0.0, 0.0, 0.0, 0.0, 0.0, 0.0, 0.0, 0.0, 0.0, 0.0, 0.0, 0.0, 0.0, 0.0, 0.0, 0.0, 0.0, 0.0, 0.0, 0.0], [0.003044243436306715, 0.0018223641673102975, 0.0009289856534451246, 4.880229971604422e-05, 1.6391151802963577e-05, 2.9095643185428344e-05, 2.507986209820956e-05, 2.913026764872484e-05, 0.45632192492485046, 2.457868686178699e-05, 2.4832152121234685e-05, 0.003004395868629217, 1.6773799416114343e-06, 0.5346784591674805, 0.0, 0.0, 0.0, 0.0, 0.0, 0.0, 0.0, 0.0, 0.0, 0.0, 0.0, 0.0, 0.0, 0.0, 0.0, 0.0, 0.0, 0.0, 0.0, 0.0, 0.0], [0.0003981789923273027, 0.001028500497341156, 0.0008281109039671719, 0.00023753168352413923, 7.348864892264828e-05, 0.0014350303681567311, 6.765664147678763e-05, 0.0002954743104055524, 0.00014295795699581504, 9.92909335764125e-05, 4.608216386259301e-06, 0.0005140063003636897, 5.035657522967085e-06, 0.0001247551990672946, 0.9947453737258911, 0.0, 0.0, 0.0, 0.0, 0.0, 0.0, 0.0, 0.0, 0.0, 0.0, 0.0, 0.0, 0.0, 0.0, 0.0, 0.0, 0.0, 0.0, 0.0, 0.0], [9.074855915969238e-05, 0.00026525967405177653, 0.00011011176684405655, 0.00021231926803011447, 8.290550613310188e-05, 0.0011814192403107882, 1.5688701751059853e-05, 0.0016655940562486649, 1.1725332115020137e-05, 0.0020509420428425074, 0.0001384257193421945, 1.557363611937035e-05, 1.1507419003464747e-05, 9.066184247785714e-06, 0.00022655779321212322, 0.9939122200012207, 0.0, 0.0, 0.0, 0.0, 0.0, 0.0, 0.0, 0.0, 0.0, 0.0, 0.0, 0.0, 0.0, 0.0, 0.0, 0.0, 0.0, 0.0, 0.0], [0.00044135411735624075, 0.0006528958911076188, 0.000649566063657403, 9.398069232702255e-05, 4.112707756576128e-05, 0.0001702841982478276, 0.0005066702724434435, 2.8896058211103082e-05, 0.002370181493461132, 0.00010454310540808365, 1.9230941688874736e-05, 0.4705587327480316, 1.6804011465865187e-05, 0.0022840937599539757, 0.00021698098862543702, 3.276938514318317e-05, 0.521811842918396, 0.0, 0.0, 0.0, 0.0, 0.0, 0.0, 0.0, 0.0, 0.0, 0.0, 0.0, 0.0, 0.0, 0.0, 0.0, 0.0, 0.0, 0.0], [0.0005350520368665457, 0.0006631257710978389, 0.00018957503198180348, 0.00011594560055527836, 3.930590901290998e-05, 8.452115434920415e-05, 0.00026859997888095677, 0.0003003481833729893, 0.0001272758818231523, 0.00015363430429715663, 2.1524516341742128e-05, 0.0004102020466234535, 0.0015090389642864466, 0.00011659036681521684, 0.0001377397566102445, 7.38915623514913e-05, 0.00039899448165670037, 0.9948546886444092, 0.0, 0.0, 0.0, 0.0, 0.0, 0.0, 0.0, 0.0, 0.0, 0.0, 0.0, 0.0, 0.0, 0.0, 0.0, 0.0, 0.0], [0.0002235249412478879, 0.00025025373906828463, 0.00011739338515326381, 1.8608303435030393e-05, 0.0006291497265920043, 0.0007579231169074774, 3.784093132708222e-05, 0.0033851482439786196, 1.7918313460540958e-05, 0.00017818294872995466, 3.43443316523917e-05, 7.747590279905125e-05, 6.471163214882836e-05, 1.527032145531848e-05, 0.00029359618201851845, 0.0005734392907470465, 7.154411287046969e-05, 0.000158831593580544, 0.993094801902771, 0.0, 0.0, 0.0, 0.0, 0.0, 0.0, 0.0, 0.0, 0.0, 0.0, 0.0, 0.0, 0.0, 0.0, 0.0, 0.0], [0.00030641001649200916, 0.0004168006998952478, 0.00045197142753750086, 0.00015746380086056888, 0.0015800739638507366, 0.002266631228849292, 0.00014483602717518806, 0.0025188743602484465, 4.4711858208756894e-05, 0.002739466493949294, 0.000434897345257923, 0.00015683092351537198, 2.8505710361059755e-05, 4.005827577202581e-05, 0.000593667384237051, 0.00011775219900300726, 0.00014039609231986105, 0.00018060373258776963, 0.0009641882497817278, 0.9867159128189087, 0.0, 0.0, 0.0, 0.0, 0.0, 0.0, 0.0, 0.0, 0.0, 0.0, 0.0, 0.0, 0.0, 0.0, 0.0], [0.009046890772879124, 0.0007260910351760685, 6.491785461548716e-05, 4.578269727062434e-05, 3.6695309972856194e-05, 3.389698758837767e-05, 4.1313283873023465e-05, 9.000127465697005e-05, 0.01616392657160759, 1.895380046335049e-05, 3.351377745275386e-05, 0.002181082498282194, 5.3411863518704195e-06, 0.01874946616590023, 0.00017897745419759303, 0.0004993692273274064, 0.0024355656933039427, 4.2716106690932065e-05, 7.329288200708106e-05, 1.915435859700665e-05, 0.9495130777359009, 0.0, 0.0, 0.0, 0.0, 0.0, 0.0, 0.0, 0.0, 0.0, 0.0, 0.0, 0.0, 0.0, 0.0], [0.00021946335618849844, 0.0011669597588479519, 0.00021983285841997713, 0.000987631268799305, 0.0003133852151222527, 0.00012072677782271057, 5.631548447126988e-06, 2.4260116333607584e-05, 4.544206603895873e-05, 1.8529648514231667e-05, 1.4025742530066054e-05, 1.0155007657886017e-05, 0.00040180288488045335, 4.0526505472371355e-05, 0.00017106776067521423, 9.869076166069135e-06, 9.488590876571834e-06, 0.00039310986176133156, 5.709419838240137e-06, 1.7844327885541134e-05, 2.8530499548651278e-05, 0.9957762360572815, 0.0, 0.0, 0.0, 0.0, 0.0, 0.0, 0.0, 0.0, 0.0, 0.0, 0.0, 0.0, 0.0], [0.00019361020531505346, 0.0008434196352027357, 0.0005215303390286863, 2.5664587155915797e-05, 0.00046233239118009806, 0.0002540161949582398, 1.8471217117621563e-05, 0.00011509795149322599, 0.00027288994169794023, 0.00015436687681358308, 1.2149157555541024e-05, 0.0006913751713000238, 5.6959852372528985e-05, 0.000240248060435988, 3.827500404440798e-05, 9.934467379935086e-05, 0.0006488924846053123, 8.011755562620237e-05, 0.0001921883667819202, 2.552947262302041e-05, 0.0003243483661208302, 0.001087109325453639, 0.9936420321464539, 0.0, 0.0, 0.0, 0.0, 0.0, 0.0, 0.0, 0.0, 0.0, 0.0, 0.0, 0.0], [0.0016077638138085604, 0.17697341740131378, 0.015483586117625237, 0.00037138789775781333, 0.0003786343149840832, 0.00016452740237582475, 0.0003277383220847696, 0.00016989711730275303, 0.002122964011505246, 3.573103094822727e-05, 6.090145689086057e-05, 0.00045621671597473323, 1.544780570839066e-05, 0.002254317980259657, 0.001566688995808363, 0.00011843765241792426, 0.0004699892015196383, 5.037321170675568e-05, 0.00012108061491744593, 6.00896637479309e-05, 0.0008920580730773509, 0.0007518457714468241, 0.0002689969551283866, 0.7952779531478882, 0.0, 0.0, 0.0, 0.0, 0.0, 0.0, 0.0, 0.0, 0.0, 0.0, 0.0], [0.00039198657032102346, 0.0002142118028132245, 0.0005306118400767446, 1.0745785402832553e-05, 0.00011862379324156791, 4.225778684485704e-05, 0.00021160373580642045, 4.692554284702055e-05, 0.00044815801084041595, 0.00010691286297515035, 3.9354647014988586e-05, 0.00016830858658067882, 0.00017352365830447525, 0.00045245050569064915, 0.00014294125139713287, 0.00011699338210746646, 0.00017526796727906913, 0.00010119970829691738, 4.25139041908551e-05, 2.0371722712297924e-05, 3.8371315895346925e-05, 0.000113446127215866, 0.0002527929609641433, 6.991026020841673e-05, 0.9959704875946045, 0.0, 0.0, 0.0, 0.0, 0.0, 0.0, 0.0, 0.0, 0.0, 0.0], [0.00021530715457629412, 0.00010005849617300555, 0.0023809217382222414, 0.001983142225071788, 0.0011120130075141788, 5.563472586800344e-05, 0.0006109268288128078, 0.0002456435759086162, 8.819004870019853e-05, 0.0011510408949106932, 0.00010669908078853041, 0.00017554884834680706, 5.736283492296934e-05, 7.814793207217008e-05, 0.0002457347291056067, 9.594668881618418e-06, 0.00017032393952831626, 2.897270314861089e-05, 1.4011726307217032e-05, 0.00016692095960024744, 1.2888881428807508e-05, 0.00024495553225278854, 0.0005147017654962838, 4.942118903272785e-05, 0.0005746561218984425, 0.9896071553230286, 0.0, 0.0, 0.0, 0.0, 0.0, 0.0, 0.0, 0.0, 0.0], [0.00011423416435718536, 0.0008627416682429612, 0.000773223175201565, 0.0007090755389072001, 0.0007292136433534324, 0.0014031626051291823, 0.00021403611754067242, 0.00017666479106992483, 6.622042565140873e-05, 3.215939796064049e-05, 0.0004533063911367208, 0.00012008502380922437, 2.2129026547190733e-05, 5.807508568977937e-05, 0.00012917432468384504, 1.9079669073107652e-05, 0.00011076665396103635, 8.564187737647444e-06, 2.3630544092156924e-05, 0.0003379980626050383, 5.211892130319029e-05, 0.00014455680502578616, 0.00019694966613315046, 0.00045105276512913406, 2.0576262613758445e-05, 8.764302037889138e-05, 0.992683470249176, 0.0, 0.0, 0.0, 0.0, 0.0, 0.0, 0.0, 0.0], [0.0001979835651582107, 0.00019567960407584906, 0.00022612242901232094, 0.00041943672113120556, 0.000597969745285809, 0.000451744650490582, 0.0003478292201180011, 0.0002585812471807003, 2.801990558509715e-05, 0.000722000899259001, 0.00013010468683205545, 0.001163206878118217, 6.916908751009032e-05, 2.4789154849713668e-05, 0.00010386025678599253, 0.00038124973070807755, 0.0011587801855057478, 0.00033144469489343464, 0.00024494543322362006, 0.00012755185889545828, 0.00016098452033475041, 1.9267921743448824e-05, 0.00027174208662472665, 2.0765552108059637e-05, 6.825073796790093e-05, 0.00087642582366243, 0.0006782169220969081, 0.9907240271568298, 0.0, 0.0, 0.0, 0.0, 0.0, 0.0, 0.0], [3.157186438329518e-05, 0.0006791112245991826, 0.0007090711151249707, 0.0002416483621345833, 0.00041205421439372003, 0.0009237418416887522, 0.00020848562417086214, 6.639299681410193e-05, 0.00011664830526569858, 8.601935405749828e-05, 0.010591307654976845, 0.000337290926836431, 2.1898469640291296e-05, 0.00010110736184287816, 0.00010436093725729734, 5.85874222451821e-05, 0.00032512127654626966, 1.5854131561354734e-05, 5.033608431403991e-06, 0.0004094902833458036, 1.3119506547809578e-05, 5.3133546316530555e-05, 1.1887261280207895e-05, 5.536676326300949e-05, 1.219769455929054e-05, 8.952644566306844e-05, 0.0022435509599745274, 0.00021041938452981412, 0.981866180896759, 0.0, 0.0, 0.0, 0.0, 0.0, 0.0], [0.0007582925027236342, 0.0012331453617662191, 8.604941103840247e-05, 6.291332101682201e-05, 2.8791733711841516e-05, 3.3166903449455276e-05, 7.622719567734748e-05, 0.00010868198296520859, 0.006450857501477003, 0.00014789080887567252, 1.0376486898167059e-05, 0.0023889727890491486, 7.883598300395533e-05, 0.007510701194405556, 0.00028743132133968174, 0.0001367574732284993, 0.002760295057669282, 0.0007447172538377345, 8.811101724859327e-05, 2.470205072313547e-05, 0.006188869941979647, 0.00011647049541352317, 0.0001724402973195538, 0.00026217513368465006, 0.00018419795378576964, 4.4321401219349355e-05, 4.855170482187532e-05, 8.903052366804332e-05, 2.6887826606980525e-05, 0.9698501229286194, 0.0, 0.0, 0.0, 0.0, 0.0], [0.0002462745178490877, 0.00035919927177019417, 0.00020521896658465266, 9.387754107592627e-05, 8.577330299885944e-05, 5.495216100825928e-05, 4.531839658739045e-05, 1.0722168553911615e-05, 4.867112875217572e-05, 0.00011017618089681491, 0.00010064101661555469, 9.772245539352298e-05, 0.0005496817757375538, 4.362939216662198e-05, 3.945791468140669e-05, 7.140226080082357e-05, 9.814357326831669e-05, 5.700975816580467e-05, 2.4251130525954068e-05, 2.3145676095737144e-06, 5.0569389713928103e-05, 0.0001131849130615592, 0.0002906991576310247, 6.889968790346757e-05, 0.0006683265673927963, 0.0002321746142115444, 8.348713890882209e-06, 1.743463144521229e-05, 1.027311009238474e-05, 0.0001388570381095633, 0.9960569143295288, 0.0, 0.0, 0.0, 0.0], [0.00011105907469755039, 3.599160481826402e-05, 4.416058072820306e-05, 0.00022596387134399265, 0.00024025874154176563, 1.7348986148135737e-05, 7.20430543879047e-05, 0.00023738990421406925, 8.27475669211708e-05, 0.00010178561933571473, 7.876383278926369e-06, 6.391840724973008e-05, 3.295211718068458e-05, 7.889196422183886e-05, 0.00011627464118646458, 7.1391496021533385e-06, 6.571760604856536e-05, 5.396369942900492e-06, 8.334023732459173e-06, 1.9613882614066824e-05, 4.110632653464563e-05, 8.538004476577044e-05, 3.1616174965165555e-05, 9.91701290331548e-06, 2.3832435545045882e-05, 0.0018293538596481085, 2.611123454698827e-05, 3.31351111526601e-05, 1.4612738596042618e-05, 0.0008547279867343605, 0.0001674516242928803, 0.995307981967926, 0.0, 0.0, 0.0], [0.0022552241571247578, 0.0004647748137358576, 0.0001228374312631786, 0.006661206018179655, 8.828944555716589e-05, 0.00024942768504843116, 0.0001755515404511243, 2.6563478968455456e-05, 0.004149137530475855, 0.00020833070448134094, 1.5973335393937305e-05, 0.0007248213514685631, 1.23180734590278e-05, 0.004929241258651018, 0.0007067761616781354, 2.746022437349893e-05, 0.0008252434781752527, 5.1487335440469906e-05, 9.107246114581358e-06, 0.00117019796743989, 0.0011320497142150998, 0.00038722725003026426, 0.00010000279144151136, 0.0005395381595008075, 0.0001279767748201266, 7.418703171424568e-05, 0.0006351852207444608, 5.991850048303604e-05, 0.00020302319899201393, 0.022641237825155258, 7.11138709448278e-05, 0.0034798511769622564, 0.9476746916770935, 0.0, 0.0], [0.00010488821135368198, 0.000540398876182735, 0.00027006107848137617, 2.7819975002785213e-05, 0.0008878541411831975, 0.0002531729987822473, 0.0002921407576650381, 0.0009951466927304864, 3.943215779145248e-05, 6.531640246976167e-05, 5.1983381126774475e-05, 0.0006716350326314569, 1.952418460859917e-05, 3.796437886194326e-05, 0.0003154706209897995, 0.00015760351379867643, 0.0006809118203818798, 0.0001736676786094904, 0.00023275880084838718, 0.0004935207543894649, 0.00015254245954565704, 8.968877227744088e-05, 0.0014225818449631333, 0.00022503093350678682, 0.00015392267960123718, 0.00010696917888708413, 0.0056502437219023705, 0.0008653244585730135, 0.0002874952624551952, 0.00013868501991964877, 1.4354184713738505e-05, 2.816200503730215e-05, 0.00011612025991780683, 0.9844375848770142, 0.0], [0.001883041113615036, 0.00023013967438600957, 7.190548785729334e-05, 3.798297029788955e-06, 0.002256364095956087, 4.3679814552888274e-05, 0.00012782966950908303, 0.000636802869848907, 0.0005364000680856407, 5.325712663761806e-06, 7.917860784800723e-05, 2.6016030460596085e-05, 1.1253263437538408e-05, 0.0005611252854578197, 9.103807315113954e-06, 0.00021052265947218984, 2.6891138986684382e-05, 3.242443926865235e-05, 0.0002593936806079, 0.0004526674747467041, 0.0011521012056618929, 1.1493538295326289e-05, 4.8182431783061475e-05, 0.00010571508755674586, 8.452803740510717e-05, 0.00010020880290539935, 2.8483780624810606e-05, 2.0415485778357834e-05, 1.8022984704657574e-06, 7.628960884176195e-05, 4.604334753821604e-05, 9.973591659218073e-05, 5.258407327346504e-06, 0.0001948851568158716, 0.9905608296394348]], [[1.0, 0.0, 0.0, 0.0, 0.0, 0.0, 0.0, 0.0, 0.0, 0.0, 0.0, 0.0, 0.0, 0.0, 0.0, 0.0, 0.0, 0.0, 0.0, 0.0, 0.0, 0.0, 0.0, 0.0, 0.0, 0.0, 0.0, 0.0, 0.0, 0.0, 0.0, 0.0, 0.0, 0.0, 0.0], [0.9424744844436646, 0.057525549083948135, 0.0, 0.0, 0.0, 0.0, 0.0, 0.0, 0.0, 0.0, 0.0, 0.0, 0.0, 0.0, 0.0, 0.0, 0.0, 0.0, 0.0, 0.0, 0.0, 0.0, 0.0, 0.0, 0.0, 0.0, 0.0, 0.0, 0.0, 0.0, 0.0, 0.0, 0.0, 0.0, 0.0], [0.8506749868392944, 0.09740971028804779, 0.05191526561975479, 0.0, 0.0, 0.0, 0.0, 0.0, 0.0, 0.0, 0.0, 0.0, 0.0, 0.0, 0.0, 0.0, 0.0, 0.0, 0.0, 0.0, 0.0, 0.0, 0.0, 0.0, 0.0, 0.0, 0.0, 0.0, 0.0, 0.0, 0.0, 0.0, 0.0, 0.0, 0.0], [0.7641512751579285, 0.10970380157232285, 0.07497039437294006, 0.05117451399564743, 0.0, 0.0, 0.0, 0.0, 0.0, 0.0, 0.0, 0.0, 0.0, 0.0, 0.0, 0.0, 0.0, 0.0, 0.0, 0.0, 0.0, 0.0, 0.0, 0.0, 0.0, 0.0, 0.0, 0.0, 0.0, 0.0, 0.0, 0.0, 0.0, 0.0, 0.0], [0.6748191118240356, 0.08416195213794708, 0.0547025203704834, 0.07581549137830734, 0.11050093919038773, 0.0, 0.0, 0.0, 0.0, 0.0, 0.0, 0.0, 0.0, 0.0, 0.0, 0.0, 0.0, 0.0, 0.0, 0.0, 0.0, 0.0, 0.0, 0.0, 0.0, 0.0, 0.0, 0.0, 0.0, 0.0, 0.0, 0.0, 0.0, 0.0, 0.0], [0.6857605576515198, 0.08229538798332214, 0.05202119052410126, 0.0813918262720108, 0.04085885360836983, 0.057672254741191864, 0.0, 0.0, 0.0, 0.0, 0.0, 0.0, 0.0, 0.0, 0.0, 0.0, 0.0, 0.0, 0.0, 0.0, 0.0, 0.0, 0.0, 0.0, 0.0, 0.0, 0.0, 0.0, 0.0, 0.0, 0.0, 0.0, 0.0, 0.0, 0.0], [0.6174604892730713, 0.0565345473587513, 0.09111697226762772, 0.06854882836341858, 0.06338419765233994, 0.03596974536776543, 0.06698516011238098, 0.0, 0.0, 0.0, 0.0, 0.0, 0.0, 0.0, 0.0, 0.0, 0.0, 0.0, 0.0, 0.0, 0.0, 0.0, 0.0, 0.0, 0.0, 0.0, 0.0, 0.0, 0.0, 0.0, 0.0, 0.0, 0.0, 0.0, 0.0], [0.6047279834747314, 0.06088969483971596, 0.05921148508787155, 0.09558156877756119, 0.042659152299165726, 0.03184344992041588, 0.042630646377801895, 0.062456026673316956, 0.0, 0.0, 0.0, 0.0, 0.0, 0.0, 0.0, 0.0, 0.0, 0.0, 0.0, 0.0, 0.0, 0.0, 0.0, 0.0, 0.0, 0.0, 0.0, 0.0, 0.0, 0.0, 0.0, 0.0, 0.0, 0.0, 0.0], [0.4008437991142273, 0.0753357782959938, 0.042708396911621094, 0.011760731227695942, 0.026680560782551765, 0.013492085039615631, 0.02846546284854412, 0.013900603167712688, 0.38681259751319885, 0.0, 0.0, 0.0, 0.0, 0.0, 0.0, 0.0, 0.0, 0.0, 0.0, 0.0, 0.0, 0.0, 0.0, 0.0, 0.0, 0.0, 0.0, 0.0, 0.0, 0.0, 0.0, 0.0, 0.0, 0.0, 0.0], [0.49680253863334656, 0.06792880594730377, 0.05792004242539406, 0.07101531326770782, 0.06963258981704712, 0.018800105899572372, 0.06757569313049316, 0.06346482783555984, 0.06656692922115326, 0.02029319666326046, 0.0, 0.0, 0.0, 0.0, 0.0, 0.0, 0.0, 0.0, 0.0, 0.0, 0.0, 0.0, 0.0, 0.0, 0.0, 0.0, 0.0, 0.0, 0.0, 0.0, 0.0, 0.0, 0.0, 0.0, 0.0], [0.5176076889038086, 0.08289016038179398, 0.05239768698811531, 0.06842364370822906, 0.04608830064535141, 0.02686595730483532, 0.08181490004062653, 0.03230835497379303, 0.05516274645924568, 0.01854962483048439, 0.017890891060233116, 0.0, 0.0, 0.0, 0.0, 0.0, 0.0, 0.0, 0.0, 0.0, 0.0, 0.0, 0.0, 0.0, 0.0, 0.0, 0.0, 0.0, 0.0, 0.0, 0.0, 0.0, 0.0, 0.0, 0.0], [0.30381813645362854, 0.03185644373297691, 0.02915768325328827, 0.011053645983338356, 0.013536769896745682, 0.016536910086870193, 0.015181957744061947, 0.015511734411120415, 0.026294969022274017, 0.0168909952044487, 0.01188665721565485, 0.5082740783691406, 0.0, 0.0, 0.0, 0.0, 0.0, 0.0, 0.0, 0.0, 0.0, 0.0, 0.0, 0.0, 0.0, 0.0, 0.0, 0.0, 0.0, 0.0, 0.0, 0.0, 0.0, 0.0, 0.0], [0.3585989773273468, 0.07880906760692596, 0.05902862176299095, 0.04445866495370865, 0.07822323590517044, 0.019679522141814232, 0.05133121460676193, 0.0400984026491642, 0.08024682104587555, 0.027811899781227112, 0.010250609368085861, 0.136103555560112, 0.01535944826900959, 0.0, 0.0, 0.0, 0.0, 0.0, 0.0, 0.0, 0.0, 0.0, 0.0, 0.0, 0.0, 0.0, 0.0, 0.0, 0.0, 0.0, 0.0, 0.0, 0.0, 0.0, 0.0], [0.2511676847934723, 0.04623395949602127, 0.02783855050802231, 0.007056493312120438, 0.01724417693912983, 0.008997938595712185, 0.017309943214058876, 0.009924139827489853, 0.2527512013912201, 0.012778297998011112, 0.008546068333089352, 0.04791994392871857, 0.006098275538533926, 0.2861333191394806, 0.0, 0.0, 0.0, 0.0, 0.0, 0.0, 0.0, 0.0, 0.0, 0.0, 0.0, 0.0, 0.0, 0.0, 0.0, 0.0, 0.0, 0.0, 0.0, 0.0, 0.0], [0.39800772070884705, 0.06433822959661484, 0.04979855194687843, 0.05949563533067703, 0.031821127980947495, 0.030714739114046097, 0.058995503932237625, 0.05480390787124634, 0.03919370472431183, 0.03556448221206665, 0.02491646632552147, 0.045719318091869354, 0.016671663150191307, 0.0389430969953537, 0.05101582035422325, 0.0, 0.0, 0.0, 0.0, 0.0, 0.0, 0.0, 0.0, 0.0, 0.0, 0.0, 0.0, 0.0, 0.0, 0.0, 0.0, 0.0, 0.0, 0.0, 0.0], [0.39033833146095276, 0.0754939466714859, 0.038446757942438126, 0.04366777464747429, 0.01782074198126793, 0.012712198309600353, 0.0453072264790535, 0.036030203104019165, 0.04217067360877991, 0.01675303839147091, 0.042248647660017014, 0.0509234182536602, 0.030772076919674873, 0.04072080925107002, 0.05648885667324066, 0.06010529026389122, 0.0, 0.0, 0.0, 0.0, 0.0, 0.0, 0.0, 0.0, 0.0, 0.0, 0.0, 0.0, 0.0, 0.0, 0.0, 0.0, 0.0, 0.0, 0.0], [0.1818234622478485, 0.01822478137910366, 0.01747789978981018, 0.006372255273163319, 0.007922591641545296, 0.010062885470688343, 0.00870315358042717, 0.010297473520040512, 0.015354443341493607, 0.011538181453943253, 0.007091040723025799, 0.3139554560184479, 0.006019816268235445, 0.01588757522404194, 0.015421999618411064, 0.013188586570322514, 0.3406583368778229, 0.0, 0.0, 0.0, 0.0, 0.0, 0.0, 0.0, 0.0, 0.0, 0.0, 0.0, 0.0, 0.0, 0.0, 0.0, 0.0, 0.0, 0.0], [0.2388143688440323, 0.07684363424777985, 0.04843556508421898, 0.02831975929439068, 0.04297622665762901, 0.019430747255682945, 0.033217206597328186, 0.027472935616970062, 0.01897592842578888, 0.04046749323606491, 0.020095601677894592, 0.058573171496391296, 0.03530573472380638, 0.01969189941883087, 0.0970376655459404, 0.03909806162118912, 0.061994511634111404, 0.09324946254491806, 0.0, 0.0, 0.0, 0.0, 0.0, 0.0, 0.0, 0.0, 0.0, 0.0, 0.0, 0.0, 0.0, 0.0, 0.0, 0.0, 0.0], [0.35636118054389954, 0.04354534670710564, 0.0543937012553215, 0.035997189581394196, 0.05560873821377754, 0.03285680338740349, 0.01944383606314659, 0.06911692023277283, 0.020649444311857224, 0.03360533341765404, 0.027618732303380966, 0.034080009907484055, 0.026847461238503456, 0.02033730410039425, 0.02229892835021019, 0.03622739389538765, 0.03464478254318237, 0.022655008360743523, 0.05371188744902611, 0.0, 0.0, 0.0, 0.0, 0.0, 0.0, 0.0, 0.0, 0.0, 0.0, 0.0, 0.0, 0.0, 0.0, 0.0, 0.0], [0.39670124650001526, 0.05178239569067955, 0.039961934089660645, 0.06630746275186539, 0.04557187110185623, 0.02398342452943325, 0.019396750256419182, 0.02136596292257309, 0.02025378681719303, 0.03685582056641579, 0.009492037817835808, 0.04181000590324402, 0.014498685486614704, 0.019783709198236465, 0.029715217649936676, 0.04631544649600983, 0.0424664281308651, 0.031475216150283813, 0.02202763594686985, 0.020235059782862663, 0.0, 0.0, 0.0, 0.0, 0.0, 0.0, 0.0, 0.0, 0.0, 0.0, 0.0, 0.0, 0.0, 0.0, 0.0], [0.23151394724845886, 0.13258199393749237, 0.06026100739836693, 0.01138359121978283, 0.024262718856334686, 0.01455346867442131, 0.016979573294520378, 0.013957411982119083, 0.022475900128483772, 0.027721263468265533, 0.020607085898518562, 0.04084683582186699, 0.02772320993244648, 0.02455070987343788, 0.038579173386096954, 0.04770103096961975, 0.04407108947634697, 0.07720749080181122, 0.0460447333753109, 0.04773346707224846, 0.02924428880214691, 0.0, 0.0, 0.0, 0.0, 0.0, 0.0, 0.0, 0.0, 0.0, 0.0, 0.0, 0.0, 0.0, 0.0], [0.20264171063899994, 0.04893086850643158, 0.03894680738449097, 0.026632260531187057, 0.040943484753370285, 0.016175052151083946, 0.043880119919776917, 0.04927309602499008, 0.0374428927898407, 0.018747970461845398, 0.010438330471515656, 0.030274193733930588, 0.01166881900280714, 0.03915899991989136, 0.08361911028623581, 0.026806538924574852, 0.03237595409154892, 0.026771074160933495, 0.04136867821216583, 0.04380553215742111, 0.09921546280384064, 0.030883025377988815, 0.0, 0.0, 0.0, 0.0, 0.0, 0.0, 0.0, 0.0, 0.0, 0.0, 0.0, 0.0, 0.0], [0.22999970614910126, 0.029275361448526382, 0.024823686107993126, 0.030747538432478905, 0.02443976327776909, 0.025078171864151955, 0.019048279151320457, 0.0416175052523613, 0.02524641342461109, 0.05536346137523651, 0.013840345665812492, 0.03206311911344528, 0.023373721167445183, 0.026896368712186813, 0.03765586018562317, 0.02870967425405979, 0.03498142212629318, 0.03826926276087761, 0.053048767149448395, 0.07750780135393143, 0.04235749691724777, 0.0629705861210823, 0.02268565446138382, 0.0, 0.0, 0.0, 0.0, 0.0, 0.0, 0.0, 0.0, 0.0, 0.0, 0.0, 0.0], [0.2523007392883301, 0.04309259355068207, 0.04779430478811264, 0.021534809842705727, 0.05364762619137764, 0.014357620850205421, 0.016968198120594025, 0.012399842962622643, 0.028107929974794388, 0.022964566946029663, 0.013637281022965908, 0.03462431579828262, 0.01305756252259016, 0.0297535490244627, 0.02592567540705204, 0.036895427852869034, 0.036465857177972794, 0.02009117417037487, 0.03424844145774841, 0.032270655035972595, 0.07516517490148544, 0.03381400927901268, 0.05794449895620346, 0.04293810948729515, 0.0, 0.0, 0.0, 0.0, 0.0, 0.0, 0.0, 0.0, 0.0, 0.0, 0.0], [0.24815592169761658, 0.041838400065898895, 0.03725351765751839, 0.01991417072713375, 0.06031176447868347, 0.013761520385742188, 0.010237006470561028, 0.027118360623717308, 0.021247463300824165, 0.01499642338603735, 0.015956398099660873, 0.019741933792829514, 0.016942841932177544, 0.022782405838370323, 0.021159419789910316, 0.013419797644019127, 0.021131550893187523, 0.01588008739054203, 0.03851577267050743, 0.03509929031133652, 0.06386470049619675, 0.04215892031788826, 0.05595177784562111, 0.06510590016841888, 0.05745464935898781, 0.0, 0.0, 0.0, 0.0, 0.0, 0.0, 0.0, 0.0, 0.0, 0.0], [0.24590614438056946, 0.03979460150003433, 0.034050021320581436, 0.03872010111808777, 0.02834436111152172, 0.02456827461719513, 0.013687246479094028, 0.019880929961800575, 0.01750793680548668, 0.04131213575601578, 0.024649053812026978, 0.01702808029949665, 0.015493785962462425, 0.01803990639746189, 0.02871253527700901, 0.008945340290665627, 0.01785881817340851, 0.02984653227031231, 0.026982231065630913, 0.06119256094098091, 0.03972143307328224, 0.040086910128593445, 0.04656379669904709, 0.04659213125705719, 0.046358175575733185, 0.028156941756606102, 0.0, 0.0, 0.0, 0.0, 0.0, 0.0, 0.0, 0.0, 0.0], [0.24299512803554535, 0.030936650931835175, 0.037281110882759094, 0.029979785904288292, 0.03951822966337204, 0.02068973518908024, 0.02446378394961357, 0.01616225391626358, 0.023514611646533012, 0.015184114687144756, 0.00977949146181345, 0.010400431230664253, 0.008830745704472065, 0.023988917469978333, 0.024419225752353668, 0.037842024117708206, 0.01058998703956604, 0.013367556035518646, 0.016263322904706, 0.09984057396650314, 0.02563280612230301, 0.027902808040380478, 0.05468781292438507, 0.031704071909189224, 0.027479570358991623, 0.016517238691449165, 0.08002809435129166, 0.0, 0.0, 0.0, 0.0, 0.0, 0.0, 0.0, 0.0], [0.24383299052715302, 0.02178153581917286, 0.019058480858802795, 0.026608383283019066, 0.03740561008453369, 0.02708663046360016, 0.0050316075794398785, 0.02665605954825878, 0.017429374158382416, 0.028662465512752533, 0.012151005677878857, 0.03022322803735733, 0.014068309217691422, 0.018160903826355934, 0.015435307286679745, 0.015721844509243965, 0.03215308487415314, 0.024973001331090927, 0.047933775931596756, 0.045990005135536194, 0.031192142516374588, 0.03841529041528702, 0.037881262600421906, 0.03472226485610008, 0.03550752252340317, 0.03336036577820778, 0.05460800603032112, 0.02394956722855568, 0.0, 0.0, 0.0, 0.0, 0.0, 0.0, 0.0], [0.308788001537323, 0.04082433506846428, 0.010766161605715752, 0.02708974853157997, 0.019433295354247093, 0.03355548158288002, 0.010839528404176235, 0.011495564132928848, 0.011286416091024876, 0.019319282844662666, 0.03442361205816269, 0.010595864616334438, 0.019463717937469482, 0.011577974073588848, 0.014172399416565895, 0.02159341238439083, 0.010569147765636444, 0.01821252517402172, 0.007991204038262367, 0.052318621426820755, 0.01970777101814747, 0.035325195640325546, 0.029598265886306763, 0.028512965887784958, 0.021019775420427322, 0.018976131454110146, 0.031007930636405945, 0.017736950889229774, 0.10379864275455475, 0.0, 0.0, 0.0, 0.0, 0.0, 0.0], [0.11270298808813095, 0.013211608864367008, 0.015115481801331043, 0.008062330074608326, 0.018075045198202133, 0.02026733197271824, 0.009121790528297424, 0.021654395386576653, 0.02460031397640705, 0.012220282107591629, 0.005230673588812351, 0.021195197477936745, 0.007505756802856922, 0.027240080758929253, 0.016828972846269608, 0.009307203814387321, 0.02377414144575596, 0.009840182028710842, 0.023520393297076225, 0.018096189945936203, 0.11592712998390198, 0.008296092972159386, 0.015038424171507359, 0.01626184768974781, 0.022837135940790176, 0.007970289327204227, 0.010346008464694023, 0.01360128354281187, 0.009923168458044529, 0.3622281849384308, 0.0, 0.0, 0.0, 0.0, 0.0], [0.19907146692276, 0.0233529694378376, 0.02753550000488758, 0.02074120007455349, 0.04944240674376488, 0.039645493030548096, 0.011580484919250011, 0.03849605470895767, 0.012212718836963177, 0.01263486873358488, 0.01889784075319767, 0.011502718552947044, 0.014417958445847034, 0.01285514235496521, 0.01591629534959793, 0.00928435567766428, 0.01192910224199295, 0.0145748071372509, 0.029562361538410187, 0.03092147782444954, 0.049348849803209305, 0.02683301828801632, 0.03316977620124817, 0.026513906195759773, 0.03841780498623848, 0.03666592016816139, 0.037406861782073975, 0.0374491810798645, 0.0418136902153492, 0.04080500453710556, 0.027000797912478447, 0.0, 0.0, 0.0, 0.0], [0.1358085423707962, 0.021598197519779205, 0.028431443497538567, 0.021366795524954796, 0.03184176981449127, 0.028310751542448997, 0.01123244408518076, 0.01613934151828289, 0.02343672513961792, 0.025144264101982117, 0.01280452124774456, 0.012000501155853271, 0.02091226913034916, 0.025003310292959213, 0.027692249044775963, 0.017305923625826836, 0.012859736569225788, 0.016066303476691246, 0.03279002010822296, 0.03829028084874153, 0.060804788023233414, 0.036749981343746185, 0.03524734824895859, 0.03857801482081413, 0.039048146456480026, 0.036643389612436295, 0.01453043706715107, 0.02163226716220379, 0.010490997694432735, 0.06733928620815277, 0.03867284581065178, 0.041227106004953384, 0.0, 0.0, 0.0], [0.13088135421276093, 0.023744331672787666, 0.02011433243751526, 0.009702392853796482, 0.026952212676405907, 0.013591102324426174, 0.009517522528767586, 0.013271707110106945, 0.02761792205274105, 0.01149836927652359, 0.008886132389307022, 0.016865801066160202, 0.0099719800055027, 0.03131860867142677, 0.014953813515603542, 0.01563660241663456, 0.01875586062669754, 0.00882246345281601, 0.024258315563201904, 0.018599873408675194, 0.06659714132547379, 0.023935340344905853, 0.030215026810765266, 0.03847971186041832, 0.0605478510260582, 0.038860972970724106, 0.0210395697504282, 0.026919960975646973, 0.03078671358525753, 0.06339395046234131, 0.05302293226122856, 0.07499755173921585, 0.01624254696071148, 0.0, 0.0], [0.21679529547691345, 0.035239387303590775, 0.014480574987828732, 0.03231680393218994, 0.021502701565623283, 0.019766859710216522, 0.0077169653959572315, 0.03142577409744263, 0.011421252973377705, 0.03985077142715454, 0.005697549786418676, 0.013826770707964897, 0.011217725463211536, 0.011028865352272987, 0.014342347159981728, 0.016691599041223526, 0.013800653629004955, 0.00905416626483202, 0.016551567241549492, 0.04516451433300972, 0.016743389889597893, 0.04049497842788696, 0.04600658640265465, 0.03918023779988289, 0.020771794021129608, 0.04241836443543434, 0.029444051906466484, 0.01654653251171112, 0.04339044541120529, 0.018028810620307922, 0.01749301329255104, 0.03195445239543915, 0.023179974406957626, 0.026455214247107506, 0.0], [0.12406575679779053, 0.05575518682599068, 0.025793103501200676, 0.007745691575109959, 0.01921473629772663, 0.011872401461005211, 0.009303716942667961, 0.0158426221460104, 0.012728429399430752, 0.012888254597783089, 0.013962876982986927, 0.016627255827188492, 0.015507102943956852, 0.013195217587053776, 0.017325090244412422, 0.02114797942340374, 0.017335504293441772, 0.01582430489361286, 0.02479437366127968, 0.011903033591806889, 0.036510247737169266, 0.023874742910265923, 0.040221355855464935, 0.06286035478115082, 0.10149350762367249, 0.053322602063417435, 0.021689625456929207, 0.018244285136461258, 0.008406994864344597, 0.023202290758490562, 0.04960416257381439, 0.020869316533207893, 0.016017960384488106, 0.011101938784122467, 0.04974794015288353]], [[1.0, 0.0, 0.0, 0.0, 0.0, 0.0, 0.0, 0.0, 0.0, 0.0, 0.0, 0.0, 0.0, 0.0, 0.0, 0.0, 0.0, 0.0, 0.0, 0.0, 0.0, 0.0, 0.0, 0.0, 0.0, 0.0, 0.0, 0.0, 0.0, 0.0, 0.0, 0.0, 0.0, 0.0, 0.0], [0.1077800765633583, 0.8922199010848999, 0.0, 0.0, 0.0, 0.0, 0.0, 0.0, 0.0, 0.0, 0.0, 0.0, 0.0, 0.0, 0.0, 0.0, 0.0, 0.0, 0.0, 0.0, 0.0, 0.0, 0.0, 0.0, 0.0, 0.0, 0.0, 0.0, 0.0, 0.0, 0.0, 0.0, 0.0, 0.0, 0.0], [0.011847434565424919, 0.5536141395568848, 0.43453848361968994, 0.0, 0.0, 0.0, 0.0, 0.0, 0.0, 0.0, 0.0, 0.0, 0.0, 0.0, 0.0, 0.0, 0.0, 0.0, 0.0, 0.0, 0.0, 0.0, 0.0, 0.0, 0.0, 0.0, 0.0, 0.0, 0.0, 0.0, 0.0, 0.0, 0.0, 0.0, 0.0], [0.06322261691093445, 0.02171914279460907, 0.09427286684513092, 0.820785403251648, 0.0, 0.0, 0.0, 0.0, 0.0, 0.0, 0.0, 0.0, 0.0, 0.0, 0.0, 0.0, 0.0, 0.0, 0.0, 0.0, 0.0, 0.0, 0.0, 0.0, 0.0, 0.0, 0.0, 0.0, 0.0, 0.0, 0.0, 0.0, 0.0, 0.0, 0.0], [0.005095742642879486, 0.0005348750273697078, 0.0010105484398081899, 0.004657563753426075, 0.9887012243270874, 0.0, 0.0, 0.0, 0.0, 0.0, 0.0, 0.0, 0.0, 0.0, 0.0, 0.0, 0.0, 0.0, 0.0, 0.0, 0.0, 0.0, 0.0, 0.0, 0.0, 0.0, 0.0, 0.0, 0.0, 0.0, 0.0, 0.0, 0.0, 0.0, 0.0], [0.005585961043834686, 0.000302401022054255, 0.0007955087930895388, 0.0006780334515497088, 0.028760118409991264, 0.9638779759407043, 0.0, 0.0, 0.0, 0.0, 0.0, 0.0, 0.0, 0.0, 0.0, 0.0, 0.0, 0.0, 0.0, 0.0, 0.0, 0.0, 0.0, 0.0, 0.0, 0.0, 0.0, 0.0, 0.0, 0.0, 0.0, 0.0, 0.0, 0.0, 0.0], [0.0002665734791662544, 0.00015396192611660808, 4.344207627582364e-05, 0.00031633899197913706, 0.007582378573715687, 0.008635700680315495, 0.9830015897750854, 0.0, 0.0, 0.0, 0.0, 0.0, 0.0, 0.0, 0.0, 0.0, 0.0, 0.0, 0.0, 0.0, 0.0, 0.0, 0.0, 0.0, 0.0, 0.0, 0.0, 0.0, 0.0, 0.0, 0.0, 0.0, 0.0, 0.0, 0.0], [0.0006940618040971458, 4.833178536500782e-05, 4.511346196522936e-05, 2.3520842660218477e-05, 0.0022377674467861652, 0.0012080533197149634, 0.009321358986198902, 0.9864218235015869, 0.0, 0.0, 0.0, 0.0, 0.0, 0.0, 0.0, 0.0, 0.0, 0.0, 0.0, 0.0, 0.0, 0.0, 0.0, 0.0, 0.0, 0.0, 0.0, 0.0, 0.0, 0.0, 0.0, 0.0, 0.0, 0.0, 0.0], [0.04771990329027176, 0.00634691771119833, 0.005507623311132193, 0.012776720337569714, 0.012552589178085327, 0.01220052968710661, 0.007760595064610243, 0.017114859074354172, 0.8780202269554138, 0.0, 0.0, 0.0, 0.0, 0.0, 0.0, 0.0, 0.0, 0.0, 0.0, 0.0, 0.0, 0.0, 0.0, 0.0, 0.0, 0.0, 0.0, 0.0, 0.0, 0.0, 0.0, 0.0, 0.0, 0.0, 0.0], [9.40378158702515e-05, 7.299134949789732e-07, 1.2948535186296795e-06, 1.004057139653014e-06, 1.5192427781585138e-05, 3.6095178074901924e-05, 3.1514377042185515e-05, 0.0010808254592120647, 4.23684214183595e-05, 0.9986969828605652, 0.0, 0.0, 0.0, 0.0, 0.0, 0.0, 0.0, 0.0, 0.0, 0.0, 0.0, 0.0, 0.0, 0.0, 0.0, 0.0, 0.0, 0.0, 0.0, 0.0, 0.0, 0.0, 0.0, 0.0, 0.0], [0.0002984421735163778, 1.0225173355138395e-05, 2.0773826690856367e-05, 1.0716727047110908e-05, 7.453824946423993e-05, 0.0001658055407460779, 0.0013668584870174527, 0.002583481837064028, 5.024057827540673e-05, 0.324395090341568, 0.6710237860679626, 0.0, 0.0, 0.0, 0.0, 0.0, 0.0, 0.0, 0.0, 0.0, 0.0, 0.0, 0.0, 0.0, 0.0, 0.0, 0.0, 0.0, 0.0, 0.0, 0.0, 0.0, 0.0, 0.0, 0.0], [0.009233685210347176, 0.0007820426835678518, 0.0006810434279032052, 0.0018207886023446918, 0.004383382387459278, 0.017509127035737038, 0.0033242504578083754, 0.0176074355840683, 0.08099663257598877, 0.10943040251731873, 0.014291892759501934, 0.739939272403717, 0.0, 0.0, 0.0, 0.0, 0.0, 0.0, 0.0, 0.0, 0.0, 0.0, 0.0, 0.0, 0.0, 0.0, 0.0, 0.0, 0.0, 0.0, 0.0, 0.0, 0.0, 0.0, 0.0], [0.00023930329189170152, 3.3237947718589567e-06, 2.2832813556306064e-05, 1.024475659505697e-05, 1.0253632353851572e-05, 4.4964101107325405e-05, 2.3576663807034492e-05, 6.216625479282811e-05, 0.0003292954061180353, 0.008749550208449364, 0.0018788756569847465, 0.0014183479361236095, 0.9872072339057922, 0.0, 0.0, 0.0, 0.0, 0.0, 0.0, 0.0, 0.0, 0.0, 0.0, 0.0, 0.0, 0.0, 0.0, 0.0, 0.0, 0.0, 0.0, 0.0, 0.0, 0.0, 0.0], [0.012295348569750786, 0.0005298621254041791, 0.0003560508193913847, 0.0006006719195283949, 0.0005327535327523947, 0.0005349718849174678, 0.0003473352116998285, 0.0008671173709444702, 0.03432309255003929, 0.013273634016513824, 0.007531200535595417, 0.059417955577373505, 0.0937751829624176, 0.775614857673645, 0.0, 0.0, 0.0, 0.0, 0.0, 0.0, 0.0, 0.0, 0.0, 0.0, 0.0, 0.0, 0.0, 0.0, 0.0, 0.0, 0.0, 0.0, 0.0, 0.0, 0.0], [7.850881229387596e-05, 1.1863348845508881e-05, 5.970536676613847e-06, 4.359460945124738e-06, 6.93304127707961e-06, 5.567320476984605e-05, 8.762029210629407e-06, 2.2130006982479244e-05, 0.0002223829651484266, 0.00028025032952427864, 0.0008127270266413689, 0.0015677284682169557, 0.000189563914318569, 0.005879410542547703, 0.9908537864685059, 0.0, 0.0, 0.0, 0.0, 0.0, 0.0, 0.0, 0.0, 0.0, 0.0, 0.0, 0.0, 0.0, 0.0, 0.0, 0.0, 0.0, 0.0, 0.0, 0.0], [9.475010301684961e-05, 8.6034606283647e-06, 3.744859213838936e-06, 1.4634196077167871e-07, 2.7017388219974237e-06, 1.141736993304221e-05, 8.620831067673862e-06, 9.928106010193005e-05, 3.119514076388441e-06, 0.00022620811068918556, 0.0005323353689163923, 2.980489080073312e-05, 0.0013675655936822295, 5.108002733322792e-05, 0.009570826776325703, 0.9879898428916931, 0.0, 0.0, 0.0, 0.0, 0.0, 0.0, 0.0, 0.0, 0.0, 0.0, 0.0, 0.0, 0.0, 0.0, 0.0, 0.0, 0.0, 0.0, 0.0], [0.003944708965718746, 0.00013029127148911357, 9.947711077984422e-05, 0.00019776367116719484, 0.0004265849420335144, 0.0014889845624566078, 0.0002834679326042533, 0.0015356714138761163, 0.004810093902051449, 0.005567718762904406, 0.0010473578004166484, 0.04082653298974037, 0.009189027361571789, 0.09278513491153717, 0.015853000804781914, 0.02794087491929531, 0.7938733696937561, 0.0, 0.0, 0.0, 0.0, 0.0, 0.0, 0.0, 0.0, 0.0, 0.0, 0.0, 0.0, 0.0, 0.0, 0.0, 0.0, 0.0, 0.0], [0.000217236447497271, 2.3531225451733917e-05, 7.806298526702449e-06, 4.732958132080967e-06, 1.567120762047125e-06, 8.667434485687409e-06, 1.2646246432268526e-05, 6.12928852206096e-05, 0.0001886947575258091, 0.0005901302210986614, 0.0004205672303214669, 0.0009746523573994637, 0.00042177739669568837, 0.004066715482622385, 0.001442244742065668, 0.01196003332734108, 0.022401968017220497, 0.9571956396102905, 0.0, 0.0, 0.0, 0.0, 0.0, 0.0, 0.0, 0.0, 0.0, 0.0, 0.0, 0.0, 0.0, 0.0, 0.0, 0.0, 0.0], [0.0007360449526458979, 3.016829850821523e-06, 1.3554752058553277e-06, 1.4014691487318487e-06, 3.387712058611214e-05, 3.752295015146956e-05, 1.0748701242846437e-05, 0.00043027111678384244, 1.6196763681364246e-05, 0.0006748265586793423, 0.0005265922518447042, 0.00012409166083671153, 4.71071653009858e-05, 0.00024138184380717576, 0.0006886586197651923, 0.0003870211658068001, 0.002144154626876116, 0.0017651681555435061, 0.9921305775642395, 0.0, 0.0, 0.0, 0.0, 0.0, 0.0, 0.0, 0.0, 0.0, 0.0, 0.0, 0.0, 0.0, 0.0, 0.0, 0.0], [6.5298086155962665e-06, 4.0131671319443285e-09, 4.275874321280071e-09, 9.052336658044169e-09, 5.135166816216952e-07, 3.731759534275625e-06, 1.4824213678821252e-07, 4.655114025808871e-06, 1.663049964406582e-08, 3.029677600352443e-06, 3.191977884853259e-05, 1.401744071927169e-07, 4.954933956469176e-07, 2.367105196299235e-07, 7.952925216159201e-07, 0.00018607274978421628, 2.446675580358715e-06, 1.1982298929069657e-05, 0.000508233206346631, 0.9992390871047974, 0.0, 0.0, 0.0, 0.0, 0.0, 0.0, 0.0, 0.0, 0.0, 0.0, 0.0, 0.0, 0.0, 0.0, 0.0], [0.00941789522767067, 0.00017362437210977077, 0.00019593218166846782, 0.00010542457312112674, 0.00012100099411327392, 0.00013750349171459675, 0.00020822332589887083, 0.00026208796771243215, 0.0009803806897252798, 0.00017425206897314638, 0.0013313944218680263, 0.0032773076090961695, 0.004840624053031206, 0.01237880066037178, 0.0018258995842188597, 0.024282049387693405, 0.05479971691966057, 0.0742848590016365, 0.07759266346693039, 0.10845338553190231, 0.6251569390296936, 0.0, 0.0, 0.0, 0.0, 0.0, 0.0, 0.0, 0.0, 0.0, 0.0, 0.0, 0.0, 0.0, 0.0], [0.0001788632944226265, 2.97178257824271e-06, 1.2879205542049021e-06, 1.661971055000322e-06, 3.153397528876667e-06, 7.608554369653575e-06, 4.480575910292828e-07, 4.628855549526634e-06, 4.462076049094321e-06, 4.640824954549316e-06, 4.678124696511077e-06, 2.225517346232664e-05, 0.000688504078425467, 5.880861499463208e-05, 5.5112872360041365e-05, 0.0013147693825885653, 0.0004210418846923858, 0.0005279285833239555, 0.00030591568793170154, 0.0011363031808286905, 0.004935146309435368, 0.9903199076652527, 0.0, 0.0, 0.0, 0.0, 0.0, 0.0, 0.0, 0.0, 0.0, 0.0, 0.0, 0.0, 0.0], [0.0009000818245112896, 3.4609056456247345e-05, 6.000075700285379e-06, 1.331791395386972e-06, 8.382415217056405e-06, 7.950174222060014e-06, 8.352964186997269e-07, 5.017445801058784e-06, 1.108555261453148e-05, 1.5506169802392833e-05, 2.244969073217362e-05, 3.2394586014561355e-05, 7.153368642320856e-05, 0.00011106140300398692, 6.552063041453948e-06, 3.557852687663399e-05, 0.00046084189671091735, 0.0006021018489263952, 0.00773558858782053, 0.004731383640319109, 0.01292011421173811, 0.016999131068587303, 0.9552805423736572, 0.0, 0.0, 0.0, 0.0, 0.0, 0.0, 0.0, 0.0, 0.0, 0.0, 0.0, 0.0], [8.094520308077335e-05, 5.419524677563459e-05, 2.1191026462474838e-05, 8.660334174237505e-07, 5.241397047939245e-06, 2.8114016004110454e-06, 9.647656042943709e-07, 4.259619799995562e-06, 6.819952886871761e-06, 2.6370105388195952e-06, 1.0387332622485701e-05, 3.11777948809322e-05, 2.574704740254674e-05, 8.829349826555699e-05, 0.00010530055442359298, 0.00037444717600010335, 0.0005833788309246302, 0.0009019345161505044, 0.00043120168265886605, 0.0049911243841052055, 0.0035159268882125616, 0.015127475373446941, 0.018385013565421104, 0.9552487730979919, 0.0, 0.0, 0.0, 0.0, 0.0, 0.0, 0.0, 0.0, 0.0, 0.0, 0.0], [0.00019926734967157245, 5.897880441807501e-07, 4.093079439826397e-07, 5.283640120978816e-07, 4.043735088998801e-07, 6.811453090449504e-07, 2.501958533684956e-07, 3.1909843301036744e-07, 5.017996045353357e-06, 3.0599273941334104e-06, 4.776866262545809e-06, 8.106241693894845e-06, 1.787102701200638e-05, 5.90492672927212e-05, 7.019496479188092e-06, 5.101941860630177e-05, 0.00015419672126881778, 0.00015557781443931162, 0.00046309444587677717, 0.00018736724450718611, 0.0029354512225836515, 0.006998688913881779, 0.004895055666565895, 0.010302482172846794, 0.9735496640205383, 0.0, 0.0, 0.0, 0.0, 0.0, 0.0, 0.0, 0.0, 0.0, 0.0], [4.0418952266918495e-05, 7.668172763430903e-09, 6.183969247786081e-08, 4.1099543324207843e-08, 3.161342476687423e-07, 1.0004049499912071e-07, 6.658518003632707e-08, 4.780262656822742e-07, 4.035161182969205e-08, 6.753236448275857e-06, 8.574267695848903e-08, 1.0514231973957067e-07, 3.270276693001506e-06, 4.896555196864938e-07, 1.2450353779058787e-06, 9.069835869013332e-06, 2.0693112219305476e-06, 8.541710485587828e-06, 4.513621024671011e-05, 8.528171747457236e-05, 8.476262155454606e-05, 0.001026791869662702, 0.001334778848104179, 0.00029600723064504564, 0.005626793019473553, 0.9914274215698242, 0.0, 0.0, 0.0, 0.0, 0.0, 0.0, 0.0, 0.0, 0.0], [0.0003747466835193336, 1.24301294590623e-07, 2.5229184075215016e-07, 3.052452086649282e-07, 4.7725393415021244e-06, 6.075472356315004e-07, 8.50173705657653e-07, 1.1030869245587382e-05, 8.098998449668215e-08, 9.651321306591853e-07, 7.193358442236786e-07, 3.2339411859538814e-07, 1.7605461835046299e-06, 4.4468265514296945e-07, 3.298769115644973e-07, 2.4300370569108054e-05, 3.6642684335674858e-06, 3.0616486128565157e-06, 2.627130743348971e-05, 0.00034267170121893287, 2.078816032735631e-05, 0.00013409749954007566, 0.000304724759189412, 9.803617285797372e-05, 0.0004919696366414428, 0.004237077664583921, 0.9939160943031311, 0.0, 0.0, 0.0, 0.0, 0.0, 0.0, 0.0, 0.0], [0.0002319767518201843, 7.363649956459994e-07, 1.0658078508640756e-06, 4.7498068056484044e-07, 2.187794734709314e-06, 2.0741754269693047e-06, 1.38421185624793e-07, 2.5106528482865542e-06, 1.971602756611901e-07, 6.67200629322906e-06, 8.99181145541661e-07, 6.362203066601069e-07, 6.544820507770055e-07, 7.717981134192087e-07, 4.801901809514675e-07, 1.1122328032797668e-05, 5.561930720432429e-06, 3.862761332129594e-06, 6.753722846042365e-05, 0.00028979594935663044, 4.3725034629460424e-05, 0.0001520902442280203, 0.0009337753290310502, 0.00018159438332077116, 8.423319377470762e-05, 0.009933874011039734, 0.008723167702555656, 0.9793182611465454, 0.0, 0.0, 0.0, 0.0, 0.0, 0.0, 0.0], [0.00015704918769188225, 3.1231840580403514e-07, 2.9319349437173514e-07, 3.137148780751886e-07, 2.196092736994615e-06, 1.4164403410177329e-06, 1.1236404588998994e-06, 1.3091776054352522e-06, 5.921505064065968e-08, 7.978083544912806e-07, 2.8036774892825633e-06, 1.976692658445245e-07, 3.994011308350309e-07, 2.3049041431022488e-07, 2.26425117944018e-06, 1.672946564212907e-05, 1.6667636373313144e-06, 2.8725473839585902e-06, 2.4946903067757376e-05, 0.00025532717700116336, 4.849691777053522e-06, 4.7080575313884765e-05, 5.325666643329896e-05, 4.2403346014907584e-05, 0.0002087488246615976, 0.002043809974566102, 0.0834670290350914, 0.0036730002611875534, 0.9099875092506409, 0.0, 0.0, 0.0, 0.0, 0.0, 0.0], [0.0010030755074694753, 7.605915925523732e-06, 5.4789047680969816e-06, 4.70407849206822e-06, 1.081825644178025e-06, 7.246835593832657e-07, 6.05719890245382e-07, 1.5847818986003404e-06, 3.183095031999983e-05, 1.8444834495312534e-06, 1.372379188069317e-06, 6.841020422143629e-06, 4.996112693333998e-06, 0.00014220451703295112, 2.1025969090260332e-06, 2.046111876552459e-05, 6.875465624034405e-05, 8.339443593285978e-05, 7.060820644255728e-05, 0.00022270032786764205, 0.0013453506398946047, 0.0011953124776482582, 0.000763769494369626, 0.003412762191146612, 0.009595125913619995, 0.008245958015322685, 0.004028407856822014, 0.015673452988266945, 0.03710904344916344, 0.9169487953186035, 0.0, 0.0, 0.0, 0.0, 0.0], [0.00014598063717130572, 1.3442448221212544e-07, 3.0679643714393023e-07, 1.270083771487407e-07, 9.539689216353509e-08, 4.421373134277928e-08, 7.2709593901265634e-09, 2.1630626179103274e-07, 1.7861825085674354e-07, 1.1440969416298685e-07, 4.546686227513419e-08, 1.140669425581109e-07, 1.784633099077837e-07, 8.568730436309124e-07, 1.0497480928961522e-07, 1.2474922641558805e-06, 1.168266066997603e-06, 6.485002472800261e-07, 9.923046491167042e-06, 2.663560189830605e-05, 2.1480991563294083e-05, 7.19235249562189e-05, 0.00015873333904892206, 0.00014563245349563658, 0.002426166320219636, 0.0015144931385293603, 0.0007063166704028845, 0.0022442839108407497, 0.004566811490803957, 0.009832344017922878, 0.9781237244606018, 0.0, 0.0, 0.0, 0.0], [1.0698774531192612e-05, 5.128419644506721e-08, 7.382473654615751e-08, 9.797534517019812e-08, 4.944874376633379e-07, 6.269730761232495e-07, 2.625734509820177e-07, 7.361927032434323e-07, 2.510116701159859e-07, 2.1764835764770396e-06, 5.36374670900841e-07, 8.60690761328442e-07, 2.1515769788038597e-07, 1.0358809277022374e-06, 2.489504424829647e-07, 1.3481017958838493e-05, 8.521083145751618e-06, 5.148497166374e-06, 4.645082753995666e-06, 1.683262780716177e-05, 5.864640115760267e-05, 3.65244886779692e-05, 0.00016485729429405183, 1.194499054690823e-05, 0.0005173987010493875, 0.0024279053322970867, 0.00034773506922647357, 0.0015964033082127571, 0.009022935293614864, 0.013163716532289982, 0.06333823502063751, 0.9092468023300171, 0.0, 0.0, 0.0], [0.00122873077634722, 8.407655514020007e-06, 8.363966117030941e-06, 8.199041076295543e-06, 3.972180820710491e-06, 3.987271611549659e-06, 1.5942523532430641e-06, 4.764994628203567e-06, 4.4619309846893884e-06, 8.699205864104442e-06, 3.4823035548470216e-06, 4.0872250792745035e-06, 4.383188297651941e-06, 1.2878731467935722e-05, 2.7649987259792397e-06, 1.155084009951679e-05, 2.8508424293249846e-05, 1.972618338186294e-05, 8.00796042312868e-05, 0.00016381607565563172, 0.0002766101388260722, 0.00048299715854227543, 0.000590301351621747, 0.0011750623816624284, 0.003466711612418294, 0.005802726838737726, 0.01190755795687437, 0.016952980309724808, 0.02846650592982769, 0.06137578934431076, 0.11517596989870071, 0.20177744328975677, 0.5509368777275085, 0.0, 0.0], [3.782525527640246e-05, 6.459638512978927e-08, 1.9273654672247176e-08, 7.975812366112223e-08, 6.700330459352699e-07, 1.2464347776131035e-07, 3.072165100093116e-08, 3.3671460641926387e-07, 9.953986790378622e-08, 4.54151972917316e-07, 3.406016446660942e-08, 1.7256121509490185e-07, 3.3590222869861464e-07, 3.256334082379908e-07, 1.1636627661459897e-08, 3.2042096336226678e-06, 1.2533513427115395e-06, 1.7663038534010411e-06, 1.1125961464131251e-05, 2.0410274373716675e-05, 8.103430445771664e-06, 1.288108524022391e-05, 0.00014193193055689335, 1.1411094419599976e-05, 0.00010671337804524228, 0.00010951125295832753, 0.001792709925211966, 0.0015404949663206935, 0.0012465217150747776, 0.0015975864371284842, 0.0008927046437747777, 0.009557007811963558, 0.009279937483370304, 0.9736242294311523, 0.0], [0.000353969749994576, 2.644037294885493e-06, 1.7576154505150043e-06, 1.2348078826107667e-06, 5.949702881480334e-06, 1.3091880646243226e-06, 3.3621063266764395e-07, 2.4850552904354117e-07, 6.705453188260435e-07, 6.699504950802293e-08, 6.061916906219267e-07, 4.6190581315386225e-07, 2.3573272756038932e-06, 1.4622177104683942e-06, 2.9763668862869963e-07, 1.6005789120754343e-06, 2.460903942846926e-06, 1.9317219539516373e-06, 3.2001476938603446e-05, 2.4651970306877047e-05, 3.4296379453735426e-05, 0.00016550840518902987, 7.883959187893197e-05, 0.00018387149611953646, 0.0011651525273919106, 0.00012255342153366655, 0.0011725190561264753, 0.0004984780680388212, 0.003501479746773839, 0.003400745801627636, 0.011839515529572964, 0.005179085303097963, 0.01671384461224079, 0.029127653688192368, 0.9263803958892822]], [[1.0, 0.0, 0.0, 0.0, 0.0, 0.0, 0.0, 0.0, 0.0, 0.0, 0.0, 0.0, 0.0, 0.0, 0.0, 0.0, 0.0, 0.0, 0.0, 0.0, 0.0, 0.0, 0.0, 0.0, 0.0, 0.0, 0.0, 0.0, 0.0, 0.0, 0.0, 0.0, 0.0, 0.0, 0.0], [0.9238101243972778, 0.07618986815214157, 0.0, 0.0, 0.0, 0.0, 0.0, 0.0, 0.0, 0.0, 0.0, 0.0, 0.0, 0.0, 0.0, 0.0, 0.0, 0.0, 0.0, 0.0, 0.0, 0.0, 0.0, 0.0, 0.0, 0.0, 0.0, 0.0, 0.0, 0.0, 0.0, 0.0, 0.0, 0.0, 0.0], [0.3758925199508667, 0.10050594061613083, 0.5236015915870667, 0.0, 0.0, 0.0, 0.0, 0.0, 0.0, 0.0, 0.0, 0.0, 0.0, 0.0, 0.0, 0.0, 0.0, 0.0, 0.0, 0.0, 0.0, 0.0, 0.0, 0.0, 0.0, 0.0, 0.0, 0.0, 0.0, 0.0, 0.0, 0.0, 0.0, 0.0, 0.0], [0.41213729977607727, 0.0823158547282219, 0.1808476597070694, 0.32469919323921204, 0.0, 0.0, 0.0, 0.0, 0.0, 0.0, 0.0, 0.0, 0.0, 0.0, 0.0, 0.0, 0.0, 0.0, 0.0, 0.0, 0.0, 0.0, 0.0, 0.0, 0.0, 0.0, 0.0, 0.0, 0.0, 0.0, 0.0, 0.0, 0.0, 0.0, 0.0], [0.1405227929353714, 0.005812307819724083, 0.02827638015151024, 0.05733031779527664, 0.7680581212043762, 0.0, 0.0, 0.0, 0.0, 0.0, 0.0, 0.0, 0.0, 0.0, 0.0, 0.0, 0.0, 0.0, 0.0, 0.0, 0.0, 0.0, 0.0, 0.0, 0.0, 0.0, 0.0, 0.0, 0.0, 0.0, 0.0, 0.0, 0.0, 0.0, 0.0], [0.019230717793107033, 0.0014746829401701689, 0.0016810832312330604, 0.004905845504254103, 0.025906607508659363, 0.946800947189331, 0.0, 0.0, 0.0, 0.0, 0.0, 0.0, 0.0, 0.0, 0.0, 0.0, 0.0, 0.0, 0.0, 0.0, 0.0, 0.0, 0.0, 0.0, 0.0, 0.0, 0.0, 0.0, 0.0, 0.0, 0.0, 0.0, 0.0, 0.0, 0.0], [0.006040878128260374, 0.004658225923776627, 0.012865042313933372, 0.008953898213803768, 0.0702168345451355, 0.12025348842144012, 0.7770116925239563, 0.0, 0.0, 0.0, 0.0, 0.0, 0.0, 0.0, 0.0, 0.0, 0.0, 0.0, 0.0, 0.0, 0.0, 0.0, 0.0, 0.0, 0.0, 0.0, 0.0, 0.0, 0.0, 0.0, 0.0, 0.0, 0.0, 0.0, 0.0], [0.01624826155602932, 0.0039293766021728516, 0.01283665094524622, 0.005099623464047909, 0.01735418289899826, 0.015599321573972702, 0.13602766394615173, 0.7929048538208008, 0.0, 0.0, 0.0, 0.0, 0.0, 0.0, 0.0, 0.0, 0.0, 0.0, 0.0, 0.0, 0.0, 0.0, 0.0, 0.0, 0.0, 0.0, 0.0, 0.0, 0.0, 0.0, 0.0, 0.0, 0.0, 0.0, 0.0], [0.13423284888267517, 0.07014790177345276, 0.03862925246357918, 0.03592692315578461, 0.05720486864447594, 0.06419357657432556, 0.03908980265259743, 0.2145734429359436, 0.34600135684013367, 0.0, 0.0, 0.0, 0.0, 0.0, 0.0, 0.0, 0.0, 0.0, 0.0, 0.0, 0.0, 0.0, 0.0, 0.0, 0.0, 0.0, 0.0, 0.0, 0.0, 0.0, 0.0, 0.0, 0.0, 0.0, 0.0], [0.0035958748776465654, 0.00038494993350468576, 0.0004921661457046866, 0.000808877928648144, 0.0025900944601744413, 0.0024076495319604874, 0.0001713181845843792, 0.011153001338243484, 0.0021147788502275944, 0.9762812852859497, 0.0, 0.0, 0.0, 0.0, 0.0, 0.0, 0.0, 0.0, 0.0, 0.0, 0.0, 0.0, 0.0, 0.0, 0.0, 0.0, 0.0, 0.0, 0.0, 0.0, 0.0, 0.0, 0.0, 0.0, 0.0], [0.00022834500123281032, 4.6662524255225435e-05, 8.206470374716446e-05, 7.730659854132682e-05, 0.00012034244718961418, 0.004319246858358383, 0.0038442215882241726, 0.0011964994482696056, 0.00016446932568214834, 0.8530564308166504, 0.13686440885066986, 0.0, 0.0, 0.0, 0.0, 0.0, 0.0, 0.0, 0.0, 0.0, 0.0, 0.0, 0.0, 0.0, 0.0, 0.0, 0.0, 0.0, 0.0, 0.0, 0.0, 0.0, 0.0, 0.0, 0.0], [0.06578909605741501, 0.01929076388478279, 0.020492712035775185, 0.02195679023861885, 0.026686688885092735, 0.08618336170911789, 0.031040923669934273, 0.16103021800518036, 0.030162565410137177, 0.2132367640733719, 0.07554483413696289, 0.24858525395393372, 0.0, 0.0, 0.0, 0.0, 0.0, 0.0, 0.0, 0.0, 0.0, 0.0, 0.0, 0.0, 0.0, 0.0, 0.0, 0.0, 0.0, 0.0, 0.0, 0.0, 0.0, 0.0, 0.0], [0.009123364463448524, 0.0033993138931691647, 0.016818268224596977, 0.0046488093212246895, 0.014602282084524632, 0.058332543820142746, 0.07909011095762253, 0.0176636204123497, 0.016087276861071587, 0.15053574740886688, 0.3343389332294464, 0.05438896641135216, 0.24097079038619995, 0.0, 0.0, 0.0, 0.0, 0.0, 0.0, 0.0, 0.0, 0.0, 0.0, 0.0, 0.0, 0.0, 0.0, 0.0, 0.0, 0.0, 0.0, 0.0, 0.0, 0.0, 0.0], [0.042534373700618744, 0.0165505763143301, 0.007813410833477974, 0.006833466235548258, 0.00965096428990364, 0.009173319675028324, 0.005910309497267008, 0.030093105509877205, 0.05324172601103783, 0.035758912563323975, 0.11968681216239929, 0.07133743166923523, 0.29692211747169495, 0.29449349641799927, 0.0, 0.0, 0.0, 0.0, 0.0, 0.0, 0.0, 0.0, 0.0, 0.0, 0.0, 0.0, 0.0, 0.0, 0.0, 0.0, 0.0, 0.0, 0.0, 0.0, 0.0], [0.010158028453588486, 0.00437741307541728, 0.006503184325993061, 0.0035466840490698814, 0.006157049909234047, 0.005149812437593937, 0.0041582463309168816, 0.014994010329246521, 0.017724107950925827, 0.008609640412032604, 0.013557265512645245, 0.027689799666404724, 0.02777610719203949, 0.08518608659505844, 0.764412522315979, 0.0, 0.0, 0.0, 0.0, 0.0, 0.0, 0.0, 0.0, 0.0, 0.0, 0.0, 0.0, 0.0, 0.0, 0.0, 0.0, 0.0, 0.0, 0.0, 0.0], [0.0005760948988609016, 3.758491584449075e-05, 3.100582762272097e-05, 2.8090962587157264e-05, 0.00011757250467780977, 0.0010626506991684437, 0.0008489806205034256, 0.002364432904869318, 0.00031711868359707296, 0.000504071416798979, 0.0005438976222649217, 0.000996467424556613, 0.004787209909409285, 0.0016582176322117448, 0.02118116244673729, 0.964945375919342, 0.0, 0.0, 0.0, 0.0, 0.0, 0.0, 0.0, 0.0, 0.0, 0.0, 0.0, 0.0, 0.0, 0.0, 0.0, 0.0, 0.0, 0.0, 0.0], [0.057101089507341385, 0.012982724234461784, 0.012463364750146866, 0.012371201068162918, 0.013064748607575893, 0.035302478820085526, 0.013208812102675438, 0.06362833827733994, 0.010588892735540867, 0.061131998896598816, 0.027357179671525955, 0.08200787752866745, 0.03997459262609482, 0.043028347194194794, 0.06893418729305267, 0.0673389732837677, 0.37951523065567017, 0.0, 0.0, 0.0, 0.0, 0.0, 0.0, 0.0, 0.0, 0.0, 0.0, 0.0, 0.0, 0.0, 0.0, 0.0, 0.0, 0.0, 0.0], [0.05038188397884369, 0.010253237560391426, 0.009017396718263626, 0.007853331044316292, 0.008382102474570274, 0.01603054255247116, 0.007579761557281017, 0.016568148508667946, 0.009558068588376045, 0.020098427310585976, 0.02802768349647522, 0.03172839805483818, 0.021793970838189125, 0.039423294365406036, 0.11988721042871475, 0.04783085361123085, 0.1477368175983429, 0.4078488349914551, 0.0, 0.0, 0.0, 0.0, 0.0, 0.0, 0.0, 0.0, 0.0, 0.0, 0.0, 0.0, 0.0, 0.0, 0.0, 0.0, 0.0], [0.009583805687725544, 0.0005122207221575081, 0.0006106937653385103, 0.0009717896464280784, 0.0022611061576753855, 0.004041268955916166, 0.00033976093982346356, 0.002301484579220414, 0.0014669822994619608, 0.004360878840088844, 0.010039575397968292, 0.003883794415742159, 0.0019065372180193663, 0.004968367516994476, 0.003599882125854492, 0.0027956583071500063, 0.015628818422555923, 0.014497026801109314, 0.916230320930481, 0.0, 0.0, 0.0, 0.0, 0.0, 0.0, 0.0, 0.0, 0.0, 0.0, 0.0, 0.0, 0.0, 0.0, 0.0, 0.0], [0.033775776624679565, 0.0008472927147522569, 0.0009361563134007156, 0.0006967569352127612, 0.004600140266120434, 0.0032575998920947313, 0.00042183618643321097, 0.007556704338639975, 0.0010570590384304523, 0.003643788630142808, 0.00017823856614995748, 0.0020456211641430855, 0.0014812102308496833, 0.00291804620064795, 0.0056848181411623955, 0.06616657227277756, 0.006820711772888899, 0.005966112483292818, 0.022306187078356743, 0.8296393752098083, 0.0, 0.0, 0.0, 0.0, 0.0, 0.0, 0.0, 0.0, 0.0, 0.0, 0.0, 0.0, 0.0, 0.0, 0.0], [0.014338112436234951, 0.004506279714405537, 0.002293481957167387, 0.0045026326552033424, 0.00634852796792984, 0.006440700497478247, 0.003075921442359686, 0.003429377218708396, 0.00882504228502512, 0.013563868589699268, 0.008806232362985611, 0.015333067625761032, 0.010930363088846207, 0.03256241977214813, 0.041650135070085526, 0.029358431696891785, 0.06823208928108215, 0.10101234167814255, 0.128244087100029, 0.08141808211803436, 0.4151288866996765, 0.0, 0.0, 0.0, 0.0, 0.0, 0.0, 0.0, 0.0, 0.0, 0.0, 0.0, 0.0, 0.0, 0.0], [0.012516937218606472, 0.003707381198182702, 0.0011323615908622742, 0.0020440146327018738, 0.0021037983242422342, 0.0007217554957605898, 0.0003587713581509888, 0.0010654564248397946, 0.0033418673556298018, 0.0035347698722034693, 0.0018008302431553602, 0.005131382495164871, 0.005956843961030245, 0.01168146263808012, 0.023353146389126778, 0.02462637424468994, 0.023082580417394638, 0.024053944274783134, 0.04505402594804764, 0.04447478801012039, 0.09848442673683167, 0.6617730855941772, 0.0, 0.0, 0.0, 0.0, 0.0, 0.0, 0.0, 0.0, 0.0, 0.0, 0.0, 0.0, 0.0], [0.02337808348238468, 0.002970093162730336, 0.002272162353619933, 0.0031212542671710253, 0.010448785498738289, 0.002795710926875472, 0.0009500703890807927, 0.006640291772782803, 0.002509304555132985, 0.006215906236320734, 0.001875661313533783, 0.004366474691778421, 0.005894934758543968, 0.007904247380793095, 0.011842518113553524, 0.011780313216149807, 0.016934018582105637, 0.015606734901666641, 0.03699192404747009, 0.0567627027630806, 0.038851816207170486, 0.30106890201568604, 0.4288182258605957, 0.0, 0.0, 0.0, 0.0, 0.0, 0.0, 0.0, 0.0, 0.0, 0.0, 0.0, 0.0], [0.0422508642077446, 0.009647669270634651, 0.013069665059447289, 0.0034939267206937075, 0.008718247525393963, 0.0008717639720998704, 0.002113071968778968, 0.0025201558601111174, 0.002825930016115308, 0.0030562584288418293, 0.005475993733853102, 0.004467587918043137, 0.005966206081211567, 0.008145668543875217, 0.027670923620462418, 0.013382635079324245, 0.01818913407623768, 0.03278026357293129, 0.02884836308658123, 0.05995950475335121, 0.09605947136878967, 0.20931924879550934, 0.10138260573148727, 0.2997848391532898, 0.0, 0.0, 0.0, 0.0, 0.0, 0.0, 0.0, 0.0, 0.0, 0.0, 0.0], [0.02581801265478134, 0.0012453024974092841, 0.0012367710005491972, 0.0031558237969875336, 0.0026054561603814363, 0.0011178319109603763, 0.0002305324305780232, 0.001061453833244741, 0.0012552981497719884, 0.0014470173045992851, 0.0006083030020818114, 0.0021444326266646385, 0.0017222745809704065, 0.00306367757730186, 0.002130715409293771, 0.0017395152244716883, 0.007489561103284359, 0.004201178904622793, 0.01636727713048458, 0.017187530174851418, 0.01664702221751213, 0.06787319481372833, 0.0754612535238266, 0.04369647428393364, 0.700494110584259, 0.0, 0.0, 0.0, 0.0, 0.0, 0.0, 0.0, 0.0, 0.0, 0.0], [0.00750829977914691, 0.000129139210912399, 0.00022904021898284554, 0.0003099398745689541, 0.001587574020959437, 0.00015740802336949855, 0.0003654663451015949, 0.00026319484459236264, 0.000246187555603683, 0.0049638450145721436, 0.0008493280038237572, 0.0002054251090157777, 0.0035996558144688606, 0.0006757518276572227, 0.0006743194535374641, 0.0028660339303314686, 0.0007401988259516656, 0.0012410664930939674, 0.0034339376725256443, 0.003348803613334894, 0.005896294489502907, 0.015315243974328041, 0.01358444057404995, 0.0038060718216001987, 0.10587518662214279, 0.8221280574798584, 0.0, 0.0, 0.0, 0.0, 0.0, 0.0, 0.0, 0.0, 0.0], [0.015146816149353981, 0.0002837269566953182, 0.0004323889734223485, 0.001239212928339839, 0.0026600698474794626, 0.0003459540894255042, 0.00029542690026573837, 0.0018772076582536101, 0.0002369124413235113, 0.00013219240645412356, 0.0003354806685820222, 0.00022997867199592292, 0.00027149016386829317, 0.000420953641878441, 0.0008192583918571472, 0.00030394672648981214, 0.0006469363579526544, 0.00038042684900574386, 0.002392594004049897, 0.0029767979867756367, 0.0025756133254617453, 0.005941800773143768, 0.005901209078729153, 0.005208779592067003, 0.025423701852560043, 0.023241249844431877, 0.9002797603607178, 0.0, 0.0, 0.0, 0.0, 0.0, 0.0, 0.0, 0.0], [0.02088218368589878, 0.0006866249023005366, 0.0014190312940627337, 0.0016247234307229519, 0.005466728005558252, 0.0019930729176849127, 0.0003444563481025398, 0.0014866308774799109, 0.0003860278520733118, 0.00029868006822653115, 0.00037154858000576496, 0.000533249054569751, 0.00025670818286016583, 0.000608334201388061, 0.00037862546741962433, 0.0013748221099376678, 0.001378134242258966, 0.0009236658224835992, 0.02337498776614666, 0.037732359021902084, 0.004063980653882027, 0.021846625953912735, 0.018512388691306114, 0.005047198850661516, 0.01844026893377304, 0.0639948844909668, 0.33002790808677673, 0.43654611706733704, 0.0, 0.0, 0.0, 0.0, 0.0, 0.0, 0.0], [0.0027297870256006718, 0.00011315725714666769, 0.000257431878708303, 0.0003065291384700686, 0.000801237067207694, 0.0008870937745086849, 0.00010111575102200732, 0.002048569731414318, 0.00014291190018411726, 0.00019898050231859088, 0.0004309816285967827, 7.43574055377394e-05, 0.0001107782736653462, 0.0002229756792075932, 0.00010400107566965744, 0.0007566185668110847, 0.00018428804469294846, 0.00031020984170027077, 0.0010590283200144768, 0.0053943851962685585, 0.0013711388455703855, 0.001723822089843452, 0.0034383467864245176, 0.0007791530806571245, 0.0027107957284897566, 0.011246602982282639, 0.26186150312423706, 0.042864635586738586, 0.6577695608139038, 0.0, 0.0, 0.0, 0.0, 0.0, 0.0], [0.007169215474277735, 0.002651228103786707, 0.002445023972541094, 0.0030232483986765146, 0.0026861915830522776, 0.0007135471678338945, 0.0005127676413394511, 0.000386486150091514, 0.0009532017284072936, 0.0004407841479405761, 0.0008591743535362184, 0.00124910578597337, 0.0009424780146218836, 0.001661725458689034, 0.00044353175326250494, 0.0014648411888629198, 0.003577461699023843, 0.0037673425395041704, 0.012122930027544498, 0.006853909697383642, 0.0052495659328997135, 0.019704239442944527, 0.026669230312108994, 0.04096021503210068, 0.2385396957397461, 0.057257067412137985, 0.04040537402033806, 0.10933991521596909, 0.077363021671772, 0.3305875062942505, 0.0, 0.0, 0.0, 0.0, 0.0], [0.01162666454911232, 0.0019658172968775034, 0.0009179522166959941, 0.0018197429599240422, 0.002078977646306157, 0.0002935710654128343, 0.00010028554970631376, 0.000579998770263046, 0.0004854123981203884, 9.764828428160399e-05, 0.0001571274478919804, 0.0004106420965399593, 0.00048777746269479394, 0.000751785933971405, 0.0007532844902016222, 0.0012242123484611511, 0.0010826842626556754, 0.0014821887016296387, 0.002774248830974102, 0.003610334824770689, 0.0021372418850660324, 0.009361456148326397, 0.014277664013206959, 0.011846715584397316, 0.047293372452259064, 0.0450628288090229, 0.04156069457530975, 0.04280791059136391, 0.07079777121543884, 0.10084831714630127, 0.5813056826591492, 0.0, 0.0, 0.0, 0.0], [0.003873431356623769, 0.00025570960133336484, 0.0006259245565161109, 0.0005843959515914321, 0.0012326460564509034, 0.00039456001832149923, 0.0003326676960568875, 0.00015581936168018728, 0.00016472721472382545, 0.000772629224229604, 0.00038669793866574764, 0.0002782441442832351, 0.00015239702770486474, 0.00025198538787662983, 6.452933303080499e-05, 0.00017264120106119663, 0.0007133579929359257, 0.000538479071110487, 0.0075395614840090275, 0.006723248865455389, 0.0013963901437819004, 0.0031103540677577257, 0.0055012828670442104, 0.00241358601488173, 0.03896055370569229, 0.023422325029969215, 0.009641126729547977, 0.02575087547302246, 0.12702476978302002, 0.040059275925159454, 0.5142088532447815, 0.18329691886901855, 0.0, 0.0, 0.0], [0.015151123516261578, 0.0013760679867118597, 0.0015560502652078867, 0.0021717108320444822, 0.002511008642613888, 0.0017854952020570636, 0.0004700865538325161, 0.000678812328260392, 0.00038990730536170304, 0.0009900368750095367, 0.00038026575930416584, 0.0004182500415481627, 0.00044352925033308566, 0.0005140129942446947, 0.00016592201427556574, 0.0006932564429007471, 0.0009629502892494202, 0.0007656948873773217, 0.004365222528576851, 0.0064362697303295135, 0.0018688262207433581, 0.008356154896318913, 0.006384760141372681, 0.005890710279345512, 0.03118702955543995, 0.04100944846868515, 0.02856607735157013, 0.04157726839184761, 0.04076458141207695, 0.06712851673364639, 0.3042672872543335, 0.2161882519721985, 0.1645854264497757, 0.0, 0.0], [0.01735411398112774, 0.0005264715873636305, 0.0006208932027220726, 0.0016926306998357177, 0.006297257263213396, 0.0010202121920883656, 7.362548785749823e-05, 0.000676227908115834, 0.00044483100646175444, 7.778886356391013e-05, 4.9738075176719576e-05, 0.0003035975678358227, 0.0001734182587824762, 0.000516243395395577, 0.00027352734468877316, 0.0007443999638780951, 0.0006022219895385206, 0.0004544501716736704, 0.0026653388049453497, 0.002663874998688698, 0.0025515949819236994, 0.007818792946636677, 0.00949097704142332, 0.0009830400813370943, 0.007624233141541481, 0.01155235804617405, 0.09579717367887497, 0.08069905638694763, 0.09889813512563705, 0.03799614682793617, 0.05835622176527977, 0.11718901991844177, 0.11656814068555832, 0.31724420189857483, 0.0], [0.010796328075230122, 0.003018460003659129, 0.0017010789597406983, 0.002761397510766983, 0.005546444561332464, 0.0005509485490620136, 0.00022208341397345066, 0.00023305881768465042, 0.0008555075619369745, 8.42940789880231e-05, 0.00013491020945366472, 0.00040303377318196, 0.0002156854170607403, 0.0009122324991039932, 0.0007261994178406894, 0.00038188433973118663, 0.0007406802615150809, 0.0007301221485249698, 0.0007852281560190022, 0.0013473373837769032, 0.004313781391829252, 0.007729174569249153, 0.005422807298600674, 0.006747078150510788, 0.013981976546347141, 0.004630993586033583, 0.01939181424677372, 0.02813369780778885, 0.016861924901604652, 0.07724328339099884, 0.05435159429907799, 0.13139024376869202, 0.15014056861400604, 0.0843438059091568, 0.3631703853607178]], [[1.0, 0.0, 0.0, 0.0, 0.0, 0.0, 0.0, 0.0, 0.0, 0.0, 0.0, 0.0, 0.0, 0.0, 0.0, 0.0, 0.0, 0.0, 0.0, 0.0, 0.0, 0.0, 0.0, 0.0, 0.0, 0.0, 0.0, 0.0, 0.0, 0.0, 0.0, 0.0, 0.0, 0.0, 0.0], [0.1932608187198639, 0.8067392110824585, 0.0, 0.0, 0.0, 0.0, 0.0, 0.0, 0.0, 0.0, 0.0, 0.0, 0.0, 0.0, 0.0, 0.0, 0.0, 0.0, 0.0, 0.0, 0.0, 0.0, 0.0, 0.0, 0.0, 0.0, 0.0, 0.0, 0.0, 0.0, 0.0, 0.0, 0.0, 0.0, 0.0], [0.09132374823093414, 0.0022218842059373856, 0.9064543843269348, 0.0, 0.0, 0.0, 0.0, 0.0, 0.0, 0.0, 0.0, 0.0, 0.0, 0.0, 0.0, 0.0, 0.0, 0.0, 0.0, 0.0, 0.0, 0.0, 0.0, 0.0, 0.0, 0.0, 0.0, 0.0, 0.0, 0.0, 0.0, 0.0, 0.0, 0.0, 0.0], [0.07127515971660614, 0.010394580662250519, 0.014608730562031269, 0.9037214517593384, 0.0, 0.0, 0.0, 0.0, 0.0, 0.0, 0.0, 0.0, 0.0, 0.0, 0.0, 0.0, 0.0, 0.0, 0.0, 0.0, 0.0, 0.0, 0.0, 0.0, 0.0, 0.0, 0.0, 0.0, 0.0, 0.0, 0.0, 0.0, 0.0, 0.0, 0.0], [0.007525183726102114, 8.942779095377773e-05, 7.54414577386342e-05, 3.413583499423112e-06, 0.9923065304756165, 0.0, 0.0, 0.0, 0.0, 0.0, 0.0, 0.0, 0.0, 0.0, 0.0, 0.0, 0.0, 0.0, 0.0, 0.0, 0.0, 0.0, 0.0, 0.0, 0.0, 0.0, 0.0, 0.0, 0.0, 0.0, 0.0, 0.0, 0.0, 0.0, 0.0], [0.004521043971180916, 4.280501343600918e-06, 9.230407158611342e-05, 2.36362775467569e-05, 1.1194401849934366e-05, 0.9953475594520569, 0.0, 0.0, 0.0, 0.0, 0.0, 0.0, 0.0, 0.0, 0.0, 0.0, 0.0, 0.0, 0.0, 0.0, 0.0, 0.0, 0.0, 0.0, 0.0, 0.0, 0.0, 0.0, 0.0, 0.0, 0.0, 0.0, 0.0, 0.0, 0.0], [0.007938134483993053, 0.00010465254308655858, 4.188243838143535e-05, 8.376279765798245e-06, 0.00021111402020324022, 3.129787273792317e-06, 0.9916926622390747, 0.0, 0.0, 0.0, 0.0, 0.0, 0.0, 0.0, 0.0, 0.0, 0.0, 0.0, 0.0, 0.0, 0.0, 0.0, 0.0, 0.0, 0.0, 0.0, 0.0, 0.0, 0.0, 0.0, 0.0, 0.0, 0.0, 0.0, 0.0], [0.002452848246321082, 1.0800496966112405e-05, 1.541074198030401e-05, 2.252152597748136e-07, 3.925120836356655e-05, 5.133605554874521e-06, 2.3800475901225582e-05, 0.9974525570869446, 0.0, 0.0, 0.0, 0.0, 0.0, 0.0, 0.0, 0.0, 0.0, 0.0, 0.0, 0.0, 0.0, 0.0, 0.0, 0.0, 0.0, 0.0, 0.0, 0.0, 0.0, 0.0, 0.0, 0.0, 0.0, 0.0, 0.0], [0.19944845139980316, 0.17831814289093018, 0.06548023968935013, 0.13276459276676178, 0.038584500551223755, 0.010353408753871918, 0.021433595567941666, 0.006723286118358374, 0.346893846988678, 0.0, 0.0, 0.0, 0.0, 0.0, 0.0, 0.0, 0.0, 0.0, 0.0, 0.0, 0.0, 0.0, 0.0, 0.0, 0.0, 0.0, 0.0, 0.0, 0.0, 0.0, 0.0, 0.0, 0.0, 0.0, 0.0], [0.0014458460500463843, 8.054703926063667e-07, 3.064585689571686e-05, 7.412921263494354e-07, 2.0274044345569564e-06, 1.1259034181421157e-05, 1.8223380493509467e-06, 8.012932812562212e-05, 1.0569634412149753e-07, 0.9984266757965088, 0.0, 0.0, 0.0, 0.0, 0.0, 0.0, 0.0, 0.0, 0.0, 0.0, 0.0, 0.0, 0.0, 0.0, 0.0, 0.0, 0.0, 0.0, 0.0, 0.0, 0.0, 0.0, 0.0, 0.0, 0.0], [0.002338015241548419, 1.2498665455495939e-05, 2.2450083633884788e-05, 4.236492259224178e-06, 2.9520265343307983e-07, 1.8947017679238343e-06, 7.769844523863867e-05, 8.96904748515226e-06, 4.6951914356441193e-08, 1.134765739152499e-06, 0.9975327253341675, 0.0, 0.0, 0.0, 0.0, 0.0, 0.0, 0.0, 0.0, 0.0, 0.0, 0.0, 0.0, 0.0, 0.0, 0.0, 0.0, 0.0, 0.0, 0.0, 0.0, 0.0, 0.0, 0.0, 0.0], [0.04751454293727875, 0.052682630717754364, 0.02040811814367771, 0.058530043810606, 0.007166557479649782, 0.008201412856578827, 0.011846396140754223, 0.0017474376363679767, 0.024963324889540672, 0.002697255928069353, 0.0014261906035244465, 0.7628161311149597, 0.0, 0.0, 0.0, 0.0, 0.0, 0.0, 0.0, 0.0, 0.0, 0.0, 0.0, 0.0, 0.0, 0.0, 0.0, 0.0, 0.0, 0.0, 0.0, 0.0, 0.0, 0.0, 0.0], [0.006070819217711687, 0.00012957974104210734, 5.9433634305605665e-05, 5.6593567023810465e-06, 0.0002615337143652141, 0.00012241856893524528, 1.039936705637956e-05, 1.1076414921262767e-05, 4.060488549839647e-07, 0.0003600475611165166, 2.011545075220056e-05, 1.3643945351304865e-07, 0.9929484128952026, 0.0, 0.0, 0.0, 0.0, 0.0, 0.0, 0.0, 0.0, 0.0, 0.0, 0.0, 0.0, 0.0, 0.0, 0.0, 0.0, 0.0, 0.0, 0.0, 0.0, 0.0, 0.0], [0.09530570358037949, 0.14180327951908112, 0.05038182809948921, 0.10299668461084366, 0.029812077060341835, 0.006589412223547697, 0.016824394464492798, 0.004481853451579809, 0.23106452822685242, 0.01943543553352356, 0.010874397121369839, 0.05543201044201851, 0.03543870896100998, 0.19955970346927643, 0.0, 0.0, 0.0, 0.0, 0.0, 0.0, 0.0, 0.0, 0.0, 0.0, 0.0, 0.0, 0.0, 0.0, 0.0, 0.0, 0.0, 0.0, 0.0, 0.0, 0.0], [0.02744777873158455, 0.00014065334107726812, 0.00019846615032292902, 3.496767021715641e-05, 5.2821437748207245e-06, 0.00015024191816337407, 8.128343324642628e-05, 1.2125139619456604e-05, 6.30389477009885e-05, 6.543209019582719e-05, 2.83248527921387e-06, 3.890723382937722e-05, 5.673626901625539e-07, 4.210483530187048e-05, 0.9717162847518921, 0.0, 0.0, 0.0, 0.0, 0.0, 0.0, 0.0, 0.0, 0.0, 0.0, 0.0, 0.0, 0.0, 0.0, 0.0, 0.0, 0.0, 0.0, 0.0, 0.0], [0.004212121479213238, 3.0696890462422743e-05, 6.369448965415359e-05, 8.254556860265438e-07, 8.262148867288488e-07, 3.86834581149742e-05, 4.26881160819903e-06, 3.819413905148394e-06, 1.262802555856979e-07, 0.00013782775204163045, 1.7806130927056074e-05, 1.7100200366826357e-08, 5.979883553663967e-06, 6.190309420617268e-08, 2.2941594579606317e-06, 0.9954808950424194, 0.0, 0.0, 0.0, 0.0, 0.0, 0.0, 0.0, 0.0, 0.0, 0.0, 0.0, 0.0, 0.0, 0.0, 0.0, 0.0, 0.0, 0.0, 0.0], [0.019846808165311813, 0.03168344125151634, 0.012553274631500244, 0.035718806087970734, 0.004399013705551624, 0.004350571893155575, 0.0074273766949772835, 0.0009372886270284653, 0.012662887573242188, 0.0016050555277615786, 0.0007319959695450962, 0.45634061098098755, 0.00201086956076324, 0.009759276174008846, 0.008237500675022602, 0.00025941251078620553, 0.3914758861064911, 0.0, 0.0, 0.0, 0.0, 0.0, 0.0, 0.0, 0.0, 0.0, 0.0, 0.0, 0.0, 0.0, 0.0, 0.0, 0.0, 0.0, 0.0], [0.02729719690978527, 0.0024357063230127096, 0.0002706817467696965, 7.525577530032024e-05, 1.3686847523786128e-05, 5.773227258032421e-06, 0.00043018380529247224, 1.443816927348962e-05, 4.8351364966947585e-05, 5.326111931935884e-05, 9.613308975531254e-06, 6.846694304840639e-05, 0.0003037676215171814, 2.8783890229533426e-05, 3.866398037644103e-05, 2.5926818125299178e-05, 4.680046549765393e-05, 0.9688335061073303, 0.0, 0.0, 0.0, 0.0, 0.0, 0.0, 0.0, 0.0, 0.0, 0.0, 0.0, 0.0, 0.0, 0.0, 0.0, 0.0, 0.0], [0.006310711614787579, 3.2946947612799704e-05, 9.895704351947643e-06, 7.334597853514424e-07, 9.119859169004485e-05, 4.0949409594759345e-05, 8.511720807291567e-06, 9.950720414053649e-05, 1.9264849981937004e-07, 8.829243824948207e-07, 1.89061233868415e-06, 1.1808729141193908e-06, 3.1165220661932835e-06, 9.474786111240974e-08, 3.3017672649293672e-06, 2.5855300918919966e-05, 7.711314538028091e-07, 2.6708705718192505e-06, 0.993365466594696, 0.0, 0.0, 0.0, 0.0, 0.0, 0.0, 0.0, 0.0, 0.0, 0.0, 0.0, 0.0, 0.0, 0.0, 0.0, 0.0], [0.0011340547353029251, 6.9619300120393746e-06, 1.2364388567220885e-05, 4.0065546613732295e-07, 5.351825529942289e-05, 5.24010192748392e-06, 4.4595097278943285e-05, 0.00016450797556899488, 1.4344506915620059e-08, 1.038803020492196e-06, 4.77888788736891e-05, 5.0586844935196495e-08, 9.468218991059985e-07, 7.475676966350875e-09, 6.603933684345975e-07, 3.843115337076597e-06, 3.346431753925572e-08, 2.41197824379924e-07, 1.6647767552058212e-05, 0.9985072016716003, 0.0, 0.0, 0.0, 0.0, 0.0, 0.0, 0.0, 0.0, 0.0, 0.0, 0.0, 0.0, 0.0, 0.0, 0.0], [0.08800844103097916, 0.18921291828155518, 0.04556255042552948, 0.08163291960954666, 0.017358070239424706, 0.004830400925129652, 0.018958786502480507, 0.004620132502168417, 0.06910261511802673, 0.012970471754670143, 0.010343021713197231, 0.05366412177681923, 0.00983026996254921, 0.05797471106052399, 0.011936407536268234, 0.009446630254387856, 0.046623390167951584, 0.07882603257894516, 0.010427411645650864, 0.0020946746226400137, 0.17657598853111267, 0.0, 0.0, 0.0, 0.0, 0.0, 0.0, 0.0, 0.0, 0.0, 0.0, 0.0, 0.0, 0.0, 0.0], [0.01597115769982338, 0.003062016097828746, 0.00014189504145178944, 0.0007885739323683083, 4.299372449168004e-05, 4.13119669246953e-05, 6.306861905613914e-05, 3.5465118344291113e-06, 2.173125722038094e-05, 1.786093707778491e-05, 1.0213978384854272e-05, 2.659637902979739e-05, 3.785551598411985e-05, 1.3186846445023548e-05, 0.0001881764328572899, 4.9638774726190604e-06, 1.8085096598952077e-05, 4.864023139816709e-05, 4.463590812520124e-06, 2.4802479856589343e-06, 1.217890439875191e-05, 0.9794788956642151, 0.0, 0.0, 0.0, 0.0, 0.0, 0.0, 0.0, 0.0, 0.0, 0.0, 0.0, 0.0, 0.0], [0.007472253870218992, 0.00037190807051956654, 7.639093382749707e-05, 1.1135944987472612e-05, 3.0148798032314517e-05, 1.1014460142177995e-05, 5.452883488032967e-05, 2.244444112875499e-05, 1.1283878848189488e-05, 2.858792504412122e-05, 5.6277503972523846e-06, 7.513620221288875e-05, 7.734302198514342e-05, 6.5297363107674755e-06, 8.796941983746365e-06, 8.651510142954066e-06, 5.0728016503853723e-05, 7.040875971142668e-06, 3.187647234881297e-05, 1.4034907280802145e-06, 7.003601240285207e-06, 7.040100899757817e-05, 0.9915596842765808, 0.0, 0.0, 0.0, 0.0, 0.0, 0.0, 0.0, 0.0, 0.0, 0.0, 0.0, 0.0], [0.02204543724656105, 0.28049436211586, 0.016674796119332314, 0.00015087146311998367, 0.0006804477889090776, 2.7394153221393935e-05, 0.0008938335813581944, 1.24992102428223e-05, 0.0002665532229002565, 5.584169230132829e-06, 5.109104313305579e-05, 9.500436863163486e-05, 1.819479621190112e-05, 0.0001828283566283062, 0.0016493609873577952, 2.793520070554223e-05, 6.991920963628218e-05, 7.677570829400793e-05, 2.0886154743493535e-05, 4.512569375947351e-06, 0.00014541401469614357, 0.0004470506391953677, 5.514789518201724e-05, 0.6759040355682373, 0.0, 0.0, 0.0, 0.0, 0.0, 0.0, 0.0, 0.0, 0.0, 0.0, 0.0], [0.01879945769906044, 0.0019184609409421682, 0.0010523868259042501, 7.228145841509104e-05, 0.00013796627172268927, 5.208816219237633e-05, 6.334375939331949e-05, 9.731957106851041e-06, 8.12080324976705e-05, 5.9983929531881586e-05, 9.635974492994137e-06, 4.8187135689659044e-05, 4.688352419179864e-05, 5.250570393400267e-05, 0.00044942088425159454, 0.00028932970599271357, 3.537202792358585e-05, 0.00022377929417416453, 0.00020208988280501217, 3.112009608230437e-06, 3.522854967741296e-05, 9.855003008851781e-05, 0.00018101489695254713, 0.00012300792150199413, 0.9759548306465149, 0.0, 0.0, 0.0, 0.0, 0.0, 0.0, 0.0, 0.0, 0.0, 0.0], [0.0016589773586019874, 6.63247010379564e-06, 3.9323440432781354e-05, 5.5121408877312206e-06, 7.328293577302247e-05, 5.176194122213928e-07, 8.362670632777736e-05, 1.6115403923322447e-05, 1.8407968127576169e-07, 0.00020032595784869045, 1.8497462406230625e-06, 7.683036784555952e-08, 1.805103056540247e-05, 9.259753852575159e-08, 6.612178367504384e-06, 1.962786427611718e-06, 5.0048473809738425e-08, 6.371125493842555e-08, 4.881649147137068e-07, 3.839147211692762e-06, 1.8601497231429676e-08, 1.6708659131836612e-06, 8.81660753293545e-07, 6.673342767271606e-08, 1.878518105513649e-07, 0.9978796243667603, 0.0, 0.0, 0.0, 0.0, 0.0, 0.0, 0.0, 0.0, 0.0], [0.005040667951107025, 0.0003915554843842983, 0.0005618707509711385, 0.00014523050049319863, 3.937188375857659e-05, 5.409954974311404e-05, 0.000284795300103724, 4.828744931728579e-05, 3.104316647295491e-06, 6.89627486281097e-05, 0.0002681412152014673, 4.210932729620254e-06, 1.211988455906976e-05, 2.0253971797501436e-06, 3.1887822842691094e-05, 1.1356525646988302e-05, 3.018800271092914e-06, 1.2622905160242226e-05, 7.465576800314011e-06, 3.027807906619273e-06, 4.951120331497805e-07, 3.01545860565966e-05, 1.886378049675841e-05, 4.1512503230478615e-06, 5.0313265091972426e-06, 6.06908906775061e-06, 0.9929414987564087, 0.0, 0.0, 0.0, 0.0, 0.0, 0.0, 0.0, 0.0], [0.0012448665220290422, 0.000176170258782804, 2.41517300310079e-05, 1.2456679542083293e-05, 5.2113085985183716e-05, 2.3546064767288044e-05, 5.673446139553562e-05, 0.0004582771216519177, 2.4983858111227164e-06, 0.00011349430133122951, 4.920252104056999e-05, 1.3444550859276205e-05, 7.735934195807204e-05, 1.3437097550195176e-06, 6.060899522708496e-06, 0.00010331783414585516, 8.74549186846707e-06, 1.0811575521074701e-05, 0.00015856373647693545, 1.9056066093980917e-06, 5.418795012701594e-07, 1.232136924045335e-06, 6.472232780652121e-05, 3.589057087083347e-06, 8.65090169099858e-06, 2.9628010906890268e-06, 1.3278961887408514e-05, 0.9973099231719971, 0.0, 0.0, 0.0, 0.0, 0.0, 0.0, 0.0], [0.001973332604393363, 0.0009750573080964386, 7.218521932372823e-05, 9.848416084423661e-05, 4.960862497682683e-05, 5.434052582131699e-05, 0.0003797206445597112, 6.184632638905896e-06, 1.0831159897861653e-06, 4.491215349844424e-06, 0.0004798356967512518, 9.928648978529964e-07, 1.3564559594669845e-05, 6.477191618614597e-07, 1.0186123290623073e-05, 5.581327059189789e-06, 7.113484343790333e-07, 5.998077767799259e-07, 3.2010909762902884e-06, 2.288288442287012e-06, 1.5130858344036824e-07, 7.130760423024185e-06, 1.7937974234882859e-06, 2.4025752281886525e-05, 2.833118344369723e-07, 1.2269139915588312e-05, 0.00023325486108660698, 0.0003131963894702494, 0.9952758550643921, 0.0, 0.0, 0.0, 0.0, 0.0, 0.0], [0.03009926527738571, 0.09027377516031265, 0.02814973145723343, 0.1576387584209442, 0.02647354081273079, 0.0030060065910220146, 0.01721953973174095, 0.0022446694783866405, 0.031200459226965904, 0.011351730674505234, 0.0013561323285102844, 0.029119182378053665, 0.0167735293507576, 0.023998107761144638, 0.009450533427298069, 0.006288205739110708, 0.02392304316163063, 0.058296263217926025, 0.009904224425554276, 0.000377973192371428, 0.024595148861408234, 0.04042006656527519, 0.02788674458861351, 0.00982357095927, 0.0499471090734005, 0.0010651152115315199, 0.014632525853812695, 0.011246385984122753, 0.0020601553842425346, 0.241178497672081, 0.0, 0.0, 0.0, 0.0, 0.0], [0.004169420804828405, 0.000614328368101269, 0.0005938458489254117, 0.00011036222713300958, 9.005510219139978e-05, 1.3705158380616922e-05, 0.0005903487908653915, 2.689233269848046e-06, 8.671501745993737e-06, 4.6116343582980335e-05, 1.005678677756805e-05, 5.362908268580213e-06, 5.1998504204675555e-05, 4.802413968718611e-06, 2.119524469890166e-05, 2.478504757164046e-05, 3.4400377444399055e-06, 1.8410850316286087e-05, 7.055144669720903e-05, 5.603969270850939e-07, 5.060179319116287e-06, 2.2592150344280526e-05, 6.252550520002842e-05, 1.8619364709593356e-05, 0.00014118559192866087, 2.633108670124784e-05, 1.261044644706999e-06, 1.0759871429399936e-06, 3.0931974492887093e-07, 5.793054697278421e-06, 0.9932644367218018, 0.0, 0.0, 0.0, 0.0], [0.010566649958491325, 0.0013905889354646206, 0.00043136277236044407, 0.0010295924730598927, 0.003916394896805286, 0.00015029506175778806, 0.0019936009775847197, 0.00030443709692917764, 2.9845065000699833e-05, 0.0006592926802113652, 1.265983701159712e-05, 7.527502748416737e-05, 0.0003976769803557545, 1.7276539438171312e-05, 0.00038583489367738366, 2.1061901861685328e-05, 5.3403142374008894e-05, 6.335022044368088e-05, 0.000126884420751594, 6.783195658499608e-06, 2.717058850976173e-05, 0.00013008965470362455, 3.859863136312924e-05, 4.3666466808645055e-05, 8.064082976488862e-06, 0.0007468663388863206, 8.195245754905045e-06, 9.368611063109711e-05, 6.252453658817103e-06, 4.447245373739861e-05, 0.00020698650041595101, 0.9770136475563049, 0.0, 0.0, 0.0], [0.017131473869085312, 0.10981200635433197, 0.04528496041893959, 0.16663993895053864, 0.04683493450284004, 0.012714341282844543, 0.024941839277744293, 0.0024605051148682833, 0.01651417277753353, 0.014018180780112743, 0.0028046502266079187, 0.017261294648051262, 0.05619135499000549, 0.011843180283904076, 0.024518407881259918, 0.008004874922335148, 0.013582990504801273, 0.027696536853909492, 0.007881488651037216, 0.0013759637949988246, 0.009033638052642345, 0.03748000040650368, 0.014368830248713493, 0.016579676419496536, 0.031486257910728455, 0.0022351080551743507, 0.007032560650259256, 0.020338809117674828, 0.00215736567042768, 0.015735741704702377, 0.03529255464673042, 0.017794998362660408, 0.16295140981674194, 0.0, 0.0], [0.0027362436521798372, 0.003270448185503483, 0.0002493856300134212, 2.952119211840909e-05, 0.0027190828695893288, 1.5680845535825938e-05, 0.0011440094094723463, 3.5285604099044576e-05, 1.9352108211023733e-05, 3.620974166551605e-05, 1.2202242032799404e-05, 0.00012145661457907408, 4.955613621859811e-05, 1.1851522685901728e-05, 8.826639532344416e-05, 3.1845251214690506e-05, 8.61893204273656e-05, 0.00013057822070550174, 9.267554560210556e-05, 1.844454527599737e-05, 4.454896043171175e-06, 1.4211049347068183e-05, 0.00020819847122766078, 6.224944809218869e-05, 2.7290041543892585e-05, 8.527104910172056e-06, 0.0010931731667369604, 0.0010259016416966915, 1.8266448023496196e-05, 9.816340934776235e-06, 7.599980449413124e-07, 4.151817847741768e-06, 8.365916983166244e-06, 0.9866164922714233, 0.0], [0.013301760889589787, 0.0020241776946932077, 0.0009810638148337603, 0.00027103954926133156, 0.026242561638355255, 6.968410161789507e-05, 0.00018824632570613176, 0.0003323276177980006, 0.00020717488951049745, 0.0003558362368494272, 1.8688786440179683e-05, 0.0003101633337792009, 0.0002884422428905964, 0.00014157569967210293, 0.00021018930419813842, 0.0001373012928524986, 0.0002454254135955125, 0.0005858635413460433, 0.0008409083820879459, 0.00037898425944149494, 0.00011255504796281457, 0.0009485288755968213, 0.00025817210553213954, 0.0005371635197661817, 0.00023706436331849545, 9.896158007904887e-05, 1.4541826203640085e-05, 7.514368189731613e-05, 1.0142443898075726e-05, 7.690770144108683e-05, 6.643282540608197e-05, 5.446000432129949e-05, 0.0001078200075426139, 0.002189122373238206, 0.9480817317962646]], [[1.0, 0.0, 0.0, 0.0, 0.0, 0.0, 0.0, 0.0, 0.0, 0.0, 0.0, 0.0, 0.0, 0.0, 0.0, 0.0, 0.0, 0.0, 0.0, 0.0, 0.0, 0.0, 0.0, 0.0, 0.0, 0.0, 0.0, 0.0, 0.0, 0.0, 0.0, 0.0, 0.0, 0.0, 0.0], [0.9360752105712891, 0.06392484903335571, 0.0, 0.0, 0.0, 0.0, 0.0, 0.0, 0.0, 0.0, 0.0, 0.0, 0.0, 0.0, 0.0, 0.0, 0.0, 0.0, 0.0, 0.0, 0.0, 0.0, 0.0, 0.0, 0.0, 0.0, 0.0, 0.0, 0.0, 0.0, 0.0, 0.0, 0.0, 0.0, 0.0], [0.8446659445762634, 0.06946854293346405, 0.0858655646443367, 0.0, 0.0, 0.0, 0.0, 0.0, 0.0, 0.0, 0.0, 0.0, 0.0, 0.0, 0.0, 0.0, 0.0, 0.0, 0.0, 0.0, 0.0, 0.0, 0.0, 0.0, 0.0, 0.0, 0.0, 0.0, 0.0, 0.0, 0.0, 0.0, 0.0, 0.0, 0.0], [0.6426600217819214, 0.1298869103193283, 0.17117175459861755, 0.056281305849552155, 0.0, 0.0, 0.0, 0.0, 0.0, 0.0, 0.0, 0.0, 0.0, 0.0, 0.0, 0.0, 0.0, 0.0, 0.0, 0.0, 0.0, 0.0, 0.0, 0.0, 0.0, 0.0, 0.0, 0.0, 0.0, 0.0, 0.0, 0.0, 0.0, 0.0, 0.0], [0.5074959397315979, 0.0778627097606659, 0.0726853460073471, 0.10711851716041565, 0.23483753204345703, 0.0, 0.0, 0.0, 0.0, 0.0, 0.0, 0.0, 0.0, 0.0, 0.0, 0.0, 0.0, 0.0, 0.0, 0.0, 0.0, 0.0, 0.0, 0.0, 0.0, 0.0, 0.0, 0.0, 0.0, 0.0, 0.0, 0.0, 0.0, 0.0, 0.0], [0.49707552790641785, 0.06315261125564575, 0.1155911386013031, 0.08851399272680283, 0.10196361690759659, 0.13370312750339508, 0.0, 0.0, 0.0, 0.0, 0.0, 0.0, 0.0, 0.0, 0.0, 0.0, 0.0, 0.0, 0.0, 0.0, 0.0, 0.0, 0.0, 0.0, 0.0, 0.0, 0.0, 0.0, 0.0, 0.0, 0.0, 0.0, 0.0, 0.0, 0.0], [0.3081282079219818, 0.06775975972414017, 0.13057540357112885, 0.05440937727689743, 0.04050320014357567, 0.3605913817882538, 0.03803271800279617, 0.0, 0.0, 0.0, 0.0, 0.0, 0.0, 0.0, 0.0, 0.0, 0.0, 0.0, 0.0, 0.0, 0.0, 0.0, 0.0, 0.0, 0.0, 0.0, 0.0, 0.0, 0.0, 0.0, 0.0, 0.0, 0.0, 0.0, 0.0], [0.3243497312068939, 0.06349692493677139, 0.07783646136522293, 0.07798172533512115, 0.07410474866628647, 0.13590553402900696, 0.07038858532905579, 0.1759362518787384, 0.0, 0.0, 0.0, 0.0, 0.0, 0.0, 0.0, 0.0, 0.0, 0.0, 0.0, 0.0, 0.0, 0.0, 0.0, 0.0, 0.0, 0.0, 0.0, 0.0, 0.0, 0.0, 0.0, 0.0, 0.0, 0.0, 0.0], [0.16412915289402008, 0.03469284623861313, 0.05131255462765694, 0.01331699825823307, 0.17712709307670593, 0.1595190018415451, 0.09812308847904205, 0.2969047427177429, 0.0048745544627308846, 0.0, 0.0, 0.0, 0.0, 0.0, 0.0, 0.0, 0.0, 0.0, 0.0, 0.0, 0.0, 0.0, 0.0, 0.0, 0.0, 0.0, 0.0, 0.0, 0.0, 0.0, 0.0, 0.0, 0.0, 0.0, 0.0], [0.18775464594364166, 0.054880451411008835, 0.10758273303508759, 0.04391004890203476, 0.1406543254852295, 0.11696729809045792, 0.052460022270679474, 0.1536639928817749, 0.04935269430279732, 0.09277381002902985, 0.0, 0.0, 0.0, 0.0, 0.0, 0.0, 0.0, 0.0, 0.0, 0.0, 0.0, 0.0, 0.0, 0.0, 0.0, 0.0, 0.0, 0.0, 0.0, 0.0, 0.0, 0.0, 0.0, 0.0, 0.0], [0.2051711529493332, 0.04006879776716232, 0.08339216560125351, 0.045652780681848526, 0.05697014927864075, 0.1331988424062729, 0.02641640044748783, 0.09950853884220123, 0.05013459175825119, 0.21417365968227386, 0.04531293362379074, 0.0, 0.0, 0.0, 0.0, 0.0, 0.0, 0.0, 0.0, 0.0, 0.0, 0.0, 0.0, 0.0, 0.0, 0.0, 0.0, 0.0, 0.0, 0.0, 0.0, 0.0, 0.0, 0.0, 0.0], [0.10754456371068954, 0.02095545269548893, 0.05246845632791519, 0.00833085272461176, 0.1799752414226532, 0.10652028769254684, 0.07210806012153625, 0.20191136002540588, 0.003346044337376952, 0.14021329581737518, 0.10356736928224564, 0.003058959497138858, 0.0, 0.0, 0.0, 0.0, 0.0, 0.0, 0.0, 0.0, 0.0, 0.0, 0.0, 0.0, 0.0, 0.0, 0.0, 0.0, 0.0, 0.0, 0.0, 0.0, 0.0, 0.0, 0.0], [0.09423352032899857, 0.02283540740609169, 0.055588558316230774, 0.026967855170369148, 0.12799425423145294, 0.07631108909845352, 0.07361149787902832, 0.16634687781333923, 0.03019636683166027, 0.11622445285320282, 0.13079150021076202, 0.022433556616306305, 0.05646512284874916, 0.0, 0.0, 0.0, 0.0, 0.0, 0.0, 0.0, 0.0, 0.0, 0.0, 0.0, 0.0, 0.0, 0.0, 0.0, 0.0, 0.0, 0.0, 0.0, 0.0, 0.0, 0.0], [0.11027707159519196, 0.0199173204600811, 0.033872123807668686, 0.00801222212612629, 0.1268695443868637, 0.1205272227525711, 0.06604593992233276, 0.2115958034992218, 0.002910380018875003, 0.13361382484436035, 0.07830417901277542, 0.005965667776763439, 0.0786396786570549, 0.0034490120597183704, 0.0, 0.0, 0.0, 0.0, 0.0, 0.0, 0.0, 0.0, 0.0, 0.0, 0.0, 0.0, 0.0, 0.0, 0.0, 0.0, 0.0, 0.0, 0.0, 0.0, 0.0], [0.1600770652294159, 0.05452114716172218, 0.059736255556344986, 0.020207520574331284, 0.052660420536994934, 0.10011067241430283, 0.11729256808757782, 0.14998748898506165, 0.017248373478651047, 0.05625281110405922, 0.09442035853862762, 0.012046914547681808, 0.020297687500715256, 0.018244562670588493, 0.06689620018005371, 0.0, 0.0, 0.0, 0.0, 0.0, 0.0, 0.0, 0.0, 0.0, 0.0, 0.0, 0.0, 0.0, 0.0, 0.0, 0.0, 0.0, 0.0, 0.0, 0.0], [0.17850057780742645, 0.04271139204502106, 0.05876285582780838, 0.02550153061747551, 0.028219720348715782, 0.0939595028758049, 0.03569772094488144, 0.038533009588718414, 0.027574103325605392, 0.124172143638134, 0.09900186210870743, 0.029919547960162163, 0.04168912395834923, 0.030038556084036827, 0.08029219508171082, 0.06542611122131348, 0.0, 0.0, 0.0, 0.0, 0.0, 0.0, 0.0, 0.0, 0.0, 0.0, 0.0, 0.0, 0.0, 0.0, 0.0, 0.0, 0.0, 0.0, 0.0], [0.08262607455253601, 0.014221643097698689, 0.03910332918167114, 0.0058097802102565765, 0.14161071181297302, 0.08671099692583084, 0.05503493547439575, 0.15626992285251617, 0.002328180707991123, 0.11679326742887497, 0.08067944645881653, 0.0021917952690273523, 0.09792859107255936, 0.0027368650771677494, 0.03297453001141548, 0.08037842065095901, 0.0026014947798103094, 0.0, 0.0, 0.0, 0.0, 0.0, 0.0, 0.0, 0.0, 0.0, 0.0, 0.0, 0.0, 0.0, 0.0, 0.0, 0.0, 0.0, 0.0], [0.09858328104019165, 0.028320664539933205, 0.052631791681051254, 0.017858656123280525, 0.06163661181926727, 0.08070763945579529, 0.07397954910993576, 0.09560462832450867, 0.009335823357105255, 0.08467232435941696, 0.11269156634807587, 0.018467873334884644, 0.03856261447072029, 0.011051513254642487, 0.06964195519685745, 0.09237805753946304, 0.02256043255329132, 0.03131495788693428, 0.0, 0.0, 0.0, 0.0, 0.0, 0.0, 0.0, 0.0, 0.0, 0.0, 0.0, 0.0, 0.0, 0.0, 0.0, 0.0, 0.0], [0.1495792120695114, 0.013048063963651657, 0.03394851088523865, 0.015061776153743267, 0.045098841190338135, 0.08479966968297958, 0.027256982401013374, 0.17206281423568726, 0.01685033179819584, 0.10883239656686783, 0.11793848872184753, 0.008323254995048046, 0.01613432727754116, 0.01772647351026535, 0.026173420250415802, 0.05189087614417076, 0.008976073004305363, 0.010605724528431892, 0.0756927877664566, 0.0, 0.0, 0.0, 0.0, 0.0, 0.0, 0.0, 0.0, 0.0, 0.0, 0.0, 0.0, 0.0, 0.0, 0.0, 0.0], [0.2303972691297531, 0.024296827614307404, 0.026559969410300255, 0.03924618661403656, 0.04230225086212158, 0.04924339801073074, 0.00797943864017725, 0.0732208788394928, 0.03455184027552605, 0.06601925194263458, 0.03830168396234512, 0.03672322630882263, 0.0241401307284832, 0.03710528090596199, 0.028557121753692627, 0.054463956505060196, 0.03901506960391998, 0.01594439707696438, 0.04610008746385574, 0.08583167940378189, 0.0, 0.0, 0.0, 0.0, 0.0, 0.0, 0.0, 0.0, 0.0, 0.0, 0.0, 0.0, 0.0, 0.0, 0.0], [0.05691666156053543, 0.006225018296390772, 0.011754416860640049, 0.0035496787168085575, 0.07110720127820969, 0.0800657644867897, 0.02216234803199768, 0.11016804724931717, 0.0010484927333891392, 0.08122197538614273, 0.026672041043639183, 0.002196080982685089, 0.030598534271121025, 0.0012014054227620363, 0.014937766827642918, 0.14736878871917725, 0.002626751083880663, 0.03338918089866638, 0.11049012839794159, 0.18504448235034943, 0.0012552273692563176, 0.0, 0.0, 0.0, 0.0, 0.0, 0.0, 0.0, 0.0, 0.0, 0.0, 0.0, 0.0, 0.0, 0.0], [0.09241703897714615, 0.026059608906507492, 0.024830596521496773, 0.01475397776812315, 0.07309960573911667, 0.04160081222653389, 0.02818295918405056, 0.10522368550300598, 0.010200565680861473, 0.026716861873865128, 0.03863624855875969, 0.008342116139829159, 0.03416535630822182, 0.011011878959834576, 0.02702196314930916, 0.10600949078798294, 0.009498472325503826, 0.01612309366464615, 0.06257016956806183, 0.19003155827522278, 0.010448910295963287, 0.04305502027273178, 0.0, 0.0, 0.0, 0.0, 0.0, 0.0, 0.0, 0.0, 0.0, 0.0, 0.0, 0.0, 0.0], [0.06173653528094292, 0.007029626984149218, 0.01948660984635353, 0.010366822592914104, 0.04601287469267845, 0.07236860692501068, 0.022752374410629272, 0.08978493511676788, 0.0050419047474861145, 0.07019016146659851, 0.07947877794504166, 0.006475391332060099, 0.038350652903318405, 0.005680923815816641, 0.015840984880924225, 0.05344105884432793, 0.0075249820947647095, 0.018862158060073853, 0.09784609824419022, 0.19087882339954376, 0.006985299754887819, 0.027727818116545677, 0.046136610209941864, 0.0, 0.0, 0.0, 0.0, 0.0, 0.0, 0.0, 0.0, 0.0, 0.0, 0.0, 0.0], [0.043498434126377106, 0.006029140669852495, 0.016271810978651047, 0.00496289087459445, 0.09232775121927261, 0.05643608421087265, 0.02427319809794426, 0.10004420578479767, 0.0013475847663357854, 0.04695267230272293, 0.04336998239159584, 0.002612090902402997, 0.02598002925515175, 0.0015367738669738173, 0.013811739161610603, 0.12162504345178604, 0.003084053285419941, 0.014781147241592407, 0.08252867311239243, 0.20843426883220673, 0.0021058102138340473, 0.033566415309906006, 0.04992131516337395, 0.004498823545873165, 0.0, 0.0, 0.0, 0.0, 0.0, 0.0, 0.0, 0.0, 0.0, 0.0, 0.0], [0.054939307272434235, 0.005164691247045994, 0.013282537460327148, 0.006816807668656111, 0.08581956475973129, 0.042583730071783066, 0.010111801326274872, 0.10901320725679398, 0.0030670398846268654, 0.04195147007703781, 0.03668752685189247, 0.0038776027504354715, 0.03639630228281021, 0.003642825409770012, 0.01571308635175228, 0.04514278471469879, 0.004770633764564991, 0.010733414441347122, 0.12949083745479584, 0.18343377113342285, 0.0057639130391180515, 0.06008811295032501, 0.0642036721110344, 0.008479912765324116, 0.01882551610469818, 0.0, 0.0, 0.0, 0.0, 0.0, 0.0, 0.0, 0.0, 0.0, 0.0], [0.1161927878856659, 0.024008193984627724, 0.017500851303339005, 0.022795289754867554, 0.05027652904391289, 0.03202548623085022, 0.02064775675535202, 0.039747416973114014, 0.023735975846648216, 0.026677902787923813, 0.01885642297565937, 0.028171343728899956, 0.034608811140060425, 0.026643717661499977, 0.02276807278394699, 0.023577352985739708, 0.03119918331503868, 0.022620446979999542, 0.09706809371709824, 0.06436185538768768, 0.03251431882381439, 0.04557199776172638, 0.04268261045217514, 0.028252851217985153, 0.025809550657868385, 0.0816851556301117, 0.0, 0.0, 0.0, 0.0, 0.0, 0.0, 0.0, 0.0, 0.0], [0.11220826208591461, 0.005275930278003216, 0.013701369054615498, 0.006475638132542372, 0.05825748294591904, 0.05591835826635361, 0.013027261942625046, 0.10451261699199677, 0.004013673402369022, 0.0401136688888073, 0.03787229582667351, 0.003174528945237398, 0.012129997834563255, 0.0040962593629956245, 0.007334522437304258, 0.017732830718159676, 0.0034752341452986, 0.0030595571734011173, 0.0948338657617569, 0.2000264823436737, 0.005673965439200401, 0.016374556347727776, 0.017230220139026642, 0.004368433728814125, 0.009308069944381714, 0.09713461250066757, 0.05267034471035004, 0.0, 0.0, 0.0, 0.0, 0.0, 0.0, 0.0, 0.0], [0.06115271523594856, 0.004939323291182518, 0.009762823581695557, 0.0052271680906414986, 0.036462731659412384, 0.03137054294347763, 0.00821889191865921, 0.11535757780075073, 0.003272867063060403, 0.038249190896749496, 0.03337176889181137, 0.0021793784108012915, 0.007692958693951368, 0.0034548097755759954, 0.009085437282919884, 0.027900513261556625, 0.0023665933404117823, 0.003948240075260401, 0.040771495550870895, 0.2757468819618225, 0.0035466651897877455, 0.012455113232135773, 0.03261314705014229, 0.003209818387404084, 0.0036030923947691917, 0.100096195936203, 0.08892866969108582, 0.035015419125556946, 0.0, 0.0, 0.0, 0.0, 0.0, 0.0, 0.0], [0.11957034468650818, 0.008050513453781605, 0.013377289287745953, 0.007089271210134029, 0.025275399908423424, 0.051490820944309235, 0.006585438270121813, 0.06165982410311699, 0.005620484706014395, 0.0556148998439312, 0.027291812002658844, 0.004286485258489847, 0.007698431145399809, 0.005996246822178364, 0.007942017167806625, 0.028790509328246117, 0.004870966542512178, 0.004313760437071323, 0.026228073984384537, 0.15385551750659943, 0.010709964670240879, 0.009564644657075405, 0.029178379103541374, 0.005329275503754616, 0.00805151928216219, 0.07812707871198654, 0.10984011739492416, 0.029521016404032707, 0.0940699577331543, 0.0, 0.0, 0.0, 0.0, 0.0, 0.0], [0.025880733504891396, 0.0032868769485503435, 0.009190613403916359, 0.002271317644044757, 0.04206257313489914, 0.0403556227684021, 0.01510707475244999, 0.0480133555829525, 0.0008096104138530791, 0.039064209908246994, 0.026566796004772186, 0.001520447782240808, 0.021220160648226738, 0.0009539546445012093, 0.007810373790562153, 0.03313516452908516, 0.00187924993224442, 0.010119680315256119, 0.06751003861427307, 0.12262912839651108, 0.0015832229983061552, 0.022168045863509178, 0.030785223469138145, 0.004318810533732176, 0.018729010596871376, 0.14477510750293732, 0.06957436352968216, 0.11388750374317169, 0.07182328402996063, 0.0029684787150472403, 0.0, 0.0, 0.0, 0.0, 0.0], [0.04612509533762932, 0.004929371643811464, 0.011905014514923096, 0.00593990832567215, 0.05086231976747513, 0.03915584459900856, 0.01170224230736494, 0.07777241617441177, 0.002722493140026927, 0.029330717399716377, 0.035436615347862244, 0.0025086572859436274, 0.01188324112445116, 0.0029638558626174927, 0.008878663182258606, 0.018936676904559135, 0.0028045889921486378, 0.004066928755491972, 0.06637167930603027, 0.16173601150512695, 0.004074742551892996, 0.017417900264263153, 0.04845814034342766, 0.005489852279424667, 0.014467376284301281, 0.08884269744157791, 0.057441387325525284, 0.04815755411982536, 0.09182099252939224, 0.0047510224394500256, 0.023045994341373444, 0.0, 0.0, 0.0, 0.0], [0.028616543859243393, 0.0035397156607359648, 0.012825747020542622, 0.0037311033811420202, 0.022132840007543564, 0.026339080184698105, 0.015483650378882885, 0.04692448303103447, 0.001677018473856151, 0.05343089997768402, 0.03818729147315025, 0.002529491437599063, 0.0276822317391634, 0.001944717951118946, 0.010427960194647312, 0.020306404680013657, 0.0030831166077405214, 0.008337561041116714, 0.061474453657865524, 0.05695469677448273, 0.0030909166671335697, 0.01978728547692299, 0.0377042293548584, 0.004031913820654154, 0.02077089250087738, 0.12126168608665466, 0.08733709156513214, 0.07036233693361282, 0.09933115541934967, 0.005798676051199436, 0.06381495296955109, 0.02107994630932808, 0.0, 0.0, 0.0], [0.022769227623939514, 0.0023638156708329916, 0.006953611969947815, 0.0009745152783580124, 0.033431291580200195, 0.030963126569986343, 0.012881080619990826, 0.0763968676328659, 0.0002621036837808788, 0.030449923127889633, 0.03674255684018135, 0.0005670604296028614, 0.014569040387868881, 0.00030553326359950006, 0.005948360078036785, 0.022492561489343643, 0.0007025572122074664, 0.004866450093686581, 0.060261838138103485, 0.15585903823375702, 0.0005001771496608853, 0.019988086074590683, 0.030868515372276306, 0.003128149313852191, 0.012151176109910011, 0.11994652450084686, 0.07597396522760391, 0.09628810733556747, 0.07584253698587418, 0.001064376556314528, 0.032713327556848526, 0.011111113242805004, 0.0006633003940805793, 0.0, 0.0], [0.06755810976028442, 0.003352795261889696, 0.008972209878265858, 0.0034025395289063454, 0.05607307702302933, 0.030404699966311455, 0.013628304935991764, 0.07952424883842468, 0.002588938921689987, 0.03472939133644104, 0.015315964818000793, 0.002527100034058094, 0.007685468532145023, 0.0026928253937512636, 0.007112994324415922, 0.02612845040857792, 0.0027733691968023777, 0.007069502957165241, 0.05076207220554352, 0.17593899369239807, 0.003935443703085184, 0.010542860254645348, 0.012697344645857811, 0.0028314420487731695, 0.004983492661267519, 0.05610369145870209, 0.10278661549091339, 0.07864399999380112, 0.06361378729343414, 0.0042906468734145164, 0.012449054978787899, 0.007846904918551445, 0.0035741631872951984, 0.03745952993631363, 0.0], [0.05889429152011871, 0.004834291525185108, 0.008816237561404705, 0.004917597863823175, 0.05724448710680008, 0.04719964787364006, 0.010384357534348965, 0.04373682662844658, 0.00325321638956666, 0.027000511065125465, 0.015385993756353855, 0.005444502457976341, 0.018304407596588135, 0.003610058221966028, 0.011856128461658955, 0.07255372405052185, 0.006018077488988638, 0.006411910522729158, 0.05586155131459236, 0.08374670892953873, 0.003973666112869978, 0.01859060488641262, 0.01944512315094471, 0.0038806763477623463, 0.008932646363973618, 0.12242711335420609, 0.04098629578948021, 0.074297696352005, 0.05774553865194321, 0.006318633910268545, 0.01308413129299879, 0.023065811023116112, 0.0057965237647295, 0.04094136133790016, 0.01503958459943533]], [[1.0, 0.0, 0.0, 0.0, 0.0, 0.0, 0.0, 0.0, 0.0, 0.0, 0.0, 0.0, 0.0, 0.0, 0.0, 0.0, 0.0, 0.0, 0.0, 0.0, 0.0, 0.0, 0.0, 0.0, 0.0, 0.0, 0.0, 0.0, 0.0, 0.0, 0.0, 0.0, 0.0, 0.0, 0.0], [0.9780336022377014, 0.021966353058815002, 0.0, 0.0, 0.0, 0.0, 0.0, 0.0, 0.0, 0.0, 0.0, 0.0, 0.0, 0.0, 0.0, 0.0, 0.0, 0.0, 0.0, 0.0, 0.0, 0.0, 0.0, 0.0, 0.0, 0.0, 0.0, 0.0, 0.0, 0.0, 0.0, 0.0, 0.0, 0.0, 0.0], [0.5068986415863037, 0.4279147684574127, 0.06518656760454178, 0.0, 0.0, 0.0, 0.0, 0.0, 0.0, 0.0, 0.0, 0.0, 0.0, 0.0, 0.0, 0.0, 0.0, 0.0, 0.0, 0.0, 0.0, 0.0, 0.0, 0.0, 0.0, 0.0, 0.0, 0.0, 0.0, 0.0, 0.0, 0.0, 0.0, 0.0, 0.0], [0.3459506332874298, 0.23385091125965118, 0.19138799607753754, 0.22881047427654266, 0.0, 0.0, 0.0, 0.0, 0.0, 0.0, 0.0, 0.0, 0.0, 0.0, 0.0, 0.0, 0.0, 0.0, 0.0, 0.0, 0.0, 0.0, 0.0, 0.0, 0.0, 0.0, 0.0, 0.0, 0.0, 0.0, 0.0, 0.0, 0.0, 0.0, 0.0], [0.27859699726104736, 0.1752573549747467, 0.11037097871303558, 0.2518095374107361, 0.18396519124507904, 0.0, 0.0, 0.0, 0.0, 0.0, 0.0, 0.0, 0.0, 0.0, 0.0, 0.0, 0.0, 0.0, 0.0, 0.0, 0.0, 0.0, 0.0, 0.0, 0.0, 0.0, 0.0, 0.0, 0.0, 0.0, 0.0, 0.0, 0.0, 0.0, 0.0], [0.2080419808626175, 0.08827146887779236, 0.06160813570022583, 0.25848424434661865, 0.2705698609352112, 0.11302437633275986, 0.0, 0.0, 0.0, 0.0, 0.0, 0.0, 0.0, 0.0, 0.0, 0.0, 0.0, 0.0, 0.0, 0.0, 0.0, 0.0, 0.0, 0.0, 0.0, 0.0, 0.0, 0.0, 0.0, 0.0, 0.0, 0.0, 0.0, 0.0, 0.0], [0.16325628757476807, 0.12141188234090805, 0.11990716308355331, 0.16166456043720245, 0.1077406108379364, 0.2975034713745117, 0.028515959158539772, 0.0, 0.0, 0.0, 0.0, 0.0, 0.0, 0.0, 0.0, 0.0, 0.0, 0.0, 0.0, 0.0, 0.0, 0.0, 0.0, 0.0, 0.0, 0.0, 0.0, 0.0, 0.0, 0.0, 0.0, 0.0, 0.0, 0.0, 0.0], [0.12280930578708649, 0.03978987783193588, 0.04514545574784279, 0.13578493893146515, 0.09269551932811737, 0.11808713525533676, 0.33698490262031555, 0.10870291292667389, 0.0, 0.0, 0.0, 0.0, 0.0, 0.0, 0.0, 0.0, 0.0, 0.0, 0.0, 0.0, 0.0, 0.0, 0.0, 0.0, 0.0, 0.0, 0.0, 0.0, 0.0, 0.0, 0.0, 0.0, 0.0, 0.0, 0.0], [0.0785447508096695, 0.0357038788497448, 0.029105370864272118, 0.052009038627147675, 0.10322193801403046, 0.06222518905997276, 0.06801242381334305, 0.17029160261154175, 0.40088585019111633, 0.0, 0.0, 0.0, 0.0, 0.0, 0.0, 0.0, 0.0, 0.0, 0.0, 0.0, 0.0, 0.0, 0.0, 0.0, 0.0, 0.0, 0.0, 0.0, 0.0, 0.0, 0.0, 0.0, 0.0, 0.0, 0.0], [0.0855533704161644, 0.04508213326334953, 0.020755305886268616, 0.05748791620135307, 0.058533694595098495, 0.03812536969780922, 0.031640294939279556, 0.14470817148685455, 0.3939673900604248, 0.12414635717868805, 0.0, 0.0, 0.0, 0.0, 0.0, 0.0, 0.0, 0.0, 0.0, 0.0, 0.0, 0.0, 0.0, 0.0, 0.0, 0.0, 0.0, 0.0, 0.0, 0.0, 0.0, 0.0, 0.0, 0.0, 0.0], [0.03400759398937225, 0.005801308434456587, 0.004264360759407282, 0.014554593712091446, 0.00205812556669116, 0.010052237659692764, 0.015462455339729786, 0.014919942244887352, 0.07456021010875702, 0.8029413819313049, 0.02137782610952854, 0.0, 0.0, 0.0, 0.0, 0.0, 0.0, 0.0, 0.0, 0.0, 0.0, 0.0, 0.0, 0.0, 0.0, 0.0, 0.0, 0.0, 0.0, 0.0, 0.0, 0.0, 0.0, 0.0, 0.0], [0.03658132627606392, 0.008552630431950092, 0.009085922501981258, 0.01071859709918499, 0.03151054307818413, 0.07786070555448532, 0.02809949591755867, 0.0520339161157608, 0.09175647050142288, 0.2498077154159546, 0.2238456904888153, 0.1801469326019287, 0.0, 0.0, 0.0, 0.0, 0.0, 0.0, 0.0, 0.0, 0.0, 0.0, 0.0, 0.0, 0.0, 0.0, 0.0, 0.0, 0.0, 0.0, 0.0, 0.0, 0.0, 0.0, 0.0], [0.03899507597088814, 0.013953066430985928, 0.027150407433509827, 0.015978628769516945, 0.006068872287869453, 0.015332908369600773, 0.007358452305197716, 0.008143587969243526, 0.0923609584569931, 0.09582366049289703, 0.3970896601676941, 0.22508275508880615, 0.05666198953986168, 0.0, 0.0, 0.0, 0.0, 0.0, 0.0, 0.0, 0.0, 0.0, 0.0, 0.0, 0.0, 0.0, 0.0, 0.0, 0.0, 0.0, 0.0, 0.0, 0.0, 0.0, 0.0], [0.02941763773560524, 0.006853983737528324, 0.005433526821434498, 0.008306881412863731, 0.01573827490210533, 0.008708905428647995, 0.008349094539880753, 0.0239200908690691, 0.046946823596954346, 0.048145003616809845, 0.09309989959001541, 0.15290865302085876, 0.14854171872138977, 0.40362951159477234, 0.0, 0.0, 0.0, 0.0, 0.0, 0.0, 0.0, 0.0, 0.0, 0.0, 0.0, 0.0, 0.0, 0.0, 0.0, 0.0, 0.0, 0.0, 0.0, 0.0, 0.0], [0.03712828457355499, 0.007584466133266687, 0.003545148530974984, 0.008117973804473877, 0.018834181129932404, 0.005904978606849909, 0.009632598608732224, 0.011076648719608784, 0.04249942675232887, 0.015083977952599525, 0.019843481481075287, 0.11177282780408859, 0.1281687468290329, 0.3331785500049591, 0.24762867391109467, 0.0, 0.0, 0.0, 0.0, 0.0, 0.0, 0.0, 0.0, 0.0, 0.0, 0.0, 0.0, 0.0, 0.0, 0.0, 0.0, 0.0, 0.0, 0.0, 0.0], [0.02479151450097561, 0.0022572409361600876, 0.0019112309673801064, 0.0031496479641646147, 0.0017746685771271586, 0.0030808602459728718, 0.019880734384059906, 0.00642710505053401, 0.015317474491894245, 0.00322660687379539, 0.020296065136790276, 0.05772733688354492, 0.02255525439977646, 0.08885950595140457, 0.7141122221946716, 0.0146324522793293, 0.0, 0.0, 0.0, 0.0, 0.0, 0.0, 0.0, 0.0, 0.0, 0.0, 0.0, 0.0, 0.0, 0.0, 0.0, 0.0, 0.0, 0.0, 0.0], [0.019352808594703674, 0.0027357195504009724, 0.002700644079595804, 0.0028163976967334747, 0.0073006125167012215, 0.016268692910671234, 0.005134697537869215, 0.010258642956614494, 0.013791472651064396, 0.03380440175533295, 0.03394481539726257, 0.024110421538352966, 0.05347483232617378, 0.09691004455089569, 0.2761884331703186, 0.22190368175506592, 0.17930370569229126, 0.0, 0.0, 0.0, 0.0, 0.0, 0.0, 0.0, 0.0, 0.0, 0.0, 0.0, 0.0, 0.0, 0.0, 0.0, 0.0, 0.0, 0.0], [0.016778312623500824, 0.001383666298352182, 0.001250443747267127, 0.001953263534232974, 0.001228310982696712, 0.00342705100774765, 0.001771017792634666, 0.0025876881554722786, 0.00995651911944151, 0.007537416648119688, 0.00496312789618969, 0.023668862879276276, 0.017456652596592903, 0.06967747956514359, 0.26127660274505615, 0.24082422256469727, 0.17677927017211914, 0.15748007595539093, 0.0, 0.0, 0.0, 0.0, 0.0, 0.0, 0.0, 0.0, 0.0, 0.0, 0.0, 0.0, 0.0, 0.0, 0.0, 0.0, 0.0], [0.05475040525197983, 0.00920194759964943, 0.003783303080126643, 0.0068918755277991295, 0.007006871979683638, 0.005267783999443054, 0.0019135891925543547, 0.00664900615811348, 0.022490745410323143, 0.007203688845038414, 0.03985986486077309, 0.02630697377026081, 0.035983890295028687, 0.10654609650373459, 0.14742788672447205, 0.029531938955187798, 0.14834164083003998, 0.23425281047821045, 0.106589674949646, 0.0, 0.0, 0.0, 0.0, 0.0, 0.0, 0.0, 0.0, 0.0, 0.0, 0.0, 0.0, 0.0, 0.0, 0.0, 0.0], [0.08004876971244812, 0.003562747035175562, 0.0033941459842026234, 0.011285564862191677, 0.012208588421344757, 0.0019434955902397633, 0.00392082380130887, 0.024116627871990204, 0.02334994077682495, 0.00897588487714529, 0.005343954544514418, 0.02533605508506298, 0.013870188035070896, 0.1010364219546318, 0.039738137274980545, 0.08061376214027405, 0.12086472660303116, 0.12294689565896988, 0.14132510125637054, 0.17611820995807648, 0.0, 0.0, 0.0, 0.0, 0.0, 0.0, 0.0, 0.0, 0.0, 0.0, 0.0, 0.0, 0.0, 0.0, 0.0], [0.01305334735661745, 0.001979565480723977, 0.001618212554603815, 0.001407851348631084, 0.0014868243597447872, 0.0013099174248054624, 0.001664295676164329, 0.0025665166322141886, 0.0030626708175987005, 0.010340578854084015, 0.007755249738693237, 0.008929417468607426, 0.008869536221027374, 0.017165128141641617, 0.07265795022249222, 0.08664462715387344, 0.06223948672413826, 0.16528473794460297, 0.07255076617002487, 0.09155550599098206, 0.36785784363746643, 0.0, 0.0, 0.0, 0.0, 0.0, 0.0, 0.0, 0.0, 0.0, 0.0, 0.0, 0.0, 0.0, 0.0], [0.012316012755036354, 0.001159236067906022, 0.0007622397388331592, 0.0019507486140355468, 0.001271850080229342, 0.0006892287638038397, 0.000545898568816483, 0.002603000495582819, 0.003917665220797062, 0.0005409364239312708, 0.0012741920072585344, 0.006503168027848005, 0.005551593378186226, 0.017973443493247032, 0.01335332915186882, 0.038051266223192215, 0.043033991008996964, 0.03958657383918762, 0.02230067551136017, 0.03898359835147858, 0.5949541330337524, 0.15267717838287354, 0.0, 0.0, 0.0, 0.0, 0.0, 0.0, 0.0, 0.0, 0.0, 0.0, 0.0, 0.0, 0.0], [0.01372496597468853, 0.0016125747933983803, 0.00032898702193051577, 0.001008430845104158, 0.0011758030159398913, 0.0007259271806105971, 0.0005918751703575253, 0.0009615597664378583, 0.003118619555607438, 0.005970002617686987, 0.003033464075997472, 0.003344501368701458, 0.00840755458921194, 0.013658504001796246, 0.00560703594237566, 0.005321712698787451, 0.01928994245827198, 0.029109658673405647, 0.013599611818790436, 0.03133777529001236, 0.25137224793434143, 0.5305224061012268, 0.05617683380842209, 0.0, 0.0, 0.0, 0.0, 0.0, 0.0, 0.0, 0.0, 0.0, 0.0, 0.0, 0.0], [0.016002383083105087, 0.0009560451726429164, 0.0005680457106791437, 0.0015549728414043784, 0.0015755756758153439, 0.0006219734204933047, 0.001125766197219491, 0.001436872873455286, 0.002310047624632716, 0.000902830739505589, 0.0013921456411480904, 0.003672593040391803, 0.00363228190690279, 0.009217402897775173, 0.008623874746263027, 0.027025729417800903, 0.02137644961476326, 0.03330115228891373, 0.03885404393076897, 0.03905843198299408, 0.2659662961959839, 0.1937260925769806, 0.09792892634868622, 0.22917011380195618, 0.0, 0.0, 0.0, 0.0, 0.0, 0.0, 0.0, 0.0, 0.0, 0.0, 0.0], [0.009987291879951954, 0.0009651760919950902, 0.0006041582673788071, 0.000922212318982929, 0.0008805814431980252, 0.0005974328960292041, 0.00021149215172044933, 0.0006455682450905442, 0.0012417696416378021, 0.0006859688437543809, 0.0007031495333649218, 0.0014577429974451661, 0.0018487710040062666, 0.005077196750789881, 0.0019275661325082183, 0.012413411401212215, 0.008568297140300274, 0.01207367517054081, 0.021936649456620216, 0.02919413335621357, 0.1427275389432907, 0.09834042936563492, 0.11847679316997528, 0.3163195848464966, 0.21219347417354584, 0.0, 0.0, 0.0, 0.0, 0.0, 0.0, 0.0, 0.0, 0.0, 0.0], [0.016860898584127426, 0.0019703239668160677, 0.0008858360815793276, 0.0017656378913670778, 0.0023928345181047916, 0.000527116353623569, 0.00036178971640765667, 0.0006361050764098763, 0.0022411320824176073, 0.0008515850640833378, 0.00038157880771905184, 0.0022748277988284826, 0.0018798470264300704, 0.007292231544852257, 0.002146674320101738, 0.00252630771137774, 0.010355670936405659, 0.011969315819442272, 0.0065909200347959995, 0.012827486731112003, 0.12130479514598846, 0.0662463903427124, 0.1461239457130432, 0.2828073501586914, 0.24703314900398254, 0.04974622651934624, 0.0, 0.0, 0.0, 0.0, 0.0, 0.0, 0.0, 0.0, 0.0], [0.026405030861496925, 0.001423101988621056, 0.0016234443755820394, 0.0025764061138033867, 0.002689703367650509, 0.001225752173922956, 0.0010898770997300744, 0.0009538469021208584, 0.0019223543349653482, 0.0024115245323628187, 0.00245794584043324, 0.0014354197774082422, 0.0053784954361617565, 0.004732346627861261, 0.001939117442816496, 0.00795750878751278, 0.006086887791752815, 0.012657460756599903, 0.011602519080042839, 0.029096631333231926, 0.08598871529102325, 0.07665890455245972, 0.036240104585886, 0.13133352994918823, 0.19490276277065277, 0.21766330301761627, 0.13154728710651398, 0.0, 0.0, 0.0, 0.0, 0.0, 0.0, 0.0, 0.0], [0.023896105587482452, 0.002067499328404665, 0.0025093790609389544, 0.0018511984962970018, 0.0031609665602445602, 0.000900563201867044, 0.0002685424406081438, 0.0005213555996306241, 0.0017872113967314363, 0.0019308979390189052, 0.001015822752378881, 0.001044267206452787, 0.001567704719491303, 0.00406009703874588, 0.0008207388455048203, 0.0033583047334104776, 0.004117120523005724, 0.007223017979413271, 0.014547297731041908, 0.046351585537195206, 0.056018680334091187, 0.038400180637836456, 0.0416099838912487, 0.10494545102119446, 0.1578821837902069, 0.12118803709745407, 0.19090259075164795, 0.16605320572853088, 0.0, 0.0, 0.0, 0.0, 0.0, 0.0, 0.0], [0.04075776785612106, 0.0039583612233400345, 0.005698092747479677, 0.003957983572036028, 0.001404780661687255, 0.0003276950737927109, 0.0006401930586434901, 0.0012045821640640497, 0.002238560700789094, 0.0007448499673046172, 0.003836574964225292, 0.0016206810250878334, 0.0010148300789296627, 0.004261188209056854, 0.0009652937296777964, 0.0003954325511585921, 0.005401064176112413, 0.007263398263603449, 0.005766804795712233, 0.029991835355758667, 0.041736528277397156, 0.017527632415294647, 0.02515506185591221, 0.07565268129110336, 0.24542637169361115, 0.06668494641780853, 0.26483187079429626, 0.05502413958311081, 0.0865108072757721, 0.0, 0.0, 0.0, 0.0, 0.0, 0.0], [0.011784806847572327, 0.0013947549741715193, 0.0009515666170045733, 0.0008953211363404989, 0.0010372711112722754, 0.0004972644965164363, 0.0002528386248741299, 0.00043175695464015007, 0.0005345696117728949, 0.00028229219606146216, 0.00042747301631607115, 0.0005479573737829924, 0.0008038743399083614, 0.0011037482181563973, 0.0010882873320952058, 0.0026353762950748205, 0.0020033165346831083, 0.00293945474550128, 0.0051142070442438126, 0.009162322618067265, 0.020236428827047348, 0.014397253282368183, 0.014386615715920925, 0.05287308990955353, 0.04425812512636185, 0.07174720615148544, 0.08077162504196167, 0.11779721826314926, 0.1448613554239273, 0.3947826325893402, 0.0, 0.0, 0.0, 0.0, 0.0], [0.01299286913126707, 0.0016676143277436495, 0.001002107048407197, 0.0011761235073208809, 0.0007638342794962227, 0.0004005831142421812, 0.0001284923346247524, 0.00010518699855310842, 0.0005606432678177953, 0.0001407938834745437, 0.0001220753911184147, 0.00039859884418547153, 0.00022988310956861824, 0.0011077809613198042, 0.000363102531991899, 0.0008891805191524327, 0.0014402465894818306, 0.0014520215336233377, 0.0026305706705898046, 0.0031673808116465807, 0.017224662005901337, 0.010722349397838116, 0.005023001227527857, 0.04577845335006714, 0.04751961678266525, 0.027067121118307114, 0.0521685928106308, 0.055007901042699814, 0.11481025815010071, 0.4456881284713745, 0.14825084805488586, 0.0, 0.0, 0.0, 0.0], [0.011720018461346626, 0.0009638672927394509, 0.001679277396760881, 0.0009598797187209129, 0.0011835333425551653, 0.0003587345709092915, 0.00013125187251716852, 0.00020985875744372606, 0.0003518580924719572, 0.00011673849076032639, 0.0003326718579046428, 0.0002089979243464768, 0.00016304054588545114, 0.0005591597291640937, 0.0001787788642104715, 0.000584753870498389, 0.000652042159345001, 0.0008100893464870751, 0.0008232027175836265, 0.006545140873640776, 0.007790674921125174, 0.0066225118935108185, 0.005052977241575718, 0.014489828608930111, 0.024942070245742798, 0.01901031844317913, 0.028525501489639282, 0.03678767755627632, 0.14266961812973022, 0.2348988950252533, 0.3008541464805603, 0.1498228758573532, 0.0, 0.0, 0.0], [0.011463286355137825, 0.0009014828829094768, 0.0005477456143125892, 0.000586987123824656, 0.000561662542168051, 0.00023434824834112078, 0.00013944694364909083, 0.0001992680918192491, 0.0003140307089779526, 0.00012514650006778538, 0.00021479524730239064, 0.00024813509662635624, 0.00022906150843482465, 0.0005020767566747963, 0.00045190160744823515, 0.00066767493262887, 0.0007638595416210592, 0.0009467174531891942, 0.0010094366734847426, 0.003719576634466648, 0.007444893009960651, 0.004500559531152248, 0.001834435504861176, 0.01297362707555294, 0.015522491186857224, 0.02183827944099903, 0.01622897945344448, 0.02469744347035885, 0.03805327042937279, 0.1630234718322754, 0.11826049536466599, 0.22884777188301086, 0.3229476809501648, 0.0, 0.0], [0.009539728984236717, 0.0014243285404518247, 0.0009944591438397765, 0.0009655585163272917, 0.0007854435825720429, 0.00030160672031342983, 0.000111595873022452, 0.0008093698997981846, 0.0004005463852081448, 8.517078822478652e-05, 0.0006307563744485378, 0.00020861582015641034, 0.0002525561721995473, 0.000545184244401753, 0.00024275561736430973, 0.0005828310386277735, 0.0005503932479768991, 0.0010548584396019578, 0.0010979142971336842, 0.0040335445664823055, 0.00515154842287302, 0.007251262199133635, 0.003988184034824371, 0.01226038672029972, 0.013561559841036797, 0.03828655555844307, 0.06675272434949875, 0.013111514039337635, 0.1009327694773674, 0.13179118931293488, 0.05432312190532684, 0.1525149792432785, 0.30832439661026, 0.06713257730007172, 0.0], [0.009234578348696232, 0.0018696906045079231, 0.0015434946399182081, 0.0012878916459158063, 0.0009349429747089744, 0.0002825606206897646, 0.0004494272288866341, 0.000559499952942133, 0.00032776824082247913, 7.203821587609127e-05, 0.00010657906386768445, 0.0002636242425069213, 0.00036547271884046495, 0.0003748314338736236, 0.00031175362528301775, 0.0008969137561507523, 0.0006347454618662596, 0.0008650042000226676, 0.0008020048262551427, 0.0006307898438535631, 0.0032187786418944597, 0.003845836268737912, 0.0030004349537193775, 0.007814173586666584, 0.010107208043336868, 0.016721565276384354, 0.0076720938086509705, 0.010031212121248245, 0.005356393288820982, 0.07757061719894409, 0.03774447739124298, 0.1380911022424698, 0.19567598402500153, 0.03074357844889164, 0.43059292435646057]], [[1.0, 0.0, 0.0, 0.0, 0.0, 0.0, 0.0, 0.0, 0.0, 0.0, 0.0, 0.0, 0.0, 0.0, 0.0, 0.0, 0.0, 0.0, 0.0, 0.0, 0.0, 0.0, 0.0, 0.0, 0.0, 0.0, 0.0, 0.0, 0.0, 0.0, 0.0, 0.0, 0.0, 0.0, 0.0], [0.8970723748207092, 0.10292765498161316, 0.0, 0.0, 0.0, 0.0, 0.0, 0.0, 0.0, 0.0, 0.0, 0.0, 0.0, 0.0, 0.0, 0.0, 0.0, 0.0, 0.0, 0.0, 0.0, 0.0, 0.0, 0.0, 0.0, 0.0, 0.0, 0.0, 0.0, 0.0, 0.0, 0.0, 0.0, 0.0, 0.0], [0.7731762528419495, 0.17108598351478577, 0.05573774501681328, 0.0, 0.0, 0.0, 0.0, 0.0, 0.0, 0.0, 0.0, 0.0, 0.0, 0.0, 0.0, 0.0, 0.0, 0.0, 0.0, 0.0, 0.0, 0.0, 0.0, 0.0, 0.0, 0.0, 0.0, 0.0, 0.0, 0.0, 0.0, 0.0, 0.0, 0.0, 0.0], [0.2190985530614853, 0.09592849016189575, 0.1539975255727768, 0.5309754014015198, 0.0, 0.0, 0.0, 0.0, 0.0, 0.0, 0.0, 0.0, 0.0, 0.0, 0.0, 0.0, 0.0, 0.0, 0.0, 0.0, 0.0, 0.0, 0.0, 0.0, 0.0, 0.0, 0.0, 0.0, 0.0, 0.0, 0.0, 0.0, 0.0, 0.0, 0.0], [0.4932918846607208, 0.12421075254678726, 0.08378949761390686, 0.2104450762271881, 0.08826275169849396, 0.0, 0.0, 0.0, 0.0, 0.0, 0.0, 0.0, 0.0, 0.0, 0.0, 0.0, 0.0, 0.0, 0.0, 0.0, 0.0, 0.0, 0.0, 0.0, 0.0, 0.0, 0.0, 0.0, 0.0, 0.0, 0.0, 0.0, 0.0, 0.0, 0.0], [0.4792534112930298, 0.1148393452167511, 0.058252837508916855, 0.12140918523073196, 0.19296902418136597, 0.0332762710750103, 0.0, 0.0, 0.0, 0.0, 0.0, 0.0, 0.0, 0.0, 0.0, 0.0, 0.0, 0.0, 0.0, 0.0, 0.0, 0.0, 0.0, 0.0, 0.0, 0.0, 0.0, 0.0, 0.0, 0.0, 0.0, 0.0, 0.0, 0.0, 0.0], [0.33760708570480347, 0.13038288056850433, 0.12365777045488358, 0.168483167886734, 0.0394856221973896, 0.15522728860378265, 0.04515616223216057, 0.0, 0.0, 0.0, 0.0, 0.0, 0.0, 0.0, 0.0, 0.0, 0.0, 0.0, 0.0, 0.0, 0.0, 0.0, 0.0, 0.0, 0.0, 0.0, 0.0, 0.0, 0.0, 0.0, 0.0, 0.0, 0.0, 0.0, 0.0], [0.3124315142631531, 0.1033550426363945, 0.07322119921445847, 0.13077442348003387, 0.08650773763656616, 0.20371738076210022, 0.04714134708046913, 0.042851343750953674, 0.0, 0.0, 0.0, 0.0, 0.0, 0.0, 0.0, 0.0, 0.0, 0.0, 0.0, 0.0, 0.0, 0.0, 0.0, 0.0, 0.0, 0.0, 0.0, 0.0, 0.0, 0.0, 0.0, 0.0, 0.0, 0.0, 0.0], [0.1071995347738266, 0.03256477043032646, 0.0461539626121521, 0.12522773444652557, 0.011105240322649479, 0.03433004021644592, 0.007858376018702984, 0.011366572231054306, 0.6241937279701233, 0.0, 0.0, 0.0, 0.0, 0.0, 0.0, 0.0, 0.0, 0.0, 0.0, 0.0, 0.0, 0.0, 0.0, 0.0, 0.0, 0.0, 0.0, 0.0, 0.0, 0.0, 0.0, 0.0, 0.0, 0.0, 0.0], [0.3028891086578369, 0.0780496895313263, 0.059376463294029236, 0.09426911175251007, 0.17377151548862457, 0.038616277277469635, 0.04802525043487549, 0.039512548595666885, 0.13237623870372772, 0.033113785088062286, 0.0, 0.0, 0.0, 0.0, 0.0, 0.0, 0.0, 0.0, 0.0, 0.0, 0.0, 0.0, 0.0, 0.0, 0.0, 0.0, 0.0, 0.0, 0.0, 0.0, 0.0, 0.0, 0.0, 0.0, 0.0], [0.13027673959732056, 0.04213488847017288, 0.0725821703672409, 0.10922864079475403, 0.03630436956882477, 0.1911257654428482, 0.03369799628853798, 0.057158611714839935, 0.11187221109867096, 0.1641412228345871, 0.05147743970155716, 0.0, 0.0, 0.0, 0.0, 0.0, 0.0, 0.0, 0.0, 0.0, 0.0, 0.0, 0.0, 0.0, 0.0, 0.0, 0.0, 0.0, 0.0, 0.0, 0.0, 0.0, 0.0, 0.0, 0.0], [0.09464415162801743, 0.02925346978008747, 0.03811940178275108, 0.14989575743675232, 0.020670875906944275, 0.07631716132164001, 0.008947468362748623, 0.020045075565576553, 0.3057856261730194, 0.0475209541618824, 0.010440821759402752, 0.19835920631885529, 0.0, 0.0, 0.0, 0.0, 0.0, 0.0, 0.0, 0.0, 0.0, 0.0, 0.0, 0.0, 0.0, 0.0, 0.0, 0.0, 0.0, 0.0, 0.0, 0.0, 0.0, 0.0, 0.0], [0.1444079577922821, 0.06329526752233505, 0.07617760449647903, 0.07194556295871735, 0.03394104912877083, 0.08442073315382004, 0.03594021499156952, 0.07685541361570358, 0.1158827394247055, 0.05951954424381256, 0.061834972351789474, 0.14841710031032562, 0.027361808344721794, 0.0, 0.0, 0.0, 0.0, 0.0, 0.0, 0.0, 0.0, 0.0, 0.0, 0.0, 0.0, 0.0, 0.0, 0.0, 0.0, 0.0, 0.0, 0.0, 0.0, 0.0, 0.0], [0.04147873446345329, 0.011494415812194347, 0.017643528059124947, 0.0459972508251667, 0.00408500712364912, 0.01370110735297203, 0.0028709014877676964, 0.004510778933763504, 0.24164846539497375, 0.00972951203584671, 0.0026167305186390877, 0.26417702436447144, 0.00805376935750246, 0.33199283480644226, 0.0, 0.0, 0.0, 0.0, 0.0, 0.0, 0.0, 0.0, 0.0, 0.0, 0.0, 0.0, 0.0, 0.0, 0.0, 0.0, 0.0, 0.0, 0.0, 0.0, 0.0], [0.15155857801437378, 0.037725046277046204, 0.027330636978149414, 0.06052473559975624, 0.03014327958226204, 0.028034863993525505, 0.013341406360268593, 0.022503022104501724, 0.11653431504964828, 0.05189971998333931, 0.010558652691543102, 0.10229873657226562, 0.015167277306318283, 0.141373872756958, 0.19100579619407654, 0.0, 0.0, 0.0, 0.0, 0.0, 0.0, 0.0, 0.0, 0.0, 0.0, 0.0, 0.0, 0.0, 0.0, 0.0, 0.0, 0.0, 0.0, 0.0, 0.0], [0.2839045226573944, 0.0650239884853363, 0.03238335996866226, 0.029591120779514313, 0.042432039976119995, 0.028469771146774292, 0.041533127427101135, 0.0846531018614769, 0.04385499283671379, 0.027530396357178688, 0.092181496322155, 0.03751113638281822, 0.048919063061475754, 0.04984966665506363, 0.0791383907198906, 0.01302381232380867, 0.0, 0.0, 0.0, 0.0, 0.0, 0.0, 0.0, 0.0, 0.0, 0.0, 0.0, 0.0, 0.0, 0.0, 0.0, 0.0, 0.0, 0.0, 0.0], [0.048857592046260834, 0.014007377438247204, 0.01954261027276516, 0.07337554544210434, 0.010089145973324776, 0.03972572460770607, 0.004310054238885641, 0.010590332560241222, 0.15303604304790497, 0.02649904601275921, 0.005417251959443092, 0.09647627174854279, 0.012806721962988377, 0.2047865390777588, 0.14743393659591675, 0.009689186699688435, 0.12335662543773651, 0.0, 0.0, 0.0, 0.0, 0.0, 0.0, 0.0, 0.0, 0.0, 0.0, 0.0, 0.0, 0.0, 0.0, 0.0, 0.0, 0.0, 0.0], [0.05943121388554573, 0.025951191782951355, 0.03547388315200806, 0.03907974064350128, 0.018049320206046104, 0.02308724820613861, 0.010503755882382393, 0.030069556087255478, 0.09918280690908432, 0.036144088953733444, 0.01841004379093647, 0.11741489917039871, 0.017167575657367706, 0.12769994139671326, 0.08459020406007767, 0.03790273517370224, 0.1457722932100296, 0.07406952232122421, 0.0, 0.0, 0.0, 0.0, 0.0, 0.0, 0.0, 0.0, 0.0, 0.0, 0.0, 0.0, 0.0, 0.0, 0.0, 0.0, 0.0], [0.2724890410900116, 0.045022737234830856, 0.046122338622808456, 0.04205198585987091, 0.03813562169671059, 0.05454430356621742, 0.02570655196905136, 0.019254161044955254, 0.04536456987261772, 0.05106879770755768, 0.02147936448454857, 0.05142934247851372, 0.03568306937813759, 0.05110248550772667, 0.042210206389427185, 0.03813280910253525, 0.05789821594953537, 0.023540087044239044, 0.03876427561044693, 0.0, 0.0, 0.0, 0.0, 0.0, 0.0, 0.0, 0.0, 0.0, 0.0, 0.0, 0.0, 0.0, 0.0, 0.0, 0.0], [0.2398124784231186, 0.03723885491490364, 0.046413250267505646, 0.01807478256523609, 0.028609465807676315, 0.0315636582672596, 0.023263653740286827, 0.05314115807414055, 0.03672982379794121, 0.04436159506440163, 0.014089992269873619, 0.040796536952257156, 0.013384046033024788, 0.04018273949623108, 0.025124991312623024, 0.022283196449279785, 0.044574398547410965, 0.026357250288128853, 0.018502116203308105, 0.1954961121082306, 0.0, 0.0, 0.0, 0.0, 0.0, 0.0, 0.0, 0.0, 0.0, 0.0, 0.0, 0.0, 0.0, 0.0, 0.0], [0.034472569823265076, 0.007049787789583206, 0.008516231551766396, 0.019823286682367325, 0.0020061933901160955, 0.008738494478166103, 0.0013805312337353826, 0.002584988484159112, 0.129638671875, 0.0049805170856416225, 0.0014542952412739396, 0.09793516248464584, 0.004242660943418741, 0.1747492551803589, 0.020575344562530518, 0.0029217321425676346, 0.12519218027591705, 0.01766674593091011, 0.008172444067895412, 0.006463976111263037, 0.32143500447273254, 0.0, 0.0, 0.0, 0.0, 0.0, 0.0, 0.0, 0.0, 0.0, 0.0, 0.0, 0.0, 0.0, 0.0], [0.07532121986150742, 0.01738511212170124, 0.02649960294365883, 0.038201138377189636, 0.013464294373989105, 0.017004944384098053, 0.005682718008756638, 0.00816139206290245, 0.0879102498292923, 0.0156520027667284, 0.004622374661266804, 0.06870011985301971, 0.017068399116396904, 0.11098408699035645, 0.08843357861042023, 0.015540488064289093, 0.08290651440620422, 0.034457094967365265, 0.034902893006801605, 0.02266904152929783, 0.1672758311033249, 0.04715689644217491, 0.0, 0.0, 0.0, 0.0, 0.0, 0.0, 0.0, 0.0, 0.0, 0.0, 0.0, 0.0, 0.0], [0.11039690673351288, 0.017618602141737938, 0.012073224410414696, 0.07903023809194565, 0.04707181826233864, 0.02839348278939724, 0.010853301733732224, 0.038982950150966644, 0.04254178702831268, 0.053135763853788376, 0.010616571642458439, 0.04066744074225426, 0.016578691080212593, 0.05044255405664444, 0.04148310422897339, 0.011694182641804218, 0.0489438995718956, 0.04587531462311745, 0.06803461164236069, 0.03145820274949074, 0.0737365111708641, 0.09332355856895447, 0.0270472913980484, 0.0, 0.0, 0.0, 0.0, 0.0, 0.0, 0.0, 0.0, 0.0, 0.0, 0.0, 0.0], [0.05010592192411423, 0.01140363235026598, 0.0189799927175045, 0.04829109460115433, 0.005478164181113243, 0.0279381163418293, 0.003475341945886612, 0.009667657315731049, 0.08883962035179138, 0.021459786221385002, 0.009184247814118862, 0.06738956272602081, 0.006293781567364931, 0.11730515956878662, 0.055593859404325485, 0.023259559646248817, 0.08538822829723358, 0.030172348022460938, 0.01855376921594143, 0.04972721263766289, 0.1386995017528534, 0.03593090921640396, 0.02957058511674404, 0.047291938215494156, 0.0, 0.0, 0.0, 0.0, 0.0, 0.0, 0.0, 0.0, 0.0, 0.0, 0.0], [0.033650629222393036, 0.039734337478876114, 0.013943261466920376, 0.022155016660690308, 0.0073741041123867035, 0.01253434456884861, 0.003937930334359407, 0.0055880374275147915, 0.052764151245355606, 0.011353470385074615, 0.0029761549085378647, 0.06122000515460968, 0.007114533334970474, 0.06609287858009338, 0.018457183614373207, 0.0047071841545403, 0.07780604809522629, 0.01593407243490219, 0.016269711777567863, 0.02733292616903782, 0.08945076912641525, 0.028283212333917618, 0.01342835184186697, 0.24125002324581146, 0.126641646027565, 0.0, 0.0, 0.0, 0.0, 0.0, 0.0, 0.0, 0.0, 0.0, 0.0], [0.10162997245788574, 0.04817342758178711, 0.022741513326764107, 0.017647163942456245, 0.0163576677441597, 0.014718180522322655, 0.020238902419805527, 0.030098313465714455, 0.03836439922451973, 0.025297483429312706, 0.03959348052740097, 0.04179810360074043, 0.01849496364593506, 0.04345666617155075, 0.023876937106251717, 0.013411913998425007, 0.048047516494989395, 0.021995291113853455, 0.030744755640625954, 0.05168471485376358, 0.05786481499671936, 0.04216013103723526, 0.05038999021053314, 0.08024898171424866, 0.07608183473348618, 0.02488282509148121, 0.0, 0.0, 0.0, 0.0, 0.0, 0.0, 0.0, 0.0, 0.0], [0.06603526324033737, 0.020660126581788063, 0.021681692451238632, 0.03408763185143471, 0.015279392711818218, 0.018441999331116676, 0.010789579711854458, 0.055958379060029984, 0.03565486520528793, 0.021738862618803978, 0.025664949789643288, 0.03946555033326149, 0.019091874361038208, 0.042604975402355194, 0.045140340924263, 0.012913602404296398, 0.0473557710647583, 0.025561848655343056, 0.03524414077401161, 0.09746365249156952, 0.05611313506960869, 0.03593847155570984, 0.032566990703344345, 0.043019868433475494, 0.046976782381534576, 0.0324612632393837, 0.06208905577659607, 0.0, 0.0, 0.0, 0.0, 0.0, 0.0, 0.0, 0.0], [0.10541094839572906, 0.016973106190562248, 0.020341014489531517, 0.03266654163599014, 0.021851152181625366, 0.031789932399988174, 0.005571206100285053, 0.02419452741742134, 0.01674046367406845, 0.016082553192973137, 0.013484924100339413, 0.022790374234318733, 0.020844895392656326, 0.019816437736153603, 0.007411999627947807, 0.013035082258284092, 0.02698248066008091, 0.010132263414561749, 0.017667707055807114, 0.2972625195980072, 0.023457154631614685, 0.03235582634806633, 0.03224533796310425, 0.019980117678642273, 0.05017191916704178, 0.04827892407774925, 0.03308819606900215, 0.01937240920960903, 0.0, 0.0, 0.0, 0.0, 0.0, 0.0, 0.0], [0.11478215456008911, 0.02845187485218048, 0.030158085748553276, 0.029890716075897217, 0.015577714890241623, 0.045236289501190186, 0.008156668394804, 0.04677767679095268, 0.020574571564793587, 0.01808919943869114, 0.016638444736599922, 0.024351520463824272, 0.014281022362411022, 0.02287057414650917, 0.02455843798816204, 0.021522242575883865, 0.027740133926272392, 0.012263166718184948, 0.016789687797427177, 0.03060177154839039, 0.033104464411735535, 0.04230617731809616, 0.050134140998125076, 0.039895668625831604, 0.025471439585089684, 0.038356516510248184, 0.14836573600769043, 0.04062194749712944, 0.012431962415575981, 0.0, 0.0, 0.0, 0.0, 0.0, 0.0], [0.01040296908468008, 0.00398831395432353, 0.0075365533120930195, 0.023714063689112663, 0.001574699766933918, 0.004556500352919102, 0.001146144699305296, 0.002020655432716012, 0.08388333767652512, 0.006093548145145178, 0.0012243639212101698, 0.08011976629495621, 0.003282931400462985, 0.11485147476196289, 0.020138543099164963, 0.003874026006087661, 0.1035565510392189, 0.016239915043115616, 0.006219516042619944, 0.011158786714076996, 0.12897229194641113, 0.01691608875989914, 0.00881306640803814, 0.028795937076210976, 0.06059351935982704, 0.005618594121187925, 0.01689356006681919, 0.008791649714112282, 0.017022373154759407, 0.202000230550766, 0.0, 0.0, 0.0, 0.0, 0.0], [0.05472033470869064, 0.015954438596963882, 0.012098251841962337, 0.022833751514554024, 0.018985208123922348, 0.02878390997648239, 0.008076777681708336, 0.008372066542506218, 0.03956406190991402, 0.01231532171368599, 0.009588333778083324, 0.023571278899908066, 0.010643111541867256, 0.04663844034075737, 0.014515895396471024, 0.01239460613578558, 0.02759735658764839, 0.021691445261240005, 0.02018054760992527, 0.018239213153719902, 0.05496654286980629, 0.0371178574860096, 0.0242450088262558, 0.03499603644013405, 0.1494767814874649, 0.029019517824053764, 0.04327645152807236, 0.01586644910275936, 0.0451153889298439, 0.11428382247686386, 0.024871759116649628, 0.0, 0.0, 0.0, 0.0], [0.02826632373034954, 0.008342590183019638, 0.009693155065178871, 0.024003304541110992, 0.012406982481479645, 0.009731614030897617, 0.0072547756135463715, 0.011378857307136059, 0.0452534481883049, 0.014661096967756748, 0.004759801551699638, 0.032793063670396805, 0.009599771350622177, 0.056626737117767334, 0.023795731365680695, 0.0046141017228364944, 0.03982144594192505, 0.021239010617136955, 0.025286560878157616, 0.10159792751073837, 0.09278307855129242, 0.026123875752091408, 0.015091446228325367, 0.03458564728498459, 0.06182193011045456, 0.013406994752585888, 0.016889791935682297, 0.03089354746043682, 0.028194870799779892, 0.1103137657046318, 0.040569551289081573, 0.03819921240210533, 0.0, 0.0, 0.0], [0.005920093506574631, 0.0026448266580700874, 0.005754888989031315, 0.02199717052280903, 0.0013081289362162352, 0.005726538598537445, 0.0008704047068022192, 0.0018940428271889687, 0.05295495688915253, 0.004725008271634579, 0.0009999454487115145, 0.04342707619071007, 0.0021749846637248993, 0.0736372172832489, 0.017015766352415085, 0.003086996031925082, 0.0577908493578434, 0.010734479874372482, 0.003425824223086238, 0.010332699865102768, 0.08509062975645065, 0.012429162859916687, 0.0062302337028086185, 0.02222101017832756, 0.06411112844944, 0.005053482949733734, 0.01815238781273365, 0.007594150956720114, 0.00678644236177206, 0.16716447472572327, 0.013871807605028152, 0.014755621552467346, 0.25011754035949707, 0.0, 0.0], [0.05958716943860054, 0.014287120662629604, 0.009688670746982098, 0.0284745953977108, 0.02860480546951294, 0.026259353384375572, 0.008819636888802052, 0.022136030718684196, 0.01791021041572094, 0.02639755792915821, 0.017243580892682076, 0.025983817875385284, 0.0063161770813167095, 0.02004316635429859, 0.015440619550645351, 0.02594027854502201, 0.030103038996458054, 0.018365349620580673, 0.02313041128218174, 0.02621457725763321, 0.03115726076066494, 0.028986159712076187, 0.0289612989872694, 0.016435232013463974, 0.03480090573430061, 0.03794369101524353, 0.0738067701458931, 0.03077242150902748, 0.028517264872789383, 0.0738709568977356, 0.024587715044617653, 0.035234108567237854, 0.08090805262327194, 0.023072002455592155, 0.0], [0.05258987098932266, 0.008282376453280449, 0.004686588421463966, 0.011556114070117474, 0.002124358667060733, 0.007376660592854023, 0.0025699115358293056, 0.005167306400835514, 0.06430475413799286, 0.008688677102327347, 0.004349817056208849, 0.054052047431468964, 0.0035673293750733137, 0.08101726323366165, 0.021457025781273842, 0.004144078586250544, 0.0662156417965889, 0.01871694065630436, 0.00948822870850563, 0.006038549356162548, 0.10274297744035721, 0.014565212652087212, 0.009106302633881569, 0.021657660603523254, 0.035248007625341415, 0.004852636251598597, 0.00842216145247221, 0.019589493051171303, 0.011885887943208218, 0.144646555185318, 0.016607556492090225, 0.022834768518805504, 0.08476629853248596, 0.01512684766203165, 0.051554061472415924]], [[1.0, 0.0, 0.0, 0.0, 0.0, 0.0, 0.0, 0.0, 0.0, 0.0, 0.0, 0.0, 0.0, 0.0, 0.0, 0.0, 0.0, 0.0, 0.0, 0.0, 0.0, 0.0, 0.0, 0.0, 0.0, 0.0, 0.0, 0.0, 0.0, 0.0, 0.0, 0.0, 0.0, 0.0, 0.0], [0.8803902268409729, 0.1196097731590271, 0.0, 0.0, 0.0, 0.0, 0.0, 0.0, 0.0, 0.0, 0.0, 0.0, 0.0, 0.0, 0.0, 0.0, 0.0, 0.0, 0.0, 0.0, 0.0, 0.0, 0.0, 0.0, 0.0, 0.0, 0.0, 0.0, 0.0, 0.0, 0.0, 0.0, 0.0, 0.0, 0.0], [0.8001626133918762, 0.14422568678855896, 0.055611636489629745, 0.0, 0.0, 0.0, 0.0, 0.0, 0.0, 0.0, 0.0, 0.0, 0.0, 0.0, 0.0, 0.0, 0.0, 0.0, 0.0, 0.0, 0.0, 0.0, 0.0, 0.0, 0.0, 0.0, 0.0, 0.0, 0.0, 0.0, 0.0, 0.0, 0.0, 0.0, 0.0], [0.6471940279006958, 0.14701783657073975, 0.0793101042509079, 0.12647801637649536, 0.0, 0.0, 0.0, 0.0, 0.0, 0.0, 0.0, 0.0, 0.0, 0.0, 0.0, 0.0, 0.0, 0.0, 0.0, 0.0, 0.0, 0.0, 0.0, 0.0, 0.0, 0.0, 0.0, 0.0, 0.0, 0.0, 0.0, 0.0, 0.0, 0.0, 0.0], [0.6291002035140991, 0.1326994001865387, 0.08307391405105591, 0.10306606441736221, 0.052060455083847046, 0.0, 0.0, 0.0, 0.0, 0.0, 0.0, 0.0, 0.0, 0.0, 0.0, 0.0, 0.0, 0.0, 0.0, 0.0, 0.0, 0.0, 0.0, 0.0, 0.0, 0.0, 0.0, 0.0, 0.0, 0.0, 0.0, 0.0, 0.0, 0.0, 0.0], [0.5631012916564941, 0.12375936657190323, 0.11159724742174149, 0.10842737555503845, 0.08343343436717987, 0.00968119315803051, 0.0, 0.0, 0.0, 0.0, 0.0, 0.0, 0.0, 0.0, 0.0, 0.0, 0.0, 0.0, 0.0, 0.0, 0.0, 0.0, 0.0, 0.0, 0.0, 0.0, 0.0, 0.0, 0.0, 0.0, 0.0, 0.0, 0.0, 0.0, 0.0], [0.4973389506340027, 0.11400076746940613, 0.07851862162351608, 0.10408835858106613, 0.08229988068342209, 0.0872018039226532, 0.03655165806412697, 0.0, 0.0, 0.0, 0.0, 0.0, 0.0, 0.0, 0.0, 0.0, 0.0, 0.0, 0.0, 0.0, 0.0, 0.0, 0.0, 0.0, 0.0, 0.0, 0.0, 0.0, 0.0, 0.0, 0.0, 0.0, 0.0, 0.0, 0.0], [0.4618663191795349, 0.10720603168010712, 0.07680261135101318, 0.09525885432958603, 0.11179573088884354, 0.04683658108115196, 0.0632898136973381, 0.03694410249590874, 0.0, 0.0, 0.0, 0.0, 0.0, 0.0, 0.0, 0.0, 0.0, 0.0, 0.0, 0.0, 0.0, 0.0, 0.0, 0.0, 0.0, 0.0, 0.0, 0.0, 0.0, 0.0, 0.0, 0.0, 0.0, 0.0, 0.0], [0.40880170464515686, 0.11223535984754562, 0.061949532479047775, 0.08138209581375122, 0.0688871219754219, 0.04759938642382622, 0.057795681059360504, 0.06300585716962814, 0.09834323823451996, 0.0, 0.0, 0.0, 0.0, 0.0, 0.0, 0.0, 0.0, 0.0, 0.0, 0.0, 0.0, 0.0, 0.0, 0.0, 0.0, 0.0, 0.0, 0.0, 0.0, 0.0, 0.0, 0.0, 0.0, 0.0, 0.0], [0.337785542011261, 0.0776895210146904, 0.061640240252017975, 0.08030418306589127, 0.09243481606245041, 0.12569789588451385, 0.04310276359319687, 0.0800650417804718, 0.08753134310245514, 0.013748615980148315, 0.0, 0.0, 0.0, 0.0, 0.0, 0.0, 0.0, 0.0, 0.0, 0.0, 0.0, 0.0, 0.0, 0.0, 0.0, 0.0, 0.0, 0.0, 0.0, 0.0, 0.0, 0.0, 0.0, 0.0, 0.0], [0.40844565629959106, 0.07972614467144012, 0.05943279713392258, 0.07098965346813202, 0.06258388608694077, 0.07298710942268372, 0.05290914326906204, 0.06663117557764053, 0.08486583828926086, 0.030785230919718742, 0.010643374174833298, 0.0, 0.0, 0.0, 0.0, 0.0, 0.0, 0.0, 0.0, 0.0, 0.0, 0.0, 0.0, 0.0, 0.0, 0.0, 0.0, 0.0, 0.0, 0.0, 0.0, 0.0, 0.0, 0.0, 0.0], [0.32840874791145325, 0.08126058429479599, 0.05222117528319359, 0.0667019933462143, 0.062212202697992325, 0.04688328132033348, 0.04748225957155228, 0.04943716898560524, 0.08644372224807739, 0.05108509585261345, 0.04660411179065704, 0.08125965297222137, 0.0, 0.0, 0.0, 0.0, 0.0, 0.0, 0.0, 0.0, 0.0, 0.0, 0.0, 0.0, 0.0, 0.0, 0.0, 0.0, 0.0, 0.0, 0.0, 0.0, 0.0, 0.0, 0.0], [0.28456369042396545, 0.07334224879741669, 0.05956629291176796, 0.059956833720207214, 0.0626126304268837, 0.044922515749931335, 0.0535488985478878, 0.055395208299160004, 0.0760505348443985, 0.05439149960875511, 0.055210113525390625, 0.0848141610622406, 0.03562537208199501, 0.0, 0.0, 0.0, 0.0, 0.0, 0.0, 0.0, 0.0, 0.0, 0.0, 0.0, 0.0, 0.0, 0.0, 0.0, 0.0, 0.0, 0.0, 0.0, 0.0, 0.0, 0.0], [0.2986924350261688, 0.08053489029407501, 0.04630003869533539, 0.05841610208153725, 0.05245253071188927, 0.03589676320552826, 0.04313004016876221, 0.04816412180662155, 0.07179587334394455, 0.035882286727428436, 0.03498636186122894, 0.0663861334323883, 0.04749889671802521, 0.07986356317996979, 0.0, 0.0, 0.0, 0.0, 0.0, 0.0, 0.0, 0.0, 0.0, 0.0, 0.0, 0.0, 0.0, 0.0, 0.0, 0.0, 0.0, 0.0, 0.0, 0.0, 0.0], [0.26184865832328796, 0.06895224750041962, 0.04662095382809639, 0.05860461667180061, 0.046928782016038895, 0.05568014085292816, 0.04915205389261246, 0.041177812963724136, 0.07490759342908859, 0.031984247267246246, 0.03257223218679428, 0.07257071137428284, 0.03739878162741661, 0.08542974293231964, 0.03617139905691147, 0.0, 0.0, 0.0, 0.0, 0.0, 0.0, 0.0, 0.0, 0.0, 0.0, 0.0, 0.0, 0.0, 0.0, 0.0, 0.0, 0.0, 0.0, 0.0, 0.0], [0.29417479038238525, 0.053609173744916916, 0.03860876336693764, 0.049526747316122055, 0.04060917720198631, 0.04149327427148819, 0.029716258868575096, 0.045369818806648254, 0.060249343514442444, 0.04159965738654137, 0.06637393683195114, 0.059824664145708084, 0.04050290957093239, 0.06734269857406616, 0.06095736473798752, 0.010041484609246254, 0.0, 0.0, 0.0, 0.0, 0.0, 0.0, 0.0, 0.0, 0.0, 0.0, 0.0, 0.0, 0.0, 0.0, 0.0, 0.0, 0.0, 0.0, 0.0], [0.24078036844730377, 0.057315029203891754, 0.038129791617393494, 0.04762376472353935, 0.046726152300834656, 0.03515476733446121, 0.03462180122733116, 0.0374724343419075, 0.06234782934188843, 0.0395454503595829, 0.0357443131506443, 0.05874498933553696, 0.0340784415602684, 0.07071571052074432, 0.05439118668437004, 0.039451491087675095, 0.06715650856494904, 0.0, 0.0, 0.0, 0.0, 0.0, 0.0, 0.0, 0.0, 0.0, 0.0, 0.0, 0.0, 0.0, 0.0, 0.0, 0.0, 0.0, 0.0], [0.1900811791419983, 0.05546913668513298, 0.038249868899583817, 0.04468469321727753, 0.0434919148683548, 0.037291351705789566, 0.03500029817223549, 0.03413338214159012, 0.05614841729402542, 0.029018189758062363, 0.026478581130504608, 0.06265048682689667, 0.03502201661467552, 0.06568853557109833, 0.0571419782936573, 0.04781633988022804, 0.07356444001197815, 0.06806915253400803, 0.0, 0.0, 0.0, 0.0, 0.0, 0.0, 0.0, 0.0, 0.0, 0.0, 0.0, 0.0, 0.0, 0.0, 0.0, 0.0, 0.0], [0.23406481742858887, 0.04765678942203522, 0.03626637905836105, 0.04350151866674423, 0.04482331499457359, 0.030926167964935303, 0.024145539849996567, 0.03047105483710766, 0.05100265517830849, 0.038521427661180496, 0.041283585131168365, 0.052890971302986145, 0.027892805635929108, 0.057388778775930405, 0.06066998839378357, 0.043871041387319565, 0.05933021008968353, 0.05117018520832062, 0.02412271313369274, 0.0, 0.0, 0.0, 0.0, 0.0, 0.0, 0.0, 0.0, 0.0, 0.0, 0.0, 0.0, 0.0, 0.0, 0.0, 0.0], [0.3121168911457062, 0.043056998401880264, 0.0307391956448555, 0.03990123048424721, 0.04073919355869293, 0.03397355228662491, 0.013991202227771282, 0.0325017124414444, 0.042142949998378754, 0.031367406249046326, 0.05722318962216377, 0.04209974780678749, 0.032853297889232635, 0.04662720859050751, 0.048747751861810684, 0.02173060178756714, 0.04722375422716141, 0.02985757775604725, 0.045303910970687866, 0.007802657317370176, 0.0, 0.0, 0.0, 0.0, 0.0, 0.0, 0.0, 0.0, 0.0, 0.0, 0.0, 0.0, 0.0, 0.0, 0.0], [0.19583050906658173, 0.052274737507104874, 0.03251207247376442, 0.037058886140584946, 0.043354302644729614, 0.027641303837299347, 0.027452072128653526, 0.03308156877756119, 0.0453244112432003, 0.025406742468476295, 0.02478162944316864, 0.03888050466775894, 0.03024730272591114, 0.05089510604739189, 0.04128778725862503, 0.03749212995171547, 0.044253215193748474, 0.04428722336888313, 0.04519395902752876, 0.050723981112241745, 0.07202054560184479, 0.0, 0.0, 0.0, 0.0, 0.0, 0.0, 0.0, 0.0, 0.0, 0.0, 0.0, 0.0, 0.0, 0.0], [0.16079987585544586, 0.04841073229908943, 0.03302096575498581, 0.03441706299781799, 0.03531979024410248, 0.02389703132212162, 0.026063479483127594, 0.02863972820341587, 0.04453875124454498, 0.024949485436081886, 0.02971615269780159, 0.04012999311089516, 0.024859076365828514, 0.05134393274784088, 0.053735412657260895, 0.045276302844285965, 0.04680594056844711, 0.034605979919433594, 0.04245501384139061, 0.05485453084111214, 0.06976334750652313, 0.04639733210206032, 0.0, 0.0, 0.0, 0.0, 0.0, 0.0, 0.0, 0.0, 0.0, 0.0, 0.0, 0.0, 0.0], [0.18932506442070007, 0.03910361975431442, 0.02485201321542263, 0.03345050290226936, 0.0386015810072422, 0.024109311401844025, 0.020502110943198204, 0.02430175058543682, 0.03976471349596977, 0.034181661903858185, 0.03484785929322243, 0.036197829991579056, 0.023668939247727394, 0.0450248196721077, 0.03498944267630577, 0.026825526729226112, 0.04153791069984436, 0.03736663609743118, 0.04202279821038246, 0.055910415947437286, 0.06404419988393784, 0.05618632212281227, 0.03318498656153679, 0.0, 0.0, 0.0, 0.0, 0.0, 0.0, 0.0, 0.0, 0.0, 0.0, 0.0, 0.0], [0.16596604883670807, 0.033881109207868576, 0.020657524466514587, 0.03212728351354599, 0.03747253865003586, 0.026519477367401123, 0.01988290064036846, 0.025609631091356277, 0.04091744124889374, 0.022610332816839218, 0.019720880314707756, 0.03376534953713417, 0.02350381761789322, 0.04644523933529854, 0.035414308309555054, 0.027368435636162758, 0.0387694388628006, 0.03146074339747429, 0.04639927297830582, 0.048674728721380234, 0.06382153183221817, 0.06529750674962997, 0.04629907011985779, 0.04741539806127548, 0.0, 0.0, 0.0, 0.0, 0.0, 0.0, 0.0, 0.0, 0.0, 0.0, 0.0], [0.1551409363746643, 0.03631480783224106, 0.022236889228224754, 0.02809740975499153, 0.04015664756298065, 0.024055983871221542, 0.01740090735256672, 0.021498551592230797, 0.0367506742477417, 0.017986753955483437, 0.019703909754753113, 0.028327785432338715, 0.022604603320360184, 0.041680511087179184, 0.03049795888364315, 0.02558560110628605, 0.032487593591213226, 0.027014950290322304, 0.04112286493182182, 0.047384489327669144, 0.06382337957620621, 0.05655011534690857, 0.041199978440999985, 0.06263259053230286, 0.05974407494068146, 0.0, 0.0, 0.0, 0.0, 0.0, 0.0, 0.0, 0.0, 0.0, 0.0], [0.12975938618183136, 0.027339698746800423, 0.029957503080368042, 0.022702835500240326, 0.03781534358859062, 0.03144636005163193, 0.01713675633072853, 0.04656491056084633, 0.030618296936154366, 0.018781669437885284, 0.02527317777276039, 0.028721965849399567, 0.019090937450528145, 0.03481000289320946, 0.026170214638113976, 0.026817742735147476, 0.03296038508415222, 0.02496025338768959, 0.05474760755896568, 0.057801030576229095, 0.05617624148726463, 0.03305984288454056, 0.05767422169446945, 0.04667418450117111, 0.06228699907660484, 0.020652364939451218, 0.0, 0.0, 0.0, 0.0, 0.0, 0.0, 0.0, 0.0, 0.0], [0.18126998841762543, 0.02792493812739849, 0.028055917471647263, 0.029457401484251022, 0.02853274717926979, 0.020307771861553192, 0.019550150260329247, 0.03153110668063164, 0.029232852160930634, 0.021110529080033302, 0.01458084024488926, 0.02250531129539013, 0.016256755217909813, 0.03150884807109833, 0.024519702419638634, 0.036590538918972015, 0.025034507736563683, 0.020030668005347252, 0.04726611077785492, 0.12142347544431686, 0.0418962687253952, 0.03646090626716614, 0.037346918135881424, 0.03705747053027153, 0.03521093726158142, 0.024784507229924202, 0.010552848689258099, 0.0, 0.0, 0.0, 0.0, 0.0, 0.0, 0.0, 0.0], [0.14193236827850342, 0.02687341533601284, 0.023394405841827393, 0.024198872968554497, 0.034410927444696426, 0.031768206506967545, 0.014282818883657455, 0.027884991839528084, 0.02782326750457287, 0.02026795595884323, 0.020075341686606407, 0.026035428047180176, 0.015271052718162537, 0.031183559447526932, 0.02134445123374462, 0.030780892819166183, 0.029686490073800087, 0.024966178461909294, 0.032906223088502884, 0.08126567304134369, 0.04738021641969681, 0.0395050123333931, 0.0381060391664505, 0.03920023515820503, 0.04723042622208595, 0.03223778307437897, 0.047684960067272186, 0.022302808240056038, 0.0, 0.0, 0.0, 0.0, 0.0, 0.0, 0.0], [0.19361066818237305, 0.028910456225275993, 0.017410732805728912, 0.024991942569613457, 0.020412281155586243, 0.03692351654171944, 0.018564041703939438, 0.022491106763482094, 0.026469888165593147, 0.019851716235280037, 0.01670689322054386, 0.02012959122657776, 0.01730293780565262, 0.028877515345811844, 0.01937028206884861, 0.021512920036911964, 0.022604649886488914, 0.019465507939457893, 0.03218546137213707, 0.09415604919195175, 0.03964082524180412, 0.04692870005965233, 0.032965511083602905, 0.03432746231555939, 0.03549889475107193, 0.0415242463350296, 0.038008447736501694, 0.024193786084651947, 0.004963917192071676, 0.0, 0.0, 0.0, 0.0, 0.0, 0.0], [0.13062256574630737, 0.02923814207315445, 0.02056247554719448, 0.024924930185079575, 0.026433372870087624, 0.02088005468249321, 0.016895079985260963, 0.020366208627820015, 0.030794678255915642, 0.016811519861221313, 0.014352638274431229, 0.026399685069918633, 0.017968151718378067, 0.03419143334031105, 0.02579362690448761, 0.020880067721009254, 0.029983337968587875, 0.022576836869120598, 0.03198401629924774, 0.03877526521682739, 0.047299277037382126, 0.03951810300350189, 0.035695552825927734, 0.04647783935070038, 0.04560372978448868, 0.027694012969732285, 0.028376270085573196, 0.0295069832354784, 0.03388816863298416, 0.06550600379705429, 0.0, 0.0, 0.0, 0.0, 0.0], [0.10399014502763748, 0.021966133266687393, 0.016451174393296242, 0.02278798632323742, 0.0243571475148201, 0.01997542195022106, 0.013678603805601597, 0.02052461914718151, 0.02641664259135723, 0.01582498289644718, 0.01812474988400936, 0.022938061505556107, 0.015249834395945072, 0.02995176985859871, 0.01956864818930626, 0.017790071666240692, 0.026331376284360886, 0.02006237395107746, 0.030405646190047264, 0.058378033339977264, 0.04746948182582855, 0.03560006245970726, 0.03361855447292328, 0.0390516072511673, 0.046234600245952606, 0.03415835276246071, 0.05063633248209953, 0.033049553632736206, 0.04132761061191559, 0.06007477268576622, 0.03400558978319168, 0.0, 0.0, 0.0, 0.0], [0.10689451545476913, 0.023425215855240822, 0.018311118707060814, 0.022276198491454124, 0.019986258819699287, 0.01834566704928875, 0.015893500298261642, 0.019802751019597054, 0.025829356163740158, 0.016079481691122055, 0.016656847670674324, 0.02581821382045746, 0.012892832979559898, 0.029111439362168312, 0.020739199593663216, 0.017621520906686783, 0.029654430225491524, 0.024281153455376625, 0.02804589830338955, 0.05205394700169563, 0.042631059885025024, 0.03251810371875763, 0.03738030791282654, 0.03843436390161514, 0.03982122242450714, 0.02629013918340206, 0.035206373780965805, 0.03138631209731102, 0.03282344341278076, 0.06194699928164482, 0.03762542083859444, 0.0402165912091732, 0.0, 0.0, 0.0], [0.1222902163863182, 0.025168992578983307, 0.01671406999230385, 0.02203325740993023, 0.02300073206424713, 0.015408722683787346, 0.014958013780415058, 0.018676774576306343, 0.026191173121333122, 0.012370300479233265, 0.010715771466493607, 0.021631909534335136, 0.013984637334942818, 0.02889922447502613, 0.02320098504424095, 0.018216606229543686, 0.02428124099969864, 0.018235335126519203, 0.02165396697819233, 0.036337438970804214, 0.03855650871992111, 0.036919448524713516, 0.03379227593541145, 0.042588260024785995, 0.038391564041376114, 0.023295771330595016, 0.03080526553094387, 0.024493325501680374, 0.030105777084827423, 0.05652607977390289, 0.037566833198070526, 0.04159918427467346, 0.05139036476612091, 0.0, 0.0], [0.13871705532073975, 0.021967241540551186, 0.016682982444763184, 0.02155137248337269, 0.026049228385090828, 0.015379128977656364, 0.01252230815589428, 0.020025217905640602, 0.021879853680729866, 0.0145530691370368, 0.01562824659049511, 0.01828859932720661, 0.01242174580693245, 0.02363341487944126, 0.01722067967057228, 0.02009168080985546, 0.02015187218785286, 0.018530184403061867, 0.02421249821782112, 0.07234080880880356, 0.03423937410116196, 0.030147051438689232, 0.03145883232355118, 0.03020295687019825, 0.030948743224143982, 0.02483321726322174, 0.03074326552450657, 0.02263658680021763, 0.044566910713911057, 0.04173137620091438, 0.028924651443958282, 0.02986532635986805, 0.04288144037127495, 0.02497304230928421, 0.0], [0.12327975034713745, 0.02670745551586151, 0.014834702014923096, 0.018021509051322937, 0.017764994874596596, 0.013351652771234512, 0.014073801226913929, 0.018723035231232643, 0.02398008666932583, 0.021256305277347565, 0.017004821449518204, 0.020616676658391953, 0.012905537150800228, 0.026097441092133522, 0.021554268896579742, 0.015845783054828644, 0.02278091572225094, 0.023595379665493965, 0.0198617372661829, 0.021922385320067406, 0.03597114980220795, 0.033696819096803665, 0.02117166668176651, 0.035360537469387054, 0.03450925648212433, 0.021897660568356514, 0.03512426093220711, 0.024112917482852936, 0.03299053758382797, 0.04677635058760643, 0.030424444004893303, 0.032703183591365814, 0.037907253950834274, 0.04262493923306465, 0.04055078700184822]], [[1.0, 0.0, 0.0, 0.0, 0.0, 0.0, 0.0, 0.0, 0.0, 0.0, 0.0, 0.0, 0.0, 0.0, 0.0, 0.0, 0.0, 0.0, 0.0, 0.0, 0.0, 0.0, 0.0, 0.0, 0.0, 0.0, 0.0, 0.0, 0.0, 0.0, 0.0, 0.0, 0.0, 0.0, 0.0], [0.6533872485160828, 0.3466127812862396, 0.0, 0.0, 0.0, 0.0, 0.0, 0.0, 0.0, 0.0, 0.0, 0.0, 0.0, 0.0, 0.0, 0.0, 0.0, 0.0, 0.0, 0.0, 0.0, 0.0, 0.0, 0.0, 0.0, 0.0, 0.0, 0.0, 0.0, 0.0, 0.0, 0.0, 0.0, 0.0, 0.0], [0.44511184096336365, 0.33376815915107727, 0.2211199402809143, 0.0, 0.0, 0.0, 0.0, 0.0, 0.0, 0.0, 0.0, 0.0, 0.0, 0.0, 0.0, 0.0, 0.0, 0.0, 0.0, 0.0, 0.0, 0.0, 0.0, 0.0, 0.0, 0.0, 0.0, 0.0, 0.0, 0.0, 0.0, 0.0, 0.0, 0.0, 0.0], [0.5459808707237244, 0.1529107242822647, 0.0764545351266861, 0.22465388476848602, 0.0, 0.0, 0.0, 0.0, 0.0, 0.0, 0.0, 0.0, 0.0, 0.0, 0.0, 0.0, 0.0, 0.0, 0.0, 0.0, 0.0, 0.0, 0.0, 0.0, 0.0, 0.0, 0.0, 0.0, 0.0, 0.0, 0.0, 0.0, 0.0, 0.0, 0.0], [0.4272027611732483, 0.1412525475025177, 0.06143973022699356, 0.11979997903108597, 0.2503049373626709, 0.0, 0.0, 0.0, 0.0, 0.0, 0.0, 0.0, 0.0, 0.0, 0.0, 0.0, 0.0, 0.0, 0.0, 0.0, 0.0, 0.0, 0.0, 0.0, 0.0, 0.0, 0.0, 0.0, 0.0, 0.0, 0.0, 0.0, 0.0, 0.0, 0.0], [0.4097931385040283, 0.11732905358076096, 0.06548824161291122, 0.1236746534705162, 0.04222371056675911, 0.24149122834205627, 0.0, 0.0, 0.0, 0.0, 0.0, 0.0, 0.0, 0.0, 0.0, 0.0, 0.0, 0.0, 0.0, 0.0, 0.0, 0.0, 0.0, 0.0, 0.0, 0.0, 0.0, 0.0, 0.0, 0.0, 0.0, 0.0, 0.0, 0.0, 0.0], [0.3643516004085541, 0.15547117590904236, 0.08527874946594238, 0.08832608163356781, 0.04993731901049614, 0.03409622982144356, 0.22253884375095367, 0.0, 0.0, 0.0, 0.0, 0.0, 0.0, 0.0, 0.0, 0.0, 0.0, 0.0, 0.0, 0.0, 0.0, 0.0, 0.0, 0.0, 0.0, 0.0, 0.0, 0.0, 0.0, 0.0, 0.0, 0.0, 0.0, 0.0, 0.0], [0.3562685549259186, 0.09063340723514557, 0.05006815120577812, 0.10755760967731476, 0.06895481050014496, 0.04669607803225517, 0.04097530618309975, 0.2388460785150528, 0.0, 0.0, 0.0, 0.0, 0.0, 0.0, 0.0, 0.0, 0.0, 0.0, 0.0, 0.0, 0.0, 0.0, 0.0, 0.0, 0.0, 0.0, 0.0, 0.0, 0.0, 0.0, 0.0, 0.0, 0.0, 0.0, 0.0], [0.34613895416259766, 0.14562256634235382, 0.09470636397600174, 0.1049964502453804, 0.06400175392627716, 0.04047239199280739, 0.03757920488715172, 0.04448216035962105, 0.12200022488832474, 0.0, 0.0, 0.0, 0.0, 0.0, 0.0, 0.0, 0.0, 0.0, 0.0, 0.0, 0.0, 0.0, 0.0, 0.0, 0.0, 0.0, 0.0, 0.0, 0.0, 0.0, 0.0, 0.0, 0.0, 0.0, 0.0], [0.20510224997997284, 0.04824315756559372, 0.05157081037759781, 0.09953970462083817, 0.06673121452331543, 0.045586880296468735, 0.036483924835920334, 0.08169860392808914, 0.08583583682775497, 0.27920764684677124, 0.0, 0.0, 0.0, 0.0, 0.0, 0.0, 0.0, 0.0, 0.0, 0.0, 0.0, 0.0, 0.0, 0.0, 0.0, 0.0, 0.0, 0.0, 0.0, 0.0, 0.0, 0.0, 0.0, 0.0, 0.0], [0.23016966879367828, 0.07576315850019455, 0.06243027001619339, 0.061968374997377396, 0.05024825409054756, 0.03796260058879852, 0.05770514905452728, 0.056173257529735565, 0.06585752964019775, 0.04166558384895325, 0.26005619764328003, 0.0, 0.0, 0.0, 0.0, 0.0, 0.0, 0.0, 0.0, 0.0, 0.0, 0.0, 0.0, 0.0, 0.0, 0.0, 0.0, 0.0, 0.0, 0.0, 0.0, 0.0, 0.0, 0.0, 0.0], [0.2668822407722473, 0.0996926948428154, 0.06880498677492142, 0.10110107809305191, 0.03625768795609474, 0.048760294914245605, 0.031795430928468704, 0.03426745906472206, 0.09192277491092682, 0.04406016319990158, 0.024279998615384102, 0.1521751880645752, 0.0, 0.0, 0.0, 0.0, 0.0, 0.0, 0.0, 0.0, 0.0, 0.0, 0.0, 0.0, 0.0, 0.0, 0.0, 0.0, 0.0, 0.0, 0.0, 0.0, 0.0, 0.0, 0.0], [0.24808593094348907, 0.05943756923079491, 0.03645307570695877, 0.09643886238336563, 0.04665255546569824, 0.043580617755651474, 0.026409665122628212, 0.03871847689151764, 0.06937100738286972, 0.0355321504175663, 0.02358422614634037, 0.05824921280145645, 0.21748661994934082, 0.0, 0.0, 0.0, 0.0, 0.0, 0.0, 0.0, 0.0, 0.0, 0.0, 0.0, 0.0, 0.0, 0.0, 0.0, 0.0, 0.0, 0.0, 0.0, 0.0, 0.0, 0.0], [0.22227588295936584, 0.08784300088882446, 0.06428326666355133, 0.07245951890945435, 0.051530081778764725, 0.033541664481163025, 0.03151148930191994, 0.04395979270339012, 0.10531802475452423, 0.03629285469651222, 0.03349635377526283, 0.07923726737499237, 0.034966111183166504, 0.10328468680381775, 0.0, 0.0, 0.0, 0.0, 0.0, 0.0, 0.0, 0.0, 0.0, 0.0, 0.0, 0.0, 0.0, 0.0, 0.0, 0.0, 0.0, 0.0, 0.0, 0.0, 0.0], [0.2625540792942047, 0.07451015710830688, 0.04962189123034477, 0.065139539539814, 0.022182414308190346, 0.03923411667346954, 0.021433904767036438, 0.02829248458147049, 0.06496231257915497, 0.022169634699821472, 0.018070966005325317, 0.05796554312109947, 0.01818801276385784, 0.06176506727933884, 0.19390985369682312, 0.0, 0.0, 0.0, 0.0, 0.0, 0.0, 0.0, 0.0, 0.0, 0.0, 0.0, 0.0, 0.0, 0.0, 0.0, 0.0, 0.0, 0.0, 0.0, 0.0], [0.2145461142063141, 0.052079539746046066, 0.04338602349162102, 0.05108675733208656, 0.02305704914033413, 0.039872970432043076, 0.02145754173398018, 0.0431031696498394, 0.057124003767967224, 0.04732410982251167, 0.02007635124027729, 0.04863850399851799, 0.031737688928842545, 0.05389070883393288, 0.03922811523079872, 0.21339130401611328, 0.0, 0.0, 0.0, 0.0, 0.0, 0.0, 0.0, 0.0, 0.0, 0.0, 0.0, 0.0, 0.0, 0.0, 0.0, 0.0, 0.0, 0.0, 0.0], [0.1693463772535324, 0.05758475512266159, 0.04318231716752052, 0.06501621752977371, 0.025769708678126335, 0.03584060072898865, 0.02340392954647541, 0.028633078560233116, 0.06884392350912094, 0.03735613450407982, 0.021079320460557938, 0.12265526503324509, 0.025184905156493187, 0.07096560299396515, 0.04923553392291069, 0.02845790423452854, 0.12744443118572235, 0.0, 0.0, 0.0, 0.0, 0.0, 0.0, 0.0, 0.0, 0.0, 0.0, 0.0, 0.0, 0.0, 0.0, 0.0, 0.0, 0.0, 0.0], [0.1294490396976471, 0.04351518303155899, 0.028707355260849, 0.04557257145643234, 0.021282192319631577, 0.019885340705513954, 0.028857702389359474, 0.03478112816810608, 0.0553259402513504, 0.03088506869971752, 0.02108754962682724, 0.06504065543413162, 0.040431585162878036, 0.05797602981328964, 0.04136981815099716, 0.028544070199131966, 0.06784921139478683, 0.23943956196308136, 0.0, 0.0, 0.0, 0.0, 0.0, 0.0, 0.0, 0.0, 0.0, 0.0, 0.0, 0.0, 0.0, 0.0, 0.0, 0.0, 0.0], [0.14163613319396973, 0.03578966483473778, 0.028365233913064003, 0.04538756608963013, 0.046378400176763535, 0.03978872299194336, 0.014343788847327232, 0.049597978591918945, 0.04732619971036911, 0.03078244812786579, 0.018412159755825996, 0.048710379749536514, 0.023401638492941856, 0.04745563492178917, 0.03751209005713463, 0.023782704025506973, 0.04894063621759415, 0.033790670335292816, 0.2385980486869812, 0.0, 0.0, 0.0, 0.0, 0.0, 0.0, 0.0, 0.0, 0.0, 0.0, 0.0, 0.0, 0.0, 0.0, 0.0, 0.0], [0.13350322842597961, 0.03222055733203888, 0.020588906481862068, 0.037802185863256454, 0.04108011722564697, 0.03671093285083771, 0.02595440112054348, 0.04136638343334198, 0.043265704065561295, 0.030096478760242462, 0.02681291103363037, 0.04010695219039917, 0.024385903030633926, 0.04430920258164406, 0.0337374210357666, 0.02071092464029789, 0.04079744219779968, 0.032650165259838104, 0.03506242856383324, 0.25883781909942627, 0.0, 0.0, 0.0, 0.0, 0.0, 0.0, 0.0, 0.0, 0.0, 0.0, 0.0, 0.0, 0.0, 0.0, 0.0], [0.11974352598190308, 0.039148829877376556, 0.028956564143300056, 0.03342708945274353, 0.03769591823220253, 0.020543895661830902, 0.017558958381414413, 0.032658398151397705, 0.06372417509555817, 0.033101923763751984, 0.029867947101593018, 0.05386917665600777, 0.022512974217534065, 0.07236673682928085, 0.04143424704670906, 0.03790143132209778, 0.060026220977306366, 0.045860208570957184, 0.05091095715761185, 0.031955886632204056, 0.1267348825931549, 0.0, 0.0, 0.0, 0.0, 0.0, 0.0, 0.0, 0.0, 0.0, 0.0, 0.0, 0.0, 0.0, 0.0], [0.11878618597984314, 0.039572034031152725, 0.023222969844937325, 0.05364082008600235, 0.03261677920818329, 0.01737094856798649, 0.011663904413580894, 0.016273822635412216, 0.05014302581548691, 0.01326026115566492, 0.010486901737749577, 0.03813209757208824, 0.041936684399843216, 0.05336223170161247, 0.03097999282181263, 0.019617723301053047, 0.040241558104753494, 0.03244159743189812, 0.020540133118629456, 0.026845509186387062, 0.05771110579371452, 0.25115373730659485, 0.0, 0.0, 0.0, 0.0, 0.0, 0.0, 0.0, 0.0, 0.0, 0.0, 0.0, 0.0, 0.0], [0.10596500337123871, 0.03639822453260422, 0.023730656132102013, 0.02770347148180008, 0.029520340263843536, 0.016958508640527725, 0.009277223609387875, 0.019281180575489998, 0.04353448748588562, 0.025435728952288628, 0.015441053546965122, 0.0416172631084919, 0.018472323194146156, 0.04617343097925186, 0.026975220069289207, 0.016877297312021255, 0.0436592698097229, 0.020190222188830376, 0.01864578016102314, 0.016359707340598106, 0.057034824043512344, 0.06433958560228348, 0.27640920877456665, 0.0, 0.0, 0.0, 0.0, 0.0, 0.0, 0.0, 0.0, 0.0, 0.0, 0.0, 0.0], [0.08669394999742508, 0.14005149900913239, 0.05404343083500862, 0.026910442858934402, 0.02693350426852703, 0.016936620697379112, 0.01752724125981331, 0.011132636107504368, 0.033167168498039246, 0.009116590023040771, 0.01402170117944479, 0.02812526561319828, 0.012107600457966328, 0.03627436235547066, 0.030991660431027412, 0.015099079348146915, 0.03022146224975586, 0.020815487951040268, 0.018955036997795105, 0.021182609722018242, 0.04364989697933197, 0.043773479759693146, 0.02504063956439495, 0.23722867667675018, 0.0, 0.0, 0.0, 0.0, 0.0, 0.0, 0.0, 0.0, 0.0, 0.0, 0.0], [0.10505460202693939, 0.02472284995019436, 0.02343858778476715, 0.024256456643342972, 0.021477708593010902, 0.014111106283962727, 0.012018014676868916, 0.01570729911327362, 0.04219583421945572, 0.016803372651338577, 0.011159355752170086, 0.03127181529998779, 0.02032068930566311, 0.04702335223555565, 0.03988676890730858, 0.025853369385004044, 0.03450959548354149, 0.02452259510755539, 0.01759421080350876, 0.02159716933965683, 0.06303169578313828, 0.05036986619234085, 0.026549141854047775, 0.040915295481681824, 0.24560922384262085, 0.0, 0.0, 0.0, 0.0, 0.0, 0.0, 0.0, 0.0, 0.0, 0.0], [0.07146885246038437, 0.015683095902204514, 0.019199561327695847, 0.02765510231256485, 0.025888731703162193, 0.01149574015289545, 0.013834545388817787, 0.0250062458217144, 0.032857511192560196, 0.04069041460752487, 0.01940707117319107, 0.03628278151154518, 0.026671355590224266, 0.03698844462633133, 0.025391345843672752, 0.012203285470604897, 0.04081625118851662, 0.022441424429416656, 0.018680062144994736, 0.037140704691410065, 0.05291351303458214, 0.03374898433685303, 0.03600705787539482, 0.027396051213145256, 0.041577909141778946, 0.24855388700962067, 0.0, 0.0, 0.0, 0.0, 0.0, 0.0, 0.0, 0.0, 0.0], [0.09520062059164047, 0.023399097844958305, 0.016249945387244225, 0.03728703409433365, 0.02706947550177574, 0.02442619577050209, 0.016916709020733833, 0.020519252866506577, 0.035614464432001114, 0.0172467902302742, 0.016965175047516823, 0.03067062422633171, 0.01476179901510477, 0.037838950753211975, 0.025590205565094948, 0.013281546533107758, 0.03275728225708008, 0.016981476917862892, 0.012912827543914318, 0.04096674919128418, 0.04452374204993248, 0.03288855031132698, 0.021862005814909935, 0.02890506014227867, 0.02522219717502594, 0.015681950375437737, 0.2742602229118347, 0.0, 0.0, 0.0, 0.0, 0.0, 0.0, 0.0, 0.0], [0.07106204330921173, 0.02223449945449829, 0.01544252410531044, 0.02880682982504368, 0.02491172030568123, 0.01409667544066906, 0.01092530321329832, 0.02235645242035389, 0.028251023963093758, 0.025925250723958015, 0.012314550578594208, 0.03621361404657364, 0.01766277104616165, 0.03140706196427345, 0.01859503984451294, 0.01817140355706215, 0.040066659450531006, 0.022728295996785164, 0.025000540539622307, 0.04014963656663895, 0.042498040944337845, 0.026281598955392838, 0.023634904995560646, 0.030348224565386772, 0.028446588665246964, 0.04931708797812462, 0.04533270001411438, 0.22781896591186523, 0.0, 0.0, 0.0, 0.0, 0.0, 0.0, 0.0], [0.1199868693947792, 0.03201313316822052, 0.020363764837384224, 0.03192231431603432, 0.020111484453082085, 0.017741894349455833, 0.014963150024414062, 0.014099689200520515, 0.0323602668941021, 0.012826556339859962, 0.01920422725379467, 0.024741891771554947, 0.014775939285755157, 0.03365083038806915, 0.03285076841711998, 0.015633024275302887, 0.0263309758156538, 0.009946920908987522, 0.010015268810093403, 0.023254673928022385, 0.03898428753018379, 0.03491940349340439, 0.011989148333668709, 0.030530868098139763, 0.023813726380467415, 0.0189790241420269, 0.06846079975366592, 0.019141538068652153, 0.22638750076293945, 0.0, 0.0, 0.0, 0.0, 0.0, 0.0], [0.0711139515042305, 0.02304500713944435, 0.017407836392521858, 0.025577744469046593, 0.018817275762557983, 0.014406668953597546, 0.011364498175680637, 0.019742922857403755, 0.037803780287504196, 0.01749836467206478, 0.012214534915983677, 0.034711793065071106, 0.016245096921920776, 0.044948261231184006, 0.031461041420698166, 0.01797626167535782, 0.040775004774332047, 0.026232007890939713, 0.02910454198718071, 0.03286314755678177, 0.06312330067157745, 0.03996738791465759, 0.03193744271993637, 0.050057604908943176, 0.05003984272480011, 0.02629847452044487, 0.040675751864910126, 0.03425348922610283, 0.03361441567540169, 0.0867224857211113, 0.0, 0.0, 0.0, 0.0, 0.0], [0.06342679262161255, 0.018928568810224533, 0.015915194526314735, 0.02297448180615902, 0.015813583508133888, 0.011996149085462093, 0.006959729827940464, 0.010440586134791374, 0.027604447677731514, 0.014203780330717564, 0.011755010113120079, 0.026974206790328026, 0.015696221962571144, 0.03244095668196678, 0.021464020013809204, 0.016300220042467117, 0.0315910279750824, 0.018295634537935257, 0.02407490462064743, 0.018299637362360954, 0.04905861243605614, 0.03294462338089943, 0.031695034354925156, 0.04070066660642624, 0.05526787042617798, 0.03228400647640228, 0.01833721622824669, 0.020621923729777336, 0.020615674555301666, 0.061421554535627365, 0.21189774572849274, 0.0, 0.0, 0.0, 0.0], [0.05903123319149017, 0.011650343425571918, 0.011906313709914684, 0.020305125042796135, 0.01582454890012741, 0.011342639103531837, 0.012165091000497341, 0.020514555275440216, 0.024635130539536476, 0.01787753403186798, 0.008976951241493225, 0.027097534388303757, 0.01015136856585741, 0.029500093311071396, 0.022961722686886787, 0.011527126654982567, 0.032491881400346756, 0.020219072699546814, 0.02027125470340252, 0.02760496735572815, 0.042306941002607346, 0.022920362651348114, 0.027398381382226944, 0.02483934722840786, 0.02841997891664505, 0.04172163084149361, 0.0314212329685688, 0.035203300416469574, 0.030631229281425476, 0.06006474047899246, 0.04537738114595413, 0.19364091753959656, 0.0, 0.0, 0.0], [0.08590574562549591, 0.014704103581607342, 0.010510566644370556, 0.02869984693825245, 0.016654498875141144, 0.012795394286513329, 0.009235282428562641, 0.014819207601249218, 0.028232716023921967, 0.011867675930261612, 0.00926817674189806, 0.02304435707628727, 0.017553264275193214, 0.03295404091477394, 0.02501373365521431, 0.012247500009834766, 0.02679956890642643, 0.013326536864042282, 0.016479836776852608, 0.03472822159528732, 0.03980802372097969, 0.050673384219408035, 0.030861176550388336, 0.027551835402846336, 0.03616422042250633, 0.017406117171049118, 0.04716060310602188, 0.025891847908496857, 0.028397297486662865, 0.06047138199210167, 0.03584858402609825, 0.03886667639017105, 0.11605865508317947, 0.0, 0.0], [0.056707713752985, 0.015243272297084332, 0.009892582893371582, 0.017495427280664444, 0.03529244288802147, 0.015370240435004234, 0.01074774470180273, 0.017091596499085426, 0.02124500274658203, 0.013064507395029068, 0.006394116207957268, 0.021768182516098022, 0.011015364900231361, 0.023290833458304405, 0.020971018821001053, 0.012346651405096054, 0.024119660258293152, 0.013815038837492466, 0.016820497810840607, 0.0345151424407959, 0.030974801629781723, 0.032177556306123734, 0.03227025642991066, 0.02327035740017891, 0.02725941501557827, 0.01785033755004406, 0.05776430666446686, 0.024271579459309578, 0.02524302899837494, 0.03774581849575043, 0.015895815566182137, 0.026596596464514732, 0.042151615023612976, 0.20932146906852722, 0.0], [0.047369714826345444, 0.013491548597812653, 0.00860119890421629, 0.011534375138580799, 0.03260953724384308, 0.008750016801059246, 0.01049541961401701, 0.015973463654518127, 0.024224920198321342, 0.01395974587649107, 0.011584172025322914, 0.020906995981931686, 0.01231019850820303, 0.02849937602877617, 0.014403222128748894, 0.011428190395236015, 0.024424536153674126, 0.021284054964780807, 0.0275762677192688, 0.025762220844626427, 0.04914955422282219, 0.021549459546804428, 0.02072589099407196, 0.030232440680265427, 0.04683733358979225, 0.021722476929426193, 0.02025720849633217, 0.01914953999221325, 0.010533904656767845, 0.05002592131495476, 0.030405575409531593, 0.022812237963080406, 0.02946249209344387, 0.039963189512491226, 0.20198363065719604]], [[1.0, 0.0, 0.0, 0.0, 0.0, 0.0, 0.0, 0.0, 0.0, 0.0, 0.0, 0.0, 0.0, 0.0, 0.0, 0.0, 0.0, 0.0, 0.0, 0.0, 0.0, 0.0, 0.0, 0.0, 0.0, 0.0, 0.0, 0.0, 0.0, 0.0, 0.0, 0.0, 0.0, 0.0, 0.0], [0.8253123164176941, 0.1746876984834671, 0.0, 0.0, 0.0, 0.0, 0.0, 0.0, 0.0, 0.0, 0.0, 0.0, 0.0, 0.0, 0.0, 0.0, 0.0, 0.0, 0.0, 0.0, 0.0, 0.0, 0.0, 0.0, 0.0, 0.0, 0.0, 0.0, 0.0, 0.0, 0.0, 0.0, 0.0, 0.0, 0.0], [0.758050262928009, 0.13029678165912628, 0.11165294796228409, 0.0, 0.0, 0.0, 0.0, 0.0, 0.0, 0.0, 0.0, 0.0, 0.0, 0.0, 0.0, 0.0, 0.0, 0.0, 0.0, 0.0, 0.0, 0.0, 0.0, 0.0, 0.0, 0.0, 0.0, 0.0, 0.0, 0.0, 0.0, 0.0, 0.0, 0.0, 0.0], [0.7232240438461304, 0.08274427801370621, 0.07870827615261078, 0.11532339453697205, 0.0, 0.0, 0.0, 0.0, 0.0, 0.0, 0.0, 0.0, 0.0, 0.0, 0.0, 0.0, 0.0, 0.0, 0.0, 0.0, 0.0, 0.0, 0.0, 0.0, 0.0, 0.0, 0.0, 0.0, 0.0, 0.0, 0.0, 0.0, 0.0, 0.0, 0.0], [0.5594541430473328, 0.08694441616535187, 0.09115549176931381, 0.09393440932035446, 0.1685115098953247, 0.0, 0.0, 0.0, 0.0, 0.0, 0.0, 0.0, 0.0, 0.0, 0.0, 0.0, 0.0, 0.0, 0.0, 0.0, 0.0, 0.0, 0.0, 0.0, 0.0, 0.0, 0.0, 0.0, 0.0, 0.0, 0.0, 0.0, 0.0, 0.0, 0.0], [0.5031397342681885, 0.08192654699087143, 0.05872313678264618, 0.1048090010881424, 0.1521420031785965, 0.09925956279039383, 0.0, 0.0, 0.0, 0.0, 0.0, 0.0, 0.0, 0.0, 0.0, 0.0, 0.0, 0.0, 0.0, 0.0, 0.0, 0.0, 0.0, 0.0, 0.0, 0.0, 0.0, 0.0, 0.0, 0.0, 0.0, 0.0, 0.0, 0.0, 0.0], [0.527961015701294, 0.05825977027416229, 0.0683659091591835, 0.11652132123708725, 0.11039454489946365, 0.06918037682771683, 0.049317046999931335, 0.0, 0.0, 0.0, 0.0, 0.0, 0.0, 0.0, 0.0, 0.0, 0.0, 0.0, 0.0, 0.0, 0.0, 0.0, 0.0, 0.0, 0.0, 0.0, 0.0, 0.0, 0.0, 0.0, 0.0, 0.0, 0.0, 0.0, 0.0], [0.30010077357292175, 0.0882599800825119, 0.05834930017590523, 0.10984241217374802, 0.1686263382434845, 0.12896905839443207, 0.023227624595165253, 0.12262456864118576, 0.0, 0.0, 0.0, 0.0, 0.0, 0.0, 0.0, 0.0, 0.0, 0.0, 0.0, 0.0, 0.0, 0.0, 0.0, 0.0, 0.0, 0.0, 0.0, 0.0, 0.0, 0.0, 0.0, 0.0, 0.0, 0.0, 0.0], [0.3934404253959656, 0.04758617281913757, 0.05194967985153198, 0.07471579313278198, 0.11950992792844772, 0.05938037112355232, 0.023368606343865395, 0.1026640236377716, 0.12738502025604248, 0.0, 0.0, 0.0, 0.0, 0.0, 0.0, 0.0, 0.0, 0.0, 0.0, 0.0, 0.0, 0.0, 0.0, 0.0, 0.0, 0.0, 0.0, 0.0, 0.0, 0.0, 0.0, 0.0, 0.0, 0.0, 0.0], [0.3446025550365448, 0.050328999757766724, 0.059913258999586105, 0.044831275939941406, 0.1573815494775772, 0.06782462447881699, 0.03229011967778206, 0.07052528113126755, 0.08953907340765, 0.08276325464248657, 0.0, 0.0, 0.0, 0.0, 0.0, 0.0, 0.0, 0.0, 0.0, 0.0, 0.0, 0.0, 0.0, 0.0, 0.0, 0.0, 0.0, 0.0, 0.0, 0.0, 0.0, 0.0, 0.0, 0.0, 0.0], [0.33508482575416565, 0.046269986778497696, 0.04785763472318649, 0.10917428135871887, 0.04435234144330025, 0.04490723833441734, 0.028443865478038788, 0.0792061910033226, 0.10731323063373566, 0.06832482665777206, 0.0890655592083931, 0.0, 0.0, 0.0, 0.0, 0.0, 0.0, 0.0, 0.0, 0.0, 0.0, 0.0, 0.0, 0.0, 0.0, 0.0, 0.0, 0.0, 0.0, 0.0, 0.0, 0.0, 0.0, 0.0, 0.0], [0.31157219409942627, 0.039277613162994385, 0.03521272912621498, 0.0755099505186081, 0.08078573644161224, 0.04503688961267471, 0.028806505724787712, 0.10218672454357147, 0.08797678351402283, 0.05585258826613426, 0.08571924269199371, 0.0520629808306694, 0.0, 0.0, 0.0, 0.0, 0.0, 0.0, 0.0, 0.0, 0.0, 0.0, 0.0, 0.0, 0.0, 0.0, 0.0, 0.0, 0.0, 0.0, 0.0, 0.0, 0.0, 0.0, 0.0], [0.36146947741508484, 0.06311225891113281, 0.026989925652742386, 0.07095800340175629, 0.039851728826761246, 0.02944651059806347, 0.02279636636376381, 0.07072699069976807, 0.11304391920566559, 0.03335518762469292, 0.03714418411254883, 0.04763944074511528, 0.08346596360206604, 0.0, 0.0, 0.0, 0.0, 0.0, 0.0, 0.0, 0.0, 0.0, 0.0, 0.0, 0.0, 0.0, 0.0, 0.0, 0.0, 0.0, 0.0, 0.0, 0.0, 0.0, 0.0], [0.26885923743247986, 0.032650746405124664, 0.03938186168670654, 0.05081145837903023, 0.08684229850769043, 0.04310199245810509, 0.017922358587384224, 0.06655362248420715, 0.07785409688949585, 0.04528901353478432, 0.06586868315935135, 0.046066053211688995, 0.07721764594316483, 0.08158092200756073, 0.0, 0.0, 0.0, 0.0, 0.0, 0.0, 0.0, 0.0, 0.0, 0.0, 0.0, 0.0, 0.0, 0.0, 0.0, 0.0, 0.0, 0.0, 0.0, 0.0, 0.0], [0.20790532231330872, 0.030814697965979576, 0.02946295589208603, 0.05067422240972519, 0.08743477612733841, 0.04770582914352417, 0.02733318693935871, 0.09152107685804367, 0.05214141681790352, 0.047082457691431046, 0.08081997185945511, 0.054532743990421295, 0.12074844539165497, 0.05516168847680092, 0.016661206260323524, 0.0, 0.0, 0.0, 0.0, 0.0, 0.0, 0.0, 0.0, 0.0, 0.0, 0.0, 0.0, 0.0, 0.0, 0.0, 0.0, 0.0, 0.0, 0.0, 0.0], [0.19932860136032104, 0.04206707701086998, 0.05715768411755562, 0.07193329930305481, 0.05065881833434105, 0.03152458742260933, 0.027136798948049545, 0.04140906035900116, 0.0932227075099945, 0.052022065967321396, 0.025422831997275352, 0.05927913263440132, 0.06613776832818985, 0.0958227589726448, 0.031632162630558014, 0.05524466186761856, 0.0, 0.0, 0.0, 0.0, 0.0, 0.0, 0.0, 0.0, 0.0, 0.0, 0.0, 0.0, 0.0, 0.0, 0.0, 0.0, 0.0, 0.0, 0.0], [0.23719795048236847, 0.030675798654556274, 0.029208479449152946, 0.05821240320801735, 0.060829851776361465, 0.03495609760284424, 0.024440525099635124, 0.07084919512271881, 0.059838566929101944, 0.03970346599817276, 0.05932588875293732, 0.03675239160656929, 0.07694026082754135, 0.06171645224094391, 0.014049737714231014, 0.06745625287294388, 0.03784665837883949, 0.0, 0.0, 0.0, 0.0, 0.0, 0.0, 0.0, 0.0, 0.0, 0.0, 0.0, 0.0, 0.0, 0.0, 0.0, 0.0, 0.0, 0.0], [0.24995319545269012, 0.026629488915205002, 0.03931758552789688, 0.04463214427232742, 0.07087576389312744, 0.03409420698881149, 0.02126503922045231, 0.05726422742009163, 0.05179663002490997, 0.03503985330462456, 0.0439227931201458, 0.03922876715660095, 0.061559148132801056, 0.051224224269390106, 0.015611969865858555, 0.08278119564056396, 0.0389174148440361, 0.03588637337088585, 0.0, 0.0, 0.0, 0.0, 0.0, 0.0, 0.0, 0.0, 0.0, 0.0, 0.0, 0.0, 0.0, 0.0, 0.0, 0.0, 0.0], [0.2226979285478592, 0.026518123224377632, 0.039789509028196335, 0.02760399878025055, 0.08196065574884415, 0.035829655826091766, 0.015378963202238083, 0.06874658912420273, 0.05343087762594223, 0.054698213934898376, 0.057215720415115356, 0.031615275889635086, 0.03717072308063507, 0.052282948046922684, 0.011851192452013493, 0.0720609501004219, 0.03087829239666462, 0.024411160498857498, 0.055859148502349854, 0.0, 0.0, 0.0, 0.0, 0.0, 0.0, 0.0, 0.0, 0.0, 0.0, 0.0, 0.0, 0.0, 0.0, 0.0, 0.0], [0.07419285178184509, 0.05092700198292732, 0.02823096141219139, 0.034200046211481094, 0.033614255487918854, 0.051822204142808914, 0.009658371098339558, 0.049406129866838455, 0.09883318096399307, 0.053564827889204025, 0.024581871926784515, 0.058791834861040115, 0.013026788830757141, 0.10889024287462234, 0.015677116811275482, 0.047666337341070175, 0.06507276743650436, 0.03886167332530022, 0.0398426316678524, 0.10313886404037476, 0.0, 0.0, 0.0, 0.0, 0.0, 0.0, 0.0, 0.0, 0.0, 0.0, 0.0, 0.0, 0.0, 0.0, 0.0], [0.22614894807338715, 0.025769883766770363, 0.033361680805683136, 0.04034486040472984, 0.06116844341158867, 0.03166026249527931, 0.023036977276206017, 0.04815824702382088, 0.04964129626750946, 0.02570328302681446, 0.051324233412742615, 0.029225796461105347, 0.046272363513708115, 0.046795476227998734, 0.010471494868397713, 0.04346739128232002, 0.027977747842669487, 0.03356108441948891, 0.03209924325346947, 0.05562405660748482, 0.058187272399663925, 0.0, 0.0, 0.0, 0.0, 0.0, 0.0, 0.0, 0.0, 0.0, 0.0, 0.0, 0.0, 0.0, 0.0], [0.1944299042224884, 0.020005803555250168, 0.02566997893154621, 0.027610069140791893, 0.07351990044116974, 0.025118572637438774, 0.016428440809249878, 0.05443365126848221, 0.04450266435742378, 0.022272855043411255, 0.029331285506486893, 0.03064262680709362, 0.06286600232124329, 0.043391648679971695, 0.010215998627245426, 0.09763482958078384, 0.029601432383060455, 0.028080472722649574, 0.037571635097265244, 0.05037401616573334, 0.06089740991592407, 0.015400809235870838, 0.0, 0.0, 0.0, 0.0, 0.0, 0.0, 0.0, 0.0, 0.0, 0.0, 0.0, 0.0, 0.0], [0.19766588509082794, 0.041157498955726624, 0.033601194620132446, 0.023870181292295456, 0.06633445620536804, 0.02801698073744774, 0.019582947716116905, 0.0517856664955616, 0.03159146010875702, 0.026536155492067337, 0.04164312779903412, 0.025757960975170135, 0.04328406602144241, 0.029939450323581696, 0.01275031641125679, 0.056069135665893555, 0.024677332490682602, 0.02150590717792511, 0.04559294134378433, 0.07480884343385696, 0.0443340539932251, 0.0219973623752594, 0.03749702498316765, 0.0, 0.0, 0.0, 0.0, 0.0, 0.0, 0.0, 0.0, 0.0, 0.0, 0.0, 0.0], [0.18043571710586548, 0.023349838331341743, 0.023929743096232414, 0.04454167187213898, 0.040705934166908264, 0.03654099628329277, 0.0166165791451931, 0.053235605359077454, 0.05028394237160683, 0.025846900418400764, 0.046051669865846634, 0.024920545518398285, 0.039760928601026535, 0.04893423616886139, 0.01239001750946045, 0.061916593462228775, 0.023965341970324516, 0.028754500672221184, 0.025095408782362938, 0.06865918636322021, 0.0735766738653183, 0.018046915531158447, 0.022800743579864502, 0.00964036863297224, 0.0, 0.0, 0.0, 0.0, 0.0, 0.0, 0.0, 0.0, 0.0, 0.0, 0.0], [0.2424635887145996, 0.024696454405784607, 0.03868826478719711, 0.03357228636741638, 0.05476619675755501, 0.033804696053266525, 0.020721618086099625, 0.032754622399806976, 0.04349980875849724, 0.018562650308012962, 0.03646848350763321, 0.031002480536699295, 0.03862546384334564, 0.03993181511759758, 0.010727162472903728, 0.038317687809467316, 0.029280319809913635, 0.02467813342809677, 0.02788931503891945, 0.04502159357070923, 0.043075986206531525, 0.016905825585126877, 0.023586302995681763, 0.007298629730939865, 0.043660618364810944, 0.0, 0.0, 0.0, 0.0, 0.0, 0.0, 0.0, 0.0, 0.0, 0.0], [0.11111284047365189, 0.02945876307785511, 0.024559462442994118, 0.030902519822120667, 0.0338648222386837, 0.03363064303994179, 0.012831446714699268, 0.030669279396533966, 0.06390532851219177, 0.023481514304876328, 0.025704601779580116, 0.037669792771339417, 0.016167867928743362, 0.06660738587379456, 0.017231758683919907, 0.030658669769763947, 0.03924047574400902, 0.02429523505270481, 0.02638878859579563, 0.058640267699956894, 0.10666140168905258, 0.017623892053961754, 0.02424543723464012, 0.018279599025845528, 0.036750201135873795, 0.05941800773143768, 0.0, 0.0, 0.0, 0.0, 0.0, 0.0, 0.0, 0.0, 0.0], [0.17855209112167358, 0.0437387153506279, 0.027772285044193268, 0.03288248926401138, 0.08083147555589676, 0.03614853322505951, 0.01943814568221569, 0.036047160625457764, 0.031540647149086, 0.02228383906185627, 0.02674207277595997, 0.020272959023714066, 0.04929490387439728, 0.028057048097252846, 0.010035551153123379, 0.028219014406204224, 0.018526621162891388, 0.025377947837114334, 0.039212293922901154, 0.052739884704351425, 0.02473510429263115, 0.028674786910414696, 0.029405999928712845, 0.013893156312406063, 0.017606467008590698, 0.05648736655712128, 0.02148347906768322, 0.0, 0.0, 0.0, 0.0, 0.0, 0.0, 0.0, 0.0], [0.15546517074108124, 0.049169376492500305, 0.02451593615114689, 0.02570052444934845, 0.05483130365610123, 0.04209272190928459, 0.011645044200122356, 0.06493961811065674, 0.031219737604260445, 0.026562772691249847, 0.02832685597240925, 0.018289048224687576, 0.03490862622857094, 0.02966100350022316, 0.008558593690395355, 0.046650469303131104, 0.017669815570116043, 0.023724373430013657, 0.019038736820220947, 0.0771576538681984, 0.027307381853461266, 0.01974775269627571, 0.02436412125825882, 0.014429948292672634, 0.018928347155451775, 0.05850560590624809, 0.024364057928323746, 0.02222543954849243, 0.0, 0.0, 0.0, 0.0, 0.0, 0.0, 0.0], [0.19332920014858246, 0.026298345997929573, 0.030392475426197052, 0.02961188182234764, 0.0452016219496727, 0.03307906165719032, 0.02184077352285385, 0.02659415826201439, 0.04538283124566078, 0.03843945264816284, 0.026915399357676506, 0.02453508973121643, 0.015795713290572166, 0.04036761447787285, 0.01063427235931158, 0.026345480233430862, 0.022409794852137566, 0.019946040585637093, 0.04401850327849388, 0.06709351390600204, 0.033454734832048416, 0.016084952279925346, 0.025615878403186798, 0.011409512721002102, 0.013623231090605259, 0.04055492579936981, 0.01666298136115074, 0.035898882895708084, 0.018463704735040665, 0.0, 0.0, 0.0, 0.0, 0.0, 0.0], [0.15965193510055542, 0.018642345443367958, 0.026677709072828293, 0.028047839179635048, 0.04907772317528725, 0.026045678183436394, 0.017807703465223312, 0.03679424151778221, 0.045969437807798386, 0.01911088638007641, 0.037963204085826874, 0.02762061357498169, 0.028341030701994896, 0.04296435788273811, 0.008847584016621113, 0.03253019601106644, 0.025659983977675438, 0.024485116824507713, 0.029966207221150398, 0.04054070636630058, 0.042335040867328644, 0.017694557085633278, 0.021217679604887962, 0.006380944978445768, 0.031033921986818314, 0.035579729825258255, 0.025066189467906952, 0.026607492938637733, 0.024308430030941963, 0.04303152114152908, 0.0, 0.0, 0.0, 0.0, 0.0], [0.1966170370578766, 0.019791385158896446, 0.033033326268196106, 0.025687076151371002, 0.0422060489654541, 0.031375814229249954, 0.01624363102018833, 0.030698416754603386, 0.03629425913095474, 0.02683933638036251, 0.026712186634540558, 0.023046312853693962, 0.021950097754597664, 0.033448364585638046, 0.010305727832019329, 0.022743655368685722, 0.02148079127073288, 0.021094737574458122, 0.03149039298295975, 0.036927297711372375, 0.037232112139463425, 0.015421999618411064, 0.01925233006477356, 0.0073204911313951015, 0.024766921997070312, 0.044391680508852005, 0.019850729033350945, 0.026133660227060318, 0.01812446303665638, 0.042709071189165115, 0.036810584366321564, 0.0, 0.0, 0.0, 0.0], [0.16313210129737854, 0.02293248660862446, 0.029583683237433434, 0.028615495190024376, 0.0377846397459507, 0.026518704369664192, 0.026229020208120346, 0.03103414736688137, 0.03483205288648605, 0.018975621089339256, 0.03320292755961418, 0.026435941457748413, 0.03230736777186394, 0.031329214572906494, 0.011727885343134403, 0.027169134467840195, 0.024106506258249283, 0.022620318457484245, 0.025755565613508224, 0.038014162331819534, 0.03207403048872948, 0.01735425926744938, 0.017987210303544998, 0.009293691255152225, 0.04247136414051056, 0.031215857714414597, 0.019006580114364624, 0.021523458883166313, 0.01754118874669075, 0.04014520347118378, 0.01816076599061489, 0.040919508785009384, 0.0, 0.0, 0.0], [0.15803848206996918, 0.01682882010936737, 0.02064237929880619, 0.04538252577185631, 0.04664172977209091, 0.027835238724946976, 0.020206505432724953, 0.042115096002817154, 0.03703447803854942, 0.01774458773434162, 0.030353322625160217, 0.024713633581995964, 0.034284867346286774, 0.033413708209991455, 0.009082168340682983, 0.035213761031627655, 0.022280123084783554, 0.020850006490945816, 0.02739020437002182, 0.03231463208794594, 0.0376492403447628, 0.014920787885785103, 0.016553672030568123, 0.006309076212346554, 0.023218732327222824, 0.027949871495366096, 0.023832257837057114, 0.015323556959629059, 0.017670491710305214, 0.026815267279744148, 0.022188853472471237, 0.028694553300738335, 0.03650735318660736, 0.0, 0.0], [0.17019405961036682, 0.03212590515613556, 0.02987009286880493, 0.019615577533841133, 0.05489378795027733, 0.036220598965883255, 0.0171522069722414, 0.032326601445674896, 0.0315006859600544, 0.02962452918291092, 0.029094267636537552, 0.016624264419078827, 0.02998979203402996, 0.027614125981926918, 0.010949765332043171, 0.03436654061079025, 0.014830099418759346, 0.015176065266132355, 0.03050290420651436, 0.041597459465265274, 0.02064121700823307, 0.017041221261024475, 0.026175441220402718, 0.010538812726736069, 0.0074417986907064915, 0.034391358494758606, 0.026077115908265114, 0.02961566112935543, 0.013693022541701794, 0.018074290826916695, 0.03374851867556572, 0.029002606868743896, 0.013117283582687378, 0.016172286123037338, 0.0], [0.11417391896247864, 0.016700686886906624, 0.02357623726129532, 0.03235283121466637, 0.05511363223195076, 0.029616661369800568, 0.017176378518342972, 0.059527840465307236, 0.0384342335164547, 0.020421102643013, 0.03235999122262001, 0.019217438995838165, 0.01913510449230671, 0.03519750386476517, 0.010996292345225811, 0.044014446437358856, 0.016835950314998627, 0.01621248573064804, 0.023840535432100296, 0.04231659695506096, 0.03716839477419853, 0.009007311426103115, 0.015979541465640068, 0.005828782916069031, 0.02082640491425991, 0.028255823999643326, 0.03160591423511505, 0.02425202913582325, 0.023285284638404846, 0.019917480647563934, 0.02455977164208889, 0.02195736952126026, 0.01319314818829298, 0.020208805799484253, 0.036734022200107574]]]}\n",
              "    )\n",
              "    </script>"
            ]
          },
          "metadata": {}
        }
      ],
      "source": [
        "import circuitsvis as cv\n",
        "from IPython.display import display\n",
        "\n",
        "html = cv.attention.attention_patterns(\n",
        "    tokens=reference_gpt2.to_str_tokens(reference_text),\n",
        "    attention=cache[\"pattern\", 0][0]\n",
        ")\n",
        "display(html)"
      ]
    },
    {
      "cell_type": "markdown",
      "metadata": {
        "id": "vcT1uWPGfHN2"
      },
      "source": [
        "You can also use the `attention_heads` function, which has similar syntax but presents the information in a different (sometimes more helpful) way.\n"
      ]
    },
    {
      "cell_type": "markdown",
      "metadata": {
        "id": "yMqCi5OYfHN2"
      },
      "source": [
        "<details>\n",
        "<summary>Help - my <code>attention_heads</code> plots are behaving weirdly.</summary>\n",
        "\n",
        "This seems to be a bug in `circuitsvis` - on VSCode, the attention head plots continually shrink in size.\n",
        "\n",
        "Until this is fixed, one way to get around it is to open the plots in your browser. You can do this inline with the `webbrowser` library:\n",
        "\n",
        "```python\n",
        "attn_heads = cv.attention.attention_heads(\n",
        "    tokens=reference_gpt2.to_str_tokens(reference_text),\n",
        "    attention=cache[\"pattern\", 0][0]\n",
        ")\n",
        "\n",
        "path = \"attn_heads.html\"\n",
        "\n",
        "with open(path, \"w\") as f:\n",
        "    f.write(str(attn_heads))\n",
        "\n",
        "webbrowser.open(path)\n",
        "```\n",
        "\n",
        "To check exactly where this is getting saved, you can print your current working directory with `os.getcwd()`.\n",
        "</details>\n"
      ]
    },
    {
      "cell_type": "markdown",
      "metadata": {
        "id": "972Ltv3vtDOH"
      },
      "source": [
        "---\n",
        "\n",
        "Note - don't worry if you don't get 100% accuracy here; the tests are pretty stringent. Even things like having your `einsum` input arguments in a different order might result in the output being very slightly different. You should be getting at least 99% accuracy though, so if the value is lower then this it probably means you've made a mistake somewhere.\n",
        "\n",
        "Also, this implementation will probably be the most challenging exercise on this page, so don't worry if it takes you some time! You should look at parts of the solution if you're stuck.\n"
      ]
    },
    {
      "cell_type": "markdown",
      "metadata": {
        "id": "CeWonT0afHN2"
      },
      "source": [
        "A couple of notes / hints:\n",
        "\n",
        "* Don't forget the attention score scaling (this should come before the masking).\n",
        "* You can use `torch.where`, or the `torch.masked_fill` function when masking the attention scores.\n",
        "* The `\"IGNORE\"` buffer is a very large negative number. This is the value you should mask your attention scores with (i.e. set them to this number wherever you want the probabilities to be zero). We indicate the existence of a `self.IGNORE` attribute to VSCode's typechecker via the line `IGNORE: Float[Tensor, \"\"]` in the second line of the code below.\n",
        "\n",
        "<details>\n",
        "<summary>Question - why do you think we mask the attention scores by setting them to a large negative number, rather than the attention probabilities by setting them to zero?</summary>\n",
        "\n",
        "If we masked the attention probabilities, then the probabilities would no longer sum to 1.\n",
        "\n",
        "We want to mask the scores and *then* take softmax, so that the probabilities are still valid probabilities (i.e. they sum to 1), and the values in the masked positions have no influence on the model's output.\n",
        "</details>\n"
      ]
    },
    {
      "cell_type": "code",
      "execution_count": 22,
      "metadata": {
        "id": "wNOKYkvom4R_"
      },
      "outputs": [],
      "source": [
        "class Attention(nn.Module):\n",
        "    IGNORE: Float[Tensor, \"\"]\n",
        "\n",
        "    def __init__(self, cfg: Config):\n",
        "        super().__init__()\n",
        "        self.cfg = cfg\n",
        "        self.W_Q = nn.Parameter(t.empty((cfg.n_heads, cfg.d_model, cfg.d_head)))\n",
        "        self.W_K = nn.Parameter(t.empty((cfg.n_heads, cfg.d_model, cfg.d_head)))\n",
        "        self.W_V = nn.Parameter(t.empty((cfg.n_heads, cfg.d_model, cfg.d_head)))\n",
        "        self.W_O = nn.Parameter(t.empty((cfg.n_heads, cfg.d_head, cfg.d_model)))\n",
        "        self.b_Q = nn.Parameter(t.zeros((cfg.n_heads, cfg.d_head)))\n",
        "        self.b_K = nn.Parameter(t.zeros((cfg.n_heads, cfg.d_head)))\n",
        "        self.b_V = nn.Parameter(t.zeros((cfg.n_heads, cfg.d_head)))\n",
        "        self.b_O = nn.Parameter(t.zeros((cfg.d_model)))\n",
        "        nn.init.normal_(self.W_Q, std=self.cfg.init_range)\n",
        "        nn.init.normal_(self.W_K, std=self.cfg.init_range)\n",
        "        nn.init.normal_(self.W_V, std=self.cfg.init_range)\n",
        "        nn.init.normal_(self.W_O, std=self.cfg.init_range)\n",
        "        self.register_buffer(\"IGNORE\", t.tensor(-1e5, dtype=t.float32, device=device))\n",
        "\n",
        "    def forward(\n",
        "        self, normalized_resid_pre: Float[Tensor, \"batch posn d_model\"]\n",
        "    ) -> Float[Tensor, \"batch posn d_model\"]:\n",
        "\n",
        "      #SHAPE WE WANT: [batch, seq_posn, head_index, d_head]\n",
        "\n",
        "     # Calculate query, key and value vectors\n",
        "      x = normalized_resid_pre\n",
        "\n",
        "      keys = einops.einsum(x,self.W_K, \"b p dm, h dm dh -> b p h dh\") + self.b_K\n",
        "      values = einops.einsum(x,self.W_V, \"b p dm, h dm dh -> b p h dh\") + self.b_V\n",
        "      queries = einops.einsum(x,self.W_Q, \"b p dm, h dm dh -> b p h dh\") + self.b_Q\n",
        "\n",
        "    # Calculate attention scores, then scale and mask, and apply softmax to get probabilities\n",
        "      a_scores = einops.einsum(queries,keys,\"b p1 h dh, b p2 h dh -> b h p1 p2\")\n",
        "      a_scores /= t.sqrt(self.cfg.d_head)\n",
        "      a = self.apply_casual_mask(a_scores)\n",
        "\n",
        "\n",
        "    # Take weighted sum of value vectors, according to attention probabilities\n",
        "\n",
        "\n",
        "    # Calculate output (by applying matrix W_O and summing over heads, then adding bias b_O)\n",
        "\n",
        "\n",
        "\n",
        "    def apply_causal_mask(\n",
        "        self, attn_scores: Float[Tensor, \"batch n_heads query_pos key_pos\"]\n",
        "    ) -> Float[Tensor, \"batch n_heads query_pos key_pos\"]:\n",
        "        '''\n",
        "        Applies a causal mask to attention scores, and returns masked scores.\n",
        "        '''\n",
        "\n",
        "        print(t.tril(t.ones([4,4])))\n",
        "\n",
        "\n",
        "\n",
        "# rand_float_test(Attention, [2, 4, 768])\n",
        "# load_gpt2_test(Attention, reference_gpt2.blocks[0].attn, cache[\"normalized\", 0, \"ln1\"])"
      ]
    },
    {
      "cell_type": "code",
      "source": [
        "class Attention(nn.Module):\n",
        "    IGNORE: Float[Tensor, \"\"]\n",
        "\n",
        "    def __init__(self, cfg: Config):\n",
        "        super().__init__()\n",
        "        self.cfg = cfg\n",
        "        self.W_Q = nn.Parameter(t.empty((cfg.n_heads, cfg.d_model, cfg.d_head)))\n",
        "        self.W_K = nn.Parameter(t.empty((cfg.n_heads, cfg.d_model, cfg.d_head)))\n",
        "        self.W_V = nn.Parameter(t.empty((cfg.n_heads, cfg.d_model, cfg.d_head)))\n",
        "        self.W_O = nn.Parameter(t.empty((cfg.n_heads, cfg.d_head, cfg.d_model)))\n",
        "        self.b_Q = nn.Parameter(t.zeros((cfg.n_heads, cfg.d_head)))\n",
        "        self.b_K = nn.Parameter(t.zeros((cfg.n_heads, cfg.d_head)))\n",
        "        self.b_V = nn.Parameter(t.zeros((cfg.n_heads, cfg.d_head)))\n",
        "        self.b_O = nn.Parameter(t.zeros((cfg.d_model)))\n",
        "        nn.init.normal_(self.W_Q, std=self.cfg.init_range)\n",
        "        nn.init.normal_(self.W_K, std=self.cfg.init_range)\n",
        "        nn.init.normal_(self.W_V, std=self.cfg.init_range)\n",
        "        nn.init.normal_(self.W_O, std=self.cfg.init_range)\n",
        "        self.register_buffer(\"IGNORE\", t.tensor(-1e5, dtype=t.float32, device=device))\n",
        "\n",
        "    def forward(\n",
        "        self, normalized_resid_pre: Float[Tensor, \"batch posn d_model\"]\n",
        "    ) -> Float[Tensor, \"batch posn d_model\"]:\n",
        "        # SOLUTION\n",
        "        # Calculate query, key and value vectors\n",
        "        q = einops.einsum(\n",
        "            normalized_resid_pre, self.W_Q,\n",
        "            \"batch posn d_model, nheads d_model d_head -> batch posn nheads d_head\",\n",
        "        ) + self.b_Q\n",
        "        k = einops.einsum(\n",
        "            normalized_resid_pre, self.W_K,\n",
        "            \"batch posn d_model, nheads d_model d_head -> batch posn nheads d_head\",\n",
        "        ) + self.b_K\n",
        "        v = einops.einsum(\n",
        "            normalized_resid_pre, self.W_V,\n",
        "            \"batch posn d_model, nheads d_model d_head -> batch posn nheads d_head\",\n",
        "        ) + self.b_V\n",
        "\n",
        "        # Calculate attention scores, then scale and mask, and apply softmax to get probabilities\n",
        "        attn_scores = einops.einsum(\n",
        "            q, k,\n",
        "            \"batch posn_Q nheads d_head, batch posn_K nheads d_head -> batch nheads posn_Q posn_K\",\n",
        "        )\n",
        "        attn_scores_masked = self.apply_causal_mask(attn_scores / self.cfg.d_head ** 0.5)\n",
        "        attn_pattern = attn_scores_masked.softmax(-1)\n",
        "\n",
        "        # Take weighted sum of value vectors, according to attention probabilities\n",
        "        z = einops.einsum(\n",
        "            v, attn_pattern,\n",
        "            \"batch posn_K nheads d_head, batch nheads posn_Q posn_K -> batch posn_Q nheads d_head\",\n",
        "        )\n",
        "\n",
        "        # Calculate output (by applying matrix W_O and summing over heads, then adding bias b_O)\n",
        "        attn_out = einops.einsum(\n",
        "            z, self.W_O,\n",
        "            \"batch posn_Q nheads d_head, nheads d_head d_model -> batch posn_Q d_model\",\n",
        "        ) + self.b_O\n",
        "\n",
        "        return attn_out\n",
        "\n",
        "    def apply_causal_mask(\n",
        "        self, attn_scores: Float[Tensor, \"batch n_heads query_pos key_pos\"]\n",
        "    ) -> Float[Tensor, \"batch n_heads query_pos key_pos\"]:\n",
        "        '''\n",
        "        Applies a causal mask to attention scores, and returns masked scores.\n",
        "        '''\n",
        "        # SOLUTION\n",
        "        # Define a mask that is True for all positions we want to set probabilities to zero for\n",
        "        all_ones = t.ones(attn_scores.size(-2), attn_scores.size(-1), device=attn_scores.device)\n",
        "        mask = t.triu(all_ones, diagonal=1).bool()\n",
        "        # Apply the mask to attention scores, then return the masked scores\n",
        "        attn_scores.masked_fill_(mask, self.IGNORE)\n",
        "        return attn_scores\n",
        "\n",
        "\n",
        "rand_float_test(Attention, [2, 4, 768])\n",
        "load_gpt2_test(Attention, reference_gpt2.blocks[0].attn, cache[\"normalized\", 0, \"ln1\"])"
      ],
      "metadata": {
        "colab": {
          "base_uri": "https://localhost:8080/"
        },
        "id": "mhgY34066i8s",
        "outputId": "67afe1c6-d547-4cd6-8e3a-d5e9066c99c8"
      },
      "execution_count": 23,
      "outputs": [
        {
          "output_type": "stream",
          "name": "stdout",
          "text": [
            "Input shape: torch.Size([2, 4, 768])\n",
            "Output shape: torch.Size([2, 4, 768]) \n",
            "\n",
            "Input shape: torch.Size([1, 35, 768])\n",
            "Output shape: torch.Size([1, 35, 768])\n",
            "Reference output shape: torch.Size([1, 35, 768]) \n",
            "\n",
            "100.00% of the values are correct\n",
            "\n"
          ]
        }
      ]
    },
    {
      "cell_type": "markdown",
      "metadata": {
        "id": "Cn0_PpeKt3UT"
      },
      "source": [
        "<details>\n",
        "<summary>Hint (pseudocode for both functions)</summary>\n",
        "\n",
        "```python\n",
        "def forward(\n",
        "    self, normalized_resid_pre: Float[Tensor, \"batch posn d_model\"]\n",
        ") -> Float[Tensor, \"batch posn d_model\"]:\n",
        "\n",
        "    # Calculate query, key and value vectors\n",
        "\n",
        "    # Calculate attention scores, then scale and mask, and apply softmax to get probabilities\n",
        "\n",
        "    # Take weighted sum of value vectors, according to attention probabilities\n",
        "\n",
        "    # Calculate output (by applying matrix W_O and summing over heads, then adding bias b_O)\n",
        "\n",
        "\n",
        "def apply_causal_mask(\n",
        "        self, attn_scores: Float[Tensor, \"batch n_heads query_pos key_pos\"]\n",
        "    ) -> Float[Tensor, \"batch n_heads query_pos key_pos\"]:\n",
        "\n",
        "    # Define a mask that is True for all positions we want to set probabilities to zero for\n",
        "\n",
        "    # Apply the mask to attention scores, then return the masked scores\n",
        "```\n",
        "</details>\n",
        "\n"
      ]
    },
    {
      "cell_type": "markdown",
      "metadata": {
        "id": "5phgYX4Um4SA"
      },
      "source": [
        "## MLP\n",
        "\n",
        "```c\n",
        "Difficulty: 🔴🔴⚪⚪⚪\n",
        "Importance: 🔵🔵🔵🔵⚪\n",
        "\n",
        "You should spend up to 10-15 minutes on this exercise.\n",
        "```\n",
        "\n",
        "Next, you should implement the MLP layer, which consists of:\n",
        "\n",
        "* A linear layer, with weight `W_in`, bias `b_in`\n",
        "* A nonlinear function (we usually use GELU; the function `gelu_new` has been imported for this purpose)\n",
        "* A linear layer, with weight `W_out`, bias `b_out`\n"
      ]
    },
    {
      "cell_type": "code",
      "execution_count": 24,
      "metadata": {
        "id": "5ByI-Sj2m4SA",
        "colab": {
          "base_uri": "https://localhost:8080/"
        },
        "outputId": "7b36bf92-12c9-453d-d9b1-46f471a871ca"
      },
      "outputs": [
        {
          "output_type": "stream",
          "name": "stdout",
          "text": [
            "Input shape: torch.Size([2, 4, 768])\n",
            "Output shape: torch.Size([2, 4, 768]) \n",
            "\n",
            "Input shape: torch.Size([1, 35, 768])\n",
            "Output shape: torch.Size([1, 35, 768])\n",
            "Reference output shape: torch.Size([1, 35, 768]) \n",
            "\n",
            "100.00% of the values are correct\n",
            "\n"
          ]
        }
      ],
      "source": [
        "class MLP(nn.Module):\n",
        "    def __init__(self, cfg: Config):\n",
        "        super().__init__()\n",
        "        self.cfg = cfg\n",
        "        self.W_in = nn.Parameter(t.empty((cfg.d_model, cfg.d_mlp)))\n",
        "        self.W_out = nn.Parameter(t.empty((cfg.d_mlp, cfg.d_model)))\n",
        "        self.b_in = nn.Parameter(t.zeros((cfg.d_mlp)))\n",
        "        self.b_out = nn.Parameter(t.zeros((cfg.d_model)))\n",
        "        nn.init.normal_(self.W_in, std=self.cfg.init_range)\n",
        "        nn.init.normal_(self.W_out, std=self.cfg.init_range)\n",
        "\n",
        "    def forward(\n",
        "        self, normalized_resid_mid: Float[Tensor, \"batch posn d_model\"]\n",
        "    ) -> Float[Tensor, \"batch posn d_model\"]:\n",
        "        x = normalized_resid_mid\n",
        "        x = einops.einsum(x, self.W_in, 'batch posn d_model, d_model d_mlp -> batch posn d_mlp')\n",
        "        x = x + self.b_in\n",
        "        x = gelu_new(x)\n",
        "        x = einops.einsum(x, self.W_out, 'batch posn d_mlp, d_mlp d_model -> batch posn d_model')\n",
        "        x = x + self.b_out\n",
        "        return x\n",
        "\n",
        "rand_float_test(MLP, [2, 4, 768])\n",
        "load_gpt2_test(MLP, reference_gpt2.blocks[0].mlp, cache[\"normalized\", 0, \"ln2\"])"
      ]
    },
    {
      "cell_type": "markdown",
      "metadata": {
        "id": "wZWuD4I4m4SA"
      },
      "source": [
        "## Transformer Block\n",
        "\n",
        "```c\n",
        "Difficulty: 🔴🔴⚪⚪⚪\n",
        "Importance: 🔵🔵🔵⚪⚪\n",
        "\n",
        "You should spend up to ~10 minutes on this exercise.\n",
        "```\n",
        "\n",
        "Now, we can put together the attention, MLP and layernorms into a single transformer block. Remember to implement the residual connections correctly!\n"
      ]
    },
    {
      "cell_type": "code",
      "execution_count": 25,
      "metadata": {
        "id": "ffiFxAJzm4SA",
        "colab": {
          "base_uri": "https://localhost:8080/"
        },
        "outputId": "bb441df3-870e-42cf-a364-c8fefc02a79e"
      },
      "outputs": [
        {
          "output_type": "stream",
          "name": "stdout",
          "text": [
            "Input shape: torch.Size([2, 4, 768])\n",
            "Output shape: torch.Size([2, 4, 768]) \n",
            "\n",
            "Input shape: torch.Size([1, 35, 768])\n",
            "Output shape: torch.Size([1, 35, 768])\n",
            "Reference output shape: torch.Size([1, 35, 768]) \n",
            "\n",
            "100.00% of the values are correct\n",
            "\n"
          ]
        }
      ],
      "source": [
        "class TransformerBlock(nn.Module):\n",
        "    def __init__(self, cfg: Config):\n",
        "        super().__init__()\n",
        "        self.cfg = cfg\n",
        "        self.ln1 = LayerNorm(cfg)\n",
        "        self.attn = Attention(cfg)\n",
        "        self.ln2 = LayerNorm(cfg)\n",
        "        self.mlp = MLP(cfg)\n",
        "\n",
        "    def forward(\n",
        "        self, resid_pre: Float[Tensor, \"batch position d_model\"]\n",
        "    ) -> Float[Tensor, \"batch position d_model\"]:\n",
        "        resid_pre = resid_pre + self.attn(self.ln1(resid_pre))\n",
        "        resid_pre = resid_pre + self.mlp(self.ln2(resid_pre))\n",
        "        return resid_pre\n",
        "\n",
        "rand_float_test(TransformerBlock, [2, 4, 768])\n",
        "load_gpt2_test(TransformerBlock, reference_gpt2.blocks[0], cache[\"resid_pre\", 0])"
      ]
    },
    {
      "cell_type": "markdown",
      "source": [],
      "metadata": {
        "id": "-kVoV8d65iL0"
      }
    },
    {
      "cell_type": "markdown",
      "source": [
        "<details>\n",
        "<summary>Help - I'm getting 100% accuracy on all modules before this point, but only about 90% accuracy on this one.</summary>\n",
        "\n",
        "This might be because your layernorm implementation divides by `std + eps` rather than `(var + eps).sqrt()`. The latter matches the implementation used by GPT-2 (and this error only shows up in these tests).\n",
        "\n",
        "</details>"
      ],
      "metadata": {
        "id": "07tkfme7HUfk"
      }
    },
    {
      "cell_type": "markdown",
      "metadata": {
        "id": "mgzAM-VQm4SA"
      },
      "source": [
        "## Unembedding\n",
        "\n",
        "```c\n",
        "Difficulty: 🔴🔴⚪⚪⚪\n",
        "Importance: 🔵🔵🔵⚪⚪\n",
        "\n",
        "You should spend up to ~10 minutes on this exercise.\n",
        "```\n",
        "\n",
        "The unembedding is just a linear layer (with weight `W_U` and bias `b_U`).\n"
      ]
    },
    {
      "cell_type": "code",
      "execution_count": 26,
      "metadata": {
        "id": "XEMB7p_Vm4SA",
        "colab": {
          "base_uri": "https://localhost:8080/"
        },
        "outputId": "2a38747a-1c02-4552-cc2f-5edf217aa82b"
      },
      "outputs": [
        {
          "output_type": "stream",
          "name": "stdout",
          "text": [
            "Input shape: torch.Size([2, 4, 768])\n",
            "Output shape: torch.Size([2, 4, 50257]) \n",
            "\n",
            "Input shape: torch.Size([1, 35, 768])\n",
            "Output shape: torch.Size([1, 35, 50257])\n",
            "Reference output shape: torch.Size([1, 35, 50257]) \n",
            "\n",
            "100.00% of the values are correct\n",
            "\n"
          ]
        }
      ],
      "source": [
        "class Unembed(nn.Module):\n",
        "    def __init__(self, cfg):\n",
        "        super().__init__()\n",
        "        self.cfg = cfg\n",
        "        self.W_U = nn.Parameter(t.empty((cfg.d_model, cfg.d_vocab)))\n",
        "        nn.init.normal_(self.W_U, std=self.cfg.init_range)\n",
        "        self.b_U = nn.Parameter(t.zeros((cfg.d_vocab), requires_grad=False))\n",
        "\n",
        "    def forward(\n",
        "        self, normalized_resid_final: Float[Tensor, \"batch position d_model\"]\n",
        "    ) -> Float[Tensor, \"batch position d_vocab\"]:\n",
        "        return einops.einsum(normalized_resid_final, self.W_U, 'batch position d_model, d_model d_vocab -> batch position d_vocab') + self.b_U\n",
        "\n",
        "rand_float_test(Unembed, [2, 4, 768])\n",
        "load_gpt2_test(Unembed, reference_gpt2.unembed, cache[\"ln_final.hook_normalized\"])"
      ]
    },
    {
      "cell_type": "markdown",
      "metadata": {
        "id": "_eRyuDxLm4SB"
      },
      "source": [
        "## Full Transformer\n",
        "\n",
        "```c\n",
        "Difficulty: 🔴🔴⚪⚪⚪\n",
        "Importance: 🔵🔵🔵⚪⚪\n",
        "\n",
        "You should spend up to ~10 minutes on this exercise.\n",
        "```\n"
      ]
    },
    {
      "cell_type": "code",
      "execution_count": 27,
      "metadata": {
        "id": "KCCrXlzYm4SB",
        "colab": {
          "base_uri": "https://localhost:8080/"
        },
        "outputId": "de57f6a8-4e7f-4cfd-b95e-ea3e6ad647eb"
      },
      "outputs": [
        {
          "output_type": "stream",
          "name": "stdout",
          "text": [
            "Input shape: torch.Size([2, 4])\n",
            "Output shape: torch.Size([2, 4, 50257]) \n",
            "\n",
            "Input shape: torch.Size([1, 45])\n",
            "Output shape: torch.Size([1, 45, 50257])\n",
            "Reference output shape: torch.Size([1, 45, 50257]) \n",
            "\n",
            "100.00% of the values are correct\n",
            "\n"
          ]
        }
      ],
      "source": [
        "class DemoTransformer(nn.Module):\n",
        "    def __init__(self, cfg: Config):\n",
        "        super().__init__()\n",
        "        self.cfg = cfg\n",
        "        self.embed = Embed(cfg)\n",
        "        self.pos_embed = PosEmbed(cfg)\n",
        "        self.blocks = nn.ModuleList([TransformerBlock(cfg) for _ in range(cfg.n_layers)])\n",
        "        self.blocks_ = nn.Sequential(*self.blocks)\n",
        "        self.ln_final = LayerNorm(cfg)\n",
        "        self.unembed = Unembed(cfg)\n",
        "\n",
        "    def forward(self, tokens: Int[Tensor, \"batch position\"]) -> Float[Tensor, \"batch position d_vocab\"]:\n",
        "        x = self.embed(tokens) + self.pos_embed(tokens)\n",
        "        x = self.blocks_(x)\n",
        "        x = self.ln_final(x)\n",
        "        x = self.unembed(x)\n",
        "        return x\n",
        "\n",
        "rand_int_test(DemoTransformer, [2, 4])\n",
        "load_gpt2_test(DemoTransformer, reference_gpt2, tokens)"
      ]
    },
    {
      "cell_type": "markdown",
      "metadata": {
        "id": "yNwh7R1em4SB"
      },
      "source": [
        "**Try it out!**\n"
      ]
    },
    {
      "cell_type": "code",
      "execution_count": 28,
      "metadata": {
        "id": "deE6uPlxm4SB"
      },
      "outputs": [],
      "source": [
        "demo_gpt2 = DemoTransformer(Config(debug=False)).to(device)\n",
        "demo_gpt2.load_state_dict(reference_gpt2.state_dict(), strict=False)\n",
        "\n",
        "demo_logits = demo_gpt2(tokens)"
      ]
    },
    {
      "cell_type": "markdown",
      "metadata": {
        "id": "gAhstai4m4SB"
      },
      "source": [
        "Let's take a test string, and calculate the loss!\n",
        "\n",
        "We're using the formula for **cross-entropy loss**. The cross entropy loss between a modelled distribution $Q$ and target distribution $P$ is:\n",
        "\n",
        "$$\n",
        "-\\sum_x P(x) \\log Q(x)\n",
        "$$\n",
        "\n",
        "In the case where $P$ is just the empirical distribution from target classes (i.e. $P(x^*) = 1$ for the correct class $x^*$) then this becomes:\n",
        "\n",
        "$$\n",
        "-\\log Q(x^*)\n",
        "$$\n",
        "\n",
        "in other words, the negative log prob of the true classification.\n"
      ]
    },
    {
      "cell_type": "code",
      "execution_count": 29,
      "metadata": {
        "id": "UtO9ZsL6m4SB",
        "colab": {
          "base_uri": "https://localhost:8080/"
        },
        "outputId": "869d8789-caf0-43b1-af28-b615fb9eae2d"
      },
      "outputs": [
        {
          "output_type": "stream",
          "name": "stdout",
          "text": [
            "Avg cross entropy loss: 4.0442\n",
            "Avg cross entropy loss for uniform distribution: 10.824905\n",
            "Avg probability assigned to correct token: 0.098628\n"
          ]
        }
      ],
      "source": [
        "def get_log_probs(\n",
        "    logits: Float[Tensor, \"batch posn d_vocab\"],\n",
        "    tokens: Int[Tensor, \"batch posn\"]\n",
        ") -> Float[Tensor, \"batch posn-1\"]:\n",
        "\n",
        "    log_probs = logits.log_softmax(dim=-1)\n",
        "    # Get logprobs the first seq_len-1 predictions (so we can compare them with the actual next tokens)\n",
        "    log_probs_for_tokens = log_probs[:, :-1].gather(dim=-1, index=tokens[:, 1:].unsqueeze(-1)).squeeze(-1)\n",
        "\n",
        "    return log_probs_for_tokens\n",
        "\n",
        "\n",
        "pred_log_probs = get_log_probs(demo_logits, tokens)\n",
        "print(f\"Avg cross entropy loss: {-pred_log_probs.mean():.4f}\")\n",
        "print(f\"Avg cross entropy loss for uniform distribution: {math.log(demo_gpt2.cfg.d_vocab):4f}\")\n",
        "print(f\"Avg probability assigned to correct token: {pred_log_probs.exp().mean():4f}\")"
      ]
    },
    {
      "cell_type": "markdown",
      "metadata": {
        "id": "cOChhr71m4SC"
      },
      "source": [
        "We can also greedily generate text, by taking the most likely next token and continually appending it to our prompt before feeding it back into the model:\n"
      ]
    },
    {
      "cell_type": "code",
      "execution_count": 30,
      "metadata": {
        "id": "IPEmKN1Bm4SC",
        "colab": {
          "base_uri": "https://localhost:8080/",
          "height": 86,
          "referenced_widgets": [
            "61f7d0e6f30744b1b4bb772a4af5b4a3",
            "d6e4a4a0ce62410a902e208cdd63f719",
            "25ae6947923843aabe2e02dc5c90c656",
            "eafe05ec67ce4ddd9e04b2d30a292a3e",
            "6e64437763a54bb0af3939e78f55d0d6",
            "b77328da903b415db86e2e3b3ced84f7",
            "063fb3a55a9e41069d1feabed6cd893b",
            "be1777d53dfc4b079af33e500f89f5a8",
            "c449a77de296471caa2545331c8a21f4",
            "19ad4327f3e54d9e89ff2d8e1e1ec66c",
            "caff549e0f374d6e835bce8888c4c68a"
          ]
        },
        "outputId": "ecd35857-4fdc-470b-db41-56fd1821c56d"
      },
      "outputs": [
        {
          "output_type": "display_data",
          "data": {
            "text/plain": [
              "  0%|          | 0/100 [00:00<?, ?it/s]"
            ],
            "application/vnd.jupyter.widget-view+json": {
              "version_major": 2,
              "version_minor": 0,
              "model_id": "61f7d0e6f30744b1b4bb772a4af5b4a3"
            }
          },
          "metadata": {}
        },
        {
          "output_type": "stream",
          "name": "stdout",
          "text": [
            "The Total Perspective Vortex derives its picture of the whole Universe on the principle of the total perspective. The total perspective is the view of the whole Universe from the point of view of the observer. The total perspective is the view of the whole Universe from the point of view of the observer. The total perspective is the view of the whole Universe from the point of view of the observer. The total perspective is the view of the whole Universe from the point of view of the observer. The total perspective is the view of the whole Universe from the point of view of the observer. The\n"
          ]
        }
      ],
      "source": [
        "test_string = '''The Total Perspective Vortex derives its picture of the whole Universe on the principle of'''\n",
        "for i in tqdm(range(100)):\n",
        "    test_tokens = reference_gpt2.to_tokens(test_string).to(device)\n",
        "    demo_logits = demo_gpt2(test_tokens)\n",
        "    test_string += reference_gpt2.tokenizer.decode(demo_logits[-1, -1].argmax())\n",
        "\n",
        "print(test_string)"
      ]
    },
    {
      "cell_type": "markdown",
      "metadata": {
        "id": "tGrShZtp0O0E"
      },
      "source": [
        "In later sections, we'll learn to generate text in slightly more interesting ways than just argmaxing the output.\n"
      ]
    },
    {
      "cell_type": "markdown",
      "metadata": {
        "id": "QfeyG6NZm4SC"
      },
      "source": [
        "# 3️⃣ Training a Transformer\n"
      ]
    },
    {
      "cell_type": "markdown",
      "source": [
        "> ##### Learning objectives\n",
        ">\n",
        "> * Understand how to train a transformer from scratch\n",
        "> * Write a basic transformer training loop\n",
        "> * Interpret the transformer's falling cross entropy loss with reference to features of the training data (e.g. bigram frequencies)\n"
      ],
      "metadata": {
        "id": "RGFuGCKtnNy3"
      }
    },
    {
      "cell_type": "markdown",
      "source": [
        "Now that we've built our transformer, and verified that it performs as expected when we load in weights, let's try training it from scratch!\n",
        "\n",
        "This is a lightweight demonstration of how you can actually train your own GPT-2 with this code! Here we train a tiny model on a tiny dataset, but it's fundamentally the same code for training a larger/more real model (though you'll need beefier GPUs and data parallelism to do it remotely efficiently, and fancier parallelism for much bigger ones).\n",
        "\n",
        "For our purposes, we'll train 2L 4 heads per layer model, with context length 256, for 10*200 steps of batch size 16, just to show what it looks like (and so the notebook doesn't melt your colab / machine!)."
      ],
      "metadata": {
        "id": "K6oZKflnnXgj"
      }
    },
    {
      "cell_type": "markdown",
      "source": [
        "## Create Model"
      ],
      "metadata": {
        "id": "-VB5ELjInZzj"
      }
    },
    {
      "cell_type": "code",
      "source": [
        "model_cfg = Config(\n",
        "    debug=False,\n",
        "    d_model=256,\n",
        "    n_heads=4,\n",
        "    d_head=64,\n",
        "    d_mlp=1024,\n",
        "    n_layers=2,\n",
        "    n_ctx=256,\n",
        "    d_vocab=reference_gpt2.cfg.d_vocab\n",
        ")\n",
        "model = DemoTransformer(model_cfg)"
      ],
      "metadata": {
        "id": "4TMr-rMQnayL"
      },
      "execution_count": 31,
      "outputs": []
    },
    {
      "cell_type": "markdown",
      "source": [
        "## Training Args\n",
        "\n",
        "\n",
        "Note, for this optimization we'll be using **weight decay**."
      ],
      "metadata": {
        "id": "ggSGeTT_nb5Z"
      }
    },
    {
      "cell_type": "code",
      "source": [
        "@dataclass\n",
        "class TransformerTrainingArgs():\n",
        "\tbatch_size = 16\n",
        "\tepochs = 10\n",
        "\tmax_steps_per_epoch = 200\n",
        "\tlr = 1e-3\n",
        "\tweight_decay = 1e-2\n",
        "\twandb_project: Optional[str] = \"day1-demotransformer\"\n",
        "\twandb_name: Optional[str] = None\n",
        "\n",
        "\n",
        "args = TransformerTrainingArgs()"
      ],
      "metadata": {
        "id": "95hodhD_ndRy"
      },
      "execution_count": 32,
      "outputs": []
    },
    {
      "cell_type": "markdown",
      "source": [
        "## Create Data\n",
        "\n",
        "We load in a tiny dataset made by Neel Nanda, with the first 10K entries in the Pile (inspired by Stas' version for OpenWebText!)"
      ],
      "metadata": {
        "id": "lR8gVegcnfW2"
      }
    },
    {
      "cell_type": "code",
      "source": [
        "dataset = datasets.load_dataset(\"NeelNanda/pile-10k\", split=\"train\").remove_columns(\"meta\")\n",
        "print(dataset)\n",
        "print(dataset[0]['text'][:100])"
      ],
      "metadata": {
        "id": "9udsnznsnik8",
        "colab": {
          "base_uri": "https://localhost:8080/"
        },
        "outputId": "46e7b4b0-2046-4279-b19b-f6f9874d5730"
      },
      "execution_count": 33,
      "outputs": [
        {
          "output_type": "stream",
          "name": "stdout",
          "text": [
            "Dataset({\n",
            "    features: ['text'],\n",
            "    num_rows: 10000\n",
            "})\n",
            "It is done, and submitted. You can play “Survival of the Tastiest” on Android, and on the web. Playi\n"
          ]
        }
      ]
    },
    {
      "cell_type": "markdown",
      "source": [
        "`tokenize_and_concatenate` is a useful function which takes our dataset of strings, and returns a dataset of token IDs ready to feed into the model. We then create a dataloader from this tokenized dataset. The useful method `train_test_split` can give us a training and testing set.\n"
      ],
      "metadata": {
        "id": "chj2r8J-njhC"
      }
    },
    {
      "cell_type": "code",
      "source": [
        "tokenized_dataset = tokenize_and_concatenate(dataset, reference_gpt2.tokenizer, streaming=False, max_length=model.cfg.n_ctx, column_name=\"text\", add_bos_token=True, num_proc=4)\n",
        "\n",
        "dataset_dict = tokenized_dataset.train_test_split(test_size=1000)\n",
        "train_loader = DataLoader(dataset_dict[\"train\"], batch_size=args.batch_size, shuffle=True, num_workers=4, pin_memory=True)\n",
        "test_loader = DataLoader(dataset_dict[\"test\"], batch_size=args.batch_size, shuffle=False, num_workers=4, pin_memory=True)"
      ],
      "metadata": {
        "id": "mgogWcLUnk0U"
      },
      "execution_count": 34,
      "outputs": []
    },
    {
      "cell_type": "markdown",
      "source": [
        "When we iterate through these dataloaders, we will find dictionaries with the single key `'tokens'`, which maps to a tensor of token IDs with shape `(batch, seq_len)`."
      ],
      "metadata": {
        "id": "Fcx4oMaInlpi"
      }
    },
    {
      "cell_type": "code",
      "source": [
        "first_batch = train_loader.dataset[:args.batch_size]\n",
        "\n",
        "print(first_batch.keys())\n",
        "print(first_batch['tokens'].shape)"
      ],
      "metadata": {
        "id": "Y_Y7vD8BnqK-",
        "colab": {
          "base_uri": "https://localhost:8080/"
        },
        "outputId": "8205e235-f359-403b-da4e-f1878cfa8bb3"
      },
      "execution_count": 35,
      "outputs": [
        {
          "output_type": "stream",
          "name": "stdout",
          "text": [
            "dict_keys(['tokens'])\n",
            "torch.Size([16, 256])\n"
          ]
        }
      ]
    },
    {
      "cell_type": "markdown",
      "source": [
        "## Training Loop\n",
        "\n",
        "If you did the material on [training loops](https://arena-ch0-fundamentals.streamlit.app/[0.3]_ResNets#training-loop) during the first week, this should all be familiar to you. If not, you can skim that section for an overview of the key concepts. The start of the **Training loop** section is most important, and the subsections on [Modularisation](https://arena-ch0-fundamentals.streamlit.app/[0.3]_ResNets#modularisation) and [dataclasses](https://arena-ch0-fundamentals.streamlit.app/[0.3]_ResNets#aside-dataclasses) are also very useful. Lastly, we'll also be using Weights and Biases to train our model - you can read about how to use it [here](https://arena-ch0-fundamentals.streamlit.app/[0.4]_Optimization#what-is-weights-and-biases). Here are (roughly) all the things you should know for the following exercises:\n",
        "                \n",
        "* The key parts of a gradient update step are:\n",
        "    * Calculating the (cross-entropy) loss between a model's output and the true labels,\n",
        "    * `loss.backward()` - calculate gradients of the loss with respect to the model parameters,\n",
        "    * `optimizer.step()` - update the model parameters using the gradients,\n",
        "    * `optimizer.zero_grad()` - zero the gradients so they don't accumulate.\n",
        "* We can nicely package up training loops into a class, which includes methods for training and validation steps among other things. This helps with writing code that can be reused in different contexts.\n",
        "* We can use dataclasses to store all the arguments relevant to training in one place, and then pass them to our trainer class. Autocompletion is one nice bonus of this!\n",
        "    * Be careful of scope here, you want to make sure you're referring to `self.args` within the trainer class, rather than the global `args`.\n",
        "* You can use Weights and Biases to track experiments and log relevant variables. The three essential functions are:\n",
        "    * `wandb.init()` - initialize a new run, takes arguments `project`, `name` and `config` (among others).\n",
        "    * `wandb.log()` - log a dictionary of variables, e.g. `{\"loss\": loss}`. Also takes a `step` argument.\n",
        "    * `wandb.finish()` - called at the end of training (no arguments)."
      ],
      "metadata": {
        "id": "hyjlKG-AnrZc"
      }
    },
    {
      "cell_type": "markdown",
      "source": [
        "### Exercise - write training loop\n",
        "\n",
        "```c\n",
        "Difficulty: 🔴🔴🔴⚪⚪\n",
        "Importance: 🔵🔵🔵🔵⚪\n",
        "\n",
        "You should spend up to 10-20 minutes on this exercise.\n",
        "```"
      ],
      "metadata": {
        "id": "tvM-W_TGnuoN"
      }
    },
    {
      "cell_type": "markdown",
      "source": [
        "You should fill in the methods below. Some guidance:\n",
        "\n",
        "* Remember we were able to calculate cross entropy loss using the `get_log_probs` function in the previous section.\n",
        "* You should use the optimizer `t.optim.AdamW` (Adam with weight decay), and with hyperparameters `lr` and `weight_decay` taken from your `TransformerTrainingArgs` dataclass instance.\n",
        "* The easiest way to compute accuracy is to have the `validation_step` method return a 1D boolean tensor indicating the positions where the model's prediction was correct. Then you can concatenate all these tensors together and take the mean to get the overall accuracy for the epoch.\n",
        "* We've given you the argument `max_steps_per_epoch`, a hacky way of making sure the training phase in each epoch doesn't go on for too long. You can terminate each training phase after this many steps.\n",
        "* Remember to move tokens to your device, via `tokens.to(device)` (this should be a global variable, defined at the top of your notebook).\n",
        "* You can refer back to the training loops from the [previous chapter of the course](https://arena-ch0-fundamentals.streamlit.app/[0.3]_ResNets#training-loop) if you'd like.\n"
      ],
      "metadata": {
        "id": "2qbuJ4winvyY"
      }
    },
    {
      "cell_type": "code",
      "source": [
        "class TransformerTrainer:\n",
        "\tdef __init__(self, args: TransformerTrainingArgs, model: DemoTransformer):\n",
        "\t\tsuper().__init__()\n",
        "\t\tself.model = model\n",
        "\t\tself.args = args\n",
        "\t\tself.optimizer = t.optim.AdamW(self.model.parameters(), lr=args.lr, weight_decay=args.weight_decay)\n",
        "\t\tself.step = 0\n",
        "\n",
        "\n",
        "\tdef training_step(self, batch: Dict[str, Int[Tensor, \"batch seq\"]]) -> Float[Tensor, \"\"]:\n",
        "\t\t'''\n",
        "\t\tCalculates the loss on the tokens in the batch, performs a gradient update step, and logs the loss.\n",
        "\n",
        "\t\tRemember that `batch` is a dictionary with the single key 'tokens'.\n",
        "\t\t'''\n",
        "\t\tbatch = batch['tokens'].to(device)\n",
        "\t\tlabels = batch[:, 1:]\n",
        "\t\tlogits = self.model(batch[:, :-1])\n",
        "\t\tlog_probs = get_log_probs(logits, labels)\n",
        "\t\tloss = -log_probs.mean()\n",
        "\t\tself.optimizer.zero_grad()\n",
        "\t\tloss.backward()\n",
        "\t\tself.optimizer.step()\n",
        "\t\twandb.log({'loss': loss.item()}, step=self.step)\n",
        "\t\treturn loss\n",
        "\n",
        "\tdef validation_step(self, batch: Dict[str, Int[Tensor, \"batch seq\"]]):\n",
        "\t\t'''\n",
        "\t\tCalculates & returns the accuracy on the tokens in the batch (i.e. how often the model's prediction\n",
        "\t\tis correct). Logging should happen in the `train` function (after we've computed the accuracy for\n",
        "\t\tthe whole validation set).\n",
        "\t\t'''\n",
        "\t\tbatch = batch['tokens'].to(device)\n",
        "\t\tlabels = batch[:, 1:]\n",
        "\t\tlogits = self.model(batch[:, :-1])\n",
        "\t\tgood = logits.argmax(-1) == labels\n",
        "\t\treturn good.float().mean()\n",
        "\n",
        "\tdef train(self):\n",
        "\t\t'''\n",
        "\t\tTrains the model, for `self.args.epochs` epochs. Also handles wandb initialisation, and early stopping\n",
        "\t\tfor each epoch at `self.args.max_steps_per_epoch` steps.\n",
        "\t\t'''\n",
        "\t\twandb.init()\n",
        "\t\tfor epoch in tqdm(range(self.args.epochs)):\n",
        "\t\t\tfor batch_num, batch in enumerate(self.train_loader()):\n",
        "\t\t\t\tif batch_num > self.args.max_steps_per_epoch: break\n",
        "\t\t\t\tself.step += 1\n",
        "\t\t\t\tself.training_step(batch)\n",
        "\t\t\tvalidation_loss = self.validation_step(next(iter(self.test_loader())))\n",
        "\t\t\twandb.log({'validation_accuracy': validation_loss}, step=self.step)\n",
        "\t\twandb.finish()\n",
        "\n",
        "\tdef train_loader(self) -> DataLoader:\n",
        "\t\t'''Returns train loader (as in code above).'''\n",
        "\t\treturn DataLoader(dataset_dict[\"train\"], batch_size=self.args.batch_size, shuffle=True, num_workers=4, pin_memory=True)\n",
        "\n",
        "\n",
        "\tdef test_loader(self) -> DataLoader:\n",
        "\t\t'''Returns test loader (as in code above).'''\n",
        "\t\treturn DataLoader(dataset_dict[\"test\"], batch_size=self.args.batch_size, shuffle=False, num_workers=4, pin_memory=True)"
      ],
      "metadata": {
        "id": "zVBEDTGMnxSk"
      },
      "execution_count": 36,
      "outputs": []
    },
    {
      "cell_type": "markdown",
      "source": [
        "Note - this section of the course used to use PyTorch Lightning, but this has now been taken out. You can see the old version of the training code which used PyTorch Lightning in the dropdown below.\n",
        "\n",
        "<details>\n",
        "<summary>PyTorch Lighting training loop</summary>\n",
        "\n",
        "```python\n",
        "class LitTransformer(pl.LightningModule):\n",
        "\tdef __init__(self, args: TransformerTrainingArgs, model: DemoTransformer, data_loader: DataLoader):\n",
        "\t\tsuper().__init__()\n",
        "\t\tself.model = model\n",
        "\t\tself.cfg = model.cfg\n",
        "\t\tself.args = args\n",
        "\t\tself.data_loader = data_loader\n",
        "\n",
        "\tdef forward(self, tokens: Int[Tensor, \"batch position\"]) -> Float[Tensor, \"batch position d_vocab\"]:\n",
        "\t\tlogits = self.model(tokens)\n",
        "\t\treturn logits\n",
        "\n",
        "\tdef training_step(self, batch: Dict[str, Tensor], batch_idx: int) -> Float[Tensor, \"\"]:\n",
        "\t\t'''\n",
        "\t\tHere you compute and return the training loss and some additional metrics for e.g.\n",
        "\t\tthe progress bar or logger.\n",
        "\t\t'''\n",
        "\t\ttokens = batch[\"tokens\"].to(device)\n",
        "\t\tlogits = self.model(tokens)\n",
        "\t\tloss = -get_log_probs(logits, tokens).mean()\n",
        "\t\tself.log(\"train_loss\", loss)\n",
        "\t\treturn loss\n",
        "\n",
        "\tdef configure_optimizers(self):\n",
        "\t\t'''\n",
        "\t\tChoose what optimizers and learning-rate schedulers to use in your optimization.\n",
        "\t\t'''\n",
        "\t\toptimizer = t.optim.AdamW(self.model.parameters(), lr=self.args.lr, weight_decay=self.args.weight_decay)\n",
        "\t\treturn optimizer\n",
        "\n",
        "\tdef train_dataloader(self):\n",
        "\t\treturn self.data_loader\n",
        "\n",
        "\n",
        "litmodel = LitTransformer(args, model, data_loader)\n",
        "logger = WandbLogger(save_dir=args.log_dir, project=args.log_name, name=args.run_name)\n",
        "\n",
        "trainer = pl.Trainer(\n",
        "    max_epochs=args.max_epochs,\n",
        "    logger=logger,\n",
        "    log_every_n_steps=args.log_every_n_steps\n",
        ")\n",
        "trainer.fit(model=litmodel, train_dataloaders=litmodel.data_loader)\n",
        "wandb.finish()\n",
        "```\n",
        "\n",
        "</details>"
      ],
      "metadata": {
        "id": "yvyAODwP3D8K"
      }
    },
    {
      "cell_type": "code",
      "source": [
        "model = DemoTransformer(model_cfg).to(device)\n",
        "args = TransformerTrainingArgs()\n",
        "trainer = TransformerTrainer(args, model)\n",
        "# trainer.train()"
      ],
      "metadata": {
        "id": "nWJyh1lon0IH"
      },
      "execution_count": 37,
      "outputs": []
    },
    {
      "cell_type": "markdown",
      "source": [
        "When you run the code for the first time, you'll have to login to Weights and Biases, and paste an API key into VSCode. After this is done, your Weights and Biases training run will start. It'll give you a lot of output text, one line of which will look like:\n",
        "\n",
        "```\n",
        "View run at https://wandb.ai/<USERNAME>/<PROJECT-NAME>/runs/<RUN-NAME>\n",
        "```\n",
        "\n",
        "which you can click on to visit the run page.\n",
        "\n",
        "> Note - to see the plots more clearly in Weights and Biases, you can click on the **edit panel** of your plot (the small pencil symbol at the top-right), then move the **smoothing** slider to the right."
      ],
      "metadata": {
        "id": "bypGwSMYn2Bl"
      }
    },
    {
      "cell_type": "markdown",
      "source": [
        "### A note on this loss curve (optional)\n",
        "\n",
        "\n",
        "What's up with the shape of our loss curve? It seems like we start at around 10-11, drops down very fast, but then levels out. It turns out, this is all to do with the kinds of algorithms the model learns during training.\n",
        "\n",
        "When it starts out, your model will be outputting random noise, which might look a lot like \"predict each token with approximately uniform probability\", i.e. $Q(x) = 1/d_\\text{vocab}$ for all $x$. This gives us a cross entropy loss of $\\log (d_\\text{vocab})$.\n",
        "\n"
      ],
      "metadata": {
        "id": "VLJL82W0oWzF"
      }
    },
    {
      "cell_type": "code",
      "source": [
        "d_vocab = model.cfg.d_vocab\n",
        "\n",
        "print(f\"d_vocab = {d_vocab}\")\n",
        "print(f\"Cross entropy loss on uniform distribution = {math.log(d_vocab)}\")"
      ],
      "metadata": {
        "id": "n0_NVezboOHw",
        "colab": {
          "base_uri": "https://localhost:8080/"
        },
        "outputId": "3cbfc56d-af1b-4107-f2ac-cc68ca92dadf"
      },
      "execution_count": 38,
      "outputs": [
        {
          "output_type": "stream",
          "name": "stdout",
          "text": [
            "d_vocab = 50257\n",
            "Cross entropy loss on uniform distribution = 10.82490511970208\n"
          ]
        }
      ]
    },
    {
      "cell_type": "markdown",
      "source": [
        "The next thing we might expect the model to learn is the frequencies of words in the english language. After all, small common tokens like `\" and\"` or `\" the\"` might appear much more frequently than others. This would give us an average cross entropy loss of:\n",
        "\n",
        "$$\n",
        "- \\sum_x p_x \\log p_x\n",
        "$$\n",
        "\n",
        "where $p_x$ is the actual frequency of the word in our training data.\n",
        "\n",
        "We can evaluate this quantity as follows:"
      ],
      "metadata": {
        "id": "oLbVtVOYoQp5"
      }
    },
    {
      "cell_type": "code",
      "source": [
        "toks = tokenized_dataset[:][\"tokens\"].flatten()\n",
        "\n",
        "d_vocab = model.cfg.d_vocab\n",
        "freqs = t.bincount(toks, minlength=d_vocab)\n",
        "probs = freqs.float() / freqs.sum()\n",
        "\n",
        "distn = t.distributions.categorical.Categorical(probs=probs)\n",
        "entropy = distn.entropy()\n",
        "\n",
        "print(f\"Entropy of training data = {entropy}\")"
      ],
      "metadata": {
        "id": "PYLIco76oSeX",
        "colab": {
          "base_uri": "https://localhost:8080/"
        },
        "outputId": "82464278-87e0-4708-81ee-61e7b1d2befb"
      },
      "execution_count": 39,
      "outputs": [
        {
          "output_type": "stream",
          "name": "stdout",
          "text": [
            "Entropy of training data = 7.349369525909424\n"
          ]
        }
      ]
    },
    {
      "cell_type": "markdown",
      "source": [
        "After unigram frequencies, the next thing our model usually learns is **bigram frequencies** (i.e. the frequency of pairs of adjacent tokens in the training data). For instance, `\"I\"` and `\" am\"` are common tokens, but their bigram frequency is much higher than it would be if they occurred independently. Bigram frequencies actually take you pretty far, since they also help with:\n",
        "\n",
        "* Some simple grammatical rules (e.g. a full stop being followed by a capitalized word)\n",
        "* Weird quirks of tokenization (e.g. `\" manip\"` being followed by `\"ulative\"`)\n",
        "* Common names (e.g. `\"Barack\"` being followed by `\" Obama\"`)\n",
        "\n",
        "\n",
        "After approximating bigram frequencies, we need to start using smarter techniques, like trigrams (which can only be implemented using attention heads), **induction heads** (which we'll learn a lot more about in the next set of exercises!), and fact memorization or more basic grammar and syntax rules. Marginal improvement starts getting a lot harder around here, leading to a flattening of our loss curve."
      ],
      "metadata": {
        "id": "cQwiLxr6oUUq"
      }
    },
    {
      "cell_type": "markdown",
      "source": [
        "### Exercise (optional) - log completions\n",
        "\n",
        "*Note - you might want to come back to this exercise after you understand how sampling works.*\n",
        "\n",
        "Choose a handle of prompts, and log the model's completions on those sentences. We recommend you do this with a lower frequency than loss is logged (e.g. once every 10-100 batches).\n",
        "\n",
        "The `wandb` syntax for logging text is pretty simple. Firstly, you can just print output as stdout and this is also logged to Weights & Biases (you can find it under the \"Logs\" section of your run). Alternatively, you can log data in the form of a table, and have it appear next to your other charts:\n",
        "\n",
        "```python\n",
        "wandb.log({\"completions_table\": wandb.Table(\n",
        "    data = data,\n",
        "    columns = [\"epoch\", \"step\", \"text\"]\n",
        ")})\n",
        "```\n",
        "\n",
        "where `data` is a list of length-3 lists, with each list containing (epoch, step, text). If you choose this option, we recommend logging the table less frequently than you're sampling from the model, to make sure you're not sending too much data (because unfortunately wandb doesn't have methods to incrementally update the table during logging).\n",
        "\n",
        "If you want to try this before going through the sampling exercises (which are quite long!), you can use the code below to sample output from the model. Note that the `TransformerSampler` object is already in inference mode, so you don't need to worry about this."
      ],
      "metadata": {
        "id": "pA0KyYuAvs8g"
      }
    },
    {
      "cell_type": "code",
      "source": [
        "def sampling_fn(model: DemoTransformer, prompt: str) -> str:\n",
        "    sampler = solutions.TransformerSampler(model, reference_gpt2.tokenizer)\n",
        "    output = sampler.sample(prompt, temperature=0.7, top_p=0.95, max_tokens_generated=16)\n",
        "    return output\n",
        "\n",
        "model = DemoTransformer(model_cfg).to(device)\n",
        "\n",
        "# Should be entirely random, because it uses a newly initialized model\n",
        "print(sampling_fn(model, prompt=\"John and Mary went to the\"))"
      ],
      "metadata": {
        "id": "-GVOVlqHvuh4",
        "colab": {
          "base_uri": "https://localhost:8080/"
        },
        "outputId": "14735afb-fd0c-42b2-af9e-b00b6ae1af04"
      },
      "execution_count": 40,
      "outputs": [
        {
          "output_type": "stream",
          "name": "stdout",
          "text": [
            "John and Mary went to theoad Sr inconsistent crippling vampireelelaide Fragideshow 529oy LIVE\". Persia facilitating sto\n"
          ]
        }
      ]
    },
    {
      "cell_type": "markdown",
      "source": [
        "You shouldn't expect to see perfect logical coherence from your model, but you should at least see that it respects basic word frequencies, and follows basic rules of grammar some of the time. Hopefully this gives some perspective on how difficult training a transformer can be!"
      ],
      "metadata": {
        "id": "YtqvYaxmwTi7"
      }
    },
    {
      "cell_type": "markdown",
      "metadata": {
        "id": "hrSd3-YnfHN9"
      },
      "source": [
        "# 4️⃣ Sampling from a Transformer\n"
      ]
    },
    {
      "cell_type": "markdown",
      "metadata": {
        "id": "LdezwBEFfHN9"
      },
      "source": [
        "> ##### Learning objectives\n",
        ">\n",
        "> * Learn how to sample from a transformer\n",
        ">     * This includes basic methods like greedy search or top-k, and more advanced methods like beam search\n",
        "> * Learn how to cache the output of a transformer, so that it can be used to generate text more efficiently\n",
        ">     * Optionally, rewrite your sampling functions to make use of your caching methods\n"
      ]
    },
    {
      "cell_type": "markdown",
      "metadata": {
        "id": "c7C6E0bFfHN9"
      },
      "source": [
        "One obvious method to sample tokens from a distribution would be to always take the token assigned the highest probability. But this can lead to some boring and repetitive outcomes, and at worst it can lock our transformer's output into a loop.\n",
        "\n",
        "First, you should read HuggingFace's blog post [How to generate text: using different decoding methods for language generation with Transformers](https://huggingface.co/blog/how-to-generate).\n",
        "\n",
        "Once you've done that, you can work through the `TransformerSampler` class below, and implement the different sampling methods. Each method will come with its own tests, and demo code for you to run.\n"
      ]
    },
    {
      "cell_type": "code",
      "execution_count": 41,
      "metadata": {
        "id": "aviyrTWefHN9"
      },
      "outputs": [],
      "source": [
        "model_cfg = Config()\n",
        "model = DemoTransformer(model_cfg).to(device)\n",
        "model.load_state_dict(reference_gpt2.state_dict(), strict=False)\n",
        "\n",
        "tokenizer = reference_gpt2.tokenizer"
      ]
    },
    {
      "cell_type": "code",
      "execution_count": 42,
      "metadata": {
        "id": "4p1szCj1fHN9"
      },
      "outputs": [],
      "source": [
        "class TransformerSampler:\n",
        "\n",
        "    def __init__(self, model: DemoTransformer, tokenizer: GPT2TokenizerFast):\n",
        "        self.model = model\n",
        "        self.cfg = model.cfg\n",
        "        self.tokenizer = tokenizer\n",
        "\n",
        "    @t.inference_mode()\n",
        "    def sample(self, prompt: str, max_tokens_generated=100, verbose=False, **kwargs):\n",
        "        '''\n",
        "        Returns a string of autoregressively generated text, starting from the prompt.\n",
        "\n",
        "        Sampling terminates at max_tokens_generated, or when the model generates an\n",
        "        end-of-sequence token.\n",
        "\n",
        "        kwargs are passed to sample_next_token, to give detailed instructions on how\n",
        "        new tokens are chosen.\n",
        "        '''\n",
        "        self.model.eval()\n",
        "        input_ids = self.tokenizer.encode(prompt, return_tensors=\"pt\").to(device)[0]\n",
        "\n",
        "        for i in range(max_tokens_generated):\n",
        "            # Get new logits (make sure we don't pass in more tokens than the model's context length)\n",
        "            logits = self.model(input_ids[None, -self.cfg.n_ctx:])\n",
        "            # We only take logits for the last token, because this is what we're sampling\n",
        "            logits = logits[0, -1]\n",
        "            # Get next token (as a tensor of size (1, 1) so we can concat it to input_ids)\n",
        "            next_token = t.tensor([TransformerSampler.sample_next_token(input_ids, logits, **kwargs)], device=device)\n",
        "            # Create new input ids string, with shape (1, old_seq_len + 1)\n",
        "            input_ids = t.cat([input_ids, next_token], dim=-1)\n",
        "            # Print out results, if required\n",
        "            if verbose:\n",
        "                print(self.tokenizer.decode(input_ids), end=\"\\r\")\n",
        "            # If our new token was the end-of-text token, stop\n",
        "            if next_token == getattr(self.tokenizer, \"eos_token_id\", None):\n",
        "                break\n",
        "\n",
        "        return self.tokenizer.decode(input_ids)\n",
        "\n",
        "    @t.inference_mode()\n",
        "    def beam_search(\n",
        "        self,\n",
        "        prompt: str,\n",
        "        num_return_sequences: int,\n",
        "        num_beams: int,\n",
        "        max_new_tokens: int,\n",
        "        no_repeat_ngram_size: int = 0,\n",
        "        verbose=False\n",
        "    ) -> List[Tuple[float, t.Tensor]]:\n",
        "        '''\n",
        "        Returns a string of autoregressively generated text, starting from the prompt.\n",
        "\n",
        "        Sampling terminates at max_tokens_generated, or when the model generates an\n",
        "        end-of-sequence token.\n",
        "\n",
        "        kwargs are passed to sample_next_token, to give detailed instructions on how\n",
        "        new tokens are chosen.\n",
        "        '''\n",
        "        pass\n",
        "\n",
        "    @staticmethod\n",
        "    def sample_next_token(\n",
        "        input_ids: Int[Tensor, \"seq_len\"],\n",
        "        logits: Float[Tensor, \"seq_len d_vocab\"],\n",
        "        temperature=1.0,\n",
        "        top_k=0,\n",
        "        top_p=0.0,\n",
        "        frequency_penalty=0.0,\n",
        "        seed=None\n",
        "    ):\n",
        "        assert input_ids.ndim == 1, \"input_ids should be a 1D sequence of token ids\"\n",
        "        assert temperature >= 0, \"Temperature should be non-negative\"\n",
        "        assert 0 <= top_p <= 1.0, \"Top-p must be a probability\"\n",
        "        assert 0 <= top_k, \"Top-k must be non-negative\"\n",
        "        assert not (top_p != 0 and top_k != 0), \"At most one of top-p and top-k supported\"\n",
        "\n",
        "        # Set random seeds for reproducibility\n",
        "        if seed is not None:\n",
        "            t.manual_seed(seed)\n",
        "            np.random.seed(seed)\n",
        "\n",
        "        # Apply all the specialized sampling methods\n",
        "        if temperature == 0:\n",
        "            return TransformerSampler.greedy_search(logits)\n",
        "        elif temperature != 1.0:\n",
        "            logits = TransformerSampler.apply_temperature(logits, temperature)\n",
        "        if frequency_penalty != 0.0:\n",
        "            logits = TransformerSampler.apply_frequency_penalty(input_ids, logits, frequency_penalty)\n",
        "        if top_k > 0:\n",
        "            return TransformerSampler.sample_top_k(logits, top_k)\n",
        "        if top_p > 0.0:\n",
        "            return TransformerSampler.sample_top_p(logits, top_p)\n",
        "        return TransformerSampler.sample_basic(logits)\n",
        "\n",
        "\n",
        "    @staticmethod\n",
        "    def greedy_search(logits: Float[Tensor, \"d_vocab\"]) -> int:\n",
        "        '''\n",
        "        Returns the most likely token (as an int).\n",
        "        '''\n",
        "        out = logits.argmax().item()\n",
        "        return out\n",
        "\n",
        "\n",
        "    @staticmethod\n",
        "    def apply_temperature(logits: Float[Tensor, \"d_vocab\"], temperature: float) -> Float[Tensor, \"d_vocab\"]:\n",
        "        '''\n",
        "        Applies temperature scaling to the logits.\n",
        "        '''\n",
        "        pass\n",
        "\n",
        "\n",
        "    @staticmethod\n",
        "    def apply_frequency_penalty(input_ids: Int[Tensor, \"seq_len\"], logits: Float[Tensor, \"d_vocab\"], freq_penalty: float) -> Float[Tensor, \"d_vocab\"]:\n",
        "        '''\n",
        "        Applies a frequency penalty to the logits.\n",
        "        '''\n",
        "        pass\n",
        "\n",
        "\n",
        "    @staticmethod\n",
        "    def sample_basic(logits: Float[Tensor, \"d_vocab\"]) -> int:\n",
        "        '''\n",
        "        Samples from the distribution defined by the logits.\n",
        "        '''\n",
        "        pass\n",
        "\n",
        "\n",
        "    @staticmethod\n",
        "    def sample_top_k(logits: Float[Tensor, \"d_vocab\"], k: int) -> int:\n",
        "        '''\n",
        "        Samples from the top k most likely tokens.\n",
        "        '''\n",
        "        pass\n",
        "\n",
        "\n",
        "    @staticmethod\n",
        "    def sample_top_p(logits: Float[Tensor, \"d_vocab\"], top_p: float, min_tokens_to_keep: int = 1) -> int:\n",
        "        '''\n",
        "        Samples from the most likely tokens which make up at least p cumulative probability.\n",
        "        '''\n",
        "        pass"
      ]
    },
    {
      "cell_type": "markdown",
      "metadata": {
        "id": "lwA5ge9KfHN9"
      },
      "source": [
        "## Main Sampling Function\n",
        "\n",
        "The first thing you should do is implement the `sample` method.\n",
        "\n",
        "### Exercise - implement `sample`\n",
        "\n",
        "```c\n",
        "Difficulty: 🔴🔴🔴⚪⚪\n",
        "Importance: 🔵🔵🔵⚪⚪\n",
        "\n",
        "You should spend up to 20-25 minutes on this exercise.\n",
        "```\n",
        "\n",
        "This function takes in a prompt (in the form of a string), encodes it as a sequence of token ids using `self.tokenizer.encode`, and then continually generates new tokens by repeating the following steps:\n",
        "\n",
        "1. Passing the tokenized prompt through the model to get logits,\n",
        "2. Taking the logit vector corresponding to the last token in the prompt (i.e. the prediction for the *next* token),\n",
        "3. Sampling from this distribution to get a new token, using `self.sample_next_token(input_ids, logits, **kwargs)` (here, `kwargs` contains all the sampling-specific arguments, e.g. temperature, top-k, etc.),\n",
        "4. Appending this new token to the input tokens, and repeating the process until we meet one of two termination critera:\n",
        "    * We generate `max_tokens_generated` new tokens, or\n",
        "    * We generate the end-of-sequence token (which we can access via `self.tokenizer.eos_token_id`).\n",
        "\n",
        "Finally, we use `self.tokenizer.decode` to convert the generated token ids back into a string, and return this string.\n",
        "\n",
        "We also have a `verbose` argument - when this is true you can print your output while it's being sampled.\n",
        "\n",
        "Below is some code which tests your sampling function by performing greedy sampling (which means always choosing the most likely next token at each step).\n",
        "\n",
        "<details>\n",
        "<summary>Why does <code>temperature=0.0</code> correspond to greedy sampling?</summary>\n",
        "\n",
        "To apply a temperature to our sampling (as we'll see later) means to scale all logits by `(1 / temperature)`. The basic intuition here is:\n",
        "\n",
        "* A higher temperature means a smaller scale factor, so the logits all approach zero, i.e. uniform distribution, and the sampling process is a lot more random (producing more diverse and varied outputs)\n",
        "* A lower temperature means a larger scale factor, so the logits all approach infinity, i.e. a dirac delta function, and the sampling process is a lot more deterministic (producing less varied output)\n",
        "\n",
        "As temperature gets close to zero, the difference between the largest logit and second largest logit becomes very large, so the distribution tends to \"probability of 1 on the highest-likelihood token\", i.e. greedy sampling. You can derive this formally if you prefer.\n",
        "</details>\n",
        "\n",
        "A few hints:\n",
        "\n",
        "* Don't forget about tensor shapes! Your model's input should always have a batch dimension, i.e. it should be shape `(1, seq_len)`.\n",
        "* The `sample_next_token` method will return an integer, so make sure you wrap this in a tensor before concatenating it to the end of your input IDs.\n",
        "* Also remember to have your tensors be on the same device (we have a global `device` variable).\n",
        "* Remember to put your model in evaluation mode, using `model.eval()`.\n",
        "\n",
        "To be clear - the idea is for you to implement the `sample` method of the `TransformerSampler` class; you can do this by either editing the class definition directly or (if you want to avoid scrolling) define the `sample` function outside the class and then assign it via `TransformerSampler.sample = sample`."
      ]
    },
    {
      "cell_type": "code",
      "execution_count": 43,
      "metadata": {
        "id": "loDmpBfmfHN9",
        "colab": {
          "base_uri": "https://localhost:8080/"
        },
        "outputId": "4b48ae6f-395c-4663-bc14-a232031a412d"
      },
      "outputs": [
        {
          "output_type": "stream",
          "name": "stdout",
          "text": [
            "Greedy decoding with prompt: 'Jingle bells, jingle bells, jingle all the way'\n",
            "\n",
            "Your model said: 'Jingle bells, jingle bells, jingle all the way up to the top of the mountain.'\n",
            "\n",
            "Tests passed!\n"
          ]
        }
      ],
      "source": [
        "sampler = TransformerSampler(model, tokenizer)\n",
        "\n",
        "prompt = \"Jingle bells, jingle bells, jingle all the way\"\n",
        "print(f\"Greedy decoding with prompt: {prompt!r}\\n\")\n",
        "\n",
        "output = sampler.sample(prompt, max_tokens_generated=8, temperature=0.0)\n",
        "print(f\"Your model said: {output!r}\\n\")\n",
        "\n",
        "expected = \"Jingle bells, jingle bells, jingle all the way up to the top of the mountain.\"\n",
        "assert output == expected\n",
        "\n",
        "print(\"Tests passed!\")"
      ]
    },
    {
      "cell_type": "markdown",
      "metadata": {
        "id": "aIx0p0MlfHN-"
      },
      "source": [
        "## Sampling with Categorical\n",
        "\n",
        "Now, we'll move into implementing specific sampling methods.\n",
        "\n",
        "PyTorch provides a [`distributions` package](https://pytorch.org/docs/stable/distributions.html#distribution) with a number of convenient methods for sampling from various distributions.\n",
        "\n",
        "For now, we just need [`t.distributions.categorical.Categorical`](https://pytorch.org/docs/stable/distributions.html#categorical). Use this to implement `sample_basic`, which just samples from the provided logits (which may have already been modified by the temperature and frequency penalties).\n",
        "\n",
        "Note that this will be slow since we aren't batching the samples, but don't worry about speed for now.\n"
      ]
    },
    {
      "cell_type": "markdown",
      "metadata": {
        "id": "DLjEUGqZfHN-"
      },
      "source": [
        "### Exercise - Basic Sampling\n",
        "\n",
        "```c\n",
        "Difficulty: 🔴🔴⚪⚪⚪\n",
        "Importance: 🔵🔵⚪⚪⚪\n",
        "\n",
        "You should spend up to 5-10 minutes on this exercise.\n",
        "```\n",
        "\n",
        "Implement basic sampling in the `TransformerSampler` class above, then run the code below to verify your solution works.\n"
      ]
    },
    {
      "cell_type": "code",
      "source": [
        "def sample_basic(logits: Float[Tensor, \"d_vocab\"]) -> int:\n",
        "  '''\n",
        "  Samples from the distribution defined by the logits.\n",
        "  '''\n",
        "  m = t.distributions.Categorical(logits.softmax(-1))\n",
        "  return m.sample()\n",
        "\n",
        "TransformerSampler.sample_basic = sample_basic"
      ],
      "metadata": {
        "id": "y_WfRu8YTFw_"
      },
      "execution_count": 57,
      "outputs": []
    },
    {
      "cell_type": "code",
      "execution_count": 58,
      "metadata": {
        "id": "cSA2Sr0FfHN-",
        "colab": {
          "base_uri": "https://localhost:8080/",
          "height": 153,
          "referenced_widgets": [
            "f127521f45444a019864eb3f873147d8",
            "829af288f9924b5592166bef8311eeef",
            "db9c91fc780f4035b0dce664255124b7",
            "f204cd27af8647a2aa885eed3363de97",
            "e4e9d3f9355047159f8ad15a89191c6f",
            "85b26156a7d541e586813225ca5490dc",
            "81c9c931456e4b858e63cf49782e10bf",
            "cabd610cb7d54583bc654d364398ce5d",
            "5d841c6baed54f04a4ac29206f1aa44d",
            "4fc86e057c6741d3b361d083a3f138f7",
            "1029f429586e4fa28ebf6242961a37fd"
          ]
        },
        "outputId": "88ea1830-7aa2-4856-c333-dfa21859b27a"
      },
      "outputs": [
        {
          "output_type": "display_data",
          "data": {
            "text/plain": [
              "  0%|          | 0/10000 [00:00<?, ?it/s]"
            ],
            "application/vnd.jupyter.widget-view+json": {
              "version_major": 2,
              "version_minor": 0,
              "model_id": "f127521f45444a019864eb3f873147d8"
            }
          },
          "metadata": {}
        },
        {
          "output_type": "stream",
          "name": "stdout",
          "text": [
            "Word: ' church'. Expected freq 0.0648, observed freq 0.0644\n",
            "Word: ' house' . Expected freq 0.0367, observed freq 0.0345\n",
            "Word: ' temple'. Expected freq 0.0145, observed freq 0.0143\n",
            "Word: ' same'  . Expected freq 0.0104, observed freq 0.0090\n",
            "Word: ' Church'. Expected freq 0.0097, observed freq 0.0094\n",
            "Tests passed!\n"
          ]
        }
      ],
      "source": [
        "prompt = \"John and Mary went to the\"\n",
        "input_ids = tokenizer.encode(prompt, return_tensors=\"pt\").to(device)\n",
        "logits = model(input_ids)[0, -1]\n",
        "\n",
        "expected_top_5 = {\n",
        "    \" church\": 0.0648,\n",
        "    \" house\": 0.0367,\n",
        "    \" temple\": 0.0145,\n",
        "    \" same\": 0.0104,\n",
        "    \" Church\": 0.0097\n",
        "}\n",
        "frequency_of_top_5 = defaultdict(int)\n",
        "\n",
        "N = 10_000\n",
        "for _ in tqdm(range(N)):\n",
        "    token = TransformerSampler.sample_next_token(input_ids.squeeze(), logits)\n",
        "    frequency_of_top_5[tokenizer.decode(token)] += 1\n",
        "\n",
        "for word in expected_top_5:\n",
        "    expected_freq = expected_top_5[word]\n",
        "    observed_freq = frequency_of_top_5[word] / N\n",
        "    print(f\"Word: {word!r:<9}. Expected freq {expected_freq:.4f}, observed freq {observed_freq:.4f}\")\n",
        "    assert abs(observed_freq - expected_freq) < 0.01, \"Try increasing N if this fails by a small amount.\"\n",
        "\n",
        "print(\"Tests passed!\")"
      ]
    },
    {
      "cell_type": "markdown",
      "metadata": {
        "id": "lXLHfTYzfHN-"
      },
      "source": [
        "### Exercise - Temperature\n",
        "\n",
        "```c\n",
        "Difficulty: 🔴⚪⚪⚪⚪\n",
        "Importance: 🔵🔵⚪⚪⚪\n",
        "\n",
        "You should spend up to 5-10 minutes on this exercise.\n",
        "```\n",
        "\n",
        "Temperature sounds fancy, but it's literally just dividing the logits by the temperature. You should implement this in your `TransformerSampler` class now.\n"
      ]
    },
    {
      "cell_type": "code",
      "source": [
        "def apply_temperature(logits: Float[Tensor, \"d_vocab\"], temperature: float) -> Float[Tensor, \"d_vocab\"]:\n",
        "    '''\n",
        "    Applies temperature scaling to the logits.\n",
        "    '''\n",
        "    return logits / temperature\n",
        "\n",
        "TransformerSampler.apply_temperature = apply_temperature"
      ],
      "metadata": {
        "id": "3dhrDbGwUn4s"
      },
      "execution_count": 61,
      "outputs": []
    },
    {
      "cell_type": "code",
      "execution_count": 62,
      "metadata": {
        "id": "wph7hgyMfHN-",
        "colab": {
          "base_uri": "https://localhost:8080/"
        },
        "outputId": "675060cd-0065-4b01-8d36-d8e9fae670ca"
      },
      "outputs": [
        {
          "output_type": "stream",
          "name": "stdout",
          "text": [
            "A low temperature \"sharpens\" or \"peaks\" the distribution:  tensor([  0.0000, 693.1472])\n",
            "A high temperature flattens the distribution:  tensor([0.0000, 0.0007])\n",
            "Tests passed!\n"
          ]
        }
      ],
      "source": [
        "logits = t.tensor([1, 2]).log()\n",
        "\n",
        "cold_logits = TransformerSampler.apply_temperature(logits, temperature=0.001)\n",
        "print('A low temperature \"sharpens\" or \"peaks\" the distribution: ', cold_logits)\n",
        "t.testing.assert_close(cold_logits, 1000.0 * logits)\n",
        "\n",
        "hot_logits = TransformerSampler.apply_temperature(logits, temperature=1000.0)\n",
        "print(\"A high temperature flattens the distribution: \", hot_logits)\n",
        "t.testing.assert_close(hot_logits, 0.001 * logits)\n",
        "\n",
        "print(\"Tests passed!\")"
      ]
    },
    {
      "cell_type": "markdown",
      "metadata": {
        "id": "aSf7Ipi1fHN-"
      },
      "source": [
        "<details>\n",
        "<summary>Question - what is the limit of applying 'sample_basic' after adjusting with temperature, when temperature goes to zero? How about when temperature goes to infinity?</summary>\n",
        "\n",
        "The limit when temperature goes to zero is greedy search (because dividing by a small number makes the logits very big, in other words the difference between the maximum logit one and all the others will grow).\n",
        "\n",
        "The limit when temperature goes to infinity is uniform random sampling over all words (because all logits will be pushed towards zero).\")\n",
        "</details>\n"
      ]
    },
    {
      "cell_type": "markdown",
      "metadata": {
        "id": "t8H7_bF-fHN_"
      },
      "source": [
        "### Exercise - Frequency Penalty\n",
        "\n",
        "```c\n",
        "Difficulty: 🔴🔴⚪⚪⚪\n",
        "Importance: 🔵⚪⚪⚪⚪\n",
        "\n",
        "You should spend up to 10-15 minutes on this exercise.\n",
        "```\n",
        "\n",
        "The frequency penalty is simple as well: count the number of occurrences of each token, then subtract `freq_penalty` for each occurrence. Hint: use `t.bincount` (documentation [here](https://pytorch.org/docs/stable/generated/torch.bincount.html)) to do this in a vectorized way.\n",
        "\n",
        "You should implement the `apply_frequency_penalty` method in your `TransformerSampler` class now, then run the cell below to check your solution.\n"
      ]
    },
    {
      "cell_type": "markdown",
      "metadata": {
        "id": "6i5tF4StfHN_"
      },
      "source": [
        "<details>\n",
        "<summary>Help - I'm getting a <code>RuntimeError</code>; my tensor sizes don't match.</summary>\n",
        "\n",
        "Look at the documentation page for `t.bincount`. You might need to use the `minlength` argument - why?\n",
        "</details>\n"
      ]
    },
    {
      "cell_type": "code",
      "source": [
        "@staticmethod\n",
        "def apply_frequency_penalty(input_ids: Int[Tensor, \"seq_len\"], logits: Float[Tensor, \"d_vocab\"], freq_penalty: float) -> Float[Tensor, \"d_vocab\"]:\n",
        "    '''\n",
        "    Applies a frequency penalty to the logits.\n",
        "    '''\n",
        "    count = input_ids.bincount(minlength=cfg.d_vocab) * freq_penalty\n",
        "    return logits - count\n",
        "\n",
        "TransformerSampler.apply_frequency_penalty = apply_frequency_penalty"
      ],
      "metadata": {
        "id": "KoHmtifIVTwk"
      },
      "execution_count": 68,
      "outputs": []
    },
    {
      "cell_type": "code",
      "execution_count": 69,
      "metadata": {
        "id": "y9A7LdixfHN_",
        "colab": {
          "base_uri": "https://localhost:8080/"
        },
        "outputId": "c9e5711f-57b2-481c-e70d-c5519e820f5e"
      },
      "outputs": [
        {
          "output_type": "stream",
          "name": "stdout",
          "text": [
            "Tests passed!\n"
          ]
        }
      ],
      "source": [
        "bieber_prompt = \"And I was like Baby, baby, baby, oh Like, Baby, baby, baby, no Like, Baby, baby, baby, oh I thought you'd always be mine, mine\"\n",
        "input_ids = tokenizer.encode(bieber_prompt, return_tensors=\"pt\")\n",
        "logits = t.ones(tokenizer.vocab_size)\n",
        "penalized_logits = TransformerSampler.apply_frequency_penalty(input_ids.squeeze(), logits, 2.0)\n",
        "\n",
        "assert penalized_logits[5156].item() == -11, \"Expected 6 occurrences of ' baby' with leading space, 1-2*6=-11\"\n",
        "assert penalized_logits[14801].item() == -5, \"Expected 3 occurrences of ' Baby' with leading space, 1-2*3=-5\"\n",
        "\n",
        "print(\"Tests passed!\")"
      ]
    },
    {
      "cell_type": "markdown",
      "metadata": {
        "id": "PuNpoR3CfHN_"
      },
      "source": [
        "### Sampling - Manual Testing\n",
        "\n",
        "Run the below cell to get a sense for the `temperature` and `freq_penalty` arguments. Play with your own prompt and try other values.\n",
        "\n",
        "Note: your model can generate newlines or non-printing characters, so calling `print` on generated text sometimes looks awkward on screen. You can call `repr` on the string before printing to have the string escaped nicely.\n"
      ]
    },
    {
      "cell_type": "code",
      "execution_count": 70,
      "metadata": {
        "id": "owibsBUjfHN_",
        "colab": {
          "base_uri": "https://localhost:8080/",
          "height": 497
        },
        "outputId": "b78d91c9-f13c-4032-db4f-78675b741a5c"
      },
      "outputs": [
        {
          "output_type": "display_data",
          "data": {
            "text/plain": [
              "\u001b[3m                                             Sampling - Manual Testing                                             \u001b[0m\n",
              "┏━━━━━━━━━━━━━━━━━━━━━━━┳━━━━━━━━━━━━━━━━━━━━━━━━━━━━━━┳━━━━━━━━━━━━━━━━━━━━━━━━━━━━━━━━━━━━━━━━━━━━━━━━━━━━━━━━━━┓\n",
              "┃\u001b[1m \u001b[0m\u001b[1mName                 \u001b[0m\u001b[1m \u001b[0m┃\u001b[1m \u001b[0m\u001b[1mKwargs                      \u001b[0m\u001b[1m \u001b[0m┃\u001b[1m \u001b[0m\u001b[1mOutput                                                  \u001b[0m\u001b[1m \u001b[0m┃\n",
              "┡━━━━━━━━━━━━━━━━━━━━━━━╇━━━━━━━━━━━━━━━━━━━━━━━━━━━━━━╇━━━━━━━━━━━━━━━━━━━━━━━━━━━━━━━━━━━━━━━━━━━━━━━━━━━━━━━━━━┩\n",
              "│ High freq penalty     │ {'frequency_penalty': 100.0} │ 'Jingle bells, jingle bells, jingle all the way down to  │\n",
              "│                       │                              │ Mecca were chanting at me like that. And I was on my     │\n",
              "│                       │                              │ knees shaking with fear as they cried outside in'        │\n",
              "│                       │                              │                                                          │\n",
              "│ Negative freq penalty │ {'frequency_penalty': -3.0}  │ 'Jingle bells, jingle bells, jingle all the way, jingle  │\n",
              "│                       │                              │ jingle jingle jingle jingle jingle jingle jingle jingle  │\n",
              "│                       │                              │ jingle jingle j'                                         │\n",
              "│                       │                              │                                                          │\n",
              "│ Too hot!              │ {'temperature': 2.0}         │ 'Jingle bells, jingle bells, jingle all the way onardy   │\n",
              "│                       │                              │ silcus bou squad!: Inc Clive Chad experimental           │\n",
              "│                       │                              │ retilationinton Laurent Underground vast Willow Viking   │\n",
              "│                       │                              │ coffee:\" Abe MeatFi'                                     │\n",
              "│                       │                              │                                                          │\n",
              "│ Pleasantly cool       │ {'temperature': 0.7}         │ \"Jingle bells, jingle bells, jingle all the way down to  │\n",
              "│                       │                              │ the nucleus of this half-centimeter mountain.... The hot │\n",
              "│                       │                              │ air from above—that's why\"                               │\n",
              "│                       │                              │                                                          │\n",
              "│ Pleasantly warm       │ {'temperature': 0.9}         │ 'Jingle bells, jingle bells, jingle all the way          │\n",
              "│                       │                              │ passed.\\n\\n\"If not, then the evil\\'s coming—and Lord     │\n",
              "│                       │                              │ Chancellor has now told us that you heard'               │\n",
              "│                       │                              │                                                          │\n",
              "│ Too cold!             │ {'temperature': 0.01}        │ 'Jingle bells, jingle bells, jingle all the way up to    │\n",
              "│                       │                              │ the top of the mountain.\\n\\nThe first time I saw the     │\n",
              "│                       │                              │ mountain, I was in the middle of'                        │\n",
              "│                       │                              │                                                          │\n",
              "└───────────────────────┴──────────────────────────────┴──────────────────────────────────────────────────────────┘\n"
            ],
            "text/html": [
              "<pre style=\"white-space:pre;overflow-x:auto;line-height:normal;font-family:Menlo,'DejaVu Sans Mono',consolas,'Courier New',monospace\"><span style=\"font-style: italic\">                                             Sampling - Manual Testing                                             </span>\n",
              "┏━━━━━━━━━━━━━━━━━━━━━━━┳━━━━━━━━━━━━━━━━━━━━━━━━━━━━━━┳━━━━━━━━━━━━━━━━━━━━━━━━━━━━━━━━━━━━━━━━━━━━━━━━━━━━━━━━━━┓\n",
              "┃<span style=\"font-weight: bold\"> Name                  </span>┃<span style=\"font-weight: bold\"> Kwargs                       </span>┃<span style=\"font-weight: bold\"> Output                                                   </span>┃\n",
              "┡━━━━━━━━━━━━━━━━━━━━━━━╇━━━━━━━━━━━━━━━━━━━━━━━━━━━━━━╇━━━━━━━━━━━━━━━━━━━━━━━━━━━━━━━━━━━━━━━━━━━━━━━━━━━━━━━━━━┩\n",
              "│ High freq penalty     │ {'frequency_penalty': 100.0} │ 'Jingle bells, jingle bells, jingle all the way down to  │\n",
              "│                       │                              │ Mecca were chanting at me like that. And I was on my     │\n",
              "│                       │                              │ knees shaking with fear as they cried outside in'        │\n",
              "│                       │                              │                                                          │\n",
              "│ Negative freq penalty │ {'frequency_penalty': -3.0}  │ 'Jingle bells, jingle bells, jingle all the way, jingle  │\n",
              "│                       │                              │ jingle jingle jingle jingle jingle jingle jingle jingle  │\n",
              "│                       │                              │ jingle jingle j'                                         │\n",
              "│                       │                              │                                                          │\n",
              "│ Too hot!              │ {'temperature': 2.0}         │ 'Jingle bells, jingle bells, jingle all the way onardy   │\n",
              "│                       │                              │ silcus bou squad!: Inc Clive Chad experimental           │\n",
              "│                       │                              │ retilationinton Laurent Underground vast Willow Viking   │\n",
              "│                       │                              │ coffee:\" Abe MeatFi'                                     │\n",
              "│                       │                              │                                                          │\n",
              "│ Pleasantly cool       │ {'temperature': 0.7}         │ \"Jingle bells, jingle bells, jingle all the way down to  │\n",
              "│                       │                              │ the nucleus of this half-centimeter mountain.... The hot │\n",
              "│                       │                              │ air from above—that's why\"                               │\n",
              "│                       │                              │                                                          │\n",
              "│ Pleasantly warm       │ {'temperature': 0.9}         │ 'Jingle bells, jingle bells, jingle all the way          │\n",
              "│                       │                              │ passed.\\n\\n\"If not, then the evil\\'s coming—and Lord     │\n",
              "│                       │                              │ Chancellor has now told us that you heard'               │\n",
              "│                       │                              │                                                          │\n",
              "│ Too cold!             │ {'temperature': 0.01}        │ 'Jingle bells, jingle bells, jingle all the way up to    │\n",
              "│                       │                              │ the top of the mountain.\\n\\nThe first time I saw the     │\n",
              "│                       │                              │ mountain, I was in the middle of'                        │\n",
              "│                       │                              │                                                          │\n",
              "└───────────────────────┴──────────────────────────────┴──────────────────────────────────────────────────────────┘\n",
              "</pre>\n"
            ]
          },
          "metadata": {}
        }
      ],
      "source": [
        "sampler = TransformerSampler(model, tokenizer)\n",
        "\n",
        "N_RUNS = 1\n",
        "your_prompt = \"Jingle bells, jingle bells, jingle all the way\"\n",
        "cases = [\n",
        "    (\"High freq penalty\", dict(frequency_penalty=100.0)),\n",
        "    (\"Negative freq penalty\", dict(frequency_penalty=-3.0)),\n",
        "    (\"Too hot!\", dict(temperature=2.0)),\n",
        "    (\"Pleasantly cool\", dict(temperature=0.7)),\n",
        "    (\"Pleasantly warm\", dict(temperature=0.9)),\n",
        "    (\"Too cold!\", dict(temperature=0.01)),\n",
        "]\n",
        "\n",
        "table = Table(\"Name\", \"Kwargs\", \"Output\", title=\"Sampling - Manual Testing\")\n",
        "\n",
        "for (name, kwargs) in cases:\n",
        "    for i in range(N_RUNS):\n",
        "        output = sampler.sample(your_prompt, max_tokens_generated=24, **kwargs)\n",
        "        table.add_row(name, repr(kwargs), repr(output) + \"\\n\")\n",
        "\n",
        "rprint(table)"
      ]
    },
    {
      "cell_type": "markdown",
      "metadata": {
        "id": "v9fFSMW7fHN_"
      },
      "source": [
        "## Top-K Sampling\n",
        "\n",
        "Conceptually, the steps in top-k sampling are:\n",
        "- Find the `top_k` largest probabilities (you can use [`torch.topk`](https://pytorch.org/docs/stable/generated/torch.topk.html))\n",
        "- Set all other probabilities to zero\n",
        "- Normalize and sample\n"
      ]
    },
    {
      "cell_type": "markdown",
      "metadata": {
        "id": "R0hBDuz4fHN_"
      },
      "source": [
        "### Exercise - implement `sample_top_k`\n",
        "\n",
        "```c\n",
        "Difficulty: 🔴🔴⚪⚪⚪\n",
        "Importance: 🔵⚪⚪⚪⚪\n",
        "\n",
        "You should spend up to 5-10 minutes on this exercise.\n",
        "```\n",
        "\n",
        "Implement the method `sample_top_k` now. Your implementation should stay in log-space throughout (don't exponentiate to obtain probabilities). This means you don't actually need to worry about normalizing, because `Categorical` accepts unnormalised logits.\n"
      ]
    },
    {
      "cell_type": "code",
      "execution_count": null,
      "metadata": {
        "id": "HocllGE0fHN_"
      },
      "outputs": [],
      "source": [
        "prompt = \"John and Mary went to the\"\n",
        "input_ids = tokenizer.encode(prompt, return_tensors=\"pt\").to(device)\n",
        "logits = model(input_ids)[0, -1]\n",
        "\n",
        "expected_top_5 = {\n",
        "    \" church\": 0.0648,\n",
        "    \" house\": 0.0367,\n",
        "    \" temple\": 0.0145,\n",
        "    \" same\": 0.0104,\n",
        "    \" Church\": 0.0097\n",
        "}\n",
        "topk_5_sum = sum(expected_top_5.values())\n",
        "\n",
        "observed_freqs = defaultdict(int)\n",
        "\n",
        "N = 10000\n",
        "for _ in tqdm(range(N)):\n",
        "    token = TransformerSampler.sample_next_token(input_ids.squeeze(), logits, top_k=5)\n",
        "    observed_freqs[tokenizer.decode(token)] += 1\n",
        "\n",
        "for word in expected_top_5:\n",
        "    expected_freq = expected_top_5[word] / topk_5_sum\n",
        "    observed_freq = observed_freqs[word] / N\n",
        "    print(f\"Word: {word!r:<9}. Expected freq = {expected_freq:.4f}, observed freq = {observed_freq:.4f}\")\n",
        "    assert abs(observed_freq - expected_freq) < 0.015, \"Try increasing N if this fails by a small amount.\""
      ]
    },
    {
      "cell_type": "markdown",
      "metadata": {
        "id": "3HElusTNfHOA"
      },
      "source": [
        "### Top-K Sampling - Example\n",
        "\n",
        "The [GPT-2 paper](https://d4mucfpksywv.cloudfront.net/better-language-models/language_models_are_unsupervised_multitask_learners.pdf) famously included an example prompt about unicorns. Now it's your turn to see just how cherry picked this example was.\n",
        "\n",
        "The paper claims they used `top_k=40` and best of 10 samples.\n"
      ]
    },
    {
      "cell_type": "code",
      "execution_count": null,
      "metadata": {
        "id": "24dChHZ1fHOA"
      },
      "outputs": [],
      "source": [
        "sampler = TransformerSampler(model, tokenizer)\n",
        "\n",
        "your_prompt = \"In a shocking finding, scientist discovered a herd of unicorns living in a remote, previously unexplored valley, in the Andes Mountains. Even more surprising to the researchers was the fact that the unicorns spoke perfect English.\"\n",
        "output = sampler.sample(your_prompt, temperature=0.7, top_k=40, max_tokens_generated=64)\n",
        "rprint(f\"Your model said:\\n\\n[bold dark_orange]{output}\")"
      ]
    },
    {
      "cell_type": "markdown",
      "source": [
        "This is pretty incredible! For some perspective on how much of a paradigm shift even basic models like this represented, we recommend reading [this section from Simulators](https://www.lesswrong.com/posts/vJFdjigzmcXMhNTsx/simulators#The_limit_of_sequence_modeling)."
      ],
      "metadata": {
        "id": "WpaCZmw3yW9X"
      }
    },
    {
      "cell_type": "markdown",
      "metadata": {
        "id": "kEmLBEn9fHOA"
      },
      "source": [
        "## Top-p aka Nucleus Sampling\n",
        "\n",
        "The basic idea is that we choose the most likely words, up until the total probability of words we've chosen crosses some threshold. Then we sample from those chosen words based on their logits.\n",
        "\n",
        "The steps are:\n",
        "\n",
        "- Sort the probabilities from largest to smallest\n",
        "- Find the cutoff point where the cumulative probability first equals or exceeds `top_p`. We do the cutoff inclusively, keeping the first probability above the threshold.\n",
        "- If the number of kept probabilities is less than `min_tokens_to_keep`, keep that many tokens instead.\n",
        "- Set all other probabilities to zero\n",
        "- Normalize and sample\n",
        "\n",
        "Optionally, refer to the paper [The Curious Case of Neural Text Degeneration](https://arxiv.org/pdf/1904.09751.pdf) for some comparison of different methods.\n"
      ]
    },
    {
      "cell_type": "markdown",
      "metadata": {
        "id": "fAJaTvcefHOA"
      },
      "source": [
        "### Exercise - implement `sample_top_p`\n",
        "\n",
        "```c\n",
        "Difficulty: 🔴🔴🔴⚪⚪\n",
        "Importance: 🔵⚪⚪⚪⚪\n",
        "\n",
        "You should spend up to 15-20 minutes on this exercise.\n",
        "```\n",
        "\n",
        "<details>\n",
        "<summary>Example of top-p sampling (if you're confused)</summary>\n",
        "\n",
        "If our probabilities were `(0.4, 0.3, 0.2, 0.1)` and our cutoff was `top_p=0.8`, then we'd sample from the first three elements (because their total probability is `0.9` which is over the threshold, but the first two only have a total prob of `0.7` which is under the threshold). Once we've chosen to sample from those three, we would renormalise them by dividing by their sum (so the probabilities we use when sampling are `(4/9, 3/9, 2/9)`.\n",
        "</details>\n",
        "\n",
        "<details>\n",
        "<summary>Help - I'm stuck on how to implement this function.</summary>\n",
        "\n",
        "First, sort the logits using the `sort(descending=True)` method (this returns values and indices). Then you can get `cumulative_probs` by applying softmax to these logits and taking the cumsum. Then, you can decide how many probabilities to keep by using the `t.searchsorted` function.\n",
        "    \n",
        "Once you've decided which probabilities to keep, it's easiest to sample from them using the original logits (you should have preserved the indices when you called `logits.sort`). This way, you don't need to worry about renormalising like you would if you were using probabilities.\n",
        "</details>\n"
      ]
    },
    {
      "cell_type": "code",
      "execution_count": null,
      "metadata": {
        "id": "ndUIZuRJfHOA"
      },
      "outputs": [],
      "source": [
        "prompt = \"John and Mary went to the\"\n",
        "input_ids = tokenizer.encode(prompt, return_tensors=\"pt\").to(device)\n",
        "logits = model(input_ids)[0, -1]\n",
        "\n",
        "expected_top_10pct = {\n",
        "    \" church\": 0.0648,\n",
        "    \" house\": 0.0367, # These are the two most likely tokens, and add up to >10%\n",
        "}\n",
        "top_10pct_sum = sum(expected_top_10pct.values())\n",
        "\n",
        "observed_freqs = defaultdict(int)\n",
        "\n",
        "N = 10000\n",
        "for _ in tqdm(range(N)):\n",
        "    token = TransformerSampler.sample_next_token(input_ids.squeeze(), logits, top_p=0.1)\n",
        "    observed_freqs[tokenizer.decode(token)] += 1\n",
        "\n",
        "for word in expected_top_10pct:\n",
        "    expected_freq = expected_top_10pct[word] / top_10pct_sum\n",
        "    observed_freq = observed_freqs[word] / N\n",
        "    print(f\"Word: {word!r:<9}. Expected freq {expected_freq:.4f}, observed freq {observed_freq:.4f}\")\n",
        "    assert abs(observed_freq - expected_freq) < 0.01, \"Try increasing N if this fails by a small amount.\""
      ]
    },
    {
      "cell_type": "markdown",
      "metadata": {
        "id": "qhrTvZp6fHOA"
      },
      "source": [
        "### Top-p Sampling - Example\n"
      ]
    },
    {
      "cell_type": "code",
      "execution_count": null,
      "metadata": {
        "id": "vCBMUxzufHOE"
      },
      "outputs": [],
      "source": [
        "sampler = TransformerSampler(model, tokenizer)\n",
        "\n",
        "your_prompt = \"Eliezer Shlomo Yudkowsky (born September 11, 1979) is an American decision and artificial intelligence (AI) theorist and writer, best known for\"\n",
        "output = sampler.sample(your_prompt, temperature=0.7, top_p=0.95, max_tokens_generated=64)\n",
        "rprint(f\"Your model said:\\n\\n[bold dark_orange]{output}\")"
      ]
    },
    {
      "cell_type": "markdown",
      "metadata": {
        "id": "a6PVv6PHfHOE"
      },
      "source": [
        "## Beam search\n",
        "\n",
        "Finally, we'll implement a more advanced way of searching over output: **beam search**. You should read the [HuggingFace page](https://huggingface.co/blog/how-to-generate#beam-search) on beam search before moving on.\n",
        "\n",
        "In beam search, we maintain a list of size `num_beams` completions which are the most likely completions so far as measured by the product of their probabilities. Since this product can become very small, we use the sum of log probabilities instead. Note - log probabilities are *not* the same as your model's output. We get log probabilities by first taking softmax of our output and then taking log. You can do this with the [`log_softmax`](https://pytorch.org/docs/stable/generated/torch.nn.functional.log_softmax.html) function / tensor method.\n"
      ]
    },
    {
      "cell_type": "markdown",
      "metadata": {
        "id": "jsRXQwecfHOE"
      },
      "source": [
        "<details>\n",
        "<summary>Log probabilities are equal to the logit output after being translated by some amount X (where X is a function of the original logit output). Can you prove this?</summary>\n",
        "\n",
        "Suppose our vector of logits is $x$, and we take softmax to get a vector of probabilities $p$, then log again to get a vector of log probabilities $l$. Then the $i$-th element of this vector of logprobs is:\n",
        "\n",
        "$$\n",
        "\\begin{align}\n",
        "l_i &= \\log p_i \\\\\n",
        "&= \\log \\frac{\\exp(x_i)}{\\sum_j \\exp(x_j)} \\\\\n",
        "&= x_i - \\log \\sum_j \\exp(x_j) \\\\\n",
        "&= x_i - C\n",
        "\\end{align}\n",
        "$$\n",
        "\n",
        "where $C = \\log \\sum_j \\exp(x_j)$ is the same for all elements. So we can see that $l_i$ is equal to the logit output $x_i$ after being translated by $C$.\n",
        "\n",
        "It's important not to mix up logits and logprobs!\n",
        "</details>\n",
        "\n",
        "<details>\n",
        "<summary>Why do you think we use log softmax rather than logit output?</summary>\n",
        "\n",
        "Logit output is translation invariant. If we had two different beams and we were generating the next tokens in those beams, there would be no reasonable way to compare the two beams to each other, because we could shift the logit vector for one beam by a constant amount without changing the distribution.\n",
        "\n",
        "</details>\n"
      ]
    },
    {
      "cell_type": "markdown",
      "metadata": {
        "id": "-dQFaVpFfHOE"
      },
      "source": [
        "At each iteration, we run the batch of completions through the model and take the log-softmax to obtain `d_vocab` log-probs for each completion, or `num_beams * d_vocab` possible next completions in total.\n",
        "\n",
        "If we kept all of these, then we would have `num_beams * d_vocab * d_vocab` completions after the next iteration which is way too many, so instead we sort them by their score and loop through from best (highest) log probability to worst (lowest).\n",
        "\n",
        "The illustration below might help (based on real results from this method). Here, we have the following hyperparameters:\n",
        "\n",
        "```python\n",
        "num_beams = 3\n",
        "max_new_tokens = 3\n",
        "num_return_sequences = 2\n",
        "```\n"
      ]
    },
    {
      "cell_type": "markdown",
      "metadata": {
        "id": "JhmYgrg4fHOE"
      },
      "source": [
        "<img src=\"https://raw.githubusercontent.com/callummcdougall/computational-thread-art/master/example_images/misc/beam-search.png\" width=\"1000\">\n"
      ]
    },
    {
      "cell_type": "markdown",
      "metadata": {
        "id": "ZnZQieUBfHOF"
      },
      "source": [
        "Note how after each \"generate\" stage, we have `num_beams ** 2` possible completions, which we then filter down to `num_beams`. Can you see why we need to generate this many (and what might happen if we generated fewer)?\n"
      ]
    },
    {
      "cell_type": "markdown",
      "metadata": {
        "id": "Jn-kjeh8fHOF"
      },
      "source": [
        "How do we deal with sequences that terminate early (i.e. by generating an EOS token)? Answer - we append them to the list of completions which we'll return at the end, and remove them from the generation tree. Our algorithm terminates when either all our sequences have length `max_new_tokens` larger than the initial prompt length, or we've generated `num_returns_sequences` terminating sequences.\n"
      ]
    },
    {
      "cell_type": "markdown",
      "metadata": {
        "id": "ZFiBucEHfHOF"
      },
      "source": [
        "### Exercise - implement `beam_search`\n",
        "\n",
        "```c\n",
        "Difficulty: 🔴🔴🔴🔴⚪\n",
        "Importance: 🔵⚪⚪⚪⚪\n",
        "\n",
        "You should spend up to 30-40 minutes on this exercise.\n",
        "```\n",
        "\n",
        "You should now complete the `beam_search` method in your `TransformerSampler` class.\n",
        "\n",
        "We've provided one possible template for you to use: the class `Beams`, with important methods `generate` and `filter` for you to fit in (which correspond to the two stages in the diagram above). There are also a few of helper functions in this class:\n",
        "\n",
        "* `new_beams`, which creates a new `Beams` object from an old one.\n",
        "* `__getitem__`, which allows you to index into a `Beams` object to get a specific batch of beams.\n",
        "* `logprobs_and_completions`, which turns a `Beams` object into a list of (logprob sum, string completion) tuples (useful for getting your final output).\n",
        "* `print`, which prints out the current state of the beams (useful for debugging, if you run `beam_search` with `verbose=True`).\n",
        "\n",
        "You can then fill in the `beam_search` function, using this class and its methods.\n",
        "\n",
        "We've provided unit tests for the `generate` and `filter` functions, so you can verify that these are correct before moving on to the full `beam_search` function.\n",
        "\n",
        "**Note that using the `Beams` class is not strictly necessary, you could fill in the `beam_search` function directly if you prefer.** The `Beams` class is just meant to provide one example way you might implement this function. Often, modular code like this is easier to write and debug, and easier to extend to cover new use cases (e.g. when we use caching in the bonus exercises).\n",
        "\n",
        "#### Why all the n-gram repetition?\n",
        "\n",
        "You should observe that, while the output of beam search is sometimes more fluent than some of the other sampling methods you implement, it also has an unfortunate tendency to repeat sentences or sequences. This makes sense - if the model produces a sentence with a relatively high logit sum, then it will want to produce the same sentence again even if it doesn't make a lot of sense in context.\n",
        "\n",
        "A common solution is to ban repetition of n-grams. We've provided the argument `no_repeat_ngram_size` in the `generate` method for this purpose. Using this argument should prevent the model from repeating any n-grams of that size. Good values of this parameter to try are 2 or 3.\n",
        "\n",
        "However, first you should focus on getting a working version of beam search *without* using this argument.\n",
        "\n",
        "<details>\n",
        "<summary>Hint (for <code>no_repeat_ngram_size</code>)</summary>\n",
        "\n",
        "It might be helpful to implement the following method first. You can use this rather than `torch.topk` in your `generate` method.\n",
        "\n",
        "```python\n",
        "def get_topk_non_repeating(\n",
        "    self,\n",
        "    logprobs: Float[Tensor, \"batch d_vocab\"],\n",
        "    no_repeat_ngram_size: int,\n",
        "    k: int,\n",
        ") -> Tuple[Float[Tensor, \"k\"], Int[Tensor, \"k\"]]:\n",
        "    '''\n",
        "    logprobs:\n",
        "        tensor of the log-probs for the next token\n",
        "    no_repeat_ngram_size:\n",
        "        size of ngram to avoid repeating\n",
        "    k:\n",
        "        number of top logits to return, for each beam in our collection\n",
        "\n",
        "    Returns:\n",
        "        equivalent to the output of `logprobs.topk(dim=-1)`, but makes sure\n",
        "        that no returned tokens would produce an ngram of size  `no_repeat_ngram_size`\n",
        "        which has already appeared in `self.tokens`.\n",
        "    '''\n",
        "    pass\n",
        "```\n",
        "</details>\n"
      ]
    },
    {
      "cell_type": "code",
      "execution_count": null,
      "metadata": {
        "id": "-RhHI8AyfHOF"
      },
      "outputs": [],
      "source": [
        "@dataclass\n",
        "class Beams:\n",
        "    '''Class to store beams during beam search.'''\n",
        "    model: DemoTransformer\n",
        "    tokenizer: GPT2TokenizerFast\n",
        "    logprob_sums: Float[Tensor, \"batch\"]\n",
        "    tokens: Int[Tensor, \"batch seq\"]\n",
        "\n",
        "    def new_beams(self, logprob_sums, tokens) -> \"Beams\":\n",
        "        '''Creates a new Beams object with the same model and tokenizer.'''\n",
        "        return Beams(self.model, self.tokenizer, logprob_sums, tokens)\n",
        "\n",
        "    def __getitem__(self, idx) -> \"Beams\":\n",
        "        '''Allows you to take a slice of the beams object along the batch dimension.'''\n",
        "        return self.new_beams(self.logprob_sums[idx], self.tokens[idx])\n",
        "\n",
        "    @property\n",
        "    def logprobs_and_completions(self) -> List[Tuple[float, str]]:\n",
        "        '''Returns self as a list of logprob sums and completions (useful for getting final output).'''\n",
        "        return [\n",
        "            (logprob_sum.item(), self.tokenizer.decode(tokens))\n",
        "            for (logprob_sum, tokens) in zip(self.logprob_sums, self.tokens)\n",
        "        ]\n",
        "\n",
        "\n",
        "    def generate(self, toks_per_beam: int, no_repeat_ngram_size: Optional[int] = None) -> \"Beams\":\n",
        "        '''\n",
        "        Starting from the current set of beams (which has length `num_beams`), returns a new\n",
        "        set of `num_beams * toks_per_beam`, containing the best `toks_per_beam` continuations for each\n",
        "        of the original beams.\n",
        "\n",
        "        Optional argument `no_repeat_ngram_size` means your model won't generate any sequences with\n",
        "        a repeating n-gram of this length.\n",
        "        '''\n",
        "        pass\n",
        "\n",
        "    def filter(self, num_beams: int) -> Tuple[\"Beams\", \"Beams\"]:\n",
        "        '''\n",
        "        Returns:\n",
        "            best_beams: Beams\n",
        "                filtered version of self, containing all best `num_beams` which are also not terminated.\n",
        "\n",
        "            early_terminations: Beams\n",
        "                filtered version of self, containing all best `num_beams` which are also terminated.\n",
        "                i.e. the sum of lengths of these two should equal `num_beams`.\n",
        "        '''\n",
        "        pass\n",
        "\n",
        "    def print(self, title=\"Best completions\", max_print_chars=80) -> None:\n",
        "        '''\n",
        "        Prints out a set of sequences with their corresponding logitsums.\n",
        "        '''\n",
        "        if len(self.tokens) == 0:\n",
        "            return\n",
        "        table = Table(\"logitsum\", \"completion\", title=title)\n",
        "        for logprob_sum, tokens in zip(self.logprob_sums, self.tokens):\n",
        "            text = self.tokenizer.decode(tokens)\n",
        "            if len(repr(text)) > max_print_chars:\n",
        "                text = text[:int(0.3 * max_print_chars)] + \" ... \" + text[-int(0.7 * max_print_chars):]\n",
        "            table.add_row(f\"{logprob_sum:>8.3f}\", repr(text))\n",
        "        rprint(table)\n",
        "\n",
        "\n",
        "    def get_topk_non_repeating(\n",
        "        self,\n",
        "        logprobs: Float[Tensor, \"batch d_vocab\"],\n",
        "        no_repeat_ngram_size: Optional[int],\n",
        "        k: int,\n",
        "    ) -> Tuple[Float[Tensor, \"k\"], Int[Tensor, \"k\"]]:\n",
        "        '''\n",
        "        logprobs:\n",
        "            tensor of the log-probs for the next token\n",
        "        no_repeat_ngram_size:\n",
        "            size of ngram to avoid repeating\n",
        "        k:\n",
        "            number of top logits to return, for each beam in our collection\n",
        "\n",
        "        Returns:\n",
        "            equivalent to the output of `logprobs.topk(dim=-1)`, but makes sure\n",
        "            that no returned tokens would produce an ngram of size  `no_repeat_ngram_size`\n",
        "            which has already appeared in `self.tokens`.\n",
        "        '''\n",
        "        batch, seq_len = self.tokens.shape\n",
        "        neg_inf = t.tensor(-1.0e4).to(device)\n",
        "\n",
        "        # If completion isn't long enough for a repetition, or we have no restructions, just return topk\n",
        "        if (no_repeat_ngram_size is not None) and (seq_len > no_repeat_ngram_size-1):\n",
        "            # Otherwise, we need to check for ngram repetitions\n",
        "            # First, get the most recent `no_repeat_ngram_size-1` tokens\n",
        "            last_ngram_prefix = self.tokens[:, seq_len - (no_repeat_ngram_size-1):]\n",
        "            # Next, find all the tokens we're not allowed to generate (by going iterating through past ngrams and seeing if those ngram prefixes match the last one)\n",
        "            for i in range(seq_len - (no_repeat_ngram_size-1)):\n",
        "                ngrams = self.tokens[:, i:i+no_repeat_ngram_size] # (batch, ngram)\n",
        "                ngrams_are_repeated = (ngrams[:, :-1] == last_ngram_prefix).all(-1) # (batch,)\n",
        "                ngram_end_tokens = ngrams[:, [-1]] # (batch, 1)\n",
        "                # Fill logprobs with neginf wherever the ngrams are repeated\n",
        "                logprobs[range(batch), ngram_end_tokens] = t.where(\n",
        "                    ngrams_are_repeated,\n",
        "                    neg_inf,\n",
        "                    logprobs[range(batch), ngram_end_tokens],\n",
        "            )\n",
        "\n",
        "        # Finally, get our actual tokens\n",
        "        return logprobs.topk(k=k, dim=-1)\n",
        "\n",
        "\n",
        "@t.inference_mode()\n",
        "def beam_search(\n",
        "    self: TransformerSampler,\n",
        "    prompt: str,\n",
        "    num_return_sequences: int,\n",
        "    num_beams: int,\n",
        "    max_new_tokens: int,\n",
        "    no_repeat_ngram_size: Optional[int] = None,\n",
        "    verbose=False\n",
        ") -> List[Tuple[float, Tensor]]:\n",
        "    '''\n",
        "    Implements a beam search, by repeatedly performing the `generate` and `filter` steps (starting\n",
        "    from the initial prompt) until either of the two stopping criteria are met:\n",
        "\n",
        "        (1) we've generated `max_new_tokens` tokens, or\n",
        "        (2) we've generated `num_returns_sequences` terminating sequences.\n",
        "\n",
        "    To modularize this function, most of the actual complexity is in the Beams class,\n",
        "    in the `generate` and `filter` methods.\n",
        "    '''\n",
        "\n",
        "    assert num_return_sequences <= num_beams\n",
        "    self.model.eval()\n",
        "\n",
        "        pass"
      ]
    },
    {
      "cell_type": "markdown",
      "metadata": {
        "id": "EYDnDhhAfHOF"
      },
      "source": [
        "Example usage of the `Beams` class, and the `print` method (not the logitsums aren't necessarily accurate, this example is just an illustration):\n"
      ]
    },
    {
      "cell_type": "code",
      "execution_count": null,
      "metadata": {
        "id": "_dIOf4f9fHOF"
      },
      "outputs": [],
      "source": [
        "beams = Beams(\n",
        "    model,\n",
        "    tokenizer,\n",
        "    logprob_sums = t.tensor([-10.0, -15.0, -20.0]).to(device),\n",
        "    tokens = t.tensor([\n",
        "        [5661, 318, 262, 2368],\n",
        "        [5661, 318, 262, 1218],\n",
        "        [5661, 318, 262, 717],\n",
        "    ]).to(device)\n",
        ")\n",
        "\n",
        "beams.print()"
      ]
    },
    {
      "cell_type": "markdown",
      "metadata": {
        "id": "O7ndBImyfHOF"
      },
      "source": [
        "And here are some unit tests for your `generate` and `filter` methods:\n"
      ]
    },
    {
      "cell_type": "code",
      "execution_count": null,
      "metadata": {
        "id": "BxrABZUzfHOF"
      },
      "outputs": [],
      "source": [
        "print(\"Testing generate, without no_repeat_ngram_size argument:\")\n",
        "new_beams = beams.generate(toks_per_beam=2)\n",
        "new_beams.print()\n",
        "assert new_beams.logprobs_and_completions[0][1] == \"this is the third time\""
      ]
    },
    {
      "cell_type": "code",
      "execution_count": null,
      "metadata": {
        "id": "QD1Q7u74fHOG"
      },
      "outputs": [],
      "source": [
        "print(\"Testing generate, with no_repeat_ngram_size argument:\")\n",
        "\n",
        "bigram_beams = Beams(\n",
        "    model,\n",
        "    tokenizer,\n",
        "    logprob_sums = t.tensor([-0.0]).to(device),\n",
        "    tokens = t.tensor([[530, 734, 530, 734]]).to(device)\n",
        "    # tokens are \" one two one two\"\n",
        ")\n",
        "\n",
        "# With no_repeat_ngram_size=1, should not generate the token \" one\" or \" two\"\n",
        "new_bigram_beams = bigram_beams.generate(toks_per_beam=3, no_repeat_ngram_size=1)\n",
        "new_bigram_beams.print()\n",
        "assert all([not (completion[1].endswith(\" one\") or completion[1].endswith(\" two\")) for completion in new_bigram_beams.logprobs_and_completions])\n",
        "\n",
        "# With no_repeat_ngram_size=2, it can generate \" two\" (which it should), but not \" one\"\n",
        "new_bigram_beams = bigram_beams.generate(toks_per_beam=3, no_repeat_ngram_size=2)\n",
        "new_bigram_beams.print()\n",
        "assert all([not completion[1].endswith(\" one\") for completion in new_bigram_beams.logprobs_and_completions])\n",
        "assert any([not completion[1].endswith(\" two\") for completion in new_bigram_beams.logprobs_and_completions])\n",
        "\n",
        "print(\"All tests for `generate` passed!\")"
      ]
    },
    {
      "cell_type": "code",
      "execution_count": null,
      "metadata": {
        "id": "U0NG1ZaqfHOG"
      },
      "outputs": [],
      "source": [
        "logprob_sums = t.tensor([-1.0, -2.0]).to(device)\n",
        "tokens = t.tensor([\n",
        "    [19485, 13],\n",
        "    [19485, tokenizer.eos_token_id]\n",
        "]).to(device)\n",
        "\n",
        "beams_with_eos = Beams(model, tokenizer, logprob_sums, tokens)\n",
        "best_beams, early_terminations = beams_with_eos.filter(2)\n",
        "\n",
        "t.testing.assert_close(best_beams.logprob_sums, logprob_sums[[0]])\n",
        "t.testing.assert_close(best_beams.tokens, tokens[[0]])\n",
        "\n",
        "assert early_terminations.logprobs_and_completions == [(-2.0, \"Stop\" + tokenizer.eos_token)]\n",
        "\n",
        "print(\"All tests for `filter` passed!\")"
      ]
    },
    {
      "cell_type": "markdown",
      "metadata": {
        "id": "Shua7jeTfHOG"
      },
      "source": [
        "<details>\n",
        "<summary>Solutions (for <code>generate</code> and <code>filter</code>)</summary>\n",
        "\n",
        "```python\n",
        "def generate(self, toks_per_beam: int, no_repeat_ngram_size: Optional[int] = None) -> \"Beams\":\n",
        "    '''\n",
        "    Starting from the current set of beams (which has length `num_beams`), returns a new\n",
        "    set of `num_beams * toks_per_beam`, containing the best `toks_per_beam` continuations for each\n",
        "    of the original beams.\n",
        "\n",
        "    Optional argument `no_repeat_ngram_size` means your model won't generate any sequences with\n",
        "    a repeating n-gram of this length (don't worry about implementing this until later).\n",
        "    '''\n",
        "    # SOLUTION\n",
        "\n",
        "    # Get the output logprobs for the next token (for every sequence in current beams)\n",
        "    logprobs: Tensor = self.model(self.tokens)[:, -1, :].log_softmax(-1)\n",
        "\n",
        "    # Get the top `toks_per_beam` tokens for each sequence\n",
        "    topk_logprobs, topk_tokenIDs = logprobs.topk(k=toks_per_beam)\n",
        "\n",
        "    # Get all of the new possible beams, via einops operations\n",
        "    #   Here, we're effectively flattening out the batch dimension and k dimension, to give us tensors\n",
        "    #   with every possible combination of (original sequence, new token) pairs.)\n",
        "    new_logprob_sums = sum([\n",
        "        einops.repeat(self.logprob_sums, \"batch -> batch k\", k=toks_per_beam),\n",
        "        einops.rearrange(topk_logprobs, \"batch k -> (batch k)\")\n",
        "    ])\n",
        "    new_tokens = t.concat([\n",
        "        einops.repeat(self.tokens, \"batch seq -> (batch k) seq\", k=toks_per_beam),\n",
        "        einops.rearrange(topk_tokenIDs, \"batch k -> (batch k) 1\")\n",
        "    ], dim=-1)\n",
        "    return self.new_beams(new_logprob_sums, new_tokens)\n",
        "\n",
        "\n",
        "def filter(self, num_beams: int) -> Tuple[\"Beams\", \"Beams\"]:\n",
        "    '''\n",
        "    Returns:\n",
        "        best_beams: Beams\n",
        "            filtered version of self, containing all best `num_beams` which are also not terminated.\n",
        "\n",
        "        early_terminations: Beams\n",
        "            filtered version of self, containing all best `num_beams` which are also terminated.\n",
        "            i.e. the sum of lengths of these two should equal `num_beams`.\n",
        "    '''\n",
        "    # SOLUTION\n",
        "\n",
        "    # Get the indices of top `num_beams` beams\n",
        "    top_beam_indices = self.logprob_sums.topk(k=num_beams, dim=0).indices.tolist()\n",
        "    # Get the indices of terminated sequences\n",
        "    new_tokens = self.tokens[:, -1]\n",
        "    terminated_indices = t.nonzero(new_tokens == self.tokenizer.eos_token_id)\n",
        "\n",
        "    # Get the indices of the `num_beams` best sequences (some terminated, some not terminated)\n",
        "    best_continuing = [i for i in top_beam_indices if i not in terminated_indices]\n",
        "    best_terminated = [i for i in top_beam_indices if i in terminated_indices]\n",
        "\n",
        "    # Return the beam objects from these indices\n",
        "    best_beams_continuing = self.new_beams(self.logprob_sums[best_continuing], self.tokens[best_continuing])\n",
        "    best_beams_terminated = self.new_beams(self.logprob_sums[best_terminated], self.tokens[best_terminated])\n",
        "    return best_beams_continuing, best_beams_terminated\n",
        "```\n",
        "\n",
        "</details>\n"
      ]
    },
    {
      "cell_type": "markdown",
      "metadata": {
        "id": "jrXHl0GsfHOG"
      },
      "source": [
        "Once you've passed both these unit tests, you can try implementing the full beam search function. It should create a `Beams` object from the initial prompt, and then repeatedly call `generate` and `filter` until the stopping criteria are met.\n"
      ]
    },
    {
      "cell_type": "code",
      "execution_count": null,
      "metadata": {
        "id": "2Uno10GRfHOG"
      },
      "outputs": [],
      "source": [
        "TransformerSampler.beam_search = beam_search\n",
        "\n",
        "sampler = TransformerSampler(model, tokenizer)\n",
        "\n",
        "prompt = \"The ships hung in the sky in much the same way that\"\n",
        "orig_len = len(tokenizer.encode(prompt))\n",
        "\n",
        "final_logitsums_and_completions = sampler.beam_search(\n",
        "    prompt=prompt,\n",
        "    num_return_sequences=3,\n",
        "    num_beams=40,\n",
        "    max_new_tokens=60,\n",
        "    no_repeat_ngram_size=2,\n",
        "    verbose=False\n",
        ")\n",
        "\n",
        "# Print all the best output\n",
        "for logprob_sum, text in final_logitsums_and_completions:\n",
        "    avg_logprob_as_prob = t.tensor(logprob_sum / (len(tokenizer.encode(text)) - orig_len)).exp().item()\n",
        "    print(\"=\" * 25 + f\" Avg logprob (as probability) = {avg_logprob_as_prob:.3f} \" + \"=\" * 25)\n",
        "    rprint(\"Best output:\\n\\n[bold dark_orange]\" + text)"
      ]
    },
    {
      "cell_type": "markdown",
      "metadata": {
        "id": "THgjSPShfHOG"
      },
      "source": [
        "<details>\n",
        "<summary>Solution (full)</summary>\n",
        "\n",
        "A solution for the class method `get_topk_non_repeating`:\n",
        "\n",
        "```python\n",
        "def get_topk_non_repeating(\n",
        "    self,\n",
        "    logprobs: Float[Tensor, \"batch d_vocab\"],\n",
        "    no_repeat_ngram_size: Optional[int],\n",
        "    k: int,\n",
        ") -> Tuple[Float[Tensor, \"k\"], Int[Tensor, \"k\"]]:\n",
        "    '''\n",
        "    logprobs:\n",
        "        tensor of the log-probs for the next token\n",
        "    no_repeat_ngram_size:\n",
        "        size of ngram to avoid repeating\n",
        "    k:\n",
        "        number of top logits to return, for each beam in our collection\n",
        "\n",
        "    Returns:\n",
        "        equivalent to the output of `logprobs.topk(dim=-1)`, but makes sure\n",
        "        that no returned tokens would produce an ngram of size  `no_repeat_ngram_size`\n",
        "        which has already appeared in `self.tokens`.\n",
        "    '''\n",
        "    batch, seq_len = self.tokens.shape\n",
        "    neg_inf = t.tensor(-1.0e4).to(device)\n",
        "\n",
        "    # If completion isn't long enough for a repetition, or we have no restructions, just return topk\n",
        "    if (no_repeat_ngram_size is not None) and (seq_len > no_repeat_ngram_size-1):\n",
        "        # Otherwise, we need to check for ngram repetitions\n",
        "        # First, get the most recent `no_repeat_ngram_size-1` tokens\n",
        "        last_ngram_prefix = self.tokens[:, seq_len - (no_repeat_ngram_size-1):]\n",
        "        # Next, find all the tokens we're not allowed to generate (by going iterating through past ngrams and seeing if those ngram prefixes match the last one)\n",
        "        for i in range(seq_len - (no_repeat_ngram_size-1)):\n",
        "            ngrams = self.tokens[:, i:i+no_repeat_ngram_size] # (batch, ngram)\n",
        "            ngrams_are_repeated = (ngrams[:, :-1] == last_ngram_prefix).all(-1) # (batch,)\n",
        "            ngram_end_tokens = ngrams[:, [-1]] # (batch, 1)\n",
        "            # Fill logprobs with neginf wherever the ngrams are repeated\n",
        "            logprobs[range(batch), ngram_end_tokens] = t.where(\n",
        "                ngrams_are_repeated,\n",
        "                neg_inf,\n",
        "                logprobs[range(batch), ngram_end_tokens],\n",
        "        )\n",
        "\n",
        "    # Finally, get our actual tokens\n",
        "    return logprobs.topk(k=k, dim=-1)\n",
        "```\n",
        "\n",
        "and for the main function:\n",
        "\n",
        "```python\n",
        "@t.inference_mode()\n",
        "def beam_search(\n",
        "    self: TransformerSampler,\n",
        "    prompt: str,\n",
        "    num_return_sequences: int,\n",
        "    num_beams: int,\n",
        "    max_new_tokens: int,\n",
        "    no_repeat_ngram_size: Optional[int] = None,\n",
        "    verbose=False\n",
        ") -> List[Tuple[float, Tensor]]:\n",
        "    '''\n",
        "    Implements a beam search, by repeatedly performing the `generate` and `filter` steps (starting\n",
        "    from the initial prompt) until either of the two stopping criteria are met:\n",
        "\n",
        "        (1) we've generated `max_new_tokens` tokens, or\n",
        "        (2) we've generated `num_returns_sequences` terminating sequences.\n",
        "\n",
        "    To modularize this function, most of the actual complexity is in the Beams class,\n",
        "    in the `generate` and `filter` methods.\n",
        "    '''\n",
        "\n",
        "    assert num_return_sequences <= num_beams\n",
        "    self.model.eval()\n",
        "\n",
        "    # SOLUTION\n",
        "    tokens = self.tokenizer.encode(prompt, return_tensors=\"pt\").to(device)\n",
        "\n",
        "    # List for final beams to return (and early terminations)\n",
        "    final_logprobs_and_completions: List[Tuple[float, str]] = []\n",
        "    # Keep track of all best beams after each step\n",
        "    best_beams = Beams(self.model, self.tokenizer, t.tensor([0.0]).to(device), tokens)\n",
        "\n",
        "    for n in tqdm(range(max_new_tokens)):\n",
        "\n",
        "        # Generation step\n",
        "        best_beams = best_beams.generate(toks_per_beam=num_beams, no_repeat_ngram_size=no_repeat_ngram_size)\n",
        "\n",
        "        # Filtering step\n",
        "        best_beams, best_beams_terminated = best_beams.filter(num_beams=num_beams)\n",
        "        final_logprobs_and_completions.extend(best_beams_terminated.logprobs_and_completions)\n",
        "\n",
        "        # Print output\n",
        "        if verbose:\n",
        "            best_beams.print()\n",
        "\n",
        "        # Check stopping condition\n",
        "        if len(final_logprobs_and_completions) >= num_return_sequences:\n",
        "            return final_logprobs_and_completions[:num_return_sequences]\n",
        "\n",
        "    final_logprobs_and_completions.extend(best_beams.logprobs_and_completions)\n",
        "    final_logprobs_and_completions = final_logprobs_and_completions[:num_return_sequences]\n",
        "    return final_logprobs_and_completions\n",
        "```\n",
        "\n",
        "</details>\n"
      ]
    },
    {
      "cell_type": "markdown",
      "metadata": {
        "id": "J8FpquaGfHOH"
      },
      "source": [
        "## Caching\n"
      ]
    },
    {
      "cell_type": "markdown",
      "metadata": {
        "id": "_myyOt5hfHOH"
      },
      "source": [
        "*This section is also designed to be challenging, and take quite some time. There are many different ways to solve it, and you're expected to try and find your own way (you should think about this for a while before looking at the suggestions in the dropdowns). Additionally, you might not find it as interesting as some of the other sections. In this case, and if you have a lot of extra time, you might want to start on the \"building BERT\" exercises from this chapter.*\n"
      ]
    },
    {
      "cell_type": "markdown",
      "metadata": {
        "id": "vu83LC_4fHOH"
      },
      "source": [
        "### How can caching help us?\n",
        "\n",
        "The text generation we've done so far is needlessly re-computing certain values, which is very noticeable when you try to generate longer sequences.\n",
        "\n",
        "Suppose you're generating text, and you've already run GPT on the sentence \"My life motto:\". Now you want to run the model on the sentence \"My life motto: Always\". Which computations from the first sentence can you reuse?\n",
        "\n",
        "<details>\n",
        "<summary>Answer</summary>\n",
        "\n",
        "At each attention layer, the only things the attention layer needs from the previous sequence positions are the key and value vectors. This is explained in the following diagram:\n",
        "\n",
        "<img src=\"https://raw.githubusercontent.com/callummcdougall/computational-thread-art/master/example_images/misc/tl-cache.png\" width=\"600\">\n",
        "\n",
        "</details>\n"
      ]
    },
    {
      "cell_type": "markdown",
      "metadata": {
        "id": "f7xGpbbZfHOH"
      },
      "source": [
        "### Exercise - implement caching\n",
        "\n",
        "```c\n",
        "Difficulty: 🔴🔴🔴🔴🔴\n",
        "Importance: 🔵⚪⚪⚪⚪\n",
        "\n",
        "You are expected to spend well over an hour on this exercise, if you choose to do it.\n",
        "```\n",
        "\n",
        "Modify your GPT-2 to optionally use a cache. When you run your GPT on `\"My life motto:\"`, it should store the necessary values in the cache. Then in the next forward pass with just `\" Always\"` as input, it should load the cached values instead of recomputing them (and update the cache). This only needs to work with a single input sequence (batch size of 1), and you can assume that after the first forward pass, the input will be just one token.\n",
        "\n",
        "The design of the cache is completely up to you - discuss possible designs with your partner before writing code. It should be possible to have only one GPT2 instance and many different cache instances at one time. Imagine that you want to use one instance to serve multiple users submitting requests for text generation like in [AI Dungeon](https://aidungeon.io/).\n",
        "\n",
        "You'll also need to rewrite parts of your `DemoTransformer` code, in order to get this to work. The tests have been built to accommodate modules which return their output as the first element in a tuple (i.e. `(output, cache)`) rather than just returning the output, so you should use the tests to verify that your modules still work as expected.\n",
        "\n",
        "Some example considerations:\n",
        "\n",
        "* Which GPT-2 classes need to interact with the cache?\n",
        "    * Will you need to change the positional embedding, and if so then how?\n",
        "* Should the cache be mutable and be updated in place, or does updating actually just create a separate instance?\n",
        "    * *(Hint here - think about how you might use the cache during beam search.)*\n",
        "* Is it possible for other programmers to incorrectly use your cache? Is there a way to prevent this failure mode or at least detect this and complain loudly?\n"
      ]
    },
    {
      "cell_type": "markdown",
      "metadata": {
        "id": "vq-Sx8apfHOH"
      },
      "source": [
        "<details>\n",
        "<summary>Cache implentation (example)</summary>\n",
        "\n",
        "This KeyValueCache object is structured as just a fancy tensor (it inherits all the methods from Tensor). The main difference is that it has a few extra helper methods, e.g. constructing an empty cache from a Config object.\n",
        "\n",
        "There are other ways you could do this, e.g. having your `KeyValueCache` class contain list of `KeyValueCacheEntry` objects (where each of these corresponds to a different layer).\n",
        "\n",
        "```python\n",
        "# Define a type for a single layer's cache entry (useful for type checking in later functions)\n",
        "KeyValueCacheTensor = Float[Tensor, \"2 batch seq_len n_heads d_head\"]\n",
        "\n",
        "class KeyValueCache(Tensor):\n",
        "    '''\n",
        "    This class holds tensors of key and value vectors, to be used for caching.\n",
        "\n",
        "    If we define it using cfg and batch then it's initialized as empty, but\n",
        "    we can also define it from kv_cache_entries.\n",
        "    '''\n",
        "    @classmethod\n",
        "    def new_empty(cls, cfg: Config, batch: int = 1) -> \"KeyValueCache\":\n",
        "        '''\n",
        "        Doing a forward pass on a cache created in this way indicates \"we don't\n",
        "        yet have a cache, but we want this forward pass to return a cache\".\n",
        "        Whereas using cache=None in a forward pass indicates we don't want to\n",
        "        return a cache.\n",
        "        '''\n",
        "        shape = (cfg.n_layers, 2, batch, 0, cfg.n_heads, cfg.d_head)\n",
        "        return cls(*shape).to(device)\n",
        "\n",
        "    # Define a handful of properties, so they can be referenced directly rather than\n",
        "    # indexing (which is more likely to lead to mistakes)\n",
        "\n",
        "    @property\n",
        "    def k(self) -> Tensor:\n",
        "        return self[:, 0]\n",
        "\n",
        "    @property\n",
        "    def v(self) -> Tensor:\n",
        "        return self[:, 1]\n",
        "\n",
        "    @property\n",
        "    def batch(self) -> int:\n",
        "        return self.shape[2]\n",
        "    \n",
        "    @property\n",
        "    def seq_len(self) -> int:\n",
        "        return self.shape[3]\n",
        "\n",
        "\n",
        "# Example implementation:\n",
        "cfg = model.cfg\n",
        "batch = 6\n",
        "kv_cache = KeyValueCache.new_empty(cfg, batch)\n",
        "\n",
        "print(f\"Shape of all kv-cache = {tuple(kv_cache.shape)}\")\n",
        "print(f\"Shape of just k-cache = {tuple(kv_cache.k.shape)}\")\n",
        "for kv_cache_entry in kv_cache:\n",
        "    print(f\"Shape of cache entry for one layer = {tuple(kv_cache_entry.shape)}\")\n",
        "    break\n",
        "print(f\"Batch size = {kv_cache.batch}\")\n",
        "print(f\"Current sequence length = {kv_cache.seq_len}\")\n",
        "```\n",
        "\n",
        "</details>\n",
        "\n",
        "<details>\n",
        "<summary>New <code>DemoTransformer</code> components (and testing)</summary>\n",
        "\n",
        "```python\n",
        "# Define new model parts where necessary, and create a new model & test it\n",
        "# Note that sometimes our modules return a tuple of (tensor output, cache) rather than just output. The\n",
        "# tests have been built to accommodate this.\n",
        "\n",
        "\n",
        "class PosEmbed(nn.Module):\n",
        "    def __init__(self, cfg: Config):\n",
        "        super().__init__()\n",
        "        self.cfg = cfg\n",
        "        self.W_pos = nn.Parameter(t.empty((cfg.n_ctx, cfg.d_model)))\n",
        "        nn.init.normal_(self.W_pos, std=self.cfg.init_range)\n",
        "\n",
        "    def forward(\n",
        "        self,\n",
        "        tokens: Int[Tensor, \"batch position\"],\n",
        "        past_kv_pos_offset: int = 0\n",
        "    ) -> Float[Tensor, \"batch position d_model\"]:\n",
        "        \n",
        "        # SOLUTION\n",
        "        batch, seq_len = tokens.shape\n",
        "        return einops.repeat(\n",
        "            self.W_pos[past_kv_pos_offset: seq_len+past_kv_pos_offset],\n",
        "            \"seq d_model -> batch seq d_model\",\n",
        "            batch=batch\n",
        "        )\n",
        "\n",
        "\n",
        "class Attention(nn.Module):\n",
        "    IGNORE: Float[Tensor, \"\"]\n",
        "\n",
        "    def __init__(self, cfg: Config):\n",
        "        super().__init__()\n",
        "        self.cfg = cfg\n",
        "        self.W_Q = nn.Parameter(t.empty((cfg.n_heads, cfg.d_model, cfg.d_head)))\n",
        "        self.W_K = nn.Parameter(t.empty((cfg.n_heads, cfg.d_model, cfg.d_head)))\n",
        "        self.W_V = nn.Parameter(t.empty((cfg.n_heads, cfg.d_model, cfg.d_head)))\n",
        "        self.W_O = nn.Parameter(t.empty((cfg.n_heads, cfg.d_head, cfg.d_model)))\n",
        "        self.b_Q = nn.Parameter(t.zeros((cfg.n_heads, cfg.d_head)))\n",
        "        self.b_K = nn.Parameter(t.zeros((cfg.n_heads, cfg.d_head)))\n",
        "        self.b_V = nn.Parameter(t.zeros((cfg.n_heads, cfg.d_head)))\n",
        "        self.b_O = nn.Parameter(t.zeros((cfg.d_model)))\n",
        "        nn.init.normal_(self.W_Q, std=self.cfg.init_range)\n",
        "        nn.init.normal_(self.W_K, std=self.cfg.init_range)\n",
        "        nn.init.normal_(self.W_V, std=self.cfg.init_range)\n",
        "        nn.init.normal_(self.W_O, std=self.cfg.init_range)\n",
        "        self.register_buffer(\"IGNORE\", t.tensor(-1e5, dtype=t.float32, device=device))\n",
        "\n",
        "    def forward(\n",
        "        self,\n",
        "        normalized_resid_pre: Float[Tensor, \"batch posn d_model\"],\n",
        "        kv_cache_entry: Optional[KeyValueCacheTensor] = None,\n",
        "    ) -> Tuple[\n",
        "        Float[Tensor, \"batch posn d_model\"],\n",
        "        Optional[KeyValueCacheTensor]\n",
        "    ]:\n",
        "        '''\n",
        "        Returns the result of applying attention layer to normlized_resid_pre, as well as\n",
        "        the new cached key and value vectors (which we get from concatenating the old cached\n",
        "        ones with the new key and value vectors).\n",
        "        '''\n",
        "        \n",
        "        # SOLUTION\n",
        "\n",
        "        # Calculate the new query, key and value vectors\n",
        "        q = einops.einsum(\n",
        "            normalized_resid_pre, self.W_Q,\n",
        "            \"batch posn d_model, nheads d_model d_head -> batch posn nheads d_head\"\n",
        "        ) + self.b_Q\n",
        "        k = einops.einsum(\n",
        "            normalized_resid_pre, self.W_K,\n",
        "            \"batch posn d_model, nheads d_model d_head -> batch posn nheads d_head\"\n",
        "        ) + self.b_K\n",
        "        v = einops.einsum(\n",
        "            normalized_resid_pre, self.W_V,\n",
        "            \"batch posn d_model, nheads d_model d_head -> batch posn nheads d_head\"\n",
        "        ) + self.b_V\n",
        "\n",
        "        # If cache_entry is not None, this means we use the previous key and value vectors\n",
        "        # Also we'll need to get a new cache entry which will be used later to construct a new cache\n",
        "        if kv_cache_entry is not None:\n",
        "            k = t.concat([kv_cache_entry[0], k], dim=1)\n",
        "            v = t.concat([kv_cache_entry[1], v], dim=1)\n",
        "            kv_cache_entry = t.stack([k, v])\n",
        "\n",
        "        # Calculate attention scores, then scale and mask, and apply softmax to get probabilities\n",
        "        attn_scores = einops.einsum(\n",
        "            q, k,\n",
        "            \"batch posn_Q nheads d_head, batch posn_K nheads d_head -> batch nheads posn_Q posn_K\"\n",
        "        )\n",
        "        attn_scores_masked = self.apply_causal_mask(attn_scores / self.cfg.d_head ** 0.5)\n",
        "        attn_pattern = attn_scores_masked.softmax(-1)\n",
        "\n",
        "        # Take weighted sum of value vectors, according to attention probabilities\n",
        "        z = einops.einsum(\n",
        "            v, attn_pattern,\n",
        "            \"batch posn_K nheads d_head, batch nheads posn_Q posn_K -> batch posn_Q nheads d_head\"\n",
        "        )\n",
        "\n",
        "        # Calculate output (by applying matrix W_O and summing over heads, then adding bias b_O)\n",
        "        out = einops.einsum(\n",
        "            z, self.W_O,\n",
        "            \"batch posn_Q nheads d_head, nheads d_head d_model -> batch posn_Q d_model\"\n",
        "        ) + self.b_O\n",
        "\n",
        "        return out, kv_cache_entry\n",
        "\n",
        "    def apply_causal_mask(\n",
        "        self, attn_scores: Float[Tensor, \"batch n_heads query_pos key_pos\"]\n",
        "    ) -> Float[Tensor, \"batch n_heads query_pos key_pos\"]:\n",
        "        '''\n",
        "        Here, attn_scores have shape (batch, n_heads, query_pos, key_pos), where query_pos represents the\n",
        "        new (non-cached) positions, and key_pos represent all the positions (cached and non-cached).\n",
        "\n",
        "        So when we create our mask, the query indices and key indices will both go up to the same value\n",
        "        (the full sequence length), but the query indices will start at >0.\n",
        "        '''\n",
        "        new_seq_len, full_seq_len = attn_scores.shape[-2:]\n",
        "        assert new_seq_len <= full_seq_len\n",
        "        q_posn = einops.repeat(attn_scores.new_tensor(range(full_seq_len-new_seq_len, full_seq_len)), \"q -> q k\", k=full_seq_len)\n",
        "        k_posn = einops.repeat(attn_scores.new_tensor(range(full_seq_len)), \"k -> q k\", q=new_seq_len)\n",
        "        mask = q_posn < k_posn\n",
        "        attn_scores = attn_scores.masked_fill(mask, self.IGNORE)\n",
        "        return attn_scores\n",
        "\n",
        "\n",
        "class TransformerBlock(nn.Module):\n",
        "    def __init__(self, cfg: Config):\n",
        "        super().__init__()\n",
        "        self.cfg = cfg\n",
        "        self.ln1 = LayerNorm(cfg)\n",
        "        self.attn = Attention(cfg)\n",
        "        self.ln2 = LayerNorm(cfg)\n",
        "        self.mlp = MLP(cfg)\n",
        "\n",
        "    def forward(\n",
        "        self,\n",
        "        resid_pre: Float[Tensor, \"batch position d_model\"],\n",
        "        kv_cache_entry: Optional[KeyValueCacheTensor] = None,\n",
        "    ) -> Float[Tensor, \"batch position d_model\"]:\n",
        "\n",
        "        # SOLUTION\n",
        "        attn_out, kv_cache_entry = self.attn(self.ln1(resid_pre), kv_cache_entry)\n",
        "        resid_mid = attn_out + resid_pre\n",
        "        resid_post = self.mlp(self.ln2(resid_mid)) + resid_mid\n",
        "        return resid_post, kv_cache_entry\n",
        "\n",
        "\n",
        "\n",
        "class DemoTransformer(nn.Module):\n",
        "    def __init__(self, cfg: Config):\n",
        "        super().__init__()\n",
        "        self.cfg = cfg\n",
        "        self.embed = Embed(cfg)\n",
        "        self.pos_embed = PosEmbed(cfg)\n",
        "        self.blocks = nn.ModuleList([TransformerBlock(cfg) for _ in range(cfg.n_layers)])\n",
        "        self.ln_final = LayerNorm(cfg)\n",
        "        self.unembed = Unembed(cfg)\n",
        "\n",
        "    def forward(\n",
        "        self,\n",
        "        tokens: Int[Tensor, \"batch seq_pos\"],\n",
        "        kv_cache: Optional[KeyValueCache] = None\n",
        "    ) -> Float[Tensor, \"batch position d_vocab\"]:\n",
        "        \n",
        "        using_kv_cache = kv_cache is not None\n",
        "\n",
        "        if using_kv_cache:\n",
        "            # If using kv_cache, then we only need to pass forward the newest tokens\n",
        "            # Remember to add positional offset!\n",
        "            n_cached_tokens = kv_cache.seq_len\n",
        "            tokens = tokens[:, n_cached_tokens:]\n",
        "            residual = self.embed(tokens) + self.pos_embed(tokens, n_cached_tokens)\n",
        "        else:\n",
        "            # If not using cache, turn it into a list of None's (so we can iterate through it)\n",
        "            kv_cache = [None for _ in range(self.cfg.n_layers)]\n",
        "            residual = self.embed(tokens) + self.pos_embed(tokens)\n",
        "        \n",
        "        # Apply all layers, and create a (new) kv_cache from the key & value vectors\n",
        "        new_kv_cache_entries: List[KeyValueCacheTensor] = []\n",
        "        for block, kv_cache_entry in zip(self.blocks, kv_cache):\n",
        "            residual, kv_cache_entry = block(residual, kv_cache_entry)\n",
        "            if using_kv_cache: new_kv_cache_entries.append(kv_cache_entry)\n",
        "        \n",
        "        logits = self.unembed(self.ln_final(residual))\n",
        "        \n",
        "        if using_kv_cache:\n",
        "            return logits, KeyValueCache(t.stack(new_kv_cache_entries))\n",
        "        else:\n",
        "            return logits, None\n",
        "\n",
        "\n",
        "tokens = reference_gpt2.to_tokens(reference_text).to(device)\n",
        "logits, cache = reference_gpt2.run_with_cache(tokens)\n",
        "\n",
        "rand_int_test(PosEmbed, [2, 4])\n",
        "load_gpt2_test(PosEmbed, reference_gpt2.pos_embed, tokens)\n",
        "rand_float_test(Attention, [2, 4, 768])\n",
        "load_gpt2_test(Attention, reference_gpt2.blocks[0].attn, cache[\"normalized\", 0, \"ln1\"])\n",
        "rand_float_test(TransformerBlock, [2, 4, 768])\n",
        "load_gpt2_test(TransformerBlock, reference_gpt2.blocks[0], cache[\"resid_pre\", 0])\n",
        "rand_int_test(DemoTransformer, [2, 4])\n",
        "load_gpt2_test(DemoTransformer, reference_gpt2, tokens)\n",
        "```\n",
        "\n",
        "</details>\n",
        "\n",
        "<details>\n",
        "<summary>New sampling function</summary>\n",
        "\n",
        "```python\n",
        "@t.inference_mode()\n",
        "def sample_with_cache(\n",
        "    self: TransformerSampler,\n",
        "    prompt: str,\n",
        "    max_tokens_generated=100,\n",
        "    kv_cache: Optional[KeyValueCache] = None,\n",
        "    verbose=False,\n",
        "    seed: Optional[int] = None,\n",
        "    **kwargs\n",
        ") -> str:\n",
        "    \n",
        "    # SOLUTION\n",
        "    self.model.eval()\n",
        "    input_ids = self.tokenizer.encode(prompt, return_tensors=\"pt\").to(device)[0]\n",
        "    if seed is not None:\n",
        "        np.random.seed(seed)\n",
        "        t.manual_seed(seed)\n",
        "\n",
        "    for i in tqdm(range(max_tokens_generated)):\n",
        "        # Get new logits (make sure we don't pass in more tokens than the model's context length)\n",
        "        logits, kv_cache = self.model(input_ids[None, -self.cfg.n_ctx:], kv_cache)\n",
        "        # We only take logits for the last token, because this is what we're sampling\n",
        "        logits = logits[0, -1]\n",
        "        # Get next token (as a tensor of size (1, 1) so we can concat it to input_ids)\n",
        "        next_token = t.tensor([TransformerSampler.sample_next_token(input_ids, logits, **kwargs)], device=device)\n",
        "        # Create new input ids string, with shape (1, old_seq_len + 1)\n",
        "        input_ids = t.cat([input_ids, next_token], dim=-1)\n",
        "        # Print out results, if required\n",
        "        if verbose:\n",
        "            print(self.tokenizer.decode(input_ids), end=\"\\r\")\n",
        "        # If our new token was the end-of-text token, stop\n",
        "        if next_token == getattr(self.tokenizer, \"eos_token_id\", None):\n",
        "            break\n",
        "    \n",
        "    return self.tokenizer.decode(input_ids)\n",
        "\n",
        "\n",
        "TransformerSampler.sample = sample_with_cache\n",
        "```\n",
        "</details>\n",
        "\n",
        "<details>\n",
        "<summary>Code to verify that the same output is being produced by cache and no-cache versions (and to compare speeds)</summary>\n",
        "\n",
        "```python\n",
        "device = t.device(\"cuda\") # can also try \"cpu\"\n",
        "\n",
        "model = DemoTransformer(Config()).to(device)\n",
        "model.load_state_dict(reference_gpt2.state_dict(), strict=False);\n",
        "\n",
        "initial_text = \"Eliezer Shlomo Yudkowsky (born September 11, 1979) is an American decision and artificial intelligence (AI) theorist and writer, best known for\"\n",
        "# input_ids = tokenizer.encode(initial_text, return_tensors=\"pt\").squeeze()\n",
        "\n",
        "sampler = TransformerSampler(model, tokenizer)\n",
        "\n",
        "# Run the noncached version\n",
        "t0 = time.time()\n",
        "text = sampler.sample(\n",
        "    initial_text,\n",
        "    temperature=0.7,\n",
        "    top_p=0.95,\n",
        "    seed=0,\n",
        ")\n",
        "print(f\"Time taken (without cache): {time.time() - t0:.2f} seconds\")\n",
        "rprint(f\"Model output:\\n\\n[bold dark_orange]{text}[/]\")\n",
        "\n",
        "# Run the cached version\n",
        "t0 = time.time()\n",
        "text_with_cache = sampler.sample(\n",
        "    initial_text,\n",
        "    temperature=0.7,\n",
        "    top_p=0.95,\n",
        "    seed=0,\n",
        "    kv_cache=KeyValueCache.new_empty(sampler.cfg)\n",
        ")\n",
        "print(f\"Time taken (with cache): {time.time() - t0:.2f} seconds\")\n",
        "rprint(f\"Model output:\\n\\n[bold dark_orange]{text_with_cache}[/]\")\n",
        "\n",
        "# # Check they are the same\n",
        "assert text == text_with_cache, \"Your outputs are different, meaning you've probably made a mistake in your cache implementation (or failed to use random seeds).\"\n",
        "print(\"Tests passed!\")\n",
        "```\n",
        "\n",
        "</details>\n"
      ]
    },
    {
      "cell_type": "markdown",
      "metadata": {
        "id": "FhYU3O6sfHOH"
      },
      "source": [
        "You may find that your cache implementation provides a modest speedup, but probably not close to the `seq_len`-factor speedup you'd expect from the fact that you only compute one additional token at each step rather than all of them. Why is this? The answer is that, much like everything to do with computational and memory costs in deep learning, it's not so simple. There are a host of different factors which might be bottlenecking our model's forward pass speed. If you try this on the CPU, you should get a much more noticeable speedup.\n",
        "\n",
        "For a bit more on these topics, see [here](https://kipp.ly/blog/transformer-inference-arithmetic/#kv-cache).\n"
      ]
    },
    {
      "cell_type": "markdown",
      "metadata": {
        "id": "0S_uxUzRfHOH"
      },
      "source": [
        "## Bonus - cached beam search\n",
        "\n",
        "Can you modify your beam search function to use caching?\n",
        "\n",
        "Depending on how you implemented your cache earlier, you might find that a different form of caching is better suited to beam search.\n",
        "\n",
        "Again, we've provided an example implementation in a dropdown below, which is based on the cache implementation above and the previous solution for `beam_search`.\n",
        "\n",
        "<details>\n",
        "<summary>Cached beam search function</summary>\n",
        "\n",
        "As we touched on earlier, thanks to our modular code, not a lot needs to be changed when adding cache support.\n",
        "\n",
        "```python\n",
        "@dataclass\n",
        "class Beams:\n",
        "    '''Class to store beams during beam search.'''\n",
        "    model: DemoTransformer\n",
        "    tokenizer: GPT2TokenizerFast\n",
        "    logprob_sums: Float[Tensor, \"batch\"]\n",
        "    tokens: Int[Tensor, \"batch seq\"]\n",
        "    kv_cache: Optional[KeyValueCache] = None\n",
        "\n",
        "    def new_beams(self, logprob_sums, tokens, kv_cache) -> \"Beams\":\n",
        "        '''Creates a new Beams object with the same model and tokenizer.'''\n",
        "        return Beams(self.model, self.tokenizer, logprob_sums, tokens, kv_cache)\n",
        "\n",
        "    def __getitem__(self, idx) -> \"Beams\":\n",
        "        '''Helpful function allowing you to take a slice of the beams object along the batch dimension.'''\n",
        "        return self.new_beams(\n",
        "            self.logprob_sums[idx],\n",
        "            self.tokens[idx],\n",
        "            self.kv_cache[:, :, idx] if self.kv_cache is not None else None\n",
        "        )\n",
        "\n",
        "    @property\n",
        "    def logprobs_and_completions(self) -> List[Tuple[float, str]]:\n",
        "        '''Returns self as a list of logprob sums and completions (useful for getting final output).'''\n",
        "        return [\n",
        "            (logprob_sum.item(), self.tokenizer.decode(tokens))\n",
        "            for (logprob_sum, tokens) in zip(self.logprob_sums, self.tokens)\n",
        "        ]\n",
        "    \n",
        "\n",
        "    def generate(self, new_beams: int, no_repeat_ngram_size: Optional[int] = None) -> \"Beams\":\n",
        "        '''\n",
        "        Starting from the current set of beams (which has length `num_beams`), returns a new\n",
        "        set of `num_beams * new_beams`, containing the best `new_beams` continuations for each\n",
        "        of the original beams.\n",
        "\n",
        "        Optional argument `no_repeat_ngram_size` means your model won't generate any sequences with\n",
        "        a repeating n-gram of this length (don't worry about implementing this until later).\n",
        "        '''\n",
        "        # SOLUTION\n",
        "\n",
        "        # Get the output logprobs for the next token (for every sequence in current beams)\n",
        "        logprobs, kv_cache = self.model(self.tokens, self.kv_cache)\n",
        "        logprobs = logprobs[:, -1, :].log_softmax(-1)\n",
        "\n",
        "        # Get the top `new_beams` tokens for each sequence\n",
        "        topk_logprobs, topk_tokenIDs = self.get_topk_non_repeating(logprobs, no_repeat_ngram_size, k=new_beams)\n",
        "\n",
        "        # Get all of the new possible beams, via einops operations\n",
        "        #   Here, we're effectively flattening out the batch dimension and k dimension, to give us tensors\n",
        "        #   with every possible combination of (original sequence, new token) pairs.)\n",
        "        new_logprob_sums = sum([\n",
        "            einops.repeat(self.logprob_sums, \"batch -> (batch k)\", k=new_beams),\n",
        "            einops.rearrange(topk_logprobs, \"batch k -> (batch k)\")\n",
        "        ])\n",
        "        new_tokens = t.concat([\n",
        "            einops.repeat(self.tokens, \"batch seq -> (batch k) seq\", k=new_beams),\n",
        "            einops.rearrange(topk_tokenIDs, \"batch k -> (batch k) 1\")\n",
        "        ], dim=-1)\n",
        "        new_kv_cache = None if (self.kv_cache is None) else einops.repeat(\n",
        "            kv_cache, \"layer k_and_v batch ... -> layer k_and_v (batch k) ...\", k=new_beams\n",
        "        )\n",
        "        return self.new_beams(new_logprob_sums, new_tokens, new_kv_cache)\n",
        "\n",
        "\n",
        "    def filter(self, num_beams: int) -> Tuple[\"Beams\", \"Beams\"]:\n",
        "        '''\n",
        "        Returns:\n",
        "            best_beams: Beams\n",
        "                filtered version of self, containing all best `num_beams` which are also not terminated.\n",
        "\n",
        "            early_terminations: Beams\n",
        "                filtered version of self, containing all best `num_beams` which are also terminated.\n",
        "                i.e. the sum of lengths of these two should equal `num_beams`.\n",
        "        '''\n",
        "        # SOLUTION\n",
        "\n",
        "        # Get the indices of top `num_beams` beams\n",
        "        top_beam_indices = self.logprob_sums.topk(k=num_beams, dim=0).indices.tolist()\n",
        "        # Get the indices of terminated sequences\n",
        "        new_tokens = self.tokens[:, -1]\n",
        "        terminated_indices = t.nonzero(new_tokens == self.tokenizer.eos_token_id)\n",
        "\n",
        "        # Get the indices of the `num_beams` best sequences (some terminated, some not terminated)\n",
        "        best_continuing = [i for i in top_beam_indices if i not in terminated_indices]\n",
        "        best_terminated = [i for i in top_beam_indices if i in terminated_indices]\n",
        "\n",
        "        # Return the beam objects from these indices\n",
        "        return self[best_continuing], self[best_terminated]\n",
        "\n",
        "            \n",
        "    def get_topk_non_repeating(\n",
        "        self,\n",
        "        logprobs: Float[Tensor, \"batch d_vocab\"],\n",
        "        no_repeat_ngram_size: Optional[int],\n",
        "        k: int,\n",
        "    ) -> Tuple[Float[Tensor, \"k\"], Int[Tensor, \"k\"]]:\n",
        "        '''\n",
        "        logprobs:\n",
        "            tensor of the log-probs for the next token\n",
        "        no_repeat_ngram_size:\n",
        "            size of ngram to avoid repeating\n",
        "        k:\n",
        "            number of top logits to return, for each beam in our collection\n",
        "\n",
        "        Returns:\n",
        "            equivalent to the output of `logprobs.topk(dim=-1)`, but makes sure\n",
        "            that no returned tokens would produce an ngram of size  `no_repeat_ngram_size`\n",
        "            which has already appeared in `self.tokens`.\n",
        "        '''\n",
        "        batch, seq_len = self.tokens.shape\n",
        "        neg_inf = t.tensor(-1.0e4).to(device)\n",
        "\n",
        "        # If completion isn't long enough for a repetition, or we have no restructions, just return topk\n",
        "        if (no_repeat_ngram_size is not None) and (seq_len > no_repeat_ngram_size-1):\n",
        "            # Otherwise, we need to check for ngram repetitions\n",
        "            # First, get the most recent `no_repeat_ngram_size-1` tokens\n",
        "            last_ngram_prefix = self.tokens[:, seq_len - (no_repeat_ngram_size-1):]\n",
        "            # Next, find all the tokens we're not allowed to generate (by going iterating through past ngrams and seeing if those ngram prefixes match the last one)\n",
        "            for i in range(seq_len - (no_repeat_ngram_size-1)):\n",
        "                ngrams = self.tokens[:, i:i+no_repeat_ngram_size] # (batch, ngram)\n",
        "                ngrams_are_repeated = (ngrams[:, :-1] == last_ngram_prefix).all(-1) # (batch,)\n",
        "                ngram_end_tokens = ngrams[:, [-1]] # (batch, 1)\n",
        "                # Fill logprobs with neginf wherever the ngrams are repeated\n",
        "                logprobs[range(batch), ngram_end_tokens] = t.where(\n",
        "                    ngrams_are_repeated,\n",
        "                    neg_inf,\n",
        "                    logprobs[range(batch), ngram_end_tokens],\n",
        "            )\n",
        "\n",
        "        # Finally, get our actual tokens\n",
        "        return logprobs.topk(k=k, dim=-1)\n",
        "\n",
        "    def print(self, title=\"Best completions\", max_print_chars=80) -> None:\n",
        "        '''\n",
        "        Prints out a set of sequences with their corresponding logitsums.\n",
        "        '''\n",
        "        if len(self.tokens) == 0:\n",
        "            return\n",
        "        table = Table(\"logitsum\", \"completion\", title=title)\n",
        "        for logprob_sum, tokens in zip(self.logprob_sums, self.tokens):\n",
        "            text = self.tokenizer.decode(tokens)\n",
        "            if len(repr(text)) > max_print_chars:\n",
        "                text = text[:int(0.3 * max_print_chars)] + \" ... \" + text[-int(0.7 * max_print_chars):]\n",
        "            table.add_row(f\"{logprob_sum:>8.3f}\", repr(text))\n",
        "        rprint(table)\n",
        "\n",
        "\n",
        "@t.inference_mode()\n",
        "def beam_search(\n",
        "    self: TransformerSampler,\n",
        "    prompt: str,\n",
        "    num_return_sequences: int,\n",
        "    num_beams: int,\n",
        "    max_new_tokens: int,\n",
        "    no_repeat_ngram_size: Optional[int] = None,\n",
        "    kv_cache: Optional[KeyValueCache] = None,\n",
        "    verbose=False\n",
        ") -> List[Tuple[float, Tensor]]:\n",
        "    '''\n",
        "    Implements a beam search, by repeatedly performing the `generate` and `filter` steps (starting\n",
        "    from the initial prompt) until either of the two stopping criteria are met:\n",
        "\n",
        "        (1) we've generated `max_new_tokens` tokens, or\n",
        "        (2) we've generated `num_returns_sequences` terminating sequences.\n",
        "\n",
        "    To modularize this function, most of the actual complexity is in the Beams class,\n",
        "    in the `generate` and `filter` methods.\n",
        "    '''\n",
        "\n",
        "    assert num_return_sequences <= num_beams\n",
        "    self.model.eval()\n",
        "\n",
        "    # SOLUTION\n",
        "    tokens = self.tokenizer.encode(prompt, return_tensors=\"pt\").to(device)\n",
        "\n",
        "    # List for final beams to return (and early terminations)\n",
        "    final_logprobs_and_completions: List[Tuple[float, str]] = []\n",
        "    # Keep track of all best beams after each step\n",
        "    best_beams = Beams(self.model, self.tokenizer, t.tensor([0.0]).to(device), tokens, kv_cache)\n",
        "\n",
        "    for n in tqdm(range(max_new_tokens)):\n",
        "\n",
        "        # Generation step\n",
        "        best_beams = best_beams.generate(num_beams, no_repeat_ngram_size)\n",
        "\n",
        "        # Filtering step\n",
        "        best_beams, best_beams_terminated = best_beams.filter(num_beams)\n",
        "        final_logprobs_and_completions.extend(best_beams_terminated.logprobs_and_completions)\n",
        "\n",
        "        # Print output\n",
        "        if verbose:\n",
        "            best_beams.print()\n",
        "\n",
        "        # Check stopping condition\n",
        "        if len(final_logprobs_and_completions) >= num_return_sequences:\n",
        "            return final_logprobs_and_completions[:num_return_sequences]\n",
        "\n",
        "    final_logprobs_and_completions.extend(best_beams.logprobs_and_completions)\n",
        "    final_logprobs_and_completions = final_logprobs_and_completions[:num_return_sequences]\n",
        "    return final_logprobs_and_completions\n",
        "\n",
        "\n",
        "TransformerSampler.beam_search = beam_search\n",
        "```\n",
        "\n",
        "</details>\n",
        "\n",
        "<details>\n",
        "<summary>Code to verify that the same output is being produced by cache and no-cache versions (and to compare speeds)</summary>\n",
        "\n",
        "```python\n",
        "prompt = \"For you, the day Bison graced your village was the most important day of your life. But for me, it was\"\n",
        "orig_len = len(tokenizer.encode(prompt))\n",
        "\n",
        "beam_search_kwargs = dict(\n",
        "    prompt=prompt,\n",
        "    num_return_sequences=3,\n",
        "    num_beams=20,\n",
        "    max_new_tokens=60,\n",
        "    no_repeat_ngram_size=2,\n",
        "    verbose=False\n",
        ")\n",
        "\n",
        "sampler = TransformerSampler(model, tokenizer)\n",
        "\n",
        "# Run the noncached version\n",
        "t0 = time.time()\n",
        "final_logitsums_and_completions = sampler.beam_search(**beam_search_kwargs)\n",
        "logprob_sum, text = final_logitsums_and_completions[0]\n",
        "avg_logprob_as_prob = t.tensor(logprob_sum / (len(tokenizer.encode(text)) - orig_len)).exp().item()\n",
        "print(f\"Time (without cache): {time.time() - t0:.2f} seconds\")\n",
        "print(f\"Avg logprob (expressed as a probability) = {avg_logprob_as_prob:.3f}\")\n",
        "rprint(f\"Output:\\n\\n[bold dark_orange]{text}[/]\\n\\n\")\n",
        "\n",
        "# Run the cached version\n",
        "t0 = time.time()\n",
        "beam_search_kwargs[\"kv_cache\"] = KeyValueCache.new_empty(model.cfg)\n",
        "final_logitsums_and_completions = sampler.beam_search(**beam_search_kwargs)\n",
        "logprob_sum, text_with_cache = final_logitsums_and_completions[0]\n",
        "avg_logprob_as_prob = t.tensor(logprob_sum / (len(tokenizer.encode(text)) - orig_len)).exp().item()\n",
        "print(f\"Time (with cache): {time.time() - t0:.2f} seconds\")\n",
        "print(f\"Avg logprob (as probability) = {avg_logprob_as_prob:.3f}\", end=\"\")\n",
        "rprint(f\"Output:\\n\\n[bold dark_orange]{text_with_cache}[/]\\n\\n\")\n",
        "\n",
        "# Check they are the same\n",
        "assert text == text_with_cache, \"Your outputs are different, meaning you've probably made a mistake in your cache implementation.\"\n",
        "print(\"Tests passed!\")\n",
        "```\n",
        "\n",
        "</details>\n"
      ]
    }
  ],
  "metadata": {
    "accelerator": "GPU",
    "colab": {
      "provenance": [],
      "gpuClass": "premium",
      "gpuType": "A100"
    },
    "kernelspec": {
      "display_name": "Python 3",
      "name": "python3"
    },
    "language_info": {
      "codemirror_mode": {
        "name": "ipython",
        "version": 3
      },
      "file_extension": ".py",
      "mimetype": "text/x-python",
      "name": "python",
      "nbconvert_exporter": "python",
      "pygments_lexer": "ipython3",
      "version": "3.10.9"
    },
    "orig_nbformat": 4,
    "vscode": {
      "interpreter": {
        "hash": "0575d7a87c0e74eddddcbc1a627da1d71db6b89a3121c036174dfb29a1bf0df3"
      }
    },
    "widgets": {
      "application/vnd.jupyter.widget-state+json": {
        "61f7d0e6f30744b1b4bb772a4af5b4a3": {
          "model_module": "@jupyter-widgets/controls",
          "model_name": "HBoxModel",
          "model_module_version": "1.5.0",
          "state": {
            "_dom_classes": [],
            "_model_module": "@jupyter-widgets/controls",
            "_model_module_version": "1.5.0",
            "_model_name": "HBoxModel",
            "_view_count": null,
            "_view_module": "@jupyter-widgets/controls",
            "_view_module_version": "1.5.0",
            "_view_name": "HBoxView",
            "box_style": "",
            "children": [
              "IPY_MODEL_d6e4a4a0ce62410a902e208cdd63f719",
              "IPY_MODEL_25ae6947923843aabe2e02dc5c90c656",
              "IPY_MODEL_eafe05ec67ce4ddd9e04b2d30a292a3e"
            ],
            "layout": "IPY_MODEL_6e64437763a54bb0af3939e78f55d0d6"
          }
        },
        "d6e4a4a0ce62410a902e208cdd63f719": {
          "model_module": "@jupyter-widgets/controls",
          "model_name": "HTMLModel",
          "model_module_version": "1.5.0",
          "state": {
            "_dom_classes": [],
            "_model_module": "@jupyter-widgets/controls",
            "_model_module_version": "1.5.0",
            "_model_name": "HTMLModel",
            "_view_count": null,
            "_view_module": "@jupyter-widgets/controls",
            "_view_module_version": "1.5.0",
            "_view_name": "HTMLView",
            "description": "",
            "description_tooltip": null,
            "layout": "IPY_MODEL_b77328da903b415db86e2e3b3ced84f7",
            "placeholder": "​",
            "style": "IPY_MODEL_063fb3a55a9e41069d1feabed6cd893b",
            "value": "100%"
          }
        },
        "25ae6947923843aabe2e02dc5c90c656": {
          "model_module": "@jupyter-widgets/controls",
          "model_name": "FloatProgressModel",
          "model_module_version": "1.5.0",
          "state": {
            "_dom_classes": [],
            "_model_module": "@jupyter-widgets/controls",
            "_model_module_version": "1.5.0",
            "_model_name": "FloatProgressModel",
            "_view_count": null,
            "_view_module": "@jupyter-widgets/controls",
            "_view_module_version": "1.5.0",
            "_view_name": "ProgressView",
            "bar_style": "success",
            "description": "",
            "description_tooltip": null,
            "layout": "IPY_MODEL_be1777d53dfc4b079af33e500f89f5a8",
            "max": 100,
            "min": 0,
            "orientation": "horizontal",
            "style": "IPY_MODEL_c449a77de296471caa2545331c8a21f4",
            "value": 100
          }
        },
        "eafe05ec67ce4ddd9e04b2d30a292a3e": {
          "model_module": "@jupyter-widgets/controls",
          "model_name": "HTMLModel",
          "model_module_version": "1.5.0",
          "state": {
            "_dom_classes": [],
            "_model_module": "@jupyter-widgets/controls",
            "_model_module_version": "1.5.0",
            "_model_name": "HTMLModel",
            "_view_count": null,
            "_view_module": "@jupyter-widgets/controls",
            "_view_module_version": "1.5.0",
            "_view_name": "HTMLView",
            "description": "",
            "description_tooltip": null,
            "layout": "IPY_MODEL_19ad4327f3e54d9e89ff2d8e1e1ec66c",
            "placeholder": "​",
            "style": "IPY_MODEL_caff549e0f374d6e835bce8888c4c68a",
            "value": " 100/100 [00:02&lt;00:00, 38.66it/s]"
          }
        },
        "6e64437763a54bb0af3939e78f55d0d6": {
          "model_module": "@jupyter-widgets/base",
          "model_name": "LayoutModel",
          "model_module_version": "1.2.0",
          "state": {
            "_model_module": "@jupyter-widgets/base",
            "_model_module_version": "1.2.0",
            "_model_name": "LayoutModel",
            "_view_count": null,
            "_view_module": "@jupyter-widgets/base",
            "_view_module_version": "1.2.0",
            "_view_name": "LayoutView",
            "align_content": null,
            "align_items": null,
            "align_self": null,
            "border": null,
            "bottom": null,
            "display": null,
            "flex": null,
            "flex_flow": null,
            "grid_area": null,
            "grid_auto_columns": null,
            "grid_auto_flow": null,
            "grid_auto_rows": null,
            "grid_column": null,
            "grid_gap": null,
            "grid_row": null,
            "grid_template_areas": null,
            "grid_template_columns": null,
            "grid_template_rows": null,
            "height": null,
            "justify_content": null,
            "justify_items": null,
            "left": null,
            "margin": null,
            "max_height": null,
            "max_width": null,
            "min_height": null,
            "min_width": null,
            "object_fit": null,
            "object_position": null,
            "order": null,
            "overflow": null,
            "overflow_x": null,
            "overflow_y": null,
            "padding": null,
            "right": null,
            "top": null,
            "visibility": null,
            "width": null
          }
        },
        "b77328da903b415db86e2e3b3ced84f7": {
          "model_module": "@jupyter-widgets/base",
          "model_name": "LayoutModel",
          "model_module_version": "1.2.0",
          "state": {
            "_model_module": "@jupyter-widgets/base",
            "_model_module_version": "1.2.0",
            "_model_name": "LayoutModel",
            "_view_count": null,
            "_view_module": "@jupyter-widgets/base",
            "_view_module_version": "1.2.0",
            "_view_name": "LayoutView",
            "align_content": null,
            "align_items": null,
            "align_self": null,
            "border": null,
            "bottom": null,
            "display": null,
            "flex": null,
            "flex_flow": null,
            "grid_area": null,
            "grid_auto_columns": null,
            "grid_auto_flow": null,
            "grid_auto_rows": null,
            "grid_column": null,
            "grid_gap": null,
            "grid_row": null,
            "grid_template_areas": null,
            "grid_template_columns": null,
            "grid_template_rows": null,
            "height": null,
            "justify_content": null,
            "justify_items": null,
            "left": null,
            "margin": null,
            "max_height": null,
            "max_width": null,
            "min_height": null,
            "min_width": null,
            "object_fit": null,
            "object_position": null,
            "order": null,
            "overflow": null,
            "overflow_x": null,
            "overflow_y": null,
            "padding": null,
            "right": null,
            "top": null,
            "visibility": null,
            "width": null
          }
        },
        "063fb3a55a9e41069d1feabed6cd893b": {
          "model_module": "@jupyter-widgets/controls",
          "model_name": "DescriptionStyleModel",
          "model_module_version": "1.5.0",
          "state": {
            "_model_module": "@jupyter-widgets/controls",
            "_model_module_version": "1.5.0",
            "_model_name": "DescriptionStyleModel",
            "_view_count": null,
            "_view_module": "@jupyter-widgets/base",
            "_view_module_version": "1.2.0",
            "_view_name": "StyleView",
            "description_width": ""
          }
        },
        "be1777d53dfc4b079af33e500f89f5a8": {
          "model_module": "@jupyter-widgets/base",
          "model_name": "LayoutModel",
          "model_module_version": "1.2.0",
          "state": {
            "_model_module": "@jupyter-widgets/base",
            "_model_module_version": "1.2.0",
            "_model_name": "LayoutModel",
            "_view_count": null,
            "_view_module": "@jupyter-widgets/base",
            "_view_module_version": "1.2.0",
            "_view_name": "LayoutView",
            "align_content": null,
            "align_items": null,
            "align_self": null,
            "border": null,
            "bottom": null,
            "display": null,
            "flex": null,
            "flex_flow": null,
            "grid_area": null,
            "grid_auto_columns": null,
            "grid_auto_flow": null,
            "grid_auto_rows": null,
            "grid_column": null,
            "grid_gap": null,
            "grid_row": null,
            "grid_template_areas": null,
            "grid_template_columns": null,
            "grid_template_rows": null,
            "height": null,
            "justify_content": null,
            "justify_items": null,
            "left": null,
            "margin": null,
            "max_height": null,
            "max_width": null,
            "min_height": null,
            "min_width": null,
            "object_fit": null,
            "object_position": null,
            "order": null,
            "overflow": null,
            "overflow_x": null,
            "overflow_y": null,
            "padding": null,
            "right": null,
            "top": null,
            "visibility": null,
            "width": null
          }
        },
        "c449a77de296471caa2545331c8a21f4": {
          "model_module": "@jupyter-widgets/controls",
          "model_name": "ProgressStyleModel",
          "model_module_version": "1.5.0",
          "state": {
            "_model_module": "@jupyter-widgets/controls",
            "_model_module_version": "1.5.0",
            "_model_name": "ProgressStyleModel",
            "_view_count": null,
            "_view_module": "@jupyter-widgets/base",
            "_view_module_version": "1.2.0",
            "_view_name": "StyleView",
            "bar_color": null,
            "description_width": ""
          }
        },
        "19ad4327f3e54d9e89ff2d8e1e1ec66c": {
          "model_module": "@jupyter-widgets/base",
          "model_name": "LayoutModel",
          "model_module_version": "1.2.0",
          "state": {
            "_model_module": "@jupyter-widgets/base",
            "_model_module_version": "1.2.0",
            "_model_name": "LayoutModel",
            "_view_count": null,
            "_view_module": "@jupyter-widgets/base",
            "_view_module_version": "1.2.0",
            "_view_name": "LayoutView",
            "align_content": null,
            "align_items": null,
            "align_self": null,
            "border": null,
            "bottom": null,
            "display": null,
            "flex": null,
            "flex_flow": null,
            "grid_area": null,
            "grid_auto_columns": null,
            "grid_auto_flow": null,
            "grid_auto_rows": null,
            "grid_column": null,
            "grid_gap": null,
            "grid_row": null,
            "grid_template_areas": null,
            "grid_template_columns": null,
            "grid_template_rows": null,
            "height": null,
            "justify_content": null,
            "justify_items": null,
            "left": null,
            "margin": null,
            "max_height": null,
            "max_width": null,
            "min_height": null,
            "min_width": null,
            "object_fit": null,
            "object_position": null,
            "order": null,
            "overflow": null,
            "overflow_x": null,
            "overflow_y": null,
            "padding": null,
            "right": null,
            "top": null,
            "visibility": null,
            "width": null
          }
        },
        "caff549e0f374d6e835bce8888c4c68a": {
          "model_module": "@jupyter-widgets/controls",
          "model_name": "DescriptionStyleModel",
          "model_module_version": "1.5.0",
          "state": {
            "_model_module": "@jupyter-widgets/controls",
            "_model_module_version": "1.5.0",
            "_model_name": "DescriptionStyleModel",
            "_view_count": null,
            "_view_module": "@jupyter-widgets/base",
            "_view_module_version": "1.2.0",
            "_view_name": "StyleView",
            "description_width": ""
          }
        },
        "f127521f45444a019864eb3f873147d8": {
          "model_module": "@jupyter-widgets/controls",
          "model_name": "HBoxModel",
          "model_module_version": "1.5.0",
          "state": {
            "_dom_classes": [],
            "_model_module": "@jupyter-widgets/controls",
            "_model_module_version": "1.5.0",
            "_model_name": "HBoxModel",
            "_view_count": null,
            "_view_module": "@jupyter-widgets/controls",
            "_view_module_version": "1.5.0",
            "_view_name": "HBoxView",
            "box_style": "",
            "children": [
              "IPY_MODEL_829af288f9924b5592166bef8311eeef",
              "IPY_MODEL_db9c91fc780f4035b0dce664255124b7",
              "IPY_MODEL_f204cd27af8647a2aa885eed3363de97"
            ],
            "layout": "IPY_MODEL_e4e9d3f9355047159f8ad15a89191c6f"
          }
        },
        "829af288f9924b5592166bef8311eeef": {
          "model_module": "@jupyter-widgets/controls",
          "model_name": "HTMLModel",
          "model_module_version": "1.5.0",
          "state": {
            "_dom_classes": [],
            "_model_module": "@jupyter-widgets/controls",
            "_model_module_version": "1.5.0",
            "_model_name": "HTMLModel",
            "_view_count": null,
            "_view_module": "@jupyter-widgets/controls",
            "_view_module_version": "1.5.0",
            "_view_name": "HTMLView",
            "description": "",
            "description_tooltip": null,
            "layout": "IPY_MODEL_85b26156a7d541e586813225ca5490dc",
            "placeholder": "​",
            "style": "IPY_MODEL_81c9c931456e4b858e63cf49782e10bf",
            "value": "100%"
          }
        },
        "db9c91fc780f4035b0dce664255124b7": {
          "model_module": "@jupyter-widgets/controls",
          "model_name": "FloatProgressModel",
          "model_module_version": "1.5.0",
          "state": {
            "_dom_classes": [],
            "_model_module": "@jupyter-widgets/controls",
            "_model_module_version": "1.5.0",
            "_model_name": "FloatProgressModel",
            "_view_count": null,
            "_view_module": "@jupyter-widgets/controls",
            "_view_module_version": "1.5.0",
            "_view_name": "ProgressView",
            "bar_style": "success",
            "description": "",
            "description_tooltip": null,
            "layout": "IPY_MODEL_cabd610cb7d54583bc654d364398ce5d",
            "max": 10000,
            "min": 0,
            "orientation": "horizontal",
            "style": "IPY_MODEL_5d841c6baed54f04a4ac29206f1aa44d",
            "value": 10000
          }
        },
        "f204cd27af8647a2aa885eed3363de97": {
          "model_module": "@jupyter-widgets/controls",
          "model_name": "HTMLModel",
          "model_module_version": "1.5.0",
          "state": {
            "_dom_classes": [],
            "_model_module": "@jupyter-widgets/controls",
            "_model_module_version": "1.5.0",
            "_model_name": "HTMLModel",
            "_view_count": null,
            "_view_module": "@jupyter-widgets/controls",
            "_view_module_version": "1.5.0",
            "_view_name": "HTMLView",
            "description": "",
            "description_tooltip": null,
            "layout": "IPY_MODEL_4fc86e057c6741d3b361d083a3f138f7",
            "placeholder": "​",
            "style": "IPY_MODEL_1029f429586e4fa28ebf6242961a37fd",
            "value": " 10000/10000 [00:05&lt;00:00, 1710.81it/s]"
          }
        },
        "e4e9d3f9355047159f8ad15a89191c6f": {
          "model_module": "@jupyter-widgets/base",
          "model_name": "LayoutModel",
          "model_module_version": "1.2.0",
          "state": {
            "_model_module": "@jupyter-widgets/base",
            "_model_module_version": "1.2.0",
            "_model_name": "LayoutModel",
            "_view_count": null,
            "_view_module": "@jupyter-widgets/base",
            "_view_module_version": "1.2.0",
            "_view_name": "LayoutView",
            "align_content": null,
            "align_items": null,
            "align_self": null,
            "border": null,
            "bottom": null,
            "display": null,
            "flex": null,
            "flex_flow": null,
            "grid_area": null,
            "grid_auto_columns": null,
            "grid_auto_flow": null,
            "grid_auto_rows": null,
            "grid_column": null,
            "grid_gap": null,
            "grid_row": null,
            "grid_template_areas": null,
            "grid_template_columns": null,
            "grid_template_rows": null,
            "height": null,
            "justify_content": null,
            "justify_items": null,
            "left": null,
            "margin": null,
            "max_height": null,
            "max_width": null,
            "min_height": null,
            "min_width": null,
            "object_fit": null,
            "object_position": null,
            "order": null,
            "overflow": null,
            "overflow_x": null,
            "overflow_y": null,
            "padding": null,
            "right": null,
            "top": null,
            "visibility": null,
            "width": null
          }
        },
        "85b26156a7d541e586813225ca5490dc": {
          "model_module": "@jupyter-widgets/base",
          "model_name": "LayoutModel",
          "model_module_version": "1.2.0",
          "state": {
            "_model_module": "@jupyter-widgets/base",
            "_model_module_version": "1.2.0",
            "_model_name": "LayoutModel",
            "_view_count": null,
            "_view_module": "@jupyter-widgets/base",
            "_view_module_version": "1.2.0",
            "_view_name": "LayoutView",
            "align_content": null,
            "align_items": null,
            "align_self": null,
            "border": null,
            "bottom": null,
            "display": null,
            "flex": null,
            "flex_flow": null,
            "grid_area": null,
            "grid_auto_columns": null,
            "grid_auto_flow": null,
            "grid_auto_rows": null,
            "grid_column": null,
            "grid_gap": null,
            "grid_row": null,
            "grid_template_areas": null,
            "grid_template_columns": null,
            "grid_template_rows": null,
            "height": null,
            "justify_content": null,
            "justify_items": null,
            "left": null,
            "margin": null,
            "max_height": null,
            "max_width": null,
            "min_height": null,
            "min_width": null,
            "object_fit": null,
            "object_position": null,
            "order": null,
            "overflow": null,
            "overflow_x": null,
            "overflow_y": null,
            "padding": null,
            "right": null,
            "top": null,
            "visibility": null,
            "width": null
          }
        },
        "81c9c931456e4b858e63cf49782e10bf": {
          "model_module": "@jupyter-widgets/controls",
          "model_name": "DescriptionStyleModel",
          "model_module_version": "1.5.0",
          "state": {
            "_model_module": "@jupyter-widgets/controls",
            "_model_module_version": "1.5.0",
            "_model_name": "DescriptionStyleModel",
            "_view_count": null,
            "_view_module": "@jupyter-widgets/base",
            "_view_module_version": "1.2.0",
            "_view_name": "StyleView",
            "description_width": ""
          }
        },
        "cabd610cb7d54583bc654d364398ce5d": {
          "model_module": "@jupyter-widgets/base",
          "model_name": "LayoutModel",
          "model_module_version": "1.2.0",
          "state": {
            "_model_module": "@jupyter-widgets/base",
            "_model_module_version": "1.2.0",
            "_model_name": "LayoutModel",
            "_view_count": null,
            "_view_module": "@jupyter-widgets/base",
            "_view_module_version": "1.2.0",
            "_view_name": "LayoutView",
            "align_content": null,
            "align_items": null,
            "align_self": null,
            "border": null,
            "bottom": null,
            "display": null,
            "flex": null,
            "flex_flow": null,
            "grid_area": null,
            "grid_auto_columns": null,
            "grid_auto_flow": null,
            "grid_auto_rows": null,
            "grid_column": null,
            "grid_gap": null,
            "grid_row": null,
            "grid_template_areas": null,
            "grid_template_columns": null,
            "grid_template_rows": null,
            "height": null,
            "justify_content": null,
            "justify_items": null,
            "left": null,
            "margin": null,
            "max_height": null,
            "max_width": null,
            "min_height": null,
            "min_width": null,
            "object_fit": null,
            "object_position": null,
            "order": null,
            "overflow": null,
            "overflow_x": null,
            "overflow_y": null,
            "padding": null,
            "right": null,
            "top": null,
            "visibility": null,
            "width": null
          }
        },
        "5d841c6baed54f04a4ac29206f1aa44d": {
          "model_module": "@jupyter-widgets/controls",
          "model_name": "ProgressStyleModel",
          "model_module_version": "1.5.0",
          "state": {
            "_model_module": "@jupyter-widgets/controls",
            "_model_module_version": "1.5.0",
            "_model_name": "ProgressStyleModel",
            "_view_count": null,
            "_view_module": "@jupyter-widgets/base",
            "_view_module_version": "1.2.0",
            "_view_name": "StyleView",
            "bar_color": null,
            "description_width": ""
          }
        },
        "4fc86e057c6741d3b361d083a3f138f7": {
          "model_module": "@jupyter-widgets/base",
          "model_name": "LayoutModel",
          "model_module_version": "1.2.0",
          "state": {
            "_model_module": "@jupyter-widgets/base",
            "_model_module_version": "1.2.0",
            "_model_name": "LayoutModel",
            "_view_count": null,
            "_view_module": "@jupyter-widgets/base",
            "_view_module_version": "1.2.0",
            "_view_name": "LayoutView",
            "align_content": null,
            "align_items": null,
            "align_self": null,
            "border": null,
            "bottom": null,
            "display": null,
            "flex": null,
            "flex_flow": null,
            "grid_area": null,
            "grid_auto_columns": null,
            "grid_auto_flow": null,
            "grid_auto_rows": null,
            "grid_column": null,
            "grid_gap": null,
            "grid_row": null,
            "grid_template_areas": null,
            "grid_template_columns": null,
            "grid_template_rows": null,
            "height": null,
            "justify_content": null,
            "justify_items": null,
            "left": null,
            "margin": null,
            "max_height": null,
            "max_width": null,
            "min_height": null,
            "min_width": null,
            "object_fit": null,
            "object_position": null,
            "order": null,
            "overflow": null,
            "overflow_x": null,
            "overflow_y": null,
            "padding": null,
            "right": null,
            "top": null,
            "visibility": null,
            "width": null
          }
        },
        "1029f429586e4fa28ebf6242961a37fd": {
          "model_module": "@jupyter-widgets/controls",
          "model_name": "DescriptionStyleModel",
          "model_module_version": "1.5.0",
          "state": {
            "_model_module": "@jupyter-widgets/controls",
            "_model_module_version": "1.5.0",
            "_model_name": "DescriptionStyleModel",
            "_view_count": null,
            "_view_module": "@jupyter-widgets/base",
            "_view_module_version": "1.2.0",
            "_view_name": "StyleView",
            "description_width": ""
          }
        }
      }
    }
  },
  "nbformat": 4,
  "nbformat_minor": 0
}