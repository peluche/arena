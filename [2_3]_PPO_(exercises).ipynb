{
  "cells": [
    {
      "cell_type": "markdown",
      "source": [
        "# [2.3] - PPO\n"
      ],
      "metadata": {
        "id": "whCcGn3OQOaP"
      }
    },
    {
      "cell_type": "markdown",
      "metadata": {
        "id": "NzpGGRLH1tc8"
      },
      "source": [
        "Colab: [exercises](https://colab.research.google.com/drive/1UgXZRsIDsGmv6FhqkEuBCRMfkRsBC6nb?usp=sharing) | [solutions](https://colab.research.google.com/drive/1aMzOHbw-CAy6g81Vue7SXs5Hqy8JcxJd?usp=sharing)\n",
        "\n",
        "[Streamlit page](https://arena-ch2-rl.streamlit.app/[2.3]_PPO)\n",
        "\n",
        "Please send any problems / bugs on the `#errata` channel in the [Slack group](https://join.slack.com/t/arena-la82367/shared_invite/zt-1uvoagohe-JUv9xB7Vr143pdx1UBPrzQ), and ask any questions on the dedicated channels for this chapter of material."
      ]
    },
    {
      "cell_type": "markdown",
      "metadata": {
        "id": "ST7GZ0xkxW6j"
      },
      "source": [
        "<img src=\"https://raw.githubusercontent.com/callummcdougall/computational-thread-art/master/example_images/misc/football.jpeg\" width=\"350\">\n"
      ]
    },
    {
      "cell_type": "markdown",
      "metadata": {
        "id": "jd3LpCav3UXu"
      },
      "source": [
        "# Introduction"
      ]
    },
    {
      "cell_type": "markdown",
      "metadata": {
        "id": "0OxVf4WaJWQX"
      },
      "source": [
        "Proximal Policy Optimization (PPO) is a cutting-edge reinforcement learning algorithm that has gained significant attention in recent years. As an improvement over traditional policy optimization methods, PPO addresses key challenges such as sample efficiency, stability, and robustness in training deep neural networks for reinforcement learning tasks. With its ability to strike a balance between exploration and exploitation, PPO has demonstrated remarkable performance across a wide range of complex environments, including robotics, game playing, and autonomous control systems.\n",
        "\n",
        "In this section, you'll build your own agent to perform PPO on the CartPole environment. By the end, you should be able to train your agent to near perfect performance in about 30 seconds. You'll also be able to try out other things like **reward shaping**, to make it easier for your agent to learn to balance, or to do fun tricks! There are also additional exercises which allow you to experiment with other tasks, including **Atari** and the 3D physics engine **MuJoCo**.\n",
        "\n",
        "A lot of the setup as we go through these exercises will be similar to what we did yesterday for DQN, so you might find yourself moving quickly through certain sections."
      ]
    },
    {
      "cell_type": "markdown",
      "metadata": {
        "id": "Jw9yLGuUJWQY"
      },
      "source": [
        "## Content & Learning Objectives\n"
      ]
    },
    {
      "cell_type": "markdown",
      "metadata": {
        "id": "ZImx8sBRJWQY"
      },
      "source": [
        "#### 1️⃣ Setting up our agent\n",
        "\n",
        "> ##### Learning objectives\n",
        ">\n",
        "> * Understand the difference between the actor & critic networks, and what their roles are\n",
        "> * Learn about & implement generalised advantage estimation\n",
        "> * Build a replay memory to store & sample experiences\n",
        "> * Design an agent class to step through the environment & record experiences\n",
        "\n",
        "#### 2️⃣ Learning Phase\n",
        "\n",
        "> ##### Learning objectives\n",
        ">\n",
        "> * Implement the total objective function (sum of three separate terms)\n",
        "> * Understand the importance of each of these terms for the overall algorithm\n",
        "> * Write a function to return an optimizer and learning rate scheduler for your model\n",
        "\n",
        "#### 3️⃣ Training Loop\n",
        "\n",
        "> ##### Learning objectives\n",
        ">\n",
        "> * Build a full training loop for the PPO algorithm\n",
        "> * Train our agent, and visualise its performance with Weights & Biases media logger\n",
        "> * Use reward shaping to improve your agent's training (and make it do tricks!)\n",
        "\n",
        "#### 4️⃣ Atari\n",
        "\n",
        "> ##### Learning objectives\n",
        ">\n",
        "> * Understand how PPO can be used in visual domains, with appropriate architectures (CNNs)\n",
        "> * Understand the idea of policy and value heads\n",
        "> * Train an agent to solve the Breakout environment\n",
        "\n",
        "#### 5️⃣ MuJoCo\n",
        "\n",
        "> ##### Learning objectives\n",
        ">\n",
        "> * Understand how PPO can be used to train agents in continuous action spaces\n",
        "> * Install and interact with the MuJoCo physics engine\n",
        "> * Train an agent to solve the Hopper environment\n",
        "\n",
        "#### 6️⃣ Bonus\n",
        "\n",
        "We conclude with a set of optional bonus exercises, which you can try out before moving on to the RLHF sections."
      ]
    },
    {
      "cell_type": "markdown",
      "metadata": {
        "id": "W0RWgomzJWQZ"
      },
      "source": [
        "## PPO vs DQN\n",
        "\n",
        "Today, we'll be working on PPO (Proximal Policy Optimization). It has some similarities to DQN, but is based on a fundamentally different approach:\n",
        "\n",
        "<img src=\"https://raw.githubusercontent.com/callummcdougall/computational-thread-art/master/example_images/misc/ppo-vs-dqn-2.png\" width=\"1000\">\n",
        "\n",
        "\n",
        "A quick note again on the distinction between **states** and **observations**. In reality these are two different things (denoted $s_t$ and $o_t$), because our agent might not be able to see all relevant information. However, the games we'll be working with for the rest of this section make no distinction between them. Thus, we will only refer to $s_t$ going forwards.\n"
      ]
    },
    {
      "cell_type": "markdown",
      "metadata": {
        "id": "ACGjrQSIJWQZ"
      },
      "source": [
        "## Conceptual overview of PPO\n",
        "\n",
        "Below is an algorithm showing the conceptual overview of PPO. It's split into 2 main phases: **learning** and **rollout**.\n",
        "\n",
        "In **rollout**, we sample experiences using the current values of our actor and critic networks, and store them in memory. This is all done in inference mode. In **learning**, we use our current actor and critic networks (*not* in inference mode) plus these logged experiences to calculate an objective function and use it to update our network.\n",
        "\n",
        "<img src=\"https://raw.githubusercontent.com/callummcdougall/computational-thread-art/master/example_images/misc/ppo-alg-conceptual.png\" width=\"800\">\n"
      ]
    },
    {
      "cell_type": "markdown",
      "metadata": {
        "id": "O1i-SaV1JWQa"
      },
      "source": [
        "## Implementational overview of PPO\n",
        "\n",
        "There are 3 main classes you'll be using today:\n",
        "\n",
        "* `ReplayMemory`\n",
        "    * Stores experiences generated by agent\n",
        "    * Has a `get_minibatches` method, which samples data from memory to actually be used in training\n",
        "* `Agent`\n",
        "    * Contains the actor and critic networks, the `play_step` function, and a replay memory\n",
        "        * In other words, it contains both the thing doing the inference and the thing which interacts with environment & stores results\n",
        "        * This is a design choice, other designs might keep these separate\n",
        "    * Also has a `get_minibatches` method which calls the corresponding `ReplayMemory` method (and uses the agent's current state)\n",
        "* `PPOTrainer`\n",
        "    * This is the main class for training our model, it helps us keep methods like `rollout_phase` and `learning_phase` separate"
      ]
    },
    {
      "cell_type": "markdown",
      "metadata": {
        "id": "_-7Wz490JWQa"
      },
      "source": [
        "## Notes on today's workflow\n",
        "\n",
        "Your implementation might get huge benchmark scores by the end of the day, but don't worry if it struggles to learn the simplest of tasks. RL can be frustrating because the feedback you get is extremely noisy: the agent can fail even with correct code, and succeed with buggy code. Forming a systematic process for coping with the confusion and uncertainty is the point of today, more so than producing a working PPO implementation.\n",
        "\n",
        "Some parts of your process could include:\n",
        "\n",
        "- Forming hypotheses about why it isn't working, and thinking about what tests you could write, or where you could set a breakpoint to confirm the hypothesis.\n",
        "- Implementing some of the even more basic Gym environments and testing your agent on those.\n",
        "- Getting a sense for the meaning of various logged metrics, and what this implies about the training process\n",
        "- Noticing confusion and sections that don't make sense, and investigating this instead of hand-waving over it.\n"
      ]
    },
    {
      "cell_type": "markdown",
      "metadata": {
        "id": "Nfw_h-YlJWQa"
      },
      "source": [
        "## Readings\n",
        "\n",
        "* [An introduction to Policy Gradient methods - Deep RL\n",
        "](https://www.youtube.com/watch?v=5P7I-xPq8u8) (20 mins)\n",
        "    * This is a useful video which motivates the core setup of PPO (and in particular the clipped objective function) without spending too much time with the precise derivations. We recommend watching this video before doing the exercises.\n",
        "    * Note - you can ignore the short section on multi-GPU setup.\n",
        "    * Also, near the end the video says that PPO outputs parameters $\\mu$ and $\\sigma$ from which actions are sampled, this is true for non-discrete action spaces (which we'll be using later on) but we'll start by implementing PPO on CartPole meaning our observation and action space is discrete just like yesterday.\n",
        "* [The 37 Implementation Details of Proximal Policy Optimization](https://iclr-blog-track.github.io/2022/03/25/ppo-implementation-details/#solving-pong-in-5-minutes-with-ppo--envpool)\n",
        "    * **This is not required reading before the exercises**, but it will be a useful reference point as you go through the exercises.\n",
        "    * The good news is that you won't need all 37 of these today, so no need to read to the end.\n",
        "    * We will be tackling the 13 \"core\" details, not in the same order as presented here. Some of the sections below are labelled with the number they correspond to in this page (e.g. **Minibatch Update ([detail #6](https://iclr-blog-track.github.io/2022/03/25/ppo-implementation-details/#:~:text=Mini%2Dbatch%20Updates))**).\n",
        "* [Proximal Policy Optimization Algorithms](https://arxiv.org/pdf/1707.06347.pdf)\n",
        "    * **This is not required reading before the exercises**, but it will be a useful reference point for many of the key equations as you go through the exercises. In particular, you will find up to page 5 useful.\n",
        "\n",
        "$\\;$"
      ]
    },
    {
      "cell_type": "markdown",
      "source": [
        "### Optional Reading\n",
        "\n",
        "* [Spinning Up in Deep RL - Vanilla Policy Gradient](https://spinningup.openai.com/en/latest/algorithms/vpg.html#background)\n",
        "    * PPO is a fancier version of vanilla policy gradient, so if you're struggling to understand PPO it may help to look at the simpler setting first.\n",
        "* [Spinning Up in Deep RL - PPO](https://spinningup.openai.com/en/latest/algorithms/ppo.html)\n",
        "    * You don't need to follow all the derivations here, although as a general idea by the end you should at least have a qualitative understanding of what all the symbols represent.\n",
        "* [Andy Jones - Debugging RL, Without the Agonizing Pain](https://andyljones.com/posts/rl-debugging.html)\n",
        "    * You've already read this previously but it will come in handy again.\n",
        "    * You'll want to reuse your probe environments from yesterday, or you can import them from the solution if you didn't implement them all.\n",
        "* [Tricks from Deep RL Bootcamp at UC Berkeley](https://github.com/williamFalcon/DeepRLHacks/blob/master/README.md) - more debugging tips that may be of use.\n",
        "* [Lilian Weng Blog on PPO](https://lilianweng.github.io/posts/2018-04-08-policy-gradient/#ppo) - her writing on ML topics is consistently informative and informationally dense."
      ],
      "metadata": {
        "id": "skYjzK_OPPpJ"
      }
    },
    {
      "cell_type": "markdown",
      "metadata": {
        "id": "XcgAnZZOyBYk"
      },
      "source": [
        "## Setup (don't read, just run!)\n"
      ]
    },
    {
      "cell_type": "code",
      "source": [
        "try:\n",
        "    import google.colab # type: ignore\n",
        "    IN_COLAB = True\n",
        "except:\n",
        "    IN_COLAB = False\n",
        "\n",
        "import os, sys\n",
        "chapter = \"chapter2_rl\"\n",
        "repo = \"ARENA_3.0\"\n",
        "\n",
        "if IN_COLAB:\n",
        "\n",
        "    # Code to download the necessary files (e.g. solutions, test funcs)\n",
        "    import os, sys\n",
        "    if not os.path.exists(f\"/content/{chapter}\"):\n",
        "\n",
        "        # Install packages\n",
        "        %pip install wandb==0.13.10\n",
        "        %pip install einops\n",
        "        %pip install gym[atari]==0.23.1\n",
        "        %pip install pygame\n",
        "        %pip install jaxtyping\n",
        "\n",
        "        # Clone repo\n",
        "        os.system(f\"wget https://github.com/callummcdougall/{repo}/archive/refs/heads/main.zip\")\n",
        "        os.system(f\"unzip /content/main.zip '{repo}-main/{chapter}/exercises/*'\")\n",
        "        sys.path.append(f\"/content/{repo}-main/{chapter}/exercises\")\n",
        "        os.remove(\"/content/main.zip\")\n",
        "        os.rename(f\"{repo}-main/{chapter}\", chapter)\n",
        "        os.rmdir(f\"{repo}-main\")\n",
        "\n",
        "    os.chdir(f\"/content/{chapter}/exercises\")\n",
        "else:\n",
        "    from IPython import get_ipython\n",
        "    ipython = get_ipython()\n",
        "    ipython.run_line_magic(\"load_ext\", \"autoreload\")\n",
        "    ipython.run_line_magic(\"autoreload\", \"2\")"
      ],
      "metadata": {
        "id": "w5vI5NECLB-c"
      },
      "execution_count": null,
      "outputs": []
    },
    {
      "cell_type": "code",
      "execution_count": null,
      "metadata": {
        "id": "DRQ9j4ftyHXf"
      },
      "outputs": [],
      "source": [
        "import os\n",
        "import time\n",
        "import sys\n",
        "from dataclasses import dataclass\n",
        "from tqdm import tqdm\n",
        "import numpy as np\n",
        "from numpy.random import Generator\n",
        "import torch as t\n",
        "from torch import Tensor\n",
        "from torch.optim.optimizer import Optimizer\n",
        "import gym\n",
        "import gym.envs.registration\n",
        "from gym.envs.classic_control.cartpole import CartPoleEnv\n",
        "import torch.nn as nn\n",
        "import torch.optim as optim\n",
        "from torch.distributions.categorical import Categorical\n",
        "import einops\n",
        "from pathlib import Path\n",
        "from typing import List, Tuple, Literal, Union, Optional\n",
        "from jaxtyping import Float, Int\n",
        "import wandb\n",
        "from IPython.display import clear_output\n",
        "import matplotlib.pyplot as plt\n",
        "from matplotlib.animation import FuncAnimation\n",
        "import warnings\n",
        "warnings.filterwarnings('ignore')\n",
        "\n",
        "# Make sure exercises are in the path\n",
        "chapter = \"chapter2_rl\"\n",
        "exercises_dir = Path(f\"{os.getcwd().split(chapter)[0]}/{chapter}/exercises\").resolve()\n",
        "section_dir = exercises_dir / \"part3_ppo\"\n",
        "if str(exercises_dir) not in sys.path: sys.path.append(str(exercises_dir))\n",
        "\n",
        "from part2_q_learning_and_dqn.utils import set_global_seeds\n",
        "from part2_q_learning_and_dqn.solutions import Probe1, Probe2, Probe3, Probe4, Probe5\n",
        "from part3_ppo.utils import make_env\n",
        "import part3_ppo.utils as utils\n",
        "import part3_ppo.tests as tests\n",
        "from plotly_utils import plot_cartpole_obs_and_dones\n",
        "\n",
        "# Register our probes from last time\n",
        "for idx, probe in enumerate([Probe1, Probe2, Probe3, Probe4, Probe5]):\n",
        "    gym.envs.registration.register(id=f\"Probe{idx+1}-v0\", entry_point=probe)\n",
        "\n",
        "Arr = np.ndarray\n",
        "\n",
        "device = t.device(\"cuda\" if t.cuda.is_available() else \"cpu\")\n",
        "\n",
        "MAIN = __name__ == \"__main__\""
      ]
    },
    {
      "cell_type": "markdown",
      "metadata": {
        "id": "Wrc4voZ6JWQc"
      },
      "source": [
        "# 1️⃣ Setting up our agent\n"
      ]
    },
    {
      "cell_type": "markdown",
      "metadata": {
        "id": "gIuYtLwmJWQc"
      },
      "source": [
        "> ##### Learning objectives\n",
        ">\n",
        "> * Understand the difference between the actor & critic networks, and what their roles are\n",
        "> * Learn about & implement generalised advantage estimation (GAE)\n",
        "> * Build a replay memory to store & sample experiences\n",
        "> * Design an agent class to step through the environment & record experiences\n"
      ]
    },
    {
      "cell_type": "markdown",
      "metadata": {
        "id": "y0H_VB_gJWQc"
      },
      "source": [
        "In this section, we'll do the following:\n",
        "\n",
        "* Define a dataclass to hold our PPO arguments\n",
        "* Write functions to create our actor and critic networks (which will eventually be stored in our `PPOAgent` instance)\n",
        "* Write a function to do **generalized advantage estimation** (this will be necessary when computing our objective function during the learning phase)\n",
        "* Fill in our `ReplayMemory` class (for storing and sampling experiences)\n",
        "* Fill in our `PPOAgent` class (a wrapper around our networks and our replay memory, which will turn them into an agent)\n",
        "\n",
        "As a reminder, we'll be continually referring back to [The 37 Implementation Details of Proximal Policy Optimization](https://iclr-blog-track.github.io/2022/03/25/ppo-implementation-details/#solving-pong-in-5-minutes-with-ppo--envpool) as we go through these exercises. Most of our sections wil refer to one or more of these details."
      ]
    },
    {
      "cell_type": "markdown",
      "metadata": {
        "id": "u1mKwRBpyF9c"
      },
      "source": [
        "## PPO Arguments\n",
        "\n",
        "Just like for DQN, we've provided you with a dataclass containing arguments for your `train_ppo` function. We've also given you a function from `utils` to display all these arguments (including which ones you've changed). Lots of these are the same as for the DQN dataclass.\n",
        "\n",
        "Don't worry if these don't all make sense right now, they will by the end.\n"
      ]
    },
    {
      "cell_type": "code",
      "execution_count": null,
      "metadata": {
        "id": "Yb3N757zJWQc",
        "colab": {
          "base_uri": "https://localhost:8080/",
          "height": 1000
        },
        "outputId": "00822541-84ec-4874-f9ea-48b1cda54aa9"
      },
      "outputs": [
        {
          "output_type": "display_data",
          "data": {
            "text/plain": [
              "<pandas.io.formats.style.Styler at 0x7c71e7fa4be0>"
            ],
            "text/html": [
              "<style type=\"text/css\">\n",
              "#T_78fe7 td {\n",
              "  text-align: left;\n",
              "}\n",
              "#T_78fe7 th {\n",
              "  text-align: left;\n",
              "}\n",
              "#T_78fe7_row13_col0, #T_78fe7_row23_col0, #T_78fe7_row25_col0 {\n",
              "  background-color: red;\n",
              "}\n",
              "</style>\n",
              "<table id=\"T_78fe7\" class=\"dataframe\">\n",
              "  <thead>\n",
              "    <tr>\n",
              "      <th class=\"blank level0\" >&nbsp;</th>\n",
              "      <th id=\"T_78fe7_level0_col0\" class=\"col_heading level0 col0\" >default value</th>\n",
              "      <th id=\"T_78fe7_level0_col1\" class=\"col_heading level0 col1\" >description</th>\n",
              "    </tr>\n",
              "    <tr>\n",
              "      <th class=\"index_name level0\" >arg</th>\n",
              "      <th class=\"blank col0\" >&nbsp;</th>\n",
              "      <th class=\"blank col1\" >&nbsp;</th>\n",
              "    </tr>\n",
              "  </thead>\n",
              "  <tbody>\n",
              "    <tr>\n",
              "      <th id=\"T_78fe7_level0_row0\" class=\"row_heading level0 row0\" >seed</th>\n",
              "      <td id=\"T_78fe7_row0_col0\" class=\"data row0 col0\" >1</td>\n",
              "      <td id=\"T_78fe7_row0_col1\" class=\"data row0 col1\" >seed of the experiment</td>\n",
              "    </tr>\n",
              "    <tr>\n",
              "      <th id=\"T_78fe7_level0_row1\" class=\"row_heading level0 row1\" >cuda</th>\n",
              "      <td id=\"T_78fe7_row1_col0\" class=\"data row1 col0\" >True</td>\n",
              "      <td id=\"T_78fe7_row1_col1\" class=\"data row1 col1\" >if toggled, cuda will be enabled by default</td>\n",
              "    </tr>\n",
              "    <tr>\n",
              "      <th id=\"T_78fe7_level0_row2\" class=\"row_heading level0 row2\" >env_id</th>\n",
              "      <td id=\"T_78fe7_row2_col0\" class=\"data row2 col0\" >'CartPole-v1'</td>\n",
              "      <td id=\"T_78fe7_row2_col1\" class=\"data row2 col1\" >the id of the environment</td>\n",
              "    </tr>\n",
              "    <tr>\n",
              "      <th id=\"T_78fe7_level0_row3\" class=\"row_heading level0 row3\" >mode</th>\n",
              "      <td id=\"T_78fe7_row3_col0\" class=\"data row3 col0\" >'classic-control'</td>\n",
              "      <td id=\"T_78fe7_row3_col1\" class=\"data row3 col1\" >can be 'classic-control', 'atari' or 'mujoco'</td>\n",
              "    </tr>\n",
              "    <tr>\n",
              "      <th id=\"T_78fe7_level0_row4\" class=\"row_heading level0 row4\" >use_wandb</th>\n",
              "      <td id=\"T_78fe7_row4_col0\" class=\"data row4 col0\" >False</td>\n",
              "      <td id=\"T_78fe7_row4_col1\" class=\"data row4 col1\" >if toggled, this experiment will be tracked with Weights and Biases</td>\n",
              "    </tr>\n",
              "    <tr>\n",
              "      <th id=\"T_78fe7_level0_row5\" class=\"row_heading level0 row5\" >capture_video</th>\n",
              "      <td id=\"T_78fe7_row5_col0\" class=\"data row5 col0\" >True</td>\n",
              "      <td id=\"T_78fe7_row5_col1\" class=\"data row5 col1\" >whether to capture videos of the agent performances (check out `videos` folder)</td>\n",
              "    </tr>\n",
              "    <tr>\n",
              "      <th id=\"T_78fe7_level0_row6\" class=\"row_heading level0 row6\" >exp_name</th>\n",
              "      <td id=\"T_78fe7_row6_col0\" class=\"data row6 col0\" >'PPO_Implementation'</td>\n",
              "      <td id=\"T_78fe7_row6_col1\" class=\"data row6 col1\" >the name of this experiment</td>\n",
              "    </tr>\n",
              "    <tr>\n",
              "      <th id=\"T_78fe7_level0_row7\" class=\"row_heading level0 row7\" >log_dir</th>\n",
              "      <td id=\"T_78fe7_row7_col0\" class=\"data row7 col0\" >'logs'</td>\n",
              "      <td id=\"T_78fe7_row7_col1\" class=\"data row7 col1\" >the directory where the logs will be stored</td>\n",
              "    </tr>\n",
              "    <tr>\n",
              "      <th id=\"T_78fe7_level0_row8\" class=\"row_heading level0 row8\" >wandb_project_name</th>\n",
              "      <td id=\"T_78fe7_row8_col0\" class=\"data row8 col0\" >'PPOCart'</td>\n",
              "      <td id=\"T_78fe7_row8_col1\" class=\"data row8 col1\" >the wandb's project name</td>\n",
              "    </tr>\n",
              "    <tr>\n",
              "      <th id=\"T_78fe7_level0_row9\" class=\"row_heading level0 row9\" >wandb_entity</th>\n",
              "      <td id=\"T_78fe7_row9_col0\" class=\"data row9 col0\" >None</td>\n",
              "      <td id=\"T_78fe7_row9_col1\" class=\"data row9 col1\" >the entity (team) of wandb's project</td>\n",
              "    </tr>\n",
              "    <tr>\n",
              "      <th id=\"T_78fe7_level0_row10\" class=\"row_heading level0 row10\" >total_timesteps</th>\n",
              "      <td id=\"T_78fe7_row10_col0\" class=\"data row10 col0\" >500000</td>\n",
              "      <td id=\"T_78fe7_row10_col1\" class=\"data row10 col1\" >total timesteps of the experiments</td>\n",
              "    </tr>\n",
              "    <tr>\n",
              "      <th id=\"T_78fe7_level0_row11\" class=\"row_heading level0 row11\" >num_envs</th>\n",
              "      <td id=\"T_78fe7_row11_col0\" class=\"data row11 col0\" >4</td>\n",
              "      <td id=\"T_78fe7_row11_col1\" class=\"data row11 col1\" >number of synchronized vector environments in our `envs` object (this is N in the '37 Implementational Details' post)</td>\n",
              "    </tr>\n",
              "    <tr>\n",
              "      <th id=\"T_78fe7_level0_row12\" class=\"row_heading level0 row12\" >num_steps</th>\n",
              "      <td id=\"T_78fe7_row12_col0\" class=\"data row12 col0\" >128</td>\n",
              "      <td id=\"T_78fe7_row12_col1\" class=\"data row12 col1\" >number of steps taken in the rollout phase (this is M in the '37 Implementational Details' post)</td>\n",
              "    </tr>\n",
              "    <tr>\n",
              "      <th id=\"T_78fe7_level0_row13\" class=\"row_heading level0 row13\" >num_minibatches</th>\n",
              "      <td id=\"T_78fe7_row13_col0\" class=\"data row13 col0\" >2</td>\n",
              "      <td id=\"T_78fe7_row13_col1\" class=\"data row13 col1\" >the number of minibatches you divide each batch up into</td>\n",
              "    </tr>\n",
              "    <tr>\n",
              "      <th id=\"T_78fe7_level0_row14\" class=\"row_heading level0 row14\" >batches_per_learning_phase</th>\n",
              "      <td id=\"T_78fe7_row14_col0\" class=\"data row14 col0\" >4</td>\n",
              "      <td id=\"T_78fe7_row14_col1\" class=\"data row14 col1\" >how many times you loop through the data generated in each rollout phase</td>\n",
              "    </tr>\n",
              "    <tr>\n",
              "      <th id=\"T_78fe7_level0_row15\" class=\"row_heading level0 row15\" >learning_rate</th>\n",
              "      <td id=\"T_78fe7_row15_col0\" class=\"data row15 col0\" >0.00025</td>\n",
              "      <td id=\"T_78fe7_row15_col1\" class=\"data row15 col1\" >the learning rate of the optimizer</td>\n",
              "    </tr>\n",
              "    <tr>\n",
              "      <th id=\"T_78fe7_level0_row16\" class=\"row_heading level0 row16\" >max_grad_norm</th>\n",
              "      <td id=\"T_78fe7_row16_col0\" class=\"data row16 col0\" >0.5</td>\n",
              "      <td id=\"T_78fe7_row16_col1\" class=\"data row16 col1\" >value used in gradient clipping</td>\n",
              "    </tr>\n",
              "    <tr>\n",
              "      <th id=\"T_78fe7_level0_row17\" class=\"row_heading level0 row17\" >gamma</th>\n",
              "      <td id=\"T_78fe7_row17_col0\" class=\"data row17 col0\" >0.99</td>\n",
              "      <td id=\"T_78fe7_row17_col1\" class=\"data row17 col1\" >the discount factor gamma</td>\n",
              "    </tr>\n",
              "    <tr>\n",
              "      <th id=\"T_78fe7_level0_row18\" class=\"row_heading level0 row18\" >gae_lambda</th>\n",
              "      <td id=\"T_78fe7_row18_col0\" class=\"data row18 col0\" >0.95</td>\n",
              "      <td id=\"T_78fe7_row18_col1\" class=\"data row18 col1\" >the discount factor used in our GAE estimation</td>\n",
              "    </tr>\n",
              "    <tr>\n",
              "      <th id=\"T_78fe7_level0_row19\" class=\"row_heading level0 row19\" >clip_coef</th>\n",
              "      <td id=\"T_78fe7_row19_col0\" class=\"data row19 col0\" >0.2</td>\n",
              "      <td id=\"T_78fe7_row19_col1\" class=\"data row19 col1\" >the epsilon term used in the clipped surrogate objective function</td>\n",
              "    </tr>\n",
              "    <tr>\n",
              "      <th id=\"T_78fe7_level0_row20\" class=\"row_heading level0 row20\" >ent_coef</th>\n",
              "      <td id=\"T_78fe7_row20_col0\" class=\"data row20 col0\" >0.01</td>\n",
              "      <td id=\"T_78fe7_row20_col1\" class=\"data row20 col1\" >coefficient of entropy bonus term</td>\n",
              "    </tr>\n",
              "    <tr>\n",
              "      <th id=\"T_78fe7_level0_row21\" class=\"row_heading level0 row21\" >vf_coef</th>\n",
              "      <td id=\"T_78fe7_row21_col0\" class=\"data row21 col0\" >0.25</td>\n",
              "      <td id=\"T_78fe7_row21_col1\" class=\"data row21 col1\" >cofficient of value loss function</td>\n",
              "    </tr>\n",
              "    <tr>\n",
              "      <th id=\"T_78fe7_level0_row22\" class=\"row_heading level0 row22\" >batch_size</th>\n",
              "      <td id=\"T_78fe7_row22_col0\" class=\"data row22 col0\" >512</td>\n",
              "      <td id=\"T_78fe7_row22_col1\" class=\"data row22 col1\" >N * M in the '37 Implementational Details' post (calculated from other values in PPOArgs)</td>\n",
              "    </tr>\n",
              "    <tr>\n",
              "      <th id=\"T_78fe7_level0_row23\" class=\"row_heading level0 row23\" >minibatch_size</th>\n",
              "      <td id=\"T_78fe7_row23_col0\" class=\"data row23 col0\" >256</td>\n",
              "      <td id=\"T_78fe7_row23_col1\" class=\"data row23 col1\" >the size of a single minibatch we perform a gradient step on (calculated from other values in PPOArgs)</td>\n",
              "    </tr>\n",
              "    <tr>\n",
              "      <th id=\"T_78fe7_level0_row24\" class=\"row_heading level0 row24\" >total_phases</th>\n",
              "      <td id=\"T_78fe7_row24_col0\" class=\"data row24 col0\" >976</td>\n",
              "      <td id=\"T_78fe7_row24_col1\" class=\"data row24 col1\" >total number of phases during training (calculated from other values in PPOArgs)</td>\n",
              "    </tr>\n",
              "    <tr>\n",
              "      <th id=\"T_78fe7_level0_row25\" class=\"row_heading level0 row25\" >total_training_steps</th>\n",
              "      <td id=\"T_78fe7_row25_col0\" class=\"data row25 col0\" >7808</td>\n",
              "      <td id=\"T_78fe7_row25_col1\" class=\"data row25 col1\" >total number of minibatches we will perform an update step on during training (calculated from other values in PPOArgs)</td>\n",
              "    </tr>\n",
              "  </tbody>\n",
              "</table>\n"
            ]
          },
          "metadata": {}
        }
      ],
      "source": [
        "@dataclass\n",
        "class PPOArgs:\n",
        "\n",
        "    # Basic / global\n",
        "    seed: int = 1\n",
        "    cuda: bool = t.cuda.is_available()\n",
        "    env_id: str = \"CartPole-v1\"\n",
        "    mode: Literal[\"classic-control\", \"atari\", \"mujoco\"] = \"classic-control\"\n",
        "\n",
        "    # Wandb / logging\n",
        "    use_wandb: bool = False\n",
        "    capture_video: bool = True\n",
        "    exp_name: str = \"PPO_Implementation\"\n",
        "    log_dir: str = \"logs\"\n",
        "    wandb_project_name: str = \"PPOCart\"\n",
        "    wandb_entity: str = None\n",
        "\n",
        "    # Duration of different phases\n",
        "    total_timesteps: int = 500000\n",
        "    num_envs: int = 4\n",
        "    num_steps: int = 128\n",
        "    num_minibatches: int = 4\n",
        "    batches_per_learning_phase: int = 4\n",
        "\n",
        "    # Optimization hyperparameters\n",
        "    learning_rate: float = 2.5e-4\n",
        "    max_grad_norm: float = 0.5\n",
        "\n",
        "    # Computing advantage function\n",
        "    gamma: float = 0.99\n",
        "    gae_lambda: float = 0.95\n",
        "\n",
        "    # Computing other loss functions\n",
        "    clip_coef: float = 0.2\n",
        "    ent_coef: float = 0.01\n",
        "    vf_coef: float = 0.25\n",
        "\n",
        "    def __post_init__(self):\n",
        "        self.batch_size = self.num_steps * self.num_envs\n",
        "        assert self.batch_size % self.num_minibatches == 0, \"batch_size must be divisible by num_minibatches\"\n",
        "        self.minibatch_size = self.batch_size // self.num_minibatches\n",
        "        self.total_phases = self.total_timesteps // self.batch_size\n",
        "        self.total_training_steps = self.total_phases * self.batches_per_learning_phase * self.num_minibatches\n",
        "\n",
        "\n",
        "args = PPOArgs(num_minibatches=2)\n",
        "utils.arg_help(args)"
      ]
    },
    {
      "cell_type": "markdown",
      "metadata": {
        "id": "S6_PYa6iJWQc"
      },
      "source": [
        "## Actor-Critic Implementation ([detail #2](https://iclr-blog-track.github.io/2022/03/25/ppo-implementation-details/#:~:text=Orthogonal%20Initialization%20of%20Weights%20and%20Constant%20Initialization%20of%20biases))\n",
        "\n",
        "Implement the `Agent` class according to the diagram, inspecting `envs` to determine the observation shape and number of actions. We are doing separate Actor and Critic networks because [detail #13](https://iclr-blog-track.github.io/2022/03/25/ppo-implementation-details/#:~:text=Shared%20and%20separate%20MLP%20networks%20for%20policy%20and%20value%20functions) notes that is performs better than a single shared network in simple environments.\n",
        "\n",
        "Note that today `envs` will actually have multiple instances of the environment inside, unlike yesterday's DQN which had only one instance inside. From the **37 implementation details** post:\n",
        "\n",
        "> In this architecture, PPO first initializes a vectorized environment `envs` that runs $N$ (usually independent) environments either sequentially or in parallel by leveraging multi-processes. `envs` presents a synchronous interface that always outputs a batch of $N$ observations from $N$ environments, and it takes a batch of $N$ actions to step the $N$ environments. When calling `next_obs = envs.reset()`, next_obs gets a batch of $N$ initial observations (pronounced \"next observation\"). PPO also initializes an environment `done` flag variable next_done (pronounced \"next done\") to an $N$-length array of zeros, where its i-th element `next_done[i]` has values of 0 or 1 which corresponds to the $i$-th sub-environment being *not done* and *done*, respectively.\n",
        "\n",
        "<img src=\"https://raw.githubusercontent.com/callummcdougall/computational-thread-art/master/example_images/misc/screenshot-2.png\" width=\"800\">\n"
      ]
    },
    {
      "cell_type": "markdown",
      "metadata": {
        "id": "iyc6QMjFJWQc"
      },
      "source": [
        "### Exercise - implement `get_actor_and_critic`\n",
        "\n",
        "```c\n",
        "Difficulty: 🔴🔴⚪⚪⚪\n",
        "Importance: 🔵🔵🔵⚪⚪\n",
        "\n",
        "You should spend up to 10-20 minutes on this exercise.\n",
        "```\n",
        "\n",
        "Use `layer_init` to initialize each `Linear`, overriding the standard deviation argument `std` according to the diagram.\n",
        "\n",
        "<img src=\"https://mermaid.ink/svg/pako:eNqFkUFrAjEQhf9KmFOFtbgqHpZW6OpR6KHeGinZZOwGTCLJ5FDE_96kQUp12-aSx8t7ZL7kBNIphAbevTj2bLvmlqUVYlcMDk-SnOdQ_Lw22qLw9SuHou5sNG-uCxVbzEccdmw8XrKtsP2XKJnpd3oxvwnm07xfvJKc_ezkW4Qk7WwYPXR-GUg9Tu4n9aX0HKnMiFYVcYOy8pq0HGBp_4dpB2ectn-DDbdmV636N6Ccy1ywu0KDCgx6I7RKX3fKHgfq0SCHJkmFexEPlEnPKSoiuZcPK6EhH7GCeFSCcK1FehgDzV4cAp4_AVkGnOE\" width=\"500\">\n",
        "\n",
        "Note, we've given you a \"high level function\" `get_actor_and_critic` which calls one of three possible functions, depending on the `mode` argument. You'll implement the other two modes later. This is one way to keep our code modular.\n",
        "\n",
        "We've also defined the `num_obs` and `num_actions`, which are all you should need for creating the actor and critic networks in this case.\n",
        "\n",
        "<!-- subgraph \"Actor\" \\n Linear1[\"Linear(num_obs, 64)\"] -> Tanh -> Linear2[\"Linear(64, 64)\"] -> Tanh2[\"Tanh\"] -> Linear3[\"Linear(64, num_actions)<br>std=0.01\"] -> Out \\n end -->"
      ]
    },
    {
      "cell_type": "code",
      "execution_count": null,
      "metadata": {
        "id": "R257WXUBJWQc",
        "colab": {
          "base_uri": "https://localhost:8080/"
        },
        "outputId": "d14100e7-6235-4865-c42f-fa0c48133a7b"
      },
      "outputs": [
        {
          "output_type": "stream",
          "name": "stdout",
          "text": [
            "All tests in `test_get_actor_and_critic(mode='classic-control')` passed!\n"
          ]
        }
      ],
      "source": [
        "def layer_init(layer: nn.Linear, std=np.sqrt(2), bias_const=0.0):\n",
        "    t.nn.init.orthogonal_(layer.weight, std)\n",
        "    t.nn.init.constant_(layer.bias, bias_const)\n",
        "    return layer\n",
        "\n",
        "\n",
        "def get_actor_and_critic(\n",
        "    envs: gym.vector.SyncVectorEnv,\n",
        "    mode: Literal[\"classic-control\", \"atari\", \"mujoco\"] = \"classic-control\",\n",
        ") -> Tuple[nn.Module, nn.Module]:\n",
        "    '''\n",
        "    Returns (actor, critic), the networks used for PPO, in one of 3 different modes.\n",
        "    '''\n",
        "    assert mode in [\"classic-control\", \"atari\", \"mujoco\"]\n",
        "\n",
        "    obs_shape = envs.single_observation_space.shape\n",
        "    num_obs = np.array(obs_shape).prod()\n",
        "    num_actions = (\n",
        "        envs.single_action_space.n\n",
        "        if isinstance(envs.single_action_space, gym.spaces.Discrete)\n",
        "        else np.array(envs.single_action_space.shape).prod()\n",
        "    )\n",
        "\n",
        "    if mode == \"classic-control\":\n",
        "        actor, critic = get_actor_and_critic_classic(num_obs, num_actions)\n",
        "    if mode == \"atari\":\n",
        "        return get_actor_and_critic_atari(obs_shape, num_actions)\n",
        "    if mode == \"mujoco\":\n",
        "        return get_actor_and_critic_mujoco(num_obs, num_actions)\n",
        "\n",
        "    return actor.to(device), critic.to(device)\n",
        "\n",
        "\n",
        "def get_actor_and_critic_classic(num_obs: int, num_actions: int):\n",
        "  '''\n",
        "  Returns (actor, critic) in the \"classic-control\" case, according to diagram above.\n",
        "  '''\n",
        "  critic = nn.Sequential(\n",
        "    layer_init(nn.Linear(num_obs, 64)),\n",
        "    nn.Tanh(),\n",
        "    layer_init(nn.Linear(64, 64)),\n",
        "    nn.Tanh(),\n",
        "    layer_init(nn.Linear(64, 1), std=1.0)\n",
        "  )\n",
        "\n",
        "  actor = nn.Sequential(\n",
        "    layer_init(nn.Linear(num_obs, 64)),\n",
        "    nn.Tanh(),\n",
        "    layer_init(nn.Linear(64, 64)),\n",
        "    nn.Tanh(),\n",
        "    layer_init(nn.Linear(64, num_actions), std=0.01)\n",
        "  )\n",
        "  return actor, critic\n",
        "\n",
        "tests.test_get_actor_and_critic(get_actor_and_critic, mode=\"classic-control\")"
      ]
    },
    {
      "cell_type": "markdown",
      "metadata": {
        "id": "QvvUHogSJWQd"
      },
      "source": [
        "<details>\n",
        "<summary>Question - what do you think is the benefit of using a small standard deviation for the last actor layer?</summary>\n",
        "\n",
        "The purpose is to center the initial `agent.actor` logits around zero, in other words an approximately uniform distribution over all actions independent of the state. If you didn't do this, then your agent might get locked into a nearly-deterministic policy early on and find it difficult to train away from it.\n",
        "\n",
        "[Studies suggest](https://openreview.net/pdf?id=nIAxjsniDzg) this is one of the more important initialisation details, and performance is often harmed without it.\n",
        "</details>\n"
      ]
    },
    {
      "cell_type": "markdown",
      "metadata": {
        "id": "WiYjTplzJWQd"
      },
      "source": [
        "## Generalized Advantage Estimation ([detail #5](https://iclr-blog-track.github.io/2022/03/25/ppo-implementation-details/#:~:text=Generalized%20Advantage%20Estimation))\n",
        "\n",
        "The advantage function $A_\\pi(s,a)$ indicates how much better choosing action $a$ would be in state $s$ as compared to the value obtained by letting $\\pi$ choose the action (or if $\\pi$ is stochastic, compared to the on expectation value by letting $\\pi$ decide).\n",
        "$$\n",
        "A_\\pi(s,a) = Q_\\pi(s,a) - V_\\pi(s)\n",
        "$$\n",
        "\n",
        "There are various ways to compute advantages - follow [detail #5](https://iclr-blog-track.github.io/2022/03/25/ppo-implementation-details/#:~:text=Generalized%20Advantage%20Estimation) closely for today.\n",
        "\n",
        "Given a batch of experiences, we want to compute each `advantage[t][env]`. This is equation $(11)$ of the [PPO paper](https://arxiv.org/pdf/1707.06347.pdf).\n",
        "\n",
        "*Note - $(11)$ has a typo; the exponent be $T-(t+1)$ not $T-t+1$.*"
      ]
    },
    {
      "cell_type": "markdown",
      "source": [
        "### Exercise - implement `compute_advantages`\n",
        "\n",
        "```c\n",
        "Difficulty: 🔴🔴🔴🔴⚪\n",
        "Importance: 🔵🔵🔵⚪⚪\n",
        "\n",
        "You should spend up to 20-30 minutes on this exercise. Use the hints if you're stuck; it can be quite a messy function to implement.\n",
        "```\n",
        "\n",
        "Below, you should fill in `compute_advantages`. We recommend using a reversed for loop over $t$ to get it working, and not worrying about trying to completely vectorize it.\n",
        "\n",
        "If you're confused about the formula for advantages (especially in how it pertains to environment terminations), then use the dropdowns below. The first image gives you a TL;DR summary of everything you need to complete this function. The second image gives a bit more of a thorough explanation in case you're curious, but you should find the first image sufficient.\n",
        "\n",
        "A few tips for this function:\n",
        "\n",
        "* If you've imported torch with `import torch as t`, be careful about using `t` as a variable during your iteration! Recommended alternatives are `T`, `t_`, `s`, or `timestep`.\n",
        "* Be careful with the use of `values` vs `next_value` (and same with `dones`). You should be able to see from Image #1 why we need the next value and next done.\n",
        "    * Tip - you might want to create an object `next_values` by concatenating `values[1:]` and `next_value`, and same for dones. You'll find this helpful in the calculation!\n",
        "\n",
        "<br>\n",
        "\n",
        "<details>\n",
        "<summary>Image #1</summary>\n",
        "\n",
        "<img src=\"https://raw.githubusercontent.com/callummcdougall/computational-thread-art/master/example_images/misc/advantages-tldr-1.png\" width=\"700\">\n",
        "\n",
        "</details>\n",
        "\n",
        "<details>\n",
        "<summary>Image #2</summary>\n",
        "\n",
        "<img src=\"https://raw.githubusercontent.com/callummcdougall/computational-thread-art/master/example_images/misc/advantages-tldr-2.png\" width=\"700\">\n",
        "\n",
        "</details>\n"
      ],
      "metadata": {
        "id": "nt7VoA9_i7Wx"
      }
    },
    {
      "cell_type": "code",
      "execution_count": null,
      "metadata": {
        "id": "g1uXpzOuJWQd",
        "colab": {
          "base_uri": "https://localhost:8080/"
        },
        "outputId": "6d96236b-8fd9-468e-84f8-5eedb8f4293e"
      },
      "outputs": [
        {
          "output_type": "stream",
          "name": "stdout",
          "text": [
            "Testing with all dones=False, single environment ... \n",
            "Testing with all dones=False, multiple environments ... \n",
            "Testing with episode termination, single environment ... \n",
            "Testing with episode termination, multiple environments ... \n",
            "All tests in `test_compute_advantages_single` passed!\n"
          ]
        }
      ],
      "source": [
        "@t.inference_mode()\n",
        "def compute_advantages(\n",
        "    next_value: t.Tensor,\n",
        "    next_done: t.Tensor,\n",
        "    rewards: t.Tensor,\n",
        "    values: t.Tensor,\n",
        "    dones: t.Tensor,\n",
        "    gamma: float,\n",
        "    gae_lambda: float,\n",
        ") -> t.Tensor:\n",
        "    '''Compute advantages using Generalized Advantage Estimation.\n",
        "    next_value: shape (env,)\n",
        "    next_done: shape (env,)\n",
        "    rewards: shape (buffer_size, env)\n",
        "    values: shape (buffer_size, env)\n",
        "    dones: shape (buffer_size, env)\n",
        "    Return: shape (buffer_size, env)\n",
        "    '''\n",
        "    S = t.zeros_like(rewards)\n",
        "    A = t.zeros_like(rewards)\n",
        "    next_values = t.cat((values[1:], next_value.unsqueeze(0)), 0) # buffer_size x env\n",
        "    next_dones  = t.cat((dones[1:], next_done.unsqueeze(0)), 0)   # buffer_size x env\n",
        "    for i in range(rewards.shape[0]-1,-1,-1):\n",
        "      S[i] = rewards[i] + (1-next_dones[i]) * gamma * next_values[i] - values[i]\n",
        "      if i == rewards.shape[0] - 1:\n",
        "        A[i] = S[i]\n",
        "      else:\n",
        "        A[i] = S[i] + (1-next_dones[i]) * gae_lambda * gamma * A[i + 1]\n",
        "\n",
        "    return A\n",
        "\n",
        "\n",
        "tests.test_compute_advantages(compute_advantages)"
      ]
    },
    {
      "cell_type": "markdown",
      "metadata": {
        "id": "SDVMKVooJWQd"
      },
      "source": [
        "## Replay Memory\n",
        "\n",
        "Our replay memory has some similarities to the replay buffer from yesterday, as well as some important differences.\n",
        "\n",
        "### Sampling method\n",
        "\n",
        "Yesterday, we continually updated our buffer and sliced off old data, and each time we called `sample` we'd take a randomly ordered subset of that data (with replacement).\n",
        "\n",
        "With PPO, we alternate between rollout and learning phases. In rollout, we fill our replay memory entirely. In learning, we call `get_minibatches` to return the entire contents of the replay memory, but randomly shuffled and sorted into minibatches. In this way, we update on every experience, not just random samples. In fact, we'll update on each experience more than once, since we'll repeat the process of (generate minibatches, update on all of them) `batches_per_learning_phase` times during each learning phase.\n",
        "\n",
        "### New variables\n",
        "\n",
        "We store some of the same variables as before - $(s_t, a_t, d_t)$, but with the addition of 3 new variables: the **logprobs** $\\pi(a_t\\mid s_t)$, the **advantages** $A_t$ and the **returns**. Explaining these two variables and why we need them:\n",
        "\n",
        "- `logprobs` are the logit outputs of our `actor.agent` network, corresponding to the actions $a_t$ which our agent actually chose.\n",
        "    * These are necessary for calculating the clipped surrogate objective (see equation $(7)$ on page page 3 in the [PPO Algorithms paper](https://arxiv.org/pdf/1707.06347.pdf)), which as we'll see later makes sure the agent isn't rewarded for changing its policy an excessive amount.\n",
        "- `advantages` are the terms $\\hat{A}_t$, computed using our function `compute_advantages` from earlier.\n",
        "    - Again, these are used in the calculation of the clipped surrogate objective.\n",
        "- `returns` are given by the formula `returns = advantages + values` - see [detail #9](https://iclr-blog-track.github.io/2022/03/25/ppo-implementation-details/#:~:text=Value%20Function%20Loss%20Clipping).\n",
        "    - They are used to train the value network, in a way which is equivalent to minimizing the TD residual loss used in DQN.\n",
        "\n",
        "Don't worry if you don't understand all of this now, we'll get to all these variables later."
      ]
    },
    {
      "cell_type": "markdown",
      "source": [
        "### Exercise - implement `minibatch_indices`\n",
        "\n",
        "```c\n",
        "Difficulty: 🔴🔴⚪⚪⚪\n",
        "Importance: 🔵🔵🔵⚪⚪\n",
        "\n",
        "You should spend up to 10-15 minutes on this exercise.\n",
        "```\n",
        "\n",
        "We'll start by implementing the `minibatch_indices` function, as described in [detail #6](https://iclr-blog-track.github.io/2022/03/25/ppo-implementation-details/#:~:text=Mini%2Dbatch%20Updates). This takes a batch size (total number of elements in memory, i.e. $N \\times M$ in detail #6) and minibatch size, and returns a randomly permuted set of indices (which we'll use to index into the memory object). The diagram below should help explain this:\n",
        "\n",
        "<img src=\"https://raw.githubusercontent.com/callummcdougall/computational-thread-art/master/example_images/misc/ppo-buffer-sampling-3.png\" width=\"1200\">\n",
        "\n",
        "To make this clearer, we've given you the test code inline (so you can see exactly what your function is required to do).\n"
      ],
      "metadata": {
        "id": "Xfp4XXn3tBbx"
      }
    },
    {
      "cell_type": "code",
      "source": [
        "np.random.default_rng(0).integers(0, 10, 4)"
      ],
      "metadata": {
        "colab": {
          "base_uri": "https://localhost:8080/"
        },
        "id": "70AFZDABCWjH",
        "outputId": "7a25a91f-058f-4b0e-fec0-a186eeb1287e"
      },
      "execution_count": null,
      "outputs": [
        {
          "output_type": "execute_result",
          "data": {
            "text/plain": [
              "array([8, 6, 5, 2])"
            ]
          },
          "metadata": {},
          "execution_count": 6
        }
      ]
    },
    {
      "cell_type": "code",
      "execution_count": null,
      "metadata": {
        "id": "lIgSa6VkJWQd",
        "colab": {
          "base_uri": "https://localhost:8080/"
        },
        "outputId": "d2578238-fd8b-413b-ef21-88544c02c6ea"
      },
      "outputs": [
        {
          "output_type": "stream",
          "name": "stdout",
          "text": [
            "All tests in `test_minibatch_indexes` passed!\n"
          ]
        }
      ],
      "source": [
        "def minibatch_indexes(rng: Generator, batch_size: int, minibatch_size: int) -> List[np.ndarray]:\n",
        "    '''\n",
        "    Return a list of length num_minibatches = (batch_size // minibatch_size), where each element is an\n",
        "    array of indexes into the batch. Each index should appear exactly once.\n",
        "\n",
        "    To relate this to the diagram above: if we flatten the non-shuffled experiences into:\n",
        "\n",
        "        [1,1,1,1,2,2,2,2,3,3,3,3]\n",
        "\n",
        "    then the output of this function could be the following list of arrays:\n",
        "\n",
        "        [array([0,5,4,3]), array([11,6,7,8]), array([1,2,9,10])]\n",
        "\n",
        "    which would give us the minibatches seen in the first row of the diagram above:\n",
        "\n",
        "        [array([1,2,2,1]), array([3,2,2,3]), array([1,1,3,3])]\n",
        "    '''\n",
        "    assert batch_size % minibatch_size == 0\n",
        "    num_minibatches = (batch_size // minibatch_size)\n",
        "    rn = np.arange(batch_size).reshape((num_minibatches, minibatch_size))\n",
        "    rng.shuffle(rn)\n",
        "    # print(rn)\n",
        "    return rn\n",
        "\n",
        "rng = np.random.default_rng(0)\n",
        "batch_size = 6\n",
        "minibatch_size = 2\n",
        "indexes = minibatch_indexes(rng, batch_size, minibatch_size)\n",
        "\n",
        "assert np.array(indexes).shape == (batch_size // minibatch_size, minibatch_size)\n",
        "assert sorted(np.unique(indexes)) == [0, 1, 2, 3, 4, 5]\n",
        "print(\"All tests in `test_minibatch_indexes` passed!\")"
      ]
    },
    {
      "cell_type": "markdown",
      "metadata": {
        "id": "2UeWIb5aJWQe"
      },
      "source": [
        "### `ReplayMemory` class\n",
        "\n",
        "Next, we've given you the `ReplayMemory` class (since a lot of the exercise of filling it in is similar to what you'll have done for DQN yesterday). You should look through this class and make sure you understand everything. In particular, make sure you understand the `get_minibatches` method which does the following:\n",
        "\n",
        "- Computes `advantages` & `returns` from the data stored in memory\n",
        "- Uses these to assemble a list of all the data required for the `ReplayMinibatch` class (as tensors not numpy arrays)\n",
        "- Returns a list of `batches_per_learning_phase * n_minibatches` minibatches, where:\n",
        "    - `batches_per_learning_phase` is the number of times we loop through every experience in memory (i.e. the vertical height in the diagram above)\n",
        "    - `n_minibatches = batch_size // minibatch_size` is the number of minibatches we form from each copy of the replay memory\n",
        "\n",
        "<details>\n",
        "<summary>Question - can you see why <code>advantages</code> can't be computed from the replay memory samples?</summary>\n",
        "\n",
        "The samples are not in chronological order, they're shuffled. The formula for computing advantages required the data to be in chronological order.\n",
        "\n",
        "</details>\n",
        "\n",
        "Also take note of how the `add` function works. Unlike for DQN yesterday, we need to keep the stored memories and timesteps as different dimensions - the reason for this is the same as the one in the dropdown above.\n",
        "\n",
        "We've also given you a helper function which converts tensors to numpy arrays, which is applied to each input to the `add` function. Although this might make some of your later exercises less frustrating, it's also a risk to add things like this because they can sometimes mask errors! These kind of design decisions are important to consider."
      ]
    },
    {
      "cell_type": "code",
      "execution_count": null,
      "metadata": {
        "id": "yWicey5nJWQe"
      },
      "outputs": [],
      "source": [
        "def to_numpy(arr: Union[np.ndarray, Tensor]):\n",
        "    '''\n",
        "    Converts a (possibly cuda and non-detached) tensor to numpy array.\n",
        "    '''\n",
        "    if isinstance(arr, Tensor):\n",
        "        arr = arr.detach().cpu().numpy()\n",
        "    return arr\n",
        "\n",
        "\n",
        "@dataclass\n",
        "class ReplayMinibatch:\n",
        "    '''\n",
        "    Samples from the replay memory, converted to PyTorch for use in neural network training.\n",
        "\n",
        "    Data is equivalent to (s_t, a_t, logpi(a_t|s_t), A_t, A_t + V(s_t), d_t)\n",
        "    '''\n",
        "    observations: Tensor # shape [minibatch_size, *observation_shape]\n",
        "    actions: Tensor # shape [minibatch_size, *action_shape]\n",
        "    logprobs: Tensor # shape [minibatch_size,]\n",
        "    advantages: Tensor # shape [minibatch_size,]\n",
        "    returns: Tensor # shape [minibatch_size,]\n",
        "    dones: Tensor # shape [minibatch_size,]\n",
        "\n",
        "\n",
        "class ReplayMemory:\n",
        "    '''\n",
        "    Contains buffer; has a method to sample from it to return a ReplayMinibatch object.\n",
        "    '''\n",
        "    rng: Generator\n",
        "    observations: np.ndarray # shape [batch_size, num_envs, *observation_shape]\n",
        "    actions: np.ndarray # shape [batch_size, num_envs]\n",
        "    logprobs: np.ndarray # shape [batch_size, num_envs]\n",
        "    values: np.ndarray # shape [batch_size, num_envs]\n",
        "    rewards: np.ndarray # shape [batch_size, num_envs]\n",
        "    dones: np.ndarray # shape [batch_size, num_envs]\n",
        "\n",
        "    def __init__(self, args: PPOArgs, envs: gym.vector.SyncVectorEnv):\n",
        "        self.args = args\n",
        "        self.rng = np.random.default_rng(args.seed)\n",
        "        self.num_envs = envs.num_envs\n",
        "        self.obs_shape = envs.single_observation_space.shape\n",
        "        self.action_shape = envs.single_action_space.shape\n",
        "        self.reset_memory()\n",
        "\n",
        "\n",
        "    def reset_memory(self):\n",
        "        '''\n",
        "        Resets all stored experiences, ready for new ones to be added to memory.\n",
        "        '''\n",
        "        self.observations = np.empty((0, self.num_envs, *self.obs_shape), dtype=np.float32)\n",
        "        self.actions = np.empty((0, self.num_envs, *self.action_shape), dtype=np.int32)\n",
        "        self.logprobs = np.empty((0, self.num_envs), dtype=np.float32)\n",
        "        self.values = np.empty((0, self.num_envs), dtype=np.float32)\n",
        "        self.rewards = np.empty((0, self.num_envs), dtype=np.float32)\n",
        "        self.dones = np.empty((0, self.num_envs), dtype=bool)\n",
        "\n",
        "\n",
        "    def add(self, obs, actions, logprobs, values, rewards, dones) -> None:\n",
        "        '''\n",
        "        Each argument can be a PyTorch tensor or NumPy array.\n",
        "\n",
        "        obs: shape (num_environments, *observation_shape)\n",
        "            Observation before the action\n",
        "        actions: shape (num_environments, *action_shape)\n",
        "            Action chosen by the agent\n",
        "        logprobs: shape (num_environments,)\n",
        "            Log probability of the action that was taken (according to old policy)\n",
        "        values: shape (num_environments,)\n",
        "            Values, estimated by the critic (according to old policy)\n",
        "        rewards: shape (num_environments,)\n",
        "            Reward after the action\n",
        "        dones: shape (num_environments,)\n",
        "            If True, the episode ended and was reset automatically\n",
        "        '''\n",
        "        assert obs.shape == (self.num_envs, *self.obs_shape)\n",
        "        assert actions.shape == (self.num_envs, *self.action_shape)\n",
        "        assert logprobs.shape == (self.num_envs,)\n",
        "        assert values.shape == (self.num_envs,)\n",
        "        assert dones.shape == (self.num_envs,)\n",
        "        assert rewards.shape == (self.num_envs,)\n",
        "\n",
        "        self.observations = np.concatenate((self.observations, to_numpy(obs[None, :])))\n",
        "        self.actions = np.concatenate((self.actions, to_numpy(actions[None, :])))\n",
        "        self.logprobs = np.concatenate((self.logprobs, to_numpy(logprobs[None, :])))\n",
        "        self.values = np.concatenate((self.values, to_numpy(values[None, :])))\n",
        "        self.rewards = np.concatenate((self.rewards, to_numpy(rewards[None, :])))\n",
        "        self.dones = np.concatenate((self.dones, to_numpy(dones[None, :])))\n",
        "\n",
        "\n",
        "    def get_minibatches(self, next_value: t.Tensor, next_done: t.Tensor) -> List[ReplayMinibatch]:\n",
        "        minibatches = []\n",
        "\n",
        "        # Stack all experiences, and move them to our device\n",
        "        obs, actions, logprobs, values, rewards, dones = [t.from_numpy(exp).to(device) for exp in [\n",
        "            self.observations, self.actions, self.logprobs, self.values, self.rewards, self.dones\n",
        "        ]]\n",
        "\n",
        "        # Compute advantages and returns (then get the list of tensors, in the right order to add to our ReplayMinibatch)\n",
        "        advantages = compute_advantages(next_value, next_done, rewards, values, dones.float(), self.args.gamma, self.args.gae_lambda)\n",
        "        returns = advantages + values\n",
        "        replay_memory_data = [obs, actions, logprobs, advantages, returns, dones]\n",
        "\n",
        "        # Generate `batches_per_learning_phase` sets of minibatches (each set of minibatches is a shuffled permutation of\n",
        "        # all the experiences stored in memory)\n",
        "        for _ in range(self.args.batches_per_learning_phase):\n",
        "\n",
        "            indices_for_each_minibatch = minibatch_indexes(self.rng, self.args.batch_size, self.args.minibatch_size)\n",
        "\n",
        "            for indices_for_minibatch in indices_for_each_minibatch:\n",
        "                minibatches.append(ReplayMinibatch(*[\n",
        "                    arg.flatten(0, 1)[indices_for_minibatch] for arg in replay_memory_data\n",
        "                ]))\n",
        "\n",
        "        # Reset memory, since we only run this once per learning phase\n",
        "        self.reset_memory()\n",
        "\n",
        "        return minibatches"
      ]
    },
    {
      "cell_type": "markdown",
      "metadata": {
        "id": "r3elNNoNJWQe"
      },
      "source": [
        "Like before, here's some code to generate and plot observations. The dotted lines indicate a terminated episode. We don't need to worry about terminal observations here, because we're not actually logging `next_obs` (unlike DQN, this won't be part of our loss function).\n",
        "\n",
        "Note that we're actually using four environments inside our `envs` object, rather than just one like last time. The 3 solid (non-dotted) lines in the first plot below indicate the transition between different environments in `envs` (which we've stitched together into one long episode in the first plot below)."
      ]
    },
    {
      "cell_type": "code",
      "source": [
        "args = PPOArgs()\n",
        "envs = gym.vector.SyncVectorEnv([make_env(\"CartPole-v1\", i, i, False, \"test\") for i in range(4)])\n",
        "next_value = t.zeros(envs.num_envs).to(device)\n",
        "next_done = t.zeros(envs.num_envs).to(device)\n",
        "memory = ReplayMemory(args, envs)\n",
        "obs = envs.reset()\n",
        "\n",
        "for i in range(args.num_steps):\n",
        "    actions = envs.action_space.sample()\n",
        "    (next_obs, rewards, dones, infos) = envs.step(actions)\n",
        "    # just dummy values for now, we won't be using them\n",
        "    logprobs = values = t.zeros(envs.num_envs)\n",
        "    # add everything to buffer (the casting from arrays to tensors is handled for us)\n",
        "    memory.add(obs, actions, logprobs, values, rewards, dones)\n",
        "    obs = next_obs\n",
        "\n",
        "obs = memory.observations # shape [num_steps, num_envs, obs_shape=4]\n",
        "dones = memory.dones # shape [num_steps, num_envs]\n",
        "\n",
        "plot_cartpole_obs_and_dones(obs, dones, title=\"CartPole experiences (dotted lines = termination, solid lines = environment separators)\")"
      ],
      "metadata": {
        "id": "iF3g-0vZ20Im",
        "colab": {
          "base_uri": "https://localhost:8080/",
          "height": 562
        },
        "outputId": "dfd98275-95dc-40b0-9c0f-30623ea758e0"
      },
      "execution_count": null,
      "outputs": [
        {
          "output_type": "display_data",
          "data": {
            "text/html": [
              "<html>\n",
              "<head><meta charset=\"utf-8\" /></head>\n",
              "<body>\n",
              "    <div>            <script src=\"https://cdnjs.cloudflare.com/ajax/libs/mathjax/2.7.5/MathJax.js?config=TeX-AMS-MML_SVG\"></script><script type=\"text/javascript\">if (window.MathJax && window.MathJax.Hub && window.MathJax.Hub.Config) {window.MathJax.Hub.Config({SVG: {font: \"STIX-Web\"}});}</script>                <script type=\"text/javascript\">window.PlotlyConfig = {MathJaxConfig: 'local'};</script>\n",
              "        <script charset=\"utf-8\" src=\"https://cdn.plot.ly/plotly-2.24.1.min.js\"></script>                <div id=\"5fa45ddc-978b-42c3-af22-599dbf371c34\" class=\"plotly-graph-div\" style=\"height:525px; width:100%;\"></div>            <script type=\"text/javascript\">                                    window.PLOTLYENV=window.PLOTLYENV || {};                                    if (document.getElementById(\"5fa45ddc-978b-42c3-af22-599dbf371c34\")) {                    Plotly.newPlot(                        \"5fa45ddc-978b-42c3-af22-599dbf371c34\",                        [{\"marker\":{\"color\":\"#1F77B4\"},\"mode\":\"lines\",\"name\":\"posn\",\"y\":[0.031327024102211,0.032152533531188965,0.03687739372253418,0.045501481741666794,0.0502215139567852,0.051040634512901306,0.05576517805457115,0.06439497321844101,0.0769314169883728,0.09337731450796127,0.10593268275260925,0.11460498720407486,0.11940038949251175,0.12032333761453629,0.12517514824867249,0.13395585119724274,0.13886885344982147,0.13991980254650116,0.13711249828338623,0.13824209570884705,0.1355147659778595,0.12893301248550415,0.1262894868850708,0.11979076266288757,0.10943805426359177,0.10302303731441498,0.09275120496749878,0.08641602843999863,0.08401671797037125,0.08555319160223007,0.08323344588279724,0.07706382125616074,0.06704873591661453,0.05319056287407875,0.0432761013507843,0.029517589136958122,0.019702861085534096,0.006044676527380943,-0.011454644612967968,-0.032794851809740067,-0.050191570073366165,-0.07143339514732361,-0.08873303234577179,-0.1020912304520607,-0.1192973181605339,-0.13256055116653442,-0.1496681571006775,-0.17061592638492584,-0.19540169835090637,-0.21624164283275604,-0.24092090129852295,-0.269438236951828,-0.29401034116744995,-0.3224232792854309,-0.35467687249183655,-0.3907729387283325,-0.422927588224411,-0.4589320421218872,-0.49878910183906555,-0.5347104072570801,-0.5666978359222412,-0.6025493144989014,-0.642266035079956,-0.6780530214309692,-0.7099123597145081,-0.737845242023468,-0.7618517279624939,-0.7897300720214844,-0.8136776685714722,-0.8414900302886963,-0.8653671741485596,-0.893101155757904,-0.9168953895568848,-0.9445372819900513,0.004362499341368675,0.00523264380171895,0.009995891712605953,0.01865260861814022,0.031204912811517715,0.03985166177153587,0.04459776356816292,0.04544677585363388,0.042400602251291275,0.035459376871585846,0.03242611140012741,0.025493059307336807,0.022463658824563026,0.015530014410614967,0.0046908315271139145,-0.0022520162165164948,-0.013107676059007645,-0.02787851355969906,-0.038765404373407364,-0.053576596081256866,-0.06451607495546341,-0.07938800007104874,-0.09040149301290512,0.03574042767286301,0.03480760008096695,0.03777047246694565,0.0446292906999588,0.0553860105574131,0.07004410773515701,0.08080343902111053,0.08767090737819672,0.09845540672540665,0.10535700619220734,0.10838215053081512,0.10753563046455383,0.11061868816614151,0.10983342677354813,0.1129801943898201,0.11226288974285126,0.11548047512769699,0.12263324856758118,0.12592989206314087,0.12537814676761627,0.12098391354084015,0.11275114119052887,0.10068174451589584,0.08477555960416794,0.06503039598464966,0.04144209623336792,0.021793182939291,-0.0017096026567742229,-0.029071075841784477,-0.052501752972602844,-0.07980320602655411,-0.018816854804754257,-0.018970202654600143,-0.023035073652863503,-0.02320709452033043,-0.019488118588924408,-0.011878163553774357,-0.008179683238267899,-0.0005852850736118853,0.010906565934419632,0.01849413476884365,0.022181987762451172,0.021973248571157455,0.025673868134617805,0.02547897771000862,0.021390102803707123,0.01340696681290865,0.0015275452751666307,-0.014251723885536194,-0.026130739599466324,-0.034116264432668686,-0.04601740464568138,-0.054033875465393066,-0.05817198008298874,-0.058436352759599686,-0.05482975393533707,-0.04735293239355087,-0.04380383715033531,-0.03638085722923279,-0.025083256885409355,-0.00990836601704359,0.0013462495990097523,0.01648743264377117,0.03551892563700676,0.05844586715102196,0.07746946811676025,0.09259718656539917,0.10383574664592743,0.111190564930439,0.12246718257665634,0.1376664638519287,0.14899002015590668,0.164242684841156,0.18342581391334534,0.20654098689556122,0.004959368612617254,0.004014486912637949,-0.0008399183861911297,-0.00960382167249918,-0.01447437796741724,-0.023259233683347702,-0.02815631404519081,-0.03697247430682182,-0.041906896978616714,-0.05076521635055542,-0.05574844405055046,-0.06466044485569,-0.07750226557254791,-0.0864800363779068,-0.09160245209932327,-0.09287653118371964,-0.09809394180774689,-0.017026828601956367,-0.01644997112452984,-0.011965141631662846,-0.011377005837857723,-0.014683708548545837,-0.014080698601901531,-0.017374029383063316,-0.016758911311626434,-0.020041437819600105,-0.01941664144396782,-0.014885843731462955,-0.006448755972087383,-0.0019081869395449758,0.006544104311615229,0.011105867102742195,0.019584661349654198,0.03198200836777687,0.048300400376319885,0.06854275614023209,0.08491536229848862,-0.03659582883119583,-0.036789603531360626,-0.04087706655263901,-0.04885810986161232,-0.05292988941073418,-0.060900021344423294,-0.07276996225118637,-0.08073784410953522,-0.09261306375265121,-0.10839822888374329,-0.12029325217008591,-0.13610774278640747,-0.1480436623096466,-0.15610934793949127,-0.16031165421009064,-0.1606556624174118,-0.1571444720029831,-0.1575714349746704,-0.16193607449531555,-0.1702384501695633,-0.1746891736984253,-0.175295889377594,-0.1720643937587738,0.025036467239260674,0.0245972853153944,0.02806096524000168,0.03542723506689072,0.046697456389665604,0.05406973510980606,0.06535336375236511,0.08055079728364944,0.09186261892318726,0.10709752142429352,0.11845891922712326,0.1259557157754898,0.1373884528875351,0.14496704936027527,0.046165719628334045,0.046615298837423325,0.050966132432222366,0.05921835079789162,0.07137373089790344,0.07963072508573532,0.08399470895528793,0.08446958661079407,0.08105751127004623,0.08156205713748932,0.010010052472352982,0.010467173531651497,0.014835399575531483,0.023114895448088646,0.03530725836753845,0.04361192509531975,0.05583726987242699,0.07198555022478104,0.09205940365791321,0.10826591402292252,-0.022503063082695007,-0.022188197821378708,-0.02577754482626915,-0.03327089920639992,-0.036864861845970154,-0.04436734691262245,-0.04797520115971565,-0.04769197478890419,-0.043519459664821625,-0.043261364102363586,-0.03911225497722626,-0.03887626901268959,-0.04255210980772972,-0.042335789650678635,-0.038229577243328094,-0.030233902856707573,-0.018347345292568207,-0.010371163487434387,0.0015033101662993431,0.017278773710131645,0.029154425486922264,0.044940683990716934,0.06464086472988129,0.08825889229774475,0.1157984808087349,0.13946650922298431,-0.0067369211465120316,-0.006398326251655817,-0.0021550951059907675,-0.0018121602479368448,0.002436918905004859,0.0027872915379703045,0.007045361213386059,0.015211094170808792,0.0272859875112772,0.035468731075525284,0.04756826162338257,0.06358695775270462,0.07572708278894424,0.08399748057126999,0.08840562403202057,0.09675037860870361,0.10903222113847733,0.046743594110012054,0.04710972309112549,0.051381368190050125,0.059558674693107605,0.07164335995912552,0.07983409613370895,0.09194021672010422,0.10016154497861862,0.10450459271669388,0.1127740740776062,0.11717213690280914,0.11770431697368622,0.11437424272298813,0.11497875303030014,0.119517482817173,0.1201963871717453,0.12481293827295303,0.12557631731033325,0.1224924847483635,0.1155654639005661,0.11258291453123093,0.10575877130031586,0.09509605914354324,0.0805957242846489,0.06225666031241417,0.04007576406002045,0.02183564193546772,-0.000255533610470593,-0.026201656088232994,-0.056008439511060715,-0.0896831750869751,-0.12723439931869507,-0.1686713844537735,-0.20619919896125793,-0.24763083457946777,-0.28516873717308044,-0.3188239336013794,-0.35640543699264526,-0.3901212513446808,-0.015403933823108673,-0.01538180187344551,-0.019272878766059875,-0.019273247569799423,-0.02318870648741722,-0.031019406393170357,-0.03496365621685982,-0.042828235775232315,-0.04681290313601494,-0.05472298339009285,-0.05876035615801811,-0.058930713683366776,-0.05523788183927536,-0.047683682292699814,-0.03626788407564163,-0.028784509748220444,-0.017434319481253624,-0.0022157502826303244,0.016874682158231735,0.032041601836681366,0.051090821623802185,0.06622357666492462,0.0774439200758934,0.09255935996770859,0.11157169193029404,0.13448429107666016,0.15349692106246948,0.1686161905527115,0.1798475831747055,0.19499772787094116,0.2062654197216034,0.21365495026111603,0.21716876327991486,0.22460779547691345,0.23597119748592377,0.24345865845680237,-0.040587134659290314,-0.04072088375687599,-0.036951590329408646,-0.0292790699750185,-0.025506360456347466,-0.017825160175561905,-0.014038258232176304,-0.006337753031402826,0.005277859512716532,0.02081119455397129,0.03246428444981575,0.048044603317976,0.06755419820547104,0.023457715287804604,0.022685058414936066,0.01801311783492565,0.009441862814128399,-0.0030304156243801117,-0.011602056212723255,-0.01627814583480358,-0.024866458028554916,-0.029564429074525833,-0.03037598542869091,-0.03510609641671181,-0.043754834681749344,-0.05632352456450462,-0.0650133267045021,-0.07763038575649261,-0.08637906610965729,-0.09126736968755722,-0.10009349882602692,-0.1128578782081604,-0.0069371978752315044,-0.006763600744307041,-0.0026945441495627165,-0.002534805331379175,-0.006283099297434092,-0.006135085131973028,-0.00989739689975977,-0.009765983559191227,-0.005743210203945637,-0.00563362892717123,-0.001632094499655068,0.006260689347982407,0.010241645388305187,0.01811755634844303,0.022084761410951614,0.02214553952217102,0.018300605937838554,0.01054906751960516,-0.001111432327888906,-0.008880404755473137,-0.020567437633872032,-0.036175310611724854,-0.05570708587765694,-0.0713694766163826,-0.021579883992671967,-0.02128278836607933,-0.02489365078508854,-0.0324123241007328,-0.03603567183017731,-0.04357142746448517,-0.047217030078172684,-0.05477960780262947,-0.058457598090171814,-0.06605716794729233,-0.07757949829101562,-0.08522669970989227,-0.09680367261171341,-0.10451622307300568,-0.11616501957178116,-0.04985099285840988,-0.04890407249331474,-0.05185369402170181,-0.058699775487184525,-0.0694439709186554,-0.08408947288990021,-0.09483592212200165,-0.10949409753084183,-0.12806755304336548,-0.15056021511554718,-0.1769755482673645,0.03917110711336136,0.039341431111097336,0.0356101468205452,0.027977081015706062,0.01644044741988182,0.008801769465208054,0.005055596120655537,0.005197959020733833,0.0014234031550586224,-0.006268227007240057,-0.017878370359539986,-0.03340945392847061,-0.05286438390612602,-0.07624576985836029,-0.04696539789438248,-0.04655146971344948,-0.04223153740167618,-0.034005410969257355,-0.021871337667107582,-0.013630546629428864,-0.009277120232582092,-0.0010041689965873957,0.011189660988748074,0.027306627482175827,0.03955084830522537,0.05572708696126938,0.016050007194280624,0.01691293530166149,0.013882061466574669,0.01476165559142828,0.011745584197342396,0.00483384495601058,0.0018293947214260697,0.002729170024394989,0.007531659211963415,0.016237016767263412,0.021042168140411377,0.021950747817754745,0.0189647376537323,0.019888779148459435,0.02472156099975109,0.03346332162618637,0.04611578583717346,0.054878104478120804,0.05975652486085892,0.06855729967355728],\"type\":\"scatter\",\"xaxis\":\"x\",\"yaxis\":\"y\"},{\"marker\":{\"color\":\"#1F77B4\"},\"mode\":\"lines\",\"name\":\"posn_min\",\"y\":[-2.4000000953674316,-2.4000000953674316,-2.4000000953674316,-2.4000000953674316,-2.4000000953674316,-2.4000000953674316,-2.4000000953674316,-2.4000000953674316,-2.4000000953674316,-2.4000000953674316,-2.4000000953674316,-2.4000000953674316,-2.4000000953674316,-2.4000000953674316,-2.4000000953674316,-2.4000000953674316,-2.4000000953674316,-2.4000000953674316,-2.4000000953674316,-2.4000000953674316,-2.4000000953674316,-2.4000000953674316,-2.4000000953674316,-2.4000000953674316,-2.4000000953674316,-2.4000000953674316,-2.4000000953674316,-2.4000000953674316,-2.4000000953674316,-2.4000000953674316,-2.4000000953674316,-2.4000000953674316,-2.4000000953674316,-2.4000000953674316,-2.4000000953674316,-2.4000000953674316,-2.4000000953674316,-2.4000000953674316,-2.4000000953674316,-2.4000000953674316,-2.4000000953674316,-2.4000000953674316,-2.4000000953674316,-2.4000000953674316,-2.4000000953674316,-2.4000000953674316,-2.4000000953674316,-2.4000000953674316,-2.4000000953674316,-2.4000000953674316,-2.4000000953674316,-2.4000000953674316,-2.4000000953674316,-2.4000000953674316,-2.4000000953674316,-2.4000000953674316,-2.4000000953674316,-2.4000000953674316,-2.4000000953674316,-2.4000000953674316,-2.4000000953674316,-2.4000000953674316,-2.4000000953674316,-2.4000000953674316,-2.4000000953674316,-2.4000000953674316,-2.4000000953674316,-2.4000000953674316,-2.4000000953674316,-2.4000000953674316,-2.4000000953674316,-2.4000000953674316,-2.4000000953674316,-2.4000000953674316,-2.4000000953674316,-2.4000000953674316,-2.4000000953674316,-2.4000000953674316,-2.4000000953674316,-2.4000000953674316,-2.4000000953674316,-2.4000000953674316,-2.4000000953674316,-2.4000000953674316,-2.4000000953674316,-2.4000000953674316,-2.4000000953674316,-2.4000000953674316,-2.4000000953674316,-2.4000000953674316,-2.4000000953674316,-2.4000000953674316,-2.4000000953674316,-2.4000000953674316,-2.4000000953674316,-2.4000000953674316,-2.4000000953674316,-2.4000000953674316,-2.4000000953674316,-2.4000000953674316,-2.4000000953674316,-2.4000000953674316,-2.4000000953674316,-2.4000000953674316,-2.4000000953674316,-2.4000000953674316,-2.4000000953674316,-2.4000000953674316,-2.4000000953674316,-2.4000000953674316,-2.4000000953674316,-2.4000000953674316,-2.4000000953674316,-2.4000000953674316,-2.4000000953674316,-2.4000000953674316,-2.4000000953674316,-2.4000000953674316,-2.4000000953674316,-2.4000000953674316,-2.4000000953674316,-2.4000000953674316,-2.4000000953674316,-2.4000000953674316,-2.4000000953674316,-2.4000000953674316,-2.4000000953674316,-2.4000000953674316,-2.4000000953674316,-2.4000000953674316,-2.4000000953674316,-2.4000000953674316,-2.4000000953674316,-2.4000000953674316,-2.4000000953674316,-2.4000000953674316,-2.4000000953674316,-2.4000000953674316,-2.4000000953674316,-2.4000000953674316,-2.4000000953674316,-2.4000000953674316,-2.4000000953674316,-2.4000000953674316,-2.4000000953674316,-2.4000000953674316,-2.4000000953674316,-2.4000000953674316,-2.4000000953674316,-2.4000000953674316,-2.4000000953674316,-2.4000000953674316,-2.4000000953674316,-2.4000000953674316,-2.4000000953674316,-2.4000000953674316,-2.4000000953674316,-2.4000000953674316,-2.4000000953674316,-2.4000000953674316,-2.4000000953674316,-2.4000000953674316,-2.4000000953674316,-2.4000000953674316,-2.4000000953674316,-2.4000000953674316,-2.4000000953674316,-2.4000000953674316,-2.4000000953674316,-2.4000000953674316,-2.4000000953674316,-2.4000000953674316,-2.4000000953674316,-2.4000000953674316,-2.4000000953674316,-2.4000000953674316,-2.4000000953674316,-2.4000000953674316,-2.4000000953674316,-2.4000000953674316,-2.4000000953674316,-2.4000000953674316,-2.4000000953674316,-2.4000000953674316,-2.4000000953674316,-2.4000000953674316,-2.4000000953674316,-2.4000000953674316,-2.4000000953674316,-2.4000000953674316,-2.4000000953674316,-2.4000000953674316,-2.4000000953674316,-2.4000000953674316,-2.4000000953674316,-2.4000000953674316,-2.4000000953674316,-2.4000000953674316,-2.4000000953674316,-2.4000000953674316,-2.4000000953674316,-2.4000000953674316,-2.4000000953674316,-2.4000000953674316,-2.4000000953674316,-2.4000000953674316,-2.4000000953674316,-2.4000000953674316,-2.4000000953674316,-2.4000000953674316,-2.4000000953674316,-2.4000000953674316,-2.4000000953674316,-2.4000000953674316,-2.4000000953674316,-2.4000000953674316,-2.4000000953674316,-2.4000000953674316,-2.4000000953674316,-2.4000000953674316,-2.4000000953674316,-2.4000000953674316,-2.4000000953674316,-2.4000000953674316,-2.4000000953674316,-2.4000000953674316,-2.4000000953674316,-2.4000000953674316,-2.4000000953674316,-2.4000000953674316,-2.4000000953674316,-2.4000000953674316,-2.4000000953674316,-2.4000000953674316,-2.4000000953674316,-2.4000000953674316,-2.4000000953674316,-2.4000000953674316,-2.4000000953674316,-2.4000000953674316,-2.4000000953674316,-2.4000000953674316,-2.4000000953674316,-2.4000000953674316,-2.4000000953674316,-2.4000000953674316,-2.4000000953674316,-2.4000000953674316,-2.4000000953674316,-2.4000000953674316,-2.4000000953674316,-2.4000000953674316,-2.4000000953674316,-2.4000000953674316,-2.4000000953674316,-2.4000000953674316,-2.4000000953674316,-2.4000000953674316,-2.4000000953674316,-2.4000000953674316,-2.4000000953674316,-2.4000000953674316,-2.4000000953674316,-2.4000000953674316,-2.4000000953674316,-2.4000000953674316,-2.4000000953674316,-2.4000000953674316,-2.4000000953674316,-2.4000000953674316,-2.4000000953674316,-2.4000000953674316,-2.4000000953674316,-2.4000000953674316,-2.4000000953674316,-2.4000000953674316,-2.4000000953674316,-2.4000000953674316,-2.4000000953674316,-2.4000000953674316,-2.4000000953674316,-2.4000000953674316,-2.4000000953674316,-2.4000000953674316,-2.4000000953674316,-2.4000000953674316,-2.4000000953674316,-2.4000000953674316,-2.4000000953674316,-2.4000000953674316,-2.4000000953674316,-2.4000000953674316,-2.4000000953674316,-2.4000000953674316,-2.4000000953674316,-2.4000000953674316,-2.4000000953674316,-2.4000000953674316,-2.4000000953674316,-2.4000000953674316,-2.4000000953674316,-2.4000000953674316,-2.4000000953674316,-2.4000000953674316,-2.4000000953674316,-2.4000000953674316,-2.4000000953674316,-2.4000000953674316,-2.4000000953674316,-2.4000000953674316,-2.4000000953674316,-2.4000000953674316,-2.4000000953674316,-2.4000000953674316,-2.4000000953674316,-2.4000000953674316,-2.4000000953674316,-2.4000000953674316,-2.4000000953674316,-2.4000000953674316,-2.4000000953674316,-2.4000000953674316,-2.4000000953674316,-2.4000000953674316,-2.4000000953674316,-2.4000000953674316,-2.4000000953674316,-2.4000000953674316,-2.4000000953674316,-2.4000000953674316,-2.4000000953674316,-2.4000000953674316,-2.4000000953674316,-2.4000000953674316,-2.4000000953674316,-2.4000000953674316,-2.4000000953674316,-2.4000000953674316,-2.4000000953674316,-2.4000000953674316,-2.4000000953674316,-2.4000000953674316,-2.4000000953674316,-2.4000000953674316,-2.4000000953674316,-2.4000000953674316,-2.4000000953674316,-2.4000000953674316,-2.4000000953674316,-2.4000000953674316,-2.4000000953674316,-2.4000000953674316,-2.4000000953674316,-2.4000000953674316,-2.4000000953674316,-2.4000000953674316,-2.4000000953674316,-2.4000000953674316,-2.4000000953674316,-2.4000000953674316,-2.4000000953674316,-2.4000000953674316,-2.4000000953674316,-2.4000000953674316,-2.4000000953674316,-2.4000000953674316,-2.4000000953674316,-2.4000000953674316,-2.4000000953674316,-2.4000000953674316,-2.4000000953674316,-2.4000000953674316,-2.4000000953674316,-2.4000000953674316,-2.4000000953674316,-2.4000000953674316,-2.4000000953674316,-2.4000000953674316,-2.4000000953674316,-2.4000000953674316,-2.4000000953674316,-2.4000000953674316,-2.4000000953674316,-2.4000000953674316,-2.4000000953674316,-2.4000000953674316,-2.4000000953674316,-2.4000000953674316,-2.4000000953674316,-2.4000000953674316,-2.4000000953674316,-2.4000000953674316,-2.4000000953674316,-2.4000000953674316,-2.4000000953674316,-2.4000000953674316,-2.4000000953674316,-2.4000000953674316,-2.4000000953674316,-2.4000000953674316,-2.4000000953674316,-2.4000000953674316,-2.4000000953674316,-2.4000000953674316,-2.4000000953674316,-2.4000000953674316,-2.4000000953674316,-2.4000000953674316,-2.4000000953674316,-2.4000000953674316,-2.4000000953674316,-2.4000000953674316,-2.4000000953674316,-2.4000000953674316,-2.4000000953674316,-2.4000000953674316,-2.4000000953674316,-2.4000000953674316,-2.4000000953674316,-2.4000000953674316,-2.4000000953674316,-2.4000000953674316,-2.4000000953674316,-2.4000000953674316,-2.4000000953674316,-2.4000000953674316,-2.4000000953674316,-2.4000000953674316,-2.4000000953674316,-2.4000000953674316,-2.4000000953674316,-2.4000000953674316,-2.4000000953674316,-2.4000000953674316,-2.4000000953674316,-2.4000000953674316,-2.4000000953674316,-2.4000000953674316,-2.4000000953674316,-2.4000000953674316,-2.4000000953674316,-2.4000000953674316,-2.4000000953674316,-2.4000000953674316,-2.4000000953674316,-2.4000000953674316,-2.4000000953674316,-2.4000000953674316,-2.4000000953674316,-2.4000000953674316,-2.4000000953674316,-2.4000000953674316,-2.4000000953674316,-2.4000000953674316,-2.4000000953674316,-2.4000000953674316,-2.4000000953674316,-2.4000000953674316,-2.4000000953674316,-2.4000000953674316,-2.4000000953674316,-2.4000000953674316,-2.4000000953674316,-2.4000000953674316,-2.4000000953674316,-2.4000000953674316,-2.4000000953674316,-2.4000000953674316,-2.4000000953674316,-2.4000000953674316,-2.4000000953674316,-2.4000000953674316,-2.4000000953674316,-2.4000000953674316,-2.4000000953674316,-2.4000000953674316,-2.4000000953674316,-2.4000000953674316,-2.4000000953674316,-2.4000000953674316,-2.4000000953674316,-2.4000000953674316,-2.4000000953674316,-2.4000000953674316,-2.4000000953674316,-2.4000000953674316,-2.4000000953674316,-2.4000000953674316,-2.4000000953674316,-2.4000000953674316,-2.4000000953674316,-2.4000000953674316,-2.4000000953674316,-2.4000000953674316,-2.4000000953674316,-2.4000000953674316,-2.4000000953674316,-2.4000000953674316,-2.4000000953674316,-2.4000000953674316,-2.4000000953674316,-2.4000000953674316,-2.4000000953674316,-2.4000000953674316,-2.4000000953674316,-2.4000000953674316,-2.4000000953674316,-2.4000000953674316,-2.4000000953674316,-2.4000000953674316,-2.4000000953674316,-2.4000000953674316],\"type\":\"scatter\",\"xaxis\":\"x\",\"yaxis\":\"y\"},{\"marker\":{\"color\":\"#1F77B4\"},\"mode\":\"lines\",\"name\":\"posn_max\",\"y\":[2.4000000953674316,2.4000000953674316,2.4000000953674316,2.4000000953674316,2.4000000953674316,2.4000000953674316,2.4000000953674316,2.4000000953674316,2.4000000953674316,2.4000000953674316,2.4000000953674316,2.4000000953674316,2.4000000953674316,2.4000000953674316,2.4000000953674316,2.4000000953674316,2.4000000953674316,2.4000000953674316,2.4000000953674316,2.4000000953674316,2.4000000953674316,2.4000000953674316,2.4000000953674316,2.4000000953674316,2.4000000953674316,2.4000000953674316,2.4000000953674316,2.4000000953674316,2.4000000953674316,2.4000000953674316,2.4000000953674316,2.4000000953674316,2.4000000953674316,2.4000000953674316,2.4000000953674316,2.4000000953674316,2.4000000953674316,2.4000000953674316,2.4000000953674316,2.4000000953674316,2.4000000953674316,2.4000000953674316,2.4000000953674316,2.4000000953674316,2.4000000953674316,2.4000000953674316,2.4000000953674316,2.4000000953674316,2.4000000953674316,2.4000000953674316,2.4000000953674316,2.4000000953674316,2.4000000953674316,2.4000000953674316,2.4000000953674316,2.4000000953674316,2.4000000953674316,2.4000000953674316,2.4000000953674316,2.4000000953674316,2.4000000953674316,2.4000000953674316,2.4000000953674316,2.4000000953674316,2.4000000953674316,2.4000000953674316,2.4000000953674316,2.4000000953674316,2.4000000953674316,2.4000000953674316,2.4000000953674316,2.4000000953674316,2.4000000953674316,2.4000000953674316,2.4000000953674316,2.4000000953674316,2.4000000953674316,2.4000000953674316,2.4000000953674316,2.4000000953674316,2.4000000953674316,2.4000000953674316,2.4000000953674316,2.4000000953674316,2.4000000953674316,2.4000000953674316,2.4000000953674316,2.4000000953674316,2.4000000953674316,2.4000000953674316,2.4000000953674316,2.4000000953674316,2.4000000953674316,2.4000000953674316,2.4000000953674316,2.4000000953674316,2.4000000953674316,2.4000000953674316,2.4000000953674316,2.4000000953674316,2.4000000953674316,2.4000000953674316,2.4000000953674316,2.4000000953674316,2.4000000953674316,2.4000000953674316,2.4000000953674316,2.4000000953674316,2.4000000953674316,2.4000000953674316,2.4000000953674316,2.4000000953674316,2.4000000953674316,2.4000000953674316,2.4000000953674316,2.4000000953674316,2.4000000953674316,2.4000000953674316,2.4000000953674316,2.4000000953674316,2.4000000953674316,2.4000000953674316,2.4000000953674316,2.4000000953674316,2.4000000953674316,2.4000000953674316,2.4000000953674316,2.4000000953674316,2.4000000953674316,2.4000000953674316,2.4000000953674316,2.4000000953674316,2.4000000953674316,2.4000000953674316,2.4000000953674316,2.4000000953674316,2.4000000953674316,2.4000000953674316,2.4000000953674316,2.4000000953674316,2.4000000953674316,2.4000000953674316,2.4000000953674316,2.4000000953674316,2.4000000953674316,2.4000000953674316,2.4000000953674316,2.4000000953674316,2.4000000953674316,2.4000000953674316,2.4000000953674316,2.4000000953674316,2.4000000953674316,2.4000000953674316,2.4000000953674316,2.4000000953674316,2.4000000953674316,2.4000000953674316,2.4000000953674316,2.4000000953674316,2.4000000953674316,2.4000000953674316,2.4000000953674316,2.4000000953674316,2.4000000953674316,2.4000000953674316,2.4000000953674316,2.4000000953674316,2.4000000953674316,2.4000000953674316,2.4000000953674316,2.4000000953674316,2.4000000953674316,2.4000000953674316,2.4000000953674316,2.4000000953674316,2.4000000953674316,2.4000000953674316,2.4000000953674316,2.4000000953674316,2.4000000953674316,2.4000000953674316,2.4000000953674316,2.4000000953674316,2.4000000953674316,2.4000000953674316,2.4000000953674316,2.4000000953674316,2.4000000953674316,2.4000000953674316,2.4000000953674316,2.4000000953674316,2.4000000953674316,2.4000000953674316,2.4000000953674316,2.4000000953674316,2.4000000953674316,2.4000000953674316,2.4000000953674316,2.4000000953674316,2.4000000953674316,2.4000000953674316,2.4000000953674316,2.4000000953674316,2.4000000953674316,2.4000000953674316,2.4000000953674316,2.4000000953674316,2.4000000953674316,2.4000000953674316,2.4000000953674316,2.4000000953674316,2.4000000953674316,2.4000000953674316,2.4000000953674316,2.4000000953674316,2.4000000953674316,2.4000000953674316,2.4000000953674316,2.4000000953674316,2.4000000953674316,2.4000000953674316,2.4000000953674316,2.4000000953674316,2.4000000953674316,2.4000000953674316,2.4000000953674316,2.4000000953674316,2.4000000953674316,2.4000000953674316,2.4000000953674316,2.4000000953674316,2.4000000953674316,2.4000000953674316,2.4000000953674316,2.4000000953674316,2.4000000953674316,2.4000000953674316,2.4000000953674316,2.4000000953674316,2.4000000953674316,2.4000000953674316,2.4000000953674316,2.4000000953674316,2.4000000953674316,2.4000000953674316,2.4000000953674316,2.4000000953674316,2.4000000953674316,2.4000000953674316,2.4000000953674316,2.4000000953674316,2.4000000953674316,2.4000000953674316,2.4000000953674316,2.4000000953674316,2.4000000953674316,2.4000000953674316,2.4000000953674316,2.4000000953674316,2.4000000953674316,2.4000000953674316,2.4000000953674316,2.4000000953674316,2.4000000953674316,2.4000000953674316,2.4000000953674316,2.4000000953674316,2.4000000953674316,2.4000000953674316,2.4000000953674316,2.4000000953674316,2.4000000953674316,2.4000000953674316,2.4000000953674316,2.4000000953674316,2.4000000953674316,2.4000000953674316,2.4000000953674316,2.4000000953674316,2.4000000953674316,2.4000000953674316,2.4000000953674316,2.4000000953674316,2.4000000953674316,2.4000000953674316,2.4000000953674316,2.4000000953674316,2.4000000953674316,2.4000000953674316,2.4000000953674316,2.4000000953674316,2.4000000953674316,2.4000000953674316,2.4000000953674316,2.4000000953674316,2.4000000953674316,2.4000000953674316,2.4000000953674316,2.4000000953674316,2.4000000953674316,2.4000000953674316,2.4000000953674316,2.4000000953674316,2.4000000953674316,2.4000000953674316,2.4000000953674316,2.4000000953674316,2.4000000953674316,2.4000000953674316,2.4000000953674316,2.4000000953674316,2.4000000953674316,2.4000000953674316,2.4000000953674316,2.4000000953674316,2.4000000953674316,2.4000000953674316,2.4000000953674316,2.4000000953674316,2.4000000953674316,2.4000000953674316,2.4000000953674316,2.4000000953674316,2.4000000953674316,2.4000000953674316,2.4000000953674316,2.4000000953674316,2.4000000953674316,2.4000000953674316,2.4000000953674316,2.4000000953674316,2.4000000953674316,2.4000000953674316,2.4000000953674316,2.4000000953674316,2.4000000953674316,2.4000000953674316,2.4000000953674316,2.4000000953674316,2.4000000953674316,2.4000000953674316,2.4000000953674316,2.4000000953674316,2.4000000953674316,2.4000000953674316,2.4000000953674316,2.4000000953674316,2.4000000953674316,2.4000000953674316,2.4000000953674316,2.4000000953674316,2.4000000953674316,2.4000000953674316,2.4000000953674316,2.4000000953674316,2.4000000953674316,2.4000000953674316,2.4000000953674316,2.4000000953674316,2.4000000953674316,2.4000000953674316,2.4000000953674316,2.4000000953674316,2.4000000953674316,2.4000000953674316,2.4000000953674316,2.4000000953674316,2.4000000953674316,2.4000000953674316,2.4000000953674316,2.4000000953674316,2.4000000953674316,2.4000000953674316,2.4000000953674316,2.4000000953674316,2.4000000953674316,2.4000000953674316,2.4000000953674316,2.4000000953674316,2.4000000953674316,2.4000000953674316,2.4000000953674316,2.4000000953674316,2.4000000953674316,2.4000000953674316,2.4000000953674316,2.4000000953674316,2.4000000953674316,2.4000000953674316,2.4000000953674316,2.4000000953674316,2.4000000953674316,2.4000000953674316,2.4000000953674316,2.4000000953674316,2.4000000953674316,2.4000000953674316,2.4000000953674316,2.4000000953674316,2.4000000953674316,2.4000000953674316,2.4000000953674316,2.4000000953674316,2.4000000953674316,2.4000000953674316,2.4000000953674316,2.4000000953674316,2.4000000953674316,2.4000000953674316,2.4000000953674316,2.4000000953674316,2.4000000953674316,2.4000000953674316,2.4000000953674316,2.4000000953674316,2.4000000953674316,2.4000000953674316,2.4000000953674316,2.4000000953674316,2.4000000953674316,2.4000000953674316,2.4000000953674316,2.4000000953674316,2.4000000953674316,2.4000000953674316,2.4000000953674316,2.4000000953674316,2.4000000953674316,2.4000000953674316,2.4000000953674316,2.4000000953674316,2.4000000953674316,2.4000000953674316,2.4000000953674316,2.4000000953674316,2.4000000953674316,2.4000000953674316,2.4000000953674316,2.4000000953674316,2.4000000953674316,2.4000000953674316,2.4000000953674316,2.4000000953674316,2.4000000953674316,2.4000000953674316,2.4000000953674316,2.4000000953674316,2.4000000953674316,2.4000000953674316,2.4000000953674316,2.4000000953674316,2.4000000953674316,2.4000000953674316,2.4000000953674316,2.4000000953674316,2.4000000953674316,2.4000000953674316,2.4000000953674316,2.4000000953674316,2.4000000953674316,2.4000000953674316,2.4000000953674316,2.4000000953674316,2.4000000953674316,2.4000000953674316,2.4000000953674316,2.4000000953674316,2.4000000953674316,2.4000000953674316,2.4000000953674316,2.4000000953674316,2.4000000953674316,2.4000000953674316,2.4000000953674316,2.4000000953674316,2.4000000953674316,2.4000000953674316,2.4000000953674316,2.4000000953674316,2.4000000953674316,2.4000000953674316,2.4000000953674316,2.4000000953674316,2.4000000953674316,2.4000000953674316,2.4000000953674316,2.4000000953674316,2.4000000953674316,2.4000000953674316,2.4000000953674316,2.4000000953674316,2.4000000953674316,2.4000000953674316,2.4000000953674316,2.4000000953674316,2.4000000953674316,2.4000000953674316,2.4000000953674316,2.4000000953674316,2.4000000953674316,2.4000000953674316,2.4000000953674316,2.4000000953674316,2.4000000953674316,2.4000000953674316,2.4000000953674316,2.4000000953674316,2.4000000953674316,2.4000000953674316,2.4000000953674316,2.4000000953674316],\"type\":\"scatter\",\"xaxis\":\"x\",\"yaxis\":\"y\"},{\"marker\":{\"color\":\"#FF7F0E\"},\"mode\":\"lines\",\"name\":\"angle\",\"y\":[0.010663577355444431,0.011122570373117924,0.005795574747025967,-0.005314504262059927,-0.010534518398344517,-0.009934493340551853,-0.015254227444529533,-0.02648995630443096,-0.04367467388510704,-0.06687725335359573,-0.0845063328742981,-0.09671678394079208,-0.10362893342971802,-0.10532735288143158,-0.11349570006132126,-0.12814292311668396,-0.13769182562828064,-0.1422465741634369,-0.14187578856945038,-0.14818429946899414,-0.14959698915481567,-0.14615954458713531,-0.14943982660770416,-0.14785531163215637,-0.14142969250679016,-0.14171238243579865,-0.13709646463394165,-0.13915681838989258,-0.14786918461322784,-0.16324374079704285,-0.1737634241580963,-0.17954066395759583,-0.1806531697511673,-0.17714373767375946,-0.18051008880138397,-0.1792367696762085,-0.18483863770961761,-0.1858159601688385,-0.18221040070056915,-0.17402900755405426,-0.17273041605949402,-0.16676940023899078,-0.16764429211616516,-0.17532537877559662,-0.17829668521881104,-0.18811723589897156,-0.19330550730228424,-0.19393476843833923,-0.19004382193088531,-0.19309383630752563,-0.19159933924674988,-0.18558304011821747,-0.1864960640668869,-0.18283168971538544,-0.17459651827812195,-0.1617627590894699,-0.15577267110347748,-0.14503026008605957,-0.12949120998382568,-0.12064357846975327,-0.11840663850307465,-0.11112333834171295,-0.09877751022577286,-0.09294192492961884,-0.09354893118143082,-0.10056593269109726,-0.11399602144956589,-0.12223806232213974,-0.13700681924819946,-0.14673857390880585,-0.16312095522880554,-0.1746399998664856,-0.19294510781764984,-0.20658813416957855,0.03158535435795784,0.030590832233428955,0.023945258930325508,0.011642059311270714,-0.00636206055060029,-0.01843979023396969,-0.02470407634973526,-0.025232141837477684,-0.0200644601136446,-0.009204404428601265,-0.00432308204472065,0.0063535491935908794,0.011149341240525246,0.021838737651705742,0.03845163434743881,0.0493498258292675,0.0663389340043068,0.08948372304439545,0.10720518976449966,0.13131502270698547,0.15027979016304016,0.17586234211921692,0.19660280644893646,0.02296554483473301,0.022316856309771538,0.0159611776471138,0.0038942527025938034,-0.013924933038651943,-0.03757324442267418,-0.05545584112405777,-0.06772565096616745,-0.08618788421154022,-0.09923704713582993,-0.10699927061796188,-0.10956510901451111,-0.11861957609653473,-0.12254931032657623,-0.13303148746490479,-0.1384798139333725,-0.1505582481622696,-0.16929462552070618,-0.18319417536258698,-0.19239436089992523,-0.19699843227863312,-0.1970752626657486,-0.19265931844711304,-0.1837509125471115,-0.1703164130449295,-0.15228866040706635,-0.1410810947418213,-0.12505164742469788,-0.1041184663772583,-0.08976883441209793,-0.0702555850148201,0.03277026116847992,0.0325886569917202,0.03846384584903717,0.03869444876909256,0.033318985253572464,0.022338883951306343,0.017418621107935905,0.006787280552089214,-0.009586936794221401,-0.020064953714609146,-0.024750038981437683,-0.023709386587142944,-0.028676491230726242,-0.027941372245550156,-0.021536272019147873,-0.009456333704292774,0.00834005419164896,0.0319303497672081,0.04971950501203537,0.0618591234087944,0.08015713095664978,0.0930027887225151,0.10052038729190826,0.10279857367277145,0.09988967329263687,0.09180948138237,0.09017788618803024,0.08329901844263077,0.07116135954856873,0.05371715873479843,0.04255656898021698,0.02589024417102337,0.0036438945680856705,-0.024291453883051872,-0.04635040462017059,-0.06271006911993027,-0.07351471483707428,-0.07887368649244308,-0.0905313491821289,-0.10851801186800003,-0.12124649435281754,-0.14047078788280487,-0.16625870764255524,-0.19870981574058533,0.025351310148835182,0.025427596643567085,0.03151533380150795,0.04361492395401001,0.050062667578458786,0.06263265758752823,0.06967252492904663,0.08294753730297089,0.09082340449094772,0.10505205392837524,0.11402533203363419,0.12947586178779602,0.15145184099674225,0.16843946278095245,0.18059737980365753,0.18805024027824402,0.202378049492836,-0.01968051679432392,-0.019773520529270172,-0.0258430615067482,-0.026184966787695885,-0.020838502794504166,-0.02150854840874672,-0.016457874327898026,-0.017394976690411568,-0.0125831738114357,-0.01373374368995428,-0.02081684023141861,-0.03383956849575043,-0.04114118218421936,-0.054505959153175354,-0.06228172406554222,-0.07624464482069016,-0.09643997997045517,-0.12294767051935196,-0.1558801531791687,-0.18377293646335602,-0.029654476791620255,-0.030129849910736084,-0.02494160085916519,-0.014092765748500824,-0.00925265159457922,0.0013515549944713712,0.017750823870301247,0.028304941952228546,0.04482351988554001,0.06737107783555984,0.0843527689576149,0.10759614408016205,0.12553776800632477,0.1383390575647354,0.1461271047592163,0.1489938348531723,0.14699557423591614,0.15171195566654205,0.16313235461711884,0.18128018081188202,0.19468221068382263,0.2034727931022644,0.20775233209133148,-0.0014809025451540947,-0.0005194281693547964,-0.005420949775725603,-0.0161794051527977,-0.03282558172941208,-0.04372074082493782,-0.06067274138331413,-0.08374683558940887,-0.1013597771525383,-0.12532855570316315,-0.14411190152168274,-0.1578788012266159,-0.1783328652381897,-0.19400207698345184,0.004122685641050339,0.003676468040794134,-0.0025973361916840076,-0.01470156479626894,-0.032675791531801224,-0.044889502227306366,-0.051458921283483505,-0.05246442183852196,-0.0479496531188488,-0.04961008206009865,-0.03120989352464676,-0.03209960088133812,-0.0390365906059742,-0.0520261786878109,-0.0711100697517395,-0.08467608690261841,-0.10452603548765182,-0.1307365894317627,-0.16341687738895416,-0.1911121904850006,0.006226566154509783,0.005526690743863583,0.010719634592533112,0.021800996735692024,0.02709663286805153,0.03838184103369713,0.04398655891418457,0.043984584510326385,0.038412876427173615,0.03896566480398178,0.0339120514690876,0.03495272621512413,0.04205713048577309,0.043532341718673706,0.03942509740591049,0.02974507585167885,0.014465024694800377,0.005222816485911608,-0.009781165048480034,-0.030605843290686607,-0.04563859477639198,-0.06671444326639175,-0.09392333030700684,-0.1273878812789917,-0.1672603338956833,-0.20211949944496155,-0.007721532601863146,-0.007455164100974798,-0.013090977445244789,-0.012920345179736614,-0.01868540048599243,-0.018678853288292885,-0.024642691016197205,-0.036576829850673676,-0.05451780930161476,-0.06683949381113052,-0.08534803986549377,-0.1101149171590805,-0.1295863687992096,-0.14393454790115356,-0.15329775214195251,-0.16934823989868164,-0.19213296473026276,-0.010837516747415066,-0.011463011614978313,-0.018010156229138374,-0.030482813715934753,-0.04892147704958916,-0.061701152473688126,-0.08063440769910812,-0.09411414712667465,-0.10226897895336151,-0.11683996766805649,-0.12623447179794312,-0.1305551379919052,-0.12986882030963898,-0.13579963147640228,-0.1483435481786728,-0.15594708919525146,-0.17026130855083466,-0.17977915704250336,-0.1846059411764145,-0.1848122626543045,-0.19191408157348633,-0.19443216919898987,-0.1924196481704712,-0.18589521944522858,-0.1748434454202652,-0.15921497344970703,-0.15043039619922638,-0.13687452673912048,-0.11848274618387222,-0.09515643864870071,-0.06676393747329712,-0.03314168006181717,0.005903947167098522,0.03889421746134758,0.07777481526136398,0.11104787141084671,0.13897134363651276,0.17339958250522614,0.2028997391462326,0.03912094235420227,0.03967206925153732,0.04631849378347397,0.047366656363010406,0.05455340817570686,0.06788484752178192,0.07571590691804886,0.0898127630352974,0.09855121374130249,0.11368144303560257,0.12360934168100357,0.12844116985797882,0.12824739515781403,0.12306243926286697,0.11288467794656754,0.1092827320098877,0.10057983547449112,0.08675028383731842,0.06773270666599274,0.05508771166205406,0.03703059256076813,0.025163011625409126,0.019377700984477997,0.007899554446339607,-0.009308909997344017,-0.03232114762067795,-0.049538396298885345,-0.06110869348049164,-0.06714549660682678,-0.07940853387117386,-0.08625554293394089,-0.08777008205652237,-0.08399920165538788,-0.08660890907049179,-0.09557774662971497,-0.09926309436559677,-0.002094870200380683,-0.002775392262265086,-0.009322777390480042,-0.021741298958659172,-0.028365178033709526,-0.040978237986564636,-0.04791896045207977,-0.06096604838967323,-0.0801607072353363,-0.10557929426431656,-0.1256670355796814,-0.15223248302936554,-0.18538235127925873,-0.010877180844545364,-0.010843700729310513,-0.005025594495236874,0.006577378138899803,0.024002261459827423,0.0356149896979332,0.041527196764945984,0.053513385355472565,0.05991319939494133,0.06080625206232071,0.06791866570711136,0.0812554806470871,0.10085771232843399,0.11513807624578476,0.13587142527103424,0.1515161395072937,0.16222012042999268,0.17965067923069,0.20386074483394623,0.02378377877175808,0.024696312844753265,0.019907146692276,0.021125366911292076,0.028321523219347,0.029798729345202446,0.03730557858943939,0.03914962336421013,0.03537999838590622,0.03770580142736435,0.03440532088279724,0.025493772700428963,0.022648757323622704,0.01411309465765953,0.011572150513529778,0.014973243698477745,0.024300556629896164,0.039575159549713135,0.06085434556007385,0.07653345167636871,0.0984363779425621,0.12665292620658875,0.16130469739437103,0.19094161689281464,0.019621599465608597,0.019207041710615158,0.024768654257059097,0.03630383685231209,0.04214344918727875,0.054061222821474075,0.06039668247103691,0.07291673868894577,0.07997546344995499,0.0933292955160141,0.1130182072520256,0.12746770679950714,0.14843739569187164,0.1644049435853958,0.18708156049251556,-0.020159877836704254,-0.020531905815005302,-0.015178839676082134,-0.004103034734725952,0.012730015441775322,0.035390861332416534,0.052278440445661545,0.07523799687623978,0.10436970740556717,0.13980558514595032,0.1817060112953186,-0.0028690334875136614,-0.002322479384019971,0.004059601109474897,0.016280673444271088,0.034380923956632614,0.04673074185848236,0.05344737321138382,0.05461224168539047,0.06195821985602379,0.0754920169711113,0.09525638073682785,0.12132887542247772,0.1538197100162506,0.19286860525608063,-0.01257561706006527,-0.01339391153305769,-0.020144686102867126,-0.03283298760652542,-0.05150045454502106,-0.06452417373657227,-0.07202725857496262,-0.08577654510736465,-0.10581504553556442,-0.13222037255764008,-0.15347009897232056,-0.18134157359600067,-0.029280882328748703,-0.029020702466368675,-0.02309447154402733,-0.023202089592814445,-0.017603551968932152,-0.006299499422311783,-0.0009589763940311968,-0.001511716633103788,-0.007924163714051247,-0.020199796184897423,-0.026671895757317543,-0.02741909772157669,-0.022483304142951965,-0.023571588099002838,-0.030653689056634903,-0.04373622313141823,-0.06286226958036423,-0.0764157623052597,-0.08452429622411728,-0.09894809126853943],\"type\":\"scatter\",\"xaxis\":\"x2\",\"yaxis\":\"y2\"},{\"marker\":{\"color\":\"#FF7F0E\"},\"mode\":\"lines\",\"name\":\"angle_min\",\"y\":[-0.2094999998807907,-0.2094999998807907,-0.2094999998807907,-0.2094999998807907,-0.2094999998807907,-0.2094999998807907,-0.2094999998807907,-0.2094999998807907,-0.2094999998807907,-0.2094999998807907,-0.2094999998807907,-0.2094999998807907,-0.2094999998807907,-0.2094999998807907,-0.2094999998807907,-0.2094999998807907,-0.2094999998807907,-0.2094999998807907,-0.2094999998807907,-0.2094999998807907,-0.2094999998807907,-0.2094999998807907,-0.2094999998807907,-0.2094999998807907,-0.2094999998807907,-0.2094999998807907,-0.2094999998807907,-0.2094999998807907,-0.2094999998807907,-0.2094999998807907,-0.2094999998807907,-0.2094999998807907,-0.2094999998807907,-0.2094999998807907,-0.2094999998807907,-0.2094999998807907,-0.2094999998807907,-0.2094999998807907,-0.2094999998807907,-0.2094999998807907,-0.2094999998807907,-0.2094999998807907,-0.2094999998807907,-0.2094999998807907,-0.2094999998807907,-0.2094999998807907,-0.2094999998807907,-0.2094999998807907,-0.2094999998807907,-0.2094999998807907,-0.2094999998807907,-0.2094999998807907,-0.2094999998807907,-0.2094999998807907,-0.2094999998807907,-0.2094999998807907,-0.2094999998807907,-0.2094999998807907,-0.2094999998807907,-0.2094999998807907,-0.2094999998807907,-0.2094999998807907,-0.2094999998807907,-0.2094999998807907,-0.2094999998807907,-0.2094999998807907,-0.2094999998807907,-0.2094999998807907,-0.2094999998807907,-0.2094999998807907,-0.2094999998807907,-0.2094999998807907,-0.2094999998807907,-0.2094999998807907,-0.2094999998807907,-0.2094999998807907,-0.2094999998807907,-0.2094999998807907,-0.2094999998807907,-0.2094999998807907,-0.2094999998807907,-0.2094999998807907,-0.2094999998807907,-0.2094999998807907,-0.2094999998807907,-0.2094999998807907,-0.2094999998807907,-0.2094999998807907,-0.2094999998807907,-0.2094999998807907,-0.2094999998807907,-0.2094999998807907,-0.2094999998807907,-0.2094999998807907,-0.2094999998807907,-0.2094999998807907,-0.2094999998807907,-0.2094999998807907,-0.2094999998807907,-0.2094999998807907,-0.2094999998807907,-0.2094999998807907,-0.2094999998807907,-0.2094999998807907,-0.2094999998807907,-0.2094999998807907,-0.2094999998807907,-0.2094999998807907,-0.2094999998807907,-0.2094999998807907,-0.2094999998807907,-0.2094999998807907,-0.2094999998807907,-0.2094999998807907,-0.2094999998807907,-0.2094999998807907,-0.2094999998807907,-0.2094999998807907,-0.2094999998807907,-0.2094999998807907,-0.2094999998807907,-0.2094999998807907,-0.2094999998807907,-0.2094999998807907,-0.2094999998807907,-0.2094999998807907,-0.2094999998807907,-0.2094999998807907,-0.2094999998807907,-0.2094999998807907,-0.2094999998807907,-0.2094999998807907,-0.2094999998807907,-0.2094999998807907,-0.2094999998807907,-0.2094999998807907,-0.2094999998807907,-0.2094999998807907,-0.2094999998807907,-0.2094999998807907,-0.2094999998807907,-0.2094999998807907,-0.2094999998807907,-0.2094999998807907,-0.2094999998807907,-0.2094999998807907,-0.2094999998807907,-0.2094999998807907,-0.2094999998807907,-0.2094999998807907,-0.2094999998807907,-0.2094999998807907,-0.2094999998807907,-0.2094999998807907,-0.2094999998807907,-0.2094999998807907,-0.2094999998807907,-0.2094999998807907,-0.2094999998807907,-0.2094999998807907,-0.2094999998807907,-0.2094999998807907,-0.2094999998807907,-0.2094999998807907,-0.2094999998807907,-0.2094999998807907,-0.2094999998807907,-0.2094999998807907,-0.2094999998807907,-0.2094999998807907,-0.2094999998807907,-0.2094999998807907,-0.2094999998807907,-0.2094999998807907,-0.2094999998807907,-0.2094999998807907,-0.2094999998807907,-0.2094999998807907,-0.2094999998807907,-0.2094999998807907,-0.2094999998807907,-0.2094999998807907,-0.2094999998807907,-0.2094999998807907,-0.2094999998807907,-0.2094999998807907,-0.2094999998807907,-0.2094999998807907,-0.2094999998807907,-0.2094999998807907,-0.2094999998807907,-0.2094999998807907,-0.2094999998807907,-0.2094999998807907,-0.2094999998807907,-0.2094999998807907,-0.2094999998807907,-0.2094999998807907,-0.2094999998807907,-0.2094999998807907,-0.2094999998807907,-0.2094999998807907,-0.2094999998807907,-0.2094999998807907,-0.2094999998807907,-0.2094999998807907,-0.2094999998807907,-0.2094999998807907,-0.2094999998807907,-0.2094999998807907,-0.2094999998807907,-0.2094999998807907,-0.2094999998807907,-0.2094999998807907,-0.2094999998807907,-0.2094999998807907,-0.2094999998807907,-0.2094999998807907,-0.2094999998807907,-0.2094999998807907,-0.2094999998807907,-0.2094999998807907,-0.2094999998807907,-0.2094999998807907,-0.2094999998807907,-0.2094999998807907,-0.2094999998807907,-0.2094999998807907,-0.2094999998807907,-0.2094999998807907,-0.2094999998807907,-0.2094999998807907,-0.2094999998807907,-0.2094999998807907,-0.2094999998807907,-0.2094999998807907,-0.2094999998807907,-0.2094999998807907,-0.2094999998807907,-0.2094999998807907,-0.2094999998807907,-0.2094999998807907,-0.2094999998807907,-0.2094999998807907,-0.2094999998807907,-0.2094999998807907,-0.2094999998807907,-0.2094999998807907,-0.2094999998807907,-0.2094999998807907,-0.2094999998807907,-0.2094999998807907,-0.2094999998807907,-0.2094999998807907,-0.2094999998807907,-0.2094999998807907,-0.2094999998807907,-0.2094999998807907,-0.2094999998807907,-0.2094999998807907,-0.2094999998807907,-0.2094999998807907,-0.2094999998807907,-0.2094999998807907,-0.2094999998807907,-0.2094999998807907,-0.2094999998807907,-0.2094999998807907,-0.2094999998807907,-0.2094999998807907,-0.2094999998807907,-0.2094999998807907,-0.2094999998807907,-0.2094999998807907,-0.2094999998807907,-0.2094999998807907,-0.2094999998807907,-0.2094999998807907,-0.2094999998807907,-0.2094999998807907,-0.2094999998807907,-0.2094999998807907,-0.2094999998807907,-0.2094999998807907,-0.2094999998807907,-0.2094999998807907,-0.2094999998807907,-0.2094999998807907,-0.2094999998807907,-0.2094999998807907,-0.2094999998807907,-0.2094999998807907,-0.2094999998807907,-0.2094999998807907,-0.2094999998807907,-0.2094999998807907,-0.2094999998807907,-0.2094999998807907,-0.2094999998807907,-0.2094999998807907,-0.2094999998807907,-0.2094999998807907,-0.2094999998807907,-0.2094999998807907,-0.2094999998807907,-0.2094999998807907,-0.2094999998807907,-0.2094999998807907,-0.2094999998807907,-0.2094999998807907,-0.2094999998807907,-0.2094999998807907,-0.2094999998807907,-0.2094999998807907,-0.2094999998807907,-0.2094999998807907,-0.2094999998807907,-0.2094999998807907,-0.2094999998807907,-0.2094999998807907,-0.2094999998807907,-0.2094999998807907,-0.2094999998807907,-0.2094999998807907,-0.2094999998807907,-0.2094999998807907,-0.2094999998807907,-0.2094999998807907,-0.2094999998807907,-0.2094999998807907,-0.2094999998807907,-0.2094999998807907,-0.2094999998807907,-0.2094999998807907,-0.2094999998807907,-0.2094999998807907,-0.2094999998807907,-0.2094999998807907,-0.2094999998807907,-0.2094999998807907,-0.2094999998807907,-0.2094999998807907,-0.2094999998807907,-0.2094999998807907,-0.2094999998807907,-0.2094999998807907,-0.2094999998807907,-0.2094999998807907,-0.2094999998807907,-0.2094999998807907,-0.2094999998807907,-0.2094999998807907,-0.2094999998807907,-0.2094999998807907,-0.2094999998807907,-0.2094999998807907,-0.2094999998807907,-0.2094999998807907,-0.2094999998807907,-0.2094999998807907,-0.2094999998807907,-0.2094999998807907,-0.2094999998807907,-0.2094999998807907,-0.2094999998807907,-0.2094999998807907,-0.2094999998807907,-0.2094999998807907,-0.2094999998807907,-0.2094999998807907,-0.2094999998807907,-0.2094999998807907,-0.2094999998807907,-0.2094999998807907,-0.2094999998807907,-0.2094999998807907,-0.2094999998807907,-0.2094999998807907,-0.2094999998807907,-0.2094999998807907,-0.2094999998807907,-0.2094999998807907,-0.2094999998807907,-0.2094999998807907,-0.2094999998807907,-0.2094999998807907,-0.2094999998807907,-0.2094999998807907,-0.2094999998807907,-0.2094999998807907,-0.2094999998807907,-0.2094999998807907,-0.2094999998807907,-0.2094999998807907,-0.2094999998807907,-0.2094999998807907,-0.2094999998807907,-0.2094999998807907,-0.2094999998807907,-0.2094999998807907,-0.2094999998807907,-0.2094999998807907,-0.2094999998807907,-0.2094999998807907,-0.2094999998807907,-0.2094999998807907,-0.2094999998807907,-0.2094999998807907,-0.2094999998807907,-0.2094999998807907,-0.2094999998807907,-0.2094999998807907,-0.2094999998807907,-0.2094999998807907,-0.2094999998807907,-0.2094999998807907,-0.2094999998807907,-0.2094999998807907,-0.2094999998807907,-0.2094999998807907,-0.2094999998807907,-0.2094999998807907,-0.2094999998807907,-0.2094999998807907,-0.2094999998807907,-0.2094999998807907,-0.2094999998807907,-0.2094999998807907,-0.2094999998807907,-0.2094999998807907,-0.2094999998807907,-0.2094999998807907,-0.2094999998807907,-0.2094999998807907,-0.2094999998807907,-0.2094999998807907,-0.2094999998807907,-0.2094999998807907,-0.2094999998807907,-0.2094999998807907,-0.2094999998807907,-0.2094999998807907,-0.2094999998807907,-0.2094999998807907,-0.2094999998807907,-0.2094999998807907,-0.2094999998807907,-0.2094999998807907,-0.2094999998807907,-0.2094999998807907,-0.2094999998807907,-0.2094999998807907,-0.2094999998807907,-0.2094999998807907,-0.2094999998807907,-0.2094999998807907,-0.2094999998807907,-0.2094999998807907,-0.2094999998807907,-0.2094999998807907,-0.2094999998807907,-0.2094999998807907,-0.2094999998807907,-0.2094999998807907,-0.2094999998807907,-0.2094999998807907,-0.2094999998807907,-0.2094999998807907,-0.2094999998807907,-0.2094999998807907,-0.2094999998807907,-0.2094999998807907,-0.2094999998807907,-0.2094999998807907,-0.2094999998807907,-0.2094999998807907,-0.2094999998807907,-0.2094999998807907,-0.2094999998807907,-0.2094999998807907,-0.2094999998807907,-0.2094999998807907,-0.2094999998807907,-0.2094999998807907,-0.2094999998807907,-0.2094999998807907,-0.2094999998807907,-0.2094999998807907,-0.2094999998807907,-0.2094999998807907,-0.2094999998807907,-0.2094999998807907,-0.2094999998807907,-0.2094999998807907,-0.2094999998807907,-0.2094999998807907,-0.2094999998807907,-0.2094999998807907,-0.2094999998807907,-0.2094999998807907,-0.2094999998807907,-0.2094999998807907,-0.2094999998807907,-0.2094999998807907,-0.2094999998807907,-0.2094999998807907,-0.2094999998807907,-0.2094999998807907,-0.2094999998807907,-0.2094999998807907,-0.2094999998807907,-0.2094999998807907],\"type\":\"scatter\",\"xaxis\":\"x2\",\"yaxis\":\"y2\"},{\"marker\":{\"color\":\"#FF7F0E\"},\"mode\":\"lines\",\"name\":\"angle_max\",\"y\":[0.2094999998807907,0.2094999998807907,0.2094999998807907,0.2094999998807907,0.2094999998807907,0.2094999998807907,0.2094999998807907,0.2094999998807907,0.2094999998807907,0.2094999998807907,0.2094999998807907,0.2094999998807907,0.2094999998807907,0.2094999998807907,0.2094999998807907,0.2094999998807907,0.2094999998807907,0.2094999998807907,0.2094999998807907,0.2094999998807907,0.2094999998807907,0.2094999998807907,0.2094999998807907,0.2094999998807907,0.2094999998807907,0.2094999998807907,0.2094999998807907,0.2094999998807907,0.2094999998807907,0.2094999998807907,0.2094999998807907,0.2094999998807907,0.2094999998807907,0.2094999998807907,0.2094999998807907,0.2094999998807907,0.2094999998807907,0.2094999998807907,0.2094999998807907,0.2094999998807907,0.2094999998807907,0.2094999998807907,0.2094999998807907,0.2094999998807907,0.2094999998807907,0.2094999998807907,0.2094999998807907,0.2094999998807907,0.2094999998807907,0.2094999998807907,0.2094999998807907,0.2094999998807907,0.2094999998807907,0.2094999998807907,0.2094999998807907,0.2094999998807907,0.2094999998807907,0.2094999998807907,0.2094999998807907,0.2094999998807907,0.2094999998807907,0.2094999998807907,0.2094999998807907,0.2094999998807907,0.2094999998807907,0.2094999998807907,0.2094999998807907,0.2094999998807907,0.2094999998807907,0.2094999998807907,0.2094999998807907,0.2094999998807907,0.2094999998807907,0.2094999998807907,0.2094999998807907,0.2094999998807907,0.2094999998807907,0.2094999998807907,0.2094999998807907,0.2094999998807907,0.2094999998807907,0.2094999998807907,0.2094999998807907,0.2094999998807907,0.2094999998807907,0.2094999998807907,0.2094999998807907,0.2094999998807907,0.2094999998807907,0.2094999998807907,0.2094999998807907,0.2094999998807907,0.2094999998807907,0.2094999998807907,0.2094999998807907,0.2094999998807907,0.2094999998807907,0.2094999998807907,0.2094999998807907,0.2094999998807907,0.2094999998807907,0.2094999998807907,0.2094999998807907,0.2094999998807907,0.2094999998807907,0.2094999998807907,0.2094999998807907,0.2094999998807907,0.2094999998807907,0.2094999998807907,0.2094999998807907,0.2094999998807907,0.2094999998807907,0.2094999998807907,0.2094999998807907,0.2094999998807907,0.2094999998807907,0.2094999998807907,0.2094999998807907,0.2094999998807907,0.2094999998807907,0.2094999998807907,0.2094999998807907,0.2094999998807907,0.2094999998807907,0.2094999998807907,0.2094999998807907,0.2094999998807907,0.2094999998807907,0.2094999998807907,0.2094999998807907,0.2094999998807907,0.2094999998807907,0.2094999998807907,0.2094999998807907,0.2094999998807907,0.2094999998807907,0.2094999998807907,0.2094999998807907,0.2094999998807907,0.2094999998807907,0.2094999998807907,0.2094999998807907,0.2094999998807907,0.2094999998807907,0.2094999998807907,0.2094999998807907,0.2094999998807907,0.2094999998807907,0.2094999998807907,0.2094999998807907,0.2094999998807907,0.2094999998807907,0.2094999998807907,0.2094999998807907,0.2094999998807907,0.2094999998807907,0.2094999998807907,0.2094999998807907,0.2094999998807907,0.2094999998807907,0.2094999998807907,0.2094999998807907,0.2094999998807907,0.2094999998807907,0.2094999998807907,0.2094999998807907,0.2094999998807907,0.2094999998807907,0.2094999998807907,0.2094999998807907,0.2094999998807907,0.2094999998807907,0.2094999998807907,0.2094999998807907,0.2094999998807907,0.2094999998807907,0.2094999998807907,0.2094999998807907,0.2094999998807907,0.2094999998807907,0.2094999998807907,0.2094999998807907,0.2094999998807907,0.2094999998807907,0.2094999998807907,0.2094999998807907,0.2094999998807907,0.2094999998807907,0.2094999998807907,0.2094999998807907,0.2094999998807907,0.2094999998807907,0.2094999998807907,0.2094999998807907,0.2094999998807907,0.2094999998807907,0.2094999998807907,0.2094999998807907,0.2094999998807907,0.2094999998807907,0.2094999998807907,0.2094999998807907,0.2094999998807907,0.2094999998807907,0.2094999998807907,0.2094999998807907,0.2094999998807907,0.2094999998807907,0.2094999998807907,0.2094999998807907,0.2094999998807907,0.2094999998807907,0.2094999998807907,0.2094999998807907,0.2094999998807907,0.2094999998807907,0.2094999998807907,0.2094999998807907,0.2094999998807907,0.2094999998807907,0.2094999998807907,0.2094999998807907,0.2094999998807907,0.2094999998807907,0.2094999998807907,0.2094999998807907,0.2094999998807907,0.2094999998807907,0.2094999998807907,0.2094999998807907,0.2094999998807907,0.2094999998807907,0.2094999998807907,0.2094999998807907,0.2094999998807907,0.2094999998807907,0.2094999998807907,0.2094999998807907,0.2094999998807907,0.2094999998807907,0.2094999998807907,0.2094999998807907,0.2094999998807907,0.2094999998807907,0.2094999998807907,0.2094999998807907,0.2094999998807907,0.2094999998807907,0.2094999998807907,0.2094999998807907,0.2094999998807907,0.2094999998807907,0.2094999998807907,0.2094999998807907,0.2094999998807907,0.2094999998807907,0.2094999998807907,0.2094999998807907,0.2094999998807907,0.2094999998807907,0.2094999998807907,0.2094999998807907,0.2094999998807907,0.2094999998807907,0.2094999998807907,0.2094999998807907,0.2094999998807907,0.2094999998807907,0.2094999998807907,0.2094999998807907,0.2094999998807907,0.2094999998807907,0.2094999998807907,0.2094999998807907,0.2094999998807907,0.2094999998807907,0.2094999998807907,0.2094999998807907,0.2094999998807907,0.2094999998807907,0.2094999998807907,0.2094999998807907,0.2094999998807907,0.2094999998807907,0.2094999998807907,0.2094999998807907,0.2094999998807907,0.2094999998807907,0.2094999998807907,0.2094999998807907,0.2094999998807907,0.2094999998807907,0.2094999998807907,0.2094999998807907,0.2094999998807907,0.2094999998807907,0.2094999998807907,0.2094999998807907,0.2094999998807907,0.2094999998807907,0.2094999998807907,0.2094999998807907,0.2094999998807907,0.2094999998807907,0.2094999998807907,0.2094999998807907,0.2094999998807907,0.2094999998807907,0.2094999998807907,0.2094999998807907,0.2094999998807907,0.2094999998807907,0.2094999998807907,0.2094999998807907,0.2094999998807907,0.2094999998807907,0.2094999998807907,0.2094999998807907,0.2094999998807907,0.2094999998807907,0.2094999998807907,0.2094999998807907,0.2094999998807907,0.2094999998807907,0.2094999998807907,0.2094999998807907,0.2094999998807907,0.2094999998807907,0.2094999998807907,0.2094999998807907,0.2094999998807907,0.2094999998807907,0.2094999998807907,0.2094999998807907,0.2094999998807907,0.2094999998807907,0.2094999998807907,0.2094999998807907,0.2094999998807907,0.2094999998807907,0.2094999998807907,0.2094999998807907,0.2094999998807907,0.2094999998807907,0.2094999998807907,0.2094999998807907,0.2094999998807907,0.2094999998807907,0.2094999998807907,0.2094999998807907,0.2094999998807907,0.2094999998807907,0.2094999998807907,0.2094999998807907,0.2094999998807907,0.2094999998807907,0.2094999998807907,0.2094999998807907,0.2094999998807907,0.2094999998807907,0.2094999998807907,0.2094999998807907,0.2094999998807907,0.2094999998807907,0.2094999998807907,0.2094999998807907,0.2094999998807907,0.2094999998807907,0.2094999998807907,0.2094999998807907,0.2094999998807907,0.2094999998807907,0.2094999998807907,0.2094999998807907,0.2094999998807907,0.2094999998807907,0.2094999998807907,0.2094999998807907,0.2094999998807907,0.2094999998807907,0.2094999998807907,0.2094999998807907,0.2094999998807907,0.2094999998807907,0.2094999998807907,0.2094999998807907,0.2094999998807907,0.2094999998807907,0.2094999998807907,0.2094999998807907,0.2094999998807907,0.2094999998807907,0.2094999998807907,0.2094999998807907,0.2094999998807907,0.2094999998807907,0.2094999998807907,0.2094999998807907,0.2094999998807907,0.2094999998807907,0.2094999998807907,0.2094999998807907,0.2094999998807907,0.2094999998807907,0.2094999998807907,0.2094999998807907,0.2094999998807907,0.2094999998807907,0.2094999998807907,0.2094999998807907,0.2094999998807907,0.2094999998807907,0.2094999998807907,0.2094999998807907,0.2094999998807907,0.2094999998807907,0.2094999998807907,0.2094999998807907,0.2094999998807907,0.2094999998807907,0.2094999998807907,0.2094999998807907,0.2094999998807907,0.2094999998807907,0.2094999998807907,0.2094999998807907,0.2094999998807907,0.2094999998807907,0.2094999998807907,0.2094999998807907,0.2094999998807907,0.2094999998807907,0.2094999998807907,0.2094999998807907,0.2094999998807907,0.2094999998807907,0.2094999998807907,0.2094999998807907,0.2094999998807907,0.2094999998807907,0.2094999998807907,0.2094999998807907,0.2094999998807907,0.2094999998807907,0.2094999998807907,0.2094999998807907,0.2094999998807907,0.2094999998807907,0.2094999998807907,0.2094999998807907,0.2094999998807907,0.2094999998807907,0.2094999998807907,0.2094999998807907,0.2094999998807907,0.2094999998807907,0.2094999998807907,0.2094999998807907,0.2094999998807907,0.2094999998807907,0.2094999998807907,0.2094999998807907,0.2094999998807907,0.2094999998807907,0.2094999998807907,0.2094999998807907,0.2094999998807907,0.2094999998807907,0.2094999998807907,0.2094999998807907,0.2094999998807907,0.2094999998807907,0.2094999998807907,0.2094999998807907,0.2094999998807907,0.2094999998807907,0.2094999998807907,0.2094999998807907,0.2094999998807907,0.2094999998807907,0.2094999998807907,0.2094999998807907,0.2094999998807907,0.2094999998807907,0.2094999998807907,0.2094999998807907,0.2094999998807907,0.2094999998807907,0.2094999998807907,0.2094999998807907,0.2094999998807907,0.2094999998807907,0.2094999998807907,0.2094999998807907,0.2094999998807907,0.2094999998807907,0.2094999998807907,0.2094999998807907,0.2094999998807907,0.2094999998807907,0.2094999998807907,0.2094999998807907,0.2094999998807907,0.2094999998807907,0.2094999998807907,0.2094999998807907,0.2094999998807907,0.2094999998807907,0.2094999998807907,0.2094999998807907,0.2094999998807907],\"type\":\"scatter\",\"xaxis\":\"x2\",\"yaxis\":\"y2\"}],                        {\"template\":{\"data\":{\"barpolar\":[{\"marker\":{\"line\":{\"color\":\"white\",\"width\":0.5},\"pattern\":{\"fillmode\":\"overlay\",\"size\":10,\"solidity\":0.2}},\"type\":\"barpolar\"}],\"bar\":[{\"error_x\":{\"color\":\"rgb(36,36,36)\"},\"error_y\":{\"color\":\"rgb(36,36,36)\"},\"marker\":{\"line\":{\"color\":\"white\",\"width\":0.5},\"pattern\":{\"fillmode\":\"overlay\",\"size\":10,\"solidity\":0.2}},\"type\":\"bar\"}],\"carpet\":[{\"aaxis\":{\"endlinecolor\":\"rgb(36,36,36)\",\"gridcolor\":\"white\",\"linecolor\":\"white\",\"minorgridcolor\":\"white\",\"startlinecolor\":\"rgb(36,36,36)\"},\"baxis\":{\"endlinecolor\":\"rgb(36,36,36)\",\"gridcolor\":\"white\",\"linecolor\":\"white\",\"minorgridcolor\":\"white\",\"startlinecolor\":\"rgb(36,36,36)\"},\"type\":\"carpet\"}],\"choropleth\":[{\"colorbar\":{\"outlinewidth\":1,\"tickcolor\":\"rgb(36,36,36)\",\"ticks\":\"outside\"},\"type\":\"choropleth\"}],\"contourcarpet\":[{\"colorbar\":{\"outlinewidth\":1,\"tickcolor\":\"rgb(36,36,36)\",\"ticks\":\"outside\"},\"type\":\"contourcarpet\"}],\"contour\":[{\"colorbar\":{\"outlinewidth\":1,\"tickcolor\":\"rgb(36,36,36)\",\"ticks\":\"outside\"},\"colorscale\":[[0.0,\"#440154\"],[0.1111111111111111,\"#482878\"],[0.2222222222222222,\"#3e4989\"],[0.3333333333333333,\"#31688e\"],[0.4444444444444444,\"#26828e\"],[0.5555555555555556,\"#1f9e89\"],[0.6666666666666666,\"#35b779\"],[0.7777777777777778,\"#6ece58\"],[0.8888888888888888,\"#b5de2b\"],[1.0,\"#fde725\"]],\"type\":\"contour\"}],\"heatmapgl\":[{\"colorbar\":{\"outlinewidth\":1,\"tickcolor\":\"rgb(36,36,36)\",\"ticks\":\"outside\"},\"colorscale\":[[0.0,\"#440154\"],[0.1111111111111111,\"#482878\"],[0.2222222222222222,\"#3e4989\"],[0.3333333333333333,\"#31688e\"],[0.4444444444444444,\"#26828e\"],[0.5555555555555556,\"#1f9e89\"],[0.6666666666666666,\"#35b779\"],[0.7777777777777778,\"#6ece58\"],[0.8888888888888888,\"#b5de2b\"],[1.0,\"#fde725\"]],\"type\":\"heatmapgl\"}],\"heatmap\":[{\"colorbar\":{\"outlinewidth\":1,\"tickcolor\":\"rgb(36,36,36)\",\"ticks\":\"outside\"},\"colorscale\":[[0.0,\"#440154\"],[0.1111111111111111,\"#482878\"],[0.2222222222222222,\"#3e4989\"],[0.3333333333333333,\"#31688e\"],[0.4444444444444444,\"#26828e\"],[0.5555555555555556,\"#1f9e89\"],[0.6666666666666666,\"#35b779\"],[0.7777777777777778,\"#6ece58\"],[0.8888888888888888,\"#b5de2b\"],[1.0,\"#fde725\"]],\"type\":\"heatmap\"}],\"histogram2dcontour\":[{\"colorbar\":{\"outlinewidth\":1,\"tickcolor\":\"rgb(36,36,36)\",\"ticks\":\"outside\"},\"colorscale\":[[0.0,\"#440154\"],[0.1111111111111111,\"#482878\"],[0.2222222222222222,\"#3e4989\"],[0.3333333333333333,\"#31688e\"],[0.4444444444444444,\"#26828e\"],[0.5555555555555556,\"#1f9e89\"],[0.6666666666666666,\"#35b779\"],[0.7777777777777778,\"#6ece58\"],[0.8888888888888888,\"#b5de2b\"],[1.0,\"#fde725\"]],\"type\":\"histogram2dcontour\"}],\"histogram2d\":[{\"colorbar\":{\"outlinewidth\":1,\"tickcolor\":\"rgb(36,36,36)\",\"ticks\":\"outside\"},\"colorscale\":[[0.0,\"#440154\"],[0.1111111111111111,\"#482878\"],[0.2222222222222222,\"#3e4989\"],[0.3333333333333333,\"#31688e\"],[0.4444444444444444,\"#26828e\"],[0.5555555555555556,\"#1f9e89\"],[0.6666666666666666,\"#35b779\"],[0.7777777777777778,\"#6ece58\"],[0.8888888888888888,\"#b5de2b\"],[1.0,\"#fde725\"]],\"type\":\"histogram2d\"}],\"histogram\":[{\"marker\":{\"line\":{\"color\":\"white\",\"width\":0.6}},\"type\":\"histogram\"}],\"mesh3d\":[{\"colorbar\":{\"outlinewidth\":1,\"tickcolor\":\"rgb(36,36,36)\",\"ticks\":\"outside\"},\"type\":\"mesh3d\"}],\"parcoords\":[{\"line\":{\"colorbar\":{\"outlinewidth\":1,\"tickcolor\":\"rgb(36,36,36)\",\"ticks\":\"outside\"}},\"type\":\"parcoords\"}],\"pie\":[{\"automargin\":true,\"type\":\"pie\"}],\"scatter3d\":[{\"line\":{\"colorbar\":{\"outlinewidth\":1,\"tickcolor\":\"rgb(36,36,36)\",\"ticks\":\"outside\"}},\"marker\":{\"colorbar\":{\"outlinewidth\":1,\"tickcolor\":\"rgb(36,36,36)\",\"ticks\":\"outside\"}},\"type\":\"scatter3d\"}],\"scattercarpet\":[{\"marker\":{\"colorbar\":{\"outlinewidth\":1,\"tickcolor\":\"rgb(36,36,36)\",\"ticks\":\"outside\"}},\"type\":\"scattercarpet\"}],\"scattergeo\":[{\"marker\":{\"colorbar\":{\"outlinewidth\":1,\"tickcolor\":\"rgb(36,36,36)\",\"ticks\":\"outside\"}},\"type\":\"scattergeo\"}],\"scattergl\":[{\"marker\":{\"colorbar\":{\"outlinewidth\":1,\"tickcolor\":\"rgb(36,36,36)\",\"ticks\":\"outside\"}},\"type\":\"scattergl\"}],\"scattermapbox\":[{\"marker\":{\"colorbar\":{\"outlinewidth\":1,\"tickcolor\":\"rgb(36,36,36)\",\"ticks\":\"outside\"}},\"type\":\"scattermapbox\"}],\"scatterpolargl\":[{\"marker\":{\"colorbar\":{\"outlinewidth\":1,\"tickcolor\":\"rgb(36,36,36)\",\"ticks\":\"outside\"}},\"type\":\"scatterpolargl\"}],\"scatterpolar\":[{\"marker\":{\"colorbar\":{\"outlinewidth\":1,\"tickcolor\":\"rgb(36,36,36)\",\"ticks\":\"outside\"}},\"type\":\"scatterpolar\"}],\"scatter\":[{\"fillpattern\":{\"fillmode\":\"overlay\",\"size\":10,\"solidity\":0.2},\"type\":\"scatter\"}],\"scatterternary\":[{\"marker\":{\"colorbar\":{\"outlinewidth\":1,\"tickcolor\":\"rgb(36,36,36)\",\"ticks\":\"outside\"}},\"type\":\"scatterternary\"}],\"surface\":[{\"colorbar\":{\"outlinewidth\":1,\"tickcolor\":\"rgb(36,36,36)\",\"ticks\":\"outside\"},\"colorscale\":[[0.0,\"#440154\"],[0.1111111111111111,\"#482878\"],[0.2222222222222222,\"#3e4989\"],[0.3333333333333333,\"#31688e\"],[0.4444444444444444,\"#26828e\"],[0.5555555555555556,\"#1f9e89\"],[0.6666666666666666,\"#35b779\"],[0.7777777777777778,\"#6ece58\"],[0.8888888888888888,\"#b5de2b\"],[1.0,\"#fde725\"]],\"type\":\"surface\"}],\"table\":[{\"cells\":{\"fill\":{\"color\":\"rgb(237,237,237)\"},\"line\":{\"color\":\"white\"}},\"header\":{\"fill\":{\"color\":\"rgb(217,217,217)\"},\"line\":{\"color\":\"white\"}},\"type\":\"table\"}]},\"layout\":{\"annotationdefaults\":{\"arrowhead\":0,\"arrowwidth\":1},\"autotypenumbers\":\"strict\",\"coloraxis\":{\"colorbar\":{\"outlinewidth\":1,\"tickcolor\":\"rgb(36,36,36)\",\"ticks\":\"outside\"}},\"colorscale\":{\"diverging\":[[0.0,\"rgb(103,0,31)\"],[0.1,\"rgb(178,24,43)\"],[0.2,\"rgb(214,96,77)\"],[0.3,\"rgb(244,165,130)\"],[0.4,\"rgb(253,219,199)\"],[0.5,\"rgb(247,247,247)\"],[0.6,\"rgb(209,229,240)\"],[0.7,\"rgb(146,197,222)\"],[0.8,\"rgb(67,147,195)\"],[0.9,\"rgb(33,102,172)\"],[1.0,\"rgb(5,48,97)\"]],\"sequential\":[[0.0,\"#440154\"],[0.1111111111111111,\"#482878\"],[0.2222222222222222,\"#3e4989\"],[0.3333333333333333,\"#31688e\"],[0.4444444444444444,\"#26828e\"],[0.5555555555555556,\"#1f9e89\"],[0.6666666666666666,\"#35b779\"],[0.7777777777777778,\"#6ece58\"],[0.8888888888888888,\"#b5de2b\"],[1.0,\"#fde725\"]],\"sequentialminus\":[[0.0,\"#440154\"],[0.1111111111111111,\"#482878\"],[0.2222222222222222,\"#3e4989\"],[0.3333333333333333,\"#31688e\"],[0.4444444444444444,\"#26828e\"],[0.5555555555555556,\"#1f9e89\"],[0.6666666666666666,\"#35b779\"],[0.7777777777777778,\"#6ece58\"],[0.8888888888888888,\"#b5de2b\"],[1.0,\"#fde725\"]]},\"colorway\":[\"#1F77B4\",\"#FF7F0E\",\"#2CA02C\",\"#D62728\",\"#9467BD\",\"#8C564B\",\"#E377C2\",\"#7F7F7F\",\"#BCBD22\",\"#17BECF\"],\"font\":{\"color\":\"rgb(36,36,36)\"},\"geo\":{\"bgcolor\":\"white\",\"lakecolor\":\"white\",\"landcolor\":\"white\",\"showlakes\":true,\"showland\":true,\"subunitcolor\":\"white\"},\"hoverlabel\":{\"align\":\"left\"},\"hovermode\":\"closest\",\"mapbox\":{\"style\":\"light\"},\"paper_bgcolor\":\"white\",\"plot_bgcolor\":\"white\",\"polar\":{\"angularaxis\":{\"gridcolor\":\"rgb(232,232,232)\",\"linecolor\":\"rgb(36,36,36)\",\"showgrid\":false,\"showline\":true,\"ticks\":\"outside\"},\"bgcolor\":\"white\",\"radialaxis\":{\"gridcolor\":\"rgb(232,232,232)\",\"linecolor\":\"rgb(36,36,36)\",\"showgrid\":false,\"showline\":true,\"ticks\":\"outside\"}},\"scene\":{\"xaxis\":{\"backgroundcolor\":\"white\",\"gridcolor\":\"rgb(232,232,232)\",\"gridwidth\":2,\"linecolor\":\"rgb(36,36,36)\",\"showbackground\":true,\"showgrid\":false,\"showline\":true,\"ticks\":\"outside\",\"zeroline\":false,\"zerolinecolor\":\"rgb(36,36,36)\"},\"yaxis\":{\"backgroundcolor\":\"white\",\"gridcolor\":\"rgb(232,232,232)\",\"gridwidth\":2,\"linecolor\":\"rgb(36,36,36)\",\"showbackground\":true,\"showgrid\":false,\"showline\":true,\"ticks\":\"outside\",\"zeroline\":false,\"zerolinecolor\":\"rgb(36,36,36)\"},\"zaxis\":{\"backgroundcolor\":\"white\",\"gridcolor\":\"rgb(232,232,232)\",\"gridwidth\":2,\"linecolor\":\"rgb(36,36,36)\",\"showbackground\":true,\"showgrid\":false,\"showline\":true,\"ticks\":\"outside\",\"zeroline\":false,\"zerolinecolor\":\"rgb(36,36,36)\"}},\"shapedefaults\":{\"fillcolor\":\"black\",\"line\":{\"width\":0},\"opacity\":0.3},\"ternary\":{\"aaxis\":{\"gridcolor\":\"rgb(232,232,232)\",\"linecolor\":\"rgb(36,36,36)\",\"showgrid\":false,\"showline\":true,\"ticks\":\"outside\"},\"baxis\":{\"gridcolor\":\"rgb(232,232,232)\",\"linecolor\":\"rgb(36,36,36)\",\"showgrid\":false,\"showline\":true,\"ticks\":\"outside\"},\"bgcolor\":\"white\",\"caxis\":{\"gridcolor\":\"rgb(232,232,232)\",\"linecolor\":\"rgb(36,36,36)\",\"showgrid\":false,\"showline\":true,\"ticks\":\"outside\"}},\"title\":{\"x\":0.05},\"xaxis\":{\"automargin\":true,\"gridcolor\":\"rgb(232,232,232)\",\"linecolor\":\"rgb(36,36,36)\",\"showgrid\":false,\"showline\":true,\"ticks\":\"outside\",\"title\":{\"standoff\":15},\"zeroline\":false,\"zerolinecolor\":\"rgb(36,36,36)\"},\"yaxis\":{\"automargin\":true,\"gridcolor\":\"rgb(232,232,232)\",\"linecolor\":\"rgb(36,36,36)\",\"showgrid\":false,\"showline\":true,\"ticks\":\"outside\",\"title\":{\"standoff\":15},\"zeroline\":false,\"zerolinecolor\":\"rgb(36,36,36)\"}}},\"xaxis\":{\"anchor\":\"y\",\"domain\":[0.0,1.0]},\"yaxis\":{\"anchor\":\"x\",\"domain\":[0.625,1.0]},\"xaxis2\":{\"anchor\":\"y2\",\"domain\":[0.0,1.0]},\"yaxis2\":{\"anchor\":\"x2\",\"domain\":[0.0,0.375]},\"annotations\":[{\"font\":{\"size\":16},\"showarrow\":false,\"text\":\"Cart x-position\",\"x\":0.5,\"xanchor\":\"center\",\"xref\":\"paper\",\"y\":1.0,\"yanchor\":\"bottom\",\"yref\":\"paper\"},{\"font\":{\"size\":16},\"showarrow\":false,\"text\":\"Pole angle\",\"x\":0.5,\"xanchor\":\"center\",\"xref\":\"paper\",\"y\":0.375,\"yanchor\":\"bottom\",\"yref\":\"paper\"},{\"showarrow\":false,\"text\":\"Min posn\",\"x\":537.6,\"xref\":\"x\",\"y\":-2.4,\"yref\":\"y\"},{\"showarrow\":false,\"text\":\"Min angle\",\"x\":537.6,\"xref\":\"x2\",\"y\":-0.2095,\"yref\":\"y2\"},{\"showarrow\":false,\"text\":\"Max posn\",\"x\":537.6,\"xref\":\"x\",\"y\":2.4,\"yref\":\"y\"},{\"showarrow\":false,\"text\":\"Max angle\",\"x\":537.6,\"xref\":\"x2\",\"y\":0.2095,\"yref\":\"y2\"}],\"title\":{\"text\":\"CartPole experiences (dotted lines = termination, solid lines = environment separators)\"},\"showlegend\":false,\"hovermode\":\"x unified\",\"shapes\":[{\"line\":{\"color\":\"black\",\"dash\":\"dash\",\"width\":2},\"type\":\"line\",\"x0\":73,\"x1\":73,\"xref\":\"x\",\"y0\":0,\"y1\":1,\"yref\":\"y domain\"},{\"line\":{\"color\":\"black\",\"dash\":\"dash\",\"width\":2},\"type\":\"line\",\"x0\":96,\"x1\":96,\"xref\":\"x\",\"y0\":0,\"y1\":1,\"yref\":\"y domain\"},{\"line\":{\"color\":\"black\",\"dash\":\"dash\",\"width\":2},\"type\":\"line\",\"x0\":171,\"x1\":171,\"xref\":\"x\",\"y0\":0,\"y1\":1,\"yref\":\"y domain\"},{\"line\":{\"color\":\"black\",\"dash\":\"dash\",\"width\":2},\"type\":\"line\",\"x0\":188,\"x1\":188,\"xref\":\"x\",\"y0\":0,\"y1\":1,\"yref\":\"y domain\"},{\"line\":{\"color\":\"black\",\"dash\":\"dash\",\"width\":2},\"type\":\"line\",\"x0\":208,\"x1\":208,\"xref\":\"x\",\"y0\":0,\"y1\":1,\"yref\":\"y domain\"},{\"line\":{\"color\":\"black\",\"dash\":\"dash\",\"width\":2},\"type\":\"line\",\"x0\":231,\"x1\":231,\"xref\":\"x\",\"y0\":0,\"y1\":1,\"yref\":\"y domain\"},{\"line\":{\"color\":\"black\",\"dash\":\"dash\",\"width\":2},\"type\":\"line\",\"x0\":245,\"x1\":245,\"xref\":\"x\",\"y0\":0,\"y1\":1,\"yref\":\"y domain\"},{\"line\":{\"color\":\"black\",\"dash\":\"dash\",\"width\":2},\"type\":\"line\",\"x0\":265,\"x1\":265,\"xref\":\"x\",\"y0\":0,\"y1\":1,\"yref\":\"y domain\"},{\"line\":{\"color\":\"black\",\"dash\":\"dash\",\"width\":2},\"type\":\"line\",\"x0\":291,\"x1\":291,\"xref\":\"x\",\"y0\":0,\"y1\":1,\"yref\":\"y domain\"},{\"line\":{\"color\":\"black\",\"dash\":\"dash\",\"width\":2},\"type\":\"line\",\"x0\":308,\"x1\":308,\"xref\":\"x\",\"y0\":0,\"y1\":1,\"yref\":\"y domain\"},{\"line\":{\"color\":\"black\",\"dash\":\"dash\",\"width\":2},\"type\":\"line\",\"x0\":347,\"x1\":347,\"xref\":\"x\",\"y0\":0,\"y1\":1,\"yref\":\"y domain\"},{\"line\":{\"color\":\"black\",\"dash\":\"dash\",\"width\":2},\"type\":\"line\",\"x0\":396,\"x1\":396,\"xref\":\"x\",\"y0\":0,\"y1\":1,\"yref\":\"y domain\"},{\"line\":{\"color\":\"black\",\"dash\":\"dash\",\"width\":2},\"type\":\"line\",\"x0\":415,\"x1\":415,\"xref\":\"x\",\"y0\":0,\"y1\":1,\"yref\":\"y domain\"},{\"line\":{\"color\":\"black\",\"dash\":\"dash\",\"width\":2},\"type\":\"line\",\"x0\":439,\"x1\":439,\"xref\":\"x\",\"y0\":0,\"y1\":1,\"yref\":\"y domain\"},{\"line\":{\"color\":\"black\",\"dash\":\"dash\",\"width\":2},\"type\":\"line\",\"x0\":454,\"x1\":454,\"xref\":\"x\",\"y0\":0,\"y1\":1,\"yref\":\"y domain\"},{\"line\":{\"color\":\"black\",\"dash\":\"dash\",\"width\":2},\"type\":\"line\",\"x0\":465,\"x1\":465,\"xref\":\"x\",\"y0\":0,\"y1\":1,\"yref\":\"y domain\"},{\"line\":{\"color\":\"black\",\"dash\":\"dash\",\"width\":2},\"type\":\"line\",\"x0\":479,\"x1\":479,\"xref\":\"x\",\"y0\":0,\"y1\":1,\"yref\":\"y domain\"},{\"line\":{\"color\":\"black\",\"dash\":\"dash\",\"width\":2},\"type\":\"line\",\"x0\":491,\"x1\":491,\"xref\":\"x\",\"y0\":0,\"y1\":1,\"yref\":\"y domain\"},{\"line\":{\"color\":\"black\",\"width\":4},\"type\":\"line\",\"x0\":128,\"x1\":128,\"xref\":\"x\",\"y0\":0,\"y1\":1,\"yref\":\"y domain\"},{\"line\":{\"color\":\"black\",\"width\":4},\"type\":\"line\",\"x0\":256,\"x1\":256,\"xref\":\"x\",\"y0\":0,\"y1\":1,\"yref\":\"y domain\"},{\"line\":{\"color\":\"black\",\"width\":4},\"type\":\"line\",\"x0\":384,\"x1\":384,\"xref\":\"x\",\"y0\":0,\"y1\":1,\"yref\":\"y domain\"},{\"line\":{\"color\":\"black\",\"dash\":\"dash\",\"width\":2},\"type\":\"line\",\"x0\":73,\"x1\":73,\"xref\":\"x2\",\"y0\":0,\"y1\":1,\"yref\":\"y2 domain\"},{\"line\":{\"color\":\"black\",\"dash\":\"dash\",\"width\":2},\"type\":\"line\",\"x0\":96,\"x1\":96,\"xref\":\"x2\",\"y0\":0,\"y1\":1,\"yref\":\"y2 domain\"},{\"line\":{\"color\":\"black\",\"dash\":\"dash\",\"width\":2},\"type\":\"line\",\"x0\":171,\"x1\":171,\"xref\":\"x2\",\"y0\":0,\"y1\":1,\"yref\":\"y2 domain\"},{\"line\":{\"color\":\"black\",\"dash\":\"dash\",\"width\":2},\"type\":\"line\",\"x0\":188,\"x1\":188,\"xref\":\"x2\",\"y0\":0,\"y1\":1,\"yref\":\"y2 domain\"},{\"line\":{\"color\":\"black\",\"dash\":\"dash\",\"width\":2},\"type\":\"line\",\"x0\":208,\"x1\":208,\"xref\":\"x2\",\"y0\":0,\"y1\":1,\"yref\":\"y2 domain\"},{\"line\":{\"color\":\"black\",\"dash\":\"dash\",\"width\":2},\"type\":\"line\",\"x0\":231,\"x1\":231,\"xref\":\"x2\",\"y0\":0,\"y1\":1,\"yref\":\"y2 domain\"},{\"line\":{\"color\":\"black\",\"dash\":\"dash\",\"width\":2},\"type\":\"line\",\"x0\":245,\"x1\":245,\"xref\":\"x2\",\"y0\":0,\"y1\":1,\"yref\":\"y2 domain\"},{\"line\":{\"color\":\"black\",\"dash\":\"dash\",\"width\":2},\"type\":\"line\",\"x0\":265,\"x1\":265,\"xref\":\"x2\",\"y0\":0,\"y1\":1,\"yref\":\"y2 domain\"},{\"line\":{\"color\":\"black\",\"dash\":\"dash\",\"width\":2},\"type\":\"line\",\"x0\":291,\"x1\":291,\"xref\":\"x2\",\"y0\":0,\"y1\":1,\"yref\":\"y2 domain\"},{\"line\":{\"color\":\"black\",\"dash\":\"dash\",\"width\":2},\"type\":\"line\",\"x0\":308,\"x1\":308,\"xref\":\"x2\",\"y0\":0,\"y1\":1,\"yref\":\"y2 domain\"},{\"line\":{\"color\":\"black\",\"dash\":\"dash\",\"width\":2},\"type\":\"line\",\"x0\":347,\"x1\":347,\"xref\":\"x2\",\"y0\":0,\"y1\":1,\"yref\":\"y2 domain\"},{\"line\":{\"color\":\"black\",\"dash\":\"dash\",\"width\":2},\"type\":\"line\",\"x0\":396,\"x1\":396,\"xref\":\"x2\",\"y0\":0,\"y1\":1,\"yref\":\"y2 domain\"},{\"line\":{\"color\":\"black\",\"dash\":\"dash\",\"width\":2},\"type\":\"line\",\"x0\":415,\"x1\":415,\"xref\":\"x2\",\"y0\":0,\"y1\":1,\"yref\":\"y2 domain\"},{\"line\":{\"color\":\"black\",\"dash\":\"dash\",\"width\":2},\"type\":\"line\",\"x0\":439,\"x1\":439,\"xref\":\"x2\",\"y0\":0,\"y1\":1,\"yref\":\"y2 domain\"},{\"line\":{\"color\":\"black\",\"dash\":\"dash\",\"width\":2},\"type\":\"line\",\"x0\":454,\"x1\":454,\"xref\":\"x2\",\"y0\":0,\"y1\":1,\"yref\":\"y2 domain\"},{\"line\":{\"color\":\"black\",\"dash\":\"dash\",\"width\":2},\"type\":\"line\",\"x0\":465,\"x1\":465,\"xref\":\"x2\",\"y0\":0,\"y1\":1,\"yref\":\"y2 domain\"},{\"line\":{\"color\":\"black\",\"dash\":\"dash\",\"width\":2},\"type\":\"line\",\"x0\":479,\"x1\":479,\"xref\":\"x2\",\"y0\":0,\"y1\":1,\"yref\":\"y2 domain\"},{\"line\":{\"color\":\"black\",\"dash\":\"dash\",\"width\":2},\"type\":\"line\",\"x0\":491,\"x1\":491,\"xref\":\"x2\",\"y0\":0,\"y1\":1,\"yref\":\"y2 domain\"},{\"line\":{\"color\":\"black\",\"width\":4},\"type\":\"line\",\"x0\":128,\"x1\":128,\"xref\":\"x2\",\"y0\":0,\"y1\":1,\"yref\":\"y2 domain\"},{\"line\":{\"color\":\"black\",\"width\":4},\"type\":\"line\",\"x0\":256,\"x1\":256,\"xref\":\"x2\",\"y0\":0,\"y1\":1,\"yref\":\"y2 domain\"},{\"line\":{\"color\":\"black\",\"width\":4},\"type\":\"line\",\"x0\":384,\"x1\":384,\"xref\":\"x2\",\"y0\":0,\"y1\":1,\"yref\":\"y2 domain\"}]},                        {\"responsive\": true}                    ).then(function(){\n",
              "                            \n",
              "var gd = document.getElementById('5fa45ddc-978b-42c3-af22-599dbf371c34');\n",
              "var x = new MutationObserver(function (mutations, observer) {{\n",
              "        var display = window.getComputedStyle(gd).display;\n",
              "        if (!display || display === 'none') {{\n",
              "            console.log([gd, 'removed!']);\n",
              "            Plotly.purge(gd);\n",
              "            observer.disconnect();\n",
              "        }}\n",
              "}});\n",
              "\n",
              "// Listen for the removal of the full notebook cells\n",
              "var notebookContainer = gd.closest('#notebook-container');\n",
              "if (notebookContainer) {{\n",
              "    x.observe(notebookContainer, {childList: true});\n",
              "}}\n",
              "\n",
              "// Listen for the clearing of the current output cell\n",
              "var outputEl = gd.closest('.output');\n",
              "if (outputEl) {{\n",
              "    x.observe(outputEl, {childList: true});\n",
              "}}\n",
              "\n",
              "                        })                };                            </script>        </div>\n",
              "</body>\n",
              "</html>"
            ]
          },
          "metadata": {}
        }
      ]
    },
    {
      "cell_type": "markdown",
      "metadata": {
        "id": "Ku0x7exYJWQf"
      },
      "source": [
        "The next code shows **a single minibatch**, sampled from this replay memory.\n"
      ]
    },
    {
      "cell_type": "code",
      "execution_count": null,
      "metadata": {
        "id": "iM5VCMtDJWQh",
        "colab": {
          "base_uri": "https://localhost:8080/",
          "height": 562
        },
        "outputId": "f67f9ee0-f352-46dd-bac7-ac77ec775e79"
      },
      "outputs": [
        {
          "output_type": "display_data",
          "data": {
            "text/html": [
              "<html>\n",
              "<head><meta charset=\"utf-8\" /></head>\n",
              "<body>\n",
              "    <div>            <script src=\"https://cdnjs.cloudflare.com/ajax/libs/mathjax/2.7.5/MathJax.js?config=TeX-AMS-MML_SVG\"></script><script type=\"text/javascript\">if (window.MathJax && window.MathJax.Hub && window.MathJax.Hub.Config) {window.MathJax.Hub.Config({SVG: {font: \"STIX-Web\"}});}</script>                <script type=\"text/javascript\">window.PlotlyConfig = {MathJaxConfig: 'local'};</script>\n",
              "        <script charset=\"utf-8\" src=\"https://cdn.plot.ly/plotly-2.24.1.min.js\"></script>                <div id=\"82bbcfb6-be21-424a-95e6-8c35f33c5181\" class=\"plotly-graph-div\" style=\"height:525px; width:100%;\"></div>            <script type=\"text/javascript\">                                    window.PLOTLYENV=window.PLOTLYENV || {};                                    if (document.getElementById(\"82bbcfb6-be21-424a-95e6-8c35f33c5181\")) {                    Plotly.newPlot(                        \"82bbcfb6-be21-424a-95e6-8c35f33c5181\",                        [{\"marker\":{\"color\":\"#1F77B4\"},\"mode\":\"lines\",\"name\":\"posn\",\"y\":[0.031327024102211,-0.018816854804754257,0.010010052472352982,-0.040587134659290314,0.032152533531188965,-0.018970202654600143,0.010467173531651497,-0.04072088375687599,0.03687739372253418,-0.023035073652863503,0.014835399575531483,-0.036951590329408646,0.045501481741666794,-0.02320709452033043,0.023114895448088646,-0.0292790699750185,0.0502215139567852,-0.019488118588924408,0.03530725836753845,-0.025506360456347466,0.051040634512901306,-0.011878163553774357,0.04361192509531975,-0.017825160175561905,0.05576517805457115,-0.008179683238267899,0.05583726987242699,-0.014038258232176304,0.06439497321844101,-0.0005852850736118853,0.07198555022478104,-0.006337753031402826,0.0769314169883728,0.010906565934419632,0.09205940365791321,0.005277859512716532,0.09337731450796127,0.01849413476884365,0.10826591402292252,0.02081119455397129,0.10593268275260925,0.022181987762451172,-0.022503063082695007,0.03246428444981575,0.11460498720407486,0.021973248571157455,-0.022188197821378708,0.048044603317976,0.11940038949251175,0.025673868134617805,-0.02577754482626915,0.06755419820547104,0.12032333761453629,0.02547897771000862,-0.03327089920639992,0.023457715287804604,0.12517514824867249,0.021390102803707123,-0.036864861845970154,0.022685058414936066,0.13395585119724274,0.01340696681290865,-0.04436734691262245,0.01801311783492565,0.13886885344982147,0.0015275452751666307,-0.04797520115971565,0.009441862814128399,0.13991980254650116,-0.014251723885536194,-0.04769197478890419,-0.0030304156243801117,0.13711249828338623,-0.026130739599466324,-0.043519459664821625,-0.011602056212723255,0.13824209570884705,-0.034116264432668686,-0.043261364102363586,-0.01627814583480358,0.1355147659778595,-0.04601740464568138,-0.03911225497722626,-0.024866458028554916,0.12893301248550415,-0.054033875465393066,-0.03887626901268959,-0.029564429074525833,0.1262894868850708,-0.05817198008298874,-0.04255210980772972,-0.03037598542869091,0.11979076266288757,-0.058436352759599686,-0.042335789650678635,-0.03510609641671181,0.10943805426359177,-0.05482975393533707,-0.038229577243328094,-0.043754834681749344,0.10302303731441498,-0.04735293239355087,-0.030233902856707573,-0.05632352456450462,0.09275120496749878,-0.04380383715033531,-0.018347345292568207,-0.0650133267045021,0.08641602843999863,-0.03638085722923279,-0.010371163487434387,-0.07763038575649261,0.08401671797037125,-0.025083256885409355,0.0015033101662993431,-0.08637906610965729,0.08555319160223007,-0.00990836601704359,0.017278773710131645,-0.09126736968755722,0.08323344588279724,0.0013462495990097523,0.029154425486922264,-0.10009349882602692,0.07706382125616074,0.01648743264377117,0.044940683990716934,-0.1128578782081604],\"type\":\"scatter\",\"xaxis\":\"x\",\"yaxis\":\"y\"},{\"marker\":{\"color\":\"#1F77B4\"},\"mode\":\"lines\",\"name\":\"posn_min\",\"y\":[-2.4000000953674316,-2.4000000953674316,-2.4000000953674316,-2.4000000953674316,-2.4000000953674316,-2.4000000953674316,-2.4000000953674316,-2.4000000953674316,-2.4000000953674316,-2.4000000953674316,-2.4000000953674316,-2.4000000953674316,-2.4000000953674316,-2.4000000953674316,-2.4000000953674316,-2.4000000953674316,-2.4000000953674316,-2.4000000953674316,-2.4000000953674316,-2.4000000953674316,-2.4000000953674316,-2.4000000953674316,-2.4000000953674316,-2.4000000953674316,-2.4000000953674316,-2.4000000953674316,-2.4000000953674316,-2.4000000953674316,-2.4000000953674316,-2.4000000953674316,-2.4000000953674316,-2.4000000953674316,-2.4000000953674316,-2.4000000953674316,-2.4000000953674316,-2.4000000953674316,-2.4000000953674316,-2.4000000953674316,-2.4000000953674316,-2.4000000953674316,-2.4000000953674316,-2.4000000953674316,-2.4000000953674316,-2.4000000953674316,-2.4000000953674316,-2.4000000953674316,-2.4000000953674316,-2.4000000953674316,-2.4000000953674316,-2.4000000953674316,-2.4000000953674316,-2.4000000953674316,-2.4000000953674316,-2.4000000953674316,-2.4000000953674316,-2.4000000953674316,-2.4000000953674316,-2.4000000953674316,-2.4000000953674316,-2.4000000953674316,-2.4000000953674316,-2.4000000953674316,-2.4000000953674316,-2.4000000953674316,-2.4000000953674316,-2.4000000953674316,-2.4000000953674316,-2.4000000953674316,-2.4000000953674316,-2.4000000953674316,-2.4000000953674316,-2.4000000953674316,-2.4000000953674316,-2.4000000953674316,-2.4000000953674316,-2.4000000953674316,-2.4000000953674316,-2.4000000953674316,-2.4000000953674316,-2.4000000953674316,-2.4000000953674316,-2.4000000953674316,-2.4000000953674316,-2.4000000953674316,-2.4000000953674316,-2.4000000953674316,-2.4000000953674316,-2.4000000953674316,-2.4000000953674316,-2.4000000953674316,-2.4000000953674316,-2.4000000953674316,-2.4000000953674316,-2.4000000953674316,-2.4000000953674316,-2.4000000953674316,-2.4000000953674316,-2.4000000953674316,-2.4000000953674316,-2.4000000953674316,-2.4000000953674316,-2.4000000953674316,-2.4000000953674316,-2.4000000953674316,-2.4000000953674316,-2.4000000953674316,-2.4000000953674316,-2.4000000953674316,-2.4000000953674316,-2.4000000953674316,-2.4000000953674316,-2.4000000953674316,-2.4000000953674316,-2.4000000953674316,-2.4000000953674316,-2.4000000953674316,-2.4000000953674316,-2.4000000953674316,-2.4000000953674316,-2.4000000953674316,-2.4000000953674316,-2.4000000953674316,-2.4000000953674316,-2.4000000953674316,-2.4000000953674316,-2.4000000953674316,-2.4000000953674316,-2.4000000953674316],\"type\":\"scatter\",\"xaxis\":\"x\",\"yaxis\":\"y\"},{\"marker\":{\"color\":\"#1F77B4\"},\"mode\":\"lines\",\"name\":\"posn_max\",\"y\":[2.4000000953674316,2.4000000953674316,2.4000000953674316,2.4000000953674316,2.4000000953674316,2.4000000953674316,2.4000000953674316,2.4000000953674316,2.4000000953674316,2.4000000953674316,2.4000000953674316,2.4000000953674316,2.4000000953674316,2.4000000953674316,2.4000000953674316,2.4000000953674316,2.4000000953674316,2.4000000953674316,2.4000000953674316,2.4000000953674316,2.4000000953674316,2.4000000953674316,2.4000000953674316,2.4000000953674316,2.4000000953674316,2.4000000953674316,2.4000000953674316,2.4000000953674316,2.4000000953674316,2.4000000953674316,2.4000000953674316,2.4000000953674316,2.4000000953674316,2.4000000953674316,2.4000000953674316,2.4000000953674316,2.4000000953674316,2.4000000953674316,2.4000000953674316,2.4000000953674316,2.4000000953674316,2.4000000953674316,2.4000000953674316,2.4000000953674316,2.4000000953674316,2.4000000953674316,2.4000000953674316,2.4000000953674316,2.4000000953674316,2.4000000953674316,2.4000000953674316,2.4000000953674316,2.4000000953674316,2.4000000953674316,2.4000000953674316,2.4000000953674316,2.4000000953674316,2.4000000953674316,2.4000000953674316,2.4000000953674316,2.4000000953674316,2.4000000953674316,2.4000000953674316,2.4000000953674316,2.4000000953674316,2.4000000953674316,2.4000000953674316,2.4000000953674316,2.4000000953674316,2.4000000953674316,2.4000000953674316,2.4000000953674316,2.4000000953674316,2.4000000953674316,2.4000000953674316,2.4000000953674316,2.4000000953674316,2.4000000953674316,2.4000000953674316,2.4000000953674316,2.4000000953674316,2.4000000953674316,2.4000000953674316,2.4000000953674316,2.4000000953674316,2.4000000953674316,2.4000000953674316,2.4000000953674316,2.4000000953674316,2.4000000953674316,2.4000000953674316,2.4000000953674316,2.4000000953674316,2.4000000953674316,2.4000000953674316,2.4000000953674316,2.4000000953674316,2.4000000953674316,2.4000000953674316,2.4000000953674316,2.4000000953674316,2.4000000953674316,2.4000000953674316,2.4000000953674316,2.4000000953674316,2.4000000953674316,2.4000000953674316,2.4000000953674316,2.4000000953674316,2.4000000953674316,2.4000000953674316,2.4000000953674316,2.4000000953674316,2.4000000953674316,2.4000000953674316,2.4000000953674316,2.4000000953674316,2.4000000953674316,2.4000000953674316,2.4000000953674316,2.4000000953674316,2.4000000953674316,2.4000000953674316,2.4000000953674316,2.4000000953674316,2.4000000953674316,2.4000000953674316,2.4000000953674316],\"type\":\"scatter\",\"xaxis\":\"x\",\"yaxis\":\"y\"},{\"marker\":{\"color\":\"#FF7F0E\"},\"mode\":\"lines\",\"name\":\"angle\",\"y\":[0.010663577355444431,0.03277026116847992,-0.03120989352464676,-0.002094870200380683,0.011122570373117924,0.0325886569917202,-0.03209960088133812,-0.002775392262265086,0.005795574747025967,0.03846384584903717,-0.0390365906059742,-0.009322777390480042,-0.005314504262059927,0.03869444876909256,-0.0520261786878109,-0.021741298958659172,-0.010534518398344517,0.033318985253572464,-0.0711100697517395,-0.028365178033709526,-0.009934493340551853,0.022338883951306343,-0.08467608690261841,-0.040978237986564636,-0.015254227444529533,0.017418621107935905,-0.10452603548765182,-0.04791896045207977,-0.02648995630443096,0.006787280552089214,-0.1307365894317627,-0.06096604838967323,-0.04367467388510704,-0.009586936794221401,-0.16341687738895416,-0.0801607072353363,-0.06687725335359573,-0.020064953714609146,-0.1911121904850006,-0.10557929426431656,-0.0845063328742981,-0.024750038981437683,0.006226566154509783,-0.1256670355796814,-0.09671678394079208,-0.023709386587142944,0.005526690743863583,-0.15223248302936554,-0.10362893342971802,-0.028676491230726242,0.010719634592533112,-0.18538235127925873,-0.10532735288143158,-0.027941372245550156,0.021800996735692024,-0.010877180844545364,-0.11349570006132126,-0.021536272019147873,0.02709663286805153,-0.010843700729310513,-0.12814292311668396,-0.009456333704292774,0.03838184103369713,-0.005025594495236874,-0.13769182562828064,0.00834005419164896,0.04398655891418457,0.006577378138899803,-0.1422465741634369,0.0319303497672081,0.043984584510326385,0.024002261459827423,-0.14187578856945038,0.04971950501203537,0.038412876427173615,0.0356149896979332,-0.14818429946899414,0.0618591234087944,0.03896566480398178,0.041527196764945984,-0.14959698915481567,0.08015713095664978,0.0339120514690876,0.053513385355472565,-0.14615954458713531,0.0930027887225151,0.03495272621512413,0.05991319939494133,-0.14943982660770416,0.10052038729190826,0.04205713048577309,0.06080625206232071,-0.14785531163215637,0.10279857367277145,0.043532341718673706,0.06791866570711136,-0.14142969250679016,0.09988967329263687,0.03942509740591049,0.0812554806470871,-0.14171238243579865,0.09180948138237,0.02974507585167885,0.10085771232843399,-0.13709646463394165,0.09017788618803024,0.014465024694800377,0.11513807624578476,-0.13915681838989258,0.08329901844263077,0.005222816485911608,0.13587142527103424,-0.14786918461322784,0.07116135954856873,-0.009781165048480034,0.1515161395072937,-0.16324374079704285,0.05371715873479843,-0.030605843290686607,0.16222012042999268,-0.1737634241580963,0.04255656898021698,-0.04563859477639198,0.17965067923069,-0.17954066395759583,0.02589024417102337,-0.06671444326639175,0.20386074483394623],\"type\":\"scatter\",\"xaxis\":\"x2\",\"yaxis\":\"y2\"},{\"marker\":{\"color\":\"#FF7F0E\"},\"mode\":\"lines\",\"name\":\"angle_min\",\"y\":[-0.2094999998807907,-0.2094999998807907,-0.2094999998807907,-0.2094999998807907,-0.2094999998807907,-0.2094999998807907,-0.2094999998807907,-0.2094999998807907,-0.2094999998807907,-0.2094999998807907,-0.2094999998807907,-0.2094999998807907,-0.2094999998807907,-0.2094999998807907,-0.2094999998807907,-0.2094999998807907,-0.2094999998807907,-0.2094999998807907,-0.2094999998807907,-0.2094999998807907,-0.2094999998807907,-0.2094999998807907,-0.2094999998807907,-0.2094999998807907,-0.2094999998807907,-0.2094999998807907,-0.2094999998807907,-0.2094999998807907,-0.2094999998807907,-0.2094999998807907,-0.2094999998807907,-0.2094999998807907,-0.2094999998807907,-0.2094999998807907,-0.2094999998807907,-0.2094999998807907,-0.2094999998807907,-0.2094999998807907,-0.2094999998807907,-0.2094999998807907,-0.2094999998807907,-0.2094999998807907,-0.2094999998807907,-0.2094999998807907,-0.2094999998807907,-0.2094999998807907,-0.2094999998807907,-0.2094999998807907,-0.2094999998807907,-0.2094999998807907,-0.2094999998807907,-0.2094999998807907,-0.2094999998807907,-0.2094999998807907,-0.2094999998807907,-0.2094999998807907,-0.2094999998807907,-0.2094999998807907,-0.2094999998807907,-0.2094999998807907,-0.2094999998807907,-0.2094999998807907,-0.2094999998807907,-0.2094999998807907,-0.2094999998807907,-0.2094999998807907,-0.2094999998807907,-0.2094999998807907,-0.2094999998807907,-0.2094999998807907,-0.2094999998807907,-0.2094999998807907,-0.2094999998807907,-0.2094999998807907,-0.2094999998807907,-0.2094999998807907,-0.2094999998807907,-0.2094999998807907,-0.2094999998807907,-0.2094999998807907,-0.2094999998807907,-0.2094999998807907,-0.2094999998807907,-0.2094999998807907,-0.2094999998807907,-0.2094999998807907,-0.2094999998807907,-0.2094999998807907,-0.2094999998807907,-0.2094999998807907,-0.2094999998807907,-0.2094999998807907,-0.2094999998807907,-0.2094999998807907,-0.2094999998807907,-0.2094999998807907,-0.2094999998807907,-0.2094999998807907,-0.2094999998807907,-0.2094999998807907,-0.2094999998807907,-0.2094999998807907,-0.2094999998807907,-0.2094999998807907,-0.2094999998807907,-0.2094999998807907,-0.2094999998807907,-0.2094999998807907,-0.2094999998807907,-0.2094999998807907,-0.2094999998807907,-0.2094999998807907,-0.2094999998807907,-0.2094999998807907,-0.2094999998807907,-0.2094999998807907,-0.2094999998807907,-0.2094999998807907,-0.2094999998807907,-0.2094999998807907,-0.2094999998807907,-0.2094999998807907,-0.2094999998807907,-0.2094999998807907,-0.2094999998807907,-0.2094999998807907,-0.2094999998807907,-0.2094999998807907],\"type\":\"scatter\",\"xaxis\":\"x2\",\"yaxis\":\"y2\"},{\"marker\":{\"color\":\"#FF7F0E\"},\"mode\":\"lines\",\"name\":\"angle_max\",\"y\":[0.2094999998807907,0.2094999998807907,0.2094999998807907,0.2094999998807907,0.2094999998807907,0.2094999998807907,0.2094999998807907,0.2094999998807907,0.2094999998807907,0.2094999998807907,0.2094999998807907,0.2094999998807907,0.2094999998807907,0.2094999998807907,0.2094999998807907,0.2094999998807907,0.2094999998807907,0.2094999998807907,0.2094999998807907,0.2094999998807907,0.2094999998807907,0.2094999998807907,0.2094999998807907,0.2094999998807907,0.2094999998807907,0.2094999998807907,0.2094999998807907,0.2094999998807907,0.2094999998807907,0.2094999998807907,0.2094999998807907,0.2094999998807907,0.2094999998807907,0.2094999998807907,0.2094999998807907,0.2094999998807907,0.2094999998807907,0.2094999998807907,0.2094999998807907,0.2094999998807907,0.2094999998807907,0.2094999998807907,0.2094999998807907,0.2094999998807907,0.2094999998807907,0.2094999998807907,0.2094999998807907,0.2094999998807907,0.2094999998807907,0.2094999998807907,0.2094999998807907,0.2094999998807907,0.2094999998807907,0.2094999998807907,0.2094999998807907,0.2094999998807907,0.2094999998807907,0.2094999998807907,0.2094999998807907,0.2094999998807907,0.2094999998807907,0.2094999998807907,0.2094999998807907,0.2094999998807907,0.2094999998807907,0.2094999998807907,0.2094999998807907,0.2094999998807907,0.2094999998807907,0.2094999998807907,0.2094999998807907,0.2094999998807907,0.2094999998807907,0.2094999998807907,0.2094999998807907,0.2094999998807907,0.2094999998807907,0.2094999998807907,0.2094999998807907,0.2094999998807907,0.2094999998807907,0.2094999998807907,0.2094999998807907,0.2094999998807907,0.2094999998807907,0.2094999998807907,0.2094999998807907,0.2094999998807907,0.2094999998807907,0.2094999998807907,0.2094999998807907,0.2094999998807907,0.2094999998807907,0.2094999998807907,0.2094999998807907,0.2094999998807907,0.2094999998807907,0.2094999998807907,0.2094999998807907,0.2094999998807907,0.2094999998807907,0.2094999998807907,0.2094999998807907,0.2094999998807907,0.2094999998807907,0.2094999998807907,0.2094999998807907,0.2094999998807907,0.2094999998807907,0.2094999998807907,0.2094999998807907,0.2094999998807907,0.2094999998807907,0.2094999998807907,0.2094999998807907,0.2094999998807907,0.2094999998807907,0.2094999998807907,0.2094999998807907,0.2094999998807907,0.2094999998807907,0.2094999998807907,0.2094999998807907,0.2094999998807907,0.2094999998807907,0.2094999998807907,0.2094999998807907,0.2094999998807907],\"type\":\"scatter\",\"xaxis\":\"x2\",\"yaxis\":\"y2\"}],                        {\"template\":{\"data\":{\"barpolar\":[{\"marker\":{\"line\":{\"color\":\"white\",\"width\":0.5},\"pattern\":{\"fillmode\":\"overlay\",\"size\":10,\"solidity\":0.2}},\"type\":\"barpolar\"}],\"bar\":[{\"error_x\":{\"color\":\"rgb(36,36,36)\"},\"error_y\":{\"color\":\"rgb(36,36,36)\"},\"marker\":{\"line\":{\"color\":\"white\",\"width\":0.5},\"pattern\":{\"fillmode\":\"overlay\",\"size\":10,\"solidity\":0.2}},\"type\":\"bar\"}],\"carpet\":[{\"aaxis\":{\"endlinecolor\":\"rgb(36,36,36)\",\"gridcolor\":\"white\",\"linecolor\":\"white\",\"minorgridcolor\":\"white\",\"startlinecolor\":\"rgb(36,36,36)\"},\"baxis\":{\"endlinecolor\":\"rgb(36,36,36)\",\"gridcolor\":\"white\",\"linecolor\":\"white\",\"minorgridcolor\":\"white\",\"startlinecolor\":\"rgb(36,36,36)\"},\"type\":\"carpet\"}],\"choropleth\":[{\"colorbar\":{\"outlinewidth\":1,\"tickcolor\":\"rgb(36,36,36)\",\"ticks\":\"outside\"},\"type\":\"choropleth\"}],\"contourcarpet\":[{\"colorbar\":{\"outlinewidth\":1,\"tickcolor\":\"rgb(36,36,36)\",\"ticks\":\"outside\"},\"type\":\"contourcarpet\"}],\"contour\":[{\"colorbar\":{\"outlinewidth\":1,\"tickcolor\":\"rgb(36,36,36)\",\"ticks\":\"outside\"},\"colorscale\":[[0.0,\"#440154\"],[0.1111111111111111,\"#482878\"],[0.2222222222222222,\"#3e4989\"],[0.3333333333333333,\"#31688e\"],[0.4444444444444444,\"#26828e\"],[0.5555555555555556,\"#1f9e89\"],[0.6666666666666666,\"#35b779\"],[0.7777777777777778,\"#6ece58\"],[0.8888888888888888,\"#b5de2b\"],[1.0,\"#fde725\"]],\"type\":\"contour\"}],\"heatmapgl\":[{\"colorbar\":{\"outlinewidth\":1,\"tickcolor\":\"rgb(36,36,36)\",\"ticks\":\"outside\"},\"colorscale\":[[0.0,\"#440154\"],[0.1111111111111111,\"#482878\"],[0.2222222222222222,\"#3e4989\"],[0.3333333333333333,\"#31688e\"],[0.4444444444444444,\"#26828e\"],[0.5555555555555556,\"#1f9e89\"],[0.6666666666666666,\"#35b779\"],[0.7777777777777778,\"#6ece58\"],[0.8888888888888888,\"#b5de2b\"],[1.0,\"#fde725\"]],\"type\":\"heatmapgl\"}],\"heatmap\":[{\"colorbar\":{\"outlinewidth\":1,\"tickcolor\":\"rgb(36,36,36)\",\"ticks\":\"outside\"},\"colorscale\":[[0.0,\"#440154\"],[0.1111111111111111,\"#482878\"],[0.2222222222222222,\"#3e4989\"],[0.3333333333333333,\"#31688e\"],[0.4444444444444444,\"#26828e\"],[0.5555555555555556,\"#1f9e89\"],[0.6666666666666666,\"#35b779\"],[0.7777777777777778,\"#6ece58\"],[0.8888888888888888,\"#b5de2b\"],[1.0,\"#fde725\"]],\"type\":\"heatmap\"}],\"histogram2dcontour\":[{\"colorbar\":{\"outlinewidth\":1,\"tickcolor\":\"rgb(36,36,36)\",\"ticks\":\"outside\"},\"colorscale\":[[0.0,\"#440154\"],[0.1111111111111111,\"#482878\"],[0.2222222222222222,\"#3e4989\"],[0.3333333333333333,\"#31688e\"],[0.4444444444444444,\"#26828e\"],[0.5555555555555556,\"#1f9e89\"],[0.6666666666666666,\"#35b779\"],[0.7777777777777778,\"#6ece58\"],[0.8888888888888888,\"#b5de2b\"],[1.0,\"#fde725\"]],\"type\":\"histogram2dcontour\"}],\"histogram2d\":[{\"colorbar\":{\"outlinewidth\":1,\"tickcolor\":\"rgb(36,36,36)\",\"ticks\":\"outside\"},\"colorscale\":[[0.0,\"#440154\"],[0.1111111111111111,\"#482878\"],[0.2222222222222222,\"#3e4989\"],[0.3333333333333333,\"#31688e\"],[0.4444444444444444,\"#26828e\"],[0.5555555555555556,\"#1f9e89\"],[0.6666666666666666,\"#35b779\"],[0.7777777777777778,\"#6ece58\"],[0.8888888888888888,\"#b5de2b\"],[1.0,\"#fde725\"]],\"type\":\"histogram2d\"}],\"histogram\":[{\"marker\":{\"line\":{\"color\":\"white\",\"width\":0.6}},\"type\":\"histogram\"}],\"mesh3d\":[{\"colorbar\":{\"outlinewidth\":1,\"tickcolor\":\"rgb(36,36,36)\",\"ticks\":\"outside\"},\"type\":\"mesh3d\"}],\"parcoords\":[{\"line\":{\"colorbar\":{\"outlinewidth\":1,\"tickcolor\":\"rgb(36,36,36)\",\"ticks\":\"outside\"}},\"type\":\"parcoords\"}],\"pie\":[{\"automargin\":true,\"type\":\"pie\"}],\"scatter3d\":[{\"line\":{\"colorbar\":{\"outlinewidth\":1,\"tickcolor\":\"rgb(36,36,36)\",\"ticks\":\"outside\"}},\"marker\":{\"colorbar\":{\"outlinewidth\":1,\"tickcolor\":\"rgb(36,36,36)\",\"ticks\":\"outside\"}},\"type\":\"scatter3d\"}],\"scattercarpet\":[{\"marker\":{\"colorbar\":{\"outlinewidth\":1,\"tickcolor\":\"rgb(36,36,36)\",\"ticks\":\"outside\"}},\"type\":\"scattercarpet\"}],\"scattergeo\":[{\"marker\":{\"colorbar\":{\"outlinewidth\":1,\"tickcolor\":\"rgb(36,36,36)\",\"ticks\":\"outside\"}},\"type\":\"scattergeo\"}],\"scattergl\":[{\"marker\":{\"colorbar\":{\"outlinewidth\":1,\"tickcolor\":\"rgb(36,36,36)\",\"ticks\":\"outside\"}},\"type\":\"scattergl\"}],\"scattermapbox\":[{\"marker\":{\"colorbar\":{\"outlinewidth\":1,\"tickcolor\":\"rgb(36,36,36)\",\"ticks\":\"outside\"}},\"type\":\"scattermapbox\"}],\"scatterpolargl\":[{\"marker\":{\"colorbar\":{\"outlinewidth\":1,\"tickcolor\":\"rgb(36,36,36)\",\"ticks\":\"outside\"}},\"type\":\"scatterpolargl\"}],\"scatterpolar\":[{\"marker\":{\"colorbar\":{\"outlinewidth\":1,\"tickcolor\":\"rgb(36,36,36)\",\"ticks\":\"outside\"}},\"type\":\"scatterpolar\"}],\"scatter\":[{\"fillpattern\":{\"fillmode\":\"overlay\",\"size\":10,\"solidity\":0.2},\"type\":\"scatter\"}],\"scatterternary\":[{\"marker\":{\"colorbar\":{\"outlinewidth\":1,\"tickcolor\":\"rgb(36,36,36)\",\"ticks\":\"outside\"}},\"type\":\"scatterternary\"}],\"surface\":[{\"colorbar\":{\"outlinewidth\":1,\"tickcolor\":\"rgb(36,36,36)\",\"ticks\":\"outside\"},\"colorscale\":[[0.0,\"#440154\"],[0.1111111111111111,\"#482878\"],[0.2222222222222222,\"#3e4989\"],[0.3333333333333333,\"#31688e\"],[0.4444444444444444,\"#26828e\"],[0.5555555555555556,\"#1f9e89\"],[0.6666666666666666,\"#35b779\"],[0.7777777777777778,\"#6ece58\"],[0.8888888888888888,\"#b5de2b\"],[1.0,\"#fde725\"]],\"type\":\"surface\"}],\"table\":[{\"cells\":{\"fill\":{\"color\":\"rgb(237,237,237)\"},\"line\":{\"color\":\"white\"}},\"header\":{\"fill\":{\"color\":\"rgb(217,217,217)\"},\"line\":{\"color\":\"white\"}},\"type\":\"table\"}]},\"layout\":{\"annotationdefaults\":{\"arrowhead\":0,\"arrowwidth\":1},\"autotypenumbers\":\"strict\",\"coloraxis\":{\"colorbar\":{\"outlinewidth\":1,\"tickcolor\":\"rgb(36,36,36)\",\"ticks\":\"outside\"}},\"colorscale\":{\"diverging\":[[0.0,\"rgb(103,0,31)\"],[0.1,\"rgb(178,24,43)\"],[0.2,\"rgb(214,96,77)\"],[0.3,\"rgb(244,165,130)\"],[0.4,\"rgb(253,219,199)\"],[0.5,\"rgb(247,247,247)\"],[0.6,\"rgb(209,229,240)\"],[0.7,\"rgb(146,197,222)\"],[0.8,\"rgb(67,147,195)\"],[0.9,\"rgb(33,102,172)\"],[1.0,\"rgb(5,48,97)\"]],\"sequential\":[[0.0,\"#440154\"],[0.1111111111111111,\"#482878\"],[0.2222222222222222,\"#3e4989\"],[0.3333333333333333,\"#31688e\"],[0.4444444444444444,\"#26828e\"],[0.5555555555555556,\"#1f9e89\"],[0.6666666666666666,\"#35b779\"],[0.7777777777777778,\"#6ece58\"],[0.8888888888888888,\"#b5de2b\"],[1.0,\"#fde725\"]],\"sequentialminus\":[[0.0,\"#440154\"],[0.1111111111111111,\"#482878\"],[0.2222222222222222,\"#3e4989\"],[0.3333333333333333,\"#31688e\"],[0.4444444444444444,\"#26828e\"],[0.5555555555555556,\"#1f9e89\"],[0.6666666666666666,\"#35b779\"],[0.7777777777777778,\"#6ece58\"],[0.8888888888888888,\"#b5de2b\"],[1.0,\"#fde725\"]]},\"colorway\":[\"#1F77B4\",\"#FF7F0E\",\"#2CA02C\",\"#D62728\",\"#9467BD\",\"#8C564B\",\"#E377C2\",\"#7F7F7F\",\"#BCBD22\",\"#17BECF\"],\"font\":{\"color\":\"rgb(36,36,36)\"},\"geo\":{\"bgcolor\":\"white\",\"lakecolor\":\"white\",\"landcolor\":\"white\",\"showlakes\":true,\"showland\":true,\"subunitcolor\":\"white\"},\"hoverlabel\":{\"align\":\"left\"},\"hovermode\":\"closest\",\"mapbox\":{\"style\":\"light\"},\"paper_bgcolor\":\"white\",\"plot_bgcolor\":\"white\",\"polar\":{\"angularaxis\":{\"gridcolor\":\"rgb(232,232,232)\",\"linecolor\":\"rgb(36,36,36)\",\"showgrid\":false,\"showline\":true,\"ticks\":\"outside\"},\"bgcolor\":\"white\",\"radialaxis\":{\"gridcolor\":\"rgb(232,232,232)\",\"linecolor\":\"rgb(36,36,36)\",\"showgrid\":false,\"showline\":true,\"ticks\":\"outside\"}},\"scene\":{\"xaxis\":{\"backgroundcolor\":\"white\",\"gridcolor\":\"rgb(232,232,232)\",\"gridwidth\":2,\"linecolor\":\"rgb(36,36,36)\",\"showbackground\":true,\"showgrid\":false,\"showline\":true,\"ticks\":\"outside\",\"zeroline\":false,\"zerolinecolor\":\"rgb(36,36,36)\"},\"yaxis\":{\"backgroundcolor\":\"white\",\"gridcolor\":\"rgb(232,232,232)\",\"gridwidth\":2,\"linecolor\":\"rgb(36,36,36)\",\"showbackground\":true,\"showgrid\":false,\"showline\":true,\"ticks\":\"outside\",\"zeroline\":false,\"zerolinecolor\":\"rgb(36,36,36)\"},\"zaxis\":{\"backgroundcolor\":\"white\",\"gridcolor\":\"rgb(232,232,232)\",\"gridwidth\":2,\"linecolor\":\"rgb(36,36,36)\",\"showbackground\":true,\"showgrid\":false,\"showline\":true,\"ticks\":\"outside\",\"zeroline\":false,\"zerolinecolor\":\"rgb(36,36,36)\"}},\"shapedefaults\":{\"fillcolor\":\"black\",\"line\":{\"width\":0},\"opacity\":0.3},\"ternary\":{\"aaxis\":{\"gridcolor\":\"rgb(232,232,232)\",\"linecolor\":\"rgb(36,36,36)\",\"showgrid\":false,\"showline\":true,\"ticks\":\"outside\"},\"baxis\":{\"gridcolor\":\"rgb(232,232,232)\",\"linecolor\":\"rgb(36,36,36)\",\"showgrid\":false,\"showline\":true,\"ticks\":\"outside\"},\"bgcolor\":\"white\",\"caxis\":{\"gridcolor\":\"rgb(232,232,232)\",\"linecolor\":\"rgb(36,36,36)\",\"showgrid\":false,\"showline\":true,\"ticks\":\"outside\"}},\"title\":{\"x\":0.05},\"xaxis\":{\"automargin\":true,\"gridcolor\":\"rgb(232,232,232)\",\"linecolor\":\"rgb(36,36,36)\",\"showgrid\":false,\"showline\":true,\"ticks\":\"outside\",\"title\":{\"standoff\":15},\"zeroline\":false,\"zerolinecolor\":\"rgb(36,36,36)\"},\"yaxis\":{\"automargin\":true,\"gridcolor\":\"rgb(232,232,232)\",\"linecolor\":\"rgb(36,36,36)\",\"showgrid\":false,\"showline\":true,\"ticks\":\"outside\",\"title\":{\"standoff\":15},\"zeroline\":false,\"zerolinecolor\":\"rgb(36,36,36)\"}}},\"xaxis\":{\"anchor\":\"y\",\"domain\":[0.0,1.0]},\"yaxis\":{\"anchor\":\"x\",\"domain\":[0.625,1.0]},\"xaxis2\":{\"anchor\":\"y2\",\"domain\":[0.0,1.0]},\"yaxis2\":{\"anchor\":\"x2\",\"domain\":[0.0,0.375]},\"annotations\":[{\"font\":{\"size\":16},\"showarrow\":false,\"text\":\"Cart x-position\",\"x\":0.5,\"xanchor\":\"center\",\"xref\":\"paper\",\"y\":1.0,\"yanchor\":\"bottom\",\"yref\":\"paper\"},{\"font\":{\"size\":16},\"showarrow\":false,\"text\":\"Pole angle\",\"x\":0.5,\"xanchor\":\"center\",\"xref\":\"paper\",\"y\":0.375,\"yanchor\":\"bottom\",\"yref\":\"paper\"},{\"showarrow\":false,\"text\":\"Min posn\",\"x\":134.4,\"xref\":\"x\",\"y\":-2.4,\"yref\":\"y\"},{\"showarrow\":false,\"text\":\"Min angle\",\"x\":134.4,\"xref\":\"x2\",\"y\":-0.2095,\"yref\":\"y2\"},{\"showarrow\":false,\"text\":\"Max posn\",\"x\":134.4,\"xref\":\"x\",\"y\":2.4,\"yref\":\"y\"},{\"showarrow\":false,\"text\":\"Max angle\",\"x\":134.4,\"xref\":\"x2\",\"y\":0.2095,\"yref\":\"y2\"}],\"title\":{\"text\":\"CartPole experiences for single minibatch (dotted lines = termination)\"},\"showlegend\":false,\"hovermode\":\"x unified\",\"shapes\":[{\"line\":{\"color\":\"black\",\"dash\":\"dash\",\"width\":2},\"type\":\"line\",\"x0\":38,\"x1\":38,\"xref\":\"x\",\"y0\":0,\"y1\":1,\"yref\":\"y domain\"},{\"line\":{\"color\":\"black\",\"dash\":\"dash\",\"width\":2},\"type\":\"line\",\"x0\":51,\"x1\":51,\"xref\":\"x\",\"y0\":0,\"y1\":1,\"yref\":\"y domain\"},{\"line\":{\"color\":\"black\",\"dash\":\"dash\",\"width\":2},\"type\":\"line\",\"x0\":127,\"x1\":127,\"xref\":\"x\",\"y0\":0,\"y1\":1,\"yref\":\"y domain\"},{\"line\":{\"color\":\"black\",\"dash\":\"dash\",\"width\":2},\"type\":\"line\",\"x0\":38,\"x1\":38,\"xref\":\"x2\",\"y0\":0,\"y1\":1,\"yref\":\"y2 domain\"},{\"line\":{\"color\":\"black\",\"dash\":\"dash\",\"width\":2},\"type\":\"line\",\"x0\":51,\"x1\":51,\"xref\":\"x2\",\"y0\":0,\"y1\":1,\"yref\":\"y2 domain\"},{\"line\":{\"color\":\"black\",\"dash\":\"dash\",\"width\":2},\"type\":\"line\",\"x0\":127,\"x1\":127,\"xref\":\"x2\",\"y0\":0,\"y1\":1,\"yref\":\"y2 domain\"}]},                        {\"responsive\": true}                    ).then(function(){\n",
              "                            \n",
              "var gd = document.getElementById('82bbcfb6-be21-424a-95e6-8c35f33c5181');\n",
              "var x = new MutationObserver(function (mutations, observer) {{\n",
              "        var display = window.getComputedStyle(gd).display;\n",
              "        if (!display || display === 'none') {{\n",
              "            console.log([gd, 'removed!']);\n",
              "            Plotly.purge(gd);\n",
              "            observer.disconnect();\n",
              "        }}\n",
              "}});\n",
              "\n",
              "// Listen for the removal of the full notebook cells\n",
              "var notebookContainer = gd.closest('#notebook-container');\n",
              "if (notebookContainer) {{\n",
              "    x.observe(notebookContainer, {childList: true});\n",
              "}}\n",
              "\n",
              "// Listen for the clearing of the current output cell\n",
              "var outputEl = gd.closest('.output');\n",
              "if (outputEl) {{\n",
              "    x.observe(outputEl, {childList: true});\n",
              "}}\n",
              "\n",
              "                        })                };                            </script>        </div>\n",
              "</body>\n",
              "</html>"
            ]
          },
          "metadata": {}
        }
      ],
      "source": [
        "minibatches = memory.get_minibatches(next_value, next_done)\n",
        "\n",
        "obs = minibatches[0].observations.cpu() # shape [minibatch_size, obs_shape=4]\n",
        "dones = minibatches[0].dones.cpu() # shape [minibatch_size,]\n",
        "\n",
        "plot_cartpole_obs_and_dones(obs, dones, title=\"CartPole experiences for single minibatch (dotted lines = termination)\")"
      ]
    },
    {
      "cell_type": "markdown",
      "metadata": {
        "id": "5FyraiztJWQi"
      },
      "source": [
        "## PPO Agent\n",
        "\n",
        "As the final task in this section, you should fill in the agent's `play_step` method. This is conceptually similar to what you did during DQN, but with a few key differences.\n",
        "\n",
        "In DQN, we did the following:\n",
        "\n",
        "* used the Q-Network and an epsilon greedy policy to select an action based on current observation,\n",
        "* stepped the environment with this action,\n",
        "* stored the transition in the replay memory (using the `add` method of the replay buffer)\n",
        "\n",
        "In PPO, you'll do the following:\n",
        "\n",
        "* use the actor network to return a distribution over actions based on current observation & sample from this distribution to select an action,\n",
        "* step the environment with this action,\n",
        "* calculate `logprobs` and `values` (which we'll need during our learning step),\n",
        "* store the transition in the replay memory (using the `add` method of the replay memory)\n"
      ]
    },
    {
      "cell_type": "markdown",
      "metadata": {
        "id": "0YPtnhzXJWQi"
      },
      "source": [
        "### Exercise - implement `PPOAgent`\n",
        "\n",
        "```c\n",
        "Difficulty: 🔴🔴🔴🔴⚪\n",
        "Importance: 🔵🔵🔵🔵⚪\n",
        "\n",
        "You should spend up to 20-35 minutes on this exercise.\n",
        "```\n",
        "\n",
        "A few gotchas:\n",
        "\n",
        "* Make sure the things you're adding to memory are the right shape (otherwise the `add` method will throw an error). This includes paying attention to the batch dimension when you put things through the actor and critic networks.\n",
        "    * The memory expects everything to have shape `(num_envs,)` except for observations which have shape `(num_envs, 4)`.\n",
        "* Don't forget to use inference mode when running your actor and critic networks, since you're only generating data $\\theta_\\text{old}$ (i.e. you don't want to update the weights of the network based on these values).\n",
        "* Don't forget to increment the step count `self.step` by the number of environments (you're stepping once for each env!) in each call to `play_step`.\n",
        "* At the end of `play_step`, you should update `self.next_obs` and `self.next_done` (because this is where our agent will start next time `play_step` is called).\n",
        "    * For more on why we need these values, see [this section](https://iclr-blog-track.github.io/2022/03/25/ppo-implementation-details/#:~:text=role%20to%20help%20transition%20between%20phases) of detail #1 in the \"37 implementational details\" post.\n",
        "\n",
        "<details>\n",
        "<summary>Tip - how to sample from distributions (to get <code>actions</code>)</summary>\n",
        "\n",
        "You might remember using `torch.distributions.categorical.Categorical` when we were sampling from transformers in the previous chapter. We can use this again!\n",
        "\n",
        "You can define a `Categorical` object by passing in `logits` (the output of the actor network), and then you can:\n",
        "\n",
        "* Sample from it using the `sample` method,\n",
        "* Calculate the logprobs of a given action using the `log_prob` method (with the actions you took as input argument to this method).\n",
        "</details>\n",
        "\n",
        "For this exercise and others to follow, there's a trade-off in the test functions between being strict and being lax. Too lax and the tests will let failures pass; too strict and they might fail for odd reasons even if your code is mostly correct. If you find youself continually failing tests (or passing tests despite not matching the solutions exactly, and running into confusing errors later!) then you should ask a TA for help.\n",
        "\n",
        "Two final notes on this implementation:\n",
        "\n",
        "* We've chosen `PPOAgent` to subclass `nn.Module`. This is so so that we can call `agent.parameters()` to get the parameters of the actor and critic networks, and feed these params into our optimizer.\n",
        "* We've given you a `get_minibatches` method, which is useful because the earlier `get_minibatches` function required the next observation & value, and these are either stored or easily computable by our agent. You should be using this method rather than the original `get_minibatches` function.\n",
        "\n",
        "Decisions like these aren't super important in the grand scheme of things, although they're important to keep track of, because they can often be the difference between a buggy and working RL implementation."
      ]
    },
    {
      "cell_type": "code",
      "execution_count": null,
      "metadata": {
        "id": "D7VGNTAGJWQi",
        "colab": {
          "base_uri": "https://localhost:8080/"
        },
        "outputId": "56888f69-3edf-47bb-ab01-4e949d6f7ac0"
      },
      "outputs": [
        {
          "output_type": "stream",
          "name": "stdout",
          "text": [
            "All tests in `test_agent` passed!\n"
          ]
        }
      ],
      "source": [
        "class PPOAgent(nn.Module):\n",
        "    critic: nn.Sequential\n",
        "    actor: nn.Sequential\n",
        "\n",
        "    def __init__(self, args: PPOArgs, envs: gym.vector.SyncVectorEnv):\n",
        "        super().__init__()\n",
        "        self.args = args\n",
        "        self.envs = envs\n",
        "\n",
        "        # Keep track of global number of steps taken by agent\n",
        "        self.step = 0\n",
        "\n",
        "        # Get actor and critic networks\n",
        "        self.actor, self.critic = get_actor_and_critic(envs, mode=args.mode)\n",
        "\n",
        "        # Define our first (obs, done), so we can start adding experiences to our replay memory\n",
        "        self.next_obs = t.tensor(envs.reset()).to(device, dtype=t.float)\n",
        "        self.next_done = t.zeros(envs.num_envs).to(device, dtype=t.float)\n",
        "\n",
        "        # Create our replay memory\n",
        "        self.memory = ReplayMemory(args, envs)\n",
        "\n",
        "\n",
        "    def play_step(self) -> List[dict]:\n",
        "        '''\n",
        "        Carries out a single interaction step between the agent and the environment, and adds results to the replay memory.\n",
        "\n",
        "        Returns the list of info dicts returned from `self.envs.step`.\n",
        "        '''\n",
        "\t\t    # Get newest observations (i.e. where we're starting from)\n",
        "        obs = self.next_obs\n",
        "        dones = self.next_done\n",
        "\n",
        "        with t.inference_mode():\n",
        "          logits = self.actor(obs) # envs x 2\n",
        "          values = self.critic(obs).squeeze() # envs x 1\n",
        "\n",
        "        dist = Categorical(logits=logits)\n",
        "        actions = dist.sample()\n",
        "        logprobs = dist.log_prob(actions)\n",
        "        next_obs, rewards, next_dones, infos = self.envs.step(actions.cpu().numpy())\n",
        "\n",
        "\t\t    # Add to memory\n",
        "        self.memory.add(obs, actions, logprobs, values, rewards, dones)\n",
        "\n",
        "        # Set next observation, and increment global step counter\n",
        "        self.next_obs = t.from_numpy(next_obs).to(device, dtype=t.float)\n",
        "        self.next_done = t.from_numpy(next_dones).to(device, dtype=t.float)\n",
        "        self.step += self.envs.num_envs\n",
        "\n",
        "        # Return infos dict, for logging\n",
        "        return infos\n",
        "\n",
        "\n",
        "    def get_minibatches(self) -> None:\n",
        "        '''\n",
        "        Gets minibatches from the replay memory.\n",
        "        '''\n",
        "        with t.inference_mode():\n",
        "            next_value = self.critic(self.next_obs).flatten()\n",
        "        return self.memory.get_minibatches(next_value, self.next_done)\n",
        "\n",
        "\n",
        "tests.test_ppo_agent(PPOAgent)"
      ]
    },
    {
      "cell_type": "markdown",
      "metadata": {
        "id": "PCrDNis6JWQj"
      },
      "source": [
        "# 2️⃣ Learning Phase\n"
      ]
    },
    {
      "cell_type": "markdown",
      "metadata": {
        "id": "gzkzd7Y5JWQj"
      },
      "source": [
        "> ##### Learning objectives\n",
        ">\n",
        "> * Implement the total objective function (sum of three separate terms)\n",
        "> * Understand the importance of each of these terms for the overall algorithm\n",
        "> * Write a function to return an optimizer and learning rate scheduler for your model\n"
      ]
    },
    {
      "cell_type": "markdown",
      "metadata": {
        "id": "o4MN56j3JWQj"
      },
      "source": [
        "In the last section, we wrote a lot of setup code (including handling most of how our rollout phase will work). Next, we'll turn to the learning phase.\n",
        "\n",
        "In the next exercises, you'll write code to compute your total objective function. This is given by equation $(9)$ in the paper, and is the sum of three terms - we'll implement each one individually.\n",
        "\n",
        "Note - the convention we've used in these exercises for signs is that **your function outputs should be the expressions in equation $(9)$**, in other words you will compute $L_t^{CLIP}(\\theta)$, $c_1 L_t^{VF}(\\theta)$ and $c_2 S[\\pi_\\theta](s_t)$. We will then perform **gradient ascent** by passing `maximize=True` into our optimizers. An equally valid solution would be to just return the negative of the objective function.\n"
      ]
    },
    {
      "cell_type": "markdown",
      "metadata": {
        "id": "3A7PX49tJWQj"
      },
      "source": [
        "## Objective function\n"
      ]
    },
    {
      "cell_type": "markdown",
      "metadata": {
        "id": "bZrghRCuJWQj"
      },
      "source": [
        "### Clipped Surrogate Objective ([detail #8](https://iclr-blog-track.github.io/2022/03/25/ppo-implementation-details/#:~:text=Clipped%20surrogate%20objective,-(ppo2/model)))\n",
        "\n",
        "For each minibatch, calculate $L^{CLIP}$ from equation $(7)$ in the paper. This will allow us to improve the parameters of our actor.\n",
        "\n",
        "Note - in the paper, don't confuse $r_{t}$ which is reward at time $t$ with $r_{t}(\\theta)$, which is the probability ratio between the current policy (output of the actor) and the old policy (stored in `mb_logprobs`).\n",
        "\n",
        "Pay attention to the normalization instructions in [detail #7](https://iclr-blog-track.github.io/2022/03/25/ppo-implementation-details/#:~:text=Normalization%20of%20Advantages) when implementing this loss function. They add a value of `eps = 1e-8` to the denominator to avoid division by zero, you should also do this.\n",
        "\n",
        "You can use the `probs.log_prob` method to get the log probabilities that correspond to the actions in `mb_action`.\n",
        "\n",
        "Note - if you're wondering why we're using a `Categorical` type rather than just using `log_prob` directly, it's because we'll be using them to sample actions later on in our `train_ppo` function. Also, categoricals have a useful method for returning the entropy of a distribution (which will be useful for the entropy term in the loss function).\n"
      ]
    },
    {
      "cell_type": "markdown",
      "source": [
        "### Exercise - write `calc_clipped_surrogate_objective`\n",
        "\n",
        "```c\n",
        "Difficulty: 🔴🔴🔴⚪⚪\n",
        "Importance: 🔵🔵🔵🔵⚪\n",
        "\n",
        "You should spend up to 10-25 minutes on this exercise.\n",
        "```"
      ],
      "metadata": {
        "id": "7zTB9kfaBPeW"
      }
    },
    {
      "cell_type": "markdown",
      "source": [
        "Implement the function below. A few last things to note:\n",
        "\n",
        "- Our `mb_action` has shape `(minibatch_size, *action_shape)`, but in most of the environments we're dealing with (CartPole, and later the Breakout Atari env) the action shape is an empty tuple, which is why we have the assert statement at the start of this function.\n",
        "- Don't forget to normalize advantages, and add epsilon to the denominator!\n",
        "- The clip formula can be a bit finnicky (i.e. when you take signs and max/mins), we recommend breaking the computation onto a few separate lines rather than doing it all in one go!"
      ],
      "metadata": {
        "id": "aTYy3F3P48ic"
      }
    },
    {
      "cell_type": "code",
      "execution_count": null,
      "metadata": {
        "id": "bvCGUl1CJWQk",
        "colab": {
          "base_uri": "https://localhost:8080/"
        },
        "outputId": "342d1094-e1d3-4014-e0e6-318cf4f0eb73"
      },
      "outputs": [
        {
          "output_type": "stream",
          "name": "stdout",
          "text": [
            "All tests in `test_calc_clipped_surrogate_objective` passed.\n"
          ]
        }
      ],
      "source": [
        "def calc_clipped_surrogate_objective(\n",
        "    probs: Categorical,\n",
        "    mb_action: Int[Tensor, \"minibatch_size *action_shape\"],\n",
        "    mb_advantages: Float[Tensor, \"minibatch_size\"],\n",
        "    mb_logprobs: Float[Tensor, \"minibatch_size\"],\n",
        "    clip_coef: float,\n",
        "    eps: float = 1e-8\n",
        ") -> Float[Tensor, \"\"]:\n",
        "    '''Return the clipped surrogate objective, suitable for maximisation with gradient ascent.\n",
        "\n",
        "    probs:\n",
        "        a distribution containing the actor's unnormalized logits of shape (minibatch_size, num_actions)\n",
        "    mb_action:\n",
        "        what actions actions were taken in the sampled minibatch\n",
        "    mb_advantages:\n",
        "        advantages calculated from the sampled minibatch\n",
        "    mb_logprobs:\n",
        "        logprobs of the actions taken in the sampled minibatch (according to the old policy)\n",
        "    clip_coef:\n",
        "        amount of clipping, denoted by epsilon in Eq 7.\n",
        "    eps:\n",
        "        used to add to std dev of mb_advantages when normalizing (to avoid dividing by zero)\n",
        "    '''\n",
        "    assert mb_action.shape == mb_advantages.shape == mb_logprobs.shape\n",
        "    logprobs = probs.log_prob(mb_action)\n",
        "    r_t = t.exp(logprobs - mb_logprobs)\n",
        "    norm_advantages = (mb_advantages - mb_advantages.mean()) / (mb_advantages.std() + eps)\n",
        "    left = r_t * norm_advantages\n",
        "    right = t.clip(r_t, 1-clip_coef, 1+clip_coef) * norm_advantages\n",
        "    return t.minimum(left, right).mean()\n",
        "\n",
        "tests.test_calc_clipped_surrogate_objective(calc_clipped_surrogate_objective)"
      ]
    },
    {
      "cell_type": "markdown",
      "metadata": {
        "id": "jxwojj46JWQk"
      },
      "source": [
        "### Value Function Loss ([detail #9](https://iclr-blog-track.github.io/2022/03/25/ppo-implementation-details/#:~:text=Value%20Function%20Loss%20Clipping))\n",
        "\n",
        "The value function loss lets us improve the parameters of our critic. Today we're going to implement the simple form: this is just the mean squared difference between the following two terms:\n",
        "\n",
        "* The **critic's prediction**\n",
        "    * This is $V_\\theta(s_t)$ in the paper, and `values` in the diagram earlier (colored blue).\n",
        "* The **observed returns**\n",
        "    * This is $V_t^\\text{targ}$ in the paper, and `returns` in the diagram earlier (colored yellow).\n",
        "    * We defined it as `advantages + values`, where in this case `values` is the item stored in memory rather than the one computed by our network during the learning phase. We can interpret `returns` as a more accurate estimate of values, since the `advantages` term takes into account the rewards $r_{t+1}, r_{t+2}, ...$ which our agent actually accumulated.\n",
        "\n",
        "The PPO paper did a more complicated thing with clipping, but we're going to deviate from the paper and NOT clip, since [detail #9](https://iclr-blog-track.github.io/2022/03/25/ppo-implementation-details/#:~:text=Value%20Function%20Loss%20Clipping) gives evidence that it isn't beneficial. $\\,$\n"
      ]
    },
    {
      "cell_type": "markdown",
      "metadata": {
        "id": "1Z-oIvMFJWQk"
      },
      "source": [
        "### Exercise - write `calc_value_function_loss`\n",
        "\n",
        "```c\n",
        "Difficulty: 🔴🔴⚪⚪⚪\n",
        "Importance: 🔵🔵🔵⚪⚪\n",
        "\n",
        "You should spend up to ~10 minutes on this exercise.\n",
        "```\n",
        "\n",
        "Implement `calc_value_function_loss` which returns the term denoted $c_1 L_t^{VF}$ in equation $(9)$.\n"
      ]
    },
    {
      "cell_type": "code",
      "execution_count": null,
      "metadata": {
        "id": "cEnEw2QrJWQk",
        "colab": {
          "base_uri": "https://localhost:8080/"
        },
        "outputId": "2e3894ab-165f-4aaa-85c5-40e6897f2dd6"
      },
      "outputs": [
        {
          "output_type": "stream",
          "name": "stdout",
          "text": [
            "All tests in `test_calc_value_function_loss` passed!\n"
          ]
        }
      ],
      "source": [
        "def calc_value_function_loss(\n",
        "    values: Float[Tensor, \"minibatch_size\"],\n",
        "    mb_returns: Float[Tensor, \"minibatch_size\"],\n",
        "    vf_coef: float\n",
        ") -> Float[Tensor, \"\"]:\n",
        "    '''Compute the value function portion of the loss function.\n",
        "\n",
        "    values:\n",
        "        the value function predictions for the sampled minibatch (using the updated critic network)\n",
        "    mb_returns:\n",
        "        the target for our updated critic network (computed as `advantages + values` from the old network)\n",
        "    vf_coef:\n",
        "        the coefficient for the value loss, which weights its contribution to the overall loss. Denoted by c_1 in the paper.\n",
        "    '''\n",
        "    assert values.shape == mb_returns.shape\n",
        "    return vf_coef * ((values - mb_returns) ** 2).mean()\n",
        "\n",
        "\n",
        "tests.test_calc_value_function_loss(calc_value_function_loss)"
      ]
    },
    {
      "cell_type": "markdown",
      "metadata": {
        "id": "XwNbdkJSJWQl"
      },
      "source": [
        "### Entropy Bonus ([detail #10](https://iclr-blog-track.github.io/2022/03/25/ppo-implementation-details/#:~:text=Overall%20Loss%20and%20Entropy%20Bonus))\n",
        "\n",
        "The entropy bonus term is intended to incentivize exploration by increasing the entropy of the actions distribution. For a discrete probability distribution $p$, the entropy $H$ is defined as\n",
        "$$\n",
        "H(p) = \\sum_x p(x) \\ln \\frac{1}{p(x)}\n",
        "$$\n",
        "If $p(x) = 0$, then we define $0 \\ln \\frac{1}{0} := 0$ (by taking the limit as $p(x) \\to 0$).\n",
        "You should understand what entropy of a discrete distribution means, but you don't have to implement it yourself: `probs.entropy` computes it using the above formula but in a numerically stable way, and in\n",
        "a way that handles the case where $p(x) = 0$.\n",
        "\n",
        "Question: in CartPole, what are the minimum and maximum values that entropy can take? What behaviors correspond to each of these cases?\n",
        "\n",
        "<details>\n",
        "<summary>Answer</summary>\n",
        "\n",
        "The minimum entropy is zero, under the policy \"always move left\" or \"always move right\".\n",
        "\n",
        "The maximum entropy is $\\ln(2) \\approx 0.693$ under the uniform random policy over the 2 actions.\n",
        "</details>\n",
        "\n",
        "Separately from its role in the loss function, the entropy of our action distribution is a useful diagnostic to have: if the entropy of agent's actions is near the maximum, it's playing nearly randomly which means it isn't learning anything (assuming the optimal policy isn't random). If it is near the minimum especially early in training, then the agent might not be exploring enough.\n"
      ]
    },
    {
      "cell_type": "markdown",
      "metadata": {
        "id": "NKEWHrRJJWQl"
      },
      "source": [
        "### Exercise - write `calc_entropy_bonus`\n",
        "\n",
        "```c\n",
        "Difficulty: 🔴⚪⚪⚪⚪\n",
        "Importance: 🔵🔵🔵⚪⚪\n",
        "\n",
        "You should spend up to 5-10 minutes on this exercise.\n",
        "```\n"
      ]
    },
    {
      "cell_type": "code",
      "execution_count": null,
      "metadata": {
        "id": "GJNCM_5lJWQl",
        "colab": {
          "base_uri": "https://localhost:8080/"
        },
        "outputId": "2068e654-85b9-4527-dc82-8381e2c4263d"
      },
      "outputs": [
        {
          "output_type": "stream",
          "name": "stdout",
          "text": [
            "All tests in `test_calc_entropy_bonus` passed!\n"
          ]
        }
      ],
      "source": [
        "def calc_entropy_bonus(probs: Categorical, ent_coef: float):\n",
        "    '''Return the entropy bonus term, suitable for gradient ascent.\n",
        "\n",
        "    probs:\n",
        "        the probability distribution for the current policy\n",
        "    ent_coef:\n",
        "        the coefficient for the entropy loss, which weights its contribution to the overall objective function. Denoted by c_2 in the paper.\n",
        "    '''\n",
        "    return ent_coef * probs.entropy().mean()\n",
        "\n",
        "\n",
        "tests.test_calc_entropy_bonus(calc_entropy_bonus)"
      ]
    },
    {
      "cell_type": "markdown",
      "metadata": {
        "id": "qysj4hsGJWQm"
      },
      "source": [
        "## Adam Optimizer & Scheduler (details [#3](https://iclr-blog-track.github.io/2022/03/25/ppo-implementation-details/#:~:text=The%20Adam%20Optimizer%E2%80%99s%20Epsilon%20Parameter) & [#4](https://iclr-blog-track.github.io/2022/03/25/ppo-implementation-details/#:~:text=Adam%20Learning%20Rate%20Annealing))\n",
        "\n",
        "Even though Adam is already an adaptive learning rate optimizer, empirically it's still beneficial to decay the learning rate.\n",
        "\n"
      ]
    },
    {
      "cell_type": "markdown",
      "metadata": {
        "id": "JjwoQnvtJWQm"
      },
      "source": [
        "### Exercise - implement `PPOScheduler`\n",
        "\n",
        "```c\n",
        "Difficulty: 🔴🔴🔴⚪⚪\n",
        "Importance: 🔵🔵⚪⚪⚪\n",
        "\n",
        "You should spend up to 10-15 minutes on this exercise.\n",
        "```\n",
        "\n",
        "Implement a linear decay from `initial_lr` to `end_lr` over `total_training_steps` steps. Also, make sure you read details details [#3](https://iclr-blog-track.github.io/2022/03/25/ppo-implementation-details/#:~:text=The%20Adam%20Optimizer%E2%80%99s%20Epsilon%20Parameter) and [#4](https://iclr-blog-track.github.io/2022/03/25/ppo-implementation-details/#:~:text=Adam%20Learning%20Rate%20Annealing) so you don't miss any of the Adam implementational details.\n",
        "\n",
        "Note, the training terminates after `num_updates`, so you don't need to worry about what the learning rate will be after this point.\n"
      ]
    },
    {
      "cell_type": "code",
      "execution_count": null,
      "metadata": {
        "id": "PmZD54YkJWQm",
        "colab": {
          "base_uri": "https://localhost:8080/"
        },
        "outputId": "29726097-2405-45da-f831-349199fd50ca"
      },
      "outputs": [
        {
          "output_type": "stream",
          "name": "stdout",
          "text": [
            "All tests in `test_ppo_scheduler` passed!\n"
          ]
        }
      ],
      "source": [
        "class PPOScheduler:\n",
        "    def __init__(self, optimizer: Optimizer, initial_lr: float, end_lr: float, total_training_steps: int):\n",
        "        self.optimizer = optimizer\n",
        "        self.initial_lr = initial_lr\n",
        "        self.end_lr = end_lr\n",
        "        self.total_training_steps = total_training_steps\n",
        "        self.n_step_calls = 0\n",
        "        self.all_steps = t.linspace(self.initial_lr, self.end_lr, self.total_training_steps+1)\n",
        "\n",
        "    def step(self):\n",
        "        '''Implement linear learning rate decay so that after total_training_steps calls to step, the learning rate is end_lr.\n",
        "\n",
        "        Do this by directly editing the learning rates inside each param group (i.e. `param_group[\"lr\"] = ...`), for each param\n",
        "        group in `self.optimizer.param_groups`.\n",
        "        '''\n",
        "        self.n_step_calls += 1\n",
        "        for param_group in self.optimizer.param_groups:\n",
        "          param_group[\"lr\"] = self.all_steps[self.n_step_calls]\n",
        "\n",
        "\n",
        "\n",
        "\n",
        "def make_optimizer(agent: PPOAgent, total_training_steps: int, initial_lr: float, end_lr: float) -> tuple[optim.Adam, PPOScheduler]:\n",
        "    '''Return an appropriately configured Adam with its attached scheduler.'''\n",
        "    optimizer = optim.Adam(agent.parameters(), lr=initial_lr, eps=1e-5, maximize=True)\n",
        "    scheduler = PPOScheduler(optimizer, initial_lr, end_lr, total_training_steps)\n",
        "    return (optimizer, scheduler)\n",
        "\n",
        "\n",
        "tests.test_ppo_scheduler(PPOScheduler)"
      ]
    },
    {
      "cell_type": "markdown",
      "metadata": {
        "id": "RPl7PxPyJWQm"
      },
      "source": [
        "# 3️⃣ Training Loop\n"
      ]
    },
    {
      "cell_type": "markdown",
      "metadata": {
        "id": "RQ6cuYkAJWQn"
      },
      "source": [
        "> ##### Learning objectives\n",
        ">\n",
        "> * Build a full training loop for the PPO algorithm\n",
        "> * Train our agent, and visualise its performance with Weights & Biases media logger\n",
        "> * Use reward shaping to improve your agent's training (and make it do tricks!)\n"
      ]
    },
    {
      "cell_type": "markdown",
      "metadata": {
        "id": "JIxCj_fiJWQn"
      },
      "source": [
        "## Writing your training loop\n"
      ]
    },
    {
      "cell_type": "markdown",
      "metadata": {
        "id": "PTV-Ha59JWQn"
      },
      "source": [
        "Finally, we can package this all together into our full training loop. Under this implementation, you have two main methods to fill in - `rollout_phase` and `learning_phase`. These will do the following:\n",
        "\n",
        "* `rollout_phase`\n",
        "    * Step the agent through the environment for `args.num_steps` total steps, collecting data into the replay memory.\n",
        "    * If using `wandb`, log any relevant variables.\n",
        "    * Return the most recent episode length (or `None` if no episodes terminated in any environment in this rollout phase) - this is for the progress bar, so you can see if your agent is improving.\n",
        "        * Hint - the `infos` dicts returned by your agent's `play_step` method will contain key-value pair `(\"episode\", {\"l\": episode_length, \"r\": episode_reward})`. Episode length is especially useful to log.\n",
        "* `learning_phase`\n",
        "    * Sample from the replay memory using `agent.get_minibatches()` (which returns a list of minibatches).\n",
        "        * Note - calling this function also empties the memory, so you don't need to worry about doing this manually.\n",
        "    * Iterate over these minibatches, and for each minibatch:\n",
        "        * Calculate the total objective function.\n",
        "        * Backpropagate the loss.\n",
        "        * Update the agent's parameters using the optimizer.\n",
        "        * **Clip the gradients** in accordance with [detail #11](https://iclr-blog-track.github.io/2022/03/25/ppo-implementation-details/#:~:text=Global%20Gradient%20Clipping%20)\n",
        "            * You can use `nn.utils.clip_grad_norm(parameters, max_norm)` for this - see [documentation page](https://pytorch.org/docs/stable/generated/torch.nn.utils.clip_grad_norm_.html).\n",
        "        * Step the scheduler.\n",
        "    * If using `wandb`, log any relevant variables.\n",
        "\n",
        "We've also given you the template for `compute_ppo_objective`. You can fill this method in, then call it within `learning_phase`.\n",
        "\n",
        "Lastly, we've written the `train` function for you (it's structured very similarly to the DQN `train` function from yesterday). The rough structure is:\n",
        "\n",
        "```python\n",
        "# initialise PPOArgs and PPOTrainer objects\n",
        "for phase in args.total_phases:\n",
        "    trainer.rollout_phase()\n",
        "    trainer.learning_phase()\n",
        "    # log any relevant variables\n",
        "```\n",
        "\n",
        "### Data Logging\n",
        "\n",
        "You should mostly only focus on logging once you've got a mininal version of the code working. Once you do, you can try logging variables in the way described by [detail #12](https://iclr-blog-track.github.io/2022/03/25/ppo-implementation-details/#:~:text=Debug%20variables). This will involve adding code to the `rollout_phase` and `learning_phase` methods.\n",
        "\n",
        "Remember, you can log variables using `wandb.log({\"variable_name\": variable_value}, step=step)`.\n",
        "\n",
        "### Video Logging\n",
        "\n",
        "To control the frequency of video logging, you can edit the `make_env` function, which is found in the `part3_ppo.utils` file. In particular, the following code:\n",
        "\n",
        "```python\n",
        "env = gym.wrappers.RecordVideo(\n",
        "    env,\n",
        "    f\"videos/{run_name}\",\n",
        "    episode_trigger = lambda x : x % video_log_freq == 0\n",
        ")\n",
        "```\n",
        "\n",
        "creates a wrapper which logs video every `video_log_freq` episodes. You can change this argument, or you can use the argument `step_trigger` rather than `episode_trigger` to make the logging more uniform (because an episode-based trigger will log more frequently at first, because the episodes are shorter).\n",
        "\n",
        "For now you can leave this code as it is, because the default values should work fine."
      ]
    },
    {
      "cell_type": "markdown",
      "metadata": {
        "id": "jEep0ZKnJWQn"
      },
      "source": [
        "### Exercise - complete the `PPOTrainer` class\n",
        "\n",
        "```c\n",
        "Difficulty: 🔴🔴🔴🔴🔴\n",
        "Importance: 🔵🔵🔵🔵🔵\n",
        "\n",
        "You should spend up to 30-60 minutes on this exercise (including logging).\n",
        "```\n",
        "\n",
        "If you get stuck at any point during this implementation, you can look at the solutions or send a message in the Slack channel for help."
      ]
    },
    {
      "cell_type": "code",
      "execution_count": null,
      "metadata": {
        "id": "vEAxjHywJWQn"
      },
      "outputs": [],
      "source": [
        "class PPOTrainer:\n",
        "\n",
        "    def __init__(self, args: PPOArgs):\n",
        "        set_global_seeds(args.seed)\n",
        "        self.args = args\n",
        "        self.run_name = f\"{args.env_id}__{args.exp_name}__{args.seed}__{int(time.time())}\"\n",
        "        self.envs = gym.vector.SyncVectorEnv([make_env(args.env_id, args.seed + i, i, args.capture_video, self.run_name, args.mode) for i in range(args.num_envs)])\n",
        "        self.agent = PPOAgent(self.args, self.envs).to(device)\n",
        "        self.optimizer, self.scheduler = make_optimizer(self.agent, self.args.total_training_steps, self.args.learning_rate, 0.0)\n",
        "\n",
        "\n",
        "    def rollout_phase(self) -> Optional[int]:\n",
        "        '''\n",
        "        This function populates the memory with a new set of experiences, using `self.agent.play_step`\n",
        "        to step through the environment. It also returns the episode length of the most recently terminated\n",
        "        episode (used in the progress bar readout).\n",
        "        '''\n",
        "        last_episode_len = None\n",
        "        for step in range(self.args.num_steps):\n",
        "            infos = self.agent.play_step()\n",
        "            for info in infos:\n",
        "                if \"episode\" in info.keys():\n",
        "                    last_episode_len = info[\"episode\"][\"l\"]\n",
        "                    last_episode_return = info[\"episode\"][\"r\"]\n",
        "                    if self.args.use_wandb: wandb.log({\n",
        "                        \"episode_length\": last_episode_len,\n",
        "                        \"episode_return\": last_episode_return,\n",
        "                    }, step=self.agent.step)\n",
        "        return last_episode_len\n",
        "\n",
        "\n",
        "    def learning_phase(self) -> None:\n",
        "        '''\n",
        "        This function does the following:\n",
        "\n",
        "            - Generates minibatches from memory\n",
        "            - Calculates the objective function, and takes an optimization step based on it\n",
        "            - Clips the gradients (see detail #11)\n",
        "            - Steps the learning rate scheduler\n",
        "        '''\n",
        "        # obs, actions, logprobs, advantages, returns, dones\n",
        "        for minibatch in self.agent.get_minibatches():\n",
        "          loss = self.compute_ppo_objective(minibatch)\n",
        "          self.optimizer.zero_grad()\n",
        "          loss.backward()\n",
        "          nn.utils.clip_grad_norm(self.agent.parameters(), self.args.max_grad_norm)\n",
        "          self.optimizer.step()\n",
        "          self.scheduler.step()\n",
        "\n",
        "\n",
        "    def compute_ppo_objective(self, minibatch: ReplayMinibatch) -> Float[Tensor, \"\"]:\n",
        "        '''\n",
        "        Handles learning phase for a single minibatch. Returns objective function to be maximized.\n",
        "        '''\n",
        "        actions = self.agent.actor(minibatch.observations)\n",
        "        values = self.agent.critic(minibatch.observations).squeeze()\n",
        "        dist = Categorical(logits=actions)\n",
        "        L_clip = calc_clipped_surrogate_objective(dist,\n",
        "                                                  minibatch.actions,\n",
        "                                                  minibatch.advantages,\n",
        "                                                  minibatch.logprobs,\n",
        "                                                  self.args.clip_coef)\n",
        "        L_vf = calc_value_function_loss(values, minibatch.returns, self.args.vf_coef)\n",
        "        S = calc_entropy_bonus(dist, self.args.ent_coef)\n",
        "        return L_clip - L_vf + S\n",
        "\n",
        "\n",
        "    def train(self) -> None:\n",
        "\n",
        "        if args.use_wandb: wandb.init(\n",
        "            project=self.args.wandb_project_name,\n",
        "            entity=self.args.wandb_entity,\n",
        "            name=self.run_name,\n",
        "            monitor_gym=self.args.capture_video\n",
        "        )\n",
        "\n",
        "        progress_bar = tqdm(range(self.args.total_phases))\n",
        "\n",
        "        for epoch in progress_bar:\n",
        "\n",
        "            last_episode_len = self.rollout_phase()\n",
        "            if last_episode_len is not None:\n",
        "                progress_bar.set_description(f\"Epoch {epoch:02}, Episode length: {last_episode_len}\")\n",
        "\n",
        "            self.learning_phase()\n",
        "\n",
        "        self.envs.close()\n",
        "        if self.args.use_wandb:\n",
        "            wandb.finish()"
      ]
    },
    {
      "cell_type": "markdown",
      "source": [
        "<details>\n",
        "<summary>Solution (full)</summary>\n",
        "\n",
        "```python\n",
        "def rollout_phase(self) -> Optional[int]:\n",
        "    '''\n",
        "    This function populates the memory with a new set of experiences, using `self.agent.play_step`\n",
        "    to step through the environment. It also returns the episode length of the most recently terminated\n",
        "    episode (used in the progress bar readout).\n",
        "    '''\n",
        "    # SOLUTION\n",
        "    last_episode_len = None\n",
        "    for step in range(self.args.num_steps):\n",
        "        infos = self.agent.play_step()\n",
        "        for info in infos:\n",
        "            if \"episode\" in info.keys():\n",
        "                last_episode_len = info[\"episode\"][\"l\"]\n",
        "                last_episode_return = info[\"episode\"][\"r\"]\n",
        "                if self.args.use_wandb: wandb.log({\n",
        "                    \"episode_length\": last_episode_len,\n",
        "                    \"episode_return\": last_episode_return,\n",
        "                }, step=self.agent.step)\n",
        "    return last_episode_len\n",
        "\n",
        "\n",
        "def learning_phase(self) -> None:\n",
        "    '''\n",
        "    This function does the following:\n",
        "\n",
        "        - Generates minibatches from memory\n",
        "        - Calculates the objective function, and takes an optimization step based on it\n",
        "        - Clips the gradients (see detail #11)\n",
        "        - Steps the learning rate scheduler\n",
        "    '''\n",
        "    # SOLUTION\n",
        "    minibatches = self.agent.get_minibatches()\n",
        "    for minibatch in minibatches:\n",
        "        objective_fn = self.compute_ppo_objective(minibatch)\n",
        "        objective_fn.backward()\n",
        "        nn.utils.clip_grad_norm_(self.agent.parameters(), self.args.max_grad_norm)\n",
        "        self.optimizer.step()\n",
        "        self.optimizer.zero_grad()\n",
        "        self.scheduler.step()\n",
        "\n",
        "\n",
        "def compute_ppo_objective(self, minibatch: ReplayMinibatch) -> Float[Tensor, \"\"]:\n",
        "    '''\n",
        "    Handles learning phase for a single minibatch. Returns objective function to be maximized.\n",
        "    '''\n",
        "    # SOLUTION\n",
        "    logits = self.agent.actor(minibatch.observations)\n",
        "    probs = Categorical(logits=logits)\n",
        "    values = self.agent.critic(minibatch.observations).squeeze()\n",
        "\n",
        "    clipped_surrogate_objective = calc_clipped_surrogate_objective(probs, minibatch.actions, minibatch.advantages, minibatch.logprobs, self.args.clip_coef)\n",
        "    value_loss = calc_value_function_loss(values, minibatch.returns, self.args.vf_coef)\n",
        "    entropy_bonus = calc_entropy_bonus(probs, self.args.ent_coef)\n",
        "\n",
        "    total_objective_function = clipped_surrogate_objective - value_loss + entropy_bonus\n",
        "\n",
        "    with t.inference_mode():\n",
        "        newlogprob = probs.log_prob(minibatch.actions)\n",
        "        logratio = newlogprob - minibatch.logprobs\n",
        "        ratio = logratio.exp()\n",
        "        approx_kl = (ratio - 1 - logratio).mean().item()\n",
        "        clipfracs = [((ratio - 1.0).abs() > self.args.clip_coef).float().mean().item()]\n",
        "    if self.args.use_wandb: wandb.log(dict(\n",
        "        total_steps = self.agent.step,\n",
        "        values = values.mean().item(),\n",
        "        learning_rate = self.scheduler.optimizer.param_groups[0][\"lr\"],\n",
        "        value_loss = value_loss.item(),\n",
        "        clipped_surrogate_objective = clipped_surrogate_objective.item(),\n",
        "        entropy = entropy_bonus.item(),\n",
        "        approx_kl = approx_kl,\n",
        "        clipfrac = np.mean(clipfracs)\n",
        "    ), step=self.agent.step)\n",
        "\n",
        "    return total_objective_function\n",
        "```\n",
        "\n",
        "</details>\n",
        "\n",
        "<details>\n",
        "<summary>Solution (simple, no logging)</summary>\n",
        "\n",
        "```python\n",
        "def rollout_phase(self) -> Optional[int]:\n",
        "    '''\n",
        "    This function populates the memory with a new set of experiences, using `self.agent.play_step`\n",
        "    to step through the environment. It also returns the episode length of the most recently terminated\n",
        "    episode (used in the progress bar readout).\n",
        "    '''\n",
        "    # SOLUTION\n",
        "    last_episode_len = None\n",
        "    for step in range(self.args.num_steps):\n",
        "        infos = self.agent.play_step()\n",
        "        for info in infos:\n",
        "            if \"episode\" in info.keys():\n",
        "                last_episode_len = info[\"episode\"][\"l\"]\n",
        "    return last_episode_len\n",
        "\n",
        "\n",
        "def learning_phase(self) -> None:\n",
        "    '''\n",
        "    This function does the following:\n",
        "\n",
        "        - Generates minibatches from memory\n",
        "        - Calculates the objective function, and takes an optimization step based on it\n",
        "        - Clips the gradients (see detail #11)\n",
        "        - Steps the learning rate scheduler\n",
        "    '''\n",
        "    # SOLUTION\n",
        "    minibatches = self.agent.get_minibatches()\n",
        "    for minibatch in minibatches:\n",
        "        objective_fn = self.compute_ppo_objective(minibatch)\n",
        "        objective_fn.backward()\n",
        "        nn.utils.clip_grad_norm_(self.agent.parameters(), self.args.max_grad_norm)\n",
        "        self.optimizer.step()\n",
        "        self.optimizer.zero_grad()\n",
        "        self.scheduler.step()\n",
        "\n",
        "\n",
        "def compute_ppo_objective(self, minibatch: ReplayMinibatch) -> Float[Tensor, \"\"]:\n",
        "    '''\n",
        "    Handles learning phase for a single minibatch. Returns objective function to be maximized.\n",
        "    '''\n",
        "    # SOLUTION\n",
        "    logits = self.agent.actor(minibatch.observations)\n",
        "    probs = Categorical(logits=logits)\n",
        "    values = self.agent.critic(minibatch.observations).squeeze()\n",
        "\n",
        "    clipped_surrogate_objective = calc_clipped_surrogate_objective(probs, minibatch.actions, minibatch.advantages, minibatch.logprobs, self.args.clip_coef)\n",
        "    value_loss = calc_value_function_loss(values, minibatch.returns, self.args.vf_coef)\n",
        "    entropy_bonus = calc_entropy_bonus(probs, self.args.ent_coef)\n",
        "\n",
        "    total_objective_function = clipped_surrogate_objective - value_loss + entropy_bonus\n",
        "\n",
        "    return total_objective_function\n",
        "```\n",
        "\n",
        "</details>"
      ],
      "metadata": {
        "id": "CTMJ_56mMPTK"
      }
    },
    {
      "cell_type": "markdown",
      "source": [
        "Here's some code to run your model on the probe environments (and assert that they're all working fine).\n",
        "\n",
        "A brief recap of the probe environments, along with recommendations of where to go to debug if one of them fails (note that these won't be true 100% of the time, but should hopefully give you some useful direction):\n",
        "\n",
        "* **Probe 1 tests basic learning ability**. If this fails, it means the agent has failed to learn to associate a constant observation with a constant reward. You should check your loss functions and optimizers in this case.\n",
        "* **Probe 2 tests the agent's ability to differentiate between 2 different observations (and learn their respective values)**. If this fails, it means the agent has issues with handling multiple possible observations.\n",
        "* **Probe 3 tests the agent's ability to handle time & reward delay**. If this fails, it means the agent has problems with multi-step scenarios of discounting future rewards. You should look at how your agent step function works.\n",
        "* **Probe 4 tests the agent's ability to learn from actions leading to different rewards**. If this fails, it means the agent has failed to change its policy for different rewards, and you should look closer at how your agent is updating its policy based on the rewards it receives & the loss function.\n",
        "* **Probe 5 tests the agent's ability to map observations to actions**. If this fails, you should look at the code which handles multiple timesteps, as well as the code that handles the agent's map from observations to actions."
      ],
      "metadata": {
        "id": "7b1Wm6yRWvOd"
      }
    },
    {
      "cell_type": "code",
      "source": [
        "def test_probe(probe_idx: int):\n",
        "    '''\n",
        "    Tests a probe environment by training a network on it & verifying that the value functions are\n",
        "    in the expected range.\n",
        "    '''\n",
        "    # Train our network\n",
        "    args = PPOArgs(\n",
        "        env_id=f\"Probe{probe_idx}-v0\",\n",
        "        exp_name=f\"test-probe-{probe_idx}\",\n",
        "        total_timesteps=[7500, 7500, 12500, 20000, 20000][probe_idx-1],\n",
        "        learning_rate=0.001,\n",
        "        capture_video=False,\n",
        "        use_wandb=False,\n",
        "    )\n",
        "    trainer = PPOTrainer(args)\n",
        "    trainer.train()\n",
        "    agent = trainer.agent\n",
        "\n",
        "    # Get the correct set of observations, and corresponding values we expect\n",
        "    obs_for_probes = [[[0.0]], [[-1.0], [+1.0]], [[0.0], [1.0]], [[0.0]], [[0.0], [1.0]]]\n",
        "    expected_value_for_probes = [[[1.0]], [[-1.0], [+1.0]], [[args.gamma], [1.0]], [[1.0]], [[1.0], [1.0]]]\n",
        "    expected_probs_for_probes = [None, None, None, [[0.0, 1.0]], [[1.0, 0.0], [0.0, 1.0]]]\n",
        "    tolerances = [1e-3, 1e-3, 1e-3, 2e-3, 2e-3]\n",
        "    obs = t.tensor(obs_for_probes[probe_idx-1]).to(device)\n",
        "\n",
        "    # Calculate the actual value & probs, and verify them\n",
        "    with t.inference_mode():\n",
        "        value = agent.critic(obs)\n",
        "        probs = agent.actor(obs).softmax(-1)\n",
        "    expected_value = t.tensor(expected_value_for_probes[probe_idx-1]).to(device)\n",
        "    t.testing.assert_close(value, expected_value, atol=tolerances[probe_idx-1], rtol=0)\n",
        "    expected_probs = expected_probs_for_probes[probe_idx-1]\n",
        "    if expected_probs is not None:\n",
        "        t.testing.assert_close(probs, t.tensor(expected_probs).to(device), atol=tolerances[probe_idx-1], rtol=0)\n",
        "    print(\"Probe tests passed!\\n\")\n",
        "\n",
        "\n",
        "for probe_idx in range(1, 6):\n",
        "    test_probe(probe_idx)"
      ],
      "metadata": {
        "id": "Q7OiP8urhLKj",
        "colab": {
          "base_uri": "https://localhost:8080/"
        },
        "outputId": "1306f1c1-9ee1-4741-a42b-5f156583152c"
      },
      "execution_count": null,
      "outputs": [
        {
          "output_type": "stream",
          "name": "stderr",
          "text": [
            "Epoch 13, Episode length: 1: 100%|██████████| 14/14 [00:10<00:00,  1.34it/s]\n"
          ]
        },
        {
          "output_type": "stream",
          "name": "stdout",
          "text": [
            "Probe tests passed!\n",
            "\n"
          ]
        },
        {
          "output_type": "stream",
          "name": "stderr",
          "text": [
            "Epoch 13, Episode length: 1: 100%|██████████| 14/14 [00:05<00:00,  2.51it/s]\n"
          ]
        },
        {
          "output_type": "stream",
          "name": "stdout",
          "text": [
            "Probe tests passed!\n",
            "\n"
          ]
        },
        {
          "output_type": "stream",
          "name": "stderr",
          "text": [
            "Epoch 23, Episode length: 2: 100%|██████████| 24/24 [00:07<00:00,  3.20it/s]\n"
          ]
        },
        {
          "output_type": "stream",
          "name": "stdout",
          "text": [
            "Probe tests passed!\n",
            "\n"
          ]
        },
        {
          "output_type": "stream",
          "name": "stderr",
          "text": [
            "Epoch 38, Episode length: 1: 100%|██████████| 39/39 [00:12<00:00,  3.25it/s]\n"
          ]
        },
        {
          "output_type": "stream",
          "name": "stdout",
          "text": [
            "Probe tests passed!\n",
            "\n"
          ]
        },
        {
          "output_type": "stream",
          "name": "stderr",
          "text": [
            "Epoch 38, Episode length: 1: 100%|██████████| 39/39 [00:13<00:00,  2.97it/s]"
          ]
        },
        {
          "output_type": "stream",
          "name": "stdout",
          "text": [
            "Probe tests passed!\n",
            "\n"
          ]
        },
        {
          "output_type": "stream",
          "name": "stderr",
          "text": [
            "\n"
          ]
        }
      ]
    },
    {
      "cell_type": "markdown",
      "source": [
        "Once you've passed the tests for all 5 probe environments, you should test your model on Cartpole.\n",
        "\n",
        "See an example wandb run you should be getting [here](https://api.wandb.ai/links/callum-mcdougall/fdmhh8gq)."
      ],
      "metadata": {
        "id": "LGB6-JikU4ni"
      }
    },
    {
      "cell_type": "code",
      "source": [
        "args = PPOArgs(use_wandb=True)\n",
        "trainer = PPOTrainer(args)\n",
        "trainer.train()"
      ],
      "metadata": {
        "id": "W9sjlD3ZeSgX",
        "colab": {
          "base_uri": "https://localhost:8080/",
          "height": 404,
          "referenced_widgets": [
            "be0551ec02fd4d3a8ffed87871e37642",
            "543e67fa9f934bb39f3a4dc9f580c56d",
            "df4f6ce371af4a10a0ae88ff57257e36",
            "ccd98dc70b324ff8aabc32238fb168e0",
            "c4249dc33d8143ada21ef6c0d07c3c2e",
            "6af2cd308b344682a877c75e492f5054",
            "a48dab8d8ad6470ab613c51942e66771",
            "1228d2fbd700405a8cd20382b5e74e09"
          ]
        },
        "outputId": "1c40ee19-e500-442b-929e-7dcf6bf5df49"
      },
      "execution_count": null,
      "outputs": [
        {
          "output_type": "stream",
          "name": "stderr",
          "text": [
            "ERROR:wandb.jupyter:Failed to detect the name of this notebook, you can set it manually with the WANDB_NOTEBOOK_NAME environment variable to enable code saving.\n"
          ]
        },
        {
          "output_type": "display_data",
          "data": {
            "text/plain": [
              "<IPython.core.display.Javascript object>"
            ],
            "application/javascript": [
              "\n",
              "        window._wandbApiKey = new Promise((resolve, reject) => {\n",
              "            function loadScript(url) {\n",
              "            return new Promise(function(resolve, reject) {\n",
              "                let newScript = document.createElement(\"script\");\n",
              "                newScript.onerror = reject;\n",
              "                newScript.onload = resolve;\n",
              "                document.body.appendChild(newScript);\n",
              "                newScript.src = url;\n",
              "            });\n",
              "            }\n",
              "            loadScript(\"https://cdn.jsdelivr.net/npm/postmate/build/postmate.min.js\").then(() => {\n",
              "            const iframe = document.createElement('iframe')\n",
              "            iframe.style.cssText = \"width:0;height:0;border:none\"\n",
              "            document.body.appendChild(iframe)\n",
              "            const handshake = new Postmate({\n",
              "                container: iframe,\n",
              "                url: 'https://wandb.ai/authorize'\n",
              "            });\n",
              "            const timeout = setTimeout(() => reject(\"Couldn't auto authenticate\"), 5000)\n",
              "            handshake.then(function(child) {\n",
              "                child.on('authorize', data => {\n",
              "                    clearTimeout(timeout)\n",
              "                    resolve(data)\n",
              "                });\n",
              "            });\n",
              "            })\n",
              "        });\n",
              "    "
            ]
          },
          "metadata": {}
        },
        {
          "output_type": "stream",
          "name": "stderr",
          "text": [
            "\u001b[34m\u001b[1mwandb\u001b[0m: Logging into wandb.ai. (Learn how to deploy a W&B server locally: https://wandb.me/wandb-server)\n",
            "\u001b[34m\u001b[1mwandb\u001b[0m: You can find your API key in your browser here: https://wandb.ai/authorize\n",
            "wandb: Paste an API key from your profile and hit enter, or press ctrl+c to quit:"
          ]
        },
        {
          "name": "stdout",
          "output_type": "stream",
          "text": [
            " ··········\n"
          ]
        },
        {
          "output_type": "stream",
          "name": "stderr",
          "text": [
            "\u001b[34m\u001b[1mwandb\u001b[0m: Appending key for api.wandb.ai to your netrc file: /root/.netrc\n"
          ]
        },
        {
          "output_type": "display_data",
          "data": {
            "text/plain": [
              "<IPython.core.display.HTML object>"
            ],
            "text/html": [
              "wandb version 0.16.4 is available!  To upgrade, please run:\n",
              " $ pip install wandb --upgrade"
            ]
          },
          "metadata": {}
        },
        {
          "output_type": "display_data",
          "data": {
            "text/plain": [
              "<IPython.core.display.HTML object>"
            ],
            "text/html": [
              "Tracking run with wandb version 0.13.10"
            ]
          },
          "metadata": {}
        },
        {
          "output_type": "display_data",
          "data": {
            "text/plain": [
              "<IPython.core.display.HTML object>"
            ],
            "text/html": [
              "Run data is saved locally in <code>/content/chapter2_rl/exercises/wandb/run-20240307_223829-l036f2f4</code>"
            ]
          },
          "metadata": {}
        },
        {
          "output_type": "display_data",
          "data": {
            "text/plain": [
              "<IPython.core.display.HTML object>"
            ],
            "text/html": [
              "Syncing run <strong><a href='https://wandb.ai/csquared/PPOCart/runs/l036f2f4' target=\"_blank\">CartPole-v1__PPO_Implementation__1__1709851088</a></strong> to <a href='https://wandb.ai/csquared/PPOCart' target=\"_blank\">Weights & Biases</a> (<a href='https://wandb.me/run' target=\"_blank\">docs</a>)<br/>"
            ]
          },
          "metadata": {}
        },
        {
          "output_type": "display_data",
          "data": {
            "text/plain": [
              "<IPython.core.display.HTML object>"
            ],
            "text/html": [
              " View project at <a href='https://wandb.ai/csquared/PPOCart' target=\"_blank\">https://wandb.ai/csquared/PPOCart</a>"
            ]
          },
          "metadata": {}
        },
        {
          "output_type": "display_data",
          "data": {
            "text/plain": [
              "<IPython.core.display.HTML object>"
            ],
            "text/html": [
              " View run at <a href='https://wandb.ai/csquared/PPOCart/runs/l036f2f4' target=\"_blank\">https://wandb.ai/csquared/PPOCart/runs/l036f2f4</a>"
            ]
          },
          "metadata": {}
        },
        {
          "output_type": "stream",
          "name": "stderr",
          "text": [
            "Epoch 813, Episode length: 192: 100%|██████████| 976/976 [05:36<00:00,  2.90it/s]\n"
          ]
        },
        {
          "output_type": "display_data",
          "data": {
            "text/plain": [
              "<IPython.core.display.HTML object>"
            ],
            "text/html": [
              "Waiting for W&B process to finish... <strong style=\"color:green\">(success).</strong>"
            ]
          },
          "metadata": {}
        },
        {
          "output_type": "display_data",
          "data": {
            "text/plain": [
              "VBox(children=(Label(value='0.380 MB of 0.389 MB uploaded (0.000 MB deduped)\\r'), FloatProgress(value=0.975176…"
            ],
            "application/vnd.jupyter.widget-view+json": {
              "version_major": 2,
              "version_minor": 0,
              "model_id": "be0551ec02fd4d3a8ffed87871e37642"
            }
          },
          "metadata": {}
        },
        {
          "output_type": "display_data",
          "data": {
            "text/plain": [
              "<IPython.core.display.HTML object>"
            ],
            "text/html": [
              " View run <strong style=\"color:#cdcd00\">CartPole-v1__PPO_Implementation__1__1709851088</strong> at: <a href='https://wandb.ai/csquared/PPOCart/runs/l036f2f4' target=\"_blank\">https://wandb.ai/csquared/PPOCart/runs/l036f2f4</a><br/>Synced 5 W&B file(s), 11 media file(s), 0 artifact file(s) and 0 other file(s)"
            ]
          },
          "metadata": {}
        },
        {
          "output_type": "display_data",
          "data": {
            "text/plain": [
              "<IPython.core.display.HTML object>"
            ],
            "text/html": [
              "Find logs at: <code>./wandb/run-20240307_223829-l036f2f4/logs</code>"
            ]
          },
          "metadata": {}
        }
      ]
    },
    {
      "cell_type": "markdown",
      "metadata": {
        "id": "KIeWFCjoJWQo"
      },
      "source": [
        "<details>\n",
        "<summary>Question - if you've done this correctly (and logged everything), clipped surrogate objective will be close to zero. Should you infer from this that it's not important in the overall algorithm (compared to the components of the objective function which are larger)?</summary>\n",
        "\n",
        "No, this doesn't mean that it's not important.\n",
        "\n",
        "Clipped surrogate objective is a moving target. At each rollout phase, we generate new experiences, and the expected value of the clipped surrogate objective will be zero (because the expected value of advantages is zero). But this doesn't mean that differentiating clipped surrogate objective wrt the policy doesn't have a large gradient!\n",
        "\n",
        "As we make update steps in the learning phase, the policy values $\\pi(a_t \\mid s_t)$ will increase for actions which have positive advantages, and decrease for actions which have negative advantages, so the clipped surrogate objective will no longer be zero in expectation. But (thanks to the fact that we're clipping changes larger than $\\epsilon$) it will still be very small.\n",
        "\n",
        "</details>\n"
      ]
    },
    {
      "cell_type": "markdown",
      "metadata": {
        "id": "SiQL6gxhJWQp"
      },
      "source": [
        "### Catastrophic forgetting\n",
        "\n",
        "Note - you might see performance very high initially and then drop off rapidly (before recovering again).\n",
        "\n",
        "<img src=\"https://raw.githubusercontent.com/callummcdougall/computational-thread-art/master/example_images/misc/cf2.png\" width=\"600\">\n",
        "\n",
        "(This plot shows episodic return, which in this case is identical to episodic length.)\n",
        "\n",
        "This is a well-known RL phenomena called **catastrophic forgetting**. It happens when the memory only contains good experiences, and the agent forgets how to recover from bad experiences. One way to fix this is to change your buffer to keep 10 of experiences from previous epochs, and 90% of experiences from the current epoch. Can you implement this?\n",
        "\n",
        "(Note - reward shaping can also help fix this problem - see next section.)\n"
      ]
    },
    {
      "cell_type": "markdown",
      "metadata": {
        "id": "1zicYLfRJWQp"
      },
      "source": [
        "## Reward Shaping\n",
        "\n",
        "Recall the [docs](https://www.gymlibrary.dev/environments/classic_control/cart_pole/) and [source code](https://github.com/openai/gym/blob/master/gym/envs/classic_control/cartpole.py) for the `CartPole` environment.\n",
        "\n",
        "The current rewards for `CartPole` encourage the agent to keep the episode running for as long as possible, which it then needs to associate with balancing the pole.\n",
        "\n",
        "Here, we inherit from `CartPoleEnv` so that we can modify the dynamics of the environment.\n",
        "\n",
        "Try to modify the reward to make the task as easy to learn as possible. Compare this against your performance on the original environment, and see if the agent learns faster with your shaped reward. If you can bound the reward on each timestep between 0 and 1, this will make comparing the results to `CartPole-v1` easier.\n",
        "\n",
        "<br>\n",
        "\n",
        "<details>\n",
        "<summary>Help - I'm not sure what I'm meant to return in this function.</summary>\n",
        "\n",
        "The tuple `(obs, reward, done, info)` is returned from the CartPole environment. Here, `rew` is always 1 unless the episode has terminated.\n",
        "\n",
        "You should change this, so that `reward` incentivises good behaviour, even if the pole hasn't fallen yet. You can use the information returned in `obs` to construct a new reward function.\n",
        "\n",
        "</details>\n",
        "\n",
        "<details>\n",
        "<summary>Help - I'm confused about how to choose a reward function. (Try and think about this for a while before looking at this dropdown.)</summary>\n",
        "\n",
        "Right now, the agent always gets a reward of 1 for each timestep it is active. You should try and change this so that it gets a reward between 0 and 1, which is closer to 1 when the agent is performing well / behaving stably, and equals 0 when the agent is doing very poorly.\n",
        "\n",
        "The variables we have available to us are cart position, cart velocity, pole angle, and pole angular velocity, which I'll denote as $x$, $v$, $\\theta$ and $\\omega$.\n",
        "\n",
        "Here are a few suggestions which you can try out:\n",
        "* $r = 1 - (\\theta / \\theta_{\\text{max}})^2$. This will have the effect of keeping the angle close to zero.\n",
        "* $r = 1 - (x / x_{\\text{max}})^2$. This will have the effect of pushing it back towards the centre of the screen (i.e. it won't tip and fall to the side of the screen).\n",
        "\n",
        "You could also try using e.g. $|\\theta / \\theta_{\\text{max}}|$ rather than $(\\theta / \\theta_{\\text{max}})^2$. This would still mean reward is in the range (0, 1), but it would result in a larger penalty for very small deviations from the vertical position.\n",
        "\n",
        "You can also try a linear combination of two or more of these rewards!\n",
        "</details>\n",
        "\n",
        "\n",
        "<details>\n",
        "<summary>Help - my agent's episodic return is smaller than it was in the original CartPole environment.</summary>\n",
        "\n",
        "This is to be expected, because your reward function is no longer always 1 when the agent is upright. Both your time-discounted reward estimates and your actual realised rewards will be less than they were in the cartpole environment.\n",
        "\n",
        "For a fairer test, measure the length of your episodes - hopefully your agent learns how to stay upright for the entire 500 timestep interval as fast as or faster than it did previously.\n",
        "</details>\n",
        "\n",
        "<br>\n",
        "\n",
        "Note - if you want to use the maximum possible values of `x` and `theta` in your reward function (to keep it bounded between 0 and 1) then you can. These values can be found at the [documentation page](https://www.gymlibrary.dev/environments/classic_control/cart_pole/) (note - the actual values you'll want are given in the bullet points below the table, not in the table itself!). You can also use `self.x_threshold` and `self.theta_threshold_radians` to get these values directly (you can look at the source code for `CartPoleEnv` to see how these are calculated).\n"
      ]
    },
    {
      "cell_type": "markdown",
      "metadata": {
        "id": "5O0u3ySDJWQp"
      },
      "source": [
        "### Exercise - implement reward shaping\n",
        "\n",
        "```c\n",
        "Difficulty: 🔴🔴🔴⚪⚪\n",
        "Importance: 🔵🔵🔵⚪⚪\n",
        "\n",
        "You should spend up to 15-30 minutes on this exercise.\n",
        "```\n"
      ]
    },
    {
      "cell_type": "markdown",
      "source": [
        "See [this link](https://api.wandb.ai/links/callum-mcdougall/p7e739rp) for what an ideal wandb run here should look like (using the reward function in the solutions)."
      ],
      "metadata": {
        "id": "EdX9XV88EPlT"
      }
    },
    {
      "cell_type": "code",
      "execution_count": null,
      "metadata": {
        "id": "PtDvwPtkJWQp"
      },
      "outputs": [],
      "source": [
        "from gym.envs.classic_control.cartpole import CartPoleEnv\n",
        "\n",
        "class EasyCart(CartPoleEnv):\n",
        "    def step(self, action):\n",
        "        (obs, reward, done, info) = super().step(action)\n",
        "        x, v, theta, omega = obs\n",
        "        pass\n",
        "\n",
        "\n",
        "gym.envs.registration.register(id=\"EasyCart-v0\", entry_point=EasyCart, max_episode_steps=500)\n",
        "args = PPOArgs(env_id=\"EasyCart-v0\", use_wandb=True)\n",
        "trainer = PPOTrainer(args)\n",
        "trainer.train()"
      ]
    },
    {
      "cell_type": "markdown",
      "metadata": {
        "id": "OGxao61fJWQp"
      },
      "source": [
        "<details>\n",
        "<summary>Solution (one possible implementation)</summary>\n",
        "\n",
        "I tried out a few different simple reward functions here. One of the best ones I found used a mix of absolute value penalties for both the angle and the horizontal position (this outperformed using absolute value penalty for just one of these two). My guess as to why this is the case - penalising by horizontal position helps the agent improve its long-term strategy, and penalising by angle helps the agent improve its short-term strategy, so both combined work better than either on their own.\n",
        "\n",
        "```python\n",
        "class EasyCart(CartPoleEnv):\n",
        "    def step(self, action):\n",
        "        (obs, rew, done, info) = super().step(action)\n",
        "        x, v, theta, omega = obs\n",
        "        # SOLUTION\n",
        "\n",
        "        # First reward: angle should be close to zero\n",
        "        rew_1 = 1 - abs(theta / 0.2095)\n",
        "        # Second reward: position should be close to the center\n",
        "        rew_2 = 1 - abs(x / 2.4)\n",
        "\n",
        "        # Combine both rewards (keep it in the [0, 1] range)\n",
        "        rew_new = (rew_1 + rew_2) / 2\n",
        "\n",
        "        return (obs, rew_new, done, info)\n",
        "```\n",
        "\n",
        "The result:\n",
        "\n",
        "<img src=\"https://raw.githubusercontent.com/callummcdougall/computational-thread-art/master/example_images/misc/best-episode-length.png\" width=\"600\">\n",
        "\n",
        "To illustrate the point about different forms of reward optimizing different kinds of behaviour - below are links to three videos generated during the WandB training, one of just position penalisation, one of just angle penalisation, and one of both. Can you guess which is which?\n",
        "\n",
        "* [First video](https://wandb.ai//callum-mcdougall/PPOCart/reports/videos-23-07-07-13-48-08---Vmlldzo0ODI1NDcw?accessToken=uajtb4w1gaqkbrf2utonbg2b93lfdlw9eaet4qd9n6zuegkb3mif7l3sbuke8l4j)\n",
        "* [Second video](https://wandb.ai//callum-mcdougall/PPOCart/reports/videos-23-07-07-13-47-22---Vmlldzo0ODI1NDY2?accessToken=qoss34zyuaso1b5s40nehamsk7nj93ijopmscesde6mjote0i194e7l99sg2k6dg)\n",
        "* [Third video](https://wandb.ai//callum-mcdougall/PPOCart/reports/videos-23-07-07-13-45-15---Vmlldzo0ODI1NDQ4?accessToken=n1btft5zfqx0aqk8wkuh13xtp5mn19q5ga0mpjmvjnn2nq8q62xz4hsomd0vnots)\n",
        "\n",
        "<details>\n",
        "<summary>Answer</summary>\n",
        "\n",
        "* First video = angle penalisation\n",
        "* Second video = both (from the same video as the loss curve above)\n",
        "* Third video = position penalisation\n",
        "\n",
        "</details>\n",
        "\n",
        "</details>\n",
        "\n",
        "<br>\n",
        "\n",
        "Now, change the environment such that the reward incentivises the agent to spin very fast. You may change the termination conditions of the environment (i.e. return a different value for `done`) if you think this will help."
      ]
    },
    {
      "cell_type": "markdown",
      "source": [
        "See [this link](https://api.wandb.ai/links/callum-mcdougall/86y2vtsk) for what an ideal wandb run here should look like (using the reward function in the solutions)."
      ],
      "metadata": {
        "id": "9smD3Yh7EcvQ"
      }
    },
    {
      "cell_type": "code",
      "execution_count": null,
      "metadata": {
        "id": "wazvcyKBJWQq"
      },
      "outputs": [],
      "source": [
        "class SpinCart(CartPoleEnv):\n",
        "\n",
        "    def step(self, action):\n",
        "        obs, reward, done, info = super().step(action)\n",
        "        x, v, theta, omega = obs\n",
        "        pass\n",
        "\n",
        "\n",
        "gym.envs.registration.register(id=\"SpinCart-v0\", entry_point=SpinCart, max_episode_steps=500)\n",
        "args = PPOArgs(env_id=\"SpinCart-v0\", use_wandb=True)\n",
        "trainer = PPOTrainer(args)\n",
        "trainer.train()"
      ]
    },
    {
      "cell_type": "markdown",
      "metadata": {
        "id": "nyk0BsMFJWQq"
      },
      "source": [
        "<details>\n",
        "<summary>Solution (one possible implementation)</summary>\n",
        "\n",
        "```python\n",
        "class SpinCart(CartPoleEnv):\n",
        "\n",
        "    def step(self, action):\n",
        "        obs, rew, done, info = super().step(action)\n",
        "        # YOUR CODE HERE\n",
        "        x, v, theta, omega = obs\n",
        "        # Allow for 360-degree rotation\n",
        "        done = (abs(x) > self.x_threshold)\n",
        "        # Reward function incentivises fast spinning while staying still & near centre\n",
        "        rotation_speed_reward = min(1, 0.1*abs(omega))\n",
        "        stability_penalty = max(1, abs(x/2.5) + abs(v/10))\n",
        "        rew_new = rotation_speed_reward - 0.5 * stability_penalty\n",
        "        return (obs, rew_new, done, info)\n",
        "\n",
        "\n",
        "gym.envs.registration.register(id=\"SpinCart-v0\", entry_point=SpinCart, max_episode_steps=500)\n",
        "args = PPOArgs(env_id=\"SpinCart-v0\", use_wandb=True)\n",
        "agent = train(args)\n",
        "```\n",
        "\n",
        "</details>\n",
        "\n",
        "<br>\n",
        "\n",
        "Another thing you can try is \"dancing\". It's up to you to define what qualifies as \"dancing\" - work out a sensible definition, and the reward function to incentive it."
      ]
    },
    {
      "cell_type": "markdown",
      "source": [
        "# 4️⃣ Atari"
      ],
      "metadata": {
        "id": "B6WVI0yOIovS"
      }
    },
    {
      "cell_type": "markdown",
      "source": [
        "> ##### Learning objectives\n",
        ">\n",
        "> * Understand how PPO can be used in visual domains, with appropriate architectures (CNNs)\n",
        "> * Understand the idea of policy and value heads\n",
        "> * Train an agent to solve the Breakout environment"
      ],
      "metadata": {
        "id": "lJ31H7PGIpZD"
      }
    },
    {
      "cell_type": "markdown",
      "source": [
        "## Setup\n",
        "\n",
        "First, run the following code. If you're working in colab, you may have to restart the kernel and run all cells again (avoid running the actual training code)."
      ],
      "metadata": {
        "id": "dxGVs6vkIqKW"
      }
    },
    {
      "cell_type": "code",
      "source": [
        "%pip install autorom[accept-rom-license]\n",
        "%pip install ale-py"
      ],
      "metadata": {
        "id": "X4lTqab2atWh",
        "colab": {
          "base_uri": "https://localhost:8080/"
        },
        "outputId": "81d9da82-bf5d-4384-9803-29fdc803d938"
      },
      "execution_count": null,
      "outputs": [
        {
          "output_type": "stream",
          "name": "stdout",
          "text": [
            "Requirement already satisfied: autorom[accept-rom-license] in /usr/local/lib/python3.10/dist-packages (0.6.1)\n",
            "Requirement already satisfied: click in /usr/local/lib/python3.10/dist-packages (from autorom[accept-rom-license]) (8.1.7)\n",
            "Requirement already satisfied: requests in /usr/local/lib/python3.10/dist-packages (from autorom[accept-rom-license]) (2.31.0)\n",
            "Requirement already satisfied: AutoROM.accept-rom-license in /usr/local/lib/python3.10/dist-packages (from autorom[accept-rom-license]) (0.6.1)\n",
            "Requirement already satisfied: charset-normalizer<4,>=2 in /usr/local/lib/python3.10/dist-packages (from requests->autorom[accept-rom-license]) (3.3.2)\n",
            "Requirement already satisfied: idna<4,>=2.5 in /usr/local/lib/python3.10/dist-packages (from requests->autorom[accept-rom-license]) (3.6)\n",
            "Requirement already satisfied: urllib3<3,>=1.21.1 in /usr/local/lib/python3.10/dist-packages (from requests->autorom[accept-rom-license]) (2.0.7)\n",
            "Requirement already satisfied: certifi>=2017.4.17 in /usr/local/lib/python3.10/dist-packages (from requests->autorom[accept-rom-license]) (2024.2.2)\n",
            "Requirement already satisfied: ale-py in /usr/local/lib/python3.10/dist-packages (0.7.5)\n",
            "Requirement already satisfied: numpy in /usr/local/lib/python3.10/dist-packages (from ale-py) (1.25.2)\n",
            "Requirement already satisfied: importlib-resources in /usr/local/lib/python3.10/dist-packages (from ale-py) (6.1.2)\n"
          ]
        }
      ]
    },
    {
      "cell_type": "markdown",
      "source": [
        "## Introduction\n",
        "\n",
        "In this section, you'll extend your PPO implementation to play Atari games.\n",
        "\n",
        "The `gym` library supports a variety of different Atari games - you can find them [here](https://www.gymlibrary.dev/environments/atari/) (if you get a message when you click on this link asking whether you want to switch to gymnasium, ignore this and proceed to the gym site). You can try whichever ones you want, but we recommend you stick with the easier environments like Pong, Breakout, and Space Invaders.\n",
        "\n",
        "The environments in this game are very different. Rather than having observations of shape `(4,)` (representing a vector of `(x, v, theta, omega)`), the raw observations are now images of shape `(210, 160, 3)`, representing pixels in the game screen. This leads to a variety of additional challenges relative to the Cartpole environment, for example:\n",
        "\n",
        "* We need a much larger network, because finding the optimal strategy isn't as simple as solving a basic differential equation\n",
        "* Reward shaping is much more difficult, because our observations are low-level and don't contain easily-accessible information about the high-level abstractions in the game (finding these abstractions in the first place is part of the model's challenge!)\n",
        "\n",
        "The action space is also different for each environment. For example, in Breakout, the environment has 4 actions - run the code below to see this (if you get an error, try restarting the kernel and running everything again, minus the library installs)."
      ],
      "metadata": {
        "id": "3BuLnOH2IvLZ"
      }
    },
    {
      "cell_type": "code",
      "source": [
        "env = gym.make(\"ALE/Breakout-v5\")\n",
        "print(env.action_space)"
      ],
      "metadata": {
        "id": "ZGzDAUOJml_l",
        "colab": {
          "base_uri": "https://localhost:8080/"
        },
        "outputId": "9489945f-fd12-41fb-8934-08165fe08566"
      },
      "execution_count": null,
      "outputs": [
        {
          "output_type": "stream",
          "name": "stdout",
          "text": [
            "Discrete(4)\n"
          ]
        }
      ]
    },
    {
      "cell_type": "markdown",
      "source": [
        "These 4 actions are \"do nothing\", \"fire the ball\", \"move right\", and \"move left\" respectively. You can see more details on the game-specific [documentation page](https://www.gymlibrary.dev/environments/atari/breakout/).\n",
        "\n",
        "On this documentation page, you can also see information like the reward for this environment. In this case, the reward comes from breaking bricks in the wall (more reward from breaking bricks higher up). This is a more challenging reward function than the one for CartPole, where a very simple strategy (move in the direction you're tipping) leads directly to a higher reward by marginally prolonging episode length."
      ],
      "metadata": {
        "id": "jVsKfcvvmm40"
      }
    },
    {
      "cell_type": "markdown",
      "source": [
        "### Playing Breakout\n",
        "\n",
        "Just like for Cartpole and MountainCar, we're given you a Python file to play Atari games yourself. The file is called `play_breakout.py`, and running it (i.e. `python play_breakout.py`) will open up a window for you to play the game. Take note of the key instructions, which will be printed in your terminal.\n",
        "\n",
        "You should also be able to try out other games, by changing the relevant parts of the `play_breakout.py` file to match those games' [documentation pages](https://www.gymlibrary.dev/environments/atari/complete_list/)."
      ],
      "metadata": {
        "id": "2X0J5oPaIs0p"
      }
    },
    {
      "cell_type": "markdown",
      "source": [
        "## Implementational details of Atari\n",
        "\n",
        "The [37 Implementational Details of PPO](https://iclr-blog-track.github.io/2022/03/25/ppo-implementation-details/#:~:text=Atari%2Dspecific%20implementation%20details) post describes how to get PPO working for games like Atari. In the sections below, we'll go through these steps."
      ],
      "metadata": {
        "id": "R-OQeAAjI5Gz"
      }
    },
    {
      "cell_type": "markdown",
      "source": [
        "### Wrappers (details [#1-7](https://iclr-blog-track.github.io/2022/03/25/ppo-implementation-details/#:~:text=The%20Use%20of%20NoopResetEnv), and [#9](https://iclr-blog-track.github.io/2022/03/25/ppo-implementation-details/#:~:text=Scaling%20the%20Images%20to%20Range%20%5B0%2C%201%5D))\n",
        "\n",
        "All the extra details except for one are just wrappers on the environment, which implement specific behaviours. For example:\n",
        "\n",
        "* **Frame Skipping** - we repeat the agent's action for a number of frames (by default 4), and sum the reward over these frames. This saves time when the model's forward pass is computationally cheaper than an environment step.\n",
        "* **Image Transformations** - we resize the image from `(210, 160)` to `(L, L)` for some smaller value `L` (in this case we'll use 84), and convert it to grayscale.\n",
        "\n",
        "These wrappers have been implemented for you - to see details, look at the file `part3_ppo/atari_wrappers.py` file (and the `make_env` function in `part3_ppo/utils.py`). We won't spend too much time on these, because they aren't very conceptually interesting."
      ],
      "metadata": {
        "id": "A9pzJ9rTI66p"
      }
    },
    {
      "cell_type": "markdown",
      "source": [
        "### Shared CNN for actor & critic ([detail #8](https://iclr-blog-track.github.io/2022/03/25/ppo-implementation-details/#:~:text=Shared%20Nature%2DCNN%20network))\n",
        "\n",
        "This is the most interesting one conceptually. If we have a new observation space then it naturally follows that we need a new architecture, and if we're working with images then using a convolutional neural network is reasonable. But another particularly interesting feature here is that we use a **shared architecture** for the actor and critic networks. The idea behind this is that the early layers of our model extract features from the environment (i.e. they find the high-level abstractions contained in the image), and then the actor and critic components perform **feature extraction** to turn these features into actions / value estimates respectively. This is commonly referred to as having a **policy head** and a **value head**. We'll see this idea come up later, when we perform RL on transformers."
      ],
      "metadata": {
        "id": "Wbj03Oy4I8Vs"
      }
    },
    {
      "cell_type": "markdown",
      "source": [
        "### Exercise - rewrite `get_actor_and_critic`\n",
        "\n",
        "```c\n",
        "Difficulty: 🔴🔴⚪⚪⚪\n",
        "Importance: 🔵🔵🔵⚪⚪\n",
        "\n",
        "You should spend up to 10-15 minutes on this exercise.\n",
        "```\n",
        "\n",
        "The function `get_actor_and_critic` had a boolean argument `atari`, which we ignored previously, but which we'll now return to. When this argument is `False` then the function should behave exactly as it did before (i.e. the Cartpole version), but when `True` then it should return a shared CNN architecture for the actor and critic. The architecture should be as follows:\n",
        "\n",
        "<img src=\"https://raw.githubusercontent.com/callummcdougall/computational-thread-art/master/example_images/misc/ppo_mermaid_2.svg\" width=\"350\">\n",
        "\n",
        "Note - when calculating the number of input features for the linear layer, you can assume that the value `L` is 4 modulo 8, i.e. we can write `L = 8m + 4` for some integer `m`. This will make the convolutions easier to track. You shouldn't hardcode the number of input features assuming an input shape of `(4, 84, 84)`; this is bad practice!\n",
        "\n",
        "We leave the exercise of finding the number of input features to the linear layer as a challenge for you. If you're stuck, you can find a hint in the section below (this isn't a particularly conceptually important detail).\n",
        "\n",
        "<details>\n",
        "<summary>Help - I don't know what the number of inputs for the linear layer should be.</summary>\n",
        "\n",
        "The linear layer is fed 64 input features. By symmetry of convolutions and of original input, the shape of the linear layer's input (flattened) must have input features `64 * L_new * L_new`. Our only challenge is to find `L_new` in terms of `L`.\n",
        "\n",
        "There's never any padding, so for a conv with parameters `(size, stride)`, the dimensions change as `L -> 1 + (L - size) // stride` (see the [documentation page](https://pytorch.org/docs/stable/generated/torch.nn.Conv2d.html)). So we have:\n",
        "\n",
        "$$\n",
        "\\begin{aligned}\n",
        "8m + 4  \\quad &\\rightarrow  \\quad 1 + \\frac{(8m + 4) - 8}{4} \\quad = \\quad 2m \\\\\n",
        " \\\\\n",
        "2m      \\quad &\\rightarrow  \\quad 1 + \\frac{2m - 4}{2}       \\quad = \\quad m - 1 \\\\\n",
        " \\\\\n",
        "m - 1   \\quad &\\rightarrow  \\quad 1 + \\frac{(m - 1) - 3}{1}  \\quad = \\quad m - 3\n",
        "\\end{aligned}\n",
        "$$\n",
        "\n",
        "For instance, if `L = 84` then `m = 10` and `L_new = m-3 = 7`. So the linear layer is fed 64 features of shape `(64, 7, 7)`\n",
        "\n",
        "</details>\n",
        "\n",
        "Now, you can fill in the `get_actor_and_critic_atari` function below, which is called when we call `get_actor_and_critic` with `mode == \"atari\"`.\n",
        "\n",
        "Note that we take the observation shape as argument, not the number of observations. It should be `(4, L, L)` as indicated by the diagram. The shape `(4, L, L)` is a reflection of the fact that we're using 4 frames of history per input (which helps the model calculate things like velocity), and each of these frames is a monochrome resized square image."
      ],
      "metadata": {
        "id": "zdOCiUVZI-of"
      }
    },
    {
      "cell_type": "code",
      "source": [
        "def get_actor_and_critic_atari(obs_shape: Tuple[int], num_actions: int):\n",
        "    '''\n",
        "    Returns (actor, critic) in the \"atari\" case, according to diagram above.\n",
        "    '''\n",
        "    shared = nn.Sequential(\n",
        "        nn.Conv2d(4,32,kernel_size=8,padding=0,stride=4),\n",
        "        nn.ReLU(),\n",
        "        nn.Conv2d(32,64,kernel_size=4,padding=0,stride=2),\n",
        "        nn.ReLU(),\n",
        "        nn.Conv2d(64,64,kernel_size=3,padding=0,stride=1),\n",
        "        nn.Flatten(),\n",
        "        nn.ReLU(),\n",
        "        nn.Linear(64*7*7,512),\n",
        "        nn.ReLU()\n",
        "    )\n",
        "\n",
        "    actor = nn.Sequential(\n",
        "        shared,\n",
        "        layer_init(nn.Linear(512,num_actions), std=0.01)\n",
        "    )\n",
        "\n",
        "    critic = nn.Sequential(\n",
        "        shared,\n",
        "        layer_init(nn.Linear(512,1), std=1)\n",
        "    )\n",
        "\n",
        "    return (actor, critic)\n",
        "\n",
        "\n",
        "tests.test_get_actor_and_critic(get_actor_and_critic, mode=\"atari\")"
      ],
      "metadata": {
        "id": "KyCkGE__JCk9",
        "colab": {
          "base_uri": "https://localhost:8080/"
        },
        "outputId": "c664e67d-a9aa-4710-c09d-5d2bb3e4db09"
      },
      "execution_count": null,
      "outputs": [
        {
          "output_type": "stream",
          "name": "stdout",
          "text": [
            "All tests in `test_get_actor_and_critic(mode='atari')` passed!\n"
          ]
        }
      ]
    },
    {
      "cell_type": "markdown",
      "source": [
        "## Training Atari\n",
        "\n",
        "Now, you should be able to run an Atari training loop!\n",
        "\n",
        "We recommend you use the following parameters, for fidelity:"
      ],
      "metadata": {
        "id": "nkghZpoCJJF6"
      }
    },
    {
      "cell_type": "code",
      "source": [
        "args = PPOArgs(\n",
        "    env_id = \"ALE/Breakout-v5\",\n",
        "    wandb_project_name = \"PPOAtari\",\n",
        "    use_wandb = True,\n",
        "    mode = \"atari\",\n",
        "    clip_coef = 0.1,\n",
        "    num_envs = 8,\n",
        ")\n",
        "trainer = PPOTrainer(args)\n",
        "trainer.train()"
      ],
      "metadata": {
        "id": "lWfrLBGanxIX",
        "colab": {
          "base_uri": "https://localhost:8080/",
          "height": 550,
          "referenced_widgets": [
            "0c3efd8119b941298b5a97794341f1ed",
            "a51dae250a384ca6b94c76c20c379b8b",
            "9b786a8aa1b94c99b27bd092a3d91ba9",
            "2e38d80c4ce543f2aad996ebb79ba547",
            "f6fb0e622b214a6393cb2946c4850832",
            "90b163de92a648dabc8ec37c595364ec",
            "746179b4632d4a3e949854ff5627f66f",
            "6daca2e339684d5795ec895d6c753dc5",
            "2437c840a2e74309ab46a0b4b6fc78cc",
            "8d0609f994a94895baf7405dbbb8c733",
            "6c9a482612f2413b9a66fefa6ba6a946",
            "cd45aecd43c04f6fbfefed34422a2053",
            "92fb06a27abb460aa2a3c25736e045cb",
            "66511f59f5884052b8bc123152fbb15f",
            "16d0edb76b4b453ab583901f196c77c5",
            "954fd23a95c944e68dae1b2b7b509b90"
          ]
        },
        "outputId": "84b040ea-5127-498c-8eae-6b457c5865cd"
      },
      "execution_count": null,
      "outputs": [
        {
          "output_type": "display_data",
          "data": {
            "text/plain": [
              "<IPython.core.display.HTML object>"
            ],
            "text/html": [
              "Finishing last run (ID:hkcy2nfb) before initializing another..."
            ]
          },
          "metadata": {}
        },
        {
          "output_type": "display_data",
          "data": {
            "text/plain": [
              "<IPython.core.display.HTML object>"
            ],
            "text/html": [
              "Waiting for W&B process to finish... <strong style=\"color:green\">(success).</strong>"
            ]
          },
          "metadata": {}
        },
        {
          "output_type": "display_data",
          "data": {
            "text/plain": [
              "VBox(children=(Label(value='0.019 MB of 0.019 MB uploaded (0.000 MB deduped)\\r'), FloatProgress(value=1.0, max…"
            ],
            "application/vnd.jupyter.widget-view+json": {
              "version_major": 2,
              "version_minor": 0,
              "model_id": "0c3efd8119b941298b5a97794341f1ed"
            }
          },
          "metadata": {}
        },
        {
          "output_type": "display_data",
          "data": {
            "text/plain": [
              "<IPython.core.display.HTML object>"
            ],
            "text/html": [
              " View run <strong style=\"color:#cdcd00\">ALE/Breakout-v5__PPO_Implementation__1__1709852741</strong> at: <a href='https://wandb.ai/csquared/PPOAtari/runs/hkcy2nfb' target=\"_blank\">https://wandb.ai/csquared/PPOAtari/runs/hkcy2nfb</a><br/>Synced 5 W&B file(s), 1 media file(s), 0 artifact file(s) and 0 other file(s)"
            ]
          },
          "metadata": {}
        },
        {
          "output_type": "display_data",
          "data": {
            "text/plain": [
              "<IPython.core.display.HTML object>"
            ],
            "text/html": [
              "Find logs at: <code>./wandb/run-20240307_230547-hkcy2nfb/logs</code>"
            ]
          },
          "metadata": {}
        },
        {
          "output_type": "display_data",
          "data": {
            "text/plain": [
              "<IPython.core.display.HTML object>"
            ],
            "text/html": [
              "Successfully finished last run (ID:hkcy2nfb). Initializing new run:<br/>"
            ]
          },
          "metadata": {}
        },
        {
          "output_type": "display_data",
          "data": {
            "text/plain": [
              "<IPython.core.display.HTML object>"
            ],
            "text/html": [
              "wandb version 0.16.4 is available!  To upgrade, please run:\n",
              " $ pip install wandb --upgrade"
            ]
          },
          "metadata": {}
        },
        {
          "output_type": "display_data",
          "data": {
            "text/plain": [
              "<IPython.core.display.HTML object>"
            ],
            "text/html": [
              "Tracking run with wandb version 0.13.10"
            ]
          },
          "metadata": {}
        },
        {
          "output_type": "display_data",
          "data": {
            "text/plain": [
              "<IPython.core.display.HTML object>"
            ],
            "text/html": [
              "Run data is saved locally in <code>/content/chapter2_rl/exercises/wandb/run-20240307_230743-3dtur0pe</code>"
            ]
          },
          "metadata": {}
        },
        {
          "output_type": "display_data",
          "data": {
            "text/plain": [
              "<IPython.core.display.HTML object>"
            ],
            "text/html": [
              "Syncing run <strong><a href='https://wandb.ai/csquared/PPOAtari/runs/3dtur0pe' target=\"_blank\">ALE/Breakout-v5__PPO_Implementation__1__1709852859</a></strong> to <a href='https://wandb.ai/csquared/PPOAtari' target=\"_blank\">Weights & Biases</a> (<a href='https://wandb.me/run' target=\"_blank\">docs</a>)<br/>"
            ]
          },
          "metadata": {}
        },
        {
          "output_type": "display_data",
          "data": {
            "text/plain": [
              "<IPython.core.display.HTML object>"
            ],
            "text/html": [
              " View project at <a href='https://wandb.ai/csquared/PPOAtari' target=\"_blank\">https://wandb.ai/csquared/PPOAtari</a>"
            ]
          },
          "metadata": {}
        },
        {
          "output_type": "display_data",
          "data": {
            "text/plain": [
              "<IPython.core.display.HTML object>"
            ],
            "text/html": [
              " View run at <a href='https://wandb.ai/csquared/PPOAtari/runs/3dtur0pe' target=\"_blank\">https://wandb.ai/csquared/PPOAtari/runs/3dtur0pe</a>"
            ]
          },
          "metadata": {}
        },
        {
          "output_type": "stream",
          "name": "stderr",
          "text": [
            "Epoch 487, Episode length: 757: 100%|██████████| 488/488 [1:02:15<00:00,  7.66s/it]\n"
          ]
        },
        {
          "output_type": "display_data",
          "data": {
            "text/plain": [
              "<IPython.core.display.HTML object>"
            ],
            "text/html": [
              "Waiting for W&B process to finish... <strong style=\"color:green\">(success).</strong>"
            ]
          },
          "metadata": {}
        },
        {
          "output_type": "display_data",
          "data": {
            "text/plain": [
              "VBox(children=(Label(value='0.699 MB of 0.709 MB uploaded (0.000 MB deduped)\\r'), FloatProgress(value=0.985750…"
            ],
            "application/vnd.jupyter.widget-view+json": {
              "version_major": 2,
              "version_minor": 0,
              "model_id": "2437c840a2e74309ab46a0b4b6fc78cc"
            }
          },
          "metadata": {}
        },
        {
          "output_type": "display_data",
          "data": {
            "text/plain": [
              "<IPython.core.display.HTML object>"
            ],
            "text/html": [
              "<style>\n",
              "    table.wandb td:nth-child(1) { padding: 0 10px; text-align: left ; width: auto;} td:nth-child(2) {text-align: left ; width: 100%}\n",
              "    .wandb-row { display: flex; flex-direction: row; flex-wrap: wrap; justify-content: flex-start; width: 100% }\n",
              "    .wandb-col { display: flex; flex-direction: column; flex-basis: 100%; flex: 1; padding: 10px; }\n",
              "    </style>\n",
              "<div class=\"wandb-row\"><div class=\"wandb-col\"><h3>Run history:</h3><br/><table class=\"wandb\"><tr><td>episode_length</td><td>▁▁▁▄▃▄▄▅▆▃▄▃▄▆▅▆▅▆▆▅▆▇▇▄█▅█▆▆▇▆▆▆█▆▅▇█▇▅</td></tr><tr><td>episode_return</td><td>▁▁▁▃▂▃▃▃▅▂▃▂▃▅▃▄▆▄▄▄▅▆▄▄█▄▆▆▅▆▅▄▄▆▅▄▆▆▆▄</td></tr></table><br/></div><div class=\"wandb-col\"><h3>Run summary:</h3><br/><table class=\"wandb\"><tr><td>episode_length</td><td>757</td></tr><tr><td>episode_return</td><td>27.0</td></tr></table><br/></div></div>"
            ]
          },
          "metadata": {}
        },
        {
          "output_type": "display_data",
          "data": {
            "text/plain": [
              "<IPython.core.display.HTML object>"
            ],
            "text/html": [
              " View run <strong style=\"color:#cdcd00\">ALE/Breakout-v5__PPO_Implementation__1__1709852859</strong> at: <a href='https://wandb.ai/csquared/PPOAtari/runs/3dtur0pe' target=\"_blank\">https://wandb.ai/csquared/PPOAtari/runs/3dtur0pe</a><br/>Synced 5 W&B file(s), 14 media file(s), 0 artifact file(s) and 0 other file(s)"
            ]
          },
          "metadata": {}
        },
        {
          "output_type": "display_data",
          "data": {
            "text/plain": [
              "<IPython.core.display.HTML object>"
            ],
            "text/html": [
              "Find logs at: <code>./wandb/run-20240307_230743-3dtur0pe/logs</code>"
            ]
          },
          "metadata": {}
        }
      ]
    },
    {
      "cell_type": "markdown",
      "source": [
        "Note that this will probably take a lot longer to train than your previous experiments, because the architecture is much larger, and finding an initial strategy is much harder than it was for CartPole.\n",
        "\n",
        "[Here](https://api.wandb.ai/links/callum-mcdougall/n3g6ncd9) is the wandb run for the breakout environment, using the parameters above (all the code is in the solutions colab `solutions.py`). With this (and MuJoCo later), you might want to perform a few different runs (with different `args.seed` values).\n"
      ],
      "metadata": {
        "id": "y7cYBu3RJXob"
      }
    },
    {
      "cell_type": "markdown",
      "source": [
        "### A note on debugging crashed kernels\n",
        "\n",
        "> *This section is more relevant if you're doing these exercises on VSCode; you can skip it if you're in Colab.*\n",
        "\n",
        "Because the `gym` library is a bit fragile, sometimes you can get uninformative kernel errors like this:\n",
        "\n",
        "<img src=\"https://raw.githubusercontent.com/callummcdougall/computational-thread-art/master/example_images/misc/kernel_error.png\" width=\"600\">\n",
        "\n",
        "which annoyingly doesn't tell you much about the nature or location of the error. When this happens, it's often good practice to replace your code with lower-level code bit by bit, until the error message starts being informative.\n",
        "\n",
        "For instance, you might start with `agent = train(args)`, and if this fails without an informative error message then you might try replacing it with the actual contents of the `train` function (which should involve the methods `trainer.rollout_phase()` and `trainer.learning_phase()`). If the problem is in `rollout_phase`, you can again replace this line with the actual contents of this method.\n",
        "\n",
        "If you're working in `.py` files rather than `.ipynb`, a useful tip - as well as running `Shift + Enter` to run the cell your cursor is in, if you have text highlighted (and you've turned on `Send Selection To Interactive Window` in VSCode settings) then using `Shift + Enter` will run just the code you've highlighted. This could be a single variable name, a single line, or a single block of code."
      ],
      "metadata": {
        "id": "_R0puGukJYw5"
      }
    },
    {
      "cell_type": "markdown",
      "source": [
        "# 5️⃣ Mujoco"
      ],
      "metadata": {
        "id": "_8KQkx92JfFE"
      }
    },
    {
      "cell_type": "markdown",
      "source": [
        "> ##### Learning objectives\n",
        ">\n",
        "> * Understand how PPO can be used to train agents in continuous action spaces\n",
        "> * Install and interact with the MuJoCo physics engine\n",
        "> * Train an agent to solve the Hopper environment\n"
      ],
      "metadata": {
        "id": "IGfx7fDtJgBw"
      }
    },
    {
      "cell_type": "markdown",
      "source": [
        "## Installation & Rendering\n",
        "\n",
        "Run the following to install the necessary packages."
      ],
      "metadata": {
        "id": "za-phuppJlmP"
      }
    },
    {
      "cell_type": "code",
      "source": [
        "!sudo apt-get install -y \\\n",
        "    libgl1-mesa-dev \\\n",
        "    libgl1-mesa-glx \\\n",
        "    libglew-dev \\\n",
        "    libosmesa6-dev \\\n",
        "    software-properties-common\n",
        "\n",
        "!sudo apt-get install -y patchelf\n",
        "\n",
        "%pip install free-mujoco-py\n",
        "%pip install mujoco"
      ],
      "metadata": {
        "id": "4o_v9cuoJkiX"
      },
      "execution_count": null,
      "outputs": []
    },
    {
      "cell_type": "markdown",
      "source": [
        "To test that this works, run the following. The first time you run this, it might take about 1-2 minutes, and throw up several warnings and messages. But the cell should still run without raising an exception, and all subsequent times you run it, it should be a lot faster (with no error messages)."
      ],
      "metadata": {
        "id": "R_4CyjSOJihD"
      }
    },
    {
      "cell_type": "code",
      "source": [
        "envs = gym.make(\"Hopper-v3\")"
      ],
      "metadata": {
        "id": "USqU0A_gJn9q"
      },
      "execution_count": null,
      "outputs": []
    },
    {
      "cell_type": "markdown",
      "source": [
        "You can see what the environment looks like with the following code (which saves a simple animation that you should be able to see in your local storage - it might not play inline)."
      ],
      "metadata": {
        "id": "vn4GStUaJpA6"
      }
    },
    {
      "cell_type": "code",
      "source": [
        "image_list = []\n",
        "env = gym.make('Hopper-v3')\n",
        "obs = env.reset()\n",
        "for _ in tqdm(range(150)):\n",
        "    action = env.action_space.sample()\n",
        "    obs, reward, done, info = env.step(action)\n",
        "    image = env.render(mode=\"rgb_array\")\n",
        "    image_list.append(image)\n",
        "\n",
        "imgs = np.stack(image_list)\n",
        "fig, ax = plt.subplots()\n",
        "image = ax.imshow(imgs[0])\n",
        "def update(frame):\n",
        "    image.set_array(imgs[frame])\n",
        "    return image,\n",
        "animation = FuncAnimation(fig, update, frames=imgs.shape[0], blit=True, interval=30)\n",
        "animation.save(str(section_dir / 'animation.mp4'), dpi=80, writer='ffmpeg');"
      ],
      "metadata": {
        "id": "681amLLTJp8r"
      },
      "execution_count": null,
      "outputs": []
    },
    {
      "cell_type": "markdown",
      "source": [
        "## Action space\n",
        "\n",
        "Previously, we've dealt with discrete action spaces (e.g. going right or left in Cartpole)."
      ],
      "metadata": {
        "id": "nKxmVIlPJxNf"
      }
    },
    {
      "cell_type": "code",
      "source": [
        "env = gym.make(\"CartPole-v0\")\n",
        "print(env.action_space)\n",
        "print(env.action_space.sample())\n",
        "print(env.action_space.shape)"
      ],
      "metadata": {
        "id": "KlZ7nDM8wDCf"
      },
      "execution_count": null,
      "outputs": []
    },
    {
      "cell_type": "markdown",
      "source": [
        " But here, we have a continuous action space:"
      ],
      "metadata": {
        "id": "52NZTMhswEQw"
      }
    },
    {
      "cell_type": "code",
      "source": [
        "env = gym.make(\"Hopper-v3\")\n",
        "print(env.action_space)\n",
        "print(env.action_space.sample())\n",
        "print(env.action_space.shape)"
      ],
      "metadata": {
        "id": "7ki2-CjgsDMs"
      },
      "execution_count": null,
      "outputs": []
    },
    {
      "cell_type": "markdown",
      "source": [
        "In other words we have 3 different actions, each of which can be a float between -1 and 1.\n",
        "\n",
        "Question - after reading the [documentation page](https://www.gymlibrary.dev/environments/mujoco/hopper/), can you see what these three actions mean?\n",
        "\n",
        "<details>\n",
        "<summary>Answer</summary>\n",
        "\n",
        "They represent the **torque** applied between the three different links of the hopper. There is:\n",
        "\n",
        "* The **thigh rotor** (i.e. connecting the upper and middle parts of the leg),\n",
        "* The **leg rotor** (i.e. connecting the middle and lower parts of the leg),\n",
        "* The **foot rotor** (i.e. connecting the lower part of the leg to the foot).\n",
        "\n",
        "<img src=\"https://raw.githubusercontent.com/callummcdougall/computational-thread-art/master/example_images/misc/hopper-torque.png\" width=\"400\">\n",
        "\n",
        "</details>\n",
        "\n",
        "How do we deal with a continuous action space, when it comes to choosing actions? Rather than our actor network's output being a vector of `logits` which we turn into a probability distribution via `Categorical(logits=logits)`, we instead have our actor output two vectors `mu` and `log_sigma`, which we turn into a normal distribution which is then sampled from."
      ],
      "metadata": {
        "id": "9qeG2uFJsBzX"
      }
    },
    {
      "cell_type": "markdown",
      "source": [
        "## Implementational details of MuJoCo"
      ],
      "metadata": {
        "id": "AW0hD2D9JyPT"
      }
    },
    {
      "cell_type": "markdown",
      "source": [
        "### Clipping, Scaling & Normalisation ([details #5-9](https://iclr-blog-track.github.io/2022/03/25/ppo-implementation-details/#:~:text=Handling%20of%20action%20clipping%20to%20valid%20range%20and%20storage))\n",
        "\n",
        "Just like for Atari, there are a few messy implementational details which will be taken care of with gym wrappers. For example, if we generate our actions by sampling from a normal distribution, then there's some non-zero chance that our action will be outside of the allowed action space. We deal with this by clipping the actions to be within the allowed range (in this case between -1 and 1).\n",
        "\n",
        "See the function `prepare_mujoco_env` within `part3_ppo/utils` (and read details 5-9 on the PPO page) for more information."
      ],
      "metadata": {
        "id": "vkhFK47XJzJx"
      }
    },
    {
      "cell_type": "markdown",
      "source": [
        "### Actor and Critic networks ([details #1-4](https://iclr-blog-track.github.io/2022/03/25/ppo-implementation-details/#:~:text=Continuous%20actions%20via%20normal%20distributions))\n",
        "\n",
        "Our actor and critic networks are quite similar to the ones we used for cartpole. They won't have shared architecture.\n",
        "\n",
        "<details>\n",
        "<summary>Question - can you see why it's less useful to have shared architecture in this case, relative to the case of Atari?</summary>\n",
        "\n",
        "The point of the shared architecture in Atari was that it allowed our critic and actor to perform **feature extraction**, i.e. the early part of the network (which was fed the raw pixel input) generated a high-level representation of the state, which was then fed into the actor and critic heads. But for CartPole and for MuJoCo, we have a very small observation space (4 discrete values in the case of CartPole, 11 for the Hopper in MuJoCo), so there's no feature extraction necessary.\n",
        "\n",
        "</details>\n",
        "\n",
        "The only difference will be in the actor network. There will be an `actor_mu` and `actor_log_sigma` network. The `actor_mu` will have exactly the same architecture as the CartPole actor network, and it will output a vector used as the mean of our normal distribution. The `actor_log_sigma` network will just be a bias, since the standard deviation is **state-independent** ([detail #2](https://iclr-blog-track.github.io/2022/03/25/ppo-implementation-details/#:~:text=State%2Dindependent%20log%20standard%20deviation)).\n",
        "\n",
        "Because of this extra complexity, we'll create a class for our actor and critic networks."
      ],
      "metadata": {
        "id": "w128a2vuJ12A"
      }
    },
    {
      "cell_type": "markdown",
      "source": [
        "### Exercise - implement `Actor` and `Critic`\n",
        "\n",
        "```c\n",
        "Difficulty: 🔴🔴⚪⚪⚪\n",
        "Importance: 🔵🔵🔵⚪⚪\n",
        "\n",
        "You should spend up to 10-15 minutes on this exercise.\n",
        "```\n",
        "\n",
        "As discussed, the architecture of `actor_mu` is identical to your cartpole actor network, and the critic is identical. The only difference is the addition of `actor_log_sigma`, which you should initialize as an `nn.Parameter` object of shape `(1, num_actions)`.\n",
        "\n",
        "Your `Actor` class's forward function should return a tuple of `(mu, sigma, dist)`, where `mu` and `sigma` are the parameters of the normal distribution, and `dist` was created from these values using `torch.distributions.Normal`.\n",
        "\n",
        "<details>\n",
        "<summary>Why do we use <code>log_sigma</code> rather than just outputting <code>sigma</code> ?</summary>\n",
        "\n",
        "We have our network output `log_sigma` rather than `sigma` because the standard deviation is always positive. If we learn the log standard deviation rather than the standard deviation, then we can treat it just like a regular learned weight.\n",
        "</details>\n",
        "\n",
        "Tip - when creating your distribution, you can use the `broadcast_to` tensor method, so that your standard deviation and mean are the same shape.\n",
        "\n",
        "We've given you the function `get_actor_and_critic`, all you need to do is fill in the `Actor` and `Critic` classes (and copy your code for the previous two `get_actor_and_critic` modes into the indicated places below)."
      ],
      "metadata": {
        "id": "ymXiDbjKKWa7"
      }
    },
    {
      "cell_type": "code",
      "source": [
        "class Critic(nn.Module):\n",
        "    def __init__(self, num_obs):\n",
        "        super().__init__()\n",
        "        # YOUR CODE HERE - define critic\n",
        "        pass\n",
        "\n",
        "    def forward(self, obs) -> Tensor:\n",
        "        # YOUR CODE HERE - fwd pass, return value\n",
        "        pass\n",
        "\n",
        "\n",
        "class Actor(nn.Module):\n",
        "    actor_mu: nn.Sequential\n",
        "    actor_log_sigma: nn.Parameter\n",
        "\n",
        "    def __init__(self, num_obs, num_actions):\n",
        "        super().__init__()\n",
        "        # YOUR CODE HERE - define actor_mu and actor_log_sigma\n",
        "        pass\n",
        "\n",
        "    def forward(self, obs) -> Tuple[Tensor, Tensor, t.distributions.Normal]:\n",
        "        # YOUR CODE HERE - fwd pass, return (mu, sigma, dist)\n",
        "        pass\n",
        "\n",
        "\n",
        "def get_actor_and_critic_mujoco(num_obs: int, num_actions: int):\n",
        "    '''\n",
        "    Returns (actor, critic) in the \"classic-control\" case, according to description above.\n",
        "    '''\n",
        "    return Actor(num_obs, num_actions), Critic(num_obs)\n",
        "\n",
        "\n",
        "tests.test_get_actor_and_critic(get_actor_and_critic, mode=\"mujoco\")"
      ],
      "metadata": {
        "id": "zpC42URWKZAZ"
      },
      "execution_count": null,
      "outputs": []
    },
    {
      "cell_type": "markdown",
      "source": [
        "### Exercise - additional rewrites\n",
        "\n",
        "```c\n",
        "Difficulty: 🔴🔴🔴⚪⚪\n",
        "Importance: 🔵🔵⚪⚪⚪\n",
        "\n",
        "You should spend up to 10-25 minutes on this exercise.\n",
        "```\n",
        "\n",
        "There are a few more rewrites you'll need for continuous action spaces, which is why we recommend that you create a new solutions file for this part (like we've done with `solutions.py` and `solutions_cts.py`).\n",
        "\n",
        "You'll need to make the following changes:"
      ],
      "metadata": {
        "id": "sZZORgIpKeCR"
      }
    },
    {
      "cell_type": "markdown",
      "source": [
        "#### Logprobs and entropy\n",
        "\n",
        "Rather than `probs = Categorical(logits=logits)` as your distribution (which you sample from & pass into your loss functions), you'll just use `dist` as your distribution. Methods like `.logprobs(action)` and `.entropy()` will work on `dist` just like they did on `probs`.\n",
        "\n",
        "Note that these two methods will return objects of shape `(batch_size, action_shape)` (e.g. for Hopper the last dimension will be 3). We treat the action components as independent ([detail #4](https://iclr-blog-track.github.io/2022/03/25/ppo-implementation-details/#:~:text=Independent%20action%20components)), meaning **we take a product of the probabilities, so we sum the logprobs / entropies**. For example:\n",
        "\n",
        "$$\n",
        "\\begin{aligned}\n",
        "\\operatorname{prob}\\left(a_t\\right)&=\\operatorname{prob}\\left(a_t^1\\right) \\cdot \\operatorname{prob}\\left(a_t^2\\right) \\\\\n",
        "\\log\\left(a_t\\right)&=\\log\\left(a_t^1\\right) + \\log\\left(a_t^2\\right)\n",
        "\\end{aligned}\n",
        "$$\n",
        "\n",
        "So you'll need to sum logprobs and entropy over the last dimension. The logprobs value that you add to the replay memory should be summed over (because you don't need the individual logprobs, you only need the logprob of the action as a whole).\n",
        "\n",
        "#### Logging\n",
        "\n",
        "You should log `mu` and `sigma` during the learning phase."
      ],
      "metadata": {
        "id": "2bHcmORGKgKH"
      }
    },
    {
      "cell_type": "code",
      "source": [
        "class PPOAgent(nn.Module):\n",
        "    critic: Critic\n",
        "    actor: Actor\n",
        "\n",
        "    def __init__(self, args: PPOArgs, envs: gym.vector.SyncVectorEnv):\n",
        "        super().__init__()\n",
        "        self.args = args\n",
        "        self.envs = envs\n",
        "\n",
        "        self.step = 0\n",
        "\n",
        "        self.actor, self.critic = get_actor_and_critic(envs, mode=args.mode)\n",
        "\n",
        "        self.next_obs = t.tensor(envs.reset()).to(device, dtype=t.float)\n",
        "        self.next_done = t.zeros(envs.num_envs).to(device, dtype=t.float)\n",
        "\n",
        "        self.memory = ReplayMemory(args, envs)\n",
        "\n",
        "\n",
        "    def play_step(self) -> List[dict]:\n",
        "        '''\n",
        "        Carries out a single interaction step between the agent and the environment, and adds results to the replay buffer.\n",
        "        '''\n",
        "        obs = self.next_obs\n",
        "        dones = self.next_done\n",
        "\n",
        "        with t.inference_mode():\n",
        "            # CHANGED (return (mu, sigma, dist), and use dist to sample actions)\n",
        "            mu, sigma, dist = self.actor.forward(obs)\n",
        "        actions = dist.sample()\n",
        "\n",
        "        next_obs, rewards, next_dones, infos = self.envs.step(actions.cpu().numpy())\n",
        "\n",
        "        # CHANGED (sum over action space to get logprobs)\n",
        "        logprobs = dist.log_prob(actions).sum(-1)\n",
        "        with t.inference_mode():\n",
        "            values = self.critic.forward(obs).flatten()\n",
        "        self.memory.add(obs, actions, logprobs, values, rewards, dones)\n",
        "\n",
        "        self.next_obs = t.from_numpy(next_obs).to(device, dtype=t.float)\n",
        "        self.next_done = t.from_numpy(next_dones).to(device, dtype=t.float)\n",
        "        self.step += self.envs.num_envs\n",
        "\n",
        "        return infos\n",
        "\n",
        "\n",
        "    def get_minibatches(self) -> None:\n",
        "        '''\n",
        "        Gets minibatches from the replay buffer.\n",
        "        '''\n",
        "        with t.inference_mode():\n",
        "            next_value = self.critic(self.next_obs).flatten()\n",
        "        return self.memory.get_minibatches(next_value, self.next_done)\n",
        "\n",
        "\n",
        "def calc_clipped_surrogate_objective(\n",
        "    dist: t.distributions.Normal,\n",
        "    mb_action: Int[Tensor, \"minibatch_size *action_shape\"],\n",
        "    mb_advantages: Float[Tensor, \"minibatch_size\"],\n",
        "    mb_logprobs: Float[Tensor, \"minibatch_size\"],\n",
        "    clip_coef: float,\n",
        "    eps: float = 1e-8,\n",
        ") -> Float[Tensor, \"\"]:\n",
        "    '''Return the clipped surrogate objective, suitable for maximisation with gradient ascent.\n",
        "\n",
        "    dist:\n",
        "        a distribution containing the actor's unnormalized logits of shape (minibatch_size, num_actions)\n",
        "    mb_action:\n",
        "        what actions actions were taken in the sampled minibatch\n",
        "    mb_advantages:\n",
        "        advantages calculated from the sampled minibatch\n",
        "    mb_logprobs:\n",
        "        logprobs of the actions taken in the sampled minibatch (according to the old policy)\n",
        "    clip_coef:\n",
        "        amount of clipping, denoted by epsilon in Eq 7.\n",
        "    eps:\n",
        "        used to add to std dev of mb_advantages when normalizing (to avoid dividing by zero)\n",
        "    '''\n",
        "    # CHANGED (different assert statement)\n",
        "    assert (mb_action.shape[0],) == mb_advantages.shape == mb_logprobs.shape\n",
        "    # CHANGED (sum over first dim)\n",
        "    logits_diff = dist.log_prob(mb_action).sum(-1) - mb_logprobs\n",
        "\n",
        "    r_theta = t.exp(logits_diff)\n",
        "\n",
        "    mb_advantages = (mb_advantages - mb_advantages.mean()) / (mb_advantages.std() + eps)\n",
        "\n",
        "    non_clipped = r_theta * mb_advantages\n",
        "    clipped = t.clip(r_theta, 1-clip_coef, 1+clip_coef) * mb_advantages\n",
        "\n",
        "    return t.minimum(non_clipped, clipped).mean()\n",
        "\n",
        "\n",
        "def calc_entropy_bonus(dist: t.distributions.Normal, ent_coef: float):\n",
        "    '''Return the entropy bonus term, suitable for gradient ascent.\n",
        "\n",
        "    dist:\n",
        "        the probability distribution for the current policy\n",
        "    ent_coef:\n",
        "        the coefficient for the entropy loss, which weights its contribution to the overall objective function. Denoted by c_2 in the paper.\n",
        "    '''\n",
        "    # CHANGED (sum over first dim before taking mean)\n",
        "    return ent_coef * dist.entropy().sum(-1).mean()\n",
        "\n",
        "\n",
        "class PPOTrainer:\n",
        "\n",
        "    def __init__(self, args: PPOArgs):\n",
        "        set_global_seeds(args.seed)\n",
        "        self.args = args\n",
        "        self.run_name = f\"{args.env_id}__{args.exp_name}__{args.seed}__{int(time.time())}\"\n",
        "        self.envs = gym.vector.SyncVectorEnv([make_env(args.env_id, args.seed + i, i, args.capture_video, self.run_name, args.mode) for i in range(args.num_envs)])\n",
        "        self.agent = PPOAgent(self.args, self.envs).to(device)\n",
        "        self.optimizer, self.scheduler = make_optimizer(self.agent, self.args.total_training_steps, self.args.learning_rate, 0.0)\n",
        "        if args.use_wandb: wandb.init(\n",
        "            project=args.wandb_project_name,\n",
        "            entity=args.wandb_entity,\n",
        "            name=self.run_name,\n",
        "            monitor_gym=args.capture_video\n",
        "        )\n",
        "\n",
        "\n",
        "    def rollout_phase(self):\n",
        "        '''Should populate the replay buffer with new experiences.'''\n",
        "        last_episode_len = None\n",
        "        for step in range(self.args.num_steps):\n",
        "            infos = self.agent.play_step()\n",
        "            for info in infos:\n",
        "                if \"episode\" in info.keys():\n",
        "                    last_episode_len = info[\"episode\"][\"l\"]\n",
        "                    last_episode_return = info[\"episode\"][\"r\"]\n",
        "                    if self.args.use_wandb: wandb.log({\n",
        "                        \"episode_length\": last_episode_len,\n",
        "                        \"episode_return\": last_episode_return,\n",
        "                    }, step=self.agent.step)\n",
        "        return last_episode_len\n",
        "\n",
        "\n",
        "    def learning_phase(self) -> None:\n",
        "        '''Should get minibatches and iterate through them (performing an optimizer step at each one).'''\n",
        "        minibatches = self.agent.get_minibatches()\n",
        "        for minibatch in minibatches:\n",
        "            objective_fn = self.compute_ppo_objective(minibatch)\n",
        "            objective_fn.backward()\n",
        "            nn.utils.clip_grad_norm_(self.agent.parameters(), self.args.max_grad_norm)\n",
        "            self.optimizer.step()\n",
        "            self.optimizer.zero_grad()\n",
        "            self.scheduler.step()\n",
        "\n",
        "\n",
        "    def compute_ppo_objective(self, minibatch: ReplayMinibatch) -> Float[Tensor, \"\"]:\n",
        "        '''Handles learning phase for a single minibatch. Returns objective function to be maximized.'''\n",
        "        # CHANGED (returned tuple (mu, sigma, dist), and use dist for loss functions)\n",
        "        mu, sigma, dist = self.agent.actor.forward(minibatch.observations)\n",
        "        values = self.agent.critic.forward(minibatch.observations).squeeze()\n",
        "\n",
        "        clipped_surrogate_objective = calc_clipped_surrogate_objective(dist, minibatch.actions, minibatch.advantages, minibatch.logprobs, self.args.clip_coef)\n",
        "        value_loss = calc_value_function_loss(values, minibatch.returns, self.args.vf_coef)\n",
        "        entropy_bonus = calc_entropy_bonus(dist, self.args.ent_coef)\n",
        "\n",
        "        total_objective_function = clipped_surrogate_objective - value_loss + entropy_bonus\n",
        "\n",
        "        with t.inference_mode():\n",
        "            newlogprob = dist.log_prob(minibatch.actions).sum(-1)\n",
        "            logratio = newlogprob - minibatch.logprobs\n",
        "            ratio = logratio.exp()\n",
        "            approx_kl = (ratio - 1 - logratio).mean().item()\n",
        "            clipfracs = [((ratio - 1.0).abs() > self.args.clip_coef).float().mean().item()]\n",
        "        if self.args.use_wandb: wandb.log(dict(\n",
        "            total_steps = self.agent.step,\n",
        "            values = values.mean().item(),\n",
        "            learning_rate = self.scheduler.optimizer.param_groups[0][\"lr\"],\n",
        "            value_loss = value_loss.item(),\n",
        "            clipped_surrogate_objective = clipped_surrogate_objective.item(),\n",
        "            entropy = entropy_bonus.item(),\n",
        "            approx_kl = approx_kl,\n",
        "            clipfrac = np.mean(clipfracs),\n",
        "            # CHANGED (log mu and sigma)\n",
        "            mu = mu.mean().item(),\n",
        "            sigma = sigma.mean().item(),\n",
        "        ), step=self.agent.step)\n",
        "\n",
        "        return total_objective_function\n",
        "\n",
        "\n",
        "    def train(self) -> None:\n",
        "\n",
        "        progress_bar = tqdm(range(args.total_phases))\n",
        "\n",
        "        for epoch in progress_bar:\n",
        "\n",
        "            last_episode_len = self.rollout_phase()\n",
        "            if last_episode_len is not None:\n",
        "                progress_bar.set_description(f\"Epoch {epoch:02}, Episode length: {last_episode_len}\")\n",
        "\n",
        "            self.learning_phase()\n",
        "\n",
        "        self.envs.close()\n",
        "        if args.use_wandb:\n",
        "            wandb.finish()"
      ],
      "metadata": {
        "id": "gmfkHUGo6eCY"
      },
      "execution_count": null,
      "outputs": []
    },
    {
      "cell_type": "markdown",
      "source": [
        "## Training MuJoCo\n",
        "\n",
        "Now, you should be ready to run your training loop! We recommend using the following parameters, to match the original implmentation which the [37 Implementational Details](https://iclr-blog-track.github.io/2022/03/25/ppo-implementation-details) post is based on (but you can experiment with different values if you like).\n",
        "\n",
        "[Here](https://api.wandb.ai/links/callum-mcdougall/zk2jnf8u) is the wandb run for these parameters."
      ],
      "metadata": {
        "id": "1grMAY8SKkz4"
      }
    },
    {
      "cell_type": "code",
      "source": [
        "args = PPOArgs(\n",
        "    env_id = \"Hopper-v3\",\n",
        "    wandb_project_name = \"PPOMuJoCo\",\n",
        "    use_wandb = True,\n",
        "    mode = \"mujoco\",\n",
        "    learning_rate = 3e-4,\n",
        "    ent_coef = 0.0,\n",
        "    num_minibatches = 32,\n",
        "    num_steps = 2048,\n",
        "    num_envs = 1,\n",
        ")\n",
        "trainer = PPOTrainer(args)\n",
        "trainer.train()"
      ],
      "metadata": {
        "id": "AZHinEl9KmGE"
      },
      "execution_count": null,
      "outputs": []
    },
    {
      "cell_type": "markdown",
      "source": [
        "Although we've used `Hopper-v3` in these examples, you might also want to try `InvertedPendulum-v2`. It's a much easier environment to solve, and it's a good way to check that your implementation is working (after all if it worked for CartPole then it should work here - in fact your inverted pendulum agent should converge to a perfect solution almost instantly, no reward shaping required). You can check out the other MuJoCo environments [here](https://www.gymlibrary.dev/environments/mujoco/).\n",
        "\n",
        "See the `solutions_cts.py` file for a full implementation. All the comments have been removed from the code, except for comments which go next to parts of the code that have been changed from the original `solutions.py` (these comments will say `# CHANGED`, followed by a summary of the change).\n"
      ],
      "metadata": {
        "id": "XFqc7K1PKnKY"
      }
    },
    {
      "cell_type": "markdown",
      "source": [
        "# 6️⃣ Bonus"
      ],
      "metadata": {
        "id": "67auFWjvKoZp"
      }
    },
    {
      "cell_type": "markdown",
      "source": [
        "## Trust Region Methods\n",
        "\n",
        "Some versions of the PPO algorithm use a slightly different objective function. Rather than our clipped surrogate objective, they use constrained optimization (maximising the surrogate objective subject to a restriction on the [KL divergence](https://www.lesswrong.com/posts/no5jDTut5Byjqb4j5/six-and-a-half-intuitions-for-kl-divergence) between the old and new policies).\n",
        "\n",
        "$$\n",
        "\\begin{array}{ll}\n",
        "\\underset{\\theta}{\\operatorname{maximize}} & \\hat{\\mathbb{E}}_t\\left[\\frac{\\pi_\\theta\\left(a_t \\mid s_t\\right)}{\\pi_{\\theta_{\\text {old}}}\\left(a_t \\mid s_t\\right)} \\hat{A}_t\\right] \\\\\n",
        "\\text { subject to } & \\hat{\\mathbb{E}}_t\\left[\\mathrm{KL}\\left[\\pi_{\\theta_{\\text {old}}}\\left(\\cdot \\mid s_t\\right), \\pi_\\theta\\left(\\cdot \\mid s_t\\right)\\right]\\right] \\leq \\delta\n",
        "\\end{array}\n",
        "$$\n",
        "\n",
        "The intuition behind this is similar to the clipped surrogate objective. For our clipped objective, we made sure the model wasn't rewarded for deviating from its old policy beyond a certain point (which encourages small updates). Adding an explicit KL constraint accomplishes something similar, because it forces the model to closely adhere to the old policy. For more on KL-divergence and why it's a principled measure, see [this post](https://www.lesswrong.com/posts/no5jDTut5Byjqb4j5/six-and-a-half-intuitions-for-kl-divergence). We call these algorithms trust-region methods because they incentivise the model to stay in a **trusted region of policy space**, i.e. close to the old policy (where we can be more confident in our results).\n",
        "\n",
        "The theory behind TRPO actually suggests the following variant - turning the strict constraint into a penalty term, which you should find easier to implement:\n",
        "\n",
        "$$\n",
        "\\underset{\\theta}{\\operatorname{maximize}} \\, \\hat{\\mathbb{E}}_t\\left[\\frac{\\pi_\\theta\\left(a_t \\mid s_t\\right)}{\\pi_{\\theta_{\\text {old}}}\\left(a_t \\mid s_t\\right)} \\hat{A}_t-\\beta \\mathrm{KL}\\left[\\pi_{\\theta_{\\text {old}}}\\left(\\cdot \\mid s_t\\right), \\pi_\\theta\\left(\\cdot \\mid s_t\\right)\\right]\\right]\n",
        "$$\n",
        "\n",
        "Rather than forcing the new policy to stay close to the previous policy, this adds a penalty term which incentivises this behaviour (in fact, there is a 1-1 correspondence between constrained optimization problems and the corresponding unconstrained version).\n",
        "\n",
        "Can you implement this? Does this approach work better than the clipped surrogate objective? What values of $\\beta$ work best?\n",
        "\n",
        "Tip - you can calculate KL divergence using the PyTorch [KL Divergence function](https://pytorch.org/docs/stable/distributions.html#module-torch.distributions.kl). You could also try the approximate version, as described in [detail #12](https://iclr-blog-track.github.io/2022/03/25/ppo-implementation-details/#:~:text=Debug%20variables) of the \"37 Implementational Details\" post."
      ],
      "metadata": {
        "id": "qnIsjHUQKp_E"
      }
    },
    {
      "cell_type": "markdown",
      "source": [
        "## Long-term replay memory\n",
        "\n",
        "Above, we discussed the problem of **catastrophic forgetting** (where the agent forgets how to recover from bad behaviour, because the memory only contains good behaviour). One way to fix this is to have a long-term replay memory, for instance:\n",
        "\n",
        "* (simple version) You reserve e.g. 10% of your buffer for experiences generated at the start of training.\n",
        "* (complex version) You design a custom scheduled method for removing experiences from memory, so that you always have a mix of old and new experiences.\n",
        "\n",
        "Can you implement one of these, and does it fix the catastrophic forgetting problem (without needing to use reward shaping)?"
      ],
      "metadata": {
        "id": "JLEtVb7dKrkX"
      }
    },
    {
      "cell_type": "markdown",
      "source": [
        "## Vectorized Advantage Calculation\n",
        "\n",
        "Try optimizing away the for-loop in your advantage calculation. It's tricky (and quite messy), so an easier version of this is: find a vectorized calculation and try to explain what it does.\n",
        "\n",
        "<details>\n",
        "<summary>Hint (for your own implementation)</summary>\n",
        "\n",
        "*(Assume `num_envs=1` for simplicity)*\n",
        "\n",
        "Construct a 2D boolean array from `dones`, where the `(i, j)`-th element of the array tells you whether the expression for the `i`-th advantage function should include rewards / values at timestep `j`. You can do this via careful use of `torch.cumsum`, `torch.triu`, and some rearranging.\n",
        "</details>\n",
        "\n",
        "There are solutions available in `solutions.py` (commented out)."
      ],
      "metadata": {
        "id": "JfyG57GsKswF"
      }
    },
    {
      "cell_type": "markdown",
      "source": [
        "## Other Discrete Environments\n",
        "\n",
        "Two environments (supported by gym) which you might like to try are:\n",
        "\n",
        "* [`Acrobot-v1`](https://www.gymlibrary.dev/environments/classic_control/acrobot/) - this is one of the [Classic Control environments](https://www.gymlibrary.dev/environments/classic_control/), and it's a bit harder to learn than cartpole.\n",
        "* [`MountainCar-v0`](https://www.gymlibrary.dev/environments/classic_control/mountain_car/) - this is one of the [Classic Control environments](https://www.gymlibrary.dev/environments/classic_control/), and it's much harder to learn than cartpole. This is primarily because of **sparse rewards** (it's really hard to get to the top of the hill), so you'll definitely need reward shaping to get through it!\n",
        "* [`LunarLander-v2`](https://www.gymlibrary.dev/environments/box2d/lunar_lander/) - this is part of the [Box2d](https://www.gymlibrary.dev/environments/box2d/) environments. It's a bit harder still, because of the added environmental complexity (physics like gravity and friction, and constraints like fuel conservatino). The reward is denser (with the agent receiving rewards for moving towards the landing pad and penalties for moving away or crashing), but the increased complexity makes it overall a harder problem to solve. You might have to perform hyperparameter sweeps to find the best implementation (you can go back and look at the syntax for hyperparameter sweeps [here](https://arena-ch0-fundamentals.streamlit.app/[0.4]_Optimization)). Also, [this page](https://pylessons.com/LunarLander-v2-PPO) might be a useful reference (although the details of their implementation differs from the one we used today). You can look at the hyperparameters they used."
      ],
      "metadata": {
        "id": "MqoS9Cv-Kuzt"
      }
    },
    {
      "cell_type": "markdown",
      "source": [
        "## Continuous Action Spaces & Reward Shaping\n",
        "\n",
        "The `MountainCar-v0` environment has discrete actions, but there's also a version `MountainCarContinuous-v0` with continuous action spaces. Implementing this will require a combination of the continuous action spaces you dealt with during the MuJoCo section, and the reward shaping you used during the CartPole exercises."
      ],
      "metadata": {
        "id": "PGlTq7YPKwD7"
      }
    },
    {
      "cell_type": "markdown",
      "source": [
        "## Choose & build your own environment (e.g. Wordle)\n",
        "\n",
        "You can also try choosing your own task, framing it as an RL problem, and adapting your PPO algorithm to solve it. For example, training an agent to play Wordle (or a relation like Semantle) might be a suitably difficult task. [This post](https://wandb.ai/andrewkho/wordle-solver/reports/Solving-Wordle-with-Reinforcement-Learning--VmlldzoxNTUzOTc4) gives a high level account of training an agent to play Wordle - they use DQN, but they don't go too deep into the technical details (and it's possible that PPO would work better for this task)."
      ],
      "metadata": {
        "id": "TsS3MMIVLMoL"
      }
    },
    {
      "cell_type": "markdown",
      "source": [
        "## Minigrid envs / Procgen\n",
        "\n",
        "There are many more exciting environments to play in, but generally they're going to require more compute and more optimization than we have time for today. If you want to try them out, some we recommend are:\n",
        "\n",
        "- [Minimalistic Gridworld Environments](https://github.com/Farama-Foundation/gym-minigrid) - a fast gridworld environment for experiments with sparse rewards and natural language instruction.\n",
        "- [microRTS](https://github.com/santiontanon/microrts) - a small real-time strategy game suitable for experimentation.\n",
        "- [Megastep](https://andyljones.com/megastep/) - RL environment that runs fully on the GPU (fast!)\n",
        "- [Procgen](https://github.com/openai/procgen) - A family of 16 procedurally generated gym environments to measure the ability for an agent to generalize. Optimized to run quickly on the CPU.\n",
        "    - For this one, you might want to read [Jacob Hilton's online DL tutorial](https://github.com/jacobhilton/deep_learning_curriculum/blob/master/6-Reinforcement-Learning.md) (the RL chapter suggests implementing PPO on Procgen), and [Connor Kissane's solutions](https://github.com/ckkissane/deep_learning_curriculum/blob/master/solutions/6_Reinforcement_Learning.ipynb)."
      ],
      "metadata": {
        "id": "0GrN-mO6Kw9g"
      }
    },
    {
      "cell_type": "markdown",
      "source": [
        "## Multi-Agent PPO\n",
        "\n",
        "Multi-Agent PPO (MAPPO) is an extension of the standard PPO algorithm which trains multiple agents at once. It was first described in the paper [The Surprising Effectiveness of PPO in Cooperative Multi-Agent Games](https://arxiv.org/abs/2103.01955). Can you implement MAPPO?"
      ],
      "metadata": {
        "id": "BKAy8P76KyEF"
      }
    }
  ],
  "metadata": {
    "colab": {
      "collapsed_sections": [
        "B6WVI0yOIovS",
        "_8KQkx92JfFE",
        "67auFWjvKoZp"
      ],
      "provenance": [],
      "gpuType": "V100"
    },
    "kernelspec": {
      "display_name": "Python 3",
      "name": "python3"
    },
    "language_info": {
      "codemirror_mode": {
        "name": "ipython",
        "version": 3
      },
      "file_extension": ".py",
      "mimetype": "text/x-python",
      "name": "python",
      "nbconvert_exporter": "python",
      "pygments_lexer": "ipython3",
      "version": "3.10.9"
    },
    "accelerator": "GPU",
    "widgets": {
      "application/vnd.jupyter.widget-state+json": {
        "be0551ec02fd4d3a8ffed87871e37642": {
          "model_module": "@jupyter-widgets/controls",
          "model_name": "VBoxModel",
          "model_module_version": "1.5.0",
          "state": {
            "_dom_classes": [],
            "_model_module": "@jupyter-widgets/controls",
            "_model_module_version": "1.5.0",
            "_model_name": "VBoxModel",
            "_view_count": null,
            "_view_module": "@jupyter-widgets/controls",
            "_view_module_version": "1.5.0",
            "_view_name": "VBoxView",
            "box_style": "",
            "children": [
              "IPY_MODEL_543e67fa9f934bb39f3a4dc9f580c56d",
              "IPY_MODEL_df4f6ce371af4a10a0ae88ff57257e36"
            ],
            "layout": "IPY_MODEL_ccd98dc70b324ff8aabc32238fb168e0"
          }
        },
        "543e67fa9f934bb39f3a4dc9f580c56d": {
          "model_module": "@jupyter-widgets/controls",
          "model_name": "LabelModel",
          "model_module_version": "1.5.0",
          "state": {
            "_dom_classes": [],
            "_model_module": "@jupyter-widgets/controls",
            "_model_module_version": "1.5.0",
            "_model_name": "LabelModel",
            "_view_count": null,
            "_view_module": "@jupyter-widgets/controls",
            "_view_module_version": "1.5.0",
            "_view_name": "LabelView",
            "description": "",
            "description_tooltip": null,
            "layout": "IPY_MODEL_c4249dc33d8143ada21ef6c0d07c3c2e",
            "placeholder": "​",
            "style": "IPY_MODEL_6af2cd308b344682a877c75e492f5054",
            "value": "0.380 MB of 0.389 MB uploaded (0.000 MB deduped)\r"
          }
        },
        "df4f6ce371af4a10a0ae88ff57257e36": {
          "model_module": "@jupyter-widgets/controls",
          "model_name": "FloatProgressModel",
          "model_module_version": "1.5.0",
          "state": {
            "_dom_classes": [],
            "_model_module": "@jupyter-widgets/controls",
            "_model_module_version": "1.5.0",
            "_model_name": "FloatProgressModel",
            "_view_count": null,
            "_view_module": "@jupyter-widgets/controls",
            "_view_module_version": "1.5.0",
            "_view_name": "ProgressView",
            "bar_style": "",
            "description": "",
            "description_tooltip": null,
            "layout": "IPY_MODEL_a48dab8d8ad6470ab613c51942e66771",
            "max": 1,
            "min": 0,
            "orientation": "horizontal",
            "style": "IPY_MODEL_1228d2fbd700405a8cd20382b5e74e09",
            "value": 0.9751762542272853
          }
        },
        "ccd98dc70b324ff8aabc32238fb168e0": {
          "model_module": "@jupyter-widgets/base",
          "model_name": "LayoutModel",
          "model_module_version": "1.2.0",
          "state": {
            "_model_module": "@jupyter-widgets/base",
            "_model_module_version": "1.2.0",
            "_model_name": "LayoutModel",
            "_view_count": null,
            "_view_module": "@jupyter-widgets/base",
            "_view_module_version": "1.2.0",
            "_view_name": "LayoutView",
            "align_content": null,
            "align_items": null,
            "align_self": null,
            "border": null,
            "bottom": null,
            "display": null,
            "flex": null,
            "flex_flow": null,
            "grid_area": null,
            "grid_auto_columns": null,
            "grid_auto_flow": null,
            "grid_auto_rows": null,
            "grid_column": null,
            "grid_gap": null,
            "grid_row": null,
            "grid_template_areas": null,
            "grid_template_columns": null,
            "grid_template_rows": null,
            "height": null,
            "justify_content": null,
            "justify_items": null,
            "left": null,
            "margin": null,
            "max_height": null,
            "max_width": null,
            "min_height": null,
            "min_width": null,
            "object_fit": null,
            "object_position": null,
            "order": null,
            "overflow": null,
            "overflow_x": null,
            "overflow_y": null,
            "padding": null,
            "right": null,
            "top": null,
            "visibility": null,
            "width": null
          }
        },
        "c4249dc33d8143ada21ef6c0d07c3c2e": {
          "model_module": "@jupyter-widgets/base",
          "model_name": "LayoutModel",
          "model_module_version": "1.2.0",
          "state": {
            "_model_module": "@jupyter-widgets/base",
            "_model_module_version": "1.2.0",
            "_model_name": "LayoutModel",
            "_view_count": null,
            "_view_module": "@jupyter-widgets/base",
            "_view_module_version": "1.2.0",
            "_view_name": "LayoutView",
            "align_content": null,
            "align_items": null,
            "align_self": null,
            "border": null,
            "bottom": null,
            "display": null,
            "flex": null,
            "flex_flow": null,
            "grid_area": null,
            "grid_auto_columns": null,
            "grid_auto_flow": null,
            "grid_auto_rows": null,
            "grid_column": null,
            "grid_gap": null,
            "grid_row": null,
            "grid_template_areas": null,
            "grid_template_columns": null,
            "grid_template_rows": null,
            "height": null,
            "justify_content": null,
            "justify_items": null,
            "left": null,
            "margin": null,
            "max_height": null,
            "max_width": null,
            "min_height": null,
            "min_width": null,
            "object_fit": null,
            "object_position": null,
            "order": null,
            "overflow": null,
            "overflow_x": null,
            "overflow_y": null,
            "padding": null,
            "right": null,
            "top": null,
            "visibility": null,
            "width": null
          }
        },
        "6af2cd308b344682a877c75e492f5054": {
          "model_module": "@jupyter-widgets/controls",
          "model_name": "DescriptionStyleModel",
          "model_module_version": "1.5.0",
          "state": {
            "_model_module": "@jupyter-widgets/controls",
            "_model_module_version": "1.5.0",
            "_model_name": "DescriptionStyleModel",
            "_view_count": null,
            "_view_module": "@jupyter-widgets/base",
            "_view_module_version": "1.2.0",
            "_view_name": "StyleView",
            "description_width": ""
          }
        },
        "a48dab8d8ad6470ab613c51942e66771": {
          "model_module": "@jupyter-widgets/base",
          "model_name": "LayoutModel",
          "model_module_version": "1.2.0",
          "state": {
            "_model_module": "@jupyter-widgets/base",
            "_model_module_version": "1.2.0",
            "_model_name": "LayoutModel",
            "_view_count": null,
            "_view_module": "@jupyter-widgets/base",
            "_view_module_version": "1.2.0",
            "_view_name": "LayoutView",
            "align_content": null,
            "align_items": null,
            "align_self": null,
            "border": null,
            "bottom": null,
            "display": null,
            "flex": null,
            "flex_flow": null,
            "grid_area": null,
            "grid_auto_columns": null,
            "grid_auto_flow": null,
            "grid_auto_rows": null,
            "grid_column": null,
            "grid_gap": null,
            "grid_row": null,
            "grid_template_areas": null,
            "grid_template_columns": null,
            "grid_template_rows": null,
            "height": null,
            "justify_content": null,
            "justify_items": null,
            "left": null,
            "margin": null,
            "max_height": null,
            "max_width": null,
            "min_height": null,
            "min_width": null,
            "object_fit": null,
            "object_position": null,
            "order": null,
            "overflow": null,
            "overflow_x": null,
            "overflow_y": null,
            "padding": null,
            "right": null,
            "top": null,
            "visibility": null,
            "width": null
          }
        },
        "1228d2fbd700405a8cd20382b5e74e09": {
          "model_module": "@jupyter-widgets/controls",
          "model_name": "ProgressStyleModel",
          "model_module_version": "1.5.0",
          "state": {
            "_model_module": "@jupyter-widgets/controls",
            "_model_module_version": "1.5.0",
            "_model_name": "ProgressStyleModel",
            "_view_count": null,
            "_view_module": "@jupyter-widgets/base",
            "_view_module_version": "1.2.0",
            "_view_name": "StyleView",
            "bar_color": null,
            "description_width": ""
          }
        },
        "0c3efd8119b941298b5a97794341f1ed": {
          "model_module": "@jupyter-widgets/controls",
          "model_name": "VBoxModel",
          "model_module_version": "1.5.0",
          "state": {
            "_dom_classes": [],
            "_model_module": "@jupyter-widgets/controls",
            "_model_module_version": "1.5.0",
            "_model_name": "VBoxModel",
            "_view_count": null,
            "_view_module": "@jupyter-widgets/controls",
            "_view_module_version": "1.5.0",
            "_view_name": "VBoxView",
            "box_style": "",
            "children": [
              "IPY_MODEL_a51dae250a384ca6b94c76c20c379b8b",
              "IPY_MODEL_9b786a8aa1b94c99b27bd092a3d91ba9"
            ],
            "layout": "IPY_MODEL_2e38d80c4ce543f2aad996ebb79ba547"
          }
        },
        "a51dae250a384ca6b94c76c20c379b8b": {
          "model_module": "@jupyter-widgets/controls",
          "model_name": "LabelModel",
          "model_module_version": "1.5.0",
          "state": {
            "_dom_classes": [],
            "_model_module": "@jupyter-widgets/controls",
            "_model_module_version": "1.5.0",
            "_model_name": "LabelModel",
            "_view_count": null,
            "_view_module": "@jupyter-widgets/controls",
            "_view_module_version": "1.5.0",
            "_view_name": "LabelView",
            "description": "",
            "description_tooltip": null,
            "layout": "IPY_MODEL_f6fb0e622b214a6393cb2946c4850832",
            "placeholder": "​",
            "style": "IPY_MODEL_90b163de92a648dabc8ec37c595364ec",
            "value": "0.019 MB of 0.028 MB uploaded (0.000 MB deduped)\r"
          }
        },
        "9b786a8aa1b94c99b27bd092a3d91ba9": {
          "model_module": "@jupyter-widgets/controls",
          "model_name": "FloatProgressModel",
          "model_module_version": "1.5.0",
          "state": {
            "_dom_classes": [],
            "_model_module": "@jupyter-widgets/controls",
            "_model_module_version": "1.5.0",
            "_model_name": "FloatProgressModel",
            "_view_count": null,
            "_view_module": "@jupyter-widgets/controls",
            "_view_module_version": "1.5.0",
            "_view_name": "ProgressView",
            "bar_style": "",
            "description": "",
            "description_tooltip": null,
            "layout": "IPY_MODEL_746179b4632d4a3e949854ff5627f66f",
            "max": 1,
            "min": 0,
            "orientation": "horizontal",
            "style": "IPY_MODEL_6daca2e339684d5795ec895d6c753dc5",
            "value": 0.6669120599651988
          }
        },
        "2e38d80c4ce543f2aad996ebb79ba547": {
          "model_module": "@jupyter-widgets/base",
          "model_name": "LayoutModel",
          "model_module_version": "1.2.0",
          "state": {
            "_model_module": "@jupyter-widgets/base",
            "_model_module_version": "1.2.0",
            "_model_name": "LayoutModel",
            "_view_count": null,
            "_view_module": "@jupyter-widgets/base",
            "_view_module_version": "1.2.0",
            "_view_name": "LayoutView",
            "align_content": null,
            "align_items": null,
            "align_self": null,
            "border": null,
            "bottom": null,
            "display": null,
            "flex": null,
            "flex_flow": null,
            "grid_area": null,
            "grid_auto_columns": null,
            "grid_auto_flow": null,
            "grid_auto_rows": null,
            "grid_column": null,
            "grid_gap": null,
            "grid_row": null,
            "grid_template_areas": null,
            "grid_template_columns": null,
            "grid_template_rows": null,
            "height": null,
            "justify_content": null,
            "justify_items": null,
            "left": null,
            "margin": null,
            "max_height": null,
            "max_width": null,
            "min_height": null,
            "min_width": null,
            "object_fit": null,
            "object_position": null,
            "order": null,
            "overflow": null,
            "overflow_x": null,
            "overflow_y": null,
            "padding": null,
            "right": null,
            "top": null,
            "visibility": null,
            "width": null
          }
        },
        "f6fb0e622b214a6393cb2946c4850832": {
          "model_module": "@jupyter-widgets/base",
          "model_name": "LayoutModel",
          "model_module_version": "1.2.0",
          "state": {
            "_model_module": "@jupyter-widgets/base",
            "_model_module_version": "1.2.0",
            "_model_name": "LayoutModel",
            "_view_count": null,
            "_view_module": "@jupyter-widgets/base",
            "_view_module_version": "1.2.0",
            "_view_name": "LayoutView",
            "align_content": null,
            "align_items": null,
            "align_self": null,
            "border": null,
            "bottom": null,
            "display": null,
            "flex": null,
            "flex_flow": null,
            "grid_area": null,
            "grid_auto_columns": null,
            "grid_auto_flow": null,
            "grid_auto_rows": null,
            "grid_column": null,
            "grid_gap": null,
            "grid_row": null,
            "grid_template_areas": null,
            "grid_template_columns": null,
            "grid_template_rows": null,
            "height": null,
            "justify_content": null,
            "justify_items": null,
            "left": null,
            "margin": null,
            "max_height": null,
            "max_width": null,
            "min_height": null,
            "min_width": null,
            "object_fit": null,
            "object_position": null,
            "order": null,
            "overflow": null,
            "overflow_x": null,
            "overflow_y": null,
            "padding": null,
            "right": null,
            "top": null,
            "visibility": null,
            "width": null
          }
        },
        "90b163de92a648dabc8ec37c595364ec": {
          "model_module": "@jupyter-widgets/controls",
          "model_name": "DescriptionStyleModel",
          "model_module_version": "1.5.0",
          "state": {
            "_model_module": "@jupyter-widgets/controls",
            "_model_module_version": "1.5.0",
            "_model_name": "DescriptionStyleModel",
            "_view_count": null,
            "_view_module": "@jupyter-widgets/base",
            "_view_module_version": "1.2.0",
            "_view_name": "StyleView",
            "description_width": ""
          }
        },
        "746179b4632d4a3e949854ff5627f66f": {
          "model_module": "@jupyter-widgets/base",
          "model_name": "LayoutModel",
          "model_module_version": "1.2.0",
          "state": {
            "_model_module": "@jupyter-widgets/base",
            "_model_module_version": "1.2.0",
            "_model_name": "LayoutModel",
            "_view_count": null,
            "_view_module": "@jupyter-widgets/base",
            "_view_module_version": "1.2.0",
            "_view_name": "LayoutView",
            "align_content": null,
            "align_items": null,
            "align_self": null,
            "border": null,
            "bottom": null,
            "display": null,
            "flex": null,
            "flex_flow": null,
            "grid_area": null,
            "grid_auto_columns": null,
            "grid_auto_flow": null,
            "grid_auto_rows": null,
            "grid_column": null,
            "grid_gap": null,
            "grid_row": null,
            "grid_template_areas": null,
            "grid_template_columns": null,
            "grid_template_rows": null,
            "height": null,
            "justify_content": null,
            "justify_items": null,
            "left": null,
            "margin": null,
            "max_height": null,
            "max_width": null,
            "min_height": null,
            "min_width": null,
            "object_fit": null,
            "object_position": null,
            "order": null,
            "overflow": null,
            "overflow_x": null,
            "overflow_y": null,
            "padding": null,
            "right": null,
            "top": null,
            "visibility": null,
            "width": null
          }
        },
        "6daca2e339684d5795ec895d6c753dc5": {
          "model_module": "@jupyter-widgets/controls",
          "model_name": "ProgressStyleModel",
          "model_module_version": "1.5.0",
          "state": {
            "_model_module": "@jupyter-widgets/controls",
            "_model_module_version": "1.5.0",
            "_model_name": "ProgressStyleModel",
            "_view_count": null,
            "_view_module": "@jupyter-widgets/base",
            "_view_module_version": "1.2.0",
            "_view_name": "StyleView",
            "bar_color": null,
            "description_width": ""
          }
        },
        "2437c840a2e74309ab46a0b4b6fc78cc": {
          "model_module": "@jupyter-widgets/controls",
          "model_name": "VBoxModel",
          "model_module_version": "1.5.0",
          "state": {
            "_dom_classes": [],
            "_model_module": "@jupyter-widgets/controls",
            "_model_module_version": "1.5.0",
            "_model_name": "VBoxModel",
            "_view_count": null,
            "_view_module": "@jupyter-widgets/controls",
            "_view_module_version": "1.5.0",
            "_view_name": "VBoxView",
            "box_style": "",
            "children": [
              "IPY_MODEL_8d0609f994a94895baf7405dbbb8c733",
              "IPY_MODEL_6c9a482612f2413b9a66fefa6ba6a946"
            ],
            "layout": "IPY_MODEL_cd45aecd43c04f6fbfefed34422a2053"
          }
        },
        "8d0609f994a94895baf7405dbbb8c733": {
          "model_module": "@jupyter-widgets/controls",
          "model_name": "LabelModel",
          "model_module_version": "1.5.0",
          "state": {
            "_dom_classes": [],
            "_model_module": "@jupyter-widgets/controls",
            "_model_module_version": "1.5.0",
            "_model_name": "LabelModel",
            "_view_count": null,
            "_view_module": "@jupyter-widgets/controls",
            "_view_module_version": "1.5.0",
            "_view_name": "LabelView",
            "description": "",
            "description_tooltip": null,
            "layout": "IPY_MODEL_92fb06a27abb460aa2a3c25736e045cb",
            "placeholder": "​",
            "style": "IPY_MODEL_66511f59f5884052b8bc123152fbb15f",
            "value": "0.699 MB of 0.709 MB uploaded (0.000 MB deduped)\r"
          }
        },
        "6c9a482612f2413b9a66fefa6ba6a946": {
          "model_module": "@jupyter-widgets/controls",
          "model_name": "FloatProgressModel",
          "model_module_version": "1.5.0",
          "state": {
            "_dom_classes": [],
            "_model_module": "@jupyter-widgets/controls",
            "_model_module_version": "1.5.0",
            "_model_name": "FloatProgressModel",
            "_view_count": null,
            "_view_module": "@jupyter-widgets/controls",
            "_view_module_version": "1.5.0",
            "_view_name": "ProgressView",
            "bar_style": "",
            "description": "",
            "description_tooltip": null,
            "layout": "IPY_MODEL_16d0edb76b4b453ab583901f196c77c5",
            "max": 1,
            "min": 0,
            "orientation": "horizontal",
            "style": "IPY_MODEL_954fd23a95c944e68dae1b2b7b509b90",
            "value": 0.9857501599746191
          }
        },
        "cd45aecd43c04f6fbfefed34422a2053": {
          "model_module": "@jupyter-widgets/base",
          "model_name": "LayoutModel",
          "model_module_version": "1.2.0",
          "state": {
            "_model_module": "@jupyter-widgets/base",
            "_model_module_version": "1.2.0",
            "_model_name": "LayoutModel",
            "_view_count": null,
            "_view_module": "@jupyter-widgets/base",
            "_view_module_version": "1.2.0",
            "_view_name": "LayoutView",
            "align_content": null,
            "align_items": null,
            "align_self": null,
            "border": null,
            "bottom": null,
            "display": null,
            "flex": null,
            "flex_flow": null,
            "grid_area": null,
            "grid_auto_columns": null,
            "grid_auto_flow": null,
            "grid_auto_rows": null,
            "grid_column": null,
            "grid_gap": null,
            "grid_row": null,
            "grid_template_areas": null,
            "grid_template_columns": null,
            "grid_template_rows": null,
            "height": null,
            "justify_content": null,
            "justify_items": null,
            "left": null,
            "margin": null,
            "max_height": null,
            "max_width": null,
            "min_height": null,
            "min_width": null,
            "object_fit": null,
            "object_position": null,
            "order": null,
            "overflow": null,
            "overflow_x": null,
            "overflow_y": null,
            "padding": null,
            "right": null,
            "top": null,
            "visibility": null,
            "width": null
          }
        },
        "92fb06a27abb460aa2a3c25736e045cb": {
          "model_module": "@jupyter-widgets/base",
          "model_name": "LayoutModel",
          "model_module_version": "1.2.0",
          "state": {
            "_model_module": "@jupyter-widgets/base",
            "_model_module_version": "1.2.0",
            "_model_name": "LayoutModel",
            "_view_count": null,
            "_view_module": "@jupyter-widgets/base",
            "_view_module_version": "1.2.0",
            "_view_name": "LayoutView",
            "align_content": null,
            "align_items": null,
            "align_self": null,
            "border": null,
            "bottom": null,
            "display": null,
            "flex": null,
            "flex_flow": null,
            "grid_area": null,
            "grid_auto_columns": null,
            "grid_auto_flow": null,
            "grid_auto_rows": null,
            "grid_column": null,
            "grid_gap": null,
            "grid_row": null,
            "grid_template_areas": null,
            "grid_template_columns": null,
            "grid_template_rows": null,
            "height": null,
            "justify_content": null,
            "justify_items": null,
            "left": null,
            "margin": null,
            "max_height": null,
            "max_width": null,
            "min_height": null,
            "min_width": null,
            "object_fit": null,
            "object_position": null,
            "order": null,
            "overflow": null,
            "overflow_x": null,
            "overflow_y": null,
            "padding": null,
            "right": null,
            "top": null,
            "visibility": null,
            "width": null
          }
        },
        "66511f59f5884052b8bc123152fbb15f": {
          "model_module": "@jupyter-widgets/controls",
          "model_name": "DescriptionStyleModel",
          "model_module_version": "1.5.0",
          "state": {
            "_model_module": "@jupyter-widgets/controls",
            "_model_module_version": "1.5.0",
            "_model_name": "DescriptionStyleModel",
            "_view_count": null,
            "_view_module": "@jupyter-widgets/base",
            "_view_module_version": "1.2.0",
            "_view_name": "StyleView",
            "description_width": ""
          }
        },
        "16d0edb76b4b453ab583901f196c77c5": {
          "model_module": "@jupyter-widgets/base",
          "model_name": "LayoutModel",
          "model_module_version": "1.2.0",
          "state": {
            "_model_module": "@jupyter-widgets/base",
            "_model_module_version": "1.2.0",
            "_model_name": "LayoutModel",
            "_view_count": null,
            "_view_module": "@jupyter-widgets/base",
            "_view_module_version": "1.2.0",
            "_view_name": "LayoutView",
            "align_content": null,
            "align_items": null,
            "align_self": null,
            "border": null,
            "bottom": null,
            "display": null,
            "flex": null,
            "flex_flow": null,
            "grid_area": null,
            "grid_auto_columns": null,
            "grid_auto_flow": null,
            "grid_auto_rows": null,
            "grid_column": null,
            "grid_gap": null,
            "grid_row": null,
            "grid_template_areas": null,
            "grid_template_columns": null,
            "grid_template_rows": null,
            "height": null,
            "justify_content": null,
            "justify_items": null,
            "left": null,
            "margin": null,
            "max_height": null,
            "max_width": null,
            "min_height": null,
            "min_width": null,
            "object_fit": null,
            "object_position": null,
            "order": null,
            "overflow": null,
            "overflow_x": null,
            "overflow_y": null,
            "padding": null,
            "right": null,
            "top": null,
            "visibility": null,
            "width": null
          }
        },
        "954fd23a95c944e68dae1b2b7b509b90": {
          "model_module": "@jupyter-widgets/controls",
          "model_name": "ProgressStyleModel",
          "model_module_version": "1.5.0",
          "state": {
            "_model_module": "@jupyter-widgets/controls",
            "_model_module_version": "1.5.0",
            "_model_name": "ProgressStyleModel",
            "_view_count": null,
            "_view_module": "@jupyter-widgets/base",
            "_view_module_version": "1.2.0",
            "_view_name": "StyleView",
            "bar_color": null,
            "description_width": ""
          }
        }
      }
    }
  },
  "nbformat": 4,
  "nbformat_minor": 0
}